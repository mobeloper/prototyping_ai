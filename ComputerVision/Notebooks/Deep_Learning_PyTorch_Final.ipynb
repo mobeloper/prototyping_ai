{
 "cells": [
  {
   "cell_type": "markdown",
   "id": "0041176e",
   "metadata": {},
   "source": [
    "### Deep Learning, PyTorch Basics, and Neural Networks"
   ]
  },
  {
   "cell_type": "markdown",
   "id": "8553af30",
   "metadata": {},
   "source": [
    "**Segueway to Deep Learning: Why is Deep Learning a Necessity?**\n",
    "Deep learning is a subset of machine learning that uses artificial neural networks to model and solve complex problems.\n",
    "\n",
    "Traditional algorithms struggle with tasks like image recognition, natural language processing, and autonomous systems.\n",
    "\n",
    "Deep learning, leveraging large datasets and powerful computational tools, has proven to:\n",
    "- Excel in tasks requiring pattern recognition and feature extraction.\n",
    "- Adapt to dynamic data through end-to-end learning.\n",
    "- Achieve state-of-the-art results in areas like vision, speech, and generative modeling.\n",
    "\n",
    "**What You'll Learn in This Notebook**\n",
    "1. Introduction to PyTorch and its architecture.\n",
    "2. How to implement neural networks using PyTorch (e.g., `torch.nn.Module` class).\n",
    "3. Progress from foundational concepts to advanced model building techniques.\n",
    "\n",
    "**Prerequisites**\n",
    "- Python 3.x\n",
    "- PyTorch version >= 1.9\n",
    "- Matplotlib for visualizations\n",
    "Ensure you have the required libraries installed using:\n",
    "```bash\n",
    "pip install torch matplotlib numpy\n",
    "```"
   ]
  },
  {
   "cell_type": "markdown",
   "id": "99a9aea1-f124-4fd2-9a55-5b4caf3bf04d",
   "metadata": {},
   "source": [
    "**Step 1: Import Libraries and Setup**"
   ]
  },
  {
   "cell_type": "code",
   "execution_count": 1,
   "id": "80135434",
   "metadata": {},
   "outputs": [],
   "source": [
    "#!pip install torch matplotlib numpy"
   ]
  },
  {
   "cell_type": "code",
   "execution_count": 2,
   "id": "0831f88d",
   "metadata": {},
   "outputs": [
    {
     "name": "stdout",
     "output_type": "stream",
     "text": [
      "PyTorch Version: 2.3.0\n"
     ]
    }
   ],
   "source": [
    "try:\n",
    "    import torch\n",
    "    import torch.nn as nn\n",
    "    import torch.optim as optim\n",
    "    import torch.nn.functional as F\n",
    "    from torch.utils.data import DataLoader, Dataset\n",
    "    import numpy as np\n",
    "    import matplotlib.pyplot as plt\n",
    "except ModuleNotFoundError as e:\n",
    "    print(\"A required module is missing. Please install the necessary dependencies using the following:\")\n",
    "    print(\"pip install torch matplotlib numpy\")\n",
    "    raise e\n",
    "\n",
    "# Check PyTorch version\n",
    "print(f\"PyTorch Version: {torch.__version__}\")"
   ]
  },
  {
   "cell_type": "markdown",
   "id": "7810d539",
   "metadata": {},
   "source": [
    "**Step 2: Introduction to PyTorch Tensors and Architecture**\n",
    "\n",
    "PyTorch is a deep learning framework known for its dynamic computation graphs and tensor operations.\n",
    "\n",
    "**Tensors**:\n",
    "- Tensors are the core data structures in PyTorch, similar to NumPy arrays but with GPU acceleration.\n",
    "- PyTorch tensors provide flexibility for dynamic graph construction, crucial for model debugging and design."
   ]
  },
  {
   "cell_type": "code",
   "execution_count": 3,
   "id": "9da85a1e",
   "metadata": {},
   "outputs": [
    {
     "name": "stdout",
     "output_type": "stream",
     "text": [
      "Tensor A: tensor([[1, 2],\n",
      "        [3, 4]])\n",
      "Tensor B: tensor([[1., 1.],\n",
      "        [1., 1.]])\n",
      "A + B: tensor([[2., 3.],\n",
      "        [4., 5.]])\n",
      "A * 2: tensor([[2, 4],\n",
      "        [6, 8]])\n",
      "Tensor on GPU: tensor([[1, 2],\n",
      "        [3, 4]])\n"
     ]
    }
   ],
   "source": [
    "# Create tensors\n",
    "tensor_a = torch.tensor([[1, 2], [3, 4]])\n",
    "tensor_b = torch.ones((2, 2))\n",
    "\n",
    "# Basic operations\n",
    "print(\"Tensor A:\", tensor_a)\n",
    "print(\"Tensor B:\", tensor_b)\n",
    "print(\"A + B:\", tensor_a + tensor_b)\n",
    "print(\"A * 2:\", tensor_a * 2)\n",
    "\n",
    "# GPU acceleration (if available)\n",
    "device = torch.device(\"cuda\" if torch.cuda.is_available() else \"cpu\")\n",
    "tensor_gpu = tensor_a.to(device)\n",
    "print(\"Tensor on GPU:\", tensor_gpu)"
   ]
  },
  {
   "cell_type": "markdown",
   "id": "824d9978",
   "metadata": {},
   "source": [
    "**Step 3: Building and Using PyTorch Datasets**\n",
    "\n",
    "**Dataset and DataLoader**:\n",
    "- PyTorch provides classes like `Dataset` and `DataLoader` to efficiently handle data preparation and batching.\n",
    "- These utilities simplify working with large datasets during training."
   ]
  },
  {
   "cell_type": "code",
   "execution_count": 4,
   "id": "73aeaa93",
   "metadata": {},
   "outputs": [
    {
     "name": "stdout",
     "output_type": "stream",
     "text": [
      "Batch Data: tensor([0.5556, 0.5354, 0.9394, 0.4444, 0.2424, 0.9596, 0.8788, 0.0606, 1.0000,\n",
      "        0.8687])\n",
      "Batch Labels: tensor([0.3086, 0.2866, 0.8825, 0.1975, 0.0588, 0.9208, 0.7723, 0.0037, 1.0000,\n",
      "        0.7546])\n"
     ]
    }
   ],
   "source": [
    "# Define a simple custom dataset\n",
    "class CustomDataset(Dataset):\n",
    "    def __init__(self, size=100):\n",
    "        self.data = np.linspace(0, 1, size)\n",
    "        self.labels = self.data ** 2\n",
    "\n",
    "    def __len__(self):\n",
    "        return len(self.data)\n",
    "\n",
    "    def __getitem__(self, idx):\n",
    "        return torch.tensor(self.data[idx], dtype=torch.float32), torch.tensor(self.labels[idx], dtype=torch.float32)\n",
    "\n",
    "# Create dataset and dataloader\n",
    "dataset = CustomDataset(size=100)\n",
    "dataloader = DataLoader(dataset, batch_size=10, shuffle=True)\n",
    "\n",
    "# Display a sample batch\n",
    "for batch_data, batch_labels in dataloader:\n",
    "    print(\"Batch Data:\", batch_data)\n",
    "    print(\"Batch Labels:\", batch_labels)\n",
    "    break"
   ]
  },
  {
   "cell_type": "markdown",
   "id": "4e71fb9b",
   "metadata": {},
   "source": [
    "**Step 4: Implementing a Neural Network in PyTorch**\n",
    "\n",
    "**torch.nn.Module**:\n",
    "- PyTorch's `torch.nn.Module` is the base class for all neural networks.\n",
    "- Layers and forward passes are defined within this class."
   ]
  },
  {
   "cell_type": "code",
   "execution_count": 5,
   "id": "66fe8f80",
   "metadata": {},
   "outputs": [
    {
     "name": "stdout",
     "output_type": "stream",
     "text": [
      "SimpleNN(\n",
      "  (fc1): Linear(in_features=1, out_features=10, bias=True)\n",
      "  (fc2): Linear(in_features=10, out_features=1, bias=True)\n",
      ")\n"
     ]
    }
   ],
   "source": [
    "class SimpleNN(nn.Module):\n",
    "    def __init__(self):\n",
    "        super(SimpleNN, self).__init__()\n",
    "        self.fc1 = nn.Linear(1, 10)\n",
    "        self.fc2 = nn.Linear(10, 1)\n",
    "\n",
    "    def forward(self, x):\n",
    "        x = F.relu(self.fc1(x))\n",
    "        x = self.fc2(x)\n",
    "        return x\n",
    "\n",
    "# Initialize the model\n",
    "model = SimpleNN()\n",
    "print(model)"
   ]
  },
  {
   "cell_type": "markdown",
   "id": "5ef9b789",
   "metadata": {},
   "source": [
    "**Step 5: Training the Neural Network**\n",
    "\n",
    "Training involves:\n",
    "- Forward propagation to calculate predictions.\n",
    "- Calculating the loss to evaluate the prediction's accuracy.\n",
    "- Backpropagation to update weights and minimize loss."
   ]
  },
  {
   "cell_type": "code",
   "execution_count": 6,
   "id": "059585e5",
   "metadata": {},
   "outputs": [
    {
     "name": "stdout",
     "output_type": "stream",
     "text": [
      "Epoch 1/20, Loss: 0.1022\n",
      "Epoch 2/20, Loss: 0.1813\n",
      "Epoch 3/20, Loss: 0.1031\n",
      "Epoch 4/20, Loss: 0.0811\n",
      "Epoch 5/20, Loss: 0.1031\n",
      "Epoch 6/20, Loss: 0.1105\n",
      "Epoch 7/20, Loss: 0.0949\n",
      "Epoch 8/20, Loss: 0.0875\n",
      "Epoch 9/20, Loss: 0.0732\n",
      "Epoch 10/20, Loss: 0.1077\n",
      "Epoch 11/20, Loss: 0.0632\n",
      "Epoch 12/20, Loss: 0.0714\n",
      "Epoch 13/20, Loss: 0.0738\n",
      "Epoch 14/20, Loss: 0.0505\n",
      "Epoch 15/20, Loss: 0.0571\n",
      "Epoch 16/20, Loss: 0.0490\n",
      "Epoch 17/20, Loss: 0.0530\n",
      "Epoch 18/20, Loss: 0.0410\n",
      "Epoch 19/20, Loss: 0.0573\n",
      "Epoch 20/20, Loss: 0.0618\n"
     ]
    },
    {
     "data": {
      "image/png": "[encoded data removed]",
      "text/plain": [
       "<Figure size 800x600 with 1 Axes>"
      ]
     },
     "metadata": {},
     "output_type": "display_data"
    }
   ],
   "source": [
    "# Define loss function and optimizer\n",
    "criterion = nn.MSELoss()\n",
    "optimizer = optim.SGD(model.parameters(), lr=0.01)\n",
    "\n",
    "# Training loop\n",
    "num_epochs = 20\n",
    "losses = []\n",
    "\n",
    "for epoch in range(num_epochs):\n",
    "    for batch_data, batch_labels in dataloader:\n",
    "        # Forward pass\n",
    "        predictions = model(batch_data.unsqueeze(1))\n",
    "        loss = criterion(predictions, batch_labels.unsqueeze(1))\n",
    "\n",
    "        # Backward pass\n",
    "        optimizer.zero_grad()\n",
    "        loss.backward()\n",
    "        optimizer.step()\n",
    "\n",
    "    losses.append(loss.item())\n",
    "    print(f\"Epoch {epoch + 1}/{num_epochs}, Loss: {loss.item():.4f}\")\n",
    "\n",
    "# Plot training loss\n",
    "plt.figure(figsize=(8, 6))\n",
    "plt.plot(losses)\n",
    "plt.title(\"Training Loss\")\n",
    "plt.xlabel(\"Epoch\")\n",
    "plt.ylabel(\"Loss\")\n",
    "plt.show()"
   ]
  },
  {
   "cell_type": "markdown",
   "id": "aa503216",
   "metadata": {},
   "source": [
    "**Step 6: Evaluating the Neural Network**\n",
    "\n",
    "After training, evaluate the model with new data."
   ]
  },
  {
   "cell_type": "code",
   "execution_count": 7,
   "id": "73d7e49c",
   "metadata": {},
   "outputs": [
    {
     "data": {
      "image/png": "[encoded data removed]",
      "text/plain": [
       "<Figure size 800x600 with 1 Axes>"
      ]
     },
     "metadata": {},
     "output_type": "display_data"
    }
   ],
   "source": [
    "x_test = torch.linspace(0, 1, 100).unsqueeze(1)\n",
    "y_test = model(x_test).detach()\n",
    "\n",
    "# Plot the results\n",
    "plt.figure(figsize=(8, 6))\n",
    "plt.scatter(dataset.data, dataset.labels, label=\"True Data\")\n",
    "plt.plot(x_test, y_test, label=\"Model Prediction\", color=\"red\")\n",
    "plt.title(\"Model Evaluation\")\n",
    "plt.xlabel(\"Input\")\n",
    "plt.ylabel(\"Output\")\n",
    "plt.legend()\n",
    "plt.show()"
   ]
  },
  {
   "cell_type": "markdown",
   "id": "49bb339d",
   "metadata": {},
   "source": [
    "**Step 7: Modularizing the Model for Scalability**\n",
    "\n",
    "Modularize models to improve reusability and scalability. Advanced techniques include:"
   ]
  },
  {
   "cell_type": "code",
   "execution_count": 8,
   "id": "9e2052e8",
   "metadata": {},
   "outputs": [
    {
     "name": "stdout",
     "output_type": "stream",
     "text": [
      "ModularNN(\n",
      "  (layers): Sequential(\n",
      "    (0): Linear(in_features=1, out_features=20, bias=True)\n",
      "    (1): ReLU()\n",
      "    (2): Linear(in_features=20, out_features=1, bias=True)\n",
      "  )\n",
      ")\n"
     ]
    }
   ],
   "source": [
    "class ModularNN(nn.Module):\n",
    "    def __init__(self, input_size, hidden_size, output_size):\n",
    "        super(ModularNN, self).__init__()\n",
    "        self.layers = nn.Sequential(\n",
    "            nn.Linear(input_size, hidden_size),\n",
    "            nn.ReLU(),\n",
    "            nn.Linear(hidden_size, output_size)\n",
    "        )\n",
    "\n",
    "    def forward(self, x):\n",
    "        return self.layers(x)\n",
    "\n",
    "# Initialize the modular model\n",
    "modular_model = ModularNN(input_size=1, hidden_size=20, output_size=1)\n",
    "print(modular_model)"
   ]
  },
  {
   "cell_type": "markdown",
   "id": "33835751",
   "metadata": {},
   "source": [
    "**Summary**\n",
    "- PyTorch provides a dynamic and efficient framework for deep learning.\n",
    "- Core components include tensors, datasets, and neural networks implemented using `torch.nn.Module`.\n",
    "- Modularizing your model ensures scalability and maintainability.\n",
    "Continue exploring convolutional neural networks (CNNs) and recurrent neural networks (RNNs) for more advanced tasks."
   ]
  },
  {
   "cell_type": "code",
   "execution_count": null,
   "id": "2de08b11-1fb3-4d51-8cad-5f1b08c39a98",
   "metadata": {},
   "outputs": [],
   "source": []
  }
 ],
 "metadata": {
  "kernelspec": {
   "display_name": "base",
   "language": "python",
   "name": "python3"
  },
  "language_info": {
   "codemirror_mode": {
    "name": "ipython",
    "version": 3
   },
   "file_extension": ".py",
   "mimetype": "text/x-python",
   "name": "python",
   "nbconvert_exporter": "python",
   "pygments_lexer": "ipython3",
   "version": "3.11.7"
  }
 },
 "nbformat": 4,
 "nbformat_minor": 5
}
