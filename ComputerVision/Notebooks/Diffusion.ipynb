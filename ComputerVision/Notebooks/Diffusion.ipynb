{
 "cells": [
  {
   "cell_type": "markdown",
   "id": "6fd4d308",
   "metadata": {},
   "source": [
    "Implementing a simple diffusion model for image generation involves several key steps: \n",
    "\n",
    "* defining the noise schedule, constructing the UNet architecture, \n",
    "* and setting up the training and sampling processes. \n",
    "\n",
    "\n",
    "**1. Prerequisites**\n",
    "\n",
    "Ensure you have the necessary libraries installed:\n",
    "\n",
    "```bash\n",
    "pip install torch torchvision matplotlib\n",
    "```\n",
    "\n",
    "**2. Define the Noise Schedule**\n",
    "\n",
    "The noise schedule determines how noise is added during the forward diffusion process. A common approach is to use a linear schedule.\n"
   ]
  },
  {
   "cell_type": "code",
   "execution_count": 3,
   "id": "8f271b23",
   "metadata": {},
   "outputs": [],
   "source": [
    "import torch\n",
    "import numpy as np\n",
    "\n",
    "def linear_beta_schedule(timesteps, beta_start=0.0001, beta_end=0.02):\n",
    "    return torch.linspace(beta_start, beta_end, timesteps)\n",
    "\n",
    "timesteps = 1000\n",
    "betas = linear_beta_schedule(timesteps)\n",
    "alphas = 1.0 - betas\n",
    "alpha_hats = torch.cumprod(alphas, dim=0)"
   ]
  },
  {
   "cell_type": "markdown",
   "id": "b7c1e7bf",
   "metadata": {},
   "source": [
    "## 3. Construct the UNet Model**\n",
    "\n",
    "The UNet architecture is commonly used in diffusion models for its ability to capture multi-scale features.\n",
    "\n"
   ]
  },
  {
   "cell_type": "code",
   "execution_count": 4,
   "id": "46e806e0",
   "metadata": {},
   "outputs": [],
   "source": [
    "import torch.nn as nn\n",
    "\n",
    "class UNet(nn.Module):\n",
    "    def __init__(self, in_channels, out_channels, features=[64, 128, 256, 512]):\n",
    "        super(UNet, self).__init__()\n",
    "        self.encoder = nn.ModuleList()\n",
    "        self.decoder = nn.ModuleList()\n",
    "        self.pool = nn.MaxPool2d(kernel_size=2, stride=2)\n",
    "\n",
    "        # Encoder\n",
    "        for feature in features:\n",
    "            self.encoder.append(self._block(in_channels, feature))\n",
    "            in_channels = feature\n",
    "\n",
    "        # Decoder\n",
    "        for feature in reversed(features):\n",
    "            self.decoder.append(\n",
    "                nn.ConvTranspose2d(feature * 2, feature, kernel_size=2, stride=2)\n",
    "            )\n",
    "            self.decoder.append(self._block(feature * 2, feature))\n",
    "\n",
    "        self.bottleneck = self._block(features[-1], features[-1] * 2)\n",
    "        self.final_conv = nn.Conv2d(features[0], out_channels, kernel_size=1)\n",
    "\n",
    "    def forward(self, x):\n",
    "        skip_connections = []\n",
    "\n",
    "        for layer in self.encoder:\n",
    "            x = layer(x)\n",
    "            skip_connections.append(x)\n",
    "            x = self.pool(x)\n",
    "\n",
    "        x = self.bottleneck(x)\n",
    "        skip_connections = skip_connections[::-1]\n",
    "\n",
    "        for idx in range(0, len(self.decoder), 2):\n",
    "            x = self.decoder[idx](x)\n",
    "            skip_connection = skip_connections[idx // 2]\n",
    "            if x.shape != skip_connection.shape:\n",
    "                x = torch.nn.functional.interpolate(x, size=skip_connection.shape[2:])\n",
    "            x = torch.cat((skip_connection, x), dim=1)\n",
    "            x = self.decoder[idx + 1](x)\n",
    "\n",
    "        return self.final_conv(x)\n",
    "\n",
    "    def _block(self, in_channels, out_channels):\n",
    "        return nn.Sequential(\n",
    "            nn.Conv2d(in_channels, out_channels, kernel_size=3, padding=1),\n",
    "            nn.ReLU(inplace=True),\n",
    "            nn.Conv2d(out_channels, out_channels, kernel_size=3, padding=1),\n",
    "            nn.ReLU(inplace=True),\n",
    "        )\n"
   ]
  },
  {
   "cell_type": "markdown",
   "id": "874cae45",
   "metadata": {},
   "source": [
    "## 4. Training Loop\n",
    "\n",
    "Train the model to predict the noise added at each timestep.\n"
   ]
  },
  {
   "cell_type": "code",
   "execution_count": 5,
   "id": "7356c931",
   "metadata": {},
   "outputs": [],
   "source": [
    "import torch.optim as optim\n",
    "from torchvision import datasets, transforms\n",
    "from torch.utils.data import DataLoader\n"
   ]
  },
  {
   "cell_type": "code",
   "execution_count": 6,
   "id": "bcb5240f",
   "metadata": {},
   "outputs": [],
   "source": [
    "# Hyperparameters\n",
    "batch_size = 64\n",
    "learning_rate = 1e-4\n",
    "epochs = 100\n",
    "\n",
    "# Data preparation\n",
    "transform = transforms.Compose([\n",
    "    transforms.Resize((64, 64)),\n",
    "    transforms.ToTensor(),\n",
    "    transforms.Normalize((0.5,), (0.5,))\n",
    "])\n",
    "\n",
    "dataset = datasets.MNIST(root='data', train=True, transform=transform, download=True)\n",
    "dataloader = DataLoader(dataset, batch_size=batch_size, shuffle=True)\n"
   ]
  },
  {
   "cell_type": "markdown",
   "id": "7442a473",
   "metadata": {},
   "source": [
    "## Model, optimizer, and loss function\n"
   ]
  },
  {
   "cell_type": "code",
   "execution_count": null,
   "id": "e4c8f360",
   "metadata": {},
   "outputs": [],
   "source": [
    "device = torch.device('cuda' if torch.cuda.is_available() else 'cpu')\n",
    "model = UNet(in_channels=1, out_channels=1).to(device)\n",
    "optimizer = optim.Adam(model.parameters(), lr=learning_rate)\n",
    "criterion = nn.MSELoss()\n",
    "\n",
    "# Training loop\n",
    "for epoch in range(epochs):\n",
    "    for images, _ in dataloader:\n",
    "        images = images.to(device)\n",
    "        t = torch.randint(0, timesteps, (images.size(0),), device=device).long()\n",
    "        noise = torch.randn_like(images)\n",
    "        noisy_images = (\n",
    "            torch.sqrt(alpha_hats[t])[:, None, None, None] * images +\n",
    "            torch.sqrt(1 - alpha_hats[t])[:, None, None, None] * noise\n",
    "        )\n",
    "\n",
    "        optimizer.zero_grad()\n",
    "        noise_pred = model(noisy_images)\n",
    "        loss = criterion(noise_pred, noise)\n",
    "        loss.backward()\n",
    "        optimizer.step()\n",
    "\n",
    "    print(f'Epoch [{epoch+1}/{epochs}], Loss: {loss.item():.4f}')\n"
   ]
  },
  {
   "cell_type": "markdown",
   "id": "10f2a6f9",
   "metadata": {},
   "source": [
    "## 5. Sampling (Image Generation)\n",
    "\n",
    "Generate new images by starting from random noise and iteratively denoising.\n"
   ]
  },
  {
   "cell_type": "code",
   "execution_count": null,
   "id": "95b63a22",
   "metadata": {},
   "outputs": [],
   "source": [
    "import matplotlib.pyplot as plt\n",
    "\n",
    "def sample(model, timesteps, image_size, device):\n",
    "    model.eval()\n",
    "    with torch.no_grad():\n",
    "        x = torch.randn((1, 1, image_size, image_size), device=device)\n",
    "        for t in reversed(range(timesteps)):\n",
    "            z = torch.randn_like(x) if t > 0 else torch.zeros_like(x)\n",
    "            alpha_hat = alpha_hats[t]\n",
    "            beta = betas[t]\n",
    "            x = (\n",
    "                1 / torch.sqrt(alphas[t]) * (\n",
    "                    x - (1 - alphas[t]) / torch.sqrt(1 - alpha_hat) * model(x)\n",
    "                ) + torch.sqrt(beta) * z\n",
    "            )\n",
    "    return x\n"
   ]
  },
  {
   "cell_type": "markdown",
   "id": "8e26522b",
   "metadata": {},
   "source": [
    "## Generate and display an image"
   ]
  },
  {
   "cell_type": "code",
   "execution_count": null,
   "id": "7905a36a",
   "metadata": {},
   "outputs": [],
   "source": [
    "generated_image = sample(model, timesteps, 64, device).cpu().squeeze()\n",
    "plt.imshow(generated_image, cmap='gray')\n",
    "plt.show()\n",
    "\n"
   ]
  }
 ],
 "metadata": {
  "kernelspec": {
   "display_name": "Python (cleanenv)",
   "language": "python",
   "name": "cleanenv"
  },
  "language_info": {
   "codemirror_mode": {
    "name": "ipython",
    "version": 3
   },
   "file_extension": ".py",
   "mimetype": "text/x-python",
   "name": "python",
   "nbconvert_exporter": "python",
   "pygments_lexer": "ipython3",
   "version": "3.12.2"
  }
 },
 "nbformat": 4,
 "nbformat_minor": 5
}
