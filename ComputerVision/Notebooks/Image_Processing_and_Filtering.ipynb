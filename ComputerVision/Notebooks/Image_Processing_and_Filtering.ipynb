{
 "cells": [
  {
   "cell_type": "markdown",
   "id": "7b9a2ff6",
   "metadata": {},
   "source": [
    "# Image Processing and Filtering\n",
    "\n",
    "# Basic Image Manipulation Techniques"
   ]
  },
  {
   "cell_type": "markdown",
   "id": "941f6247",
   "metadata": {},
   "source": [
    "### Introduction\n",
    "Image processing is the practice of applying mathematical operations to images to enhance them or extract meaningful information.\n",
    "Filtering is a common technique used to modify or enhance an image, such as smoothing, sharpening, or detecting edges.\n",
    "In this notebook, we will:\n",
    "1. Introduce image processing and filtering.\n",
    "2. Implement image filtering using OpenCV (`cv2.filter2D`) and scikit-learn.\n",
    "3. Explore common image processing techniques like thresholding and edge detection."
   ]
  },
  {
   "cell_type": "markdown",
   "id": "a0b8b261",
   "metadata": {},
   "source": [
    "### Prerequisites\n",
    "- Python 3.x\n",
    "- OpenCV (`cv2`) library for image processing\n",
    "- NumPy for numerical operations\n",
    "- Matplotlib for visualization\n",
    "\n",
    "\n",
    "**Install necessary libraries using the following command:**\n",
    "\n",
    "pip install opencv-python-headless matplotlib numpy"
   ]
  },
  {
   "cell_type": "markdown",
   "id": "93c5862e-407e-434f-8a10-8dfd0550afc6",
   "metadata": {},
   "source": [
    "**Step 1: Import Libraries and Load Synthetic Image**"
   ]
  },
  {
   "cell_type": "code",
   "execution_count": null,
   "id": "83236e23",
   "metadata": {},
   "outputs": [],
   "source": [
    "try:\n",
    "    import cv2\n",
    "    import numpy as np\n",
    "    import matplotlib.pyplot as plt\n",
    "except ModuleNotFoundError as e:\n",
    "    print(\"A required module is missing. Install the necessary dependencies using the following:\")\n",
    "    print(\"pip install opencv-python-headless matplotlib numpy\")\n",
    "    raise e\n",
    "\n",
    "# Generate a synthetic image (grayscale gradient)\n",
    "image = np.zeros((200, 200, 3), dtype=np.uint8)\n",
    "for i in range(200):\n",
    "    image[i, :] = (i, i, i)  # Gradient from black to white\n",
    "\n",
    "# Convert BGR to RGB for proper display\n",
    "image_rgb = cv2.cvtColor(image, cv2.COLOR_BGR2RGB)\n",
    "\n",
    "# Display the synthetic image\n",
    "plt.figure(figsize=(6, 6))\n",
    "plt.imshow(image_rgb)\n",
    "plt.title(\"Synthetic Image\")\n",
    "plt.axis(\"off\")\n",
    "plt.show()"
   ]
  },
  {
   "cell_type": "markdown",
   "id": "819ed80d-5394-480b-8d2a-4901a3e8b881",
   "metadata": {},
   "source": [
    "**Step 2: Applying Filters Using OpenCV**\n",
    "\n",
    "Filters modify pixel values in an image based on their neighbors. Common filters include:\n",
    "- **Smoothing**: Reduces noise by averaging pixel values.\n",
    "- **Sharpening**: Enhances edges in the image."
   ]
  },
  {
   "cell_type": "code",
   "execution_count": null,
   "id": "c7828c9c",
   "metadata": {},
   "outputs": [],
   "source": [
    "# Define filters\n",
    "kernel_smoothing = np.ones((5, 5), np.float32) / 25  # Averaging filter\n",
    "kernel_sharpening = np.array([[0, -1, 0],\n",
    "                               [-1, 5, -1],\n",
    "                               [0, -1, 0]])\n",
    "\n",
    "# Apply filters\n",
    "smoothed_image = cv2.filter2D(image, -1, kernel_smoothing)\n",
    "sharpened_image = cv2.filter2D(image, -1, kernel_sharpening)\n",
    "\n",
    "# Display the results\n",
    "plt.figure(figsize=(12, 6))\n",
    "\n",
    "plt.subplot(1, 3, 1)\n",
    "plt.imshow(image_rgb)\n",
    "plt.title(\"Original Image\")\n",
    "plt.axis(\"off\")\n",
    "\n",
    "plt.subplot(1, 3, 2)\n",
    "plt.imshow(cv2.cvtColor(smoothed_image, cv2.COLOR_BGR2RGB))\n",
    "plt.title(\"Smoothed Image\")\n",
    "plt.axis(\"off\")\n",
    "\n",
    "plt.subplot(1, 3, 3)\n",
    "plt.imshow(cv2.cvtColor(sharpened_image, cv2.COLOR_BGR2RGB))\n",
    "plt.title(\"Sharpened Image\")\n",
    "plt.axis(\"off\")\n",
    "\n",
    "plt.show()"
   ]
  },
  {
   "cell_type": "markdown",
   "id": "bdb620f1-6811-49e2-bb93-134c978ce667",
   "metadata": {},
   "source": [
    "**Step 3: Image Thresholding**\n",
    "\n",
    "Thresholding is used to segment an image by converting it into a binary format based on pixel intensity.\n",
    "- **Global Thresholding**: A single threshold value is applied.\n",
    "- **Adaptive Thresholding**: Threshold value is calculated for smaller regions of the image."
   ]
  },
  {
   "cell_type": "code",
   "execution_count": null,
   "id": "5a0ec6bd",
   "metadata": {},
   "outputs": [],
   "source": [
    "# Convert to grayscale\n",
    "gray_image = cv2.cvtColor(image, cv2.COLOR_BGR2GRAY)\n",
    "\n",
    "# Apply global thresholding\n",
    "_, binary_thresh = cv2.threshold(gray_image, 127, 255, cv2.THRESH_BINARY)\n",
    "\n",
    "# Apply adaptive thresholding\n",
    "adaptive_thresh = cv2.adaptiveThreshold(\n",
    "    gray_image, 255, cv2.ADAPTIVE_THRESH_GAUSSIAN_C, cv2.THRESH_BINARY, 11, 2\n",
    ")\n",
    "\n",
    "# Display thresholded images\n",
    "plt.figure(figsize=(12, 6))\n",
    "\n",
    "plt.subplot(1, 3, 1)\n",
    "plt.imshow(gray_image, cmap=\"gray\")\n",
    "plt.title(\"Grayscale Image\")\n",
    "plt.axis(\"off\")\n",
    "\n",
    "plt.subplot(1, 3, 2)\n",
    "plt.imshow(binary_thresh, cmap=\"gray\")\n",
    "plt.title(\"Global Thresholding\")\n",
    "plt.axis(\"off\")\n",
    "\n",
    "plt.subplot(1, 3, 3)\n",
    "plt.imshow(adaptive_thresh, cmap=\"gray\")\n",
    "plt.title(\"Adaptive Thresholding\")\n",
    "plt.axis(\"off\")\n",
    "\n",
    "plt.show()"
   ]
  },
  {
   "cell_type": "markdown",
   "id": "1a032d0c-f29d-46bc-a738-2fce8fe520ac",
   "metadata": {},
   "source": [
    "**Step 4: Edge Detection**\n",
    "\n",
    "Edge detection identifies sharp changes in intensity, highlighting boundaries in the image.\n",
    "Common methods include:\n",
    "- **Sobel Operator**: Calculates derivatives in x and y directions.\n",
    "- **Canny Edge Detection**: A multi-step algorithm for detecting edges."
   ]
  },
  {
   "cell_type": "code",
   "execution_count": null,
   "id": "913a438e",
   "metadata": {},
   "outputs": [],
   "source": [
    "# Apply Sobel filters\n",
    "sobel_x = cv2.Sobel(gray_image, cv2.CV_64F, 1, 0, ksize=3)\n",
    "sobel_y = cv2.Sobel(gray_image, cv2.CV_64F, 0, 1, ksize=3)\n",
    "sobel_combined = cv2.magnitude(sobel_x, sobel_y)\n",
    "\n",
    "# Apply Canny edge detection\n",
    "canny_edges = cv2.Canny(gray_image, 100, 200)\n",
    "\n",
    "# Display edge-detected images\n",
    "plt.figure(figsize=(12, 6))\n",
    "\n",
    "plt.subplot(1, 3, 1)\n",
    "plt.imshow(sobel_combined, cmap=\"gray\")\n",
    "plt.title(\"Sobel Edge Detection\")\n",
    "plt.axis(\"off\")\n",
    "\n",
    "plt.subplot(1, 3, 2)\n",
    "plt.imshow(canny_edges, cmap=\"gray\")\n",
    "plt.title(\"Canny Edge Detection\")\n",
    "plt.axis(\"off\")\n",
    "\n",
    "plt.show()"
   ]
  },
  {
   "cell_type": "markdown",
   "id": "b5959632",
   "metadata": {},
   "source": [
    "### Summary\n",
    "In this notebook, we covered:\n",
    "- Basic image manipulation using OpenCV.\n",
    "- Applying filters like smoothing and sharpening.\n",
    "- Thresholding for image segmentation.\n",
    "- Edge detection techniques like Sobel and Canny.\n",
    "Continue exploring more advanced image processing techniques, such as morphological operations and contour detection!"
   ]
  }
 ],
 "metadata": {
  "kernelspec": {
   "display_name": "Python 3 (ipykernel)",
   "language": "python",
   "name": "python3"
  },
  "language_info": {
   "codemirror_mode": {
    "name": "ipython",
    "version": 3
   },
   "file_extension": ".py",
   "mimetype": "text/x-python",
   "name": "python",
   "nbconvert_exporter": "python",
   "pygments_lexer": "ipython3",
   "version": "3.9.12"
  }
 },
 "nbformat": 4,
 "nbformat_minor": 5
}
