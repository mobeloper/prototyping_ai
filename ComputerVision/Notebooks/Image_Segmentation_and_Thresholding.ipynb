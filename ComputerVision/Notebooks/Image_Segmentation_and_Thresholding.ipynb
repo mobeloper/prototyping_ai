{
 "cells": [
  {
   "cell_type": "markdown",
   "id": "4e35fa15",
   "metadata": {},
   "source": [
    "# Image Segmentation and Thresholding with OpenCV\n",
    "\n",
    "### Introduction\n",
    "This notebook teaches you the fundamental concepts of image segmentation and thresholding using OpenCV.\n",
    "\n",
    "**You will learn:**\n",
    "1. How to create and manipulate synthetic grayscale images.\n",
    "2. Simple and advanced thresholding techniques, including Otsu's and adaptive thresholding.\n",
    "3. Legacy image segmentation techniques like Canny edge detection, region growing, and the watershed algorithm.\n",
    "4. Tips for error handling and best practices for real-world image processing.\n",
    "\n",
    "**What is Thresholding?**\n",
    "- Thresholding is one of the simplest and most widely used image segmentation techniques.\n",
    "- It works by converting a grayscale image into a binary image based on a threshold value.\n",
    "- Pixels above a certain intensity level are set to white, while those below are set to black (or vice versa).\n",
    "\n",
    " **Why is Segmentation Important?**\n",
    "- Simplifies images for analysis by removing irrelevant information.\n",
    "- Often serves as a preprocessing step for object detection, OCR, and medical imaging tasks.\n",
    "\n",
    "**Prerequisites**\n",
    "- Python 3.x\n",
    "- OpenCV version >= 4.0\n",
    "- Matplotlib for visualizations\n",
    "\n",
    "**Ensure you have the required libraries installed using:**\n",
    "\n",
    "!pip install opencv-python matplotlib numpy\n",
    "\n",
    "\n"
   ]
  },
  {
   "cell_type": "code",
   "execution_count": null,
   "id": "9e6b3f1f",
   "metadata": {},
   "outputs": [],
   "source": [
    "import cv2\n",
    "import numpy as np\n",
    "import matplotlib.pyplot as plt\n",
    "\n",
    "\n",
    "\n",
    "# Check library versions\n",
    "print(f\"OpenCV Version: {cv2.__version__}\")"
   ]
  },
  {
   "cell_type": "markdown",
   "id": "baeab5f6",
   "metadata": {},
   "source": [
    "### Step 2: Generate a Synthetic Grayscale Image\n",
    "To ensure reproducibility, we will create a synthetic image with simple shapes."
   ]
  },
  {
   "cell_type": "code",
   "execution_count": null,
   "id": "c92c7ca9",
   "metadata": {},
   "outputs": [],
   "source": [
    "# Create a blank grayscale image\n",
    "image = np.zeros((400, 400), dtype=np.uint8)\n",
    "\n",
    "# Add shapes: rectangle, circle, and line\n",
    "cv2.rectangle(image, (50, 50), (150, 150), 127, -1)  # Gray rectangle\n",
    "cv2.circle(image, (300, 200), 50, 200, -1)           # Light gray circle\n",
    "cv2.line(image, (50, 300), (350, 300), 255, 5)       # White line\n",
    "\n",
    "# Display the synthetic image\n",
    "plt.figure(figsize=(6, 6))\n",
    "plt.imshow(image, cmap='gray')\n",
    "plt.title(\"Synthetic Image\")\n",
    "plt.axis(\"off\")\n",
    "plt.show()"
   ]
  },
  {
   "cell_type": "markdown",
   "id": "5ee5076d",
   "metadata": {},
   "source": [
    "### Step 3: Simple Thresholding\n",
    "- Converts pixel values above/below a threshold to white/black.\n",
    "- Easy to use for images with uniform lighting."
   ]
  },
  {
   "cell_type": "code",
   "execution_count": null,
   "id": "f00ec1ad",
   "metadata": {},
   "outputs": [],
   "source": [
    "# Apply basic binary thresholding\n",
    "threshold_value = 127\n",
    "_, binary_thresh = cv2.threshold(image, threshold_value, 255, cv2.THRESH_BINARY)\n",
    "\n",
    "# Display the result\n",
    "plt.figure(figsize=(6, 6))\n",
    "plt.imshow(binary_thresh, cmap='gray')\n",
    "plt.title(f\"Binary Thresholding (Threshold = {threshold_value})\")\n",
    "plt.axis(\"off\")\n",
    "plt.show()"
   ]
  },
  {
   "cell_type": "markdown",
   "id": "f185f992",
   "metadata": {},
   "source": [
    "### Step 4: Otsu's Thresholding\n",
    "- Otsu's method calculates an optimal threshold value automatically.\n",
    "- Useful for images with bimodal intensity distributions (two distinct peaks in intensity histogram)."
   ]
  },
  {
   "cell_type": "code",
   "execution_count": null,
   "id": "c038ed0f",
   "metadata": {},
   "outputs": [],
   "source": [
    "# Apply Otsu's thresholding\n",
    "_, otsu_thresh = cv2.threshold(image, 0, 255, cv2.THRESH_BINARY + cv2.THRESH_OTSU)\n",
    "\n",
    "# Display the result\n",
    "plt.figure(figsize=(6, 6))\n",
    "plt.imshow(otsu_thresh, cmap='gray')\n",
    "plt.title(\"Otsu's Thresholding\")\n",
    "plt.axis(\"off\")\n",
    "plt.show()"
   ]
  },
  {
   "cell_type": "markdown",
   "id": "acc31f87",
   "metadata": {},
   "source": [
    "### Step 5: Adaptive Thresholding\n",
    "- Adaptive thresholding calculates thresholds for smaller regions of the image.\n",
    "- Handles varying lighting conditions effectively.\n",
    "- Two methods: Mean and Gaussian."
   ]
  },
  {
   "cell_type": "code",
   "execution_count": null,
   "id": "71963758",
   "metadata": {},
   "outputs": [],
   "source": [
    "# Apply adaptive thresholding\n",
    "adaptive_thresh = cv2.adaptiveThreshold(image, 255, cv2.ADAPTIVE_THRESH_GAUSSIAN_C, cv2.THRESH_BINARY, 11, 2)\n",
    "\n",
    "# Display the result\n",
    "plt.figure(figsize=(6, 6))\n",
    "plt.imshow(adaptive_thresh, cmap='gray')\n",
    "plt.title(\"Adaptive Thresholding\")\n",
    "plt.axis(\"off\")\n",
    "plt.show()"
   ]
  },
  {
   "cell_type": "markdown",
   "id": "4cbe9879",
   "metadata": {},
   "source": [
    "### Step 6: Edge Detection with Canny\n",
    "- Edge detection identifies object boundaries by detecting sharp intensity changes.\n",
    "- The Canny algorithm uses gradients and requires two thresholds: lower and upper bounds."
   ]
  },
  {
   "cell_type": "code",
   "execution_count": null,
   "id": "0118c6e6",
   "metadata": {},
   "outputs": [],
   "source": [
    "# Apply Canny edge detection\n",
    "edges = cv2.Canny(image, 100, 200)\n",
    "\n",
    "# Display the edges\n",
    "plt.figure(figsize=(6, 6))\n",
    "plt.imshow(edges, cmap='gray')\n",
    "plt.title(\"Canny Edge Detection\")\n",
    "plt.axis(\"off\")\n",
    "plt.show()"
   ]
  },
  {
   "cell_type": "markdown",
   "id": "44056640",
   "metadata": {},
   "source": [
    "### Step 7: Region Growing\n",
    "- Region growing expands from a seed point to segment regions based on pixel similarity."
   ]
  },
  {
   "cell_type": "code",
   "execution_count": null,
   "id": "bcb4d045",
   "metadata": {},
   "outputs": [],
   "source": [
    "# Define a seed point\n",
    "seed_point = (100, 100)\n",
    "\n",
    "# Create a mask for flood fill\n",
    "mask = np.zeros((402, 402), np.uint8)  # Add 2-pixel border for floodFill\n",
    "mask[1:-1, 1:-1] = 0  # Initialize the mask\n",
    "\n",
    "# Perform flood fill for region growing\n",
    "flood_filled = image.copy()\n",
    "cv2.floodFill(flood_filled, mask, seed_point, 255, loDiff=5, upDiff=5)\n",
    "\n",
    "# Display the region-grown image\n",
    "plt.figure(figsize=(6, 6))\n",
    "plt.imshow(flood_filled, cmap='gray')\n",
    "plt.title(\"Region Growing\")\n",
    "plt.axis(\"off\")\n",
    "plt.show()"
   ]
  },
  {
   "cell_type": "markdown",
   "id": "4af2adb2",
   "metadata": {},
   "source": [
    "### Step 8: Watershed Algorithm\n",
    "- The watershed algorithm segments overlapping objects by treating the image as a topographic surface."
   ]
  },
  {
   "cell_type": "code",
   "execution_count": null,
   "id": "8aab22bc",
   "metadata": {},
   "outputs": [],
   "source": [
    "# Convert to color for watershed\n",
    "color_image = cv2.cvtColor(image, cv2.COLOR_GRAY2BGR)\n",
    "\n",
    "# Create markers for watershed\n",
    "markers = np.zeros_like(image, dtype=np.int32)\n",
    "markers[50:150, 50:150] = 1  # Marker for rectangle\n",
    "markers[250:350, 150:250] = 2  # Marker for circle\n",
    "\n",
    "# Apply the watershed algorithm\n",
    "cv2.watershed(color_image, markers)\n",
    "\n",
    "# Highlight boundaries\n",
    "color_image[markers == -1] = [0, 0, 255]\n",
    "\n",
    "# Display the watershed result\n",
    "plt.figure(figsize=(6, 6))\n",
    "plt.imshow(color_image)\n",
    "plt.title(\"Watershed Algorithm\")\n",
    "plt.axis(\"off\")\n",
    "plt.show()"
   ]
  },
  {
   "cell_type": "markdown",
   "id": "3e00988e",
   "metadata": {},
   "source": [
    "### Step 9: Comparison of Techniques\n",
    "Let's compare results for each segmentation method.\n",
    "\n",
    "**Insights:**\n",
    "- Binary Thresholding is fast but requires manual thresholding.\n",
    "- Otsu’s Thresholding automates this but needs bimodal distributions.\n",
    "- Adaptive thresholding works for dynamic lighting.\n",
    "- Canny Edge Detection is great for boundary detection.\n",
    "- Region growing and Watershed excel at connected objects."
   ]
  },
  {
   "cell_type": "code",
   "execution_count": null,
   "id": "39cc8298",
   "metadata": {},
   "outputs": [],
   "source": [
    "# Comparison visualizations\n",
    "plt.figure(figsize=(15, 10))\n",
    "plt.subplot(2, 3, 1)\n",
    "plt.imshow(image, cmap='gray')\n",
    "plt.title(\"Original\")\n",
    "plt.axis(\"off\")\n",
    "\n",
    "plt.subplot(2, 3, 2)\n",
    "plt.imshow(binary_thresh, cmap='gray')\n",
    "plt.title(\"Binary\")\n",
    "plt.axis(\"off\")\n",
    "\n",
    "plt.subplot(2, 3, 3)\n",
    "plt.imshow(otsu_thresh, cmap='gray')\n",
    "plt.title(\"Otsu\")\n",
    "plt.axis(\"off\")\n",
    "\n",
    "plt.subplot(2, 3, 4)\n",
    "plt.imshow(adaptive_thresh, cmap='gray')\n",
    "plt.title(\"Adaptive\")\n",
    "plt.axis(\"off\")\n",
    "\n",
    "plt.subplot(2, 3, 5)\n",
    "plt.imshow(edges, cmap='gray')\n",
    "plt.title(\"Canny\")\n",
    "plt.axis(\"off\")\n",
    "\n",
    "plt.subplot(2, 3, 6)\n",
    "plt.imshow(color_image)\n",
    "plt.title(\"Watershed\")\n",
    "plt.axis(\"off\")\n",
    "\n",
    "plt.show()"
   ]
  },
  {
   "cell_type": "markdown",
   "id": "a24586f0-748a-43bf-be4b-6585f326c0ec",
   "metadata": {},
   "source": [
    "**Error Handling and Tips**\n",
    "- Ensure the input image is in grayscale before applying thresholding or edge detection.\n",
    "- Experiment with parameters (e.g., thresholds, block sizes, etc.) for optimal results.\n",
    "- For the watershed algorithm, carefully define markers to achieve meaningful segmentation.\n",
    "\n",
    "**Summary**\n",
    "- Thresholding is a simple yet effective segmentation technique.\n",
    "- Advanced methods like edge detection, region growing, and the watershed algorithm provide additional flexibility.\n",
    "- Use these methods based on the specific requirements of your application.\n"
   ]
  },
  {
   "cell_type": "code",
   "execution_count": null,
   "id": "17deb565-9c75-4376-a17d-05d927701447",
   "metadata": {},
   "outputs": [],
   "source": []
  }
 ],
 "metadata": {
  "kernelspec": {
   "display_name": "Python 3 (ipykernel)",
   "language": "python",
   "name": "python3"
  },
  "language_info": {
   "codemirror_mode": {
    "name": "ipython",
    "version": 3
   },
   "file_extension": ".py",
   "mimetype": "text/x-python",
   "name": "python",
   "nbconvert_exporter": "python",
   "pygments_lexer": "ipython3",
   "version": "3.9.12"
  }
 },
 "nbformat": 4,
 "nbformat_minor": 5
}
