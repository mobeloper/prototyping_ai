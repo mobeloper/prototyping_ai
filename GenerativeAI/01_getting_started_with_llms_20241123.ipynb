{
  "cells": [
    {
      "cell_type": "markdown",
      "metadata": {
        "id": "view-in-github",
        "colab_type": "text"
      },
      "source": [
        "<a href=\"https://colab.research.google.com/github/mgfrantz/CTME-llm-lecture-resources/blob/main/prototyping_ai/01_getting_started_with_llms_20241123.ipynb\" target=\"_parent\"><img src=\"https://colab.research.google.com/assets/colab-badge.svg\" alt=\"Open In Colab\"/></a>"
      ]
    },
    {
      "cell_type": "markdown",
      "metadata": {
        "id": "4HDOGmN6OmF0"
      },
      "source": [
        "# Making our first LLM API call\n",
        "\n"
      ]
    },
    {
      "cell_type": "markdown",
      "metadata": {
        "id": "uZDWgZfZQGcU"
      },
      "source": [
        "## Setup"
      ]
    },
    {
      "cell_type": "code",
      "execution_count": 1,
      "metadata": {
        "id": "JYQyB8QUIhOm",
        "colab": {
          "base_uri": "https://localhost:8080/"
        },
        "outputId": "cee95c64-5d9e-4723-e018-4379b31ea515"
      },
      "outputs": [
        {
          "output_type": "stream",
          "name": "stdout",
          "text": [
            "Colab notebook detected. Installing dependencies...\n"
          ]
        }
      ],
      "source": [
        "try:\n",
        "    from google.colab import userdata\n",
        "    print(\"Colab notebook detected. Installing dependencies...\")\n",
        "    !pip install -Uqqqq \\\n",
        "        openai \\\n",
        "        chromadb \\\n",
        "        sentence-transformers \\\n",
        "        llama-index \\\n",
        "        llama-index-llms-openai \\\n",
        "        gradio \\\n",
        "        datasets \\\n",
        "        dspy-ai\n",
        "\n",
        "except:\n",
        "    print(\"Not in Colab. Skipping installation.\")\n"
      ]
    },
    {
      "cell_type": "code",
      "execution_count": 2,
      "metadata": {
        "id": "z7bXGANBPZk-"
      },
      "outputs": [],
      "source": [
        "# Basic imports\n",
        "from rich import print\n",
        "import gradio as gr\n",
        "import numpy as np\n",
        "import os\n",
        "import matplotlib.pyplot as plt\n",
        "from ipywidgets import interact\n",
        "from sklearn.metrics import ConfusionMatrixDisplay, confusion_matrix, classification_report, cohen_kappa_score, mean_absolute_error\n",
        "\n",
        "# OpenAI\n",
        "from openai import OpenAI"
      ]
    },
    {
      "cell_type": "markdown",
      "metadata": {
        "id": "XfqCJ9bmLDG2"
      },
      "source": [
        "## Setting our `OPENAI_API_KEY` environment variable\n",
        "\n",
        "When we use any LLM provider like OpenAI, Anthropic, or Google, we need some way to tell them who we are making the request.\n",
        "Today, we'll be using OpenAI.\n",
        "The most straightforward way to provide this key is through the environment variable `OPENAI_API_KEY`.\n",
        "The OpenAI python client looks for this environment variable to use in authentication.\n",
        "\n",
        "In the cell below, we load it from the Google Colab secrets manager on the left 👈.\n",
        "Before runnign this code, make sure your API key is set as shown below:\n",
        "\n",
        "![](https://github.com/mgfrantz/CTME-llm-lecture-resources/blob/main/images/colabSecrets.png?raw=true)"
      ]
    },
    {
      "cell_type": "code",
      "execution_count": 3,
      "metadata": {
        "id": "N2nPVwzrIpPQ"
      },
      "outputs": [],
      "source": [
        "# Set the OPENAI_API_KEY environment variable\n",
        "try:\n",
        "    from google.colab import userdata # import the environment variables from secrets\n",
        "    os.environ['OPENAI_API_KEY'] = userdata.get('OPENAI_API_KEY') # Set the OPENAI_API_KEY environmnet variable\n",
        "except:\n",
        "    import dotenv\n",
        "    env_loaded = dotenv.load_dotenv('../.env')\n",
        "    if not env_loaded:\n",
        "        raise ValueError(\"Failed to load environment variables from .env file.\")\n",
        "    else:\n",
        "        print(\"Loaded environment variables from .env file.\")\n"
      ]
    },
    {
      "cell_type": "markdown",
      "metadata": {
        "id": "e-_7WDTwPyZo"
      },
      "source": [
        "## Under the hood: `curl`\n",
        "\n",
        "Almost all of the interactions we will have with LLMs are through API calls.\n",
        "Below is one of the most low-level ways we can call an LLM, using the `curl` command.\n",
        "This command gives us a lot of information about how the API request is structured.\n",
        "We pass a JSON with an authorization header containing our `OPENAI_API_KEY`.\n",
        "We also pass the model we want to call, the chat messages, and hyperparameters such as `temperature` that help control how text is generated."
      ]
    },
    {
      "cell_type": "code",
      "execution_count": 4,
      "metadata": {
        "id": "s47r5FtcOyLG",
        "colab": {
          "base_uri": "https://localhost:8080/"
        },
        "outputId": "196b6e72-be67-4251-a7fe-5f5edfebff8b"
      },
      "outputs": [
        {
          "output_type": "stream",
          "name": "stdout",
          "text": [
            "  % Total    % Received % Xferd  Average Speed   Time    Time     Time  Current\n",
            "                                 Dload  Upload   Total   Spent    Left  Speed\n",
            "100   901  100   765  100   136   1283    228 --:--:-- --:--:-- --:--:--  1514\n",
            "{\n",
            "    \"id\": \"chatcmpl-AWtENdhUiX9UPGiHJsIZ3gqV89vu7\",\n",
            "    \"object\": \"chat.completion\",\n",
            "    \"created\": 1732402167,\n",
            "    \"model\": \"gpt-4o-mini-2024-07-18\",\n",
            "    \"choices\": [\n",
            "        {\n",
            "            \"index\": 0,\n",
            "            \"message\": {\n",
            "                \"role\": \"assistant\",\n",
            "                \"content\": \"This is a test!\",\n",
            "                \"refusal\": null\n",
            "            },\n",
            "            \"logprobs\": null,\n",
            "            \"finish_reason\": \"stop\"\n",
            "        }\n",
            "    ],\n",
            "    \"usage\": {\n",
            "        \"prompt_tokens\": 14,\n",
            "        \"completion_tokens\": 5,\n",
            "        \"total_tokens\": 19,\n",
            "        \"prompt_tokens_details\": {\n",
            "            \"cached_tokens\": 0,\n",
            "            \"audio_tokens\": 0\n",
            "        },\n",
            "        \"completion_tokens_details\": {\n",
            "            \"reasoning_tokens\": 0,\n",
            "            \"audio_tokens\": 0,\n",
            "            \"accepted_prediction_tokens\": 0,\n",
            "            \"rejected_prediction_tokens\": 0\n",
            "        }\n",
            "    },\n",
            "    \"system_fingerprint\": \"fp_0705bf87c0\"\n",
            "}\n"
          ]
        }
      ],
      "source": [
        "# Make the API call to OpenAI and store the response in test.json\n",
        "!curl https://api.openai.com/v1/chat/completions \\\n",
        "  -H \"Content-Type: application/json\" \\\n",
        "  -H \"Authorization: Bearer $OPENAI_API_KEY\" \\\n",
        "  -d '{ \\\n",
        "     \"model\": \"gpt-4o-mini\", \\\n",
        "     \"messages\": [{\"role\": \"user\", \"content\": \"Say: This is a test!\"}], \\\n",
        "     \"temperature\": 0.7 \\\n",
        "    }' > test.json\n",
        "# Show the output of test.json formatted nicely\n",
        "!cat test.json | python -m json.tool"
      ]
    },
    {
      "cell_type": "markdown",
      "metadata": {
        "id": "DPRgn2_IP3w6"
      },
      "source": [
        "## Using the OpenAI Python client\n",
        "\n",
        "While the `curl` command shows us how the API call is made, it's not something that we can easily use in more complex applications.\n",
        "One thing we can use is the OpenAI python client.\n",
        "We can do the exact same thing, but the API call is a bit more abstracted from the developer.\n",
        "Let's see how to perform the exact same API call using the OpenAI clinet 👇:"
      ]
    },
    {
      "cell_type": "code",
      "execution_count": 5,
      "metadata": {
        "id": "fPRvearuIz86"
      },
      "outputs": [],
      "source": [
        "client = OpenAI() # Create the OpenAI client"
      ]
    },
    {
      "cell_type": "code",
      "execution_count": 6,
      "metadata": {
        "id": "vYbGuKC8I3na"
      },
      "outputs": [],
      "source": [
        "# Create the messages (same as above)\n",
        "messages = [\n",
        "    {\"role\": \"user\", \"content\": \"Say: This is a test!\"},\n",
        "]\n",
        "\n",
        "# Make the API call\n",
        "chat_completion = client.chat.completions.create(\n",
        "    model=\"gpt-4o-mini\",\n",
        "    messages=messages,\n",
        "    # stream=True\n",
        ")"
      ]
    },
    {
      "cell_type": "code",
      "execution_count": 7,
      "metadata": {
        "id": "2gd5AitgI9kU",
        "colab": {
          "base_uri": "https://localhost:8080/",
          "height": 577
        },
        "outputId": "87acc585-58db-4d27-c6ec-18dc51e19bf4"
      },
      "outputs": [
        {
          "output_type": "display_data",
          "data": {
            "text/plain": [
              "\u001b[1;35mChatCompletion\u001b[0m\u001b[1m(\u001b[0m\n",
              "    \u001b[33mid\u001b[0m=\u001b[32m'chatcmpl-AWtEOs1VlPVgHYRyk7YwHCzXRoBIZ'\u001b[0m,\n",
              "    \u001b[33mchoices\u001b[0m=\u001b[1m[\u001b[0m\n",
              "        \u001b[1;35mChoice\u001b[0m\u001b[1m(\u001b[0m\n",
              "            \u001b[33mfinish_reason\u001b[0m=\u001b[32m'stop'\u001b[0m,\n",
              "            \u001b[33mindex\u001b[0m=\u001b[1;36m0\u001b[0m,\n",
              "            \u001b[33mlogprobs\u001b[0m=\u001b[3;35mNone\u001b[0m,\n",
              "            \u001b[33mmessage\u001b[0m=\u001b[1;35mChatCompletionMessage\u001b[0m\u001b[1m(\u001b[0m\n",
              "                \u001b[33mcontent\u001b[0m=\u001b[32m'This is a test!'\u001b[0m,\n",
              "                \u001b[33mrefusal\u001b[0m=\u001b[3;35mNone\u001b[0m,\n",
              "                \u001b[33mrole\u001b[0m=\u001b[32m'assistant'\u001b[0m,\n",
              "                \u001b[33maudio\u001b[0m=\u001b[3;35mNone\u001b[0m,\n",
              "                \u001b[33mfunction_call\u001b[0m=\u001b[3;35mNone\u001b[0m,\n",
              "                \u001b[33mtool_calls\u001b[0m=\u001b[3;35mNone\u001b[0m\n",
              "            \u001b[1m)\u001b[0m\n",
              "        \u001b[1m)\u001b[0m\n",
              "    \u001b[1m]\u001b[0m,\n",
              "    \u001b[33mcreated\u001b[0m=\u001b[1;36m1732402168\u001b[0m,\n",
              "    \u001b[33mmodel\u001b[0m=\u001b[32m'gpt-4o-mini-2024-07-18'\u001b[0m,\n",
              "    \u001b[33mobject\u001b[0m=\u001b[32m'chat.completion'\u001b[0m,\n",
              "    \u001b[33mservice_tier\u001b[0m=\u001b[3;35mNone\u001b[0m,\n",
              "    \u001b[33msystem_fingerprint\u001b[0m=\u001b[32m'fp_0705bf87c0'\u001b[0m,\n",
              "    \u001b[33musage\u001b[0m=\u001b[1;35mCompletionUsage\u001b[0m\u001b[1m(\u001b[0m\n",
              "        \u001b[33mcompletion_tokens\u001b[0m=\u001b[1;36m5\u001b[0m,\n",
              "        \u001b[33mprompt_tokens\u001b[0m=\u001b[1;36m14\u001b[0m,\n",
              "        \u001b[33mtotal_tokens\u001b[0m=\u001b[1;36m19\u001b[0m,\n",
              "        \u001b[33mcompletion_tokens_details\u001b[0m=\u001b[1;35mCompletionTokensDetails\u001b[0m\u001b[1m(\u001b[0m\n",
              "            \u001b[33maccepted_prediction_tokens\u001b[0m=\u001b[1;36m0\u001b[0m,\n",
              "            \u001b[33maudio_tokens\u001b[0m=\u001b[1;36m0\u001b[0m,\n",
              "            \u001b[33mreasoning_tokens\u001b[0m=\u001b[1;36m0\u001b[0m,\n",
              "            \u001b[33mrejected_prediction_tokens\u001b[0m=\u001b[1;36m0\u001b[0m\n",
              "        \u001b[1m)\u001b[0m,\n",
              "        \u001b[33mprompt_tokens_details\u001b[0m=\u001b[1;35mPromptTokensDetails\u001b[0m\u001b[1m(\u001b[0m\u001b[33maudio_tokens\u001b[0m=\u001b[1;36m0\u001b[0m, \u001b[33mcached_tokens\u001b[0m=\u001b[1;36m0\u001b[0m\u001b[1m)\u001b[0m\n",
              "    \u001b[1m)\u001b[0m\n",
              "\u001b[1m)\u001b[0m\n"
            ],
            "text/html": [
              "<pre style=\"white-space:pre;overflow-x:auto;line-height:normal;font-family:Menlo,'DejaVu Sans Mono',consolas,'Courier New',monospace\"><span style=\"color: #800080; text-decoration-color: #800080; font-weight: bold\">ChatCompletion</span><span style=\"font-weight: bold\">(</span>\n",
              "    <span style=\"color: #808000; text-decoration-color: #808000\">id</span>=<span style=\"color: #008000; text-decoration-color: #008000\">'chatcmpl-AWtEOs1VlPVgHYRyk7YwHCzXRoBIZ'</span>,\n",
              "    <span style=\"color: #808000; text-decoration-color: #808000\">choices</span>=<span style=\"font-weight: bold\">[</span>\n",
              "        <span style=\"color: #800080; text-decoration-color: #800080; font-weight: bold\">Choice</span><span style=\"font-weight: bold\">(</span>\n",
              "            <span style=\"color: #808000; text-decoration-color: #808000\">finish_reason</span>=<span style=\"color: #008000; text-decoration-color: #008000\">'stop'</span>,\n",
              "            <span style=\"color: #808000; text-decoration-color: #808000\">index</span>=<span style=\"color: #008080; text-decoration-color: #008080; font-weight: bold\">0</span>,\n",
              "            <span style=\"color: #808000; text-decoration-color: #808000\">logprobs</span>=<span style=\"color: #800080; text-decoration-color: #800080; font-style: italic\">None</span>,\n",
              "            <span style=\"color: #808000; text-decoration-color: #808000\">message</span>=<span style=\"color: #800080; text-decoration-color: #800080; font-weight: bold\">ChatCompletionMessage</span><span style=\"font-weight: bold\">(</span>\n",
              "                <span style=\"color: #808000; text-decoration-color: #808000\">content</span>=<span style=\"color: #008000; text-decoration-color: #008000\">'This is a test!'</span>,\n",
              "                <span style=\"color: #808000; text-decoration-color: #808000\">refusal</span>=<span style=\"color: #800080; text-decoration-color: #800080; font-style: italic\">None</span>,\n",
              "                <span style=\"color: #808000; text-decoration-color: #808000\">role</span>=<span style=\"color: #008000; text-decoration-color: #008000\">'assistant'</span>,\n",
              "                <span style=\"color: #808000; text-decoration-color: #808000\">audio</span>=<span style=\"color: #800080; text-decoration-color: #800080; font-style: italic\">None</span>,\n",
              "                <span style=\"color: #808000; text-decoration-color: #808000\">function_call</span>=<span style=\"color: #800080; text-decoration-color: #800080; font-style: italic\">None</span>,\n",
              "                <span style=\"color: #808000; text-decoration-color: #808000\">tool_calls</span>=<span style=\"color: #800080; text-decoration-color: #800080; font-style: italic\">None</span>\n",
              "            <span style=\"font-weight: bold\">)</span>\n",
              "        <span style=\"font-weight: bold\">)</span>\n",
              "    <span style=\"font-weight: bold\">]</span>,\n",
              "    <span style=\"color: #808000; text-decoration-color: #808000\">created</span>=<span style=\"color: #008080; text-decoration-color: #008080; font-weight: bold\">1732402168</span>,\n",
              "    <span style=\"color: #808000; text-decoration-color: #808000\">model</span>=<span style=\"color: #008000; text-decoration-color: #008000\">'gpt-4o-mini-2024-07-18'</span>,\n",
              "    <span style=\"color: #808000; text-decoration-color: #808000\">object</span>=<span style=\"color: #008000; text-decoration-color: #008000\">'chat.completion'</span>,\n",
              "    <span style=\"color: #808000; text-decoration-color: #808000\">service_tier</span>=<span style=\"color: #800080; text-decoration-color: #800080; font-style: italic\">None</span>,\n",
              "    <span style=\"color: #808000; text-decoration-color: #808000\">system_fingerprint</span>=<span style=\"color: #008000; text-decoration-color: #008000\">'fp_0705bf87c0'</span>,\n",
              "    <span style=\"color: #808000; text-decoration-color: #808000\">usage</span>=<span style=\"color: #800080; text-decoration-color: #800080; font-weight: bold\">CompletionUsage</span><span style=\"font-weight: bold\">(</span>\n",
              "        <span style=\"color: #808000; text-decoration-color: #808000\">completion_tokens</span>=<span style=\"color: #008080; text-decoration-color: #008080; font-weight: bold\">5</span>,\n",
              "        <span style=\"color: #808000; text-decoration-color: #808000\">prompt_tokens</span>=<span style=\"color: #008080; text-decoration-color: #008080; font-weight: bold\">14</span>,\n",
              "        <span style=\"color: #808000; text-decoration-color: #808000\">total_tokens</span>=<span style=\"color: #008080; text-decoration-color: #008080; font-weight: bold\">19</span>,\n",
              "        <span style=\"color: #808000; text-decoration-color: #808000\">completion_tokens_details</span>=<span style=\"color: #800080; text-decoration-color: #800080; font-weight: bold\">CompletionTokensDetails</span><span style=\"font-weight: bold\">(</span>\n",
              "            <span style=\"color: #808000; text-decoration-color: #808000\">accepted_prediction_tokens</span>=<span style=\"color: #008080; text-decoration-color: #008080; font-weight: bold\">0</span>,\n",
              "            <span style=\"color: #808000; text-decoration-color: #808000\">audio_tokens</span>=<span style=\"color: #008080; text-decoration-color: #008080; font-weight: bold\">0</span>,\n",
              "            <span style=\"color: #808000; text-decoration-color: #808000\">reasoning_tokens</span>=<span style=\"color: #008080; text-decoration-color: #008080; font-weight: bold\">0</span>,\n",
              "            <span style=\"color: #808000; text-decoration-color: #808000\">rejected_prediction_tokens</span>=<span style=\"color: #008080; text-decoration-color: #008080; font-weight: bold\">0</span>\n",
              "        <span style=\"font-weight: bold\">)</span>,\n",
              "        <span style=\"color: #808000; text-decoration-color: #808000\">prompt_tokens_details</span>=<span style=\"color: #800080; text-decoration-color: #800080; font-weight: bold\">PromptTokensDetails</span><span style=\"font-weight: bold\">(</span><span style=\"color: #808000; text-decoration-color: #808000\">audio_tokens</span>=<span style=\"color: #008080; text-decoration-color: #008080; font-weight: bold\">0</span>, <span style=\"color: #808000; text-decoration-color: #808000\">cached_tokens</span>=<span style=\"color: #008080; text-decoration-color: #008080; font-weight: bold\">0</span><span style=\"font-weight: bold\">)</span>\n",
              "    <span style=\"font-weight: bold\">)</span>\n",
              "<span style=\"font-weight: bold\">)</span>\n",
              "</pre>\n"
            ]
          },
          "metadata": {}
        }
      ],
      "source": [
        "# Display the output\n",
        "print(chat_completion)"
      ]
    },
    {
      "cell_type": "markdown",
      "metadata": {
        "id": "yJ0qYsS0Y4DZ"
      },
      "source": [
        "# Build our first chatbots\n",
        "\n",
        "In this section, we'll go through several demos.\n",
        "By the end of this section, you should be able to:\n",
        "- Build a basic chatbot with the popular `gradio` Python library\n",
        "- Understand key hyperparameters like `temperature`, `top_p`, and `top_k`\n",
        "- Build an advanced chatbot with hyperparameter controls"
      ]
    },
    {
      "cell_type": "markdown",
      "metadata": {
        "id": "JTQ-yAmFQVOM"
      },
      "source": [
        "## Exercise: Building a basic chatbot with `gradio`\n",
        "\n",
        "User interfaces (UIs) are a great way to demo work in AI.\n",
        "In the next several lessons, we will be using the `gradio` framework to demonstrate our growing skillset.\n",
        "In this exercise, we will get a gentle introduction to creating chatbots with `gradio`.\n",
        "\n",
        "Please follow the [ChatInterface](https://www.gradio.app/docs/gradio/chatinterface) documentation and the [Creating a chatbot fast](https://www.gradio.app/guides/creating-a-chatbot-fast) guide to make your first AI chatbot.\n",
        "Your chatbot must:\n",
        "- respond to messages\n",
        "\n",
        "If this too easy, try to:\n",
        "- add a system prompt\n",
        "- use `stream=True` in your chat function"
      ]
    },
    {
      "cell_type": "code",
      "source": [
        "from time import sleep\n",
        "import numpy as np"
      ],
      "metadata": {
        "id": "j1t9_DAgRQio"
      },
      "execution_count": 8,
      "outputs": []
    },
    {
      "cell_type": "code",
      "execution_count": 9,
      "metadata": {
        "id": "zy5lPNy9R7ur"
      },
      "outputs": [],
      "source": [
        "def chat(message:str, history:list):\n",
        "    if len(history) == 0:\n",
        "        history.append({\n",
        "            \"role\": \"system\",\n",
        "            \"content\": \"You are a helpful assistant that speaks like a cowboy.\"\n",
        "        })\n",
        "    history.append({\n",
        "        \"role\": \"user\",\n",
        "        \"content\": message\n",
        "    })\n",
        "    response = client.chat.completions.create(\n",
        "        model='gpt-4o-mini',\n",
        "        messages=history,\n",
        "        stream = True\n",
        "    )\n",
        "    resp = \"\"\n",
        "    for chunk in response:\n",
        "        sleep(np.random.random())\n",
        "        resp += chunk.choices[0].delta.content or \"\"\n",
        "        yield resp"
      ]
    },
    {
      "cell_type": "code",
      "source": [
        "gen = chat('hello!', [])"
      ],
      "metadata": {
        "id": "mi5kyXqQR77t"
      },
      "execution_count": 10,
      "outputs": []
    },
    {
      "cell_type": "code",
      "source": [
        "list(gen)"
      ],
      "metadata": {
        "colab": {
          "base_uri": "https://localhost:8080/"
        },
        "id": "TcAGxUY7SB3b",
        "outputId": "9c83176b-688b-4a67-f491-471930d957ee"
      },
      "execution_count": 11,
      "outputs": [
        {
          "output_type": "execute_result",
          "data": {
            "text/plain": [
              "['',\n",
              " 'Howdy',\n",
              " 'Howdy,',\n",
              " 'Howdy, partner',\n",
              " 'Howdy, partner!',\n",
              " 'Howdy, partner! What',\n",
              " 'Howdy, partner! What brings',\n",
              " 'Howdy, partner! What brings ya',\n",
              " \"Howdy, partner! What brings ya '\",\n",
              " \"Howdy, partner! What brings ya 'round\",\n",
              " \"Howdy, partner! What brings ya 'round these\",\n",
              " \"Howdy, partner! What brings ya 'round these parts\",\n",
              " \"Howdy, partner! What brings ya 'round these parts?\",\n",
              " \"Howdy, partner! What brings ya 'round these parts?\"]"
            ]
          },
          "metadata": {},
          "execution_count": 11
        }
      ]
    },
    {
      "cell_type": "code",
      "source": [
        "demo = gr.ChatInterface(fn=chat, type=\"messages\")\n",
        "demo.launch(debug=False)"
      ],
      "metadata": {
        "colab": {
          "base_uri": "https://localhost:8080/",
          "height": 0
        },
        "id": "uW1K_kNMNryw",
        "outputId": "677d589c-7359-42f8-fb9b-ae2d5fa0ae6a"
      },
      "execution_count": 12,
      "outputs": [
        {
          "output_type": "stream",
          "name": "stdout",
          "text": [
            "Running Gradio in a Colab notebook requires sharing enabled. Automatically setting `share=True` (you can turn this off by setting `share=False` in `launch()` explicitly).\n",
            "\n",
            "Colab notebook detected. To show errors in colab notebook, set debug=True in launch()\n",
            "* Running on public URL: https://4ca0356cbaa827b2e3.gradio.live\n",
            "\n",
            "This share link expires in 72 hours. For free permanent hosting and GPU upgrades, run `gradio deploy` from the terminal in the working directory to deploy to Hugging Face Spaces (https://huggingface.co/spaces)\n"
          ]
        },
        {
          "output_type": "display_data",
          "data": {
            "text/plain": [
              "<IPython.core.display.HTML object>"
            ],
            "text/html": [
              "<div><iframe src=\"https://4ca0356cbaa827b2e3.gradio.live\" width=\"100%\" height=\"500\" allow=\"autoplay; camera; microphone; clipboard-read; clipboard-write;\" frameborder=\"0\" allowfullscreen></iframe></div>"
            ]
          },
          "metadata": {}
        },
        {
          "output_type": "execute_result",
          "data": {
            "text/plain": []
          },
          "metadata": {},
          "execution_count": 12
        }
      ]
    },
    {
      "cell_type": "markdown",
      "metadata": {
        "id": "-bHAfnK9YizZ"
      },
      "source": [
        "## Text generation hyperparameters\n",
        "\n",
        "There are several hyperparameters we can play with that determine how text is generated.\n",
        "For each token, the model outputs a score distribution over words, and that distribution is normalized using the softmax function to sum to 1.0.\n",
        "We have several options to modify this probability distribution in ways that affect the way text is generated."
      ]
    },
    {
      "cell_type": "markdown",
      "metadata": {
        "id": "pibw6nM-YncC"
      },
      "source": [
        "### `temperature`\n",
        "\n",
        "The softmax function is shown below:\n",
        "\n",
        "$$\n",
        "\\text{softmax}(p) = \\frac{e^{x_i}}{\\sum_{j=0}^ne^{x_j}}\n",
        "$$\n",
        "\n",
        "The softmax function is defined in python below:\n"
      ]
    },
    {
      "cell_type": "code",
      "execution_count": 13,
      "metadata": {
        "id": "bIskN3MLMdmx",
        "colab": {
          "base_uri": "https://localhost:8080/",
          "height": 0
        },
        "outputId": "31d0e21a-adb3-4447-bba7-59e3d172f88d"
      },
      "outputs": [
        {
          "output_type": "display_data",
          "data": {
            "text/plain": [
              "\u001b[1m[\u001b[0m\u001b[1;36m0.01165623\u001b[0m \u001b[1;36m0.03168492\u001b[0m \u001b[1;36m0.08612854\u001b[0m \u001b[1;36m0.23412166\u001b[0m \u001b[1;36m0.63640865\u001b[0m\u001b[1m]\u001b[0m\n"
            ],
            "text/html": [
              "<pre style=\"white-space:pre;overflow-x:auto;line-height:normal;font-family:Menlo,'DejaVu Sans Mono',consolas,'Courier New',monospace\"><span style=\"font-weight: bold\">[</span><span style=\"color: #008080; text-decoration-color: #008080; font-weight: bold\">0.01165623</span> <span style=\"color: #008080; text-decoration-color: #008080; font-weight: bold\">0.03168492</span> <span style=\"color: #008080; text-decoration-color: #008080; font-weight: bold\">0.08612854</span> <span style=\"color: #008080; text-decoration-color: #008080; font-weight: bold\">0.23412166</span> <span style=\"color: #008080; text-decoration-color: #008080; font-weight: bold\">0.63640865</span><span style=\"font-weight: bold\">]</span>\n",
              "</pre>\n"
            ]
          },
          "metadata": {}
        }
      ],
      "source": [
        "def softmax(p):\n",
        "    return np.exp(p) / np.sum(np.exp(p))\n",
        "\n",
        "# Example usage\n",
        "p = np.array([1, 2, 3, 4, 5])\n",
        "print(softmax(p))\n",
        "assert np.allclose(softmax(p).sum(), 1.0)"
      ]
    },
    {
      "cell_type": "markdown",
      "metadata": {
        "id": "3kdVu2JRp1Yi"
      },
      "source": [
        "The `temperature` paramater allows us to make the most probable words more probable (temperature < 1) or less probable (temperature > 1) than vanilla softmax (temperature = 1).\n",
        "The formula for softmax with temperature is show below:\n",
        "\n",
        "$$\n",
        "\\text{softmax}(p, T) = \\frac{e^{\\frac{x_i}{T}}}{\\sum_{j=0}^ne^{\\frac{x_j}{T}}}\n",
        "$$\n",
        "\n",
        "All you do is divide everything by T before taking the exponent; larger values of $T$ flatten the distribution, while smaller values of $T$ skew the distribution towards the most probable tokens."
      ]
    },
    {
      "cell_type": "markdown",
      "metadata": {
        "id": "qNo9GVX_r9g_"
      },
      "source": [
        "### Exercise: Softmax with temperature"
      ]
    },
    {
      "cell_type": "code",
      "execution_count": 14,
      "metadata": {
        "id": "Wt5DWn9psCqD"
      },
      "outputs": [],
      "source": [
        "# Softmax function with temperature parameter\n",
        "def softmax_with_temperature(probs, temperature):\n",
        "    return np.exp(probs/temperature) / np.sum(np.exp(probs/temperature))"
      ]
    },
    {
      "cell_type": "code",
      "execution_count": 15,
      "metadata": {
        "id": "pz-eytfxLA6I",
        "colab": {
          "base_uri": "https://localhost:8080/",
          "height": 0,
          "referenced_widgets": [
            "1364dd8e6f5f4eb8aa9b0c195e89b0eb",
            "27af2746a25648b3ba5b64a993fabcb9",
            "826f481ded444d8c8dfbdb35c3e2618c",
            "bab269e578254c8ebd01242904935afc",
            "211fb76e748f49e5a8ff17808b5ad73c",
            "85c3eb181b0642e19909bda1a35f68de",
            "79071aa2db364d64b792f4b024be67f0"
          ]
        },
        "outputId": "6ab8ecc1-2d1b-4a1b-9bc5-ab96fe93f1bd"
      },
      "outputs": [
        {
          "output_type": "display_data",
          "data": {
            "text/plain": [
              "interactive(children=(FloatSlider(value=1.0, description='temperature', max=2.0, min=0.1), Output()), _dom_cla…"
            ],
            "application/vnd.jupyter.widget-view+json": {
              "version_major": 2,
              "version_minor": 0,
              "model_id": "1364dd8e6f5f4eb8aa9b0c195e89b0eb"
            }
          },
          "metadata": {}
        }
      ],
      "source": [
        "# Define a small probability distribution\n",
        "probs = np.array([0.5, 0.3, 0.1, 0.05, 0.05])\n",
        "\n",
        "# Plot the distribution with numbers on top of each bar\n",
        "def plot_distribution(temperature):\n",
        "    adjusted_probs = softmax_with_temperature(probs, temperature)\n",
        "    plt.figure(figsize=(6, 4))\n",
        "    bars = plt.bar(range(len(probs)), adjusted_probs, tick_label=['A', 'B', 'C', 'D', 'E'])\n",
        "    plt.ylim(0, 1)\n",
        "    plt.title(f'Softmax with Temperature = {temperature:.2f}')\n",
        "    plt.ylabel('Probability')\n",
        "    plt.xlabel('Tokens')\n",
        "\n",
        "    # Add numbers on top of each bar\n",
        "    for bar in bars:\n",
        "        yval = bar.get_height()\n",
        "        plt.text(bar.get_x() + bar.get_width()/2, yval, f'{yval:.2f}', ha='center', va='bottom')\n",
        "\n",
        "    plt.show()\n",
        "\n",
        "# Interactive widget\n",
        "interact(plot_distribution, temperature=(0.1, 2.0, 0.1));"
      ]
    },
    {
      "cell_type": "markdown",
      "metadata": {
        "id": "QiAOWzFosPZ0"
      },
      "source": [
        "### Demo: Alter the `temperature` parameter\n",
        "\n",
        "In this demo, we generate several messages from the same prompt.\n",
        "If we lower the temperature to 0, what do you notice about the results?\n",
        "What if we raise it above 1.0?"
      ]
    },
    {
      "cell_type": "code",
      "execution_count": 16,
      "metadata": {
        "id": "pOnm4SUoKSFu"
      },
      "outputs": [],
      "source": [
        "messages = [\n",
        "    {\"role\": \"user\", \"content\": \"01. Write a python function that reverses a string. Tell a joke in the docstring!\"},\n",
        "]\n",
        "\n",
        "response = client.chat.completions.create(\n",
        "    model=\"gpt-4o-mini\",\n",
        "    messages=messages,\n",
        "    temperature=1.8, # change this number between 0 and 2 to see the outcome\n",
        "    n=3 # generate 3 choices\n",
        ")"
      ]
    },
    {
      "cell_type": "code",
      "execution_count": 17,
      "metadata": {
        "id": "IJNXwiCmKhJW",
        "colab": {
          "base_uri": "https://localhost:8080/",
          "height": 0
        },
        "outputId": "d05ab3d7-3d7c-4409-af44-762439a96a7b"
      },
      "outputs": [
        {
          "output_type": "display_data",
          "data": {
            "text/plain": [
              "Here's a Python function that reverses a string, along with a joke in the docstring:\n",
              "\n",
              "```python\n",
              "def \u001b[1;35mreverse_string\u001b[0m\u001b[1m(\u001b[0ms: str\u001b[1m)\u001b[0m -> str:\n",
              "    \u001b[32m\"\"\u001b[0m\"\n",
              "    Reverses a given string.\n",
              "\n",
              "    Why did the scarecrow win an award?\n",
              "    Because he was outstanding in his field!\n",
              "    \n",
              "    Parameters:\n",
              "    s \u001b[1m(\u001b[0mstr\u001b[1m)\u001b[0m: The string to be reversed.\n",
              "\n",
              "    Returns:\n",
              "    str: The reversed string.\n",
              "    \u001b[32m\"\"\u001b[0m\"\n",
              "    return s\u001b[1m[\u001b[0m::\u001b[1;36m-1\u001b[0m\u001b[1m]\u001b[0m\n",
              "\n",
              "# Example usage\n",
              "\u001b[1;35mprint\u001b[0m\u001b[1m(\u001b[0m\u001b[1;35mreverse_string\u001b[0m\u001b[1m(\u001b[0m\u001b[32m\"Hello, World!\"\u001b[0m\u001b[1m)\u001b[0m\u001b[1m)\u001b[0m  # Output: !dlroW ,olleH\n",
              "```\n",
              "\n",
              "You can use the `reverse_string` function to reverse any string you pass to it. Enjoy the joke, too!\n"
            ],
            "text/html": [
              "<pre style=\"white-space:pre;overflow-x:auto;line-height:normal;font-family:Menlo,'DejaVu Sans Mono',consolas,'Courier New',monospace\">Here's a Python function that reverses a string, along with a joke in the docstring:\n",
              "\n",
              "```python\n",
              "def <span style=\"color: #800080; text-decoration-color: #800080; font-weight: bold\">reverse_string</span><span style=\"font-weight: bold\">(</span>s: str<span style=\"font-weight: bold\">)</span> -&gt; str:\n",
              "    <span style=\"color: #008000; text-decoration-color: #008000\">\"\"</span>\"\n",
              "    Reverses a given string.\n",
              "\n",
              "    Why did the scarecrow win an award?\n",
              "    Because he was outstanding in his field!\n",
              "    \n",
              "    Parameters:\n",
              "    s <span style=\"font-weight: bold\">(</span>str<span style=\"font-weight: bold\">)</span>: The string to be reversed.\n",
              "\n",
              "    Returns:\n",
              "    str: The reversed string.\n",
              "    <span style=\"color: #008000; text-decoration-color: #008000\">\"\"</span>\"\n",
              "    return s<span style=\"font-weight: bold\">[</span>::<span style=\"color: #008080; text-decoration-color: #008080; font-weight: bold\">-1</span><span style=\"font-weight: bold\">]</span>\n",
              "\n",
              "# Example usage\n",
              "<span style=\"color: #800080; text-decoration-color: #800080; font-weight: bold\">print</span><span style=\"font-weight: bold\">(</span><span style=\"color: #800080; text-decoration-color: #800080; font-weight: bold\">reverse_string</span><span style=\"font-weight: bold\">(</span><span style=\"color: #008000; text-decoration-color: #008000\">\"Hello, World!\"</span><span style=\"font-weight: bold\">))</span>  # Output: !dlroW ,olleH\n",
              "```\n",
              "\n",
              "You can use the `reverse_string` function to reverse any string you pass to it. Enjoy the joke, too!\n",
              "</pre>\n"
            ]
          },
          "metadata": {}
        },
        {
          "output_type": "display_data",
          "data": {
            "text/plain": [
              "\n",
              "\n",
              "==================================================\n",
              "\n"
            ],
            "text/html": [
              "<pre style=\"white-space:pre;overflow-x:auto;line-height:normal;font-family:Menlo,'DejaVu Sans Mono',consolas,'Courier New',monospace\">\n",
              "\n",
              "==================================================\n",
              "\n",
              "</pre>\n"
            ]
          },
          "metadata": {}
        },
        {
          "output_type": "display_data",
          "data": {
            "text/plain": [
              "Here's a Python function that reverses a string, along with a joke in the docstring!\n",
              "\n",
              "```python\n",
              "def \u001b[1;35mreverse_string\u001b[0m\u001b[1m(\u001b[0ms\u001b[1m)\u001b[0m:\n",
              "    \u001b[32m\"\"\u001b[0m\"\n",
              "    Reverses the input string.\n",
              "\n",
              "    Why did the scarecrow win an award?\n",
              "    Because he was outstanding in his field!\n",
              "    \u001b[32m\"\"\u001b[0m\"\n",
              "    return s\u001b[1m[\u001b[0m::\u001b[1;36m-1\u001b[0m\u001b[1m]\u001b[0m\n",
              "```\n",
              "\n",
              "You can use this function by passing a string to it like so:\n",
              "\n",
              "```python\n",
              "\u001b[1;35mprint\u001b[0m\u001b[1m(\u001b[0m\u001b[1;35mreverse_string\u001b[0m\u001b[1m(\u001b[0m\u001b[32m\"Hello, World!\"\u001b[0m\u001b[1m)\u001b[0m\u001b[1m)\u001b[0m  # Outputs: !dlroW ,olleH\n",
              "```\n"
            ],
            "text/html": [
              "<pre style=\"white-space:pre;overflow-x:auto;line-height:normal;font-family:Menlo,'DejaVu Sans Mono',consolas,'Courier New',monospace\">Here's a Python function that reverses a string, along with a joke in the docstring!\n",
              "\n",
              "```python\n",
              "def <span style=\"color: #800080; text-decoration-color: #800080; font-weight: bold\">reverse_string</span><span style=\"font-weight: bold\">(</span>s<span style=\"font-weight: bold\">)</span>:\n",
              "    <span style=\"color: #008000; text-decoration-color: #008000\">\"\"</span>\"\n",
              "    Reverses the input string.\n",
              "\n",
              "    Why did the scarecrow win an award?\n",
              "    Because he was outstanding in his field!\n",
              "    <span style=\"color: #008000; text-decoration-color: #008000\">\"\"</span>\"\n",
              "    return s<span style=\"font-weight: bold\">[</span>::<span style=\"color: #008080; text-decoration-color: #008080; font-weight: bold\">-1</span><span style=\"font-weight: bold\">]</span>\n",
              "```\n",
              "\n",
              "You can use this function by passing a string to it like so:\n",
              "\n",
              "```python\n",
              "<span style=\"color: #800080; text-decoration-color: #800080; font-weight: bold\">print</span><span style=\"font-weight: bold\">(</span><span style=\"color: #800080; text-decoration-color: #800080; font-weight: bold\">reverse_string</span><span style=\"font-weight: bold\">(</span><span style=\"color: #008000; text-decoration-color: #008000\">\"Hello, World!\"</span><span style=\"font-weight: bold\">))</span>  # Outputs: !dlroW ,olleH\n",
              "```\n",
              "</pre>\n"
            ]
          },
          "metadata": {}
        },
        {
          "output_type": "display_data",
          "data": {
            "text/plain": [
              "\n",
              "\n",
              "==================================================\n",
              "\n"
            ],
            "text/html": [
              "<pre style=\"white-space:pre;overflow-x:auto;line-height:normal;font-family:Menlo,'DejaVu Sans Mono',consolas,'Courier New',monospace\">\n",
              "\n",
              "==================================================\n",
              "\n",
              "</pre>\n"
            ]
          },
          "metadata": {}
        },
        {
          "output_type": "display_data",
          "data": {
            "text/plain": [
              "Here's a Python function that reverses a string, along with a joke in the docstring:\n",
              "\n",
              "```python\n",
              "def \u001b[1;35mreverse_string\u001b[0m\u001b[1m(\u001b[0minput_string\u001b[1m)\u001b[0m:\n",
              "    \u001b[32m\"\"\u001b[0m\"\n",
              "    Reverse the given string and return the result.\n",
              "\n",
              "    Joke: Why do programmers prefer dark mode?\n",
              "    Because light attracts bugs!\n",
              "    \u001b[32m\"\"\u001b[0m\"\n",
              "    return input_string\u001b[1m[\u001b[0m::\u001b[1;36m-1\u001b[0m\u001b[1m]\u001b[0m\n",
              "\n",
              "# Example usage:\n",
              "reversed_string = \u001b[1;35mreverse_string\u001b[0m\u001b[1m(\u001b[0m\u001b[32m\"Hello World\"\u001b[0m\u001b[1m)\u001b[0m\n",
              "\u001b[1;35mprint\u001b[0m\u001b[1m(\u001b[0mreversed_string\u001b[1m)\u001b[0m  # Output: \u001b[32m\"dlroW olleH\"\u001b[0m\n",
              "```\n",
              "\n",
              "In this function, `input_string\u001b[1m[\u001b[0m::\u001b[1;36m-1\u001b[0m\u001b[1m]\u001b[0m` slices the string from end to start, effectively reversing it. Feel free to \n",
              "call the function `reverse_string` with your own string inputs!\n"
            ],
            "text/html": [
              "<pre style=\"white-space:pre;overflow-x:auto;line-height:normal;font-family:Menlo,'DejaVu Sans Mono',consolas,'Courier New',monospace\">Here's a Python function that reverses a string, along with a joke in the docstring:\n",
              "\n",
              "```python\n",
              "def <span style=\"color: #800080; text-decoration-color: #800080; font-weight: bold\">reverse_string</span><span style=\"font-weight: bold\">(</span>input_string<span style=\"font-weight: bold\">)</span>:\n",
              "    <span style=\"color: #008000; text-decoration-color: #008000\">\"\"</span>\"\n",
              "    Reverse the given string and return the result.\n",
              "\n",
              "    Joke: Why do programmers prefer dark mode?\n",
              "    Because light attracts bugs!\n",
              "    <span style=\"color: #008000; text-decoration-color: #008000\">\"\"</span>\"\n",
              "    return input_string<span style=\"font-weight: bold\">[</span>::<span style=\"color: #008080; text-decoration-color: #008080; font-weight: bold\">-1</span><span style=\"font-weight: bold\">]</span>\n",
              "\n",
              "# Example usage:\n",
              "reversed_string = <span style=\"color: #800080; text-decoration-color: #800080; font-weight: bold\">reverse_string</span><span style=\"font-weight: bold\">(</span><span style=\"color: #008000; text-decoration-color: #008000\">\"Hello World\"</span><span style=\"font-weight: bold\">)</span>\n",
              "<span style=\"color: #800080; text-decoration-color: #800080; font-weight: bold\">print</span><span style=\"font-weight: bold\">(</span>reversed_string<span style=\"font-weight: bold\">)</span>  # Output: <span style=\"color: #008000; text-decoration-color: #008000\">\"dlroW olleH\"</span>\n",
              "```\n",
              "\n",
              "In this function, `input_string<span style=\"font-weight: bold\">[</span>::<span style=\"color: #008080; text-decoration-color: #008080; font-weight: bold\">-1</span><span style=\"font-weight: bold\">]</span>` slices the string from end to start, effectively reversing it. Feel free to \n",
              "call the function `reverse_string` with your own string inputs!\n",
              "</pre>\n"
            ]
          },
          "metadata": {}
        },
        {
          "output_type": "display_data",
          "data": {
            "text/plain": [
              "\n",
              "\n",
              "==================================================\n",
              "\n"
            ],
            "text/html": [
              "<pre style=\"white-space:pre;overflow-x:auto;line-height:normal;font-family:Menlo,'DejaVu Sans Mono',consolas,'Courier New',monospace\">\n",
              "\n",
              "==================================================\n",
              "\n",
              "</pre>\n"
            ]
          },
          "metadata": {}
        }
      ],
      "source": [
        "for choice in response.choices:\n",
        "    print(choice.message.content)\n",
        "    print('\\n\\n' + '='*50 + '\\n')"
      ]
    },
    {
      "cell_type": "markdown",
      "metadata": {
        "id": "WxkYh5ZkYrb-"
      },
      "source": [
        "### Demo: `top_k`\n",
        "\n",
        "In top k sampling, we define the number of tokens we want to consider to sample from.\n",
        "For example if `top_k = 3`, we will take the scores of the top 3 tokens and apply the softmax to only those 3 scores.\n",
        "Run the code block below to see how `top_k` normalizes the scores at different values."
      ]
    },
    {
      "cell_type": "code",
      "execution_count": 18,
      "metadata": {
        "id": "uqptc8mIr0hq",
        "colab": {
          "base_uri": "https://localhost:8080/",
          "height": 0,
          "referenced_widgets": [
            "cf55c5f5e9ba4467a9aeb482b3ca0e7d",
            "b3d10f65f54d4be195505b9ab792190a",
            "ee3684d8a4984635974a44f85410562b",
            "bd3514fc7f684a98b6d8c967d6bbd3a6",
            "54692c01c36748749ed47536670f7564",
            "0b3dbfde3e74476aaac87f11d0e94012",
            "36540f607cd542548509966988421f9c"
          ]
        },
        "outputId": "30fbdfeb-3927-4ce6-a240-eccd9d095ee3"
      },
      "outputs": [
        {
          "output_type": "display_data",
          "data": {
            "text/plain": [
              "interactive(children=(IntSlider(value=3, description='top_k', max=5, min=1), Output()), _dom_classes=('widget-…"
            ],
            "application/vnd.jupyter.widget-view+json": {
              "version_major": 2,
              "version_minor": 0,
              "model_id": "cf55c5f5e9ba4467a9aeb482b3ca0e7d"
            }
          },
          "metadata": {}
        }
      ],
      "source": [
        "# Define a small probability distribution\n",
        "probs = np.array([0.5, 0.3, 0.1, 0.05, 0.05])\n",
        "\n",
        "# Plot the distribution with numbers on top of each bar\n",
        "def plot_top_k(top_k):\n",
        "    ticks = ['A', 'B', 'C', 'D', 'E']\n",
        "    sorted_probs = np.sort(probs)[::-1]\n",
        "    top_k_probs = sorted_probs[:top_k]\n",
        "    fig, axes = plt.subplots(1, 2, figsize=(12, 5))\n",
        "    adjusted_probs = softmax(probs)\n",
        "    ax = axes[0]\n",
        "    bars = ax.bar(range(len(probs)), adjusted_probs, tick_label=ticks)\n",
        "    ax.set_ylim(0, 1)\n",
        "    ax.set_title('Original Probabilities')\n",
        "    ax.set_ylabel('Probability')\n",
        "    ax.set_xlabel('Token')\n",
        "\n",
        "    # Add numbers on top of each bar\n",
        "    for bar in bars:\n",
        "        yval = bar.get_height()\n",
        "        ax.text(bar.get_x() + bar.get_width()/2, yval, f'{yval:.2f}', ha='center', va='bottom')\n",
        "\n",
        "    ax = axes[1]\n",
        "    if top_k < len(probs):\n",
        "        updated_probs = softmax(probs[:top_k])\n",
        "        bars = ax.bar(range(top_k), updated_probs, tick_label=ticks[:top_k])\n",
        "    else:\n",
        "        bars = ax.bar(range(len(probs)), softmax(probs), tick_label=ticks)\n",
        "    ax.set_ylim(0, 1)\n",
        "    ax.set_title(f'Top {top_k} Probabilities')\n",
        "    ax.set_ylabel('Probability')\n",
        "    ax.set_xlabel('Token')\n",
        "    for bar in bars:\n",
        "        yval = bar.get_height()\n",
        "        ax.text(bar.get_x() + bar.get_width()/2, yval, f'{yval:.2f}', ha='center', va='bottom')\n",
        "\n",
        "    plt.show()\n",
        "\n",
        "# Interactive widget\n",
        "interact(plot_top_k, top_k=(1, len(probs), 1));"
      ]
    },
    {
      "cell_type": "markdown",
      "metadata": {
        "id": "d-x9f33bYvPN"
      },
      "source": [
        "### Demo: `top_p` (aka nucleus sampling)\n",
        "\n",
        "`top_p` is similar to `top_k`, but instead of defining the number of tokens to consider, you define a cutoff for cumulative probability.\n",
        "For example, if you have a top_p of 0.6 and score of ('cat', 0.4), ('dog', 0.15), ('llama', 0.1), and ('parakeet', 0.01), you would cut only consider 'cat', 'dog', and 'llama' because 0.4 + 0.15 is less than 0.6, but 0.4 + 0.15 + 0.1 is greater.\n",
        "Because you have a probability cutoff instead of number of tokens, this may mean you have different numbers of tokens considered at each decoding step.\n",
        "\n",
        "Play around with the `top_p` slider below 👇 to get some intuition for how it works."
      ]
    },
    {
      "cell_type": "code",
      "execution_count": 19,
      "metadata": {
        "id": "1nUXAXiPsGlA",
        "colab": {
          "base_uri": "https://localhost:8080/",
          "height": 0,
          "referenced_widgets": [
            "d72c3edeac394471ae963761227a6666",
            "87cae6e9e68541cfb5ef387d3ba3ddb8",
            "2c34b20ec98a42498757b34421cae944",
            "2a70c4387bc048bbb092d6f0b60bf1f4",
            "d93c9ce03f444b8eab3eadc0c8813e5b",
            "45ca16f9c9844f5cb063db84316787b4",
            "8eec41bc7b624ac8a66082b29253956f"
          ]
        },
        "outputId": "03c68014-3828-49c9-a1f0-5e64627143cd"
      },
      "outputs": [
        {
          "output_type": "display_data",
          "data": {
            "text/plain": [
              "interactive(children=(FloatSlider(value=0.46, description='p', max=1.0, min=0.01, step=0.05), Output()), _dom_…"
            ],
            "application/vnd.jupyter.widget-view+json": {
              "version_major": 2,
              "version_minor": 0,
              "model_id": "d72c3edeac394471ae963761227a6666"
            }
          },
          "metadata": {}
        }
      ],
      "source": [
        "# Define a small probability distribution (can simulate a language model's logits)\n",
        "probs = np.array([0.4, 0.2, 0.15, 0.1, 0.08, 0.05, 0.02])\n",
        "\n",
        "# Function to apply top-p filtering with a minimum of one token selected\n",
        "def top_p_filter(probs, p):\n",
        "    sorted_probs = np.sort(probs)[::-1]\n",
        "    cumulative_probs = np.cumsum(sorted_probs)\n",
        "\n",
        "    # Ensure at least one token is selected\n",
        "    if p < sorted_probs[0]:\n",
        "        cutoff = 1\n",
        "    else:\n",
        "        cutoff = np.argmax(cumulative_probs >= p) + 1\n",
        "\n",
        "    filtered_probs = sorted_probs[:cutoff]\n",
        "    return filtered_probs, cutoff\n",
        "\n",
        "# Plot the distribution with top-p filtering\n",
        "def plot_top_p(p):\n",
        "    filtered_probs, cutoff = top_p_filter(probs, p)\n",
        "    normalized_probs = filtered_probs / np.sum(filtered_probs)  # Normalize the selected probabilities\n",
        "\n",
        "    # Create two subplots\n",
        "    fig, axs = plt.subplots(1, 2, figsize=(12, 5))\n",
        "    labels = ['A', 'B', 'C', 'D', 'E', 'F', 'G']\n",
        "\n",
        "    # Plot 1: Original distribution with top-p filtering\n",
        "    bars1 = axs[0].bar(range(len(probs)), np.sort(probs)[::-1], tick_label=labels)\n",
        "    axs[0].set_ylim(0, 1)\n",
        "    axs[0].set_title(f'Top-p Sampling (p = {p:.2f}) - Original Probabilities')\n",
        "    axs[0].set_ylabel('Probability')\n",
        "    axs[0].set_xlabel('Tokens')\n",
        "\n",
        "    # Highlight selected and unselected probabilities\n",
        "    for i, bar in enumerate(bars1):\n",
        "        if i >= cutoff:\n",
        "            bar.set_color('gray')  # Color the bars outside top-p as gray\n",
        "        else:\n",
        "            bar.set_color('blue')  # Highlight the selected probabilities\n",
        "\n",
        "    # Add numbers on top of each bar for original distribution\n",
        "    for bar in bars1:\n",
        "        yval = bar.get_height()\n",
        "        axs[0].text(bar.get_x() + bar.get_width()/2, yval, f'{yval:.2f}', ha='center', va='bottom')\n",
        "\n",
        "    # Plot 2: Normalized probabilities of the selected tokens\n",
        "    bars2 = axs[1].bar(range(len(filtered_probs)), normalized_probs, tick_label=labels[:len(filtered_probs)])\n",
        "    axs[1].set_ylim(0, 1)\n",
        "    axs[1].set_title(f'Normalized Probabilities of Selected Tokens (p = {p:.2f})')\n",
        "    axs[1].set_ylabel('Normalized Probability')\n",
        "    axs[1].set_xlabel('Selected Tokens')\n",
        "\n",
        "    # Add numbers on top of each bar for normalized probabilities\n",
        "    for bar in bars2:\n",
        "        yval = bar.get_height()\n",
        "        axs[1].text(bar.get_x() + bar.get_width()/2, yval, f'{yval:.2f}', ha='center', va='bottom')\n",
        "\n",
        "    plt.tight_layout()\n",
        "    plt.show()\n",
        "\n",
        "# Interactive widget\n",
        "interact(plot_top_p, p=(0.01, 1.0, 0.05));"
      ]
    },
    {
      "cell_type": "markdown",
      "metadata": {
        "id": "ktB3q7OrYW72"
      },
      "source": [
        "## Exercise: Advanced chatbot with hyperparameter controls\n",
        "\n",
        "Now that you've learned about roles and generation hyperparameters, let's create a new chatbot that allows you to contol at them.\n",
        "Your chatbot must:\n",
        "- allow for control of at least 1 generation hyperparameter (ex: `temperature`)\n",
        "- allow for user input of a system message\n",
        "\n",
        "If this is too easy, try to:\n",
        "- allow for control over `temperature` and `top_p`\n",
        "- improve the UI by putting all the controls in a sidebar\n",
        "- have a `Clear` button that restarts the conversation\n",
        "- add documentation with markdown\n",
        "- implement streaming responses"
      ]
    },
    {
      "cell_type": "code",
      "execution_count": 20,
      "metadata": {
        "id": "S_qTM-_-UkG6"
      },
      "outputs": [],
      "source": [
        "def chat(message, history, system_message, temperature, top_p):\n",
        "    if len(history) == 0 and system_message:\n",
        "        history.append({\n",
        "            \"role\": \"system\",\n",
        "            \"content\": system_message\n",
        "        })\n",
        "    history.append({\n",
        "        \"role\": \"user\",\n",
        "        \"content\": message\n",
        "    })\n",
        "    response = client.chat.completions.create(\n",
        "        model='gpt-4o-mini',\n",
        "        messages=history,\n",
        "        temperature=temperature,\n",
        "        top_p=top_p,\n",
        "    )\n",
        "    history.append({\n",
        "        \"role\": \"assistant\",\n",
        "        \"content\": response.choices[0].message.content\n",
        "    })\n",
        "    return history, None\n",
        "\n",
        "def clear():\n",
        "    return [], None"
      ]
    },
    {
      "cell_type": "code",
      "source": [
        "with gr.Blocks() as demo:\n",
        "    with gr.Row():\n",
        "        with gr.Column(scale=1):\n",
        "            temperature = gr.Slider(minimum=0, maximum=2, value=1, step=0.1, label='Temperature', interactive=True)\n",
        "            top_p = gr.Slider(minimum=0, maximum=1, value=1, step=0.1, label='Top p', interactive=True)\n",
        "            system_prompt = gr.Textbox(label='System prompt', interactive=True, value=\"You are a helpful assistant.\")\n",
        "            clear_button = gr.Button(value='Clear')\n",
        "        with gr.Column(scale=5):\n",
        "            chatbot = gr.Chatbot(type=\"messages\")\n",
        "            input_box = gr.Textbox(label='Message')\n",
        "\n",
        "    input_box.submit(chat, [input_box, chatbot, system_prompt, temperature, top_p], [chatbot, input_box])\n",
        "    clear_button.click(clear, outputs=[chatbot, input_box])\n",
        "\n",
        "demo.launch(debug=False)"
      ],
      "metadata": {
        "colab": {
          "base_uri": "https://localhost:8080/",
          "height": 0
        },
        "id": "c9K3rlQzfXZQ",
        "outputId": "96e65ebe-ae0a-4a70-b63b-6ecb496b1b9c"
      },
      "execution_count": 21,
      "outputs": [
        {
          "output_type": "stream",
          "name": "stdout",
          "text": [
            "Running Gradio in a Colab notebook requires sharing enabled. Automatically setting `share=True` (you can turn this off by setting `share=False` in `launch()` explicitly).\n",
            "\n",
            "Colab notebook detected. To show errors in colab notebook, set debug=True in launch()\n",
            "* Running on public URL: https://39ab23b1eae1585e13.gradio.live\n",
            "\n",
            "This share link expires in 72 hours. For free permanent hosting and GPU upgrades, run `gradio deploy` from the terminal in the working directory to deploy to Hugging Face Spaces (https://huggingface.co/spaces)\n"
          ]
        },
        {
          "output_type": "display_data",
          "data": {
            "text/plain": [
              "<IPython.core.display.HTML object>"
            ],
            "text/html": [
              "<div><iframe src=\"https://39ab23b1eae1585e13.gradio.live\" width=\"100%\" height=\"500\" allow=\"autoplay; camera; microphone; clipboard-read; clipboard-write;\" frameborder=\"0\" allowfullscreen></iframe></div>"
            ]
          },
          "metadata": {}
        },
        {
          "output_type": "execute_result",
          "data": {
            "text/plain": []
          },
          "metadata": {},
          "execution_count": 21
        }
      ]
    },
    {
      "cell_type": "markdown",
      "metadata": {
        "id": "koHpg9S2jthm"
      },
      "source": [
        "# Prompt engineering 1: zero-shot prompting\n",
        "\n",
        "To really benchmark how each of these techniques do, we need a baseline.\n",
        "We will use zero-shot prompting to get a base level of performance on our task.\n",
        "\n",
        "So far, we've been using the low-level `openai` library.\n",
        "However, there are several very competent higher-level libraries that provide great abstractions such as `langchain` and `llama-index`.\n",
        "Today, we'll be using `llama-index` to make our LLM calls a bit easier."
      ]
    },
    {
      "cell_type": "markdown",
      "metadata": {
        "id": "cagMwLN4kKVP"
      },
      "source": [
        "## Prepare our dataset"
      ]
    },
    {
      "cell_type": "code",
      "execution_count": 22,
      "metadata": {
        "id": "IslHF3_ak71j"
      },
      "outputs": [],
      "source": [
        "# Prompt engineering imports\n",
        "from datasets import load_dataset, Dataset\n",
        "from llama_index.core import PromptTemplate\n",
        "from llama_index.core.prompts import ChatMessage\n",
        "from llama_index.llms.openai import OpenAI\n",
        "from pydantic import BaseModel, Field\n",
        "from IPython.display import display\n",
        "import asyncio"
      ]
    },
    {
      "cell_type": "code",
      "execution_count": 23,
      "metadata": {
        "id": "YAkjCmM4yP7T"
      },
      "outputs": [],
      "source": [
        "ds = load_dataset('SetFit/amazon_reviews_multi_en')"
      ]
    },
    {
      "cell_type": "code",
      "execution_count": 24,
      "metadata": {
        "id": "lRlkTBciyz7S"
      },
      "outputs": [],
      "source": [
        "train_samples_per_class = 50\n",
        "eval_test_samples_per_class = 10\n",
        "train = Dataset.from_pandas(ds['train'].to_pandas().groupby('label').sample(train_samples_per_class, random_state=1234).reset_index(drop=True))\n",
        "valid = Dataset.from_pandas(ds['validation'].to_pandas().groupby('label').sample(eval_test_samples_per_class, random_state=1234).reset_index(drop=True))\n",
        "test = Dataset.from_pandas(ds['test'].to_pandas().groupby('label').sample(eval_test_samples_per_class, random_state=1234).reset_index(drop=True))"
      ]
    },
    {
      "cell_type": "code",
      "execution_count": 25,
      "metadata": {
        "id": "uf6l_lA33OV-",
        "colab": {
          "base_uri": "https://localhost:8080/",
          "height": 143
        },
        "outputId": "db3b5b4c-b966-4cba-e50b-3f6bc0049db7"
      },
      "outputs": [
        {
          "output_type": "execute_result",
          "data": {
            "text/plain": [
              "             id                                               text  label  \\\n",
              "194  en_0597972  A bit large for a size 8. But it shines so nic...      3   \n",
              "141  en_0009688  These sheets are kind of weird. They don't sta...      2   \n",
              "9    en_0945958  I sent retuned this because it didn’t work and...      0   \n",
              "\n",
              "    label_text  \n",
              "194          3  \n",
              "141          2  \n",
              "9            0  "
            ],
            "text/html": [
              "\n",
              "  <div id=\"df-f02ed7c2-e671-448d-99ef-77e15f10ae33\" class=\"colab-df-container\">\n",
              "    <div>\n",
              "<style scoped>\n",
              "    .dataframe tbody tr th:only-of-type {\n",
              "        vertical-align: middle;\n",
              "    }\n",
              "\n",
              "    .dataframe tbody tr th {\n",
              "        vertical-align: top;\n",
              "    }\n",
              "\n",
              "    .dataframe thead th {\n",
              "        text-align: right;\n",
              "    }\n",
              "</style>\n",
              "<table border=\"1\" class=\"dataframe\">\n",
              "  <thead>\n",
              "    <tr style=\"text-align: right;\">\n",
              "      <th></th>\n",
              "      <th>id</th>\n",
              "      <th>text</th>\n",
              "      <th>label</th>\n",
              "      <th>label_text</th>\n",
              "    </tr>\n",
              "  </thead>\n",
              "  <tbody>\n",
              "    <tr>\n",
              "      <th>194</th>\n",
              "      <td>en_0597972</td>\n",
              "      <td>A bit large for a size 8. But it shines so nic...</td>\n",
              "      <td>3</td>\n",
              "      <td>3</td>\n",
              "    </tr>\n",
              "    <tr>\n",
              "      <th>141</th>\n",
              "      <td>en_0009688</td>\n",
              "      <td>These sheets are kind of weird. They don't sta...</td>\n",
              "      <td>2</td>\n",
              "      <td>2</td>\n",
              "    </tr>\n",
              "    <tr>\n",
              "      <th>9</th>\n",
              "      <td>en_0945958</td>\n",
              "      <td>I sent retuned this because it didn’t work and...</td>\n",
              "      <td>0</td>\n",
              "      <td>0</td>\n",
              "    </tr>\n",
              "  </tbody>\n",
              "</table>\n",
              "</div>\n",
              "    <div class=\"colab-df-buttons\">\n",
              "\n",
              "  <div class=\"colab-df-container\">\n",
              "    <button class=\"colab-df-convert\" onclick=\"convertToInteractive('df-f02ed7c2-e671-448d-99ef-77e15f10ae33')\"\n",
              "            title=\"Convert this dataframe to an interactive table.\"\n",
              "            style=\"display:none;\">\n",
              "\n",
              "  <svg xmlns=\"http://www.w3.org/2000/svg\" height=\"24px\" viewBox=\"0 -960 960 960\">\n",
              "    <path d=\"M120-120v-720h720v720H120Zm60-500h600v-160H180v160Zm220 220h160v-160H400v160Zm0 220h160v-160H400v160ZM180-400h160v-160H180v160Zm440 0h160v-160H620v160ZM180-180h160v-160H180v160Zm440 0h160v-160H620v160Z\"/>\n",
              "  </svg>\n",
              "    </button>\n",
              "\n",
              "  <style>\n",
              "    .colab-df-container {\n",
              "      display:flex;\n",
              "      gap: 12px;\n",
              "    }\n",
              "\n",
              "    .colab-df-convert {\n",
              "      background-color: #E8F0FE;\n",
              "      border: none;\n",
              "      border-radius: 50%;\n",
              "      cursor: pointer;\n",
              "      display: none;\n",
              "      fill: #1967D2;\n",
              "      height: 32px;\n",
              "      padding: 0 0 0 0;\n",
              "      width: 32px;\n",
              "    }\n",
              "\n",
              "    .colab-df-convert:hover {\n",
              "      background-color: #E2EBFA;\n",
              "      box-shadow: 0px 1px 2px rgba(60, 64, 67, 0.3), 0px 1px 3px 1px rgba(60, 64, 67, 0.15);\n",
              "      fill: #174EA6;\n",
              "    }\n",
              "\n",
              "    .colab-df-buttons div {\n",
              "      margin-bottom: 4px;\n",
              "    }\n",
              "\n",
              "    [theme=dark] .colab-df-convert {\n",
              "      background-color: #3B4455;\n",
              "      fill: #D2E3FC;\n",
              "    }\n",
              "\n",
              "    [theme=dark] .colab-df-convert:hover {\n",
              "      background-color: #434B5C;\n",
              "      box-shadow: 0px 1px 3px 1px rgba(0, 0, 0, 0.15);\n",
              "      filter: drop-shadow(0px 1px 2px rgba(0, 0, 0, 0.3));\n",
              "      fill: #FFFFFF;\n",
              "    }\n",
              "  </style>\n",
              "\n",
              "    <script>\n",
              "      const buttonEl =\n",
              "        document.querySelector('#df-f02ed7c2-e671-448d-99ef-77e15f10ae33 button.colab-df-convert');\n",
              "      buttonEl.style.display =\n",
              "        google.colab.kernel.accessAllowed ? 'block' : 'none';\n",
              "\n",
              "      async function convertToInteractive(key) {\n",
              "        const element = document.querySelector('#df-f02ed7c2-e671-448d-99ef-77e15f10ae33');\n",
              "        const dataTable =\n",
              "          await google.colab.kernel.invokeFunction('convertToInteractive',\n",
              "                                                    [key], {});\n",
              "        if (!dataTable) return;\n",
              "\n",
              "        const docLinkHtml = 'Like what you see? Visit the ' +\n",
              "          '<a target=\"_blank\" href=https://colab.research.google.com/notebooks/data_table.ipynb>data table notebook</a>'\n",
              "          + ' to learn more about interactive tables.';\n",
              "        element.innerHTML = '';\n",
              "        dataTable['output_type'] = 'display_data';\n",
              "        await google.colab.output.renderOutput(dataTable, element);\n",
              "        const docLink = document.createElement('div');\n",
              "        docLink.innerHTML = docLinkHtml;\n",
              "        element.appendChild(docLink);\n",
              "      }\n",
              "    </script>\n",
              "  </div>\n",
              "\n",
              "\n",
              "<div id=\"df-05036426-c6ab-423a-a532-dec3204b4fff\">\n",
              "  <button class=\"colab-df-quickchart\" onclick=\"quickchart('df-05036426-c6ab-423a-a532-dec3204b4fff')\"\n",
              "            title=\"Suggest charts\"\n",
              "            style=\"display:none;\">\n",
              "\n",
              "<svg xmlns=\"http://www.w3.org/2000/svg\" height=\"24px\"viewBox=\"0 0 24 24\"\n",
              "     width=\"24px\">\n",
              "    <g>\n",
              "        <path d=\"M19 3H5c-1.1 0-2 .9-2 2v14c0 1.1.9 2 2 2h14c1.1 0 2-.9 2-2V5c0-1.1-.9-2-2-2zM9 17H7v-7h2v7zm4 0h-2V7h2v10zm4 0h-2v-4h2v4z\"/>\n",
              "    </g>\n",
              "</svg>\n",
              "  </button>\n",
              "\n",
              "<style>\n",
              "  .colab-df-quickchart {\n",
              "      --bg-color: #E8F0FE;\n",
              "      --fill-color: #1967D2;\n",
              "      --hover-bg-color: #E2EBFA;\n",
              "      --hover-fill-color: #174EA6;\n",
              "      --disabled-fill-color: #AAA;\n",
              "      --disabled-bg-color: #DDD;\n",
              "  }\n",
              "\n",
              "  [theme=dark] .colab-df-quickchart {\n",
              "      --bg-color: #3B4455;\n",
              "      --fill-color: #D2E3FC;\n",
              "      --hover-bg-color: #434B5C;\n",
              "      --hover-fill-color: #FFFFFF;\n",
              "      --disabled-bg-color: #3B4455;\n",
              "      --disabled-fill-color: #666;\n",
              "  }\n",
              "\n",
              "  .colab-df-quickchart {\n",
              "    background-color: var(--bg-color);\n",
              "    border: none;\n",
              "    border-radius: 50%;\n",
              "    cursor: pointer;\n",
              "    display: none;\n",
              "    fill: var(--fill-color);\n",
              "    height: 32px;\n",
              "    padding: 0;\n",
              "    width: 32px;\n",
              "  }\n",
              "\n",
              "  .colab-df-quickchart:hover {\n",
              "    background-color: var(--hover-bg-color);\n",
              "    box-shadow: 0 1px 2px rgba(60, 64, 67, 0.3), 0 1px 3px 1px rgba(60, 64, 67, 0.15);\n",
              "    fill: var(--button-hover-fill-color);\n",
              "  }\n",
              "\n",
              "  .colab-df-quickchart-complete:disabled,\n",
              "  .colab-df-quickchart-complete:disabled:hover {\n",
              "    background-color: var(--disabled-bg-color);\n",
              "    fill: var(--disabled-fill-color);\n",
              "    box-shadow: none;\n",
              "  }\n",
              "\n",
              "  .colab-df-spinner {\n",
              "    border: 2px solid var(--fill-color);\n",
              "    border-color: transparent;\n",
              "    border-bottom-color: var(--fill-color);\n",
              "    animation:\n",
              "      spin 1s steps(1) infinite;\n",
              "  }\n",
              "\n",
              "  @keyframes spin {\n",
              "    0% {\n",
              "      border-color: transparent;\n",
              "      border-bottom-color: var(--fill-color);\n",
              "      border-left-color: var(--fill-color);\n",
              "    }\n",
              "    20% {\n",
              "      border-color: transparent;\n",
              "      border-left-color: var(--fill-color);\n",
              "      border-top-color: var(--fill-color);\n",
              "    }\n",
              "    30% {\n",
              "      border-color: transparent;\n",
              "      border-left-color: var(--fill-color);\n",
              "      border-top-color: var(--fill-color);\n",
              "      border-right-color: var(--fill-color);\n",
              "    }\n",
              "    40% {\n",
              "      border-color: transparent;\n",
              "      border-right-color: var(--fill-color);\n",
              "      border-top-color: var(--fill-color);\n",
              "    }\n",
              "    60% {\n",
              "      border-color: transparent;\n",
              "      border-right-color: var(--fill-color);\n",
              "    }\n",
              "    80% {\n",
              "      border-color: transparent;\n",
              "      border-right-color: var(--fill-color);\n",
              "      border-bottom-color: var(--fill-color);\n",
              "    }\n",
              "    90% {\n",
              "      border-color: transparent;\n",
              "      border-bottom-color: var(--fill-color);\n",
              "    }\n",
              "  }\n",
              "</style>\n",
              "\n",
              "  <script>\n",
              "    async function quickchart(key) {\n",
              "      const quickchartButtonEl =\n",
              "        document.querySelector('#' + key + ' button');\n",
              "      quickchartButtonEl.disabled = true;  // To prevent multiple clicks.\n",
              "      quickchartButtonEl.classList.add('colab-df-spinner');\n",
              "      try {\n",
              "        const charts = await google.colab.kernel.invokeFunction(\n",
              "            'suggestCharts', [key], {});\n",
              "      } catch (error) {\n",
              "        console.error('Error during call to suggestCharts:', error);\n",
              "      }\n",
              "      quickchartButtonEl.classList.remove('colab-df-spinner');\n",
              "      quickchartButtonEl.classList.add('colab-df-quickchart-complete');\n",
              "    }\n",
              "    (() => {\n",
              "      let quickchartButtonEl =\n",
              "        document.querySelector('#df-05036426-c6ab-423a-a532-dec3204b4fff button');\n",
              "      quickchartButtonEl.style.display =\n",
              "        google.colab.kernel.accessAllowed ? 'block' : 'none';\n",
              "    })();\n",
              "  </script>\n",
              "</div>\n",
              "\n",
              "    </div>\n",
              "  </div>\n"
            ],
            "application/vnd.google.colaboratory.intrinsic+json": {
              "type": "dataframe",
              "summary": "{\n  \"name\": \"train\",\n  \"rows\": 3,\n  \"fields\": [\n    {\n      \"column\": \"id\",\n      \"properties\": {\n        \"dtype\": \"string\",\n        \"num_unique_values\": 3,\n        \"samples\": [\n          \"en_0597972\",\n          \"en_0009688\",\n          \"en_0945958\"\n        ],\n        \"semantic_type\": \"\",\n        \"description\": \"\"\n      }\n    },\n    {\n      \"column\": \"text\",\n      \"properties\": {\n        \"dtype\": \"string\",\n        \"num_unique_values\": 3,\n        \"samples\": [\n          \"A bit large for a size 8. But it shines so nice!! Looks great. It\\u2019s a tad brighter and lighter than my real diamonds but perhaps with wear it\\u2019ll settle in. Looks great with my real diamonds! Love it.\",\n          \"These sheets are kind of weird. They don't stay put and they are a little scratchy. We have a mattress topper and a mattress cover and these slip right off and I can't keep them in place. The elastic is too loose.\",\n          \"I sent retuned this because it didn\\u2019t work and have yet to receive my refund. It\\u2019s been over a month!\"\n        ],\n        \"semantic_type\": \"\",\n        \"description\": \"\"\n      }\n    },\n    {\n      \"column\": \"label\",\n      \"properties\": {\n        \"dtype\": \"number\",\n        \"std\": 1,\n        \"min\": 0,\n        \"max\": 3,\n        \"num_unique_values\": 3,\n        \"samples\": [\n          3,\n          2,\n          0\n        ],\n        \"semantic_type\": \"\",\n        \"description\": \"\"\n      }\n    },\n    {\n      \"column\": \"label_text\",\n      \"properties\": {\n        \"dtype\": \"string\",\n        \"num_unique_values\": 3,\n        \"samples\": [\n          \"3\",\n          \"2\",\n          \"0\"\n        ],\n        \"semantic_type\": \"\",\n        \"description\": \"\"\n      }\n    }\n  ]\n}"
            }
          },
          "metadata": {},
          "execution_count": 25
        }
      ],
      "source": [
        "train.to_pandas().sample(3)"
      ]
    },
    {
      "cell_type": "code",
      "execution_count": 26,
      "metadata": {
        "id": "ocJ1AjZ2mMTx"
      },
      "outputs": [],
      "source": [
        "async def predict_and_evaluate(predict_fn):\n",
        "    labels = [int(x) for x in valid['label']]\n",
        "    tasks = [\n",
        "        predict_fn(text)\n",
        "        for text in valid['text']\n",
        "    ]\n",
        "    predictions = await asyncio.gather(*tasks)\n",
        "    cm = ConfusionMatrixDisplay.from_predictions(labels, predictions, normalize='true')\n",
        "    cr = classification_report(labels, predictions)\n",
        "    kappa = cohen_kappa_score(labels, predictions, weights='quadratic')\n",
        "    mae = mean_absolute_error(labels, predictions)\n",
        "    return labels, predictions, kappa, mae, cm, cr"
      ]
    },
    {
      "cell_type": "markdown",
      "metadata": {
        "id": "FMAydzy6kT2k"
      },
      "source": [
        "## Zero-shot prompt"
      ]
    },
    {
      "cell_type": "code",
      "execution_count": 27,
      "metadata": {
        "id": "9KNSnSPikdh1"
      },
      "outputs": [],
      "source": [
        "prompt_tmpl_str = \"\"\"\\\n",
        "The review text is below.\n",
        "---------------------\n",
        "{review}\n",
        "---------------------\n",
        "Given the review text and not prior knowledge, \\\n",
        "please attempt to predict the score of the review.\n",
        "\n",
        "Query: What is the rating of this review?\n",
        "Answer: \\\n",
        "\"\"\"\n",
        "\n",
        "prompt_tmpl = PromptTemplate(\n",
        "    prompt_tmpl_str,\n",
        ")"
      ]
    },
    {
      "cell_type": "code",
      "execution_count": 28,
      "metadata": {
        "id": "0rJk61JskmHa"
      },
      "outputs": [],
      "source": [
        "class Rating(BaseModel):\n",
        "    rating: int = Field(..., description=\"Rating of the review\", enum=[0, 1, 2, 3, 4])\n",
        "\n",
        "llm = OpenAI(model=\"gpt-4o-mini\")\n",
        "zero_shot_structured_llm = llm.as_structured_llm(Rating)"
      ]
    },
    {
      "cell_type": "code",
      "execution_count": 29,
      "metadata": {
        "id": "idqg4yf-lPDi"
      },
      "outputs": [],
      "source": [
        "async def zero_shot_predict(text):\n",
        "    messages = [\n",
        "        ChatMessage.from_str(prompt_tmpl.format(review=text))\n",
        "    ]\n",
        "    response = await zero_shot_structured_llm.achat(messages)\n",
        "    return response.raw.rating"
      ]
    },
    {
      "cell_type": "code",
      "source": [
        "messages = [\n",
        "    ChatMessage.from_str(prompt_tmpl.format(review=\"I loved this product!\"))\n",
        "]"
      ],
      "metadata": {
        "id": "EGmoKk7A6Hul"
      },
      "execution_count": 30,
      "outputs": []
    },
    {
      "cell_type": "markdown",
      "source": [
        "Aside: compare times between sync and async calls to OpenAI"
      ],
      "metadata": {
        "id": "97xgwWGU8-9m"
      }
    },
    {
      "cell_type": "code",
      "source": [
        "%%time\n",
        "for i in range(5):\n",
        "    print(f\"Sending request {i}\")\n",
        "    response = zero_shot_structured_llm.chat(messages)"
      ],
      "metadata": {
        "colab": {
          "base_uri": "https://localhost:8080/",
          "height": 132
        },
        "id": "hTqa9Zpi6ZJF",
        "outputId": "617b972d-a3ba-4142-c367-8edfbfa13340"
      },
      "execution_count": 31,
      "outputs": [
        {
          "output_type": "display_data",
          "data": {
            "text/plain": [
              "Sending request \u001b[1;36m0\u001b[0m\n"
            ],
            "text/html": [
              "<pre style=\"white-space:pre;overflow-x:auto;line-height:normal;font-family:Menlo,'DejaVu Sans Mono',consolas,'Courier New',monospace\">Sending request <span style=\"color: #008080; text-decoration-color: #008080; font-weight: bold\">0</span>\n",
              "</pre>\n"
            ]
          },
          "metadata": {}
        },
        {
          "output_type": "display_data",
          "data": {
            "text/plain": [
              "Sending request \u001b[1;36m1\u001b[0m\n"
            ],
            "text/html": [
              "<pre style=\"white-space:pre;overflow-x:auto;line-height:normal;font-family:Menlo,'DejaVu Sans Mono',consolas,'Courier New',monospace\">Sending request <span style=\"color: #008080; text-decoration-color: #008080; font-weight: bold\">1</span>\n",
              "</pre>\n"
            ]
          },
          "metadata": {}
        },
        {
          "output_type": "display_data",
          "data": {
            "text/plain": [
              "Sending request \u001b[1;36m2\u001b[0m\n"
            ],
            "text/html": [
              "<pre style=\"white-space:pre;overflow-x:auto;line-height:normal;font-family:Menlo,'DejaVu Sans Mono',consolas,'Courier New',monospace\">Sending request <span style=\"color: #008080; text-decoration-color: #008080; font-weight: bold\">2</span>\n",
              "</pre>\n"
            ]
          },
          "metadata": {}
        },
        {
          "output_type": "display_data",
          "data": {
            "text/plain": [
              "Sending request \u001b[1;36m3\u001b[0m\n"
            ],
            "text/html": [
              "<pre style=\"white-space:pre;overflow-x:auto;line-height:normal;font-family:Menlo,'DejaVu Sans Mono',consolas,'Courier New',monospace\">Sending request <span style=\"color: #008080; text-decoration-color: #008080; font-weight: bold\">3</span>\n",
              "</pre>\n"
            ]
          },
          "metadata": {}
        },
        {
          "output_type": "display_data",
          "data": {
            "text/plain": [
              "Sending request \u001b[1;36m4\u001b[0m\n"
            ],
            "text/html": [
              "<pre style=\"white-space:pre;overflow-x:auto;line-height:normal;font-family:Menlo,'DejaVu Sans Mono',consolas,'Courier New',monospace\">Sending request <span style=\"color: #008080; text-decoration-color: #008080; font-weight: bold\">4</span>\n",
              "</pre>\n"
            ]
          },
          "metadata": {}
        },
        {
          "output_type": "stream",
          "name": "stdout",
          "text": [
            "CPU times: user 151 ms, sys: 15.5 ms, total: 166 ms\n",
            "Wall time: 3.48 s\n"
          ]
        }
      ]
    },
    {
      "cell_type": "code",
      "source": [
        "%%time\n",
        "async def _predict(i):\n",
        "    print(f\"Sending request {i}\")\n",
        "    response = await zero_shot_structured_llm.achat(messages)\n",
        "    return response\n",
        "tasks = [_predict(i) for i in range(5)]\n",
        "\n",
        "responses = asyncio.run(asyncio.gather(*tasks))"
      ],
      "metadata": {
        "colab": {
          "base_uri": "https://localhost:8080/",
          "height": 245
        },
        "id": "NxK3kuMq6uxt",
        "outputId": "831c8e64-a3b4-4542-9e89-db73056b7537"
      },
      "execution_count": 32,
      "outputs": [
        {
          "output_type": "error",
          "ename": "RuntimeError",
          "evalue": "asyncio.run() cannot be called from a running event loop",
          "traceback": [
            "\u001b[0;31m---------------------------------------------------------------------------\u001b[0m",
            "\u001b[0;31mRuntimeError\u001b[0m                              Traceback (most recent call last)",
            "\u001b[0;32m<timed exec>\u001b[0m in \u001b[0;36m<module>\u001b[0;34m\u001b[0m\n",
            "\u001b[0;32m/usr/lib/python3.10/asyncio/runners.py\u001b[0m in \u001b[0;36mrun\u001b[0;34m(main, debug)\u001b[0m\n\u001b[1;32m     31\u001b[0m     \"\"\"\n\u001b[1;32m     32\u001b[0m     \u001b[0;32mif\u001b[0m \u001b[0mevents\u001b[0m\u001b[0;34m.\u001b[0m\u001b[0m_get_running_loop\u001b[0m\u001b[0;34m(\u001b[0m\u001b[0;34m)\u001b[0m \u001b[0;32mis\u001b[0m \u001b[0;32mnot\u001b[0m \u001b[0;32mNone\u001b[0m\u001b[0;34m:\u001b[0m\u001b[0;34m\u001b[0m\u001b[0;34m\u001b[0m\u001b[0m\n\u001b[0;32m---> 33\u001b[0;31m         raise RuntimeError(\n\u001b[0m\u001b[1;32m     34\u001b[0m             \"asyncio.run() cannot be called from a running event loop\")\n\u001b[1;32m     35\u001b[0m \u001b[0;34m\u001b[0m\u001b[0m\n",
            "\u001b[0;31mRuntimeError\u001b[0m: asyncio.run() cannot be called from a running event loop"
          ]
        }
      ]
    },
    {
      "cell_type": "code",
      "source": [
        "responses[0]"
      ],
      "metadata": {
        "colab": {
          "base_uri": "https://localhost:8080/",
          "height": 141
        },
        "id": "BhwgBzhe7JaX",
        "outputId": "1a623490-3c21-439e-fd77-9b5206cdd503"
      },
      "execution_count": 33,
      "outputs": [
        {
          "output_type": "error",
          "ename": "NameError",
          "evalue": "name 'responses' is not defined",
          "traceback": [
            "\u001b[0;31m---------------------------------------------------------------------------\u001b[0m",
            "\u001b[0;31mNameError\u001b[0m                                 Traceback (most recent call last)",
            "\u001b[0;32m<ipython-input-33-e5544ac50154>\u001b[0m in \u001b[0;36m<cell line: 1>\u001b[0;34m()\u001b[0m\n\u001b[0;32m----> 1\u001b[0;31m \u001b[0mresponses\u001b[0m\u001b[0;34m[\u001b[0m\u001b[0;36m0\u001b[0m\u001b[0;34m]\u001b[0m\u001b[0;34m\u001b[0m\u001b[0;34m\u001b[0m\u001b[0m\n\u001b[0m",
            "\u001b[0;31mNameError\u001b[0m: name 'responses' is not defined"
          ]
        }
      ]
    },
    {
      "cell_type": "code",
      "execution_count": 34,
      "metadata": {
        "id": "8bOBOElala6d",
        "colab": {
          "base_uri": "https://localhost:8080/",
          "height": 663
        },
        "outputId": "45ea8611-eff4-4cce-bdda-503a5d007a99"
      },
      "outputs": [
        {
          "output_type": "display_data",
          "data": {
            "text/plain": [
              "Cohen's Kappa: \u001b[1;36m0.8571\u001b[0m, MAE: \u001b[1;36m0.48\u001b[0m\n"
            ],
            "text/html": [
              "<pre style=\"white-space:pre;overflow-x:auto;line-height:normal;font-family:Menlo,'DejaVu Sans Mono',consolas,'Courier New',monospace\">Cohen's Kappa: <span style=\"color: #008080; text-decoration-color: #008080; font-weight: bold\">0.8571</span>, MAE: <span style=\"color: #008080; text-decoration-color: #008080; font-weight: bold\">0.48</span>\n",
              "</pre>\n"
            ]
          },
          "metadata": {}
        },
        {
          "output_type": "display_data",
          "data": {
            "text/plain": [
              "              precision    recall  f1-score   support\n",
              "\n",
              "           \u001b[1;36m0\u001b[0m       \u001b[1;36m0.80\u001b[0m      \u001b[1;36m0.40\u001b[0m      \u001b[1;36m0.53\u001b[0m        \u001b[1;36m10\u001b[0m\n",
              "           \u001b[1;36m1\u001b[0m       \u001b[1;36m0.38\u001b[0m      \u001b[1;36m0.60\u001b[0m      \u001b[1;36m0.46\u001b[0m        \u001b[1;36m10\u001b[0m\n",
              "           \u001b[1;36m2\u001b[0m       \u001b[1;36m0.45\u001b[0m      \u001b[1;36m0.50\u001b[0m      \u001b[1;36m0.48\u001b[0m        \u001b[1;36m10\u001b[0m\n",
              "           \u001b[1;36m3\u001b[0m       \u001b[1;36m0.75\u001b[0m      \u001b[1;36m0.30\u001b[0m      \u001b[1;36m0.43\u001b[0m        \u001b[1;36m10\u001b[0m\n",
              "           \u001b[1;36m4\u001b[0m       \u001b[1;36m0.71\u001b[0m      \u001b[1;36m1.00\u001b[0m      \u001b[1;36m0.83\u001b[0m        \u001b[1;36m10\u001b[0m\n",
              "\n",
              "    accuracy                           \u001b[1;36m0.56\u001b[0m        \u001b[1;36m50\u001b[0m\n",
              "   macro avg       \u001b[1;36m0.62\u001b[0m      \u001b[1;36m0.56\u001b[0m      \u001b[1;36m0.55\u001b[0m        \u001b[1;36m50\u001b[0m\n",
              "weighted avg       \u001b[1;36m0.62\u001b[0m      \u001b[1;36m0.56\u001b[0m      \u001b[1;36m0.55\u001b[0m        \u001b[1;36m50\u001b[0m\n",
              "\n"
            ],
            "text/html": [
              "<pre style=\"white-space:pre;overflow-x:auto;line-height:normal;font-family:Menlo,'DejaVu Sans Mono',consolas,'Courier New',monospace\">              precision    recall  f1-score   support\n",
              "\n",
              "           <span style=\"color: #008080; text-decoration-color: #008080; font-weight: bold\">0</span>       <span style=\"color: #008080; text-decoration-color: #008080; font-weight: bold\">0.80</span>      <span style=\"color: #008080; text-decoration-color: #008080; font-weight: bold\">0.40</span>      <span style=\"color: #008080; text-decoration-color: #008080; font-weight: bold\">0.53</span>        <span style=\"color: #008080; text-decoration-color: #008080; font-weight: bold\">10</span>\n",
              "           <span style=\"color: #008080; text-decoration-color: #008080; font-weight: bold\">1</span>       <span style=\"color: #008080; text-decoration-color: #008080; font-weight: bold\">0.38</span>      <span style=\"color: #008080; text-decoration-color: #008080; font-weight: bold\">0.60</span>      <span style=\"color: #008080; text-decoration-color: #008080; font-weight: bold\">0.46</span>        <span style=\"color: #008080; text-decoration-color: #008080; font-weight: bold\">10</span>\n",
              "           <span style=\"color: #008080; text-decoration-color: #008080; font-weight: bold\">2</span>       <span style=\"color: #008080; text-decoration-color: #008080; font-weight: bold\">0.45</span>      <span style=\"color: #008080; text-decoration-color: #008080; font-weight: bold\">0.50</span>      <span style=\"color: #008080; text-decoration-color: #008080; font-weight: bold\">0.48</span>        <span style=\"color: #008080; text-decoration-color: #008080; font-weight: bold\">10</span>\n",
              "           <span style=\"color: #008080; text-decoration-color: #008080; font-weight: bold\">3</span>       <span style=\"color: #008080; text-decoration-color: #008080; font-weight: bold\">0.75</span>      <span style=\"color: #008080; text-decoration-color: #008080; font-weight: bold\">0.30</span>      <span style=\"color: #008080; text-decoration-color: #008080; font-weight: bold\">0.43</span>        <span style=\"color: #008080; text-decoration-color: #008080; font-weight: bold\">10</span>\n",
              "           <span style=\"color: #008080; text-decoration-color: #008080; font-weight: bold\">4</span>       <span style=\"color: #008080; text-decoration-color: #008080; font-weight: bold\">0.71</span>      <span style=\"color: #008080; text-decoration-color: #008080; font-weight: bold\">1.00</span>      <span style=\"color: #008080; text-decoration-color: #008080; font-weight: bold\">0.83</span>        <span style=\"color: #008080; text-decoration-color: #008080; font-weight: bold\">10</span>\n",
              "\n",
              "    accuracy                           <span style=\"color: #008080; text-decoration-color: #008080; font-weight: bold\">0.56</span>        <span style=\"color: #008080; text-decoration-color: #008080; font-weight: bold\">50</span>\n",
              "   macro avg       <span style=\"color: #008080; text-decoration-color: #008080; font-weight: bold\">0.62</span>      <span style=\"color: #008080; text-decoration-color: #008080; font-weight: bold\">0.56</span>      <span style=\"color: #008080; text-decoration-color: #008080; font-weight: bold\">0.55</span>        <span style=\"color: #008080; text-decoration-color: #008080; font-weight: bold\">50</span>\n",
              "weighted avg       <span style=\"color: #008080; text-decoration-color: #008080; font-weight: bold\">0.62</span>      <span style=\"color: #008080; text-decoration-color: #008080; font-weight: bold\">0.56</span>      <span style=\"color: #008080; text-decoration-color: #008080; font-weight: bold\">0.55</span>        <span style=\"color: #008080; text-decoration-color: #008080; font-weight: bold\">50</span>\n",
              "\n",
              "</pre>\n"
            ]
          },
          "metadata": {}
        },
        {
          "output_type": "display_data",
          "data": {
            "text/plain": [
              "<Figure size 640x480 with 2 Axes>"
            ],
            "image/png": "[encoded data removed]"
          },
          "metadata": {}
        }
      ],
      "source": [
        "zero_shot_labels, zero_shot_predictions, zero_shot_kappa, zero_shot_mae, zero_shot_cm, zero_shot_cr = await predict_and_evaluate(zero_shot_predict)\n",
        "print(f\"Cohen's Kappa: {zero_shot_kappa:.04f}, MAE: {zero_shot_mae}\")\n",
        "print(zero_shot_cr)"
      ]
    },
    {
      "cell_type": "markdown",
      "source": [],
      "metadata": {
        "id": "S1LFKnEaN-RK"
      }
    },
    {
      "cell_type": "markdown",
      "metadata": {
        "id": "0vnpPQUOZpPX"
      },
      "source": [
        "# Prompt engineering 2: few-shot promting"
      ]
    },
    {
      "cell_type": "markdown",
      "metadata": {
        "id": "W-_rhqOV7lzY"
      },
      "source": [
        "In the following cell, we load and parse the data.\n",
        "The data here is uber reviews"
      ]
    },
    {
      "cell_type": "code",
      "execution_count": 35,
      "metadata": {
        "id": "dozUZ9OS433K",
        "colab": {
          "base_uri": "https://localhost:8080/"
        },
        "outputId": "c6bd9781-f85f-4200-855a-123de52e64b2"
      },
      "outputs": [
        {
          "output_type": "execute_result",
          "data": {
            "text/plain": [
              "{'id': ['en_0894197', 'en_0512487', 'en_0821675', 'en_0011275', 'en_0338895'],\n",
              " 'text': ['Great starter, works like it supposed to! Love it!',\n",
              "  'Little metal nub that locks handle into jack broke off on first use......And felt handle was a bit short.',\n",
              "  'Bought them for myself and gave them as a gift. Super strong and sturdy.',\n",
              "  'Two chargers, 2 ports each, 2 cables, good price, works perfectly, came the next day!',\n",
              "  'The crowns worked perfectly for our 7th grade pageant winners. They sparkle, shine, and fit the budget.'],\n",
              " 'label': [4, 0, 4, 4, 4],\n",
              " 'label_text': ['4', '0', '4', '4', '4']}"
            ]
          },
          "metadata": {},
          "execution_count": 35
        }
      ],
      "source": [
        "train.shuffle()[:5]"
      ]
    },
    {
      "cell_type": "code",
      "execution_count": 36,
      "metadata": {
        "id": "OGLdG-Hz3a4h"
      },
      "outputs": [],
      "source": [
        "rng = np.random.Generator(np.random.PCG64(1234))\n",
        "\n",
        "def random_few_shot_examples_fn(**kwargs):\n",
        "    if n_samples:=kwargs.get('n_samples'):\n",
        "        random_examples = train.shuffle(generator=rng)[:n_samples]\n",
        "    else:\n",
        "        random_examples = train.shuffle(generator=rng)[:5]\n",
        "\n",
        "    result_strs = []\n",
        "    for text, rating in zip(random_examples['text'], random_examples['label']):\n",
        "        result_strs.append(f\"Text: {text}\\nRating: {rating}\")\n",
        "    return \"\\n\\n\".join(result_strs)"
      ]
    },
    {
      "cell_type": "code",
      "execution_count": 37,
      "metadata": {
        "id": "dYCRyZFT48eM",
        "colab": {
          "base_uri": "https://localhost:8080/",
          "height": 289
        },
        "outputId": "12b6c849-efe9-469e-e379-a03d1b8bfe95"
      },
      "outputs": [
        {
          "output_type": "display_data",
          "data": {
            "text/plain": [
              "Text: My daughter loves it.\n",
              "Rating: \u001b[1;36m4\u001b[0m\n",
              "\n",
              "Text: I only use one time for my dog, it really work well, I can see the reduce the ear affection, but it has the \n",
              "small my dog doesn't like. If it can be no sense that would be better.\n",
              "Rating: \u001b[1;36m3\u001b[0m\n",
              "\n",
              "Text: Bought it for my Boyfriend while I am away for a few months. When it even works the camera is glitchy.\n",
              "Rating: \u001b[1;36m0\u001b[0m\n",
              "\n",
              "Text: Great screen tent, however I tried to set it up by myself and I accidentally set it up inside out. Watch the \n",
              "YouTube video before setting it up.\n",
              "Rating: \u001b[1;36m4\u001b[0m\n",
              "\n",
              "Text: It was not the Kevlar belt that should have been sent. Just cheap rubber. Won’t last long\u001b[33m...\u001b[0mkept it in \n",
              "packaging until I needed it\u001b[33m...\u001b[0mreturn window closed\u001b[33m...\u001b[0msucks!\n",
              "Rating: \u001b[1;36m0\u001b[0m\n"
            ],
            "text/html": [
              "<pre style=\"white-space:pre;overflow-x:auto;line-height:normal;font-family:Menlo,'DejaVu Sans Mono',consolas,'Courier New',monospace\">Text: My daughter loves it.\n",
              "Rating: <span style=\"color: #008080; text-decoration-color: #008080; font-weight: bold\">4</span>\n",
              "\n",
              "Text: I only use one time for my dog, it really work well, I can see the reduce the ear affection, but it has the \n",
              "small my dog doesn't like. If it can be no sense that would be better.\n",
              "Rating: <span style=\"color: #008080; text-decoration-color: #008080; font-weight: bold\">3</span>\n",
              "\n",
              "Text: Bought it for my Boyfriend while I am away for a few months. When it even works the camera is glitchy.\n",
              "Rating: <span style=\"color: #008080; text-decoration-color: #008080; font-weight: bold\">0</span>\n",
              "\n",
              "Text: Great screen tent, however I tried to set it up by myself and I accidentally set it up inside out. Watch the \n",
              "YouTube video before setting it up.\n",
              "Rating: <span style=\"color: #008080; text-decoration-color: #008080; font-weight: bold\">4</span>\n",
              "\n",
              "Text: It was not the Kevlar belt that should have been sent. Just cheap rubber. Won’t last long<span style=\"color: #808000; text-decoration-color: #808000\">...</span>kept it in \n",
              "packaging until I needed it<span style=\"color: #808000; text-decoration-color: #808000\">...</span>return window closed<span style=\"color: #808000; text-decoration-color: #808000\">...</span>sucks!\n",
              "Rating: <span style=\"color: #008080; text-decoration-color: #008080; font-weight: bold\">0</span>\n",
              "</pre>\n"
            ]
          },
          "metadata": {}
        }
      ],
      "source": [
        "print(random_few_shot_examples_fn())"
      ]
    },
    {
      "cell_type": "code",
      "execution_count": 38,
      "metadata": {
        "id": "GGk-w7fL5XW5"
      },
      "outputs": [],
      "source": [
        "few_shot_prompt_tmpl_str = \"\"\"\\\n",
        "The review text is below.\n",
        "---------------------\n",
        "{review}\n",
        "---------------------\n",
        "Given the review text and not prior knowledge, \\\n",
        "please attempt to predict the review score of the context. \\\n",
        "Here are several examples of reviews and their ratings:\n",
        "\n",
        "{random_few_shot_examples}\n",
        "\n",
        "Query: What is the rating of this review?\n",
        "Answer: \\\n",
        "\"\"\"\n",
        "\n",
        "few_shot_prompt_tmpl = PromptTemplate(\n",
        "    few_shot_prompt_tmpl_str,\n",
        "    function_mappings={\"random_few_shot_examples\": random_few_shot_examples_fn},\n",
        ")"
      ]
    },
    {
      "cell_type": "code",
      "execution_count": 39,
      "metadata": {
        "id": "apaZeBI35qcL",
        "colab": {
          "base_uri": "https://localhost:8080/",
          "height": 257
        },
        "outputId": "a89aef33-d265-421a-f34c-a9ade14e9b5f"
      },
      "outputs": [
        {
          "output_type": "display_data",
          "data": {
            "text/plain": [
              "The review text is below.\n",
              "---------------------\n",
              "I loved this product!\n",
              "---------------------\n",
              "Given the review text and not prior knowledge, please attempt to predict the review score of the context. Here are \n",
              "several examples of reviews and their ratings:\n",
              "\n",
              "Text: Is nice but it's outside and many rusty\n",
              "Rating: \u001b[1;36m0\u001b[0m\n",
              "\n",
              "Text: Good quality, exact fit and arrives quickly\n",
              "Rating: \u001b[1;36m4\u001b[0m\n",
              "\n",
              "Query: What is the rating of this review?\n",
              "Answer: \n"
            ],
            "text/html": [
              "<pre style=\"white-space:pre;overflow-x:auto;line-height:normal;font-family:Menlo,'DejaVu Sans Mono',consolas,'Courier New',monospace\">The review text is below.\n",
              "---------------------\n",
              "I loved this product!\n",
              "---------------------\n",
              "Given the review text and not prior knowledge, please attempt to predict the review score of the context. Here are \n",
              "several examples of reviews and their ratings:\n",
              "\n",
              "Text: Is nice but it's outside and many rusty\n",
              "Rating: <span style=\"color: #008080; text-decoration-color: #008080; font-weight: bold\">0</span>\n",
              "\n",
              "Text: Good quality, exact fit and arrives quickly\n",
              "Rating: <span style=\"color: #008080; text-decoration-color: #008080; font-weight: bold\">4</span>\n",
              "\n",
              "Query: What is the rating of this review?\n",
              "Answer: \n",
              "</pre>\n"
            ]
          },
          "metadata": {}
        }
      ],
      "source": [
        "print(few_shot_prompt_tmpl.format(review='I loved this product!', n_samples=2))"
      ]
    },
    {
      "cell_type": "code",
      "execution_count": 40,
      "metadata": {
        "id": "PSGk69O33Hfo"
      },
      "outputs": [],
      "source": [
        "class Rating(BaseModel):\n",
        "    rating: int = Field(..., description=\"Rating of the review\", enum=[0, 1, 2, 3, 4])\n",
        "\n",
        "llm = OpenAI(model=\"gpt-4o-mini\")\n",
        "rand_few_shot_structured_llm = llm.as_structured_llm(Rating)"
      ]
    },
    {
      "cell_type": "code",
      "source": [
        "import pandas as pd"
      ],
      "metadata": {
        "id": "dRhQywvcAZ9a"
      },
      "execution_count": 41,
      "outputs": []
    },
    {
      "cell_type": "code",
      "execution_count": 42,
      "metadata": {
        "id": "TBZuZeBK440q"
      },
      "outputs": [],
      "source": [
        "async def random_few_shot_predict(text, n_examples=5):\n",
        "    tasks = []\n",
        "    for _ in range(3):\n",
        "        messages = [\n",
        "            ChatMessage.from_str(few_shot_prompt_tmpl.format(review=text, n_samples=n_examples))\n",
        "        ]\n",
        "        tasks.append(rand_few_shot_structured_llm.achat(messages, temperature=0.9))\n",
        "    results = await asyncio.gather(*tasks)\n",
        "    ratings = [r.raw.rating for r in results]\n",
        "    # print(ratings)\n",
        "    return pd.Series(ratings).mode()[0]"
      ]
    },
    {
      "cell_type": "code",
      "execution_count": 43,
      "metadata": {
        "id": "QRAMqSGKre1j",
        "colab": {
          "base_uri": "https://localhost:8080/",
          "height": 663
        },
        "outputId": "6cd22eeb-b572-4069-ec0a-92d4c3594fac"
      },
      "outputs": [
        {
          "output_type": "display_data",
          "data": {
            "text/plain": [
              "Cohen's Kappa: \u001b[1;36m0.8541\u001b[0m, MAE: \u001b[1;36m0.5\u001b[0m\n"
            ],
            "text/html": [
              "<pre style=\"white-space:pre;overflow-x:auto;line-height:normal;font-family:Menlo,'DejaVu Sans Mono',consolas,'Courier New',monospace\">Cohen's Kappa: <span style=\"color: #008080; text-decoration-color: #008080; font-weight: bold\">0.8541</span>, MAE: <span style=\"color: #008080; text-decoration-color: #008080; font-weight: bold\">0.5</span>\n",
              "</pre>\n"
            ]
          },
          "metadata": {}
        },
        {
          "output_type": "display_data",
          "data": {
            "text/plain": [
              "              precision    recall  f1-score   support\n",
              "\n",
              "           \u001b[1;36m0\u001b[0m       \u001b[1;36m0.67\u001b[0m      \u001b[1;36m0.20\u001b[0m      \u001b[1;36m0.31\u001b[0m        \u001b[1;36m10\u001b[0m\n",
              "           \u001b[1;36m1\u001b[0m       \u001b[1;36m0.38\u001b[0m      \u001b[1;36m0.60\u001b[0m      \u001b[1;36m0.46\u001b[0m        \u001b[1;36m10\u001b[0m\n",
              "           \u001b[1;36m2\u001b[0m       \u001b[1;36m0.46\u001b[0m      \u001b[1;36m0.60\u001b[0m      \u001b[1;36m0.52\u001b[0m        \u001b[1;36m10\u001b[0m\n",
              "           \u001b[1;36m3\u001b[0m       \u001b[1;36m0.60\u001b[0m      \u001b[1;36m0.30\u001b[0m      \u001b[1;36m0.40\u001b[0m        \u001b[1;36m10\u001b[0m\n",
              "           \u001b[1;36m4\u001b[0m       \u001b[1;36m0.69\u001b[0m      \u001b[1;36m0.90\u001b[0m      \u001b[1;36m0.78\u001b[0m        \u001b[1;36m10\u001b[0m\n",
              "\n",
              "    accuracy                           \u001b[1;36m0.52\u001b[0m        \u001b[1;36m50\u001b[0m\n",
              "   macro avg       \u001b[1;36m0.56\u001b[0m      \u001b[1;36m0.52\u001b[0m      \u001b[1;36m0.49\u001b[0m        \u001b[1;36m50\u001b[0m\n",
              "weighted avg       \u001b[1;36m0.56\u001b[0m      \u001b[1;36m0.52\u001b[0m      \u001b[1;36m0.49\u001b[0m        \u001b[1;36m50\u001b[0m\n",
              "\n"
            ],
            "text/html": [
              "<pre style=\"white-space:pre;overflow-x:auto;line-height:normal;font-family:Menlo,'DejaVu Sans Mono',consolas,'Courier New',monospace\">              precision    recall  f1-score   support\n",
              "\n",
              "           <span style=\"color: #008080; text-decoration-color: #008080; font-weight: bold\">0</span>       <span style=\"color: #008080; text-decoration-color: #008080; font-weight: bold\">0.67</span>      <span style=\"color: #008080; text-decoration-color: #008080; font-weight: bold\">0.20</span>      <span style=\"color: #008080; text-decoration-color: #008080; font-weight: bold\">0.31</span>        <span style=\"color: #008080; text-decoration-color: #008080; font-weight: bold\">10</span>\n",
              "           <span style=\"color: #008080; text-decoration-color: #008080; font-weight: bold\">1</span>       <span style=\"color: #008080; text-decoration-color: #008080; font-weight: bold\">0.38</span>      <span style=\"color: #008080; text-decoration-color: #008080; font-weight: bold\">0.60</span>      <span style=\"color: #008080; text-decoration-color: #008080; font-weight: bold\">0.46</span>        <span style=\"color: #008080; text-decoration-color: #008080; font-weight: bold\">10</span>\n",
              "           <span style=\"color: #008080; text-decoration-color: #008080; font-weight: bold\">2</span>       <span style=\"color: #008080; text-decoration-color: #008080; font-weight: bold\">0.46</span>      <span style=\"color: #008080; text-decoration-color: #008080; font-weight: bold\">0.60</span>      <span style=\"color: #008080; text-decoration-color: #008080; font-weight: bold\">0.52</span>        <span style=\"color: #008080; text-decoration-color: #008080; font-weight: bold\">10</span>\n",
              "           <span style=\"color: #008080; text-decoration-color: #008080; font-weight: bold\">3</span>       <span style=\"color: #008080; text-decoration-color: #008080; font-weight: bold\">0.60</span>      <span style=\"color: #008080; text-decoration-color: #008080; font-weight: bold\">0.30</span>      <span style=\"color: #008080; text-decoration-color: #008080; font-weight: bold\">0.40</span>        <span style=\"color: #008080; text-decoration-color: #008080; font-weight: bold\">10</span>\n",
              "           <span style=\"color: #008080; text-decoration-color: #008080; font-weight: bold\">4</span>       <span style=\"color: #008080; text-decoration-color: #008080; font-weight: bold\">0.69</span>      <span style=\"color: #008080; text-decoration-color: #008080; font-weight: bold\">0.90</span>      <span style=\"color: #008080; text-decoration-color: #008080; font-weight: bold\">0.78</span>        <span style=\"color: #008080; text-decoration-color: #008080; font-weight: bold\">10</span>\n",
              "\n",
              "    accuracy                           <span style=\"color: #008080; text-decoration-color: #008080; font-weight: bold\">0.52</span>        <span style=\"color: #008080; text-decoration-color: #008080; font-weight: bold\">50</span>\n",
              "   macro avg       <span style=\"color: #008080; text-decoration-color: #008080; font-weight: bold\">0.56</span>      <span style=\"color: #008080; text-decoration-color: #008080; font-weight: bold\">0.52</span>      <span style=\"color: #008080; text-decoration-color: #008080; font-weight: bold\">0.49</span>        <span style=\"color: #008080; text-decoration-color: #008080; font-weight: bold\">50</span>\n",
              "weighted avg       <span style=\"color: #008080; text-decoration-color: #008080; font-weight: bold\">0.56</span>      <span style=\"color: #008080; text-decoration-color: #008080; font-weight: bold\">0.52</span>      <span style=\"color: #008080; text-decoration-color: #008080; font-weight: bold\">0.49</span>        <span style=\"color: #008080; text-decoration-color: #008080; font-weight: bold\">50</span>\n",
              "\n",
              "</pre>\n"
            ]
          },
          "metadata": {}
        },
        {
          "output_type": "display_data",
          "data": {
            "text/plain": [
              "<Figure size 640x480 with 2 Axes>"
            ],
            "image/png": "[encoded data removed]"
          },
          "metadata": {}
        }
      ],
      "source": [
        "random_few_shot_labels, random_few_shot_predictions, random_few_shot_kappa, random_few_shot_mae, random_few_shot_cm, random_few_shot_cr = await predict_and_evaluate(random_few_shot_predict)\n",
        "print(f\"Cohen's Kappa: {random_few_shot_kappa:.04f}, MAE: {random_few_shot_mae}\")\n",
        "print(random_few_shot_cr)"
      ]
    },
    {
      "cell_type": "markdown",
      "metadata": {
        "id": "tfedNl_UZyWj"
      },
      "source": [
        "# Demo: Embeddings and vector stores\n",
        "\n",
        "In the previous demonstration, we saw that providing several randomly-selected examples to the LLM at inference time does decently well - it's decently good at predicting the review score, especially within 1 point of the actual review.\n",
        "In a little bit, we'll see that providing better examples to the model at inference time helps improve these scores.\n",
        "But we need efficient ways of searching over our `train` examples to determine which one to use.\n",
        "\n",
        "This is when you want to use a vector store.\n",
        "Vector stores can be in-memory stors, on-disk stores, database extensions like pgvector for Postgres, or even external APIs like Pinecone.\n",
        "\n",
        "Today, we'll use a popular open-source vectore database called `chromadb`.\n",
        "This tool allows us to ingest our documents and search over them effectively to determine which examples to use.\n",
        "\n",
        "In this demo, we'll go over the basics of how to use ChromaDB.\n",
        "We will also use `sentence-transformers` for embeddings as an example of how to use open-weights embedding models."
      ]
    },
    {
      "cell_type": "code",
      "execution_count": 44,
      "metadata": {
        "id": "ij1wKj_P8hbl"
      },
      "outputs": [],
      "source": [
        "# Imports\n",
        "from chromadb import Client\n",
        "from chromadb.utils.embedding_functions import SentenceTransformerEmbeddingFunction"
      ]
    },
    {
      "cell_type": "markdown",
      "metadata": {
        "id": "89FH9DtpcI3r"
      },
      "source": [
        "In this cell, we declare our embedding function.\n",
        "We will use the small but powerful [BGE-small](https://huggingface.co/BAAI/bge-small-en-v1.5) model to embed our documents."
      ]
    },
    {
      "cell_type": "code",
      "execution_count": 45,
      "metadata": {
        "id": "WpQdhTRP92MM"
      },
      "outputs": [],
      "source": [
        "embed_fn = SentenceTransformerEmbeddingFunction('BAAI/bge-small-en-v1.5')"
      ]
    },
    {
      "cell_type": "markdown",
      "metadata": {
        "id": "WQtyevhXceZ9"
      },
      "source": [
        "Next, we can create our `chromadb` client and use it to create our collection (think table).\n",
        "Notice that we pass our embedding function.\n",
        "That way, when we add documents to the table, the the text is automatically embedded."
      ]
    },
    {
      "cell_type": "code",
      "execution_count": 46,
      "metadata": {
        "id": "gjN4Byls-sl4"
      },
      "outputs": [],
      "source": [
        "chroma_client = Client()"
      ]
    },
    {
      "cell_type": "code",
      "execution_count": 47,
      "metadata": {
        "id": "TU6DBPIP-tyS"
      },
      "outputs": [],
      "source": [
        "reviews = chroma_client.create_collection(\n",
        "    name='reviews',\n",
        "    embedding_function=embed_fn,\n",
        "    get_or_create=True\n",
        ")"
      ]
    },
    {
      "cell_type": "code",
      "execution_count": 48,
      "metadata": {
        "id": "dMu6Dqs4_3Bm"
      },
      "outputs": [],
      "source": [
        "reviews.add(documents=train['text'], metadatas=[{'rating': x} for x in train['label']], ids=train['id'])"
      ]
    },
    {
      "cell_type": "markdown",
      "metadata": {
        "id": "sJuCCU5pcvvU"
      },
      "source": [
        "Once we have created our vector store, we can search over it using plain text.\n",
        "Here are 3 queries - good review, a neutral review, and a bad review.\n",
        "Let's search our train documents and observe the average rating for the closest 5 documents to each fake review."
      ]
    },
    {
      "cell_type": "code",
      "execution_count": 49,
      "metadata": {
        "id": "QHhwQkgSZmQW"
      },
      "outputs": [],
      "source": [
        "queries = [\n",
        "    \"This product is great!\",\n",
        "    \"This product was pretty typical - not good or bad.\",\n",
        "    \"This product was awful\",\n",
        "]"
      ]
    },
    {
      "cell_type": "code",
      "execution_count": 50,
      "metadata": {
        "id": "iNW6jiGX-1kg"
      },
      "outputs": [],
      "source": [
        "retrievals = reviews.query(\n",
        "    query_texts=queries,\n",
        "    n_results=5\n",
        ")"
      ]
    },
    {
      "cell_type": "code",
      "execution_count": 51,
      "metadata": {
        "id": "226vy3W6Y9kz",
        "colab": {
          "base_uri": "https://localhost:8080/",
          "height": 113
        },
        "outputId": "7a153c3d-3af5-4c51-9795-5eb1001b853f"
      },
      "outputs": [
        {
          "output_type": "display_data",
          "data": {
            "text/plain": [
              "Review This product is great!\n"
            ],
            "text/html": [
              "<pre style=\"white-space:pre;overflow-x:auto;line-height:normal;font-family:Menlo,'DejaVu Sans Mono',consolas,'Courier New',monospace\">Review This product is great!\n",
              "</pre>\n"
            ]
          },
          "metadata": {}
        },
        {
          "output_type": "display_data",
          "data": {
            "text/plain": [
              "Avg rating of retrieved passages: \u001b[1;36m3.8\u001b[0m\n"
            ],
            "text/html": [
              "<pre style=\"white-space:pre;overflow-x:auto;line-height:normal;font-family:Menlo,'DejaVu Sans Mono',consolas,'Courier New',monospace\">Avg rating of retrieved passages: <span style=\"color: #008080; text-decoration-color: #008080; font-weight: bold\">3.8</span>\n",
              "</pre>\n"
            ]
          },
          "metadata": {}
        },
        {
          "output_type": "display_data",
          "data": {
            "text/plain": [
              "Review This product was pretty typical - not good or bad.\n"
            ],
            "text/html": [
              "<pre style=\"white-space:pre;overflow-x:auto;line-height:normal;font-family:Menlo,'DejaVu Sans Mono',consolas,'Courier New',monospace\">Review This product was pretty typical - not good or bad.\n",
              "</pre>\n"
            ]
          },
          "metadata": {}
        },
        {
          "output_type": "display_data",
          "data": {
            "text/plain": [
              "Avg rating of retrieved passages: \u001b[1;36m1.4\u001b[0m\n"
            ],
            "text/html": [
              "<pre style=\"white-space:pre;overflow-x:auto;line-height:normal;font-family:Menlo,'DejaVu Sans Mono',consolas,'Courier New',monospace\">Avg rating of retrieved passages: <span style=\"color: #008080; text-decoration-color: #008080; font-weight: bold\">1.4</span>\n",
              "</pre>\n"
            ]
          },
          "metadata": {}
        },
        {
          "output_type": "display_data",
          "data": {
            "text/plain": [
              "Review This product was awful\n"
            ],
            "text/html": [
              "<pre style=\"white-space:pre;overflow-x:auto;line-height:normal;font-family:Menlo,'DejaVu Sans Mono',consolas,'Courier New',monospace\">Review This product was awful\n",
              "</pre>\n"
            ]
          },
          "metadata": {}
        },
        {
          "output_type": "display_data",
          "data": {
            "text/plain": [
              "Avg rating of retrieved passages: \u001b[1;36m0.6\u001b[0m\n"
            ],
            "text/html": [
              "<pre style=\"white-space:pre;overflow-x:auto;line-height:normal;font-family:Menlo,'DejaVu Sans Mono',consolas,'Courier New',monospace\">Avg rating of retrieved passages: <span style=\"color: #008080; text-decoration-color: #008080; font-weight: bold\">0.6</span>\n",
              "</pre>\n"
            ]
          },
          "metadata": {}
        }
      ],
      "source": [
        "for query, metadatas in zip(queries, retrievals['metadatas']):\n",
        "    ratings = [float(i.get('rating')) for i in metadatas]\n",
        "    print(f\"Review {query}\")\n",
        "    print(f\"Avg rating of retrieved passages: {np.mean(ratings)}\")"
      ]
    },
    {
      "cell_type": "code",
      "execution_count": 52,
      "metadata": {
        "id": "sQOW_7KZ30XH",
        "colab": {
          "base_uri": "https://localhost:8080/"
        },
        "outputId": "bada088c-25e8-45c9-94b1-5e8ca2801183"
      },
      "outputs": [
        {
          "output_type": "execute_result",
          "data": {
            "text/plain": [
              "[['Great purchase! It’s my I watch perfect and easy to attach!',\n",
              "  'Great starter, works like it supposed to! Love it!',\n",
              "  'Just received, easy to set up and use.',\n",
              "  'Love how structured it is for a small pillow! It’s nice to have the support and not take up the whole bed!',\n",
              "  'Good product works great!',\n",
              "  'A bit large for a size 8. But it shines so nice!! Looks great. It’s a tad brighter and lighter than my real diamonds but perhaps with wear it’ll settle in. Looks great with my real diamonds! Love it.',\n",
              "  'My speaker is really loud and I’m happy about it... The instructions were simple and easy to follow but ... I didn’t receive any cords to charge the speaker or connect it to anything ... and still waiting for a response from the supplier or Amazon',\n",
              "  \"Got to me on time and packaged well. Haven't seen the end result (what it is being used for as it was a gift) but not complaints so far!\",\n",
              "  'Made a wonderful \"GAG\" gift. Bought it for a gag gift for my best friend, it was hilarious. Comes in a small package so nothing embarrassing about the gift, just pure fun and a ton of laughs.',\n",
              "  'Cool looking and reflective']]"
            ]
          },
          "metadata": {},
          "execution_count": 52
        }
      ],
      "source": [
        "reviews.query(query_texts = 'hello!')['documents']"
      ]
    },
    {
      "cell_type": "markdown",
      "metadata": {
        "id": "UIRfHOCFdBY_"
      },
      "source": [
        "## Discussion: Using vector stores\n",
        "\n",
        "Now that we have our data encoded this way, can anyone tell me how we might use this object to improve the way we classify reviews?"
      ]
    },
    {
      "cell_type": "markdown",
      "metadata": {
        "id": "whSrknBwZ1hA"
      },
      "source": [
        "# Prompt engineering 3: dynamic few-shot prompting"
      ]
    },
    {
      "cell_type": "code",
      "execution_count": 53,
      "metadata": {
        "id": "cdM9igtyZ4ZA"
      },
      "outputs": [],
      "source": [
        "def dynamic_few_shot_examples_fn(**kwargs):\n",
        "    n_examples = kwargs.get('n_examples', 5)\n",
        "    retrievals = reviews.query(\n",
        "        query_texts=[kwargs['review']],\n",
        "        n_results=n_examples\n",
        "    )\n",
        "    result_strs = []\n",
        "    documents = retrievals['documents'][0]\n",
        "    metadatas = retrievals['metadatas'][0]\n",
        "    for document, metadata in zip(documents, metadatas):\n",
        "        result_strs.append(f\"Text: {document}\\nRating: {metadata.get('rating')}\")\n",
        "    return \"\\n\\n\".join(result_strs)"
      ]
    },
    {
      "cell_type": "code",
      "execution_count": 54,
      "metadata": {
        "id": "hSjfOxUP1V69",
        "colab": {
          "base_uri": "https://localhost:8080/",
          "height": 305
        },
        "outputId": "185bc00c-e90b-4973-bef1-8c320c90c45a"
      },
      "outputs": [
        {
          "output_type": "display_data",
          "data": {
            "text/plain": [
              "Text: Good product works great!\n",
              "Rating: \u001b[1;36m3\u001b[0m\n",
              "\n",
              "Text: Great purchase! It’s my I watch perfect and easy to attach!\n",
              "Rating: \u001b[1;36m4\u001b[0m\n",
              "\n",
              "Text: We have a small area and limited outlet availability. With the amount of electronics we have is hard to make \n",
              "room for all of it! This is super helpful to save on space! Fast charging and compatible with Apple \u001b[1m(\u001b[0msome products \n",
              "give you an error code; \u001b[32m\"not compatible\"\u001b[0m or whatever\u001b[1m)\u001b[0m. Has been a life saver! Will probably order another one for \n",
              "our cars!\n",
              "Rating: \u001b[1;36m4\u001b[0m\n",
              "\n",
              "Text: This product came to us quickly and in perfect condition. It was packaged well and exactly as described.\n",
              "Rating: \u001b[1;36m4\u001b[0m\n",
              "\n",
              "Text: These combs are beautiful and are great quality. They not only help reduce static during the winter, but the \n",
              "feel so sleek against my scalp and hair. I love them.\n",
              "Rating: \u001b[1;36m4\u001b[0m\n"
            ],
            "text/html": [
              "<pre style=\"white-space:pre;overflow-x:auto;line-height:normal;font-family:Menlo,'DejaVu Sans Mono',consolas,'Courier New',monospace\">Text: Good product works great!\n",
              "Rating: <span style=\"color: #008080; text-decoration-color: #008080; font-weight: bold\">3</span>\n",
              "\n",
              "Text: Great purchase! It’s my I watch perfect and easy to attach!\n",
              "Rating: <span style=\"color: #008080; text-decoration-color: #008080; font-weight: bold\">4</span>\n",
              "\n",
              "Text: We have a small area and limited outlet availability. With the amount of electronics we have is hard to make \n",
              "room for all of it! This is super helpful to save on space! Fast charging and compatible with Apple <span style=\"font-weight: bold\">(</span>some products \n",
              "give you an error code; <span style=\"color: #008000; text-decoration-color: #008000\">\"not compatible\"</span> or whatever<span style=\"font-weight: bold\">)</span>. Has been a life saver! Will probably order another one for \n",
              "our cars!\n",
              "Rating: <span style=\"color: #008080; text-decoration-color: #008080; font-weight: bold\">4</span>\n",
              "\n",
              "Text: This product came to us quickly and in perfect condition. It was packaged well and exactly as described.\n",
              "Rating: <span style=\"color: #008080; text-decoration-color: #008080; font-weight: bold\">4</span>\n",
              "\n",
              "Text: These combs are beautiful and are great quality. They not only help reduce static during the winter, but the \n",
              "feel so sleek against my scalp and hair. I love them.\n",
              "Rating: <span style=\"color: #008080; text-decoration-color: #008080; font-weight: bold\">4</span>\n",
              "</pre>\n"
            ]
          },
          "metadata": {}
        }
      ],
      "source": [
        "print(dynamic_few_shot_examples_fn(review=\"This is the best product I've ever bought!\"))"
      ]
    },
    {
      "cell_type": "code",
      "execution_count": 55,
      "metadata": {
        "id": "n47biWMBqt2t",
        "colab": {
          "base_uri": "https://localhost:8080/",
          "height": 161
        },
        "outputId": "cb4c1706-b86d-476f-cc56-1653c2658b7b"
      },
      "outputs": [
        {
          "output_type": "display_data",
          "data": {
            "text/plain": [
              "Text: I would give this zero stars if I could. This product is a piece of crap! I used both protectors and on first\n",
              "try, neither protectors stuck to the phone. It’s not like I tried multiple times for it to line up.. no it wouldn’t\n",
              "stick on first try n i know how to put on screen protectors. Terrible product!\n",
              "Rating: \u001b[1;36m0\u001b[0m\n",
              "\n",
              "Text: This is a waste of money! The amount of slime this kit makes is so tiny. You will be much further ahead by \n",
              "buying glue, glitter, and any other slime ingredients separately. The packaging makes it look appealing but it is \n",
              "very disappointing.\n",
              "Rating: \u001b[1;36m0\u001b[0m\n"
            ],
            "text/html": [
              "<pre style=\"white-space:pre;overflow-x:auto;line-height:normal;font-family:Menlo,'DejaVu Sans Mono',consolas,'Courier New',monospace\">Text: I would give this zero stars if I could. This product is a piece of crap! I used both protectors and on first\n",
              "try, neither protectors stuck to the phone. It’s not like I tried multiple times for it to line up.. no it wouldn’t\n",
              "stick on first try n i know how to put on screen protectors. Terrible product!\n",
              "Rating: <span style=\"color: #008080; text-decoration-color: #008080; font-weight: bold\">0</span>\n",
              "\n",
              "Text: This is a waste of money! The amount of slime this kit makes is so tiny. You will be much further ahead by \n",
              "buying glue, glitter, and any other slime ingredients separately. The packaging makes it look appealing but it is \n",
              "very disappointing.\n",
              "Rating: <span style=\"color: #008080; text-decoration-color: #008080; font-weight: bold\">0</span>\n",
              "</pre>\n"
            ]
          },
          "metadata": {}
        }
      ],
      "source": [
        "print(dynamic_few_shot_examples_fn(review=\"This is the worst product I've ever bought!\", n_examples=2))"
      ]
    },
    {
      "cell_type": "code",
      "execution_count": 56,
      "metadata": {
        "id": "SFqomajG4YyU"
      },
      "outputs": [],
      "source": [
        "dynamic_few_shot_prompt_tmpl_str = \"\"\"\\\n",
        "The review text is below.\n",
        "---------------------\n",
        "{review}\n",
        "---------------------\n",
        "Given the review text and not prior knowledge, \\\n",
        "please attempt to predict the review score of the context. \\\n",
        "Here are several examples of reviews and their ratings:\n",
        "\n",
        "{dynamic_few_shot_examples}\n",
        "\n",
        "Query: What is the rating of this review?\n",
        "Answer: \\\n",
        "\"\"\"\n",
        "\n",
        "dynamic_few_shot_prompt_tmpl = PromptTemplate(\n",
        "    dynamic_few_shot_prompt_tmpl_str,\n",
        "    function_mappings={\"dynamic_few_shot_examples\": dynamic_few_shot_examples_fn},\n",
        ")"
      ]
    },
    {
      "cell_type": "code",
      "execution_count": 123,
      "metadata": {
        "id": "9UJsdk9Ypknd",
        "colab": {
          "base_uri": "https://localhost:8080/",
          "height": 241
        },
        "outputId": "b3e4af57-b6a2-4895-9807-4a69097eaf01"
      },
      "outputs": [
        {
          "output_type": "display_data",
          "data": {
            "text/plain": [
              "The review text is below.\n",
              "---------------------\n",
              "I hated this product!\n",
              "---------------------\n",
              "Given the review text and not prior knowledge, please attempt to predict the review score of the context. Here are \n",
              "several examples of reviews and their ratings:\n",
              "\n",
              "Text: I would give this zero stars if I could. This product is a piece of crap! I used both protectors and on first\n",
              "try, neither protectors stuck to the phone. It’s not like I tried multiple times for it to line up.. no it wouldn’t\n",
              "stick on first try n i know how to put on screen protectors. Terrible product!\n",
              "Rating: \u001b[1;36m0\u001b[0m\n",
              "\n",
              "Query: What is the rating of this review?\n",
              "Answer: \n"
            ],
            "text/html": [
              "<pre style=\"white-space:pre;overflow-x:auto;line-height:normal;font-family:Menlo,'DejaVu Sans Mono',consolas,'Courier New',monospace\">The review text is below.\n",
              "---------------------\n",
              "I hated this product!\n",
              "---------------------\n",
              "Given the review text and not prior knowledge, please attempt to predict the review score of the context. Here are \n",
              "several examples of reviews and their ratings:\n",
              "\n",
              "Text: I would give this zero stars if I could. This product is a piece of crap! I used both protectors and on first\n",
              "try, neither protectors stuck to the phone. It’s not like I tried multiple times for it to line up.. no it wouldn’t\n",
              "stick on first try n i know how to put on screen protectors. Terrible product!\n",
              "Rating: <span style=\"color: #008080; text-decoration-color: #008080; font-weight: bold\">0</span>\n",
              "\n",
              "Query: What is the rating of this review?\n",
              "Answer: \n",
              "</pre>\n"
            ]
          },
          "metadata": {}
        }
      ],
      "source": [
        "print(dynamic_few_shot_prompt_tmpl.format(review='I hated this product!', n_examples=1))"
      ]
    },
    {
      "cell_type": "code",
      "execution_count": 58,
      "metadata": {
        "id": "3Sg2NzM-1ZXY"
      },
      "outputs": [],
      "source": [
        "class Rating(BaseModel):\n",
        "    rating: int = Field(..., description=\"Rating of the review\", enum=[0, 1, 2, 3, 4])\n",
        "\n",
        "llm = OpenAI(model=\"gpt-4o-mini\")\n",
        "dynamic_few_shot_structured_llm = llm.as_structured_llm(Rating)\n",
        "\n",
        "async def dynamic_few_shot_predict(text, n_examples=5):\n",
        "    messages = [\n",
        "        ChatMessage.from_str(dynamic_few_shot_prompt_tmpl.format(review=text, n_examples=n_examples))\n",
        "    ]\n",
        "    response = await dynamic_few_shot_structured_llm.achat(messages)\n",
        "    return response.raw.rating"
      ]
    },
    {
      "cell_type": "code",
      "execution_count": 59,
      "metadata": {
        "id": "IU7jjKtk4s28",
        "colab": {
          "base_uri": "https://localhost:8080/",
          "height": 663
        },
        "outputId": "0b2b9a88-f3bf-4fa8-c7ee-a552a8e7743e"
      },
      "outputs": [
        {
          "output_type": "display_data",
          "data": {
            "text/plain": [
              "Cohen's Kappa: \u001b[1;36m0.8557\u001b[0m, MAE: \u001b[1;36m0.44\u001b[0m\n"
            ],
            "text/html": [
              "<pre style=\"white-space:pre;overflow-x:auto;line-height:normal;font-family:Menlo,'DejaVu Sans Mono',consolas,'Courier New',monospace\">Cohen's Kappa: <span style=\"color: #008080; text-decoration-color: #008080; font-weight: bold\">0.8557</span>, MAE: <span style=\"color: #008080; text-decoration-color: #008080; font-weight: bold\">0.44</span>\n",
              "</pre>\n"
            ]
          },
          "metadata": {}
        },
        {
          "output_type": "display_data",
          "data": {
            "text/plain": [
              "              precision    recall  f1-score   support\n",
              "\n",
              "           \u001b[1;36m0\u001b[0m       \u001b[1;36m0.86\u001b[0m      \u001b[1;36m0.60\u001b[0m      \u001b[1;36m0.71\u001b[0m        \u001b[1;36m10\u001b[0m\n",
              "           \u001b[1;36m1\u001b[0m       \u001b[1;36m0.44\u001b[0m      \u001b[1;36m0.40\u001b[0m      \u001b[1;36m0.42\u001b[0m        \u001b[1;36m10\u001b[0m\n",
              "           \u001b[1;36m2\u001b[0m       \u001b[1;36m0.44\u001b[0m      \u001b[1;36m0.70\u001b[0m      \u001b[1;36m0.54\u001b[0m        \u001b[1;36m10\u001b[0m\n",
              "           \u001b[1;36m3\u001b[0m       \u001b[1;36m0.80\u001b[0m      \u001b[1;36m0.40\u001b[0m      \u001b[1;36m0.53\u001b[0m        \u001b[1;36m10\u001b[0m\n",
              "           \u001b[1;36m4\u001b[0m       \u001b[1;36m0.77\u001b[0m      \u001b[1;36m1.00\u001b[0m      \u001b[1;36m0.87\u001b[0m        \u001b[1;36m10\u001b[0m\n",
              "\n",
              "    accuracy                           \u001b[1;36m0.62\u001b[0m        \u001b[1;36m50\u001b[0m\n",
              "   macro avg       \u001b[1;36m0.66\u001b[0m      \u001b[1;36m0.62\u001b[0m      \u001b[1;36m0.61\u001b[0m        \u001b[1;36m50\u001b[0m\n",
              "weighted avg       \u001b[1;36m0.66\u001b[0m      \u001b[1;36m0.62\u001b[0m      \u001b[1;36m0.61\u001b[0m        \u001b[1;36m50\u001b[0m\n",
              "\n"
            ],
            "text/html": [
              "<pre style=\"white-space:pre;overflow-x:auto;line-height:normal;font-family:Menlo,'DejaVu Sans Mono',consolas,'Courier New',monospace\">              precision    recall  f1-score   support\n",
              "\n",
              "           <span style=\"color: #008080; text-decoration-color: #008080; font-weight: bold\">0</span>       <span style=\"color: #008080; text-decoration-color: #008080; font-weight: bold\">0.86</span>      <span style=\"color: #008080; text-decoration-color: #008080; font-weight: bold\">0.60</span>      <span style=\"color: #008080; text-decoration-color: #008080; font-weight: bold\">0.71</span>        <span style=\"color: #008080; text-decoration-color: #008080; font-weight: bold\">10</span>\n",
              "           <span style=\"color: #008080; text-decoration-color: #008080; font-weight: bold\">1</span>       <span style=\"color: #008080; text-decoration-color: #008080; font-weight: bold\">0.44</span>      <span style=\"color: #008080; text-decoration-color: #008080; font-weight: bold\">0.40</span>      <span style=\"color: #008080; text-decoration-color: #008080; font-weight: bold\">0.42</span>        <span style=\"color: #008080; text-decoration-color: #008080; font-weight: bold\">10</span>\n",
              "           <span style=\"color: #008080; text-decoration-color: #008080; font-weight: bold\">2</span>       <span style=\"color: #008080; text-decoration-color: #008080; font-weight: bold\">0.44</span>      <span style=\"color: #008080; text-decoration-color: #008080; font-weight: bold\">0.70</span>      <span style=\"color: #008080; text-decoration-color: #008080; font-weight: bold\">0.54</span>        <span style=\"color: #008080; text-decoration-color: #008080; font-weight: bold\">10</span>\n",
              "           <span style=\"color: #008080; text-decoration-color: #008080; font-weight: bold\">3</span>       <span style=\"color: #008080; text-decoration-color: #008080; font-weight: bold\">0.80</span>      <span style=\"color: #008080; text-decoration-color: #008080; font-weight: bold\">0.40</span>      <span style=\"color: #008080; text-decoration-color: #008080; font-weight: bold\">0.53</span>        <span style=\"color: #008080; text-decoration-color: #008080; font-weight: bold\">10</span>\n",
              "           <span style=\"color: #008080; text-decoration-color: #008080; font-weight: bold\">4</span>       <span style=\"color: #008080; text-decoration-color: #008080; font-weight: bold\">0.77</span>      <span style=\"color: #008080; text-decoration-color: #008080; font-weight: bold\">1.00</span>      <span style=\"color: #008080; text-decoration-color: #008080; font-weight: bold\">0.87</span>        <span style=\"color: #008080; text-decoration-color: #008080; font-weight: bold\">10</span>\n",
              "\n",
              "    accuracy                           <span style=\"color: #008080; text-decoration-color: #008080; font-weight: bold\">0.62</span>        <span style=\"color: #008080; text-decoration-color: #008080; font-weight: bold\">50</span>\n",
              "   macro avg       <span style=\"color: #008080; text-decoration-color: #008080; font-weight: bold\">0.66</span>      <span style=\"color: #008080; text-decoration-color: #008080; font-weight: bold\">0.62</span>      <span style=\"color: #008080; text-decoration-color: #008080; font-weight: bold\">0.61</span>        <span style=\"color: #008080; text-decoration-color: #008080; font-weight: bold\">50</span>\n",
              "weighted avg       <span style=\"color: #008080; text-decoration-color: #008080; font-weight: bold\">0.66</span>      <span style=\"color: #008080; text-decoration-color: #008080; font-weight: bold\">0.62</span>      <span style=\"color: #008080; text-decoration-color: #008080; font-weight: bold\">0.61</span>        <span style=\"color: #008080; text-decoration-color: #008080; font-weight: bold\">50</span>\n",
              "\n",
              "</pre>\n"
            ]
          },
          "metadata": {}
        },
        {
          "output_type": "display_data",
          "data": {
            "text/plain": [
              "<Figure size 640x480 with 2 Axes>"
            ],
            "image/png": "[encoded data removed]"
          },
          "metadata": {}
        }
      ],
      "source": [
        "dynamic_few_shot_labels, dynamic_few_shot_predictions, dynamic_few_shot_kappa, dynamic_few_shot_mae, dynamic_few_shot_cm, dynamic_few_shot_cr = await predict_and_evaluate(dynamic_few_shot_predict)\n",
        "print(f\"Cohen's Kappa: {dynamic_few_shot_kappa:.04f}, MAE: {dynamic_few_shot_mae}\")\n",
        "print(dynamic_few_shot_cr)"
      ]
    },
    {
      "cell_type": "markdown",
      "metadata": {
        "id": "hA84jzIihOaw"
      },
      "source": [
        "# Exercise: Rating Reviews\n",
        "\n",
        "In today's session, we've learned about:\n",
        "- Chat models, interfaces, and `gradio`\n",
        "- Zero shot prompting\n",
        "- Few shot learning\n",
        "- Embeddings and vector stores\n",
        "- Dynamic few shot learning\n",
        "\n",
        "It's time to combine these principles into our final exercise of the day.\n",
        "Your task is to create a `gradio` app where a user can paste a review from Amazon and the app displays the predicted number of ⭐stars⭐.\n",
        "To complete this task, please:\n",
        "- Create a GradIO app with...\n",
        "  - an input field where a user can submit text\n",
        "  - a submit button and/or functionality to submit the text to the app when the user hits the return key\n",
        "  - an output field to display the predicted result\n",
        "\n",
        "If this is too easy, try to:\n",
        "- Add hyperparameters like the number of examples retrieved\n",
        "- Add details in markdown for how to use the app\n",
        "- Display the prompt and response for inspection\n",
        "- Install the [`gradio-client`](https://pypi.org/project/gradio-client/) library and make requests to your app from this notebook\n",
        "\n",
        "If you're done, and **really** want to challenge yourslef, add a dropdown for a different model.\n",
        "You can follow the `Gemini API keys` button in the 👈secrets🔑 tab of Colab, or follow [this notebook guide](https://github.com/mgfrantz/CTME-llm-lecture-resources/blob/main/resources/ollama.ipynb) on a GPU colab to try doing inference with local LLMs like llama3 (Recommended to restart and use a gpu runtime, runtime > change runtime type. May not work with `.as_structured_llm`, check out [this low-level guide on structured outputs](https://docs.llamaindex.ai/en/stable/examples/output_parsing/llm_program/)).\n"
      ]
    },
    {
      "cell_type": "code",
      "execution_count": 60,
      "metadata": {
        "id": "wfBvued0nApC"
      },
      "outputs": [],
      "source": [
        "def classify(review, num_examples, api_key):\n",
        "    llm = OpenAI(model=\"gpt-4o-mini\", api_key=api_key).as_structured_llm(Rating)\n",
        "    zero_shot = asyncio.run(zero_shot_predict(review))\n",
        "    random_few_shot = asyncio.run(random_few_shot_predict(review, num_examples))\n",
        "    dynamic_few_shot = asyncio.run(dynamic_few_shot_predict(review, num_examples))\n",
        "    return zero_shot, random_few_shot, dynamic_few_shot"
      ]
    },
    {
      "cell_type": "code",
      "source": [
        "with gr.Blocks() as demo:\n",
        "    with gr.Row():\n",
        "        with gr.Column():\n",
        "            api_key = gr.Textbox(label='Openai API Key')\n",
        "            n_examples = gr.Slider(minimum=1, maximum=10, value=5, step=1, label='Number of examples to retrieve', interactive=True)\n",
        "            review = gr.Textbox(label='Review', interactive=True)\n",
        "            submit = gr.Button(value='Submit')\n",
        "        with gr.Column():\n",
        "            zero_shot_label = gr.Textbox(label='Zero shot', interactive=False)\n",
        "            random_few_shot_label = gr.Textbox(label='Random few shot', interactive=False)\n",
        "            dynamic_few_shot_label = gr.Textbox(label='Dynamic few shot', interactive=False)\n",
        "\n",
        "    submit.click(classify, [review, n_examples], [zero_shot_label, random_few_shot_label, dynamic_few_shot_label])\n",
        "\n",
        "demo.queue().launch(debug=False)"
      ],
      "metadata": {
        "colab": {
          "base_uri": "https://localhost:8080/",
          "height": 646
        },
        "id": "lEww8qnYMcKy",
        "outputId": "8e4c470e-62ee-41ac-de13-a62fc7c9114b"
      },
      "execution_count": 65,
      "outputs": [
        {
          "output_type": "stream",
          "name": "stdout",
          "text": [
            "Running Gradio in a Colab notebook requires sharing enabled. Automatically setting `share=True` (you can turn this off by setting `share=False` in `launch()` explicitly).\n",
            "\n",
            "Colab notebook detected. To show errors in colab notebook, set debug=True in launch()\n",
            "* Running on public URL: https://b42abdb70e597e5f7e.gradio.live\n",
            "\n",
            "This share link expires in 72 hours. For free permanent hosting and GPU upgrades, run `gradio deploy` from the terminal in the working directory to deploy to Hugging Face Spaces (https://huggingface.co/spaces)\n"
          ]
        },
        {
          "output_type": "display_data",
          "data": {
            "text/plain": [
              "<IPython.core.display.HTML object>"
            ],
            "text/html": [
              "<div><iframe src=\"https://b42abdb70e597e5f7e.gradio.live\" width=\"100%\" height=\"500\" allow=\"autoplay; camera; microphone; clipboard-read; clipboard-write;\" frameborder=\"0\" allowfullscreen></iframe></div>"
            ]
          },
          "metadata": {}
        },
        {
          "output_type": "execute_result",
          "data": {
            "text/plain": []
          },
          "metadata": {},
          "execution_count": 65
        }
      ]
    },
    {
      "cell_type": "code",
      "source": [
        "!git clone https://huggingface.co/spaces/mgfrantz/CTMEPrototypingAI"
      ],
      "metadata": {
        "colab": {
          "base_uri": "https://localhost:8080/"
        },
        "id": "sqETz2pFVbhw",
        "outputId": "ad7d00cf-a11c-43bb-b6aa-344f90b3e19a"
      },
      "execution_count": 69,
      "outputs": [
        {
          "output_type": "stream",
          "name": "stdout",
          "text": [
            "Cloning into 'CTMEPrototypingAI'...\n",
            "remote: Enumerating objects: 4, done.\u001b[K\n",
            "remote: Total 4 (delta 0), reused 0 (delta 0), pack-reused 4 (from 1)\u001b[K\n",
            "Unpacking objects: 100% (4/4), 1.28 KiB | 1.28 MiB/s, done.\n"
          ]
        }
      ]
    },
    {
      "cell_type": "code",
      "source": [
        "!pip show sentence-transformers"
      ],
      "metadata": {
        "colab": {
          "base_uri": "https://localhost:8080/"
        },
        "id": "6mkDhzyEWSBd",
        "outputId": "d971ba7f-444e-471e-e233-dbc185da41e6"
      },
      "execution_count": 73,
      "outputs": [
        {
          "output_type": "stream",
          "name": "stdout",
          "text": [
            "Name: sentence-transformers\n",
            "Version: 3.3.1\n",
            "Summary: State-of-the-Art Text Embeddings\n",
            "Home-page: https://www.SBERT.net\n",
            "Author: \n",
            "Author-email: Nils Reimers <info@nils-reimers.de>, Tom Aarsen <tom.aarsen@huggingface.co>\n",
            "License: Apache 2.0\n",
            "Location: /usr/local/lib/python3.10/dist-packages\n",
            "Requires: huggingface-hub, Pillow, scikit-learn, scipy, torch, tqdm, transformers\n",
            "Required-by: \n"
          ]
        }
      ]
    },
    {
      "cell_type": "code",
      "source": [
        "!pip install structlog"
      ],
      "metadata": {
        "colab": {
          "base_uri": "https://localhost:8080/"
        },
        "id": "A81sjb5WYfHF",
        "outputId": "1900076f-7d36-4c95-bc1f-9ea226711ed2"
      },
      "execution_count": 77,
      "outputs": [
        {
          "output_type": "stream",
          "name": "stdout",
          "text": [
            "Collecting structlog\n",
            "  Downloading structlog-24.4.0-py3-none-any.whl.metadata (7.3 kB)\n",
            "Downloading structlog-24.4.0-py3-none-any.whl (67 kB)\n",
            "\u001b[?25l   \u001b[90m━━━━━━━━━━━━━━━━━━━━━━━━━━━━━━━━━━━━━━━━\u001b[0m \u001b[32m0.0/67.2 kB\u001b[0m \u001b[31m?\u001b[0m eta \u001b[36m-:--:--\u001b[0m\r\u001b[2K   \u001b[91m━━━━━━━━━━━━━━━━━━━━━━━━━━━━━━━━━━━━\u001b[0m\u001b[91m╸\u001b[0m\u001b[90m━━━\u001b[0m \u001b[32m61.4/67.2 kB\u001b[0m \u001b[31m2.3 MB/s\u001b[0m eta \u001b[36m0:00:01\u001b[0m\r\u001b[2K   \u001b[90m━━━━━━━━━━━━━━━━━━━━━━━━━━━━━━━━━━━━━━━━\u001b[0m \u001b[32m67.2/67.2 kB\u001b[0m \u001b[31m1.6 MB/s\u001b[0m eta \u001b[36m0:00:00\u001b[0m\n",
            "\u001b[?25hInstalling collected packages: structlog\n",
            "Successfully installed structlog-24.4.0\n"
          ]
        }
      ]
    },
    {
      "cell_type": "code",
      "source": [
        "%%writefile CTMEPrototypingAI/requirements.txt\n",
        "llama-index==0.12.1\n",
        "chromadb==0.5.20\n",
        "datasets==3.1.0\n",
        "sentence-transformers==3.3.1\n",
        "pandas==2.2.2\n",
        "structlog==24.4.0"
      ],
      "metadata": {
        "colab": {
          "base_uri": "https://localhost:8080/"
        },
        "id": "Apu0zJ3_V6Pl",
        "outputId": "870b6808-dcc5-4d2d-d61b-2caae39c265b"
      },
      "execution_count": 78,
      "outputs": [
        {
          "output_type": "stream",
          "name": "stdout",
          "text": [
            "Overwriting CTMEPrototypingAI/requirements.txt\n"
          ]
        }
      ]
    },
    {
      "cell_type": "code",
      "source": [
        "%%writefile CTMEPrototypingAI/app.py\n",
        "import gradio as gr\n",
        "from datasets import load_dataset, Dataset\n",
        "from llama_index.core import PromptTemplate\n",
        "from llama_index.core.prompts import ChatMessage\n",
        "from llama_index.llms.openai import OpenAI\n",
        "from pydantic import BaseModel, Field\n",
        "import asyncio\n",
        "import numpy as np\n",
        "import pandas as pd\n",
        "from chromadb import Client\n",
        "from chromadb.utils.embedding_functions import SentenceTransformerEmbeddingFunction\n",
        "import structlog\n",
        "\n",
        "logger = structlog.get_logger()\n",
        "\n",
        "logger.info('Loading embedding model')\n",
        "embed_fn = SentenceTransformerEmbeddingFunction('BAAI/bge-small-en-v1.5')\n",
        "\n",
        "\n",
        "def load_train_data_and_vectorstore():\n",
        "    logger.info(\"Loading dataset\")\n",
        "    ds = load_dataset('SetFit/amazon_reviews_multi_en')\n",
        "    train_samples_per_class = 50\n",
        "    eval_test_samples_per_class = 10\n",
        "    train = Dataset.from_pandas(ds['train'].to_pandas().groupby('label').sample(train_samples_per_class, random_state=1234).reset_index(drop=True))\n",
        "    reviews = Client().create_collection(\n",
        "        name='reviews',\n",
        "        embedding_function=embed_fn,\n",
        "        get_or_create=True\n",
        "    )\n",
        "    logger.info(\"Adding documents to vector store\")\n",
        "    reviews.add(documents=train['text'], metadatas=[{'rating': x} for x in train['label']], ids=train['id'])\n",
        "    return train, reviews\n",
        "\n",
        "train, reviews = load_train_data_and_vectorstore()\n",
        "\n",
        "class Rating(BaseModel):\n",
        "    rating: int = Field(..., description=\"Rating of the review\", enum=[0, 1, 2, 3, 4])\n",
        "\n",
        "llm = OpenAI(model=\"gpt-4o-mini\")\n",
        "structured_llm = llm.as_structured_llm(Rating)\n",
        "\n",
        "prompt_tmpl_str = \"\"\"\\\n",
        "The review text is below.\n",
        "---------------------\n",
        "{review}\n",
        "---------------------\n",
        "Given the review text and not prior knowledge, \\\n",
        "please attempt to predict the score of the review.\n",
        "\n",
        "Query: What is the rating of this review?\n",
        "Answer: \\\n",
        "\"\"\"\n",
        "\n",
        "prompt_tmpl = PromptTemplate(\n",
        "    prompt_tmpl_str,\n",
        ")\n",
        "\n",
        "async def zero_shot_predict(text):\n",
        "    messages = [\n",
        "        ChatMessage.from_str(prompt_tmpl.format(review=text))\n",
        "    ]\n",
        "    response = await structured_llm.achat(messages)\n",
        "    return response.raw.rating\n",
        "\n",
        "few_shot_prompt_tmpl_str = \"\"\"\\\n",
        "The review text is below.\n",
        "---------------------\n",
        "{review}\n",
        "---------------------\n",
        "Given the review text and not prior knowledge, \\\n",
        "please attempt to predict the review score of the context. \\\n",
        "Here are several examples of reviews and their ratings:\n",
        "\n",
        "{random_few_shot_examples}\n",
        "\n",
        "Query: What is the rating of this review?\n",
        "Answer: \\\n",
        "\"\"\"\n",
        "\n",
        "few_shot_prompt_tmpl = PromptTemplate(\n",
        "    few_shot_prompt_tmpl_str,\n",
        "    function_mappings={\"random_few_shot_examples\": random_few_shot_examples_fn},\n",
        ")\n",
        "\n",
        "rng = np.random.Generator(np.random.PCG64(1234))\n",
        "def random_few_shot_examples_fn(**kwargs):\n",
        "    if n_samples:=kwargs.get('n_samples'):\n",
        "        random_examples = train.shuffle(generator=rng)[:n_samples]\n",
        "    else:\n",
        "        random_examples = train.shuffle(generator=rng)[:5]\n",
        "\n",
        "    result_strs = []\n",
        "    for text, rating in zip(random_examples['text'], random_examples['label']):\n",
        "        result_strs.append(f\"Text: {text}\\nRating: {rating}\")\n",
        "    return \"\\n\\n\".join(result_strs)\n",
        "\n",
        "async def random_few_shot_predict(text, n_examples=5):\n",
        "    tasks = []\n",
        "    for _ in range(3):\n",
        "        messages = [\n",
        "            ChatMessage.from_str(few_shot_prompt_tmpl.format(review=text, n_samples=n_examples))\n",
        "        ]\n",
        "        tasks.append(structured_llm.achat(messages, temperature=0.9))\n",
        "    results = await asyncio.gather(*tasks)\n",
        "    ratings = [r.raw.rating for r in results]\n",
        "    # print(ratings)\n",
        "    return pd.Series(ratings).mode()[0]\n",
        "\n",
        "def dynamic_few_shot_examples_fn(**kwargs):\n",
        "    n_examples = kwargs.get('n_examples', 5)\n",
        "    retrievals = reviews.query(\n",
        "        query_texts=[kwargs['review']],\n",
        "        n_results=n_examples\n",
        "    )\n",
        "    result_strs = []\n",
        "    documents = retrievals['documents'][0]\n",
        "    metadatas = retrievals['metadatas'][0]\n",
        "    for document, metadata in zip(documents, metadatas):\n",
        "        result_strs.append(f\"Text: {document}\\nRating: {metadata.get('rating')}\")\n",
        "    return \"\\n\\n\".join(result_strs)\n",
        "\n",
        "dynamic_few_shot_prompt_tmpl_str = \"\"\"\\\n",
        "The review text is below.\n",
        "---------------------\n",
        "{review}\n",
        "---------------------\n",
        "Given the review text and not prior knowledge, \\\n",
        "please attempt to predict the review score of the context. \\\n",
        "Here are several examples of reviews and their ratings:\n",
        "\n",
        "{dynamic_few_shot_examples}\n",
        "\n",
        "Query: What is the rating of this review?\n",
        "Answer: \\\n",
        "\"\"\"\n",
        "\n",
        "dynamic_few_shot_prompt_tmpl = PromptTemplate(\n",
        "    dynamic_few_shot_prompt_tmpl_str,\n",
        "    function_mappings={\"dynamic_few_shot_examples\": dynamic_few_shot_examples_fn},\n",
        ")\n",
        "\n",
        "async def dynamic_few_shot_predict(text, n_examples=5):\n",
        "    messages = [\n",
        "        ChatMessage.from_str(dynamic_few_shot_prompt_tmpl.format(review=text, n_examples=n_examples))\n",
        "    ]\n",
        "    response = await dynamic_few_shot_structured_llm.achat(messages)\n",
        "    return response.raw.rating\n",
        "\n",
        "def classify(review, num_examples, api_key):\n",
        "    llm = OpenAI(model=\"gpt-4o-mini\", api_key=api_key).as_structured_llm(Rating)\n",
        "    zero_shot = asyncio.run(zero_shot_predict(review))\n",
        "    random_few_shot = asyncio.run(random_few_shot_predict(review, num_examples))\n",
        "    dynamic_few_shot = asyncio.run(dynamic_few_shot_predict(review, num_examples))\n",
        "    return zero_shot, random_few_shot, dynamic_few_shot\n",
        "\n",
        "with gr.Blocks() as demo:\n",
        "    with gr.Row():\n",
        "        with gr.Column():\n",
        "            api_key = gr.Textbox(label='Openai API Key')\n",
        "            n_examples = gr.Slider(minimum=1, maximum=10, value=5, step=1, label='Number of examples to retrieve', interactive=True)\n",
        "            review = gr.Textbox(label='Review', interactive=True)\n",
        "            submit = gr.Button(value='Submit')\n",
        "        with gr.Column():\n",
        "            zero_shot_label = gr.Textbox(label='Zero shot', interactive=False)\n",
        "            random_few_shot_label = gr.Textbox(label='Random few shot', interactive=False)\n",
        "            dynamic_few_shot_label = gr.Textbox(label='Dynamic few shot', interactive=False)\n",
        "\n",
        "    submit.click(classify, [review, n_examples], [zero_shot_label, random_few_shot_label, dynamic_few_shot_label])\n",
        "\n",
        "demo.queue().launch()"
      ],
      "metadata": {
        "colab": {
          "base_uri": "https://localhost:8080/"
        },
        "id": "d62SAdPTWnR7",
        "outputId": "a1fcb3f4-33e3-4d6c-ab59-d5a638e66a9b"
      },
      "execution_count": 80,
      "outputs": [
        {
          "output_type": "stream",
          "name": "stdout",
          "text": [
            "Writing CTMEPrototypingAI/app.py\n"
          ]
        }
      ]
    },
    {
      "cell_type": "code",
      "source": [
        "from huggingface_hub import notebook_login\n",
        "notebook_login()"
      ],
      "metadata": {
        "colab": {
          "base_uri": "https://localhost:8080/",
          "height": 17,
          "referenced_widgets": [
            "a2385a36a6364bb8af556b32bfea3d81",
            "656629afac7f4dde89d53e4f8be0151c",
            "7018266cef05450a84ad7aa6d070fedd",
            "0ba44097b5cc47cebd6e7d0b4069da44",
            "d7e0eb06ee8948b7bf816a4bddf34973",
            "649c609573234e1ea80c2069de50ff01",
            "c82660a631564876b5db86ff97b6d0fe",
            "19fdc1446a494a18985d97d57fe22967",
            "69f8a45590aa4040a1c086501ca1d0b9",
            "235995add0c24533b8d2be10eeecd217",
            "2a67b865ea214c56bdcf1e9bb4c08985",
            "fdd145b50aef4c8aa7d135e68643cdfc",
            "39594f5297774f31947f248a3b2a2501",
            "de9f16cdd7204ea5b108fae8571c66cb",
            "f82c48a94a714b58a3bc06f0e3cd18ae",
            "b88a1d1a573740b2863bb1732c3a5f4b",
            "d5bf07de574d41e6bfd3506ab02472eb",
            "76774d14168d4b3e9904da3982c77800",
            "dbd2813d7e964999ab3a2356a26de388",
            "bb805396c7204129a32a7f05f5d66921"
          ]
        },
        "id": "6kSjmGS3Y2vZ",
        "outputId": "f4af5308-5be4-4f94-e486-7feeada9486e"
      },
      "execution_count": 82,
      "outputs": [
        {
          "output_type": "display_data",
          "data": {
            "text/plain": [
              "VBox(children=(HTML(value='<center> <img\\nsrc=https://huggingface.co/front/assets/huggingface_logo-noborder.sv…"
            ],
            "application/vnd.jupyter.widget-view+json": {
              "version_major": 2,
              "version_minor": 0,
              "model_id": "a2385a36a6364bb8af556b32bfea3d81"
            }
          },
          "metadata": {}
        }
      ]
    },
    {
      "cell_type": "code",
      "source": [
        "!pip install -qqqq gradio_client"
      ],
      "metadata": {
        "id": "2SJ52WkLO0ue"
      },
      "execution_count": 62,
      "outputs": []
    },
    {
      "cell_type": "code",
      "source": [
        "from gradio_client import Client\n",
        "\n",
        "client = Client(\"https://3e3311410dd4f69a85.gradio.live/\")\n",
        "result = client.predict(\n",
        "\t\treview=\"This is one of my favorite cases I’ve ever owned. It’s SO cute and very durable.\",\n",
        "\t\tnum_examples=5,\n",
        "\t\tapi_name=\"/classify\"\n",
        ")\n",
        "print(result)"
      ],
      "metadata": {
        "colab": {
          "base_uri": "https://localhost:8080/",
          "height": 50
        },
        "id": "40LPYcQKO-OP",
        "outputId": "898b6ce1-7b8b-4522-8e58-17cc63d59ed2"
      },
      "execution_count": 68,
      "outputs": [
        {
          "output_type": "stream",
          "name": "stdout",
          "text": [
            "Loaded as API: https://3e3311410dd4f69a85.gradio.live/ ✔\n"
          ]
        },
        {
          "output_type": "display_data",
          "data": {
            "text/plain": [
              "\u001b[1m(\u001b[0m\u001b[32m'4'\u001b[0m, \u001b[32m'4'\u001b[0m, \u001b[32m'4'\u001b[0m\u001b[1m)\u001b[0m\n"
            ],
            "text/html": [
              "<pre style=\"white-space:pre;overflow-x:auto;line-height:normal;font-family:Menlo,'DejaVu Sans Mono',consolas,'Courier New',monospace\"><span style=\"font-weight: bold\">(</span><span style=\"color: #008000; text-decoration-color: #008000\">'4'</span>, <span style=\"color: #008000; text-decoration-color: #008000\">'4'</span>, <span style=\"color: #008000; text-decoration-color: #008000\">'4'</span><span style=\"font-weight: bold\">)</span>\n",
              "</pre>\n"
            ]
          },
          "metadata": {}
        }
      ]
    },
    {
      "cell_type": "markdown",
      "metadata": {
        "id": "rAmFGXzWnApC"
      },
      "source": [
        "# Bonus: Prompt optimization"
      ]
    },
    {
      "cell_type": "code",
      "execution_count": 83,
      "metadata": {
        "id": "LOWYJoP9nApC"
      },
      "outputs": [],
      "source": [
        "import dspy"
      ]
    },
    {
      "cell_type": "code",
      "execution_count": 84,
      "metadata": {
        "id": "z_9NNzcinApC"
      },
      "outputs": [],
      "source": [
        "lm = dspy.LM(model='openai/gpt-4o-mini')"
      ]
    },
    {
      "cell_type": "code",
      "execution_count": 85,
      "metadata": {
        "id": "zdLG_srwnApD"
      },
      "outputs": [],
      "source": [
        "dspy.configure(lm=lm)"
      ]
    },
    {
      "cell_type": "code",
      "execution_count": 86,
      "metadata": {
        "id": "PyrUXAbbnApD"
      },
      "outputs": [],
      "source": [
        "train_examples = [\n",
        "    dspy.Example(\n",
        "        review=e['text'],\n",
        "        rating=e['label'],\n",
        "    ).with_inputs('review')\n",
        "    for e in train\n",
        "]\n",
        "\n",
        "valid_examples = [\n",
        "    dspy.Example(\n",
        "        review=e['text'],\n",
        "        rating=e['label'],\n",
        "    ).with_inputs('review')\n",
        "    for e in valid\n",
        "]\n",
        "\n",
        "test_examples = [\n",
        "    dspy.Example(\n",
        "        review=e['text'],\n",
        "        rating=e['label'],\n",
        "    ).with_inputs('review')\n",
        "    for e in test\n",
        "]\n"
      ]
    },
    {
      "cell_type": "code",
      "execution_count": 117,
      "metadata": {
        "id": "7WoPYCq4nApD"
      },
      "outputs": [],
      "source": [
        "class FewShotResponse(dspy.Signature):\n",
        "    \"A rating for a review\"\n",
        "    review: str = dspy.InputField(description=\"Review text\")\n",
        "    examples: str = dspy.InputField(description=\"Examples of reviews and their ratings\")\n",
        "    rating: int = dspy.OutputField(description=\"Rating of the review. Should be 0, 1, 2, 3, or 4.\", ge=0, le=4)\n",
        "\n",
        "class FewShotLearning(dspy.Module):\n",
        "    def __init__(self, collection=reviews, k=2, n_hops=2):\n",
        "        super().__init__()\n",
        "        self.search_writer = dspy.ChainOfThought(\"query, examples -> new_query\")\n",
        "        self.cot = dspy.ChainOfThought(FewShotResponse)\n",
        "        self.collection = collection\n",
        "        self.k = k\n",
        "        self.n_hops = n_hops\n",
        "\n",
        "\n",
        "    def search(self, query):\n",
        "        results = self.collection.query(query_texts=query, n_results=self.k)\n",
        "        examples = [f\"Review: {doc}\\nRating: {meta.get('rating')}\" for doc, meta in zip(results['documents'][0], results['metadatas'][0])]\n",
        "        return examples\n",
        "\n",
        "    def forward(self, review):\n",
        "        examples = self.search(review)\n",
        "        for _ in range(self.n_hops):\n",
        "            new_query = self.search_writer(query=review, examples=examples)\n",
        "            new_examples = self.search(new_query.new_query)\n",
        "            examples.extend(new_examples)\n",
        "        example_str = \"\\n\".join(examples)\n",
        "        return self.cot(review=review, examples=example_str)"
      ]
    },
    {
      "cell_type": "code",
      "execution_count": 118,
      "metadata": {
        "id": "xNsdbd9-nApD"
      },
      "outputs": [],
      "source": [
        "# calculate metrics (not async)\n",
        "def dspy_predict_and_evaluate(predict_fn):\n",
        "    labels = [int(x) for x in valid['label']]\n",
        "    predictions = [\n",
        "        predict_fn(text).rating\n",
        "        for text in valid['text']\n",
        "    ]\n",
        "    cm = ConfusionMatrixDisplay.from_predictions(labels, predictions, normalize='true')\n",
        "    cr = classification_report(labels, predictions)\n",
        "    kappa = cohen_kappa_score(labels, predictions, weights='quadratic')\n",
        "    mae = mean_absolute_error(labels, predictions)\n",
        "    return labels, predictions, kappa, mae, cm, cr"
      ]
    },
    {
      "cell_type": "code",
      "execution_count": 119,
      "metadata": {
        "id": "PqDveD8anApD"
      },
      "outputs": [],
      "source": [
        "def score_func(example, pred, trace=None):\n",
        "    return float(example.rating == pred.rating)"
      ]
    },
    {
      "cell_type": "code",
      "execution_count": 120,
      "metadata": {
        "id": "UuXaKwO4nApD",
        "colab": {
          "base_uri": "https://localhost:8080/"
        },
        "outputId": "8be97083-00ea-42e5-f72c-1db5673d1c74"
      },
      "outputs": [
        {
          "output_type": "execute_result",
          "data": {
            "text/plain": [
              "1.0"
            ]
          },
          "metadata": {},
          "execution_count": 120
        }
      ],
      "source": [
        "eval_example = valid_examples[5]\n",
        "score_func(eval_example, FewShotLearning()(eval_example.review))"
      ]
    },
    {
      "cell_type": "code",
      "execution_count": 122,
      "metadata": {
        "id": "2dIpW8vfnApD",
        "colab": {
          "base_uri": "https://localhost:8080/"
        },
        "outputId": "81f199ab-4a3f-4de8-d10d-dfe665fed7d1"
      },
      "outputs": [
        {
          "output_type": "stream",
          "name": "stderr",
          "text": [
            "WARNING:root:Failed to deep copy attribute 'collection' of FewShotLearning, falling back to shallow copy or reference copy.\n",
            "2024/11/24 00:40:37 INFO dspy.teleprompt.mipro_optimizer_v2: \n",
            "==> STEP 1: BOOTSTRAP FEWSHOT EXAMPLES <==\n",
            "2024/11/24 00:40:37 INFO dspy.teleprompt.mipro_optimizer_v2: These will be used as few-shot example candidates for our program and for creating instructions.\n",
            "\n",
            "2024/11/24 00:40:37 INFO dspy.teleprompt.mipro_optimizer_v2: Bootstrapping N=10 sets of demonstrations...\n",
            "WARNING:root:Failed to deep copy attribute 'collection' of FewShotLearning, falling back to shallow copy or reference copy.\n",
            "WARNING:root:Failed to deep copy attribute 'collection' of FewShotLearning, falling back to shallow copy or reference copy.\n",
            "WARNING:root:Failed to deep copy attribute 'collection' of FewShotLearning, falling back to shallow copy or reference copy.\n",
            "WARNING:root:Failed to deep copy attribute 'collection' of FewShotLearning, falling back to shallow copy or reference copy.\n",
            "WARNING:root:Failed to deep copy attribute 'collection' of FewShotLearning, falling back to shallow copy or reference copy.\n",
            "WARNING:root:Failed to deep copy attribute 'collection' of FewShotLearning, falling back to shallow copy or reference copy.\n"
          ]
        },
        {
          "output_type": "stream",
          "name": "stdout",
          "text": [
            "Bootstrapping set 1/10\n",
            "Bootstrapping set 2/10\n",
            "Bootstrapping set 3/10\n"
          ]
        },
        {
          "output_type": "stream",
          "name": "stderr",
          "text": [
            "\n",
            "  0%|          | 0/250 [00:00<?, ?it/s]\u001b[A\n",
            "  0%|          | 1/250 [00:00<00:36,  6.73it/s]\u001b[A\n",
            "  1%|          | 2/250 [00:00<00:33,  7.34it/s]\n",
            "WARNING:root:Failed to deep copy attribute 'collection' of FewShotLearning, falling back to shallow copy or reference copy.\n",
            "WARNING:root:Failed to deep copy attribute 'collection' of FewShotLearning, falling back to shallow copy or reference copy.\n",
            "WARNING:root:Failed to deep copy attribute 'collection' of FewShotLearning, falling back to shallow copy or reference copy.\n",
            "WARNING:root:Failed to deep copy attribute 'collection' of FewShotLearning, falling back to shallow copy or reference copy.\n"
          ]
        },
        {
          "output_type": "stream",
          "name": "stdout",
          "text": [
            "Bootstrapped 2 full traces after 2 examples for up to 1 rounds, amounting to 2 attempts.\n",
            "Bootstrapping set 4/10\n"
          ]
        },
        {
          "output_type": "stream",
          "name": "stderr",
          "text": [
            "\n",
            "  0%|          | 1/250 [00:00<00:23, 10.50it/s]\n",
            "WARNING:root:Failed to deep copy attribute 'collection' of FewShotLearning, falling back to shallow copy or reference copy.\n",
            "WARNING:root:Failed to deep copy attribute 'collection' of FewShotLearning, falling back to shallow copy or reference copy.\n",
            "WARNING:root:Failed to deep copy attribute 'collection' of FewShotLearning, falling back to shallow copy or reference copy.\n",
            "WARNING:root:Failed to deep copy attribute 'collection' of FewShotLearning, falling back to shallow copy or reference copy.\n"
          ]
        },
        {
          "output_type": "stream",
          "name": "stdout",
          "text": [
            "Bootstrapped 1 full traces after 1 examples for up to 1 rounds, amounting to 1 attempts.\n",
            "Bootstrapping set 5/10\n"
          ]
        },
        {
          "output_type": "stream",
          "name": "stderr",
          "text": [
            "\n",
            "  0%|          | 0/250 [00:00<?, ?it/s]\u001b[A\n",
            "  0%|          | 1/250 [00:00<00:28,  8.66it/s]\u001b[A\n",
            "  1%|          | 2/250 [00:00<00:27,  8.95it/s]\n",
            "WARNING:root:Failed to deep copy attribute 'collection' of FewShotLearning, falling back to shallow copy or reference copy.\n",
            "WARNING:root:Failed to deep copy attribute 'collection' of FewShotLearning, falling back to shallow copy or reference copy.\n",
            "WARNING:root:Failed to deep copy attribute 'collection' of FewShotLearning, falling back to shallow copy or reference copy.\n",
            "WARNING:root:Failed to deep copy attribute 'collection' of FewShotLearning, falling back to shallow copy or reference copy.\n"
          ]
        },
        {
          "output_type": "stream",
          "name": "stdout",
          "text": [
            "Bootstrapped 2 full traces after 2 examples for up to 1 rounds, amounting to 2 attempts.\n",
            "Bootstrapping set 6/10\n"
          ]
        },
        {
          "output_type": "stream",
          "name": "stderr",
          "text": [
            "\n",
            "  0%|          | 0/250 [00:00<?, ?it/s]\u001b[A\n",
            "  0%|          | 1/250 [00:00<00:37,  6.68it/s]\n",
            "WARNING:root:Failed to deep copy attribute 'collection' of FewShotLearning, falling back to shallow copy or reference copy.\n",
            "WARNING:root:Failed to deep copy attribute 'collection' of FewShotLearning, falling back to shallow copy or reference copy.\n",
            "WARNING:root:Failed to deep copy attribute 'collection' of FewShotLearning, falling back to shallow copy or reference copy.\n",
            "WARNING:root:Failed to deep copy attribute 'collection' of FewShotLearning, falling back to shallow copy or reference copy.\n"
          ]
        },
        {
          "output_type": "stream",
          "name": "stdout",
          "text": [
            "Bootstrapped 1 full traces after 1 examples for up to 1 rounds, amounting to 1 attempts.\n",
            "Bootstrapping set 7/10\n"
          ]
        },
        {
          "output_type": "stream",
          "name": "stderr",
          "text": [
            "\n",
            "  0%|          | 1/250 [00:00<00:22, 11.14it/s]\n",
            "WARNING:root:Failed to deep copy attribute 'collection' of FewShotLearning, falling back to shallow copy or reference copy.\n",
            "WARNING:root:Failed to deep copy attribute 'collection' of FewShotLearning, falling back to shallow copy or reference copy.\n",
            "WARNING:root:Failed to deep copy attribute 'collection' of FewShotLearning, falling back to shallow copy or reference copy.\n",
            "WARNING:root:Failed to deep copy attribute 'collection' of FewShotLearning, falling back to shallow copy or reference copy.\n"
          ]
        },
        {
          "output_type": "stream",
          "name": "stdout",
          "text": [
            "Bootstrapped 1 full traces after 1 examples for up to 1 rounds, amounting to 1 attempts.\n",
            "Bootstrapping set 8/10\n"
          ]
        },
        {
          "output_type": "stream",
          "name": "stderr",
          "text": [
            "\n",
            "  0%|          | 1/250 [00:00<00:20, 12.17it/s]\n",
            "WARNING:root:Failed to deep copy attribute 'collection' of FewShotLearning, falling back to shallow copy or reference copy.\n",
            "WARNING:root:Failed to deep copy attribute 'collection' of FewShotLearning, falling back to shallow copy or reference copy.\n",
            "WARNING:root:Failed to deep copy attribute 'collection' of FewShotLearning, falling back to shallow copy or reference copy.\n",
            "WARNING:root:Failed to deep copy attribute 'collection' of FewShotLearning, falling back to shallow copy or reference copy.\n"
          ]
        },
        {
          "output_type": "stream",
          "name": "stdout",
          "text": [
            "Bootstrapped 1 full traces after 1 examples for up to 1 rounds, amounting to 1 attempts.\n",
            "Bootstrapping set 9/10\n"
          ]
        },
        {
          "output_type": "stream",
          "name": "stderr",
          "text": [
            "\n",
            "  0%|          | 0/250 [00:00<?, ?it/s]\u001b[A\n",
            "  1%|          | 2/250 [00:00<00:23, 10.72it/s]\n",
            "WARNING:root:Failed to deep copy attribute 'collection' of FewShotLearning, falling back to shallow copy or reference copy.\n",
            "WARNING:root:Failed to deep copy attribute 'collection' of FewShotLearning, falling back to shallow copy or reference copy.\n",
            "WARNING:root:Failed to deep copy attribute 'collection' of FewShotLearning, falling back to shallow copy or reference copy.\n",
            "WARNING:root:Failed to deep copy attribute 'collection' of FewShotLearning, falling back to shallow copy or reference copy.\n"
          ]
        },
        {
          "output_type": "stream",
          "name": "stdout",
          "text": [
            "Bootstrapped 2 full traces after 2 examples for up to 1 rounds, amounting to 2 attempts.\n",
            "Bootstrapping set 10/10\n"
          ]
        },
        {
          "output_type": "stream",
          "name": "stderr",
          "text": [
            "\n",
            "  0%|          | 0/250 [00:00<?, ?it/s]\u001b[A\n",
            "  0%|          | 1/250 [00:00<00:38,  6.43it/s]\n",
            "2024/11/24 00:40:39 INFO dspy.teleprompt.mipro_optimizer_v2: \n",
            "==> STEP 2: PROPOSE INSTRUCTION CANDIDATES <==\n",
            "2024/11/24 00:40:39 INFO dspy.teleprompt.mipro_optimizer_v2: We will use the few-shot examples from the previous step, a generated dataset summary, a summary of the program code, and a randomly selected prompting tip to propose instructions.\n",
            "2024/11/24 00:40:39 INFO dspy.teleprompt.mipro_optimizer_v2: \n",
            "Proposing instructions...\n",
            "\n"
          ]
        },
        {
          "output_type": "stream",
          "name": "stdout",
          "text": [
            "Bootstrapped 1 full traces after 1 examples for up to 1 rounds, amounting to 1 attempts.\n",
            "Error getting source code: unhashable type: 'Collection'.\n",
            "\n",
            "Running without program aware proposer.\n"
          ]
        },
        {
          "output_type": "stream",
          "name": "stderr",
          "text": [
            "2024/11/24 00:40:39 INFO dspy.teleprompt.mipro_optimizer_v2: Proposed Instructions for Predictor 0:\n",
            "\n",
            "2024/11/24 00:40:39 INFO dspy.teleprompt.mipro_optimizer_v2: 0: Given the fields `query`, `examples`, produce the fields `new_query`.\n",
            "\n",
            "2024/11/24 00:40:39 INFO dspy.teleprompt.mipro_optimizer_v2: 1: Based on the dataset provided, generate a new query that addresses the key issues consumers are facing, such as product quality, reliability, delivery, and customer service. Ensure the new query reflects the need for improvements in these areas to enhance consumer trust.\n",
            "\n",
            "2024/11/24 00:40:39 INFO dspy.teleprompt.mipro_optimizer_v2: 2: Analyze the provided `query` that expresses a consumer sentiment about a product or service, and compare it with the `examples` that illustrate similar sentiments. Based on this analysis, generate a `new_query` that maintains the same structure and sentiment as the original `query`, ensuring it accurately reflects the consumer's experience and concerns while aligning with the tone and context of the `examples`.\n",
            "\n",
            "2024/11/24 00:40:39 INFO dspy.teleprompt.mipro_optimizer_v2: 3: Using the provided `query` and `examples`, analyze the situation presented in the `query` and generate a `new_query` that accurately reflects a similar problem related to delivery issues. Ensure that the new query maintains the focus on the specific circumstances of non-delivery and any relevant details, such as customs clearance or package status, to provide a clear continuation of the theme presented in the examples.\n",
            "\n",
            "2024/11/24 00:40:39 INFO dspy.teleprompt.mipro_optimizer_v2: 4: Using the provided `query` and `examples`, generate a new query that reflects the sentiment and context of the original query while possibly adjusting the tone or specificity to better align with the examples.\n",
            "\n",
            "2024/11/24 00:40:39 INFO dspy.teleprompt.mipro_optimizer_v2: 5: You are a product reviewer tasked with summarizing customer feedback. Given a consumer's detailed query about a product, which includes both positive aspects and areas for improvement, generate a structured review that captures the essence of their feedback. Ensure to follow the format of stating the review followed by a rating that reflects the overall sentiment.\n",
            "\n",
            "2024/11/24 00:40:39 INFO dspy.teleprompt.mipro_optimizer_v2: 6: You are a product reviewer analyzing consumer feedback. Given the `query` that reflects a user's sentiment about a product and the provided `examples` of similar sentiments, generate a `new_query` that captures the essence of the user's satisfaction while potentially adding more context or specificity regarding the product's performance.\n",
            "\n",
            "2024/11/24 00:40:39 INFO dspy.teleprompt.mipro_optimizer_v2: 7: Given the provided `query` that expresses a negative experience and the `examples` that illustrate similar sentiments, generate a `new_query` that rephrases the original statement while maintaining the focus on the poor outcome.\n",
            "\n",
            "2024/11/24 00:40:39 INFO dspy.teleprompt.mipro_optimizer_v2: 8: Given the user's query about a product, analyze the sentiment and context, then generate a new query that maintains the original sentiment while being more definitive or clear about the user's intentions or opinions, similar to the examples provided.\n",
            "\n",
            "2024/11/24 00:40:39 INFO dspy.teleprompt.mipro_optimizer_v2: 9: You are a product reviewer tasked with generating a new product review based on an existing review and provided examples. Your goal is to maintain the same sentiment and context while ensuring the new review is structured similarly to the examples. Use the original review as a base and make slight modifications to create a unique yet relevant new review.\n",
            "\n",
            "2024/11/24 00:40:39 INFO dspy.teleprompt.mipro_optimizer_v2: \n",
            "\n",
            "2024/11/24 00:40:39 INFO dspy.teleprompt.mipro_optimizer_v2: Proposed Instructions for Predictor 1:\n",
            "\n",
            "2024/11/24 00:40:39 INFO dspy.teleprompt.mipro_optimizer_v2: 0: A rating for a review\n",
            "\n",
            "2024/11/24 00:40:39 INFO dspy.teleprompt.mipro_optimizer_v2: 1: Provide a rating (1 to 5 stars) for the following product review based on the level of dissatisfaction expressed regarding product quality, reliability, delivery, and customer service.\n",
            "\n",
            "2024/11/24 00:40:39 INFO dspy.teleprompt.mipro_optimizer_v2: 2: Analyze the following customer review and assign a rating based on the level of satisfaction expressed. Consider factors such as product quality, delivery issues, and overall customer experience. Provide a rating from 0 (very dissatisfied) to 5 (very satisfied) along with a brief explanation for your rating.\n",
            "\n",
            "2024/11/24 00:40:39 INFO dspy.teleprompt.mipro_optimizer_v2: 3: Given a customer review expressing their experience with a product, determine a rating that reflects the level of dissatisfaction indicated in the review. Use the provided examples as a guide to assign a rating based on the severity of the complaint, particularly focusing on issues like product non-delivery, misrepresentation, or poor customer service.\n",
            "\n",
            "2024/11/24 00:40:39 INFO dspy.teleprompt.mipro_optimizer_v2: 4: Imagine you are a quality control manager at a major retail company facing a crisis due to numerous consumer complaints about product quality and customer service. Your task is to evaluate customer reviews and assign an appropriate rating based on their sentiments. Consider how the reviews reflect on the company's reputation and the urgency to restore consumer trust. Provide a rating for the following review, ensuring your analysis is thorough and considers both positive and negative aspects: \"Love how structured it is for a small pillow! It’s nice to have the support and not take up the whole bed!\n",
            "\n",
            "2024/11/24 00:40:39 INFO dspy.teleprompt.mipro_optimizer_v2: 5: Imagine you are a product quality analyst tasked with evaluating customer reviews for a popular product that has recently received numerous complaints about its quality and reliability. Your job is to assign a rating to each review based on the overall sentiment expressed by the customer. Use a scale from 1 to 5, where 1 represents extreme dissatisfaction and 5 represents complete satisfaction. Carefully consider both the positive and negative aspects mentioned in the review to determine the most accurate rating.\n",
            "\n",
            "2024/11/24 00:40:39 INFO dspy.teleprompt.mipro_optimizer_v2: 6: Given the review text, analyze the sentiment and quality of the product mentioned, and assign a rating based on your assessment of the review's positivity or negativity, considering any patterns from previous ratings in similar reviews.\n",
            "\n",
            "2024/11/24 00:40:39 INFO dspy.teleprompt.mipro_optimizer_v2: 7: Given that consumer trust is at stake due to widespread dissatisfaction with product quality and reliability, accurately rating product reviews is crucial. Analyze the following review and assign a rating from 1 to 5, where 1 indicates a very poor experience and 5 indicates an excellent experience. Consider the context of similar reviews and the implications of your rating on consumer decisions: {insert review here}.\n",
            "\n",
            "2024/11/24 00:40:39 INFO dspy.teleprompt.mipro_optimizer_v2: 8: You are a product reviewer tasked with evaluating customer reviews. Based on the content of the review, assign a rating from 0 to 4, where 0 indicates a very negative sentiment, and 4 indicates a very positive sentiment. Consider the clarity, detail, and sentiment expressed in the review to make your assessment.\n",
            "\n",
            "2024/11/24 00:40:39 INFO dspy.teleprompt.mipro_optimizer_v2: 9: Based on the provided review, analyze the sentiment and quality of the product mentioned, then assign a rating from 1 to 5, where 1 indicates very poor quality and 5 indicates excellent quality.\n",
            "\n",
            "2024/11/24 00:40:39 INFO dspy.teleprompt.mipro_optimizer_v2: \n",
            "\n",
            "2024/11/24 00:40:39 INFO dspy.teleprompt.mipro_optimizer_v2: Evaluating the default program...\n",
            "\n"
          ]
        },
        {
          "output_type": "stream",
          "name": "stdout",
          "text": [
            "Average Metric: 29.00 / 50 (58.0%): 100%|██████████| 50/50 [00:06<00:00,  7.40it/s]"
          ]
        },
        {
          "output_type": "stream",
          "name": "stderr",
          "text": [
            "2024/11/24 00:40:46 INFO dspy.evaluate.evaluate: Average Metric: 29.0 / 50 (58.0%)\n",
            "2024/11/24 00:40:46 INFO dspy.teleprompt.mipro_optimizer_v2: Default program score: 58.0\n",
            "\n",
            "WARNING:root:Failed to deep copy attribute 'collection' of FewShotLearning, falling back to shallow copy or reference copy.\n",
            "WARNING:root:Failed to deep copy attribute 'collection' of FewShotLearning, falling back to shallow copy or reference copy.\n",
            "WARNING:root:Failed to deep copy attribute 'collection' of FewShotLearning, falling back to shallow copy or reference copy.\n",
            "2024/11/24 00:40:46 INFO dspy.teleprompt.mipro_optimizer_v2: ==> STEP 3: FINDING OPTIMAL PROMPT PARAMETERS <==\n",
            "2024/11/24 00:40:46 INFO dspy.teleprompt.mipro_optimizer_v2: We will evaluate the program over a series of trials with different combinations of instructions and few-shot examples to find the optimal combination using Bayesian Optimization.\n",
            "\n",
            "2024/11/24 00:40:46 INFO dspy.teleprompt.mipro_optimizer_v2: == Minibatch Trial 1 / 30 ==\n",
            "WARNING:root:Failed to deep copy attribute 'collection' of FewShotLearning, falling back to shallow copy or reference copy.\n"
          ]
        },
        {
          "output_type": "stream",
          "name": "stdout",
          "text": [
            "\n",
            "Average Metric: 14.00 / 25 (56.0%): 100%|██████████| 25/25 [00:03<00:00,  7.90it/s]"
          ]
        },
        {
          "output_type": "stream",
          "name": "stderr",
          "text": [
            "2024/11/24 00:40:49 INFO dspy.evaluate.evaluate: Average Metric: 14.0 / 25 (56.0%)\n",
            "WARNING:root:Failed to deep copy attribute 'collection' of FewShotLearning, falling back to shallow copy or reference copy.\n",
            "2024/11/24 00:40:49 INFO dspy.teleprompt.mipro_optimizer_v2: Score: 56.0 on minibatch of size 25 with parameters ['Predictor 0: Instruction 1', 'Predictor 0: Few-Shot Set 2', 'Predictor 1: Instruction 6', 'Predictor 1: Few-Shot Set 2'].\n"
          ]
        },
        {
          "output_type": "stream",
          "name": "stdout",
          "text": [
            "\n"
          ]
        },
        {
          "output_type": "stream",
          "name": "stderr",
          "text": [
            "2024/11/24 00:40:49 INFO dspy.teleprompt.mipro_optimizer_v2: Minibatch scores so far: [56.0]\n",
            "2024/11/24 00:40:49 INFO dspy.teleprompt.mipro_optimizer_v2: Full eval scores so far: [58.0]\n",
            "2024/11/24 00:40:49 INFO dspy.teleprompt.mipro_optimizer_v2: Best full score so far: 58.0\n",
            "2024/11/24 00:40:49 INFO dspy.teleprompt.mipro_optimizer_v2: ============================\n",
            "\n",
            "\n",
            "2024/11/24 00:40:49 INFO dspy.teleprompt.mipro_optimizer_v2: == Minibatch Trial 2 / 30 ==\n",
            "WARNING:root:Failed to deep copy attribute 'collection' of FewShotLearning, falling back to shallow copy or reference copy.\n"
          ]
        },
        {
          "output_type": "stream",
          "name": "stdout",
          "text": [
            "Average Metric: 19.00 / 25 (76.0%): 100%|██████████| 25/25 [00:03<00:00,  8.30it/s]"
          ]
        },
        {
          "output_type": "stream",
          "name": "stderr",
          "text": [
            "2024/11/24 00:40:52 INFO dspy.evaluate.evaluate: Average Metric: 19.0 / 25 (76.0%)\n",
            "WARNING:root:Failed to deep copy attribute 'collection' of FewShotLearning, falling back to shallow copy or reference copy.\n",
            "2024/11/24 00:40:52 INFO dspy.teleprompt.mipro_optimizer_v2: Score: 76.0 on minibatch of size 25 with parameters ['Predictor 0: Instruction 8', 'Predictor 0: Few-Shot Set 6', 'Predictor 1: Instruction 4', 'Predictor 1: Few-Shot Set 5'].\n",
            "2024/11/24 00:40:52 INFO dspy.teleprompt.mipro_optimizer_v2: Minibatch scores so far: [56.0, 76.0]\n"
          ]
        },
        {
          "output_type": "stream",
          "name": "stdout",
          "text": [
            "\n"
          ]
        },
        {
          "output_type": "stream",
          "name": "stderr",
          "text": [
            "2024/11/24 00:40:52 INFO dspy.teleprompt.mipro_optimizer_v2: Full eval scores so far: [58.0]\n",
            "2024/11/24 00:40:52 INFO dspy.teleprompt.mipro_optimizer_v2: Best full score so far: 58.0\n",
            "2024/11/24 00:40:52 INFO dspy.teleprompt.mipro_optimizer_v2: ============================\n",
            "\n",
            "\n",
            "2024/11/24 00:40:52 INFO dspy.teleprompt.mipro_optimizer_v2: == Minibatch Trial 3 / 30 ==\n",
            "WARNING:root:Failed to deep copy attribute 'collection' of FewShotLearning, falling back to shallow copy or reference copy.\n"
          ]
        },
        {
          "output_type": "stream",
          "name": "stdout",
          "text": [
            "Average Metric: 16.00 / 25 (64.0%): 100%|██████████| 25/25 [00:02<00:00,  8.54it/s]"
          ]
        },
        {
          "output_type": "stream",
          "name": "stderr",
          "text": [
            "2024/11/24 00:40:55 INFO dspy.evaluate.evaluate: Average Metric: 16.0 / 25 (64.0%)\n",
            "WARNING:root:Failed to deep copy attribute 'collection' of FewShotLearning, falling back to shallow copy or reference copy.\n",
            "2024/11/24 00:40:55 INFO dspy.teleprompt.mipro_optimizer_v2: Score: 64.0 on minibatch of size 25 with parameters ['Predictor 0: Instruction 3', 'Predictor 0: Few-Shot Set 8', 'Predictor 1: Instruction 2', 'Predictor 1: Few-Shot Set 3'].\n",
            "2024/11/24 00:40:55 INFO dspy.teleprompt.mipro_optimizer_v2: Minibatch scores so far: [56.0, 76.0, 64.0]\n",
            "2024/11/24 00:40:55 INFO dspy.teleprompt.mipro_optimizer_v2: Full eval scores so far: [58.0]\n",
            "2024/11/24 00:40:55 INFO dspy.teleprompt.mipro_optimizer_v2: Best full score so far: 58.0\n",
            "2024/11/24 00:40:55 INFO dspy.teleprompt.mipro_optimizer_v2: ============================\n",
            "\n",
            "\n",
            "2024/11/24 00:40:55 INFO dspy.teleprompt.mipro_optimizer_v2: == Minibatch Trial 4 / 30 ==\n",
            "WARNING:root:Failed to deep copy attribute 'collection' of FewShotLearning, falling back to shallow copy or reference copy.\n"
          ]
        },
        {
          "output_type": "stream",
          "name": "stdout",
          "text": [
            "\n",
            "Average Metric: 16.00 / 25 (64.0%): 100%|██████████| 25/25 [00:03<00:00,  8.00it/s]"
          ]
        },
        {
          "output_type": "stream",
          "name": "stderr",
          "text": [
            "2024/11/24 00:40:58 INFO dspy.evaluate.evaluate: Average Metric: 16.0 / 25 (64.0%)\n",
            "WARNING:root:Failed to deep copy attribute 'collection' of FewShotLearning, falling back to shallow copy or reference copy.\n",
            "2024/11/24 00:40:58 INFO dspy.teleprompt.mipro_optimizer_v2: Score: 64.0 on minibatch of size 25 with parameters ['Predictor 0: Instruction 9', 'Predictor 0: Few-Shot Set 5', 'Predictor 1: Instruction 7', 'Predictor 1: Few-Shot Set 4'].\n",
            "2024/11/24 00:40:58 INFO dspy.teleprompt.mipro_optimizer_v2: Minibatch scores so far: [56.0, 76.0, 64.0, 64.0]\n",
            "2024/11/24 00:40:58 INFO dspy.teleprompt.mipro_optimizer_v2: Full eval scores so far: [58.0]\n",
            "2024/11/24 00:40:58 INFO dspy.teleprompt.mipro_optimizer_v2: Best full score so far: 58.0\n",
            "2024/11/24 00:40:58 INFO dspy.teleprompt.mipro_optimizer_v2: ============================\n",
            "\n",
            "\n",
            "2024/11/24 00:40:58 INFO dspy.teleprompt.mipro_optimizer_v2: == Minibatch Trial 5 / 30 ==\n"
          ]
        },
        {
          "output_type": "stream",
          "name": "stdout",
          "text": [
            "\n"
          ]
        },
        {
          "output_type": "stream",
          "name": "stderr",
          "text": [
            "WARNING:root:Failed to deep copy attribute 'collection' of FewShotLearning, falling back to shallow copy or reference copy.\n"
          ]
        },
        {
          "output_type": "stream",
          "name": "stdout",
          "text": [
            "Average Metric: 18.00 / 25 (72.0%): 100%|██████████| 25/25 [00:03<00:00,  7.86it/s]"
          ]
        },
        {
          "output_type": "stream",
          "name": "stderr",
          "text": [
            "2024/11/24 00:41:01 INFO dspy.evaluate.evaluate: Average Metric: 18.0 / 25 (72.0%)\n",
            "WARNING:root:Failed to deep copy attribute 'collection' of FewShotLearning, falling back to shallow copy or reference copy.\n",
            "2024/11/24 00:41:01 INFO dspy.teleprompt.mipro_optimizer_v2: Score: 72.0 on minibatch of size 25 with parameters ['Predictor 0: Instruction 0', 'Predictor 0: Few-Shot Set 7', 'Predictor 1: Instruction 9', 'Predictor 1: Few-Shot Set 7'].\n",
            "2024/11/24 00:41:01 INFO dspy.teleprompt.mipro_optimizer_v2: Minibatch scores so far: [56.0, 76.0, 64.0, 64.0, 72.0]\n",
            "2024/11/24 00:41:01 INFO dspy.teleprompt.mipro_optimizer_v2: Full eval scores so far: [58.0]\n",
            "2024/11/24 00:41:01 INFO dspy.teleprompt.mipro_optimizer_v2: Best full score so far: 58.0\n",
            "2024/11/24 00:41:01 INFO dspy.teleprompt.mipro_optimizer_v2: ============================\n",
            "\n",
            "\n",
            "2024/11/24 00:41:01 INFO dspy.teleprompt.mipro_optimizer_v2: == Minibatch Trial 6 / 30 ==\n",
            "WARNING:root:Failed to deep copy attribute 'collection' of FewShotLearning, falling back to shallow copy or reference copy.\n"
          ]
        },
        {
          "output_type": "stream",
          "name": "stdout",
          "text": [
            "\n",
            "Average Metric: 15.00 / 25 (60.0%): 100%|██████████| 25/25 [00:02<00:00,  8.42it/s]"
          ]
        },
        {
          "output_type": "stream",
          "name": "stderr",
          "text": [
            "2024/11/24 00:41:04 INFO dspy.evaluate.evaluate: Average Metric: 15.0 / 25 (60.0%)\n",
            "WARNING:root:Failed to deep copy attribute 'collection' of FewShotLearning, falling back to shallow copy or reference copy.\n"
          ]
        },
        {
          "output_type": "stream",
          "name": "stdout",
          "text": [
            "\n"
          ]
        },
        {
          "output_type": "stream",
          "name": "stderr",
          "text": [
            "2024/11/24 00:41:04 INFO dspy.teleprompt.mipro_optimizer_v2: Score: 60.0 on minibatch of size 25 with parameters ['Predictor 0: Instruction 5', 'Predictor 0: Few-Shot Set 0', 'Predictor 1: Instruction 9', 'Predictor 1: Few-Shot Set 5'].\n",
            "2024/11/24 00:41:04 INFO dspy.teleprompt.mipro_optimizer_v2: Minibatch scores so far: [56.0, 76.0, 64.0, 64.0, 72.0, 60.0]\n",
            "2024/11/24 00:41:04 INFO dspy.teleprompt.mipro_optimizer_v2: Full eval scores so far: [58.0]\n",
            "2024/11/24 00:41:04 INFO dspy.teleprompt.mipro_optimizer_v2: Best full score so far: 58.0\n",
            "2024/11/24 00:41:04 INFO dspy.teleprompt.mipro_optimizer_v2: ============================\n",
            "\n",
            "\n",
            "2024/11/24 00:41:04 INFO dspy.teleprompt.mipro_optimizer_v2: == Minibatch Trial 7 / 30 ==\n",
            "WARNING:root:Failed to deep copy attribute 'collection' of FewShotLearning, falling back to shallow copy or reference copy.\n"
          ]
        },
        {
          "output_type": "stream",
          "name": "stdout",
          "text": [
            "Average Metric: 15.00 / 25 (60.0%): 100%|██████████| 25/25 [00:03<00:00,  8.33it/s]"
          ]
        },
        {
          "output_type": "stream",
          "name": "stderr",
          "text": [
            "2024/11/24 00:41:07 INFO dspy.evaluate.evaluate: Average Metric: 15.0 / 25 (60.0%)\n",
            "WARNING:root:Failed to deep copy attribute 'collection' of FewShotLearning, falling back to shallow copy or reference copy.\n",
            "2024/11/24 00:41:07 INFO dspy.teleprompt.mipro_optimizer_v2: Score: 60.0 on minibatch of size 25 with parameters ['Predictor 0: Instruction 6', 'Predictor 0: Few-Shot Set 9', 'Predictor 1: Instruction 4', 'Predictor 1: Few-Shot Set 7'].\n",
            "2024/11/24 00:41:07 INFO dspy.teleprompt.mipro_optimizer_v2: Minibatch scores so far: [56.0, 76.0, 64.0, 64.0, 72.0, 60.0, 60.0]\n",
            "2024/11/24 00:41:07 INFO dspy.teleprompt.mipro_optimizer_v2: Full eval scores so far: [58.0]\n",
            "2024/11/24 00:41:07 INFO dspy.teleprompt.mipro_optimizer_v2: Best full score so far: 58.0\n",
            "2024/11/24 00:41:07 INFO dspy.teleprompt.mipro_optimizer_v2: ============================\n",
            "\n",
            "\n",
            "2024/11/24 00:41:07 INFO dspy.teleprompt.mipro_optimizer_v2: == Minibatch Trial 8 / 30 ==\n",
            "WARNING:root:Failed to deep copy attribute 'collection' of FewShotLearning, falling back to shallow copy or reference copy.\n"
          ]
        },
        {
          "output_type": "stream",
          "name": "stdout",
          "text": [
            "\n",
            "Average Metric: 17.00 / 25 (68.0%): 100%|██████████| 25/25 [00:25<00:00,  1.03s/it]"
          ]
        },
        {
          "output_type": "stream",
          "name": "stderr",
          "text": [
            "2024/11/24 00:41:33 INFO dspy.evaluate.evaluate: Average Metric: 17.0 / 25 (68.0%)\n",
            "WARNING:root:Failed to deep copy attribute 'collection' of FewShotLearning, falling back to shallow copy or reference copy.\n",
            "2024/11/24 00:41:33 INFO dspy.teleprompt.mipro_optimizer_v2: Score: 68.0 on minibatch of size 25 with parameters ['Predictor 0: Instruction 1', 'Predictor 0: Few-Shot Set 8', 'Predictor 1: Instruction 9', 'Predictor 1: Few-Shot Set 8'].\n",
            "2024/11/24 00:41:33 INFO dspy.teleprompt.mipro_optimizer_v2: Minibatch scores so far: [56.0, 76.0, 64.0, 64.0, 72.0, 60.0, 60.0, 68.0]\n",
            "2024/11/24 00:41:33 INFO dspy.teleprompt.mipro_optimizer_v2: Full eval scores so far: [58.0]\n",
            "2024/11/24 00:41:33 INFO dspy.teleprompt.mipro_optimizer_v2: Best full score so far: 58.0\n",
            "2024/11/24 00:41:33 INFO dspy.teleprompt.mipro_optimizer_v2: ============================\n",
            "\n",
            "\n",
            "2024/11/24 00:41:33 INFO dspy.teleprompt.mipro_optimizer_v2: == Minibatch Trial 9 / 30 ==\n",
            "WARNING:root:Failed to deep copy attribute 'collection' of FewShotLearning, falling back to shallow copy or reference copy.\n"
          ]
        },
        {
          "output_type": "stream",
          "name": "stdout",
          "text": [
            "\n",
            "Average Metric: 14.00 / 25 (56.0%): 100%|██████████| 25/25 [00:29<00:00,  1.20s/it]"
          ]
        },
        {
          "output_type": "stream",
          "name": "stderr",
          "text": [
            "2024/11/24 00:42:03 INFO dspy.evaluate.evaluate: Average Metric: 14.0 / 25 (56.0%)\n",
            "WARNING:root:Failed to deep copy attribute 'collection' of FewShotLearning, falling back to shallow copy or reference copy.\n",
            "2024/11/24 00:42:03 INFO dspy.teleprompt.mipro_optimizer_v2: Score: 56.0 on minibatch of size 25 with parameters ['Predictor 0: Instruction 2', 'Predictor 0: Few-Shot Set 4', 'Predictor 1: Instruction 7', 'Predictor 1: Few-Shot Set 6'].\n",
            "2024/11/24 00:42:03 INFO dspy.teleprompt.mipro_optimizer_v2: Minibatch scores so far: [56.0, 76.0, 64.0, 64.0, 72.0, 60.0, 60.0, 68.0, 56.0]\n",
            "2024/11/24 00:42:03 INFO dspy.teleprompt.mipro_optimizer_v2: Full eval scores so far: [58.0]\n",
            "2024/11/24 00:42:03 INFO dspy.teleprompt.mipro_optimizer_v2: Best full score so far: 58.0\n",
            "2024/11/24 00:42:03 INFO dspy.teleprompt.mipro_optimizer_v2: ============================\n",
            "\n",
            "\n",
            "2024/11/24 00:42:03 INFO dspy.teleprompt.mipro_optimizer_v2: == Minibatch Trial 10 / 30 ==\n",
            "WARNING:root:Failed to deep copy attribute 'collection' of FewShotLearning, falling back to shallow copy or reference copy.\n"
          ]
        },
        {
          "output_type": "stream",
          "name": "stdout",
          "text": [
            "\n",
            "Average Metric: 13.00 / 25 (52.0%): 100%|██████████| 25/25 [00:25<00:00,  1.01s/it]"
          ]
        },
        {
          "output_type": "stream",
          "name": "stderr",
          "text": [
            "2024/11/24 00:42:29 INFO dspy.evaluate.evaluate: Average Metric: 13.0 / 25 (52.0%)\n",
            "WARNING:root:Failed to deep copy attribute 'collection' of FewShotLearning, falling back to shallow copy or reference copy.\n",
            "2024/11/24 00:42:29 INFO dspy.teleprompt.mipro_optimizer_v2: Score: 52.0 on minibatch of size 25 with parameters ['Predictor 0: Instruction 2', 'Predictor 0: Few-Shot Set 6', 'Predictor 1: Instruction 8', 'Predictor 1: Few-Shot Set 8'].\n",
            "2024/11/24 00:42:29 INFO dspy.teleprompt.mipro_optimizer_v2: Minibatch scores so far: [56.0, 76.0, 64.0, 64.0, 72.0, 60.0, 60.0, 68.0, 56.0, 52.0]\n",
            "2024/11/24 00:42:29 INFO dspy.teleprompt.mipro_optimizer_v2: Full eval scores so far: [58.0]\n",
            "2024/11/24 00:42:29 INFO dspy.teleprompt.mipro_optimizer_v2: Best full score so far: 58.0\n",
            "2024/11/24 00:42:29 INFO dspy.teleprompt.mipro_optimizer_v2: =============================\n",
            "\n",
            "\n",
            "2024/11/24 00:42:29 INFO dspy.teleprompt.mipro_optimizer_v2: ===== Full Eval 1 =====\n",
            "2024/11/24 00:42:29 INFO dspy.teleprompt.mipro_optimizer_v2: Doing full eval on next top averaging program (Avg Score: 76.0) from minibatch trials...\n"
          ]
        },
        {
          "output_type": "stream",
          "name": "stdout",
          "text": [
            "\n",
            "Average Metric: 33.00 / 50 (66.0%): 100%|██████████| 50/50 [00:20<00:00,  2.39it/s]"
          ]
        },
        {
          "output_type": "stream",
          "name": "stderr",
          "text": [
            "2024/11/24 00:42:50 INFO dspy.evaluate.evaluate: Average Metric: 33.0 / 50 (66.0%)\n",
            "2024/11/24 00:42:50 INFO dspy.teleprompt.mipro_optimizer_v2: \u001b[92mNew best full eval score!\u001b[0m Score: 66.0\n",
            "WARNING:root:Failed to deep copy attribute 'collection' of FewShotLearning, falling back to shallow copy or reference copy.\n",
            "2024/11/24 00:42:50 INFO dspy.teleprompt.mipro_optimizer_v2: Full eval scores so far: [58.0, 66.0]\n",
            "2024/11/24 00:42:50 INFO dspy.teleprompt.mipro_optimizer_v2: Best full score so far: 66.0\n",
            "2024/11/24 00:42:50 INFO dspy.teleprompt.mipro_optimizer_v2: =======================\n",
            "2024/11/24 00:42:50 INFO dspy.teleprompt.mipro_optimizer_v2: \n",
            "\n",
            "2024/11/24 00:42:50 INFO dspy.teleprompt.mipro_optimizer_v2: == Minibatch Trial 11 / 30 ==\n",
            "WARNING:root:Failed to deep copy attribute 'collection' of FewShotLearning, falling back to shallow copy or reference copy.\n"
          ]
        },
        {
          "output_type": "stream",
          "name": "stdout",
          "text": [
            "\n",
            "Average Metric: 17.00 / 25 (68.0%): 100%|██████████| 25/25 [00:20<00:00,  1.25it/s]"
          ]
        },
        {
          "output_type": "stream",
          "name": "stderr",
          "text": [
            "2024/11/24 00:43:10 INFO dspy.evaluate.evaluate: Average Metric: 17.0 / 25 (68.0%)\n",
            "WARNING:root:Failed to deep copy attribute 'collection' of FewShotLearning, falling back to shallow copy or reference copy.\n",
            "2024/11/24 00:43:10 INFO dspy.teleprompt.mipro_optimizer_v2: Score: 68.0 on minibatch of size 25 with parameters ['Predictor 0: Instruction 8', 'Predictor 0: Few-Shot Set 7', 'Predictor 1: Instruction 4', 'Predictor 1: Few-Shot Set 1'].\n",
            "2024/11/24 00:43:10 INFO dspy.teleprompt.mipro_optimizer_v2: Minibatch scores so far: [56.0, 76.0, 64.0, 64.0, 72.0, 60.0, 60.0, 68.0, 56.0, 52.0, 68.0]\n",
            "2024/11/24 00:43:10 INFO dspy.teleprompt.mipro_optimizer_v2: Full eval scores so far: [58.0, 66.0]\n",
            "2024/11/24 00:43:10 INFO dspy.teleprompt.mipro_optimizer_v2: Best full score so far: 66.0\n",
            "2024/11/24 00:43:10 INFO dspy.teleprompt.mipro_optimizer_v2: =============================\n",
            "\n",
            "\n",
            "2024/11/24 00:43:10 INFO dspy.teleprompt.mipro_optimizer_v2: == Minibatch Trial 12 / 30 ==\n",
            "WARNING:root:Failed to deep copy attribute 'collection' of FewShotLearning, falling back to shallow copy or reference copy.\n"
          ]
        },
        {
          "output_type": "stream",
          "name": "stdout",
          "text": [
            "\n",
            "Average Metric: 19.00 / 25 (76.0%): 100%|██████████| 25/25 [00:24<00:00,  1.03it/s]"
          ]
        },
        {
          "output_type": "stream",
          "name": "stderr",
          "text": [
            "2024/11/24 00:43:34 INFO dspy.evaluate.evaluate: Average Metric: 19.0 / 25 (76.0%)\n",
            "WARNING:root:Failed to deep copy attribute 'collection' of FewShotLearning, falling back to shallow copy or reference copy.\n",
            "2024/11/24 00:43:34 INFO dspy.teleprompt.mipro_optimizer_v2: Score: 76.0 on minibatch of size 25 with parameters ['Predictor 0: Instruction 4', 'Predictor 0: Few-Shot Set 7', 'Predictor 1: Instruction 9', 'Predictor 1: Few-Shot Set 7'].\n",
            "2024/11/24 00:43:34 INFO dspy.teleprompt.mipro_optimizer_v2: Minibatch scores so far: [56.0, 76.0, 64.0, 64.0, 72.0, 60.0, 60.0, 68.0, 56.0, 52.0, 68.0, 76.0]\n",
            "2024/11/24 00:43:34 INFO dspy.teleprompt.mipro_optimizer_v2: Full eval scores so far: [58.0, 66.0]\n",
            "2024/11/24 00:43:34 INFO dspy.teleprompt.mipro_optimizer_v2: Best full score so far: 66.0\n",
            "2024/11/24 00:43:34 INFO dspy.teleprompt.mipro_optimizer_v2: =============================\n",
            "\n",
            "\n",
            "2024/11/24 00:43:34 INFO dspy.teleprompt.mipro_optimizer_v2: == Minibatch Trial 13 / 30 ==\n",
            "WARNING:root:Failed to deep copy attribute 'collection' of FewShotLearning, falling back to shallow copy or reference copy.\n"
          ]
        },
        {
          "output_type": "stream",
          "name": "stdout",
          "text": [
            "\n",
            "Average Metric: 17.00 / 25 (68.0%): 100%|██████████| 25/25 [00:02<00:00,  8.81it/s]"
          ]
        },
        {
          "output_type": "stream",
          "name": "stderr",
          "text": [
            "2024/11/24 00:43:37 INFO dspy.evaluate.evaluate: Average Metric: 17.0 / 25 (68.0%)\n",
            "WARNING:root:Failed to deep copy attribute 'collection' of FewShotLearning, falling back to shallow copy or reference copy.\n"
          ]
        },
        {
          "output_type": "stream",
          "name": "stdout",
          "text": [
            "\n"
          ]
        },
        {
          "output_type": "stream",
          "name": "stderr",
          "text": [
            "2024/11/24 00:43:37 INFO dspy.teleprompt.mipro_optimizer_v2: Score: 68.0 on minibatch of size 25 with parameters ['Predictor 0: Instruction 8', 'Predictor 0: Few-Shot Set 6', 'Predictor 1: Instruction 4', 'Predictor 1: Few-Shot Set 5'].\n",
            "2024/11/24 00:43:37 INFO dspy.teleprompt.mipro_optimizer_v2: Minibatch scores so far: [56.0, 76.0, 64.0, 64.0, 72.0, 60.0, 60.0, 68.0, 56.0, 52.0, 68.0, 76.0, 68.0]\n",
            "2024/11/24 00:43:37 INFO dspy.teleprompt.mipro_optimizer_v2: Full eval scores so far: [58.0, 66.0]\n",
            "2024/11/24 00:43:37 INFO dspy.teleprompt.mipro_optimizer_v2: Best full score so far: 66.0\n",
            "2024/11/24 00:43:37 INFO dspy.teleprompt.mipro_optimizer_v2: =============================\n",
            "\n",
            "\n",
            "2024/11/24 00:43:37 INFO dspy.teleprompt.mipro_optimizer_v2: == Minibatch Trial 14 / 30 ==\n",
            "WARNING:root:Failed to deep copy attribute 'collection' of FewShotLearning, falling back to shallow copy or reference copy.\n"
          ]
        },
        {
          "output_type": "stream",
          "name": "stdout",
          "text": [
            "Average Metric: 18.00 / 25 (72.0%): 100%|██████████| 25/25 [00:16<00:00,  1.53it/s]"
          ]
        },
        {
          "output_type": "stream",
          "name": "stderr",
          "text": [
            "2024/11/24 00:43:53 INFO dspy.evaluate.evaluate: Average Metric: 18.0 / 25 (72.0%)\n",
            "WARNING:root:Failed to deep copy attribute 'collection' of FewShotLearning, falling back to shallow copy or reference copy.\n",
            "2024/11/24 00:43:53 INFO dspy.teleprompt.mipro_optimizer_v2: Score: 72.0 on minibatch of size 25 with parameters ['Predictor 0: Instruction 4', 'Predictor 0: Few-Shot Set 7', 'Predictor 1: Instruction 0', 'Predictor 1: Few-Shot Set 6'].\n",
            "2024/11/24 00:43:53 INFO dspy.teleprompt.mipro_optimizer_v2: Minibatch scores so far: [56.0, 76.0, 64.0, 64.0, 72.0, 60.0, 60.0, 68.0, 56.0, 52.0, 68.0, 76.0, 68.0, 72.0]\n",
            "2024/11/24 00:43:53 INFO dspy.teleprompt.mipro_optimizer_v2: Full eval scores so far: [58.0, 66.0]\n",
            "2024/11/24 00:43:53 INFO dspy.teleprompt.mipro_optimizer_v2: Best full score so far: 66.0\n",
            "2024/11/24 00:43:53 INFO dspy.teleprompt.mipro_optimizer_v2: =============================\n",
            "\n",
            "\n",
            "2024/11/24 00:43:53 INFO dspy.teleprompt.mipro_optimizer_v2: == Minibatch Trial 15 / 30 ==\n",
            "WARNING:root:Failed to deep copy attribute 'collection' of FewShotLearning, falling back to shallow copy or reference copy.\n"
          ]
        },
        {
          "output_type": "stream",
          "name": "stdout",
          "text": [
            "\n",
            "Average Metric: 18.00 / 25 (72.0%): 100%|██████████| 25/25 [00:22<00:00,  1.09it/s]"
          ]
        },
        {
          "output_type": "stream",
          "name": "stderr",
          "text": [
            "2024/11/24 00:44:16 INFO dspy.evaluate.evaluate: Average Metric: 18.0 / 25 (72.0%)\n",
            "WARNING:root:Failed to deep copy attribute 'collection' of FewShotLearning, falling back to shallow copy or reference copy.\n",
            "2024/11/24 00:44:16 INFO dspy.teleprompt.mipro_optimizer_v2: Score: 72.0 on minibatch of size 25 with parameters ['Predictor 0: Instruction 4', 'Predictor 0: Few-Shot Set 3', 'Predictor 1: Instruction 1', 'Predictor 1: Few-Shot Set 7'].\n",
            "2024/11/24 00:44:16 INFO dspy.teleprompt.mipro_optimizer_v2: Minibatch scores so far: [56.0, 76.0, 64.0, 64.0, 72.0, 60.0, 60.0, 68.0, 56.0, 52.0, 68.0, 76.0, 68.0, 72.0, 72.0]\n",
            "2024/11/24 00:44:16 INFO dspy.teleprompt.mipro_optimizer_v2: Full eval scores so far: [58.0, 66.0]\n",
            "2024/11/24 00:44:16 INFO dspy.teleprompt.mipro_optimizer_v2: Best full score so far: 66.0\n",
            "2024/11/24 00:44:16 INFO dspy.teleprompt.mipro_optimizer_v2: =============================\n",
            "\n",
            "\n",
            "2024/11/24 00:44:16 INFO dspy.teleprompt.mipro_optimizer_v2: == Minibatch Trial 16 / 30 ==\n",
            "WARNING:root:Failed to deep copy attribute 'collection' of FewShotLearning, falling back to shallow copy or reference copy.\n"
          ]
        },
        {
          "output_type": "stream",
          "name": "stdout",
          "text": [
            "\n",
            "Average Metric: 18.00 / 25 (72.0%): 100%|██████████| 25/25 [00:22<00:00,  1.10it/s]"
          ]
        },
        {
          "output_type": "stream",
          "name": "stderr",
          "text": [
            "2024/11/24 00:44:39 INFO dspy.evaluate.evaluate: Average Metric: 18.0 / 25 (72.0%)\n",
            "WARNING:root:Failed to deep copy attribute 'collection' of FewShotLearning, falling back to shallow copy or reference copy.\n",
            "2024/11/24 00:44:39 INFO dspy.teleprompt.mipro_optimizer_v2: Score: 72.0 on minibatch of size 25 with parameters ['Predictor 0: Instruction 0', 'Predictor 0: Few-Shot Set 6', 'Predictor 1: Instruction 3', 'Predictor 1: Few-Shot Set 9'].\n",
            "2024/11/24 00:44:39 INFO dspy.teleprompt.mipro_optimizer_v2: Minibatch scores so far: [56.0, 76.0, 64.0, 64.0, 72.0, 60.0, 60.0, 68.0, 56.0, 52.0, 68.0, 76.0, 68.0, 72.0, 72.0, 72.0]\n",
            "2024/11/24 00:44:39 INFO dspy.teleprompt.mipro_optimizer_v2: Full eval scores so far: [58.0, 66.0]\n",
            "2024/11/24 00:44:39 INFO dspy.teleprompt.mipro_optimizer_v2: Best full score so far: 66.0\n",
            "2024/11/24 00:44:39 INFO dspy.teleprompt.mipro_optimizer_v2: =============================\n",
            "\n",
            "\n",
            "2024/11/24 00:44:39 INFO dspy.teleprompt.mipro_optimizer_v2: == Minibatch Trial 17 / 30 ==\n",
            "WARNING:root:Failed to deep copy attribute 'collection' of FewShotLearning, falling back to shallow copy or reference copy.\n"
          ]
        },
        {
          "output_type": "stream",
          "name": "stdout",
          "text": [
            "\n",
            "Average Metric: 17.00 / 25 (68.0%): 100%|██████████| 25/25 [00:29<00:00,  1.20s/it]"
          ]
        },
        {
          "output_type": "stream",
          "name": "stderr",
          "text": [
            "2024/11/24 00:45:09 INFO dspy.evaluate.evaluate: Average Metric: 17.0 / 25 (68.0%)\n",
            "WARNING:root:Failed to deep copy attribute 'collection' of FewShotLearning, falling back to shallow copy or reference copy.\n",
            "2024/11/24 00:45:09 INFO dspy.teleprompt.mipro_optimizer_v2: Score: 68.0 on minibatch of size 25 with parameters ['Predictor 0: Instruction 4', 'Predictor 0: Few-Shot Set 5', 'Predictor 1: Instruction 9', 'Predictor 1: Few-Shot Set 9'].\n",
            "2024/11/24 00:45:09 INFO dspy.teleprompt.mipro_optimizer_v2: Minibatch scores so far: [56.0, 76.0, 64.0, 64.0, 72.0, 60.0, 60.0, 68.0, 56.0, 52.0, 68.0, 76.0, 68.0, 72.0, 72.0, 72.0, 68.0]\n",
            "2024/11/24 00:45:09 INFO dspy.teleprompt.mipro_optimizer_v2: Full eval scores so far: [58.0, 66.0]\n",
            "2024/11/24 00:45:09 INFO dspy.teleprompt.mipro_optimizer_v2: Best full score so far: 66.0\n",
            "2024/11/24 00:45:09 INFO dspy.teleprompt.mipro_optimizer_v2: =============================\n",
            "\n",
            "\n",
            "2024/11/24 00:45:09 INFO dspy.teleprompt.mipro_optimizer_v2: == Minibatch Trial 18 / 30 ==\n",
            "WARNING:root:Failed to deep copy attribute 'collection' of FewShotLearning, falling back to shallow copy or reference copy.\n"
          ]
        },
        {
          "output_type": "stream",
          "name": "stdout",
          "text": [
            "\n",
            "Average Metric: 15.00 / 25 (60.0%): 100%|██████████| 25/25 [00:26<00:00,  1.07s/it]"
          ]
        },
        {
          "output_type": "stream",
          "name": "stderr",
          "text": [
            "2024/11/24 00:45:36 INFO dspy.evaluate.evaluate: Average Metric: 15.0 / 25 (60.0%)\n",
            "WARNING:root:Failed to deep copy attribute 'collection' of FewShotLearning, falling back to shallow copy or reference copy.\n",
            "2024/11/24 00:45:36 INFO dspy.teleprompt.mipro_optimizer_v2: Score: 60.0 on minibatch of size 25 with parameters ['Predictor 0: Instruction 4', 'Predictor 0: Few-Shot Set 1', 'Predictor 1: Instruction 9', 'Predictor 1: Few-Shot Set 7'].\n",
            "2024/11/24 00:45:36 INFO dspy.teleprompt.mipro_optimizer_v2: Minibatch scores so far: [56.0, 76.0, 64.0, 64.0, 72.0, 60.0, 60.0, 68.0, 56.0, 52.0, 68.0, 76.0, 68.0, 72.0, 72.0, 72.0, 68.0, 60.0]\n",
            "2024/11/24 00:45:36 INFO dspy.teleprompt.mipro_optimizer_v2: Full eval scores so far: [58.0, 66.0]\n",
            "2024/11/24 00:45:36 INFO dspy.teleprompt.mipro_optimizer_v2: Best full score so far: 66.0\n",
            "2024/11/24 00:45:36 INFO dspy.teleprompt.mipro_optimizer_v2: =============================\n",
            "\n",
            "\n",
            "2024/11/24 00:45:36 INFO dspy.teleprompt.mipro_optimizer_v2: == Minibatch Trial 19 / 30 ==\n",
            "WARNING:root:Failed to deep copy attribute 'collection' of FewShotLearning, falling back to shallow copy or reference copy.\n"
          ]
        },
        {
          "output_type": "stream",
          "name": "stdout",
          "text": [
            "\n",
            "Average Metric: 18.00 / 25 (72.0%): 100%|██████████| 25/25 [00:18<00:00,  1.37it/s]"
          ]
        },
        {
          "output_type": "stream",
          "name": "stderr",
          "text": [
            "2024/11/24 00:45:54 INFO dspy.evaluate.evaluate: Average Metric: 18.0 / 25 (72.0%)\n",
            "WARNING:root:Failed to deep copy attribute 'collection' of FewShotLearning, falling back to shallow copy or reference copy.\n",
            "2024/11/24 00:45:54 INFO dspy.teleprompt.mipro_optimizer_v2: Score: 72.0 on minibatch of size 25 with parameters ['Predictor 0: Instruction 7', 'Predictor 0: Few-Shot Set 6', 'Predictor 1: Instruction 1', 'Predictor 1: Few-Shot Set 2'].\n",
            "2024/11/24 00:45:54 INFO dspy.teleprompt.mipro_optimizer_v2: Minibatch scores so far: [56.0, 76.0, 64.0, 64.0, 72.0, 60.0, 60.0, 68.0, 56.0, 52.0, 68.0, 76.0, 68.0, 72.0, 72.0, 72.0, 68.0, 60.0, 72.0]\n",
            "2024/11/24 00:45:54 INFO dspy.teleprompt.mipro_optimizer_v2: Full eval scores so far: [58.0, 66.0]\n",
            "2024/11/24 00:45:54 INFO dspy.teleprompt.mipro_optimizer_v2: Best full score so far: 66.0\n",
            "2024/11/24 00:45:54 INFO dspy.teleprompt.mipro_optimizer_v2: =============================\n",
            "\n",
            "\n",
            "2024/11/24 00:45:54 INFO dspy.teleprompt.mipro_optimizer_v2: == Minibatch Trial 20 / 30 ==\n",
            "WARNING:root:Failed to deep copy attribute 'collection' of FewShotLearning, falling back to shallow copy or reference copy.\n"
          ]
        },
        {
          "output_type": "stream",
          "name": "stdout",
          "text": [
            "\n",
            "Average Metric: 16.00 / 25 (64.0%): 100%|██████████| 25/25 [00:22<00:00,  1.11it/s]"
          ]
        },
        {
          "output_type": "stream",
          "name": "stderr",
          "text": [
            "2024/11/24 00:46:17 INFO dspy.evaluate.evaluate: Average Metric: 16.0 / 25 (64.0%)\n",
            "WARNING:root:Failed to deep copy attribute 'collection' of FewShotLearning, falling back to shallow copy or reference copy.\n",
            "2024/11/24 00:46:17 INFO dspy.teleprompt.mipro_optimizer_v2: Score: 64.0 on minibatch of size 25 with parameters ['Predictor 0: Instruction 8', 'Predictor 0: Few-Shot Set 0', 'Predictor 1: Instruction 5', 'Predictor 1: Few-Shot Set 6'].\n",
            "2024/11/24 00:46:17 INFO dspy.teleprompt.mipro_optimizer_v2: Minibatch scores so far: [56.0, 76.0, 64.0, 64.0, 72.0, 60.0, 60.0, 68.0, 56.0, 52.0, 68.0, 76.0, 68.0, 72.0, 72.0, 72.0, 68.0, 60.0, 72.0, 64.0]\n",
            "2024/11/24 00:46:17 INFO dspy.teleprompt.mipro_optimizer_v2: Full eval scores so far: [58.0, 66.0]\n",
            "2024/11/24 00:46:17 INFO dspy.teleprompt.mipro_optimizer_v2: Best full score so far: 66.0\n",
            "2024/11/24 00:46:17 INFO dspy.teleprompt.mipro_optimizer_v2: =============================\n",
            "\n",
            "\n",
            "2024/11/24 00:46:17 INFO dspy.teleprompt.mipro_optimizer_v2: ===== Full Eval 2 =====\n",
            "2024/11/24 00:46:17 INFO dspy.teleprompt.mipro_optimizer_v2: Doing full eval on next top averaging program (Avg Score: 76.0) from minibatch trials...\n"
          ]
        },
        {
          "output_type": "stream",
          "name": "stdout",
          "text": [
            "\n",
            "Average Metric: 34.00 / 50 (68.0%): 100%|██████████| 50/50 [00:17<00:00,  2.91it/s]"
          ]
        },
        {
          "output_type": "stream",
          "name": "stderr",
          "text": [
            "2024/11/24 00:46:34 INFO dspy.evaluate.evaluate: Average Metric: 34.0 / 50 (68.0%)\n",
            "2024/11/24 00:46:34 INFO dspy.teleprompt.mipro_optimizer_v2: \u001b[92mNew best full eval score!\u001b[0m Score: 68.0\n",
            "WARNING:root:Failed to deep copy attribute 'collection' of FewShotLearning, falling back to shallow copy or reference copy.\n",
            "2024/11/24 00:46:34 INFO dspy.teleprompt.mipro_optimizer_v2: Full eval scores so far: [58.0, 66.0, 68.0]\n",
            "2024/11/24 00:46:34 INFO dspy.teleprompt.mipro_optimizer_v2: Best full score so far: 68.0\n",
            "2024/11/24 00:46:34 INFO dspy.teleprompt.mipro_optimizer_v2: =======================\n",
            "2024/11/24 00:46:34 INFO dspy.teleprompt.mipro_optimizer_v2: \n",
            "\n",
            "2024/11/24 00:46:34 INFO dspy.teleprompt.mipro_optimizer_v2: == Minibatch Trial 21 / 30 ==\n",
            "WARNING:root:Failed to deep copy attribute 'collection' of FewShotLearning, falling back to shallow copy or reference copy.\n"
          ]
        },
        {
          "output_type": "stream",
          "name": "stdout",
          "text": [
            "\n",
            "Average Metric: 18.00 / 25 (72.0%): 100%|██████████| 25/25 [00:29<00:00,  1.18s/it]"
          ]
        },
        {
          "output_type": "stream",
          "name": "stderr",
          "text": [
            "2024/11/24 00:47:04 INFO dspy.evaluate.evaluate: Average Metric: 18.0 / 25 (72.0%)\n",
            "WARNING:root:Failed to deep copy attribute 'collection' of FewShotLearning, falling back to shallow copy or reference copy.\n",
            "2024/11/24 00:47:04 INFO dspy.teleprompt.mipro_optimizer_v2: Score: 72.0 on minibatch of size 25 with parameters ['Predictor 0: Instruction 6', 'Predictor 0: Few-Shot Set 2', 'Predictor 1: Instruction 7', 'Predictor 1: Few-Shot Set 5'].\n",
            "2024/11/24 00:47:04 INFO dspy.teleprompt.mipro_optimizer_v2: Minibatch scores so far: [56.0, 76.0, 64.0, 64.0, 72.0, 60.0, 60.0, 68.0, 56.0, 52.0, 68.0, 76.0, 68.0, 72.0, 72.0, 72.0, 68.0, 60.0, 72.0, 64.0, 72.0]\n",
            "2024/11/24 00:47:04 INFO dspy.teleprompt.mipro_optimizer_v2: Full eval scores so far: [58.0, 66.0, 68.0]\n",
            "2024/11/24 00:47:04 INFO dspy.teleprompt.mipro_optimizer_v2: Best full score so far: 68.0\n",
            "2024/11/24 00:47:04 INFO dspy.teleprompt.mipro_optimizer_v2: =============================\n",
            "\n",
            "\n",
            "2024/11/24 00:47:04 INFO dspy.teleprompt.mipro_optimizer_v2: == Minibatch Trial 22 / 30 ==\n",
            "WARNING:root:Failed to deep copy attribute 'collection' of FewShotLearning, falling back to shallow copy or reference copy.\n"
          ]
        },
        {
          "output_type": "stream",
          "name": "stdout",
          "text": [
            "\n",
            "Average Metric: 15.00 / 25 (60.0%): 100%|██████████| 25/25 [00:18<00:00,  1.36it/s]"
          ]
        },
        {
          "output_type": "stream",
          "name": "stderr",
          "text": [
            "2024/11/24 00:47:22 INFO dspy.evaluate.evaluate: Average Metric: 15.0 / 25 (60.0%)\n",
            "WARNING:root:Failed to deep copy attribute 'collection' of FewShotLearning, falling back to shallow copy or reference copy.\n",
            "2024/11/24 00:47:22 INFO dspy.teleprompt.mipro_optimizer_v2: Score: 60.0 on minibatch of size 25 with parameters ['Predictor 0: Instruction 0', 'Predictor 0: Few-Shot Set 7', 'Predictor 1: Instruction 3', 'Predictor 1: Few-Shot Set 7'].\n",
            "2024/11/24 00:47:22 INFO dspy.teleprompt.mipro_optimizer_v2: Minibatch scores so far: [56.0, 76.0, 64.0, 64.0, 72.0, 60.0, 60.0, 68.0, 56.0, 52.0, 68.0, 76.0, 68.0, 72.0, 72.0, 72.0, 68.0, 60.0, 72.0, 64.0, 72.0, 60.0]\n",
            "2024/11/24 00:47:22 INFO dspy.teleprompt.mipro_optimizer_v2: Full eval scores so far: [58.0, 66.0, 68.0]\n",
            "2024/11/24 00:47:22 INFO dspy.teleprompt.mipro_optimizer_v2: Best full score so far: 68.0\n",
            "2024/11/24 00:47:22 INFO dspy.teleprompt.mipro_optimizer_v2: =============================\n",
            "\n",
            "\n",
            "2024/11/24 00:47:22 INFO dspy.teleprompt.mipro_optimizer_v2: == Minibatch Trial 23 / 30 ==\n",
            "WARNING:root:Failed to deep copy attribute 'collection' of FewShotLearning, falling back to shallow copy or reference copy.\n"
          ]
        },
        {
          "output_type": "stream",
          "name": "stdout",
          "text": [
            "\n",
            "Average Metric: 18.00 / 25 (72.0%): 100%|██████████| 25/25 [00:07<00:00,  3.21it/s]"
          ]
        },
        {
          "output_type": "stream",
          "name": "stderr",
          "text": [
            "2024/11/24 00:47:30 INFO dspy.evaluate.evaluate: Average Metric: 18.0 / 25 (72.0%)\n",
            "WARNING:root:Failed to deep copy attribute 'collection' of FewShotLearning, falling back to shallow copy or reference copy.\n",
            "2024/11/24 00:47:30 INFO dspy.teleprompt.mipro_optimizer_v2: Score: 72.0 on minibatch of size 25 with parameters ['Predictor 0: Instruction 4', 'Predictor 0: Few-Shot Set 7', 'Predictor 1: Instruction 9', 'Predictor 1: Few-Shot Set 8'].\n",
            "2024/11/24 00:47:30 INFO dspy.teleprompt.mipro_optimizer_v2: Minibatch scores so far: [56.0, 76.0, 64.0, 64.0, 72.0, 60.0, 60.0, 68.0, 56.0, 52.0, 68.0, 76.0, 68.0, 72.0, 72.0, 72.0, 68.0, 60.0, 72.0, 64.0, 72.0, 60.0, 72.0]\n",
            "2024/11/24 00:47:30 INFO dspy.teleprompt.mipro_optimizer_v2: Full eval scores so far: [58.0, 66.0, 68.0]\n",
            "2024/11/24 00:47:30 INFO dspy.teleprompt.mipro_optimizer_v2: Best full score so far: 68.0\n",
            "2024/11/24 00:47:30 INFO dspy.teleprompt.mipro_optimizer_v2: =============================\n",
            "\n",
            "\n",
            "2024/11/24 00:47:30 INFO dspy.teleprompt.mipro_optimizer_v2: == Minibatch Trial 24 / 30 ==\n",
            "WARNING:root:Failed to deep copy attribute 'collection' of FewShotLearning, falling back to shallow copy or reference copy.\n"
          ]
        },
        {
          "output_type": "stream",
          "name": "stdout",
          "text": [
            "\n",
            "Average Metric: 17.00 / 25 (68.0%): 100%|██████████| 25/25 [00:32<00:00,  1.32s/it]"
          ]
        },
        {
          "output_type": "stream",
          "name": "stderr",
          "text": [
            "2024/11/24 00:48:03 INFO dspy.evaluate.evaluate: Average Metric: 17.0 / 25 (68.0%)\n",
            "WARNING:root:Failed to deep copy attribute 'collection' of FewShotLearning, falling back to shallow copy or reference copy.\n",
            "2024/11/24 00:48:03 INFO dspy.teleprompt.mipro_optimizer_v2: Score: 68.0 on minibatch of size 25 with parameters ['Predictor 0: Instruction 0', 'Predictor 0: Few-Shot Set 4', 'Predictor 1: Instruction 9', 'Predictor 1: Few-Shot Set 7'].\n",
            "2024/11/24 00:48:03 INFO dspy.teleprompt.mipro_optimizer_v2: Minibatch scores so far: [56.0, 76.0, 64.0, 64.0, 72.0, 60.0, 60.0, 68.0, 56.0, 52.0, 68.0, 76.0, 68.0, 72.0, 72.0, 72.0, 68.0, 60.0, 72.0, 64.0, 72.0, 60.0, 72.0, 68.0]\n",
            "2024/11/24 00:48:03 INFO dspy.teleprompt.mipro_optimizer_v2: Full eval scores so far: [58.0, 66.0, 68.0]\n",
            "2024/11/24 00:48:03 INFO dspy.teleprompt.mipro_optimizer_v2: Best full score so far: 68.0\n",
            "2024/11/24 00:48:03 INFO dspy.teleprompt.mipro_optimizer_v2: =============================\n",
            "\n",
            "\n",
            "2024/11/24 00:48:03 INFO dspy.teleprompt.mipro_optimizer_v2: == Minibatch Trial 25 / 30 ==\n",
            "WARNING:root:Failed to deep copy attribute 'collection' of FewShotLearning, falling back to shallow copy or reference copy.\n"
          ]
        },
        {
          "output_type": "stream",
          "name": "stdout",
          "text": [
            "\n",
            "Average Metric: 16.00 / 25 (64.0%): 100%|██████████| 25/25 [00:23<00:00,  1.06it/s]"
          ]
        },
        {
          "output_type": "stream",
          "name": "stderr",
          "text": [
            "2024/11/24 00:48:26 INFO dspy.evaluate.evaluate: Average Metric: 16.0 / 25 (64.0%)\n",
            "WARNING:root:Failed to deep copy attribute 'collection' of FewShotLearning, falling back to shallow copy or reference copy.\n",
            "2024/11/24 00:48:26 INFO dspy.teleprompt.mipro_optimizer_v2: Score: 64.0 on minibatch of size 25 with parameters ['Predictor 0: Instruction 5', 'Predictor 0: Few-Shot Set 7', 'Predictor 1: Instruction 7', 'Predictor 1: Few-Shot Set 7'].\n",
            "2024/11/24 00:48:26 INFO dspy.teleprompt.mipro_optimizer_v2: Minibatch scores so far: [56.0, 76.0, 64.0, 64.0, 72.0, 60.0, 60.0, 68.0, 56.0, 52.0, 68.0, 76.0, 68.0, 72.0, 72.0, 72.0, 68.0, 60.0, 72.0, 64.0, 72.0, 60.0, 72.0, 68.0, 64.0]\n",
            "2024/11/24 00:48:26 INFO dspy.teleprompt.mipro_optimizer_v2: Full eval scores so far: [58.0, 66.0, 68.0]\n",
            "2024/11/24 00:48:26 INFO dspy.teleprompt.mipro_optimizer_v2: Best full score so far: 68.0\n",
            "2024/11/24 00:48:26 INFO dspy.teleprompt.mipro_optimizer_v2: =============================\n",
            "\n",
            "\n",
            "2024/11/24 00:48:26 INFO dspy.teleprompt.mipro_optimizer_v2: == Minibatch Trial 26 / 30 ==\n",
            "WARNING:root:Failed to deep copy attribute 'collection' of FewShotLearning, falling back to shallow copy or reference copy.\n"
          ]
        },
        {
          "output_type": "stream",
          "name": "stdout",
          "text": [
            "\n",
            "Average Metric: 19.00 / 25 (76.0%): 100%|██████████| 25/25 [00:07<00:00,  3.29it/s]"
          ]
        },
        {
          "output_type": "stream",
          "name": "stderr",
          "text": [
            "2024/11/24 00:48:34 INFO dspy.evaluate.evaluate: Average Metric: 19.0 / 25 (76.0%)\n",
            "WARNING:root:Failed to deep copy attribute 'collection' of FewShotLearning, falling back to shallow copy or reference copy.\n",
            "2024/11/24 00:48:34 INFO dspy.teleprompt.mipro_optimizer_v2: Score: 76.0 on minibatch of size 25 with parameters ['Predictor 0: Instruction 0', 'Predictor 0: Few-Shot Set 1', 'Predictor 1: Instruction 4', 'Predictor 1: Few-Shot Set 2'].\n",
            "2024/11/24 00:48:34 INFO dspy.teleprompt.mipro_optimizer_v2: Minibatch scores so far: [56.0, 76.0, 64.0, 64.0, 72.0, 60.0, 60.0, 68.0, 56.0, 52.0, 68.0, 76.0, 68.0, 72.0, 72.0, 72.0, 68.0, 60.0, 72.0, 64.0, 72.0, 60.0, 72.0, 68.0, 64.0, 76.0]\n",
            "2024/11/24 00:48:34 INFO dspy.teleprompt.mipro_optimizer_v2: Full eval scores so far: [58.0, 66.0, 68.0]\n",
            "2024/11/24 00:48:34 INFO dspy.teleprompt.mipro_optimizer_v2: Best full score so far: 68.0\n",
            "2024/11/24 00:48:34 INFO dspy.teleprompt.mipro_optimizer_v2: =============================\n",
            "\n",
            "\n",
            "2024/11/24 00:48:34 INFO dspy.teleprompt.mipro_optimizer_v2: == Minibatch Trial 27 / 30 ==\n",
            "WARNING:root:Failed to deep copy attribute 'collection' of FewShotLearning, falling back to shallow copy or reference copy.\n"
          ]
        },
        {
          "output_type": "stream",
          "name": "stdout",
          "text": [
            "\n",
            "Average Metric: 16.00 / 25 (64.0%): 100%|██████████| 25/25 [00:07<00:00,  3.47it/s]"
          ]
        },
        {
          "output_type": "stream",
          "name": "stderr",
          "text": [
            "2024/11/24 00:48:41 INFO dspy.evaluate.evaluate: Average Metric: 16.0 / 25 (64.0%)\n",
            "WARNING:root:Failed to deep copy attribute 'collection' of FewShotLearning, falling back to shallow copy or reference copy.\n",
            "2024/11/24 00:48:41 INFO dspy.teleprompt.mipro_optimizer_v2: Score: 64.0 on minibatch of size 25 with parameters ['Predictor 0: Instruction 0', 'Predictor 0: Few-Shot Set 1', 'Predictor 1: Instruction 2', 'Predictor 1: Few-Shot Set 2'].\n",
            "2024/11/24 00:48:41 INFO dspy.teleprompt.mipro_optimizer_v2: Minibatch scores so far: [56.0, 76.0, 64.0, 64.0, 72.0, 60.0, 60.0, 68.0, 56.0, 52.0, 68.0, 76.0, 68.0, 72.0, 72.0, 72.0, 68.0, 60.0, 72.0, 64.0, 72.0, 60.0, 72.0, 68.0, 64.0, 76.0, 64.0]\n",
            "2024/11/24 00:48:41 INFO dspy.teleprompt.mipro_optimizer_v2: Full eval scores so far: [58.0, 66.0, 68.0]\n",
            "2024/11/24 00:48:41 INFO dspy.teleprompt.mipro_optimizer_v2: Best full score so far: 68.0\n",
            "2024/11/24 00:48:41 INFO dspy.teleprompt.mipro_optimizer_v2: =============================\n",
            "\n",
            "\n",
            "2024/11/24 00:48:41 INFO dspy.teleprompt.mipro_optimizer_v2: == Minibatch Trial 28 / 30 ==\n",
            "WARNING:root:Failed to deep copy attribute 'collection' of FewShotLearning, falling back to shallow copy or reference copy.\n"
          ]
        },
        {
          "output_type": "stream",
          "name": "stdout",
          "text": [
            "\n",
            "Average Metric: 18.00 / 25 (72.0%): 100%|██████████| 25/25 [00:32<00:00,  1.29s/it]"
          ]
        },
        {
          "output_type": "stream",
          "name": "stderr",
          "text": [
            "2024/11/24 00:49:14 INFO dspy.evaluate.evaluate: Average Metric: 18.0 / 25 (72.0%)\n",
            "WARNING:root:Failed to deep copy attribute 'collection' of FewShotLearning, falling back to shallow copy or reference copy.\n",
            "2024/11/24 00:49:14 INFO dspy.teleprompt.mipro_optimizer_v2: Score: 72.0 on minibatch of size 25 with parameters ['Predictor 0: Instruction 3', 'Predictor 0: Few-Shot Set 1', 'Predictor 1: Instruction 6', 'Predictor 1: Few-Shot Set 5'].\n",
            "2024/11/24 00:49:14 INFO dspy.teleprompt.mipro_optimizer_v2: Minibatch scores so far: [56.0, 76.0, 64.0, 64.0, 72.0, 60.0, 60.0, 68.0, 56.0, 52.0, 68.0, 76.0, 68.0, 72.0, 72.0, 72.0, 68.0, 60.0, 72.0, 64.0, 72.0, 60.0, 72.0, 68.0, 64.0, 76.0, 64.0, 72.0]\n",
            "2024/11/24 00:49:14 INFO dspy.teleprompt.mipro_optimizer_v2: Full eval scores so far: [58.0, 66.0, 68.0]\n",
            "2024/11/24 00:49:14 INFO dspy.teleprompt.mipro_optimizer_v2: Best full score so far: 68.0\n",
            "2024/11/24 00:49:14 INFO dspy.teleprompt.mipro_optimizer_v2: =============================\n",
            "\n",
            "\n",
            "2024/11/24 00:49:14 INFO dspy.teleprompt.mipro_optimizer_v2: == Minibatch Trial 29 / 30 ==\n",
            "WARNING:root:Failed to deep copy attribute 'collection' of FewShotLearning, falling back to shallow copy or reference copy.\n"
          ]
        },
        {
          "output_type": "stream",
          "name": "stdout",
          "text": [
            "\n",
            "Average Metric: 17.00 / 25 (68.0%): 100%|██████████| 25/25 [00:21<00:00,  1.17it/s]"
          ]
        },
        {
          "output_type": "stream",
          "name": "stderr",
          "text": [
            "2024/11/24 00:49:35 INFO dspy.evaluate.evaluate: Average Metric: 17.0 / 25 (68.0%)\n",
            "WARNING:root:Failed to deep copy attribute 'collection' of FewShotLearning, falling back to shallow copy or reference copy.\n",
            "2024/11/24 00:49:35 INFO dspy.teleprompt.mipro_optimizer_v2: Score: 68.0 on minibatch of size 25 with parameters ['Predictor 0: Instruction 9', 'Predictor 0: Few-Shot Set 1', 'Predictor 1: Instruction 4', 'Predictor 1: Few-Shot Set 2'].\n",
            "2024/11/24 00:49:35 INFO dspy.teleprompt.mipro_optimizer_v2: Minibatch scores so far: [56.0, 76.0, 64.0, 64.0, 72.0, 60.0, 60.0, 68.0, 56.0, 52.0, 68.0, 76.0, 68.0, 72.0, 72.0, 72.0, 68.0, 60.0, 72.0, 64.0, 72.0, 60.0, 72.0, 68.0, 64.0, 76.0, 64.0, 72.0, 68.0]\n",
            "2024/11/24 00:49:35 INFO dspy.teleprompt.mipro_optimizer_v2: Full eval scores so far: [58.0, 66.0, 68.0]\n",
            "2024/11/24 00:49:35 INFO dspy.teleprompt.mipro_optimizer_v2: Best full score so far: 68.0\n",
            "2024/11/24 00:49:35 INFO dspy.teleprompt.mipro_optimizer_v2: =============================\n",
            "\n",
            "\n",
            "2024/11/24 00:49:35 INFO dspy.teleprompt.mipro_optimizer_v2: == Minibatch Trial 30 / 30 ==\n",
            "WARNING:root:Failed to deep copy attribute 'collection' of FewShotLearning, falling back to shallow copy or reference copy.\n"
          ]
        },
        {
          "output_type": "stream",
          "name": "stdout",
          "text": [
            "\n",
            "Average Metric: 16.00 / 25 (64.0%): 100%|██████████| 25/25 [00:22<00:00,  1.09it/s]"
          ]
        },
        {
          "output_type": "stream",
          "name": "stderr",
          "text": [
            "2024/11/24 00:49:58 INFO dspy.evaluate.evaluate: Average Metric: 16.0 / 25 (64.0%)\n",
            "WARNING:root:Failed to deep copy attribute 'collection' of FewShotLearning, falling back to shallow copy or reference copy.\n",
            "2024/11/24 00:49:58 INFO dspy.teleprompt.mipro_optimizer_v2: Score: 64.0 on minibatch of size 25 with parameters ['Predictor 0: Instruction 1', 'Predictor 0: Few-Shot Set 3', 'Predictor 1: Instruction 4', 'Predictor 1: Few-Shot Set 6'].\n",
            "2024/11/24 00:49:58 INFO dspy.teleprompt.mipro_optimizer_v2: Minibatch scores so far: [56.0, 76.0, 64.0, 64.0, 72.0, 60.0, 60.0, 68.0, 56.0, 52.0, 68.0, 76.0, 68.0, 72.0, 72.0, 72.0, 68.0, 60.0, 72.0, 64.0, 72.0, 60.0, 72.0, 68.0, 64.0, 76.0, 64.0, 72.0, 68.0, 64.0]\n",
            "2024/11/24 00:49:58 INFO dspy.teleprompt.mipro_optimizer_v2: Full eval scores so far: [58.0, 66.0, 68.0]\n",
            "2024/11/24 00:49:58 INFO dspy.teleprompt.mipro_optimizer_v2: Best full score so far: 68.0\n",
            "2024/11/24 00:49:58 INFO dspy.teleprompt.mipro_optimizer_v2: =============================\n",
            "\n",
            "\n",
            "2024/11/24 00:49:58 INFO dspy.teleprompt.mipro_optimizer_v2: ===== Full Eval 3 =====\n",
            "2024/11/24 00:49:58 INFO dspy.teleprompt.mipro_optimizer_v2: Doing full eval on next top averaging program (Avg Score: 76.0) from minibatch trials...\n"
          ]
        },
        {
          "output_type": "stream",
          "name": "stdout",
          "text": [
            "\n",
            "Average Metric: 34.00 / 50 (68.0%): 100%|██████████| 50/50 [00:08<00:00,  6.13it/s]"
          ]
        },
        {
          "output_type": "stream",
          "name": "stderr",
          "text": [
            "2024/11/24 00:50:06 INFO dspy.evaluate.evaluate: Average Metric: 34.0 / 50 (68.0%)\n",
            "2024/11/24 00:50:06 INFO dspy.teleprompt.mipro_optimizer_v2: Full eval scores so far: [58.0, 66.0, 68.0, 68.0]\n",
            "2024/11/24 00:50:06 INFO dspy.teleprompt.mipro_optimizer_v2: Best full score so far: 68.0\n",
            "2024/11/24 00:50:06 INFO dspy.teleprompt.mipro_optimizer_v2: =======================\n",
            "2024/11/24 00:50:06 INFO dspy.teleprompt.mipro_optimizer_v2: \n",
            "\n",
            "2024/11/24 00:50:06 INFO dspy.teleprompt.mipro_optimizer_v2: Returning best identified program with score 68.0!\n"
          ]
        },
        {
          "output_type": "stream",
          "name": "stdout",
          "text": [
            "\n"
          ]
        }
      ],
      "source": [
        "# If you want to run the optimizer, set this to True.\n",
        "# Otherwise, an optimized model will be downloaded for you.\n",
        "DO_OPTIMIZE = True\n",
        "if DO_OPTIMIZE:\n",
        "    optimizer = dspy.teleprompt.MIPROv2(metric=score_func)\n",
        "    optimized_few_shot = optimizer.compile(\n",
        "        FewShotLearning(),\n",
        "        trainset=train_examples,\n",
        "        valset=valid_examples,\n",
        "        max_bootstrapped_demos=2,\n",
        "        max_labeled_demos=2,\n",
        "        requires_permission_to_run=False\n",
        "    )\n",
        "else:\n",
        "    # If you don't want to run the optimizer, you can download the pre-trained model below\n",
        "    import os\n",
        "    import requests\n",
        "\n",
        "        # Download the pre-trained model if it doesn't exist locally\n",
        "    model_path = \"mipro_optimized_few_shot.json\"\n",
        "    if not os.path.exists(model_path):\n",
        "        print(\"Downloading pre-trained model...\")\n",
        "        url = \"https://raw.githubusercontent.com/mgfrantz/CTME-llm-lecture-resources/main/prototyping_ai/mipro_optimized_few_shot.json\"\n",
        "        response = requests.get(url)\n",
        "        if response.status_code == 200:\n",
        "            with open(model_path, \"wb\") as f:\n",
        "                f.write(response.content)\n",
        "            print(\"Model downloaded successfully\")\n",
        "        else:\n",
        "            print(f\"Failed to download model: {response.status_code}\")\n",
        "\n",
        "    optimized_few_shot = FewShotLearning()\n",
        "    optimized_few_shot.load(model_path)"
      ]
    },
    {
      "cell_type": "code",
      "execution_count": 124,
      "metadata": {
        "id": "-mUSnC05nApD"
      },
      "outputs": [],
      "source": [
        "optimized_few_shot.save(\"mipro_optimized_few_shot.json\")"
      ]
    },
    {
      "cell_type": "code",
      "execution_count": 89,
      "metadata": {
        "id": "Xr9RIFcNnApD",
        "colab": {
          "base_uri": "https://localhost:8080/",
          "height": 663
        },
        "outputId": "d2c7e602-15e7-4dbf-8165-87848d7ea8b4"
      },
      "outputs": [
        {
          "output_type": "display_data",
          "data": {
            "text/plain": [
              "Cohen's Kappa: \u001b[1;36m0.8571\u001b[0m, MAE: \u001b[1;36m0.38\u001b[0m\n"
            ],
            "text/html": [
              "<pre style=\"white-space:pre;overflow-x:auto;line-height:normal;font-family:Menlo,'DejaVu Sans Mono',consolas,'Courier New',monospace\">Cohen's Kappa: <span style=\"color: #008080; text-decoration-color: #008080; font-weight: bold\">0.8571</span>, MAE: <span style=\"color: #008080; text-decoration-color: #008080; font-weight: bold\">0.38</span>\n",
              "</pre>\n"
            ]
          },
          "metadata": {}
        },
        {
          "output_type": "display_data",
          "data": {
            "text/plain": [
              "              precision    recall  f1-score   support\n",
              "\n",
              "           \u001b[1;36m0\u001b[0m       \u001b[1;36m0.82\u001b[0m      \u001b[1;36m0.90\u001b[0m      \u001b[1;36m0.86\u001b[0m        \u001b[1;36m10\u001b[0m\n",
              "           \u001b[1;36m1\u001b[0m       \u001b[1;36m0.62\u001b[0m      \u001b[1;36m0.80\u001b[0m      \u001b[1;36m0.70\u001b[0m        \u001b[1;36m10\u001b[0m\n",
              "           \u001b[1;36m2\u001b[0m       \u001b[1;36m0.60\u001b[0m      \u001b[1;36m0.60\u001b[0m      \u001b[1;36m0.60\u001b[0m        \u001b[1;36m10\u001b[0m\n",
              "           \u001b[1;36m3\u001b[0m       \u001b[1;36m0.67\u001b[0m      \u001b[1;36m0.40\u001b[0m      \u001b[1;36m0.50\u001b[0m        \u001b[1;36m10\u001b[0m\n",
              "           \u001b[1;36m4\u001b[0m       \u001b[1;36m0.80\u001b[0m      \u001b[1;36m0.80\u001b[0m      \u001b[1;36m0.80\u001b[0m        \u001b[1;36m10\u001b[0m\n",
              "\n",
              "    accuracy                           \u001b[1;36m0.70\u001b[0m        \u001b[1;36m50\u001b[0m\n",
              "   macro avg       \u001b[1;36m0.70\u001b[0m      \u001b[1;36m0.70\u001b[0m      \u001b[1;36m0.69\u001b[0m        \u001b[1;36m50\u001b[0m\n",
              "weighted avg       \u001b[1;36m0.70\u001b[0m      \u001b[1;36m0.70\u001b[0m      \u001b[1;36m0.69\u001b[0m        \u001b[1;36m50\u001b[0m\n",
              "\n"
            ],
            "text/html": [
              "<pre style=\"white-space:pre;overflow-x:auto;line-height:normal;font-family:Menlo,'DejaVu Sans Mono',consolas,'Courier New',monospace\">              precision    recall  f1-score   support\n",
              "\n",
              "           <span style=\"color: #008080; text-decoration-color: #008080; font-weight: bold\">0</span>       <span style=\"color: #008080; text-decoration-color: #008080; font-weight: bold\">0.82</span>      <span style=\"color: #008080; text-decoration-color: #008080; font-weight: bold\">0.90</span>      <span style=\"color: #008080; text-decoration-color: #008080; font-weight: bold\">0.86</span>        <span style=\"color: #008080; text-decoration-color: #008080; font-weight: bold\">10</span>\n",
              "           <span style=\"color: #008080; text-decoration-color: #008080; font-weight: bold\">1</span>       <span style=\"color: #008080; text-decoration-color: #008080; font-weight: bold\">0.62</span>      <span style=\"color: #008080; text-decoration-color: #008080; font-weight: bold\">0.80</span>      <span style=\"color: #008080; text-decoration-color: #008080; font-weight: bold\">0.70</span>        <span style=\"color: #008080; text-decoration-color: #008080; font-weight: bold\">10</span>\n",
              "           <span style=\"color: #008080; text-decoration-color: #008080; font-weight: bold\">2</span>       <span style=\"color: #008080; text-decoration-color: #008080; font-weight: bold\">0.60</span>      <span style=\"color: #008080; text-decoration-color: #008080; font-weight: bold\">0.60</span>      <span style=\"color: #008080; text-decoration-color: #008080; font-weight: bold\">0.60</span>        <span style=\"color: #008080; text-decoration-color: #008080; font-weight: bold\">10</span>\n",
              "           <span style=\"color: #008080; text-decoration-color: #008080; font-weight: bold\">3</span>       <span style=\"color: #008080; text-decoration-color: #008080; font-weight: bold\">0.67</span>      <span style=\"color: #008080; text-decoration-color: #008080; font-weight: bold\">0.40</span>      <span style=\"color: #008080; text-decoration-color: #008080; font-weight: bold\">0.50</span>        <span style=\"color: #008080; text-decoration-color: #008080; font-weight: bold\">10</span>\n",
              "           <span style=\"color: #008080; text-decoration-color: #008080; font-weight: bold\">4</span>       <span style=\"color: #008080; text-decoration-color: #008080; font-weight: bold\">0.80</span>      <span style=\"color: #008080; text-decoration-color: #008080; font-weight: bold\">0.80</span>      <span style=\"color: #008080; text-decoration-color: #008080; font-weight: bold\">0.80</span>        <span style=\"color: #008080; text-decoration-color: #008080; font-weight: bold\">10</span>\n",
              "\n",
              "    accuracy                           <span style=\"color: #008080; text-decoration-color: #008080; font-weight: bold\">0.70</span>        <span style=\"color: #008080; text-decoration-color: #008080; font-weight: bold\">50</span>\n",
              "   macro avg       <span style=\"color: #008080; text-decoration-color: #008080; font-weight: bold\">0.70</span>      <span style=\"color: #008080; text-decoration-color: #008080; font-weight: bold\">0.70</span>      <span style=\"color: #008080; text-decoration-color: #008080; font-weight: bold\">0.69</span>        <span style=\"color: #008080; text-decoration-color: #008080; font-weight: bold\">50</span>\n",
              "weighted avg       <span style=\"color: #008080; text-decoration-color: #008080; font-weight: bold\">0.70</span>      <span style=\"color: #008080; text-decoration-color: #008080; font-weight: bold\">0.70</span>      <span style=\"color: #008080; text-decoration-color: #008080; font-weight: bold\">0.69</span>        <span style=\"color: #008080; text-decoration-color: #008080; font-weight: bold\">50</span>\n",
              "\n",
              "</pre>\n"
            ]
          },
          "metadata": {}
        },
        {
          "output_type": "display_data",
          "data": {
            "text/plain": [
              "<Figure size 640x480 with 2 Axes>"
            ],
            "image/png": "[encoded data removed]"
          },
          "metadata": {}
        }
      ],
      "source": [
        "unoptimized_labels, unoptimized_predictions, unoptimized_kappa, unoptimized_mae, unoptimized_cm, unoptimized_cr = dspy_predict_and_evaluate(FewShotLearning())\n",
        "print(f\"Cohen's Kappa: {unoptimized_kappa:.04f}, MAE: {unoptimized_mae}\")\n",
        "print(unoptimized_cr)"
      ]
    },
    {
      "cell_type": "code",
      "execution_count": 125,
      "metadata": {
        "id": "A_OdQbXonApD",
        "colab": {
          "base_uri": "https://localhost:8080/",
          "height": 663
        },
        "outputId": "0e6a4f95-abb3-4d9e-86dc-23902f637021"
      },
      "outputs": [
        {
          "output_type": "display_data",
          "data": {
            "text/plain": [
              "Cohen's Kappa: \u001b[1;36m0.8720\u001b[0m, MAE: \u001b[1;36m0.38\u001b[0m\n"
            ],
            "text/html": [
              "<pre style=\"white-space:pre;overflow-x:auto;line-height:normal;font-family:Menlo,'DejaVu Sans Mono',consolas,'Courier New',monospace\">Cohen's Kappa: <span style=\"color: #008080; text-decoration-color: #008080; font-weight: bold\">0.8720</span>, MAE: <span style=\"color: #008080; text-decoration-color: #008080; font-weight: bold\">0.38</span>\n",
              "</pre>\n"
            ]
          },
          "metadata": {}
        },
        {
          "output_type": "display_data",
          "data": {
            "text/plain": [
              "              precision    recall  f1-score   support\n",
              "\n",
              "           \u001b[1;36m0\u001b[0m       \u001b[1;36m0.75\u001b[0m      \u001b[1;36m0.90\u001b[0m      \u001b[1;36m0.82\u001b[0m        \u001b[1;36m10\u001b[0m\n",
              "           \u001b[1;36m1\u001b[0m       \u001b[1;36m0.75\u001b[0m      \u001b[1;36m0.60\u001b[0m      \u001b[1;36m0.67\u001b[0m        \u001b[1;36m10\u001b[0m\n",
              "           \u001b[1;36m2\u001b[0m       \u001b[1;36m0.55\u001b[0m      \u001b[1;36m0.60\u001b[0m      \u001b[1;36m0.57\u001b[0m        \u001b[1;36m10\u001b[0m\n",
              "           \u001b[1;36m3\u001b[0m       \u001b[1;36m0.57\u001b[0m      \u001b[1;36m0.40\u001b[0m      \u001b[1;36m0.47\u001b[0m        \u001b[1;36m10\u001b[0m\n",
              "           \u001b[1;36m4\u001b[0m       \u001b[1;36m0.75\u001b[0m      \u001b[1;36m0.90\u001b[0m      \u001b[1;36m0.82\u001b[0m        \u001b[1;36m10\u001b[0m\n",
              "\n",
              "    accuracy                           \u001b[1;36m0.68\u001b[0m        \u001b[1;36m50\u001b[0m\n",
              "   macro avg       \u001b[1;36m0.67\u001b[0m      \u001b[1;36m0.68\u001b[0m      \u001b[1;36m0.67\u001b[0m        \u001b[1;36m50\u001b[0m\n",
              "weighted avg       \u001b[1;36m0.67\u001b[0m      \u001b[1;36m0.68\u001b[0m      \u001b[1;36m0.67\u001b[0m        \u001b[1;36m50\u001b[0m\n",
              "\n"
            ],
            "text/html": [
              "<pre style=\"white-space:pre;overflow-x:auto;line-height:normal;font-family:Menlo,'DejaVu Sans Mono',consolas,'Courier New',monospace\">              precision    recall  f1-score   support\n",
              "\n",
              "           <span style=\"color: #008080; text-decoration-color: #008080; font-weight: bold\">0</span>       <span style=\"color: #008080; text-decoration-color: #008080; font-weight: bold\">0.75</span>      <span style=\"color: #008080; text-decoration-color: #008080; font-weight: bold\">0.90</span>      <span style=\"color: #008080; text-decoration-color: #008080; font-weight: bold\">0.82</span>        <span style=\"color: #008080; text-decoration-color: #008080; font-weight: bold\">10</span>\n",
              "           <span style=\"color: #008080; text-decoration-color: #008080; font-weight: bold\">1</span>       <span style=\"color: #008080; text-decoration-color: #008080; font-weight: bold\">0.75</span>      <span style=\"color: #008080; text-decoration-color: #008080; font-weight: bold\">0.60</span>      <span style=\"color: #008080; text-decoration-color: #008080; font-weight: bold\">0.67</span>        <span style=\"color: #008080; text-decoration-color: #008080; font-weight: bold\">10</span>\n",
              "           <span style=\"color: #008080; text-decoration-color: #008080; font-weight: bold\">2</span>       <span style=\"color: #008080; text-decoration-color: #008080; font-weight: bold\">0.55</span>      <span style=\"color: #008080; text-decoration-color: #008080; font-weight: bold\">0.60</span>      <span style=\"color: #008080; text-decoration-color: #008080; font-weight: bold\">0.57</span>        <span style=\"color: #008080; text-decoration-color: #008080; font-weight: bold\">10</span>\n",
              "           <span style=\"color: #008080; text-decoration-color: #008080; font-weight: bold\">3</span>       <span style=\"color: #008080; text-decoration-color: #008080; font-weight: bold\">0.57</span>      <span style=\"color: #008080; text-decoration-color: #008080; font-weight: bold\">0.40</span>      <span style=\"color: #008080; text-decoration-color: #008080; font-weight: bold\">0.47</span>        <span style=\"color: #008080; text-decoration-color: #008080; font-weight: bold\">10</span>\n",
              "           <span style=\"color: #008080; text-decoration-color: #008080; font-weight: bold\">4</span>       <span style=\"color: #008080; text-decoration-color: #008080; font-weight: bold\">0.75</span>      <span style=\"color: #008080; text-decoration-color: #008080; font-weight: bold\">0.90</span>      <span style=\"color: #008080; text-decoration-color: #008080; font-weight: bold\">0.82</span>        <span style=\"color: #008080; text-decoration-color: #008080; font-weight: bold\">10</span>\n",
              "\n",
              "    accuracy                           <span style=\"color: #008080; text-decoration-color: #008080; font-weight: bold\">0.68</span>        <span style=\"color: #008080; text-decoration-color: #008080; font-weight: bold\">50</span>\n",
              "   macro avg       <span style=\"color: #008080; text-decoration-color: #008080; font-weight: bold\">0.67</span>      <span style=\"color: #008080; text-decoration-color: #008080; font-weight: bold\">0.68</span>      <span style=\"color: #008080; text-decoration-color: #008080; font-weight: bold\">0.67</span>        <span style=\"color: #008080; text-decoration-color: #008080; font-weight: bold\">50</span>\n",
              "weighted avg       <span style=\"color: #008080; text-decoration-color: #008080; font-weight: bold\">0.67</span>      <span style=\"color: #008080; text-decoration-color: #008080; font-weight: bold\">0.68</span>      <span style=\"color: #008080; text-decoration-color: #008080; font-weight: bold\">0.67</span>        <span style=\"color: #008080; text-decoration-color: #008080; font-weight: bold\">50</span>\n",
              "\n",
              "</pre>\n"
            ]
          },
          "metadata": {}
        },
        {
          "output_type": "display_data",
          "data": {
            "text/plain": [
              "<Figure size 640x480 with 2 Axes>"
            ],
            "image/png": "[encoded data removed]"
          },
          "metadata": {}
        }
      ],
      "source": [
        "optimized_labels, optimized_predictions, optimized_kappa, optimized_mae, optimized_cm, optimized_cr = dspy_predict_and_evaluate(optimized_few_shot)\n",
        "print(f\"Cohen's Kappa: {optimized_kappa:.04f}, MAE: {optimized_mae}\")\n",
        "print(optimized_cr)"
      ]
    },
    {
      "cell_type": "code",
      "source": [],
      "metadata": {
        "id": "SOHE6LFiiDwv"
      },
      "execution_count": null,
      "outputs": []
    }
  ],
  "metadata": {
    "colab": {
      "machine_shape": "hm",
      "provenance": [],
      "collapsed_sections": [
        "XfqCJ9bmLDG2",
        "yJ0qYsS0Y4DZ",
        "whSrknBwZ1hA"
      ],
      "include_colab_link": true
    },
    "kernelspec": {
      "display_name": "Python 3",
      "name": "python3"
    },
    "language_info": {
      "codemirror_mode": {
        "name": "ipython",
        "version": 3
      },
      "file_extension": ".py",
      "mimetype": "text/x-python",
      "name": "python",
      "nbconvert_exporter": "python",
      "pygments_lexer": "ipython3",
      "version": "3.12.7"
    },
    "widgets": {
      "application/vnd.jupyter.widget-state+json": {
        "1364dd8e6f5f4eb8aa9b0c195e89b0eb": {
          "model_module": "@jupyter-widgets/controls",
          "model_name": "VBoxModel",
          "model_module_version": "1.5.0",
          "state": {
            "_dom_classes": [
              "widget-interact"
            ],
            "_model_module": "@jupyter-widgets/controls",
            "_model_module_version": "1.5.0",
            "_model_name": "VBoxModel",
            "_view_count": null,
            "_view_module": "@jupyter-widgets/controls",
            "_view_module_version": "1.5.0",
            "_view_name": "VBoxView",
            "box_style": "",
            "children": [
              "IPY_MODEL_27af2746a25648b3ba5b64a993fabcb9",
              "IPY_MODEL_826f481ded444d8c8dfbdb35c3e2618c"
            ],
            "layout": "IPY_MODEL_bab269e578254c8ebd01242904935afc"
          }
        },
        "27af2746a25648b3ba5b64a993fabcb9": {
          "model_module": "@jupyter-widgets/controls",
          "model_name": "FloatSliderModel",
          "model_module_version": "1.5.0",
          "state": {
            "_dom_classes": [],
            "_model_module": "@jupyter-widgets/controls",
            "_model_module_version": "1.5.0",
            "_model_name": "FloatSliderModel",
            "_view_count": null,
            "_view_module": "@jupyter-widgets/controls",
            "_view_module_version": "1.5.0",
            "_view_name": "FloatSliderView",
            "continuous_update": true,
            "description": "temperature",
            "description_tooltip": null,
            "disabled": false,
            "layout": "IPY_MODEL_211fb76e748f49e5a8ff17808b5ad73c",
            "max": 2,
            "min": 0.1,
            "orientation": "horizontal",
            "readout": true,
            "readout_format": ".2f",
            "step": 0.1,
            "style": "IPY_MODEL_85c3eb181b0642e19909bda1a35f68de",
            "value": 1
          }
        },
        "826f481ded444d8c8dfbdb35c3e2618c": {
          "model_module": "@jupyter-widgets/output",
          "model_name": "OutputModel",
          "model_module_version": "1.0.0",
          "state": {
            "_dom_classes": [],
            "_model_module": "@jupyter-widgets/output",
            "_model_module_version": "1.0.0",
            "_model_name": "OutputModel",
            "_view_count": null,
            "_view_module": "@jupyter-widgets/output",
            "_view_module_version": "1.0.0",
            "_view_name": "OutputView",
            "layout": "IPY_MODEL_79071aa2db364d64b792f4b024be67f0",
            "msg_id": "",
            "outputs": [
              {
                "output_type": "display_data",
                "data": {
                  "text/plain": "<Figure size 600x400 with 1 Axes>",
                  "image/png": "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\n"
                },
                "metadata": {}
              }
            ]
          }
        },
        "bab269e578254c8ebd01242904935afc": {
          "model_module": "@jupyter-widgets/base",
          "model_name": "LayoutModel",
          "model_module_version": "1.2.0",
          "state": {
            "_model_module": "@jupyter-widgets/base",
            "_model_module_version": "1.2.0",
            "_model_name": "LayoutModel",
            "_view_count": null,
            "_view_module": "@jupyter-widgets/base",
            "_view_module_version": "1.2.0",
            "_view_name": "LayoutView",
            "align_content": null,
            "align_items": null,
            "align_self": null,
            "border": null,
            "bottom": null,
            "display": null,
            "flex": null,
            "flex_flow": null,
            "grid_area": null,
            "grid_auto_columns": null,
            "grid_auto_flow": null,
            "grid_auto_rows": null,
            "grid_column": null,
            "grid_gap": null,
            "grid_row": null,
            "grid_template_areas": null,
            "grid_template_columns": null,
            "grid_template_rows": null,
            "height": null,
            "justify_content": null,
            "justify_items": null,
            "left": null,
            "margin": null,
            "max_height": null,
            "max_width": null,
            "min_height": null,
            "min_width": null,
            "object_fit": null,
            "object_position": null,
            "order": null,
            "overflow": null,
            "overflow_x": null,
            "overflow_y": null,
            "padding": null,
            "right": null,
            "top": null,
            "visibility": null,
            "width": null
          }
        },
        "211fb76e748f49e5a8ff17808b5ad73c": {
          "model_module": "@jupyter-widgets/base",
          "model_name": "LayoutModel",
          "model_module_version": "1.2.0",
          "state": {
            "_model_module": "@jupyter-widgets/base",
            "_model_module_version": "1.2.0",
            "_model_name": "LayoutModel",
            "_view_count": null,
            "_view_module": "@jupyter-widgets/base",
            "_view_module_version": "1.2.0",
            "_view_name": "LayoutView",
            "align_content": null,
            "align_items": null,
            "align_self": null,
            "border": null,
            "bottom": null,
            "display": null,
            "flex": null,
            "flex_flow": null,
            "grid_area": null,
            "grid_auto_columns": null,
            "grid_auto_flow": null,
            "grid_auto_rows": null,
            "grid_column": null,
            "grid_gap": null,
            "grid_row": null,
            "grid_template_areas": null,
            "grid_template_columns": null,
            "grid_template_rows": null,
            "height": null,
            "justify_content": null,
            "justify_items": null,
            "left": null,
            "margin": null,
            "max_height": null,
            "max_width": null,
            "min_height": null,
            "min_width": null,
            "object_fit": null,
            "object_position": null,
            "order": null,
            "overflow": null,
            "overflow_x": null,
            "overflow_y": null,
            "padding": null,
            "right": null,
            "top": null,
            "visibility": null,
            "width": null
          }
        },
        "85c3eb181b0642e19909bda1a35f68de": {
          "model_module": "@jupyter-widgets/controls",
          "model_name": "SliderStyleModel",
          "model_module_version": "1.5.0",
          "state": {
            "_model_module": "@jupyter-widgets/controls",
            "_model_module_version": "1.5.0",
            "_model_name": "SliderStyleModel",
            "_view_count": null,
            "_view_module": "@jupyter-widgets/base",
            "_view_module_version": "1.2.0",
            "_view_name": "StyleView",
            "description_width": "",
            "handle_color": null
          }
        },
        "79071aa2db364d64b792f4b024be67f0": {
          "model_module": "@jupyter-widgets/base",
          "model_name": "LayoutModel",
          "model_module_version": "1.2.0",
          "state": {
            "_model_module": "@jupyter-widgets/base",
            "_model_module_version": "1.2.0",
            "_model_name": "LayoutModel",
            "_view_count": null,
            "_view_module": "@jupyter-widgets/base",
            "_view_module_version": "1.2.0",
            "_view_name": "LayoutView",
            "align_content": null,
            "align_items": null,
            "align_self": null,
            "border": null,
            "bottom": null,
            "display": null,
            "flex": null,
            "flex_flow": null,
            "grid_area": null,
            "grid_auto_columns": null,
            "grid_auto_flow": null,
            "grid_auto_rows": null,
            "grid_column": null,
            "grid_gap": null,
            "grid_row": null,
            "grid_template_areas": null,
            "grid_template_columns": null,
            "grid_template_rows": null,
            "height": null,
            "justify_content": null,
            "justify_items": null,
            "left": null,
            "margin": null,
            "max_height": null,
            "max_width": null,
            "min_height": null,
            "min_width": null,
            "object_fit": null,
            "object_position": null,
            "order": null,
            "overflow": null,
            "overflow_x": null,
            "overflow_y": null,
            "padding": null,
            "right": null,
            "top": null,
            "visibility": null,
            "width": null
          }
        },
        "cf55c5f5e9ba4467a9aeb482b3ca0e7d": {
          "model_module": "@jupyter-widgets/controls",
          "model_name": "VBoxModel",
          "model_module_version": "1.5.0",
          "state": {
            "_dom_classes": [
              "widget-interact"
            ],
            "_model_module": "@jupyter-widgets/controls",
            "_model_module_version": "1.5.0",
            "_model_name": "VBoxModel",
            "_view_count": null,
            "_view_module": "@jupyter-widgets/controls",
            "_view_module_version": "1.5.0",
            "_view_name": "VBoxView",
            "box_style": "",
            "children": [
              "IPY_MODEL_b3d10f65f54d4be195505b9ab792190a",
              "IPY_MODEL_ee3684d8a4984635974a44f85410562b"
            ],
            "layout": "IPY_MODEL_bd3514fc7f684a98b6d8c967d6bbd3a6"
          }
        },
        "b3d10f65f54d4be195505b9ab792190a": {
          "model_module": "@jupyter-widgets/controls",
          "model_name": "IntSliderModel",
          "model_module_version": "1.5.0",
          "state": {
            "_dom_classes": [],
            "_model_module": "@jupyter-widgets/controls",
            "_model_module_version": "1.5.0",
            "_model_name": "IntSliderModel",
            "_view_count": null,
            "_view_module": "@jupyter-widgets/controls",
            "_view_module_version": "1.5.0",
            "_view_name": "IntSliderView",
            "continuous_update": true,
            "description": "top_k",
            "description_tooltip": null,
            "disabled": false,
            "layout": "IPY_MODEL_54692c01c36748749ed47536670f7564",
            "max": 5,
            "min": 1,
            "orientation": "horizontal",
            "readout": true,
            "readout_format": "d",
            "step": 1,
            "style": "IPY_MODEL_0b3dbfde3e74476aaac87f11d0e94012",
            "value": 3
          }
        },
        "ee3684d8a4984635974a44f85410562b": {
          "model_module": "@jupyter-widgets/output",
          "model_name": "OutputModel",
          "model_module_version": "1.0.0",
          "state": {
            "_dom_classes": [],
            "_model_module": "@jupyter-widgets/output",
            "_model_module_version": "1.0.0",
            "_model_name": "OutputModel",
            "_view_count": null,
            "_view_module": "@jupyter-widgets/output",
            "_view_module_version": "1.0.0",
            "_view_name": "OutputView",
            "layout": "IPY_MODEL_36540f607cd542548509966988421f9c",
            "msg_id": "",
            "outputs": [
              {
                "output_type": "display_data",
                "data": {
                  "text/plain": "<Figure size 1200x500 with 2 Axes>",
                  "image/png": "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\n"
                },
                "metadata": {}
              }
            ]
          }
        },
        "bd3514fc7f684a98b6d8c967d6bbd3a6": {
          "model_module": "@jupyter-widgets/base",
          "model_name": "LayoutModel",
          "model_module_version": "1.2.0",
          "state": {
            "_model_module": "@jupyter-widgets/base",
            "_model_module_version": "1.2.0",
            "_model_name": "LayoutModel",
            "_view_count": null,
            "_view_module": "@jupyter-widgets/base",
            "_view_module_version": "1.2.0",
            "_view_name": "LayoutView",
            "align_content": null,
            "align_items": null,
            "align_self": null,
            "border": null,
            "bottom": null,
            "display": null,
            "flex": null,
            "flex_flow": null,
            "grid_area": null,
            "grid_auto_columns": null,
            "grid_auto_flow": null,
            "grid_auto_rows": null,
            "grid_column": null,
            "grid_gap": null,
            "grid_row": null,
            "grid_template_areas": null,
            "grid_template_columns": null,
            "grid_template_rows": null,
            "height": null,
            "justify_content": null,
            "justify_items": null,
            "left": null,
            "margin": null,
            "max_height": null,
            "max_width": null,
            "min_height": null,
            "min_width": null,
            "object_fit": null,
            "object_position": null,
            "order": null,
            "overflow": null,
            "overflow_x": null,
            "overflow_y": null,
            "padding": null,
            "right": null,
            "top": null,
            "visibility": null,
            "width": null
          }
        },
        "54692c01c36748749ed47536670f7564": {
          "model_module": "@jupyter-widgets/base",
          "model_name": "LayoutModel",
          "model_module_version": "1.2.0",
          "state": {
            "_model_module": "@jupyter-widgets/base",
            "_model_module_version": "1.2.0",
            "_model_name": "LayoutModel",
            "_view_count": null,
            "_view_module": "@jupyter-widgets/base",
            "_view_module_version": "1.2.0",
            "_view_name": "LayoutView",
            "align_content": null,
            "align_items": null,
            "align_self": null,
            "border": null,
            "bottom": null,
            "display": null,
            "flex": null,
            "flex_flow": null,
            "grid_area": null,
            "grid_auto_columns": null,
            "grid_auto_flow": null,
            "grid_auto_rows": null,
            "grid_column": null,
            "grid_gap": null,
            "grid_row": null,
            "grid_template_areas": null,
            "grid_template_columns": null,
            "grid_template_rows": null,
            "height": null,
            "justify_content": null,
            "justify_items": null,
            "left": null,
            "margin": null,
            "max_height": null,
            "max_width": null,
            "min_height": null,
            "min_width": null,
            "object_fit": null,
            "object_position": null,
            "order": null,
            "overflow": null,
            "overflow_x": null,
            "overflow_y": null,
            "padding": null,
            "right": null,
            "top": null,
            "visibility": null,
            "width": null
          }
        },
        "0b3dbfde3e74476aaac87f11d0e94012": {
          "model_module": "@jupyter-widgets/controls",
          "model_name": "SliderStyleModel",
          "model_module_version": "1.5.0",
          "state": {
            "_model_module": "@jupyter-widgets/controls",
            "_model_module_version": "1.5.0",
            "_model_name": "SliderStyleModel",
            "_view_count": null,
            "_view_module": "@jupyter-widgets/base",
            "_view_module_version": "1.2.0",
            "_view_name": "StyleView",
            "description_width": "",
            "handle_color": null
          }
        },
        "36540f607cd542548509966988421f9c": {
          "model_module": "@jupyter-widgets/base",
          "model_name": "LayoutModel",
          "model_module_version": "1.2.0",
          "state": {
            "_model_module": "@jupyter-widgets/base",
            "_model_module_version": "1.2.0",
            "_model_name": "LayoutModel",
            "_view_count": null,
            "_view_module": "@jupyter-widgets/base",
            "_view_module_version": "1.2.0",
            "_view_name": "LayoutView",
            "align_content": null,
            "align_items": null,
            "align_self": null,
            "border": null,
            "bottom": null,
            "display": null,
            "flex": null,
            "flex_flow": null,
            "grid_area": null,
            "grid_auto_columns": null,
            "grid_auto_flow": null,
            "grid_auto_rows": null,
            "grid_column": null,
            "grid_gap": null,
            "grid_row": null,
            "grid_template_areas": null,
            "grid_template_columns": null,
            "grid_template_rows": null,
            "height": null,
            "justify_content": null,
            "justify_items": null,
            "left": null,
            "margin": null,
            "max_height": null,
            "max_width": null,
            "min_height": null,
            "min_width": null,
            "object_fit": null,
            "object_position": null,
            "order": null,
            "overflow": null,
            "overflow_x": null,
            "overflow_y": null,
            "padding": null,
            "right": null,
            "top": null,
            "visibility": null,
            "width": null
          }
        },
        "d72c3edeac394471ae963761227a6666": {
          "model_module": "@jupyter-widgets/controls",
          "model_name": "VBoxModel",
          "model_module_version": "1.5.0",
          "state": {
            "_dom_classes": [
              "widget-interact"
            ],
            "_model_module": "@jupyter-widgets/controls",
            "_model_module_version": "1.5.0",
            "_model_name": "VBoxModel",
            "_view_count": null,
            "_view_module": "@jupyter-widgets/controls",
            "_view_module_version": "1.5.0",
            "_view_name": "VBoxView",
            "box_style": "",
            "children": [
              "IPY_MODEL_87cae6e9e68541cfb5ef387d3ba3ddb8",
              "IPY_MODEL_2c34b20ec98a42498757b34421cae944"
            ],
            "layout": "IPY_MODEL_2a70c4387bc048bbb092d6f0b60bf1f4"
          }
        },
        "87cae6e9e68541cfb5ef387d3ba3ddb8": {
          "model_module": "@jupyter-widgets/controls",
          "model_name": "FloatSliderModel",
          "model_module_version": "1.5.0",
          "state": {
            "_dom_classes": [],
            "_model_module": "@jupyter-widgets/controls",
            "_model_module_version": "1.5.0",
            "_model_name": "FloatSliderModel",
            "_view_count": null,
            "_view_module": "@jupyter-widgets/controls",
            "_view_module_version": "1.5.0",
            "_view_name": "FloatSliderView",
            "continuous_update": true,
            "description": "p",
            "description_tooltip": null,
            "disabled": false,
            "layout": "IPY_MODEL_d93c9ce03f444b8eab3eadc0c8813e5b",
            "max": 1,
            "min": 0.01,
            "orientation": "horizontal",
            "readout": true,
            "readout_format": ".2f",
            "step": 0.05,
            "style": "IPY_MODEL_45ca16f9c9844f5cb063db84316787b4",
            "value": 0.46
          }
        },
        "2c34b20ec98a42498757b34421cae944": {
          "model_module": "@jupyter-widgets/output",
          "model_name": "OutputModel",
          "model_module_version": "1.0.0",
          "state": {
            "_dom_classes": [],
            "_model_module": "@jupyter-widgets/output",
            "_model_module_version": "1.0.0",
            "_model_name": "OutputModel",
            "_view_count": null,
            "_view_module": "@jupyter-widgets/output",
            "_view_module_version": "1.0.0",
            "_view_name": "OutputView",
            "layout": "IPY_MODEL_8eec41bc7b624ac8a66082b29253956f",
            "msg_id": "",
            "outputs": [
              {
                "output_type": "display_data",
                "data": {
                  "text/plain": "<Figure size 1200x500 with 2 Axes>",
                  "image/png": "iVBORw0KGgoAAAANSUhEUgAABKUAAAHqCAYAAADVi/1VAAAAOXRFWHRTb2Z0d2FyZQBNYXRwbG90bGliIHZlcnNpb24zLjguMCwgaHR0cHM6Ly9tYXRwbG90bGliLm9yZy81sbWrAAAACXBIWXMAAA9hAAAPYQGoP6dpAACOkklEQVR4nOzdeVxU1f/H8TeLgKjggoCoiVu5i2ESmZmJoplLi5pZEJlt4kZlWu6WaJpbmqblWqZpZYuGC2qbpIlZZq6lYioImqCQInB/f/hjvo4MCggzgK/n48HjwZx77pnPvTNz59zPnHuunWEYhgAAAAAAAAArsrd1AAAAAAAAALj1kJQCAAAAAACA1ZGUAgAAAAAAgNWRlAIAAAAAAIDVkZQCAAAAAACA1ZGUAgAAAAAAgNWRlAIAAAAAAIDVkZQCAAAAAACA1ZGUAgAAAAAAgNWRlAKsaPHixbKzs9PRo0dNZffff7/uv/9+m8V04cIFeXp66uOPP7ZZDCXJ5cuXVbNmTb333nu2DuWGjh49Kjs7Oy1evLhA69vZ2Wns2LGFGtO1bP3+v9bYsWNlZ2enpKSkQmvT19dXDz300A3rbd26VXZ2dtq6daup7Omnn5avr69Zvfy8Lr6+vnr66afzHiyAYunaY+XNHt8LytIxyZay+1U7d+4stDbvv/9+NWnS5Ib1LL0G2d8hV8vPcbi4fSdea8qUKapTp44cHBzk5+dn1ecuqd9nlr7bi5KdnZ3Cw8Ot8lyF5fjx43JxcdFPP/1k61BKhDNnzqhcuXJat26drUMpNCSlbhF2dnZ5+rPWAfNmZGVlaenSpQoICFDlypVVoUIF3X777QoJCdHPP/9s6/BKnJkzZ6pChQp6/PHHbR1Krk6cOKFevXqpYsWKcnNzU/fu3fX333/nu51z587J09NTdnZ2Wr16tcU6u3btUrdu3VS5cmW5urqqSZMmmjVrlml5mTJlFBERobfeeksXL14s8DZdT2pqqiZMmKBmzZrJ1dVV7u7uatOmjZYuXSrDMIrkOYs7X19fs2OVp6en2rRpoy+++MLWodnctm3bNHbsWJ07d87WoQA2k52ccHFx0YkTJ3Isz2uiAYXj/vvvNztmV65cWXfddZcWLlyorKwsW4dnU3/++afGjh1r9gNlSbBhwwYNGzZMrVu31qJFizRx4sTr1v/666/Vtm1beXp6ytXVVXXq1FGvXr0UFRVlpYjzZ+LEiVqzZo1Nnrs0nacVxPjx4xUQEKDWrVvbOpRc7du3T506dVL58uVVuXJlPfXUU0pMTMx3O3/99ZdcXFyum0zftGmTHnjgAbm7u6tChQry9/fXypUrTcurVKmiZ599VqNGjSrw9hQ3jrYOANaxbNkys8dLly7Vxo0bc5Q3bNjQmmEVyKBBgzRnzhx1795dffv2laOjow4cOKBvv/1WderU0d13323rEPNlw4YNNnvuy5cva+bMmRo6dKgcHBxsFsf1XLhwQe3atVNycrJef/11lSlTRtOnT1fbtm21e/duValSJc9tjR49Wmlpabku37Bhg7p27aoWLVpo1KhRKl++vP766y/9888/ZvXCwsI0fPhwLV++XM8880yBt82ShIQEtW/fXvv27dPjjz+u8PBwXbx4UZ999plCQ0O1bt06ffzxx3l6vWrVqqX//vtPZcqUKVAs//33nxwdi8/XhJ+fn15++WVJ0smTJ/X+++/rkUce0dy5c/XCCy/YOLqbd9999+m///6Tk5PTdetd+7ps27ZN48aN09NPP62KFSua1T1w4IDs7fn9CbeOS5cuadKkSXr33XdtHUqRutnjuzXUqFFDkZGRkqTExEQtXbpU/fr108GDBzVp0iQbR3fz8voaXHsc/vPPPzVu3Djdf//9OUad2bJPeCObN2+Wvb29Pvzwwxt+T02dOlWvvvqq2rZtqxEjRsjV1VWHDx/Wpk2btGLFCnXq1MlKUefdxIkT9dhjj6lHjx5Wf+7SdJ6WX4mJiVqyZImWLFli61By9c8//+i+++6Tu7u7Jk6cqAsXLmjq1Knas2ePduzYccPPw9WGDh0qR0dHXbp0yeLyRYsWqV+/furQoYMmTpwoBwcHHThwQMePHzer98ILL2jWrFnavHmzHnjggZvavuKg+JxtoEg9+eSTZo9//vlnbdy4MUd5cZeQkKD33ntP/fv31/z5882WzZgxo0AZa1vLz4GssH3zzTdKTExUr169bBbDjbz33ns6dOiQduzYobvuukuS1LlzZzVp0kTvvPPODX+py/bHH39o7ty5Gj16tEaPHp1jeUpKikJCQtSlSxetXr36uifyFStWVMeOHbV48eJCT0qFhoZq3759+uKLL9StWzdT+aBBg/Tqq69q6tSpatGihV577bVc28jIyFBWVpacnJzk4uJS4FhuZt2iUL16dbNjVkhIiOrVq6fp06fnmpS6el8Ud/b29nna5/l5XZydnW8mJKDE8fPz04IFCzRixAj5+PgUyXMYhqGLFy+qbNmyRdJ+XmSPCivO3N3dzY7Zzz//vO644w7Nnj1bEyZMsJjMycrKUnp6erHfNinvr0F+jsPF+bvq9OnTKlu27A1jzMjI0IQJE9ShQweLSbbTp08XVYglVmk5TyuIjz76SI6OjuratautQ8nVxIkTlZqaqtjYWN12222SpFatWqlDhw5avHixnnvuuTy1s379eq1fv17Dhg3Tm2++mWP50aNHNWDAAA0cOFAzZ868blsNGzZUkyZNtHjx4lKRlOLnU5ikpqbq5ZdfVs2aNeXs7Kw77rhDU6dOzXG5UPa1yh9//LHuuOMOubi4yN/fX99//32enufpp59W+fLl9ffffys4OFjlypWTj4+Pxo8ff8NLk44cOSLDMCwO78y+pCfb2bNn9corr6hp06YqX7683Nzc1LlzZ/32229m62Vf6/3pp59q3Lhxql69uipUqKDHHntMycnJunTpkoYMGSJPT0+VL19eYWFhObLbN7NPrp0/4Op43nrrLdWoUUMuLi5q3769Dh8+nGP9OXPmqE6dOipbtqxatWqlH374Ic9zEqxZs0a+vr6qW7euWfnNvEaFbfXq1brrrrtMCSlJatCggdq3b69PP/00z+0MHjxYDz/8sNq0aWNx+fLly5WQkKC33npL9vb2Sk1Nve4lBh06dNCPP/6os2fP5n1jbuDnn3/W+vXr9fTTT5slpLJFRkaqfv36mjx5sv777z9J/5vTYurUqZoxY4bq1q0rZ2dn/fnnn7nOObJq1So1atRILi4uatKkib744os8zV2UPVfG4cOHTaNy3N3dFRYWlmME2qJFi/TAAw/I09NTzs7OatSokebOnVso+ymbt7e3GjZsqCNHjtxwX0hXfuVt06aNypUrp4oVK6p79+7at2+fxbaTkpLUq1cvubm5qUqVKho8eHCOyzXzu40bNmyQn5+fXFxc1KhRI33++edmy/M678TVr8vYsWP16quvSpJq165tGuKffVmIpTk4zp07pyFDhpiO9fXq1dPkyZNzvN9XrFghf39/VahQQW5ubmratOkNO0mArb3++uvKzMzM00ic7JPn7GOFr6+vXn/99Rzf8dnzwq1fv14tW7ZU2bJl9f777xdK/6Ggx8prj+/ZsVj6u/bY/u2335qOhRUqVFCXLl20d+/eHM+xZs0aNWnSxOy74ma4urrq7rvvVmpqqulHxKv7T40bN5azs7Pp8q5ff/1VnTt3lpubm8qXL6/27dvnOk1DWlqann/+eVWpUkVubm4KCQnRv//+a1bnyy+/VJcuXeTj4yNnZ2fVrVtXEyZMUGZmpsU2Y2Njdc8996hs2bKqXbu25s2bZ7Y8r/N6XX0cXrx4sXr27ClJateuXY7Lsiz13y5duqQxY8aoXr16cnZ2Vs2aNTVs2LAc76WNGzfq3nvvVcWKFVW+fHndcccdev31168bm5S3z4GdnZ0WLVqk1NRUU8y5bXdSUpJSUlJyvRTr6r56frbPkrx+n2VlZWnmzJlq2rSpXFxcVLVqVXXq1Ml0+ZSdnZ1SU1O1ZMkS0/Zd/d154sQJPfPMM/Ly8pKzs7MaN26shQsX5ojnn3/+UY8ePVSuXDl5enpq6NChedqOvMjreZolb775puzt7c1GkOblOJB9PnDixAn16NFD5cuXV9WqVfXKK6/k+NwUtM+wZs0aBQQEqHz58mbl2Zdc3+hzaA2fffaZHnroIVNCSpKCgoJ0++235/lc5PLlyxo8eLAGDx6c47wr27x585SZmanx48dLunK1yPVe3w4dOujrr78uFVN7MFIKkq786tetWzdt2bJF/fr1k5+fn9avX69XX31VJ06c0PTp083qf/fdd1q5cqUGDRokZ2dnvffee+rUqZN27NiRpzkbMjMz1alTJ9199916++23FRUVpTFjxigjI8P0QbSkVq1akq6cVPfs2VOurq651v3777+1Zs0a9ezZU7Vr11ZCQoLef/99tW3bVn/++WeOX1AjIyNVtmxZDR8+XIcPH9a7776rMmXKyN7eXv/++6/Gjh2rn3/+WYsXL1bt2rVzjLa52X1yrUmTJsne3l6vvPKKkpOT9fbbb6tv377avn27qc7cuXMVHh6uNm3aaOjQoTp69Kh69OihSpUqqUaNGjd8jm3btunOO++0uKygr5F05SCal/mWypQpI3d391yXZ2Vl6ffff7c4GqlVq1basGGDzp8/rwoVKlz3eVatWqVt27Zp3759uc7hsGnTJrm5uZm+eA8ePKhy5crpqaee0vTp03P8Gurv7y/DMLRt27Y8TWKdF19//bWkKyOALHF0dNQTTzyhcePG6aefflJQUJBp2aJFi3Tx4kU999xzcnZ2VuXKlS0m1dauXavevXuradOmioyM1L///qt+/fqpevXqeY6zV69eql27tiIjI7Vr1y598MEH8vT01OTJk0115s6dq8aNG6tbt25ydHTU119/rZdeeklZWVkaMGBAnp/rei5fvqzjx4/nuITT0r7YtGmTOnfurDp16mjs2LH677//9O6776p169batWtXjpO2Xr16ydfXV5GRkfr55581a9Ys/fvvv1q6dGmBtvHQoUPq3bu3XnjhBYWGhmrRokXq2bOnoqKi1KFDhwLvg0ceeUQHDx7UJ598ounTp8vDw0OSVLVqVYv109LS1LZtW504cULPP/+8brvtNm3btk0jRozQqVOnNGPGDElXTm769Omj9u3bm17Xffv26aefftLgwYMLHC9Q1GrXrq2QkBAtWLBAw4cPv+5oqWeffVZLlizRY489ppdfflnbt29XZGSkabTq1Q4cOKA+ffro+eefV//+/XXHHXeYlt1M/6GwjpUNGzbMcanPuXPnFBERYZYEWLZsmUJDQxUcHKzJkycrLS1Nc+fO1b333qtff/3VdCzcsGGDHn30UTVq1EiRkZE6c+aMwsLC8tS3uJ6///5bDg4OZpcab968WZ9++qnCw8Pl4eEhX19f7d27V23atJGbm5uGDRumMmXK6P3339f999+v7777TgEBAWbthoeHq2LFiho7dqwOHDiguXPn6tixY6ZknXQlIVS+fHlFRESofPny2rx5s0aPHq2UlBRNmTLFrL1///1XDz74oHr16qU+ffro008/1YsvvignJ6ebGiF93333adCgQZo1a5Zef/110+VYuV2WlZWVpW7duunHH3/Uc889p4YNG2rPnj2aPn26Dh48aJoDae/evXrooYfUrFkzjR8/Xs7Ozjp8+HCeJo7Oy+dg2bJlmj9/vnbs2KEPPvhAknTPPfdYbM/T01Nly5bV119/rYEDB6py5cq5Pndet8+SvH6fSVK/fv20ePFide7cWc8++6wyMjL0ww8/6Oeff1bLli21bNkyPfvss2rVqpVp1Et24iAhIUF33323KYFatWpVffvtt+rXr59SUlI0ZMgQSVcurW/fvr3i4uI0aNAg+fj4aNmyZdq8efMNX4Mbye952tVGjhypiRMn6v3331f//v0l5f04IF05HwgODlZAQICmTp2qTZs26Z133lHdunX14osvSip4n+Hy5cv65ZdfTO1c62Y+h8nJybp8+fJ160hXRp9fmxC72okTJ3T69Gm1bNkyx7JWrVrlebLxGTNm6N9//9XIkSNz/CiZbdOmTWrQoIHWrVtnem0rVaqkAQMGaNy4cTmu4vD399f06dO1d+/ekj9nooFb0oABA4yrX/41a9YYkow333zTrN5jjz1m2NnZGYcPHzaVSTIkGTt37jSVHTt2zHBxcTEefvjhGz53aGioIckYOHCgqSwrK8vo0qWL4eTkZCQmJl53/ZCQEEOSUalSJePhhx82pk6dauzbty9HvYsXLxqZmZlmZUeOHDGcnZ2N8ePHm8q2bNliSDKaNGlipKenm8r79Olj2NnZGZ07dzZrIzAw0KhVq5ZZWV73yaJFiwxJxpEjR0xlbdu2Ndq2bZsjnoYNGxqXLl0ylc+cOdOQZOzZs8cwDMO4dOmSUaVKFeOuu+4yLl++bKq3ePFiQ5JZm5ZcvnzZsLOzM15++eUcy272Ncpe/0Z/N4oxMTHRkGT2emWbM2eOIcnYv3//ddtIS0szbrvtNmPEiBGGYfxv/65atcqsXrNmzQxXV1fD1dXVGDhwoPHZZ58ZAwcONCQZjz/+eI52T548aUgyJk+efN3nz48ePXoYkox///031zqff/65IcmYNWuWYRhX3tOSDDc3N+P06dNmdbOXLVq0yFTWtGlTo0aNGsb58+dNZVu3bjUkWXxfjxkzxvR4zJgxhiTjmWeeMav38MMPG1WqVDErS0tLyxF7cHCwUadOHbOya9//ualVq5bRsWNHIzEx0UhMTDR+++034/HHHzd7n15vX/j5+Rmenp7GmTNnTGW//fabYW9vb4SEhOTYxm7dupmt/9JLLxmSjN9++y3f21irVi1DkvHZZ5+ZypKTk41q1aoZLVq0MJVlvze3bNliKgsNDb3h6zJlypQcx5Wrnzs0NNT0eMKECUa5cuWMgwcPmtUbPny44eDgYMTFxRmGYRiDBw823NzcjIyMjBxtAsVR9vfrL7/8Yvz111+Go6OjMWjQINPytm3bGo0bNzY93r17tyHJePbZZ83aeeWVVwxJxubNm01l2Z/hqKgos7qF0X8o6LHS0vH9allZWcZDDz1klC9f3ti7d69hGIZx/vx5o2LFikb//v3N6sbHxxvu7u5m5X5+fka1atWMc+fOmco2bNhg8bvCkrZt2xoNGjQwHbP37dtnDBo0yJBkdO3a1VRPkmFvb2+KMVuPHj0MJycn46+//jKVnTx50qhQoYJx3333mcqyX3d/f3+z1+Dtt982JBlffvmlqczSvn7++ecNV1dX4+LFi2axSzLeeecdU9mlS5dM3yPZz2PpNcj+DrnatcfhVatW5TjWX/3cV7/Oy5YtM+zt7Y0ffvjBrN68efMMScZPP/1kGIZhTJ8+3ZB0w/7ZtfLzOQgNDTXKlSuXp3ZHjx5tSDLKlStndO7c2XjrrbeM2NjYHPXyun2GUfDvs82bNxuSzI4H2bKyskz/lytXzqz9bP369TOqVatmJCUlmZU//vjjhru7u+l9NWPGDEOS8emnn5rqpKamGvXq1cv19c7NzZ6nDRgwwDAMw3j55ZcNe3t7Y/Hixabl+TkOZPfnr+2Ht2jRwvD39zc9Lmif4fDhw4Yk4913382xLK+fw9xkr3+jP0uv+dV++eUXQ5KxdOnSHMteffVVQ5LZ8cOSU6dOGRUqVDDef/99wzDMv6+u5ubmZlSqVMlwdnY2Ro0aZaxevdp44oknDEnG8OHDc7S7bds2Q5KxcuXK6z5/ScDle5AkrVu3Tg4ODho0aJBZ+csvvyzDMPTtt9+alQcGBsrf39/0+LbbblP37t21fv36XIdBX+vq25Vm//qQnp6uTZs2XXe9RYsWafbs2apdu7a++OILvfLKK2rYsKHat29vdscdZ2dnU0Y5MzNTZ86cMQ1n3rVrV452Q0JCzOY3CAgIkGEYOTLxAQEBOn78uDIyMszKC2OfXC0sLMzsuv3sy86y7zq3c+dOnTlzRv379zeb9Lhv376qVKnSDds/e/asDMO4bt2CvkbDhg3Txo0bb/j3zjvvXLed7EvULM3HkD1yKbtObiZNmqTLly/fcAj7hQsXlJaWppCQEM2aNUuPPPKIZs2apeeff14rVqzQoUOHzOpn77ekpKTrtpsf58+fl6TrjvzKXpaSkmJW/uijj+Y6OibbyZMntWfPHoWEhJj9KtS2bVs1bdo0z3FeO39TmzZtdObMGbOYrp5rJTk5WUlJSWrbtq3+/vtvJScn5/m5rrZhwwZVrVpVVatWVfPmzbVq1So99dRTZiO0pJz74tSpU9q9e7eefvpps19smzVrpg4dOlj8levaEQoDBw6UJLO6+dlGHx8fPfzww6bH2ZeX/Prrr4qPj8/Pbrgpq1atUps2bVSpUiUlJSWZ/oKCgpSZmWm65LhixYpKTU3Vxo0brRYbUFjq1Kmjp556SvPnz9epU6cs1sn+LEdERJiVZ99MYe3atWbltWvXVnBwsMW2bqb/UBTHSkmaMGGCvvnmGy1evFiNGjWSdGU0w7lz59SnTx+zz7+Dg4MCAgK0ZcsWSf87ZoaGhpqNZu7QoYOprbzYv3+/6ZjdsGFDvfvuu+rSpUuOy57atm1r1m5mZqY2bNigHj16qE6dOqbyatWq6YknntCPP/6Y4zvwueeeM3sNXnzxRTk6OuZ6zD5//rySkpLUpk0bpaWlaf/+/WbtOTo66vnnnzc9dnJy0vPPP6/Tp08rNjY2z/vgZq1atUoNGzZUgwYNzF6z7Dlksl+z7JFnX375Zb7ubpjfz0FejRs3TsuXL1eLFi20fv16vfHGG/L399edd95pdtl8XrfPkrx+n3322Weys7PTmDFjcrSRPYouN4Zh6LPPPlPXrl1lGIbZ8wQHBys5Odl0TrFu3TpVq1ZNjz32mGl9V1fXPM83dD35PU8zDEPh4eGaOXOmPvroI4WGhpqW5fU4cDVL/b6r74Jd0D7DmTNnJCnXc5Gb+Ry+8847eToXGTZs2HXbKYxzkddee0116tTRs88+e916Fy5c0L///qtx48Zp/PjxevTRR/Xxxx+rU6dOmjlzpuk8IVtRnIvYCpfvQZJ07Ngx+fj45DgZzh5OfOzYMbPy+vXr52jj9ttvV1pamhITE1W5cuUcc+1UrVrVdMcwe3t7s45G9vqSbniLXHt7ew0YMEADBgzQmTNn9NNPP2nevHn69ttv9fjjj+uHH36Q9L/rx9977z0dOXLELDFk6Y5tV18nLMnUEatZs2aO8qysLCUnJ5u1c6N94u3tfd3tulE82Qee7DkSsl+TevXqmdVzdHTMcSnS9Ri5XId8M69Ro0aN8tVxzU12B9LS9fjZlwdeb6LZo0ePasqUKZozZ851h+Ze3U6fPn3Myp944gm9//77iomJMXuNs/fbjTo01yYc3N3dc405+/N3/vz5HHdRy5Zb4qp27drXjUPK/T2TXWYpWWvJ9d6bbm5ukqSffvpJY8aMUUxMTI75ppKTk6972WZuAgIC9Oabb8rOzk6urq5q2LChxf107b7I3u6rL7fJ1rBhQ61fv16pqakqV66cqfzaz3PdunVlb29v9t7PzzbWq1cvx3vl6s9Tfo8PBXXo0CH9/vvvuSYwsyegfemll/Tpp5+qc+fOql69ujp27KhevXoVyzsmAZaMHDlSy5Yt06RJkyzOa3Ls2DHZ29vnOB56e3urYsWKOfo91zvG3kz/oSiOlVFRURo3bpxGjBihRx991FSe/eNKbpPiZh+/s7fdUr8mtx/2LPH19dWCBQtME4LXr18/x3xCUs59m5iYqLS0tFyP2VlZWTp+/LgaN25sKr821vLly6tatWpmx+y9e/dq5MiR2rx5c46klqUfEq7+TpDMj9nWutPzoUOHtG/fvhses3v37q0PPvhAzz77rIYPH6727dvrkUce0WOPPXbdG7fk93OQH3369FGfPn2UkpKi7du3a/HixVq+fLm6du2qP/74Qy4uLnnePkvy+n32119/ycfH57qXEeYmMTFR586d0/z583PcYOna5zl27JjF73pL7+P8yu952tKlS3XhwgXNnTs3R782r8eBbNlzcF2tUqVKZnO23WyfIbdzkZv5HF49UOBm3Oy5yM8//6xly5YpOjr6hndDLlu2rFJTU3O8Zn369FFUVJR+/fVX3XfffabyvJ6LlAQkpVAktm3bpnbt2pmVHTlyJF/JkryoUqWKunXrpm7dupnmGTh27Jhq1aqliRMnatSoUXrmmWc0YcIEVa5cWfb29hoyZIjFX5GyE2Z5Lc/tAFpYivp5K1euLDs7uxwTgRaG5OTkG/5qIF35xeN6nYTKlSvL2dnZ4i/d2WXXmy9k9OjRql69uu6//35TxzQ7SZSYmKijR4/qtttuk729vXx8fLR37155eXmZtZHdgb52P2U/zp7DJzfVqlUze7xo0aIcE09na9iwodasWaPff//d7Evnar///rsk5Uj6WfMuUDd6b/71119q3769GjRooGnTpqlmzZpycnLSunXrNH369Hz9ins1Dw8Ps3m0clMU++LaL/yi2sailpWVpQ4dOuT6y2B2Z8/T01O7d+/W+vXr9e233+rbb7/VokWLFBISUqxv2wxkq1Onjp588knNnz9fw4cPz7VeXjvz1zuuFLT/UBTHkSNHjqhv377q0KFDjrs7Zbe3bNkyi4nwq0ddF4Zy5crZ7Jh9rXPnzqlt27Zyc3PT+PHjVbduXbm4uGjXrl167bXXivUxu2nTppo2bZrF5dmJz7Jly+r777/Xli1btHbtWkVFRWnlypV64IEHtGHDhlzfi9mK8qTWzc1NHTp0UIcOHVSmTBktWbJE27dvV9u2bfO8fZbk9fvsZmS/L5588kmz0UZXa9as2U0/T2Fr3bq1du/erdmzZ6tXr15mfe38Hgdu9N6RCt5nyE7OF8W5yNmzZ5Wenn7DemXLlr1u8j+7H5/buUj2uUpuhg0bpjZt2qh27dqmc5HskU2nTp1SXFyc6YcNHx8fHTp0qNDPRUoCklKQdGUC8U2bNuWYNDp7OHP2BOPZrr2USZIOHjwoV1dXVa1aVc7OzjmGcF594MvKytLff/9t9oVx8OBBSSpw4qply5b67rvvdOrUKdWqVUurV69Wu3bt9OGHH5rVO3fuXJF8eG+0Twpb9mty+PBhswRgRkaGjh49esMvSUdHR9WtW9d057Jr3cxrNHjw4DyduLZt2/a6dxqzt7dX06ZNTXdHudr27dtVp06d617qFhcXp8OHD+cY8SVd+VVHunJAr1ixovz9/bVx40adOHHC7FetkydPSso5cXT2fsttctJs134Orv5l91oPPfSQIiMjtXTpUotJqczMTC1fvlyVKlXK9a4213P1e+ZalsoK6uuvv9alS5f01VdfmY0guN4w/KKUvd0HDhzIsWz//v3y8PDI8UvcoUOHzH69P3z4sLKyskzv/fxu4+HDh2UYhlnH/2aPednyczJRt25dXbhwIU8nik5OTuratau6du2qrKwsvfTSS3r//fc1atQoi6PtgOJm5MiR+uijj3Jc4itdOS5kZWXp0KFDZsfxhIQEnTt3Lke/pygU9rHyv//+0yOPPKKKFSvqk08+yfGrfPbEzZ6entc9BmRvu6V+jaXjaGGrWrWqXF1dcz1m29vb50hWHDp0yKwvdOHCBZ06dUoPPvigpCt3Jzxz5ow+//xzs+/X3PpAJ0+ezDGC1lbH7N9++03t27e/4Xr29vZq37692rdvr2nTpmnixIl64403tGXLllxfb2t/Dlq2bKklS5aYTvDzs33Xyuv3Wd26dbV+/XqdPXv2uj+EWnr+qlWrqkKFCsrMzLzh89SqVUt//PFHju/6wvjM5Pc8rV69enr77bd1//33q1OnToqOjjatl9fjQH4VpM9w2223qWzZskXyOXzkkUf03Xff3TDu0NDQ695Bs3r16qpatarFc5EdO3bIz8/vuu3HxcXp2LFjFkfbduvWTe7u7jp37pykK6O7Dh06pBMnTpidu9zsuUhJwJxSkCQ9+OCDyszM1OzZs83Kp0+fLjs7O3Xu3NmsPCYmxmz49vHjx/Xll1+qY8eOcnBwUKVKlRQUFGT2d+3dy65+LsMwNHv2bJUpU0bt27fPNc74+HjT7d2vlp6ebhoWmX3gc3BwyDGqaNWqVWbzThWmG+2TwtayZUtVqVJFCxYsMJuf4uOPP87zLw6BgYEWD7LZCvIaSYU3p5QkPfbYY/rll1/M4jxw4IA2b95suq1ytv379ysuLs70+M0339QXX3xh9jdhwgRTjF988YXpi65Xr16SlCOJ+cEHH8jR0THHLZpjY2NlZ2enwMDA68Z/7efg2pFTV7vnnnsUFBSkRYsW6Ztvvsmx/I033tDBgwc1bNiwAv2y7OPjoyZNmpiGdWf77rvvtGfPnny3l5vs9/vVn7/k5GQtWrSo0J4jP6pVqyY/Pz8tWbLE9MUvSX/88Yc2bNhgOmm52pw5c8weZ99GOftYmN9tPHnypNndvFJSUrR06VL5+fnd9KV72e/hq7ctN7169VJMTIzWr1+fY9m5c+dMx5LseR6y2dvbmxLdhXV7a6Co1a1bV08++aTef//9HJdSZ3/ur75DlyTTiI0uXboUeXyFfax84YUXdPDgQX3xxRcW52gJDg6Wm5ubJk6caPGuVImJiZLMj5lXX9a2ceNGi32wwubg4KCOHTvqyy+/NLv8LiEhQcuXL9e9996b4xKj+fPnm23T3LlzlZGRcd1jdnp6ut577z2LMWRkZOj99983q/v++++ratWqN31ZUH6P2SdOnNCCBQtyLPvvv/+UmpoqSTmmzJBkOlm+3jG7KD4HaWlpiomJsbgse+6j7B//8rp9luT1++zRRx+VYRgaN25cjnpXvx/KlSuX4zVxcHDQo48+qs8++0x//PFHjvWzPzPSlX158uRJrV692lSWlpaW62V/+ZHf8zTpygiudevWad++feratavpCoa8Hgfyo6B9hjJlyqhly5a5novczOewsOaUkq68h7755hsdP37cVBYdHa2DBw+anYtcvnxZ+/fvNxtVNX/+/BznItnzlE6dOlUff/yxqW7v3r0lmZ+LZGVladGiRapcuXKObY6NjZW7u/t1f/AuKRgpBUlS165d1a5dO73xxhs6evSomjdvrg0bNujLL7/UkCFDTFn1bE2aNFFwcLAGDRokZ2dn05e6pQO+JS4uLoqKilJoaKgCAgL07bffau3atXr99devO6ron3/+UatWrfTAAw+offv28vb21unTp/XJJ5/ot99+05AhQ0yjoB566CGNHz9eYWFhuueee7Rnzx59/PHHFkfNFIab3Sf55eTkpLFjx2rgwIF64IEH1KtXLx09elSLFy9W3bp18/SLU/fu3bVs2TIdPHgwxzDngr5GUuHNKSVdGdG0YMECdenSRa+88orKlCmjadOmycvLyzQRZ7aGDRuajb669957c7SXPQfRXXfdpR49epjKW7RooWeeeUYLFy5URkaGqZ1Vq1ZpxIgROS4T3Lhxo1q3bm1xfrKbsXTpUrVv317du3fXE088oTZt2ujSpUv6/PPPtXXrVvXu3VuvvvpqgdufOHGiunfvrtatWyssLEz//vuvZs+erSZNmpglqm5Gx44dTb+YPf/887pw4YIWLFggT0/PXCcdLmpTpkxR586dFRgYqH79+um///7Tu+++K3d3d40dOzZH/SNHjqhbt27q1KmTYmJi9NFHH+mJJ55Q8+bNJeV/G2+//Xb169dPv/zyi7y8vLRw4UIlJCQUSqIuu5Pyxhtv6PHHH1eZMmXUtWvXHKO/JOnVV1/VV199pYceekhPP/20/P39lZqaqj179mj16tU6evSoPDw89Oyzz+rs2bN64IEHVKNGDR07dkzvvvuu/Pz8SsUvcrh1vPHGG1q2bJkOHDhg1nFv3ry5QkNDNX/+fNOlXTt27NCSJUvUo0ePHFMQFIXCPFauXbtWS5cu1aOPPqrff//ddKm3dGV+pR49esjNzU1z587VU089pTvvvFOPP/64qlatqri4OK1du1atW7c2nfRGRkaqS5cuuvfee/XMM8/o7Nmzevfdd9W4ceNC+664njfffFMbN27Uvffeq5deekmOjo56//33denSJb399ts56qenp6t9+/bq1auXDhw4oPfee0/33nuvunXrJunKjz6VKlVSaGioBg0aJDs7Oy1btuy6c9lMnjxZR48e1e23366VK1dq9+7dmj9/vtmE6gXh5+cnBwcHTZ48WcnJyXJ2dtYDDzxgcb6tp556Sp9++qleeOEFbdmyRa1bt1ZmZqb279+vTz/9VOvXr1fLli01fvx4ff/99+rSpYtq1aql06dP67333lONGjUs9oWyFcXnIC0tTffcc4/uvvtuderUSTVr1tS5c+e0Zs0a/fDDD+rRo4datGiRr+2zJK/fZ+3atdNTTz2lWbNm6dChQ+rUqZOysrL0ww8/qF27dqab+vj7+2vTpk2aNm2afHx8VLt2bQUEBGjSpEnasmWLAgIC1L9/fzVq1Ehnz57Vrl27tGnTJlNCsH///po9e7ZCQkIUGxuratWqadmyZXJ1dc33PrxWfs/Tst1999368ssv9eCDD+qxxx7TmjVr8nUcyKub6TN0795db7zxhlJSUnIkm2/mc1hYc0pJ0uuvv65Vq1apXbt2Gjx4sC5cuKApU6aoadOmCgsLM9U7ceKEGjZsaDb6qmPHjjnay05+tm3b1uz93b17d7Vv316RkZFKSkpS8+bNtWbNGv344496//33c1wmuHHjRnXt2rVUzCllfs9S3DKuvdWoYVy5RejQoUMNHx8fo0yZMkb9+vWNKVOmmN0u1TD+d6vRjz76yKhfv77h7OxstGjRIs+3Os2+pexff/1ldOzY0XB1dTW8vLyMMWPGGJmZmdddNyUlxZg5c6YRHBxs1KhRwyhTpoxRoUIFIzAw0FiwYIFZrBcvXjRefvllo1q1akbZsmWN1q1bGzExMTlut5t9S+dVq1aZPVdut+vMvt3v1bfdzes+yW7z6lu35zWe3G7/PGvWLKNWrVqGs7Oz0apVK+Onn34y/P39jU6dOl13XxrGlVurenh4GBMmTDArv5nXqCgcP37ceOyxxww3NzejfPnyxkMPPWQcOnQoRz1JZvvSktz2r2EYRnp6ujF27FijVq1aRpkyZYx69eoZ06dPz1Hv3LlzhpOTk/HBBx8UdJOu6/z588bYsWONxo0bG2XLljUqVKhgtG7d2li8eHGOz2P2+2LKlCk52sntPbNixQqjQYMGhrOzs9GkSRPjq6++Mh599FGjQYMGZvUkGWPGjDE9tvTeNwzL7+uvvvrKaNasmeHi4mL4+voakydPNhYuXHjD939uatWqZXTp0uW6da63LwzDMDZt2mS0bt3aKFu2rOHm5mZ07drV+PPPP83qZG/jn3/+aTz22GNGhQoVjEqVKhnh4eHGf//9Z1Y3r9uYHfv69euNZs2aGc7OzkaDBg1yvAez35tXHzdCQ0Nz3H792tfFMK7cGrt69eqGvb292fNfewttw7jy/hoxYoRRr149w8nJyfDw8DDuueceY+rUqaZbLK9evdro2LGj4enpaTg5ORm33Xab8fzzzxunTp2yuG8BW8vtO9sw/ndb88aNG5uVX7582Rg3bpxRu3Zto0yZMkbNmjWNESNG5Li9d27Hn8LoPxT0WHnt8T37OS39XXsM2bJlixEcHGy4u7sbLi4uRt26dY2nn37a2Llzp1m9zz77zGjYsKHh7OxsNGrUyPj8888tHpMsadu2bY79bUl2/8mSXbt2GcHBwUb58uUNV1dXo127dsa2bdvM6mRv93fffWc899xzRqVKlYzy5csbffv2Nc6cOWNW96effjLuvvtuo2zZsoaPj48xbNgwY/369TmOu9mx79y50wgMDDRcXFyMWrVqGbNnzzZrz9J3bPZrfDVLx+EFCxYYderUMRwcHMye39J3Ynp6ujF58mSjcePGhrOzs1GpUiXD39/fGDdunJGcnGwYhmFER0cb3bt3N3x8fAwnJyfDx8fH6NOnj3Hw4EGL+/Zqef0cZPcN89LeggULjB49epj6p66urkaLFi2MKVOmGJcuXcr39uW2H/PyfWYYhpGRkWFMmTLFaNCggeHk5GRUrVrV6Ny5sxEbG2uqs3//fuO+++4zypYta0gye66EhARjwIABRs2aNY0yZcoY3t7eRvv27Y358+ebxXPs2DGjW7duhqurq+Hh4WEMHjzYiIqKyvEeu5HCOE+72pdffmk4OjoavXv3NvXj83IcyO01v/Z9fjN9hoSEBMPR0dFYtmyZWXleP4fW8scff5jOiSpWrGj07dvXiI+PN6uTfUy49n16ret9X50/f94YPHiw4e3tbTg5ORlNmzY1Pvrooxz19u3bZ0gyNm3adFPbVVzYGUYRz9aMUsfOzk4DBgzIdxY929NPP63Vq1db5Zc2a7nZfVKYsrKyVLVqVT3yyCMWh0Nfa8KECVq0aJEOHTpkGt5eGl+jwjRjxgy9/fbb+uuvv6w6wXhR8vPzU9WqVfN9O18AAACgoPr166eDBw+a7qAuSffff7+SkpIsXjYJaciQIfr+++9N04mUdMwpBZRgFy9ezDH0fOnSpTp79myOOZByM3ToUF24cEErVqwogghLn8uXL2vatGkaOXJkiUxIXb582WwOMunKBLC//fZbnt8zAAAAQGEYM2aMfvnlF/3000+2DqVEOHPmjD744AO9+eabpSIhJTGnFFCi/fzzzxo6dKh69uypKlWqaNeuXfrwww/VpEmTHJOA56Z8+fI6ffp0EUdaepQpU8ZsMvWS5sSJEwoKCtKTTz4pHx8f7d+/X/PmzZO3t7deeOEFW4cHAACAW8htt92mixcv2jqMEqNKlSql7moWklJACebr66uaNWtq1qxZplvdhoSEaNKkSXJycrJ1eCiGKlWqJH9/f33wwQdKTExUuXLl1KVLF02aNKnQJ20HAAAAgOux6ZxS33//vaZMmaLY2FidOnVKX3zxhdndsCzZunWrIiIitHfvXtWsWVMjR47U008/bZV4AQAAigP6UAAAoDSw6ZxSqampat68uebMmZOn+keOHFGXLl3Url077d69W0OGDNGzzz6r9evXF3GkAAAAxQd9KAAAUBoUm7vv2dnZ3fBXvtdee01r1641m4X/8ccf17lz5xQVFWWFKAEAAIoX+lAAAKCkKlFzSsXExCgoKMisLDg4WEOGDMl1nUuXLunSpUumx1lZWTp79qyqVKlSamarBwAARccwDJ0/f14+Pj6yty+ZNy6mDwUAAKwpr/2nEpWUio+Pl5eXl1mZl5eXUlJS9N9//1m8PXtkZKTGjRtnrRABAEApdfz4cdWoUcPWYRQIfSgAAGALN+o/laikVEGMGDFCERERpsfJycm67bbbdPz4cbm5udkwMgAAUBKkpKSoZs2aqlChgq1DsSr6UAAAoKDy2n8qUUkpb29vJSQkmJUlJCTIzc3N4i98kuTs7CxnZ+cc5W5ubnSoAABAnpXkS9boQwEAAFu4Uf+pRE2MEBgYqOjoaLOyjRs3KjAw0EYRAQAAFH/0oQAAQHFk06TUhQsXtHv3bu3evVvSldsV7969W3FxcZKuDBsPCQkx1X/hhRf0999/a9iwYdq/f7/ee+89ffrppxo6dKgtwgcAALAJ+lAAAKA0sGlSaufOnWrRooVatGghSYqIiFCLFi00evRoSdKpU6dMnStJql27ttauXauNGzeqefPmeuedd/TBBx8oODjYJvEDAADYAn0oAABQGtgZhmHYOghrSklJkbu7u5KTk5kPAQAA3BB9hyvYDwAAIK/y2m8oUXNKAQAAAAAAoHQgKQUAAAAAAACrIykFAAAAAAAAqyMpBQAAAAAAAKsjKQUAAAAAAACrIykFAAAAAAAAqyMpBQAAAAAAAKsjKQUAAAAAAACrIykFAAAAAAAAqyMpBQAAAAAAAKsjKQUAAAAAAACrIykFAAAAAAAAqyMpBQAAAAAAAKsjKQUAAAAAAACrIykFAAAAAAAAqyMpBQAAAAAAAKsjKQUAAAAAAACrIykFAAAAAAAAqyMpBQAAAAAAAKsjKQUAAAAAAACrIykFAAAAAAAAqyMpBQAAAAAAAKsjKQUAAAAAAACrIykFAAAAAAAAqyMpBQAAAAAAAKsjKQUAAAAAAACrIykFAAAAAAAAqyMpBQAAAAAAAKsjKQUAAAAAAACrIykFAAAAAAAAqyMpBQAAAAAAAKsjKQUAAAAAAACrIykFAAAAAAAAqyMpBQAAAAAAAKsjKQUAAAAAAACrIykFAAAAAAAAqyMpBQAAAAAAAKsjKQUAAAAAAACrIykFAAAAAAAAqyMpBQAAAAAAAKsjKQUAAAAAAACrIykFAAAAAAAAqyMpBQAAAAAAAKsjKQUAAAAAAACrIykFAAAAAAAAqyMpBQAAAAAAAKsjKQUAAAAAAACrIykFAAAAAAAAqyMpBQAAAAAAAKsjKQUAAAAAAACrIykFAAAAAAAAqyMpBQAAAAAAAKsjKQUAAAAAAACrIykFAAAAAAAAqyMpBQAAAAAAAKsjKQUAAAAAAACrIykFAAAAAAAAqyMpBQAAAAAAAKsjKQUAAAAAAACrIykFAAAAAAAAqyMpBQAAAAAAAKsjKQUAAAAAAACrIykFAAAAAAAAqyMpBQAAAAAAAKsjKQUAAAAAAACrIykFAAAAAAAAqyMpBQAAAAAAAKsjKQUAAAAAAACrIykFAAAAAAAAqyMpBQAAAAAAAKuzeVJqzpw58vX1lYuLiwICArRjx47r1p8xY4buuOMOlS1bVjVr1tTQoUN18eJFK0ULAABQPNCHAgAAJZ1Nk1IrV65URESExowZo127dql58+YKDg7W6dOnLdZfvny5hg8frjFjxmjfvn368MMPtXLlSr3++utWjhwAAMB26EMBAIDSwKZJqWnTpql///4KCwtTo0aNNG/ePLm6umrhwoUW62/btk2tW7fWE088IV9fX3Xs2FF9+vS54S+DAAAApQl9KAAAUBrYLCmVnp6u2NhYBQUF/S8Ye3sFBQUpJibG4jr33HOPYmNjTR2ov//+W+vWrdODDz6Y6/NcunRJKSkpZn8AAAAlFX0oAABQWjja6omTkpKUmZkpLy8vs3IvLy/t37/f4jpPPPGEkpKSdO+998owDGVkZOiFF1647tDzyMhIjRs3rlBjBwAAsBX6UAAAoLSw+UTn+bF161ZNnDhR7733nnbt2qXPP/9ca9eu1YQJE3JdZ8SIEUpOTjb9HT9+3IoRAwAA2B59KAAAUBzZbKSUh4eHHBwclJCQYFaekJAgb29vi+uMGjVKTz31lJ599llJUtOmTZWamqrnnntOb7zxhuztc+bYnJ2d5ezsXPgbAAAAYAP0oQAAQGlhs5FSTk5O8vf3V3R0tKksKytL0dHRCgwMtLhOWlpajk6Tg4ODJMkwjKILFgAAoJigDwUAAEoLm42UkqSIiAiFhoaqZcuWatWqlWbMmKHU1FSFhYVJkkJCQlS9enVFRkZKkrp27app06apRYsWCggI0OHDhzVq1Ch17drV1LECAAAo7ehDAQCA0sCmSanevXsrMTFRo0ePVnx8vPz8/BQVFWWauDMuLs7sV72RI0fKzs5OI0eO1IkTJ1S1alV17dpVb731lq02AQAAwOroQwEAgNLAzrjFxmynpKTI3d1dycnJcnNzs3U4AACgmKPvcAX7AQAA5FVe+w0l6u57AAAAAAAAKB1ISgEAAAAAAMDqSEoBAAAAAADA6khKAQAAAAAAwOpISgEAAAAAAMDqSEoBAAAAAADA6khKAQAAAAAAwOpISgEAAAAAAMDqSEoBAAAAAADA6khKAQAAAAAAwOpISgEAAAAAAMDqSEoBAAAAAADA6khKAQAAAAAAwOpISgEAAAAAAMDqSEoBAAAAAADA6khKAQAAAAAAwOpISgEAAAAAAMDqSEoBAAAAAADA6khKAQAAAAAAwOpISgEAAAAAAMDqSEoBAAAAAADA6khKAQAAAAAAwOpISgEAAAAAAMDqSEoBAAAAAADA6khKAQAAAAAAwOpISgEAAAAAAMDqSEoBAAAAAADA6khKAQAAAAAAwOpISgEAAAAAAMDqSEoBAAAAAADA6khKAQAAAAAAwOpISgEAAAAAAMDqSEoBAAAAAADA6khKAQAAAAAAwOpISgEAAAC3sDlz5sjX11cuLi4KCAjQjh07rlv/3LlzGjBggKpVqyZnZ2fdfvvtWrdunWm5r6+v7OzscvwNGDCgqDcFAFDCONo6AAAAAAC2sXLlSkVERGjevHkKCAjQjBkzFBwcrAMHDsjT0zNH/fT0dHXo0EGenp5avXq1qlevrmPHjqlixYqmOr/88osyMzNNj//44w916NBBPXv2tMYmAQBKEJJSAAAAwC1q2rRp6t+/v8LCwiRJ8+bN09q1a7Vw4UINHz48R/2FCxfq7Nmz2rZtm8qUKSPpysioq1WtWtXs8aRJk1S3bl21bdu2aDYCAFBicfkeAABAEQsNDdX3339v6zAAM+np6YqNjVVQUJCpzN7eXkFBQYqJibG4zldffaXAwEANGDBAXl5eatKkiSZOnGg2Mura5/joo4/0zDPPyM7Orki2AwBQcpGUAgAAKGLJyckKCgpS/fr1NXHiRJ04ccLWIQFKSkpSZmamvLy8zMq9vLwUHx9vcZ2///5bq1evVmZmptatW6dRo0bpnXfe0Ztvvmmx/po1a3Tu3Dk9/fTThR0+AKAUICkFAABQxNasWaMTJ07oxRdf1MqVK+Xr66vOnTtr9erVunz5sq3DA/IsKytLnp6emj9/vvz9/dW7d2+98cYbmjdvnsX6H374oTp37iwfHx8rRwoAKAlISgEAAFhB1apVFRERod9++03bt29XvXr19NRTT8nHx0dDhw7VoUOHbB0ibjEeHh5ycHBQQkKCWXlCQoK8vb0trlOtWjXdfvvtcnBwMJU1bNhQ8fHxSk9PN6t77Ngxbdq0Sc8++2zhBw8AKBVISgEAAFjRqVOntHHjRm3cuFEODg568MEHtWfPHjVq1EjTp0+3dXi4hTg5Ocnf31/R0dGmsqysLEVHRyswMNDiOq1bt9bhw4eVlZVlKjt48KCqVasmJycns7qLFi2Sp6enunTpUjQbAAAo8UhKAQAAFLHLly/rs88+00MPPaRatWpp1apVGjJkiE6ePKklS5Zo06ZN+vTTTzV+/Hhbh4pbTEREhBYsWKAlS5Zo3759evHFF5Wammq6G19ISIhGjBhhqv/iiy/q7NmzGjx4sA4ePKi1a9dq4sSJGjBggFm7WVlZWrRokUJDQ+XoyA2/AQCW8Q0BAABQxKpVq6asrCz16dNHO3bskJ+fX4467dq1U8WKFa0eG25tvXv3VmJiokaPHq34+Hj5+fkpKirKNPl5XFyc7O3/9zt2zZo1tX79eg0dOlTNmjVT9erVNXjwYL322mtm7W7atElxcXF65plnrLo9AICSxc4wDMPWQVhTSkqK3N3dlZycLDc3N1uHAwAAirnC6DssW7ZMPXv2lIuLSyFHZz30oQAAQF7ltd/A5XsAAABFbMuWLRbvspeamspIEgAAcMsiKQUAAFDElixZov/++y9H+X///aelS5faICIAAADbY04pAACAIpKSkiLDMGQYhs6fP292+V5mZqbWrVsnT09PG0ZYvPgOX2vrEIBS4+gk7noIoPgjKQUAAFBEKlasKDs7O9nZ2en222/PsdzOzk7jxo2zQWQAAAC2R1IKAACgiGzZskWGYeiBBx7QZ599psqVK5uWOTk5qVatWvLx8bFhhAAAALZDUgoAAKCItG3bVpJ05MgR3XbbbbKzs7NxRAAAAMUHSSkAAIAi8Pvvv6tJkyayt7dXcnKy9uzZk2vdZs2aWTEyAACA4oGkFAAAQBHw8/NTfHy8PD095efnJzs7OxmGkaOenZ2dMjMzbRAhAACAbZGUAgAAKAJHjhxR1apVTf8DAADAHEkpAACAIlCrVi2L/wMAAOAKklIAAABF4Kuvvspz3W7duhVhJAAAAMUTSSkAAIAi0KNHjzzVY04pAABwqyIpBQAAUASysrJsHQIAAECxZm/rAAAAAAAAAHDrYaQUAABAEZg1a5aee+45ubi4aNasWdetO2jQICtFBQAAUHyQlAIAACgC06dPV9++feXi4qLp06fnWs/Ozo6kFAAAuCWRlAIAACgCR44csfg/AAAArmBOKQAAACsyDEOGYdg6DAAAAJsjKQUAAGAFH374oZo0aSIXFxe5uLioSZMm+uCDD2wdFgAAgM1w+R4AAEARGz16tKZNm6aBAwcqMDBQkhQTE6OhQ4cqLi5O48ePt3GEAAAA1kdSCgAAoIjNnTtXCxYsUJ8+fUxl3bp1U7NmzTRw4ECSUgAA4JbE5XsAAABF7PLly2rZsmWOcn9/f2VkZNggIgAAANsjKQUAAFDEnnrqKc2dOzdH+fz589W3b18bRAQAAGB7XL4HAABQBCIiIkz/29nZ6YMPPtCGDRt09913S5K2b9+uuLg4hYSE2CpEAAAAmyIpBQAAUAR+/fVXs8f+/v6SpL/++kuS5OHhIQ8PD+3du9fqsQEAABQHNr98b86cOfL19ZWLi4sCAgK0Y8eO69Y/d+6cBgwYoGrVqsnZ2Vm333671q1bZ6VoAQAA8mbLli15+tu8eXOB2qcPBQAASjqbjpRauXKlIiIiNG/ePAUEBGjGjBkKDg7WgQMH5OnpmaN+enq6OnToIE9PT61evVrVq1fXsWPHVLFiResHDwAAYCP0oQAAQGlg06TUtGnT1L9/f4WFhUmS5s2bp7Vr12rhwoUaPnx4jvoLFy7U2bNntW3bNpUpU0aS5Ovra82QAQAACmTnzp369NNPFRcXp/T0dLNln3/+eb7aog8FAABKA5tdvpeenq7Y2FgFBQX9Lxh7ewUFBSkmJsbiOl999ZUCAwM1YMAAeXl5qUmTJpo4caIyMzNzfZ5Lly4pJSXF7A8AAMCaVqxYoXvuuUf79u3TF198ocuXL2vv3r3avHmz3N3d89UWfSgAAFBa2CwplZSUpMzMTHl5eZmVe3l5KT4+3uI6f//9t1avXq3MzEytW7dOo0aN0jvvvKM333wz1+eJjIyUu7u76a9mzZqFuh0AAAA3MnHiRE2fPl1ff/21nJycNHPmTO3fv1+9evXSbbfdlq+26EMBAIDSwuYTnedHVlaWPD09NX/+fPn7+6t379564403NG/evFzXGTFihJKTk01/x48ft2LEAAAAV+6416VLF0mSk5OTUlNTZWdnp6FDh2r+/PlF/vz0oQAAQHFkszmlPDw85ODgoISEBLPyhIQEeXt7W1ynWrVqKlOmjBwcHExlDRs2VHx8vNLT0+Xk5JRjHWdnZzk7Oxdu8AAAAPlQqVIlnT9/XpJUvXp1/fHHH2ratKnOnTuntLS0fLVFHwoAAJQWNhsp5eTkJH9/f0VHR5vKsrKyFB0drcDAQIvrtG7dWocPH1ZWVpap7ODBg6pWrZrFzhQAAEBxcN9992njxo2SpJ49e2rw4MHq37+/+vTpo/bt2+erLfpQAACgtLDp5XsRERFasGCBlixZon379unFF19Uamqq6U4yISEhGjFihKn+iy++qLNnz2rw4ME6ePCg1q5dq4kTJ2rAgAG22gQAAIAbmj17th5//HFJ0htvvKGIiAglJCTo0Ucf1Ycffpjv9uhDAQCA0sBml+9JUu/evZWYmKjRo0crPj5efn5+ioqKMk3cGRcXJ3v7/+XNatasqfXr12vo0KFq1qyZqlevrsGDB+u1116z1SYAAADcUOXKlU3/29vba/jw4TfVHn0oAABQGtgZhmHkd6UtW7aoXbt2RRFPkUtJSZG7u7uSk5Pl5uZm63AAAEAxV1h9h8zMTH3xxRfat2+fJKlRo0bq3r27HB1t+hthnlmjD+U7fG2RtAvcio5O6mLrEADcwvLabyhQL6hTp06qUaOGwsLCFBoayi2CAQAArmPv3r3q1q2b4uPjdccdd0iSJk+erKpVq+rrr79WkyZNbBwhAACA9RVoTqkTJ04oPDxcq1evVp06dRQcHKxPP/1U6enphR0fAABAiffss8+qcePG+ueff7Rr1y7t2rVLx48fV7NmzfTcc8/ZOjwAAACbKFBSysPDQ0OHDtXu3bu1fft23X777XrppZfk4+OjQYMG6bfffivsOAEAAEqs3bt3KzIyUpUqVTKVVapUSW+99ZZ+/fVXG0YGAABgOzd9970777xTI0aMUHh4uC5cuKCFCxfK399fbdq00d69ewsjRgAAgBLt9ttvV0JCQo7y06dPq169ejaICAAAwPYKnJS6fPmyVq9erQcffFC1atXS+vXrNXv2bCUkJOjw4cOqVauWevbsWZixAgAAlBgpKSmmv8jISA0aNEirV6/WP//8o3/++UerV6/WkCFDNHnyZFuHCgAAYBMFmuh84MCB+uSTT2QYhp566im9/fbbZhN0litXTlOnTpWPj0+hBQoAAFCSVKxYUXZ2dqbHhmGoV69eprLsGyB37dpVmZmZNokRAADAlgqUlPrzzz/17rvv6pFHHpGzs7PFOh4eHtqyZctNBQcAAFBS0Q8CAAC4vgIlpcaMGaN77rlHjo7mq2dkZGjbtm2677775OjoqLZt2xZKkAAAACUN/SAAAIDrK1BSql27djp16pQ8PT3NypOTk9WuXTuGoAMAAFzj3Llz+vDDD7Vv3z5JUuPGjfXMM8/I3d3dxpEBAADYRoEmOjcMw2yOhGxnzpxRuXLlbjooAACA0mTnzp2qW7eupk+frrNnz+rs2bOaNm2a6tatq127dtk6PAAAAJvI10ipRx55RJJkZ2enp59+2mw+qczMTP3++++65557CjdCAACAEm7o0KHq1q2bFixYYJr+ICMjQ88++6yGDBmi77//3sYRAgAAWF++klLZw8sNw1CFChVUtmxZ0zInJyfdfffd6t+/f+FGCAAAUMLt3LnTLCElSY6Ojho2bJhatmxpw8gAAABsJ19JqUWLFkmSfH199corr3CpHgAAQB64ubkpLi5ODRo0MCs/fvy4KlSoYKOoAAAAbKtAc0qNGTOGhBQAAEAe9e7dW/369dPKlSt1/PhxHT9+XCtWrNCzzz6rPn362Do8AAAAm8jzSKk777xT0dHRqlSpklq0aGFxovNsTNgJAADwP1OnTpWdnZ1CQkKUkZEhSSpTpoxefPFFTZo0ycbRAQAA2Eaek1Ldu3c3TWzeo0ePoooHAACgVMnMzNTPP/+ssWPHKjIyUn/99ZckqW7dunJ1dbVxdAAAALaT56TUmDFjLP4PAACA3Dk4OKhjx47at2+fateuraZNm9o6JAAAgGKhQHNKAQAAIO+aNGmiv//+29ZhAAAAFCt5HilVqVKl684jdbWzZ88WOCAAAIDS5s0339Qrr7yiCRMmyN/fP8cNY9zc3GwUGQAAgO3kOSk1Y8aMIgwDAACg9HrwwQclSd26dTP7kc8wDNnZ2SkzM9NWoQEAANhMnpNSoaGhRRkHAABAqbVlyxZbhwAAAFDs5DkplZKSYhpanpKSct26DEEHAAC4wjAM+fj4KD09XXfccYccHfPc/QIAACjV8jWn1KlTp+Tp6amKFStanF+KIegAAAD/c+TIEXXr1k1//vmnJKlGjRr67LPP1LJlSxtHBgAAYHt5Tkpt3rxZlStXlsQQdAAAgLx49dVXlZGRoY8++kguLi6aOnWqnn/+ecXGxto6NAAAAJvLc1Kqbdu2Fv8HAACAZT/++KNWr16te++9V5J09913q0aNGkpNTc1xBz4AAIBbTYEnNfj333/14Ycfat++fZKkRo0aKSwszDSaCgAA4FZ3+vRp1a9f3/S4WrVqKlu2rE6fPq3atWvbMDIAAADbsy/ISt9//718fX01a9Ys/fvvv/r33381a9Ys1a5dW99//31hxwgAAFAi2dnZ6cKFC0pJSTH92dvb6/z582ZlAAAAt6ICjZQaMGCAevfurblz58rBwUGSlJmZqZdeekkDBgzQnj17CjVIAACAksgwDN1+++05ylq0aGH6n5vEAACAW1WBklKHDx/W6tWrTQkpSXJwcFBERISWLl1aaMEBAACUZNwcBgAAIHcFSkrdeeed2rdvn+644w6z8n379ql58+aFEhgAAEBJx81hAAAAcpfnpNTvv/9u+n/QoEEaPHiwDh8+rLvvvluS9PPPP2vOnDmaNGlS4UcJAAAAAACAUiXPSSk/Pz/Z2dnJMAxT2bBhw3LUe+KJJ9S7d+/CiQ4AAAAAAAClUp6TUkeOHCnKOAAAAAAAAHALyXNSqlatWkUZBwAAAAAAAG4hBZroPNuff/6puLg4paenm5V369btpoICAAAAAABA6VagpNTff/+thx9+WHv27DGbZ8rOzk6SlJmZWXgRAgAAlECPPPJInut+/vnnRRgJAABA8WRfkJUGDx6s2rVr6/Tp03J1ddXevXv1/fffq2XLltq6dWshhwgAAFDyuLu7m/7c3NwUHR2tnTt3mpbHxsYqOjpa7u7uNowSAADAdgo0UiomJkabN2+Wh4eH7O3tZW9vr3vvvVeRkZEaNGiQfv3118KOEwAAoERZtGiR6f/XXntNvXr10rx58+Tg4CDpysjyl156SW5ubrYKEQAAwKYKNFIqMzNTFSpUkCR5eHjo5MmTkq5Mhn7gwIHCiw4AAKAUWLhwoV555RVTQkqSHBwcFBERoYULF9owMgAAANsp0EipJk2a6LffflPt2rUVEBCgt99+W05OTpo/f77q1KlT2DECAACUaBkZGdq/f7/uuOMOs/L9+/crKyvLRlEBAADYVoGSUiNHjlRqaqokafz48XrooYfUpk0bValSRStXrizUAAEAAEq6sLAw9evXT3/99ZdatWolSdq+fbsmTZqksLAwG0cHAABgGwVKSgUHB5v+r1evnvbv36+zZ8+qUqVKpjvwAQAA4IqpU6fK29tb77zzjk6dOiVJqlatml599VW9/PLLNo4OAADANgqUlLra8ePHJUk1a9a86WAAAABKI3t7ew0bNkzDhg1TSkqKJDHBOQAAuOUVaKLzjIwMjRo1Su7u7vL19ZWvr6/c3d01cuRIXb58ubBjBAAAKPEyMjK0adMmffLJJ6aR5SdPntSFCxdsHBkAAIBtFGik1MCBA/X555/r7bffVmBgoCQpJiZGY8eO1ZkzZzR37txCDRIAAKAkO3bsmDp16qS4uDhdunRJHTp0UIUKFTR58mRdunRJ8+bNs3WIAAAAVlegpNTy5cu1YsUKde7c2VTWrFkz1axZU3369CEpBQAAcJXBgwerZcuW+u2331SlShVT+cMPP6z+/fvbMDIAAADbKVBSytnZWb6+vjnKa9euLScnp5uNCQAAoFT54YcftG3bthz9JF9fX504ccJGUQEAANhWgeaUCg8P14QJE3Tp0iVT2aVLl/TWW28pPDy80IIDAAAoDbKyspSZmZmj/J9//lGFChVsEBEAAIDt5Xmk1COPPGL2eNOmTapRo4aaN28uSfrtt9+Unp6u9u3bF26EAAAAJVzHjh01Y8YMzZ8/X5JkZ2enCxcuaMyYMXrwwQdtHB0AAIBt5Dkp5e7ubvb40UcfNXtcs2bNwokIAACglHnnnXcUHBysRo0a6eLFi3riiSd06NAheXh46JNPPrF1eAAAADaR56TUokWLijIOAACAUqtGjRr67bfftHLlSv3222+6cOGC+vXrp759+6ps2bK2Dg8AAMAmCjTRebbExEQdOHBAknTHHXeoatWqhRIUAABAaePo6Ki+ffuqb9++tg4FAACgWCjQROepqal65plnVK1aNd13332677775OPjo379+iktLa2wYwQAACjRHBwc1K5dO509e9asPCEhQQ4ODjaKCgAAwLYKlJSKiIjQd999p6+//lrnzp3TuXPn9OWXX+q7777Tyy+/XNgxAgAAlGiGYejSpUtq2bKl9u7dm2MZAADArahASanPPvtMH374oTp37iw3Nze5ubnpwQcf1IIFC7R69erCjhEAAKBEs7Oz02effaauXbsqMDBQX375pdkyAACAW1GBklJpaWny8vLKUe7p6cnlewAAANcwDEMODg6aOXOmpk6dqt69e+vNN99klBQAALilFWii88DAQI0ZM0ZLly6Vi4uLJOm///7TuHHjFBgYWKgBAgAAlCbPPfec6tevr549e+r777+3dTgAAAA2U6Ck1IwZM9SpUyfVqFFDzZs3lyT99ttvcnFx0fr16ws1QAAAgJKuVq1aZhOat2vXTj///LO6du1qw6gAAABsq0BJqaZNm+rQoUP6+OOPtX//fklSnz591LdvX5UtW7ZQAwQAACjpjhw5kqOsXr16+vXXX5WQkGCDiAAAAGwv30mpy5cvq0GDBvrmm2/Uv3//oogJAADgluDi4qJatWrZOgwAAACbyHdSqkyZMrp48WJRxAIAAFBqVK5cWQcPHpSHh4cqVap03bvsnT171oqRAQAAFA8FunxvwIABmjx5sj744AM5OhaoCVzHnDlzNGXKFMXHx6t58+Z699131apVqxuut2LFCvXp00fdu3fXmjVrTOWGYWjMmDFasGCBzp07p9atW2vu3LmqX79+EW4FAAC3tunTp6tChQqSrszHCQAAAHMFyij98ssvio6O1oYNG9S0aVOVK1fObPnnn39eKMHdilauXKmIiAjNmzdPAQEBmjFjhoKDg3XgwAF5enrmut7Ro0f1yiuvqE2bNjmWvf3225o1a5aWLFmi2rVra9SoUQoODtaff/5punsiAAAoXKGhoRb/BwAAwBUFSkpVrFhRjz76aGHHAknTpk1T//79FRYWJkmaN2+e1q5dq4ULF2r48OEW18nMzFTfvn01btw4/fDDDzp37pxpmWEYmjFjhkaOHKnu3btLkpYuXSovLy+tWbNGjz/+eJFvEwAAt6KUlJQ813VzcyvCSAAAAIqnfCWlsrKyNGXKFB08eFDp6el64IEHNHbsWO64V0jS09MVGxurESNGmMrs7e0VFBSkmJiYXNcbP368PD091a9fP/3www9my44cOaL4+HgFBQWZytzd3RUQEKCYmBiSUgAAFJGKFStedx4p6cqPR3Z2dsrMzLRSVAAAAMVHvpJSb731lsaOHaugoCCVLVtWs2bNUmJiohYuXFhU8d1SkpKSlJmZKS8vL7NyLy8v7d+/3+I6P/74oz788EPt3r3b4vL4+HhTG9e2mb0MAAAUvi1bttg6BAAAgGItX0mppUuX6r333tPzzz8vSdq0aZO6dOmiDz74QPb29kUSIHJ3/vx5PfXUU1qwYIE8PDxsHQ4AALhK27ZtbR0CAABAsZavpFRcXJwefPBB0+OgoCDZ2dnp5MmTqlGjRqEHd6vx8PCQg4ODEhISzMoTEhLk7e2do/5ff/2lo0ePqmvXrqayrKwsSZKjo6MOHDhgWi8hIUHVqlUza9PPz68ItgIAAOQmLS1NcXFxSk9PNytv1qyZjSICAACwnXwlpTIyMnLcra1MmTK6fPlyoQZ1q3JycpK/v7+io6PVo0cPSVeSTNHR0QoPD89Rv0GDBtqzZ49Z2ciRI3X+/HnNnDlTNWvWVJkyZeTt7a3o6GhTEiolJUXbt2/Xiy++WNSbBAAAJCUmJiosLEzffvutxeXMKQUAAG5F+brmzjAMPf3003rkkUdMfxcvXtQLL7xgVpZfc+bMka+vr1xcXBQQEKAdO3bkab0VK1bIzs7OlMApDSIiIrRgwQItWbJE+/bt04svvqjU1FTT3fhCQkJME6G7uLioSZMmZn8VK1ZUhQoV1KRJEzk5OcnOzk5DhgzRm2++qa+++kp79uxRSEiIfHx8StV+AwCgOBsyZIjOnTun7du3q2zZsoqKitKSJUtUv359ffXVVwVqk/4TAAAo6fI1Uio0NDRH2ZNPPnlTAaxcuVIRERGaN2+eAgICNGPGDAUHB+vAgQPy9PTMdb2jR4/qlVdeUZs2bW7q+Yub3r17KzExUaNHj1Z8fLz8/PwUFRVlmqg8Li4u3/N3DRs2TKmpqXruued07tw53XvvvYqKisox6g0AABSNzZs368svv1TLli1lb2+vWrVqqUOHDnJzc1NkZKS6dOmSr/boPwEAgNLAzjAMw5YBBAQE6K677tLs2bMlXblcrWbNmho4cKCGDx9ucZ3MzEzdd999euaZZ/TDDz/o3LlzWrNmTZ6eLyUlRe7u7kpOTpabm1thbQYAACilCqPv4Obmpt9//12+vr6qVauWli9frtatW+vIkSNq3Lix0tLS8tWetftPknX6UL7D1xZJu8Ct6Oik/CW7AaAw5bXfYNNb5qWnpys2NlZBQUGmMnt7ewUFBSkmJibX9caPHy9PT0/169fPGmECAADclDvuuEMHDhyQJDVv3lzvv/++Tpw4oXnz5pndiCQv6D8BAIDSIl+X7xW2pKQkZWZmmi5Ny+bl5aX9+/dbXOfHH3/Uhx9+qN27d+fpOS5duqRLly6ZHqekpBQ43ryKi5OSkor8aWzGw0O67TZbRwEAQMkxePBgnTp1SpI0ZswYderUSR9//LGcnJy0ePHifLVljf6TZJs+FAAAuLXYNCmVX+fPn9dTTz2lBQsWyMPDI0/rREZGaty4cUUc2f/ExUl33CFdvGi1p7Q6FxfpwAESUwAA5NXVc3D6+/vr2LFj2r9/v2677bY892kKqiD9J8n6fSgAAHDrsWlSysPDQw4ODkpISDArT0hIkLe3d476f/31l44ePaquXbuayrKysiRJjo6OOnDggOrWrWu2zogRIxQREWF6nJKSopo1axbmZphJSirdCSnpyvYlJZGUAgCgoFxdXXXnnXcWaF1r9J8k6/ehAADArcemSSknJyf5+/srOjradFvirKwsRUdHKzw8PEf9Bg0aaM+ePWZlI0eO1Pnz5zVz5kyLHSVnZ2c5OzsXSfwAAAB5YRiGVq9erS1btuj06dOmpFC2zz//PM9tWaP/JNGHAgAARc/ml+9FREQoNDRULVu2VKtWrTRjxgylpqYqLCxMkhQSEqLq1asrMjJSLi4uatKkidn6FStWlKQc5QAAAMXFkCFD9P7776tdu3by8vKSnZ3dTbVH/wkAAJQGNk9K9e7dW4mJiRo9erTi4+Pl5+enqKgo0+SdcXFxsre36U0CAQAAbsqyZcv0+eef68EHHyyU9ug/AQCA0sDOMAzD1kFYU0pKitzd3ZWcnCw3N7dCb3/XLsnfv9CbLXZiY6UCToUBAECJUhh9h9q1a+vbb79VgwYNCjk66ynqPpQk+Q5fWyTtAreio5O62DoEALewvPYb+AkNAACgiI0dO1bjxo3Tf//9Z+tQAAAAig2bX74HAABQ2vXq1UuffPKJPD095evrqzJlypgt37Vrl40iAwAAsB2SUgAAAEUsNDRUsbGxevLJJwtlonMAAIDSgKQUAABAEVu7dq3Wr1+ve++919ahAAAAFBvMKQUAAFDEatasWWSTgwMAAJRUJKUAAACK2DvvvKNhw4bp6NGjtg4FAACg2ODyPQAAgCL25JNPKi0tTXXr1pWrq2uOic7Pnj1ro8gAAABsh6QUAABAEZsxY4atQwAAACh2uHwPAACgCF2+fFnfffed7rvvPoWGhlr8AwCguJozZ458fX3l4uKigIAA7dixI9e6n3/+uVq2bKmKFSuqXLly8vPz07Jly8zqjB07Vg0aNFC5cuVUqVIlBQUFafv27UW9GSimSEoBAAAUoTJlyuizzz6zdRgAAOTbypUrFRERoTFjxmjXrl1q3ry5goODdfr0aYv1K1eurDfeeEMxMTH6/fffFRYWprCwMK1fv95U5/bbb9fs2bO1Z88e/fjjj/L19VXHjh2VmJhorc1CMUJSCgAAoIj16NFDa9assXUYAADky7Rp09S/f3+FhYWpUaNGmjdvnlxdXbVw4UKL9e+//349/PDDatiwoerWravBgwerWbNm+vHHH011nnjiCQUFBalOnTpq3Lixpk2bppSUFP3+++/W2iwUI8wpBQAAUMTq16+v8ePH66effpK/v7/KlStntnzQoEE2igwAAMvS09MVGxurESNGmMrs7e0VFBSkmJiYG65vGIY2b96sAwcOaPLkybk+x/z58+Xu7q7mzZsXWuwoOUhKAQAAFLEPP/xQFStWVGxsrGJjY82W2dnZkZQCABQ7SUlJyszMlJeXl1m5l5eX9u/fn+t6ycnJql69ui5duiQHBwe999576tChg1mdb775Ro8//rjS0tJUrVo1bdy4UR4eHkWyHSjeSEoBAAAUsSNHjtg6BAAArKJChQravXu3Lly4oOjoaEVERKhOnTq6//77TXXatWun3bt3KykpSQsWLFCvXr20fft2eXp62i5w2ARJKQAAACsyDEPSlRFSAAAUVx4eHnJwcFBCQoJZeUJCgry9vXNdz97eXvXq1ZMk+fn5ad++fYqMjDRLSpUrV0716tVTvXr1dPfdd6t+/fr68MMPzS4VxK2Bic4BAACsYOnSpWratKnKli2rsmXLqlmzZjlukw0AQHHh5OQkf39/RUdHm8qysrIUHR2twMDAPLeTlZWlS5cu3XQdlE6MlAIAAChi06ZN06hRoxQeHq7WrVtLkn788Ue98MILSkpK0tChQ20cIQAAOUVERCg0NFQtW7ZUq1atNGPGDKWmpiosLEySFBISourVqysyMlKSFBkZqZYtW6pu3bq6dOmS1q1bp2XLlmnu3LmSpNTUVL311lvq1q2bqlWrpqSkJM2ZM0cnTpxQz549bbadsB2SUgAAAEXs3Xff1dy5cxUSEmIq69atmxo3bqyxY8eSlAIAFEu9e/dWYmKiRo8erfj4ePn5+SkqKso0+XlcXJzs7f93AVZqaqpeeukl/fPPPypbtqwaNGigjz76SL1795YkOTg4aP/+/VqyZImSkpJUpUoV3XXXXfrhhx/UuHFjm2wjbMvOyJ7Y4BaRkpIid3d3JScny83NrdDb37VL8vcv9GaLndhY6c47bR0FAABFrzD6Di4uLvrjjz9Mc2xkO3TokJo2baqLFy8WRqhFqqj7UJLkO3xtkbQL3IqOTupi6xAA3MLy2m9gTikAAIAiVq9ePX366ac5yleuXKn69evbICIAAADb4/I9AACAIjZu3Dj17t1b33//vWlOqZ9++knR0dEWk1UAAAC3ApJSAAAARezRRx/V9u3bNX36dK1Zs0aS1LBhQ+3YsUMtWrSwbXAAUEJwiS9QuIrDZb4kpQAAAKzA399fH330ka3DAAAAKDaYUwoAAAAAAABWx0gpAACAImJvby87O7vr1rGzs1NGRoaVIgIAACg+SEoBAAAUkS+++CLXZTExMZo1a5aysrKsGBEAAEDxQVIKAACgiHTv3j1H2YEDBzR8+HB9/fXX6tu3r8aPH2+DyAAAAGyPOaUAAACs4OTJk+rfv7+aNm2qjIwM7d69W0uWLFGtWrVsHRoAAIBNkJQCAAAoQsnJyXrttddUr1497d27V9HR0fr666/VpEkTW4cGAABgU1y+BwAAUETefvttTZ48Wd7e3vrkk08sXs4HAABwqyIpBQAAUESGDx+usmXLql69elqyZImWLFlisd7nn39u5cgAAABsj6QUAABAEQkJCZGdnZ2twwAAACiWSEoBAAAUkcWLF9s6BAAAgGKLic4BAAAAAABgdSSlAAAAAAAAYHUkpQAAAAAAAGB1JKUAAAAAAABgdSSlAAAAAAAAYHUkpQAAAAAAAGB1JKUAAAAAAABgdSSlAAAAAAAAYHUkpQAAAAAAAGB1JKUAAAAAAABgdSSlAAAAAAAAYHUkpQAAAAAAAGB1JKUAAAAAAABgdSSlAAAAAAAAYHUkpQAAAAAAAGB1JKUAAAAAAABgdSSlAAAAAAAAYHUkpQAAAAAAAGB1JKUAAAAAAABgdSSlAAAAAAAAYHUkpQAAAAAAAGB1JKUAAAAAAABgdSSlAAAAAAAAYHUkpQAAAAAAAGB1JKUAAAAAAABgdSSlAAAAAAAAYHUkpQAAAAAAAGB1JKUAAAAAAABgdSSlAAAAAAAAYHUkpVBizJkzR76+vnJxcVFAQIB27NiRa90FCxaoTZs2qlSpkipVqqSgoKAc9Q3D0OjRo1WtWjWVLVtWQUFBOnToUFFvBgAAAAAAEEkplBArV65URESExowZo127dql58+YKDg7W6dOnLdbfunWr+vTpoy1btigmJkY1a9ZUx44ddeLECVOdt99+W7NmzdK8efO0fft2lStXTsHBwbp48aK1NgsAAAAAgFsWSSmUCNOmTVP//v0VFhamRo0aad68eXJ1ddXChQst1v/444/10ksvyc/PTw0aNNAHH3ygrKwsRUdHS7oySmrGjBkaOXKkunfvrmbNmmnp0qU6efKk1qxZY8UtAwAAAADg1kRSCsVeenq6YmNjFRQUZCqzt7dXUFCQYmJi8tRGWlqaLl++rMqVK0uSjhw5ovj4eLM23d3dFRAQkOc2AQAAAABAwZGUQrGXlJSkzMxMeXl5mZV7eXkpPj4+T2289tpr8vHxMSWhste7mTYBAAAAAEDBOdo6AKCoTZo0SStWrNDWrVvl4uJi63AAAAAAAIAYKYUSwMPDQw4ODkpISDArT0hIkLe393XXnTp1qiZNmqQNGzaoWbNmpvLs9QrSJgAAAAAAuHkkpVDsOTk5yd/f3zRJuSTTpOWBgYG5rvf2229rwoQJioqKUsuWLc2W1a5dW97e3mZtpqSkaPv27ddtEwAAAAAAFI5ikZSaM2eOfH195eLiooCAAO3YsSPXugsWLFCbNm1UqVIlVapUSUFBQdetj9IhIiJCCxYs0JIlS7Rv3z69+OKLSk1NVVhYmCQpJCREI0aMMNWfPHmyRo0apYULF8rX11fx8fGKj4/XhQsXJEl2dnYaMmSI3nzzTX311Vfas2ePQkJC5OPjox49ethiEwEAyBf6TwAAoKSzeVJq5cqVioiI0JgxY7Rr1y41b95cwcHBOn36tMX6W7duVZ8+fbRlyxbFxMSoZs2a6tixo06cOGHlyGFNvXv31tSpUzV69Gj5+flp9+7dioqKMk1UHhcXp1OnTpnqz507V+np6XrsscdUrVo109/UqVNNdYYNG6aBAwfqueee01133aULFy4oKiqKeacAAMUe/ScAAFAa2BmGYdgygICAAN11112aPXu2pCuXZdWsWVMDBw7U8OHDb7h+ZmamKlWqpNmzZyskJOSG9VNSUuTu7q7k5GS5ubnddPzX2rVL8vcv9GaLndhY6c47bR0FAABFr6j7DgVh7f6TZJ394Dt8bZG0C9yKjk7qYusQCh3HCKBwFeVxIq/9BpuOlEpPT1dsbKyCgoJMZfb29goKClJMTEye2khLS9Ply5dVuXLlogoTAACg2KD/BAAASgtHWz55UlKSMjMzTZdgZfPy8tL+/fvz1MZrr70mHx8fs47Z1S5duqRLly6ZHqekpBQ8YNy0uDgpKcnWURQdDw/ptttsHQUAoDSzRv9Jog8FAACKnk2TUjdr0qRJWrFihbZu3ZrrPECRkZEaN26clSODJXFx0h13SBcv2jqSouPiIh04QGIKAFB85aX/JNGHAgAARc+ml+95eHjIwcFBCQkJZuUJCQny9va+7rpTp07VpEmTtGHDBjVr1izXeiNGjFBycrLp7/jx44USO/IvKal0J6SkK9tXmkeCAQBszxr9J4k+FAAAKHo2TUo5OTnJ399f0dHRprKsrCxFR0crMDAw1/XefvttTZgwQVFRUWrZsuV1n8PZ2Vlubm5mfwAAACWVNfpPEn0oAABQ9Gx++V5ERIRCQ0PVsmVLtWrVSjNmzFBqaqrCwsIkSSEhIapevboiIyMlSZMnT9bo0aO1fPly+fr6Kj4+XpJUvnx5lS9f3mbbAQAAYC30nwAAQGlg86RU7969lZiYqNGjRys+Pl5+fn6KiooyTd4ZFxcne/v/DeiaO3eu0tPT9dhjj5m1M2bMGI0dO9aaoQMAANgE/ScAAFAa2DwpJUnh4eEKDw+3uGzr1q1mj48ePVr0AQEAABRz9J8AAEBJZ9M5pQAAAAAAAHBrIikFlAJz5syRr6+vXFxcFBAQoB07duRad+/evXr00Ufl6+srOzs7zZgxI0edsWPHys7OzuyvQYMGRbgFAAAAAIBbDUkpoIRbuXKlIiIiNGbMGO3atUvNmzdXcHCwTp8+bbF+Wlqa6tSpo0mTJl331uGNGzfWqVOnTH8//vhjUW0CAAAAAOAWRFIKKOGmTZum/v37KywsTI0aNdK8efPk6uqqhQsXWqx/1113acqUKXr88cfl7Oyca7uOjo7y9vY2/Xl4eBTVJgAAAAAAbkEkpYASLD09XbGxsQoKCjKV2dvbKygoSDExMTfV9qFDh+Tj46M6deqob9++iouLu9lwAQAAAAAwISkFlGBJSUnKzMw03QI8m5eXl+Lj4wvcbkBAgBYvXqyoqCjNnTtXR44cUZs2bXT+/PmbDRkAAAAAAEmSo60DAFD8dO7c2fR/s2bNFBAQoFq1aunTTz9Vv379bBgZAAAAAKC0YKQUUIJ5eHjIwcFBCQkJZuUJCQnXncQ8vypWrKjbb79dhw8fLrQ2AQAAAAC3NpJSQAnm5OQkf39/RUdHm8qysrIUHR2twMDAQnueCxcu6K+//lK1atUKrU0AAAAAwK2Ny/eAEi4iIkKhoaFq2bKlWrVqpRkzZig1NVVhYWGSpJCQEFWvXl2RkZGSrkyO/ueff5r+P3HihHbv3q3y5curXr16kqRXXnlFXbt2Va1atXTy5EmNGTNGDg4O6tOnj202EgAAAABQ6pCUAkq43r17KzExUaNHj1Z8fLz8/PwUFRVlmvw8Li5O9vb/GxR58uRJtWjRwvR46tSpmjp1qtq2bautW7dKkv755x/16dNHZ86cUdWqVXXvvffq559/VtWqVa26bQAAAACA0oukFFAKhIeHKzw83OKy7ERTNl9fXxmGcd32VqxYUVihAQAAAABgEXNKAQAAAAAAwOoYKQUUA8nJyUpLS7N1GEXG1dVV7u7utg4DAAAAAFCMkJQCbCw5OVmzZ89WRkaGrUMpMo6OjgoPDycxBQAAAAAw4fI9wMbS0tJKdUJKkjIyMkr1SDAAAAAAQP6RlAIAAAAAAIDVkZQCAAAAAACA1ZGUAgAAAAAAgNWRlAIAAAAAAIDVkZQCAAAAAACA1ZGUAlBqzZkzR76+vnJxcVFAQIB27NiRa929e/fq0Ucfla+vr+zs7DRjxoybbhMAAAAAkDuSUgBKpZUrVyoiIkJjxozRrl271Lx5cwUHB+v06dMW66elpalOnTqaNGmSvL29C6VNAAAAAEDuSEoBKJWmTZum/v37KywsTI0aNdK8efPk6uqqhQsXWqx/1113acqUKXr88cfl7OxcKG0CAAAAAHJHUgpAqZOenq7Y2FgFBQWZyuzt7RUUFKSYmJhi0yYAAAAA3MpISgEodZKSkpSZmSkvLy+zci8vL8XHxxebNgEAAADgVkZSCgAAAAAAAFZHUgpAqePh4SEHBwclJCSYlSckJOQ6ibkt2gQAAACAWxlJKQCljpOTk/z9/RUdHW0qy8rKUnR0tAIDA4tNmwAAAABwKyMpBaBUioiI0IIFC7RkyRLt27dPL774olJTUxUWFiZJCgkJ0YgRI0z109PTtXv3bu3evVvp6ek6ceKEdu/ercOHD+e5zZJizpw58vX1lYuLiwICArRjx47r1l+1apUaNGggFxcXNW3aVOvWrTNbfuHCBYWHh6tGjRoqW7as6c6EAAAAAHA9jrYOAACKQu/evZWYmKjRo0crPj5efn5+ioqKMk1UHhcXJ3v7/+XlT548qRYtWpgeT506VVOnTlXbtm21devWPLVZEqxcuVIRERGaN2+eAgICNGPGDAUHB+vAgQPy9PTMUX/btm3q06ePIiMj9dBDD2n58uXq0aOHdu3apSZNmki6kqzbvHmzPvroI/n6+mrDhg166aWX5OPjo27dull7EwEAAACUEIyUAlBqhYeH69ixY7p06ZK2b9+ugIAA07KtW7dq8eLFpse+vr4yDCPHX3ZCKi9tlgTTpk1T//79FRYWZhrR5OrqqoULF1qsP3PmTHXq1EmvvvqqGjZsqAkTJujOO+/U7NmzTXW2bdum0NBQ3X///fL19dVzzz2n5s2b33AEFgAAAIBbG0kpALhFpKenKzY2VkFBQaYye3t7BQUFKSYmxuI6MTExZvUlKTg42Kz+Pffco6+++konTpyQYRjasmWLDh48qI4dOxbNhgAAAAAoFbh8D0CxlZycrLS0NFuHUaRcXV3l7u5uledKSkpSZmZmjssNvby8tH//fovrxMfHW6wfHx9vevzuu+/queeeU40aNeTo6Ch7e3stWLBA9913X+FvBAAAAIBSg6QUgGIpOTlZs2fPVkZGhq1DKVKOjo4KDw+3WmKqKLz77rv6+eef9dVXX6lWrVr6/vvvNWDAAPn4+OQYZQUAAAAA2UhKASiW0tLSSn1CSpIyMjKUlpZmlaSUh4eHHBwclJCQYFaekJAgb29vi+t4e3tft/5///2n119/XV988YW6dOkiSWrWrJl2796tqVOnkpQCAAAAkCvmlAKAW4STk5P8/f0VHR1tKsvKylJ0dLQCAwMtrhMYGGhWX5I2btxoqn/58mVdvnzZ7E6GkuTg4KCsrKxC3gIAAAAApQkjpQDgFhIREaHQ0FC1bNlSrVq10owZM5SamqqwsDBJUkhIiKpXr67IyEhJ0uDBg9W2bVu988476tKli1asWKGdO3dq/vz5kiQ3Nze1bdtWr776qsqWLatatWrpu+++09KlSzVt2jSbbScAAACA4o+kFADcQnr37q3ExESNHj1a8fHx8vPzU1RUlGky87i4OLNRT/fcc4+WL1+ukSNH6vXXX1f9+vW1Zs0aNWnSxFRnxYoVGjFihPr27auzZ8+qVq1aeuutt/TCCy9YffsAAAAAlBwkpQDgFhMeHq7w8HCLy7Zu3ZqjrGfPnurZs2eu7Xl7e2vRokWFFR4AAACAWwRzSgEAAAAAAMDqGCkFACVQcnKy0tLSbB1GkXF1dbXKHQkBAAAA2A5JKQAoYZKTkzV79mxlZGTYOpQi4+joqPDwcKsnpubMmaMpU6YoPj5ezZs317vvvqtWrVrlWn/VqlUaNWqUjh49qvr162vy5Ml68MEHTcuffvppLVmyxGyd4OBgRUVFFdk2AAAAACUFl+8BQAmTlpZWqhNSkpSRkWH1kWArV65URESExowZo127dql58+YKDg7W6dOnLdbftm2b+vTpo379+unXX39Vjx491KNHD/3xxx9m9Tp16qRTp06Z/j755BNrbA4AAABQ7JGUAgBA0rRp09S/f3+FhYWpUaNGmjdvnlxdXbVw4UKL9WfOnKlOnTrp1VdfVcOGDTVhwgTdeeedmj17tlk9Z2dneXt7m/4qVapkjc0BAAAAij2SUgCAW156erpiY2MVFBRkKrO3t1dQUJBiYmIsrhMTE2NWX7pyad619bdu3SpPT0/dcccdevHFF3XmzJnC3wAAAACgBCIpBQC45SUlJSkzM1NeXl5m5V5eXoqPj7e4Tnx8/A3rd+rUSUuXLlV0dLQmT56s7777Tp07d1ZmZmbhbwQAAABQwjDROQAAReTxxx83/d+0aVM1a9ZMdevW1datW9W+fXsbRgYAAADYHiOlAAC3PA8PDzk4OCghIcGsPCEhQd7e3hbX8fb2zld9SapTp448PDx0+PDhmw8aAAAAKOFISgEAbnlOTk7y9/dXdHS0qSwrK0vR0dEKDAy0uE5gYKBZfUnauHFjrvUl6Z9//tGZM2dUrVq1wgkcAAAAKMFISgEAICkiIkILFizQkiVLtG/fPr344otKTU1VWFiYJCkkJEQjRoww1R88eLCioqL0zjvvaP/+/Ro7dqx27typ8PBwSdKFCxf06quv6ueff9bRo0cVHR2t7t27q169egoODrbJNgIAAADFCXNKAQAgqXfv3kpMTNTo0aMVHx8vPz8/RUVFmSYzj4uLk739/37Lueeee7R8+XKNHDlSr7/+uurXr681a9aoSZMmkiQHBwf9/vvvWrJkic6dOycfHx917NhREyZMkLOzs022EQAAAChOSEoBAPD/wsPDTSOdrrV169YcZT179lTPnj0t1i9btqzWr19fmOEBAAAApQqX7wEAAAAAAMDqGCkFACg1kpOTlZaWZuswioyrq6vc3d2t/rxz5szRlClTFB8fr+bNm+vdd99Vq1atcq2/atUqjRo1SkePHlX9+vU1efJkPfjgg5Kky5cva+TIkVq3bp3+/vtvubu7KygoSJMmTZKPj4+1NgkAAADFAEkpAECpkJycrNmzZysjI8PWoRQZR0dHhYeHWzUxtXLlSkVERGjevHkKCAjQjBkzFBwcrAMHDsjT0zNH/W3btqlPnz6KjIzUQw89pOXLl6tHjx7atWuXmjRporS0NO3atUujRo1S8+bN9e+//2rw4MHq1q2bdu7cabXtAgAAgO1x+R4AoFRIS0sr1QkpScrIyLD6SLBp06apf//+CgsLU6NGjTRv3jy5urpq4cKFFuvPnDlTnTp10quvvqqGDRtqwoQJuvPOOzV79mxJkru7uzZu3KhevXrpjjvu0N13363Zs2crNjZWcXFx1tw0AAAA2BhJKQAAYFF6erpiY2MVFBRkKrO3t1dQUJBiYmIsrhMTE2NWX5KCg4NzrS9dGeVmZ2enihUrFkrcAAAAKBlISgEAAIuSkpKUmZkpLy8vs3IvLy/Fx8dbXCc+Pj5f9S9evKjXXntNffr0kZubW+EEDgAAgBKBpBQAALCJy5cvq1evXjIMQ3PnzrV1OAAAALAyJjoHAAAWeXh4yMHBQQkJCWblCQkJ8vb2triOt7d3nupnJ6SOHTumzZs3M0oKAADgFsRIKQAAYJGTk5P8/f0VHR1tKsvKylJ0dLQCAwMtrhMYGGhWX5I2btxoVj87IXXo0CFt2rRJVapUKZoNAAAAQLHGSCkAAJCriIgIhYaGqmXLlmrVqpVmzJih1NRUhYWFSZJCQkJUvXp1RUZGSpIGDx6stm3b6p133lGXLl20YsUK7dy5U/Pnz5d0JSH12GOPadeuXfrmm2+UmZlpmm+qcuXKcnJyss2GAgAAwOpISgEAgFz17t1biYmJGj16tOLj4+Xn56eoqCjTZOZxcXGyt//fwOt77rlHy5cv18iRI/X666+rfv36WrNmjZo0aSJJOnHihL766itJkp+fn9lzbdmyRffff79VtgsAAAC2R1IKAABcV3h4uMLDwy0u27p1a46ynj17qmfPnhbr+/r6yjCMwgwPAAAAJRRzSgEAAAAAAMDqGCkFAEApl5ycrLS0NFuHUaRcXV3l7u5u6zAAAACQDySlAAAoxZKTkzV79mxlZGTYOpQi5ejoqPDwcBJTAAAAJQiX7wEAUIqlpaWV+oSUJGVkZJT60WAAAAClDUkpAAAAAAAAWF2xSErNmTNHvr6+cnFxUUBAgHbs2HHd+qtWrVKDBg3k4uKipk2bat26dVaKFAAAoHig/wQAAEo6myelVq5cqYiICI0ZM0a7du1S8+bNFRwcrNOnT1usv23bNvXp00f9+vXTr7/+qh49eqhHjx76448/rBw5AACAbdB/AgAApYHNk1LTpk1T//79FRYWpkaNGmnevHlydXXVwoULLdafOXOmOnXqpFdffVUNGzbUhAkTdOedd2r27NlWjhwAAMA26D8BAIDSwKZJqfT0dMXGxiooKMhUZm9vr6CgIMXExFhcJyYmxqy+JAUHB+daHwAAoDSh/wQAAEoLR1s+eVJSkjIzM+Xl5WVW7uXlpf3791tcJz4+3mL9+Ph4i/UvXbqkS5cumR4nJydLklJSUm4m9FxduFAkzRY7Fy5I+d2F7BvLzp8/r4sXLxZdQMXE+fPnVa5cuXzVvxX2i8S+yQ37xTL2S+7yu2/yKrvPYBhGobddENboP0nW70NJUtYl7qAIFJai/KzaCscIoHAV5XEir/0nmyalrCEyMlLjxo3LUV6zZk0bRFN6tG1r6wiKL/aNZZMmTbJ1CMUW+8Yy9otl7JfcFfW+OX/+vNzd3Yv0OYoT+lBAyeY+w9YRACjurHGcuFH/yaZJKQ8PDzk4OCghIcGsPCEhQd7e3hbX8fb2zlf9ESNGKCIiwvQ4KytLZ8+eVZUqVWRnZ3eTW2B7KSkpqlmzpo4fPy43Nzdbh1OssG8sY79Yxn7JHfvGMvaLZaVxvxiGofPnz8vHx8fWoUiyTv9JKv19KBRMafyMAyhcHCcg5b3/ZNOklJOTk/z9/RUdHa0ePXpIutLhiY6OVnh4uMV1AgMDFR0drSFDhpjKNm7cqMDAQIv1nZ2d5ezsbFZWsWLFwgi/WHFzc+MDnwv2jWXsF8vYL7lj31jGfrGstO2X4jRCyhr9J+nW6UOhYErbZxxA4eM4gbz0n2x++V5ERIRCQ0PVsmVLtWrVSjNmzFBqaqrCwsIkSSEhIapevboiIyMlSYMHD1bbtm31zjvvqEuXLlqxYoV27typ+fPn23IzAAAArIb+EwAAKA1snpTq3bu3EhMTNXr0aMXHx8vPz09RUVGmyTjj4uJkb/+/mwTec889Wr58uUaOHKnXX39d9evX15o1a9SkSRNbbQIAAIBV0X8CAAClgc2TUpIUHh6e63DzrVu35ijr2bOnevbsWcRRlQzOzs4aM2ZMjuH1YN/khv1iGfsld+wby9gvlrFfrIf+E2yBzziAG+E4gfywM4rL/Y0BAAAAAABwy7C/cRUAAAAAAACgcJGUAgAAAAAAgNWRlAIAAAAAAIDVkZQq4WJiYuTg4KAuXbrYOpRi4emnn5adnZ3pr0qVKurUqZN+//13W4dWLMTHx2vgwIGqU6eOnJ2dVbNmTXXt2lXR0dG2Ds0mrn6/lClTRl5eXurQoYMWLlyorKwsW4dnc9d+nrL/OnXqZOvQbCq3/XL48GFbh2Zz8fHxGjx4sOrVqycXFxd5eXmpdevWmjt3rtLS0mwdHoCbRL8TQG44D0NBkZQq4T788EMNHDhQ33//vU6ePGnrcIqFTp066dSpUzp16pSio6Pl6Oiohx56yNZh2dzRo0fl7++vzZs3a8qUKdqzZ4+ioqLUrl07DRgwwNbh2Uz2++Xo0aP69ttv1a5dOw0ePFgPPfSQMjIybB2ezV39ecr+++STT2wdls1Z2i+1a9e2dVg29ffff6tFixbasGGDJk6cqF9//VUxMTEaNmyYvvnmG23atMnWIQK4SfQ7AVwP52EoCEdbB4CCu3DhglauXKmdO3cqPj5eixcv1uuvv27rsGzO2dlZ3t7ekiRvb28NHz5cbdq0UWJioqpWrWrj6GznpZdekp2dnXbs2KFy5cqZyhs3bqxnnnnGhpHZ1tXvl+rVq+vOO+/U3Xffrfbt2/9fe3ceE9XVhgH8GUTZBpBNgbRiEcLSCBYXQumiIKFStzpBSrDigka0FhNcSlUWKyjWrdYlLggqNbgUlVBFbKmWosWlMlgdsSLUWFEpgnZopSLn+8MwX8dRO1CdK/r8kkm4955789wTZnLuy5kDsrKyEBMTI3FCaf2zf+j/2C+6pk6dCmNjY5w8eVLrM8bV1RUjRowA/9kvUcfGcScR/Rs+h1F7cKZUB7Zz5054enrCw8MDY8aMwebNmznof4BarUZ2djbc3NxgZ2cndRzJ3Lx5EwUFBZg2bZrWw2Krrl27Gj7UMywoKAi+vr7Izc2VOgpRh1BXV4fCwsJHfsYAgEwmM3AqInqSOO4korbgcxjpi0WpDiwjIwNjxowBcH+q5K1bt3DkyBGJU0kvPz8fcrkccrkclpaWyMvLw44dO2Bk9OL+ul+8eBFCCHh6ekodpcPw9PREdXW11DEk98/3U+srLS1N6liSe7BfwsPDpY4kqdbPGA8PD6399vb2mj6aM2eOROmI6EnguJOI/g2fw6g9+PW9DqqiogLHjx/Hnj17AADGxsaIiIhARkYGBg4cKG04iQ0aNAjr1q0DANTX12Pt2rUYMmQIjh8/DhcXF4nTSYN/yWw7IQRndkD7/dTK1tZWojTPjgf75VGzg150x48fR0tLC6KiotDU1CR1HCJqJ447iUgffA6j9mBRqoPKyMhAc3MznJ2dNfuEEDAxMcHq1athbW0tYTppWVhYwM3NTbO9adMmWFtbY+PGjVi4cKGEyaTj7u4OmUyG8+fPSx2lw1CpVC/8wtWA7vuJ7mO/aHNzc4NMJkNFRYXWfldXVwCAmZmZFLGI6AnhuJOI9MHnMGoPzqPrgJqbm7F161YsW7YMZWVlmpdSqYSzszP/M9YDZDIZjIyM8Ndff0kdRTK2trYIDQ3FmjVr0NjYqHO8oaHB8KGeYUVFRThz5gwUCoXUUYg6BDs7O4SEhGD16tUP/Ywhoo6L404iai8+h5E+OFOqA8rPz0d9fT0mTpyo85cphUKBjIwMTJkyRaJ00mtqasK1a9cA3J82unr1aqjVagwbNkziZNJas2YNAgMDMWDAACxYsAA+Pj5obm7GoUOHsG7dOqhUKqkjSqL19+XevXu4fv06CgoKsGjRIgwdOhRjx46VOp7k/vl+amVsbAx7e3uJEtGzau3atQgMDES/fv2QnJwMHx8fGBkZ4cSJEzh//jz69u0rdUQiageOO4lIX3wOo/ZgUaoDysjIwODBgx86VVqhUGDJkiUoLy+Hj4+PBOmkV1BQACcnJwCApaUlPD09sWvXrhd+zQNXV1f89NNPSE1NRXx8PGpqauDg4IC+ffvqrBn0Imn9fTE2NoaNjQ18fX2xatUqREdHc1FGaL+fWnl4ePCroKSjV69eOH36NNLS0pCQkIArV67AxMQE3t7emDlzJqZOnSp1RCJqB447iUhffA6j9pAJroBMREREREREREQGxmkARERERERERERkcCxKERERERERERGRwbEoRUREREREREREBseiFBERERERERERGRyLUkREREREREREZHAsShERERERERERkcGxKEVERERERERERAbHohQRERERERERERkci1JE9MKorq6GTCZDWVmZ1FGIiIiI2iw5ORl9+vSROsZDPc1s48aNw8iRI5/KtYlIWixKEVGHIpPJHvtKTk6WOiIRERGRjtraWsTGxqJHjx4wMTGBo6MjQkNDUVJSIlkmQxW5kpOT/3UMR0QvJmOpAxARtUVNTY3m5x07diAxMREVFRWafXK5XIpYRERERI+lUCjw999/Y8uWLXB1dcX169fx7bffoq6uTupoT93MmTMxZcoUzXb//v0xefJkTJo0ScJURPQs4EwpIupQHB0dNS9ra2vIZDLNdrdu3bB8+XK89NJLMDExQZ8+fVBQUPDIa927dw8TJkyAp6cnLl++DADYt28f/Pz8YGpqCldXV6SkpKC5uVlzjkwmw6ZNm/Dee+/B3Nwc7u7uyMvL0xyvr69HVFQUHBwcYGZmBnd3d2RmZj69DiEiIqJnXkNDA4qLi5Geno5BgwbBxcUFAwYMQEJCAoYPH67VLiYmBg4ODrCyskJQUBCUSuVjr71p0yZ4eXnB1NQUnp6eWLt2rdbxK1euIDIyEra2trCwsEC/fv1QWlqKrKwspKSkQKlUamYrZWVl6Z1j8eLF6N69OywtLTFx4kTcuXPnkRnlcrnWGK5Tp06wtLTUbNfW1iIoKAhmZmaws7PD5MmToVarH3m9EydOwMHBAenp6XrlbZ0Rtm3bNvTs2RPW1tZ4//338ccff2ja7N69G71799ZkGDx4MBobGx/b90T037EoRUTPjc8//xzLli3D0qVLUV5ejtDQUAwfPhy//PKLTtumpiaEh4ejrKwMxcXF6NGjB4qLizF27FjExcXh3LlzWL9+PbKyspCamqp1bkpKCkaPHo3y8nKEhYUhKioKN2/eBADMnz8f586dw4EDB6BSqbBu3TrY29sb5P6JiIjo2SSXyyGXy7F37140NTU9sl14eDhu3LiBAwcO4NSpU/Dz80NwcLBmnPGgL7/8EomJiUhNTYVKpUJaWhrmz5+PLVu2AADUajXefvtt/Pbbb8jLy4NSqcTs2bPR0tKCiIgIxMfH49VXX0VNTQ1qamoQERGhV46dO3ciOTkZaWlpOHnyJJycnHSKYfpqbGxEaGgobGxscOLECezatQvffPMNPvzww4e2LyoqQkhICFJTUzFnzhy9+62yshJ79+5Ffn4+8vPzceTIESxevBjA/Zn4kZGRmDBhAlQqFQ4fPoxRo0ZBCNGueyKiNhBERB1UZmamsLa21mw7OzuL1NRUrTb9+/cXU6dOFUIIUVVVJQCI4uJiERwcLN544w3R0NCgaRscHCzS0tK0zt+2bZtwcnLSbAMQ8+bN02yr1WoBQBw4cEAIIcSwYcPE+PHjn9g9EhER0fNh9+7dwsbGRpiamorXX39dJCQkCKVSqTleXFwsrKysxJ07d7TO69Wrl1i/fr0QQoikpCTh6+urdWz79u1a7T/99FMREBAghBBi/fr1wtLSUtTV1T0004PX0zdHQECAZnzVyt/fX+daj+Li4iJWrFghhBBiw4YNwsbGRqjVas3xr7/+WhgZGYlr164JIYSIjo4WI0aMELm5uUIul4ucnJw25U1KShLm5ubi9u3bmuOzZs0S/v7+QgghTp06JQCI6upqvfIT0ZPDmVJE9Fy4ffs2rl69isDAQK39gYGBUKlUWvsiIyPR2NiIwsJCWFtba/YrlUosWLBA89dMuVyOSZMmoaamBn/++aemnY+Pj+ZnCwsLWFlZ4caNGwCA2NhY5OTkoE+fPpg9ezaOHj36NG6XiIiIOhiFQoGrV68iLy8P77zzDg4fPgw/Pz/NV+aUSiXUajXs7Oy0xiJVVVWorKzUuV5jYyMqKysxceJErfYLFy7UtC8rK8Nrr70GW1tbvXPqk0OlUsHf31/rvICAgHb1i0qlgq+vLywsLDT7AgMD0dLSorVuaGlpKcLDw7Ft2zbNjC598wJAz549YWlpqdl2cnLSjN98fX0RHByM3r17Izw8HBs3bkR9fX277oeI2oYLnRPRCycsLAzZ2dk4duwYgoKCNPvVajVSUlIwatQonXNMTU01P3fu3FnrmEwmQ0tLCwBgyJAh+PXXX7F//34cOnQIwcHBmDZtGpYuXfqU7oaIiIg6ClNTU4SEhCAkJATz589HTEwMkpKSMG7cOKjVajg5OeHw4cM653Xt2lVnX+uaSxs3btQpEHXq1AkAYGZm1uaMbc1hKL169YKdnR02b96Md999VzMe0zfv48ZvnTp1wqFDh3D06FEUFhbiiy++wNy5c1FaWopXXnnlqd0TEXFNKSJ6TlhZWcHZ2Vnn3yqXlJTA29tba19sbCwWL16M4cOH48iRI5r9fn5+qKiogJubm87LyEj/j0sHBwdER0cjOzsbK1euxIYNG/7bzREREdFzydvbW7OYtp+fH65duwZjY2OdccjD1qfs3r07nJ2dcenSJZ32rYUUHx8flJWVPXJNqi5duuDevXta+/TJ4eXlhdLSUq3zfvzxx3b1gZeXF5RKpdai4iUlJTAyMoKHh4dmn729PYqKinDx4kWMHj0ad+/e1TuvPmQyGQIDA5GSkoLTp0+jS5cu2LNnT7vuiYj0x6IUET03Zs2ahfT0dOzYsQMVFRX4+OOPUVZWhri4OJ2206dPx8KFCzF06FD88MMPAIDExERs3boVKSkpOHv2LFQqFXJycjBv3jy9MyQmJmLfvn24ePEizp49i/z8fHh5eT2xeyQiIqKOp66uDkFBQcjOzkZ5eTmqqqqwa9cuLFmyBCNGjAAADB48GAEBARg5ciQKCwtRXV2No0ePYu7cuTh58uRDr5uSkoJFixZh1apVuHDhAs6cOYPMzEwsX74cwP0lCxwdHTFy5EiUlJTg0qVL+Oqrr3Ds2DEA97/SVlVVhbKyMvz+++9oamrSK0dcXBw2b96MzMxMXLhwAUlJSTh79my7+iYqKgqmpqaIjo7Gzz//jO+++w7Tp0/HBx98gO7du2u17datG4qKinD+/HlERkaiubm5Xf32oNLSUs2i7ZcvX0Zubi5qa2s5hiMyAH59j4ieGx999BFu3bqF+Ph43LhxA97e3sjLy4O7u/tD28+YMQMtLS0ICwtDQUEBQkNDkZ+fjwULFiA9PR2dO3eGp6cnYmJi9M7QpUsXJCQkoLq6GmZmZnjzzTeRk5PzpG6RiIiIOiC5XA5/f3+sWLEClZWVuHv3Ll5++WVMmjQJn3zyCYD7M3X279+PuXPnYvz48aitrYWjoyPeeustneJMq5iYGJibm+Ozzz7DrFmzYGFhgd69e2PGjBkA7o9LCgsLER8fj7CwMDQ3N8Pb2xtr1qwBcH+dq9zcXAwaNAgNDQ3IzMzEuHHj/jVHREQEKisrMXv2bNy5cwcKhQKxsbE4ePBgm/vG3NwcBw8eRFxcHPr37w9zc3MoFApNYe1Bjo6OKCoqwsCBAxEVFYXt27e3ud8eZGVlhe+//x4rV67E7du34eLigmXLlmHIkCFtvh8iahuZEPw/l0REREREREREZFj8+h4RERERERERERkci1JERERERERERGRwLEoREREREREREZHBsShFREREREREREQGx6IUEREREREREREZHItSRERERERERERkcCxKERERERERERGRwbEoRUREREREREREBseiFBERERERERERGRyLUkREREREREREZHAsShERERERERERkcGxKEVERERERERERAb3P/F0tI5C4JnnAAAAAElFTkSuQmCC\n"
                },
                "metadata": {}
              }
            ]
          }
        },
        "2a70c4387bc048bbb092d6f0b60bf1f4": {
          "model_module": "@jupyter-widgets/base",
          "model_name": "LayoutModel",
          "model_module_version": "1.2.0",
          "state": {
            "_model_module": "@jupyter-widgets/base",
            "_model_module_version": "1.2.0",
            "_model_name": "LayoutModel",
            "_view_count": null,
            "_view_module": "@jupyter-widgets/base",
            "_view_module_version": "1.2.0",
            "_view_name": "LayoutView",
            "align_content": null,
            "align_items": null,
            "align_self": null,
            "border": null,
            "bottom": null,
            "display": null,
            "flex": null,
            "flex_flow": null,
            "grid_area": null,
            "grid_auto_columns": null,
            "grid_auto_flow": null,
            "grid_auto_rows": null,
            "grid_column": null,
            "grid_gap": null,
            "grid_row": null,
            "grid_template_areas": null,
            "grid_template_columns": null,
            "grid_template_rows": null,
            "height": null,
            "justify_content": null,
            "justify_items": null,
            "left": null,
            "margin": null,
            "max_height": null,
            "max_width": null,
            "min_height": null,
            "min_width": null,
            "object_fit": null,
            "object_position": null,
            "order": null,
            "overflow": null,
            "overflow_x": null,
            "overflow_y": null,
            "padding": null,
            "right": null,
            "top": null,
            "visibility": null,
            "width": null
          }
        },
        "d93c9ce03f444b8eab3eadc0c8813e5b": {
          "model_module": "@jupyter-widgets/base",
          "model_name": "LayoutModel",
          "model_module_version": "1.2.0",
          "state": {
            "_model_module": "@jupyter-widgets/base",
            "_model_module_version": "1.2.0",
            "_model_name": "LayoutModel",
            "_view_count": null,
            "_view_module": "@jupyter-widgets/base",
            "_view_module_version": "1.2.0",
            "_view_name": "LayoutView",
            "align_content": null,
            "align_items": null,
            "align_self": null,
            "border": null,
            "bottom": null,
            "display": null,
            "flex": null,
            "flex_flow": null,
            "grid_area": null,
            "grid_auto_columns": null,
            "grid_auto_flow": null,
            "grid_auto_rows": null,
            "grid_column": null,
            "grid_gap": null,
            "grid_row": null,
            "grid_template_areas": null,
            "grid_template_columns": null,
            "grid_template_rows": null,
            "height": null,
            "justify_content": null,
            "justify_items": null,
            "left": null,
            "margin": null,
            "max_height": null,
            "max_width": null,
            "min_height": null,
            "min_width": null,
            "object_fit": null,
            "object_position": null,
            "order": null,
            "overflow": null,
            "overflow_x": null,
            "overflow_y": null,
            "padding": null,
            "right": null,
            "top": null,
            "visibility": null,
            "width": null
          }
        },
        "45ca16f9c9844f5cb063db84316787b4": {
          "model_module": "@jupyter-widgets/controls",
          "model_name": "SliderStyleModel",
          "model_module_version": "1.5.0",
          "state": {
            "_model_module": "@jupyter-widgets/controls",
            "_model_module_version": "1.5.0",
            "_model_name": "SliderStyleModel",
            "_view_count": null,
            "_view_module": "@jupyter-widgets/base",
            "_view_module_version": "1.2.0",
            "_view_name": "StyleView",
            "description_width": "",
            "handle_color": null
          }
        },
        "8eec41bc7b624ac8a66082b29253956f": {
          "model_module": "@jupyter-widgets/base",
          "model_name": "LayoutModel",
          "model_module_version": "1.2.0",
          "state": {
            "_model_module": "@jupyter-widgets/base",
            "_model_module_version": "1.2.0",
            "_model_name": "LayoutModel",
            "_view_count": null,
            "_view_module": "@jupyter-widgets/base",
            "_view_module_version": "1.2.0",
            "_view_name": "LayoutView",
            "align_content": null,
            "align_items": null,
            "align_self": null,
            "border": null,
            "bottom": null,
            "display": null,
            "flex": null,
            "flex_flow": null,
            "grid_area": null,
            "grid_auto_columns": null,
            "grid_auto_flow": null,
            "grid_auto_rows": null,
            "grid_column": null,
            "grid_gap": null,
            "grid_row": null,
            "grid_template_areas": null,
            "grid_template_columns": null,
            "grid_template_rows": null,
            "height": null,
            "justify_content": null,
            "justify_items": null,
            "left": null,
            "margin": null,
            "max_height": null,
            "max_width": null,
            "min_height": null,
            "min_width": null,
            "object_fit": null,
            "object_position": null,
            "order": null,
            "overflow": null,
            "overflow_x": null,
            "overflow_y": null,
            "padding": null,
            "right": null,
            "top": null,
            "visibility": null,
            "width": null
          }
        },
        "a2385a36a6364bb8af556b32bfea3d81": {
          "model_module": "@jupyter-widgets/controls",
          "model_name": "VBoxModel",
          "model_module_version": "1.5.0",
          "state": {
            "_dom_classes": [],
            "_model_module": "@jupyter-widgets/controls",
            "_model_module_version": "1.5.0",
            "_model_name": "VBoxModel",
            "_view_count": null,
            "_view_module": "@jupyter-widgets/controls",
            "_view_module_version": "1.5.0",
            "_view_name": "VBoxView",
            "box_style": "",
            "children": [],
            "layout": "IPY_MODEL_c82660a631564876b5db86ff97b6d0fe"
          }
        },
        "656629afac7f4dde89d53e4f8be0151c": {
          "model_module": "@jupyter-widgets/controls",
          "model_name": "HTMLModel",
          "model_module_version": "1.5.0",
          "state": {
            "_dom_classes": [],
            "_model_module": "@jupyter-widgets/controls",
            "_model_module_version": "1.5.0",
            "_model_name": "HTMLModel",
            "_view_count": null,
            "_view_module": "@jupyter-widgets/controls",
            "_view_module_version": "1.5.0",
            "_view_name": "HTMLView",
            "description": "",
            "description_tooltip": null,
            "layout": "IPY_MODEL_19fdc1446a494a18985d97d57fe22967",
            "placeholder": "​",
            "style": "IPY_MODEL_69f8a45590aa4040a1c086501ca1d0b9",
            "value": "<center> <img\nsrc=https://huggingface.co/front/assets/huggingface_logo-noborder.svg\nalt='Hugging Face'> <br> Copy a token from <a\nhref=\"https://huggingface.co/settings/tokens\" target=\"_blank\">your Hugging Face\ntokens page</a> and paste it below. <br> Immediately click login after copying\nyour token or it might be stored in plain text in this notebook file. </center>"
          }
        },
        "7018266cef05450a84ad7aa6d070fedd": {
          "model_module": "@jupyter-widgets/controls",
          "model_name": "PasswordModel",
          "model_module_version": "1.5.0",
          "state": {
            "_dom_classes": [],
            "_model_module": "@jupyter-widgets/controls",
            "_model_module_version": "1.5.0",
            "_model_name": "PasswordModel",
            "_view_count": null,
            "_view_module": "@jupyter-widgets/controls",
            "_view_module_version": "1.5.0",
            "_view_name": "PasswordView",
            "continuous_update": true,
            "description": "Token:",
            "description_tooltip": null,
            "disabled": false,
            "layout": "IPY_MODEL_235995add0c24533b8d2be10eeecd217",
            "placeholder": "​",
            "style": "IPY_MODEL_2a67b865ea214c56bdcf1e9bb4c08985",
            "value": ""
          }
        },
        "0ba44097b5cc47cebd6e7d0b4069da44": {
          "model_module": "@jupyter-widgets/controls",
          "model_name": "CheckboxModel",
          "model_module_version": "1.5.0",
          "state": {
            "_dom_classes": [],
            "_model_module": "@jupyter-widgets/controls",
            "_model_module_version": "1.5.0",
            "_model_name": "CheckboxModel",
            "_view_count": null,
            "_view_module": "@jupyter-widgets/controls",
            "_view_module_version": "1.5.0",
            "_view_name": "CheckboxView",
            "description": "Add token as git credential?",
            "description_tooltip": null,
            "disabled": false,
            "indent": true,
            "layout": "IPY_MODEL_fdd145b50aef4c8aa7d135e68643cdfc",
            "style": "IPY_MODEL_39594f5297774f31947f248a3b2a2501",
            "value": true
          }
        },
        "d7e0eb06ee8948b7bf816a4bddf34973": {
          "model_module": "@jupyter-widgets/controls",
          "model_name": "ButtonModel",
          "model_module_version": "1.5.0",
          "state": {
            "_dom_classes": [],
            "_model_module": "@jupyter-widgets/controls",
            "_model_module_version": "1.5.0",
            "_model_name": "ButtonModel",
            "_view_count": null,
            "_view_module": "@jupyter-widgets/controls",
            "_view_module_version": "1.5.0",
            "_view_name": "ButtonView",
            "button_style": "",
            "description": "Login",
            "disabled": false,
            "icon": "",
            "layout": "IPY_MODEL_de9f16cdd7204ea5b108fae8571c66cb",
            "style": "IPY_MODEL_f82c48a94a714b58a3bc06f0e3cd18ae",
            "tooltip": ""
          }
        },
        "649c609573234e1ea80c2069de50ff01": {
          "model_module": "@jupyter-widgets/controls",
          "model_name": "HTMLModel",
          "model_module_version": "1.5.0",
          "state": {
            "_dom_classes": [],
            "_model_module": "@jupyter-widgets/controls",
            "_model_module_version": "1.5.0",
            "_model_name": "HTMLModel",
            "_view_count": null,
            "_view_module": "@jupyter-widgets/controls",
            "_view_module_version": "1.5.0",
            "_view_name": "HTMLView",
            "description": "",
            "description_tooltip": null,
            "layout": "IPY_MODEL_b88a1d1a573740b2863bb1732c3a5f4b",
            "placeholder": "​",
            "style": "IPY_MODEL_d5bf07de574d41e6bfd3506ab02472eb",
            "value": "\n<b>Pro Tip:</b> If you don't already have one, you can create a dedicated\n'notebooks' token with 'write' access, that you can then easily reuse for all\nnotebooks. </center>"
          }
        },
        "c82660a631564876b5db86ff97b6d0fe": {
          "model_module": "@jupyter-widgets/base",
          "model_name": "LayoutModel",
          "model_module_version": "1.2.0",
          "state": {
            "_model_module": "@jupyter-widgets/base",
            "_model_module_version": "1.2.0",
            "_model_name": "LayoutModel",
            "_view_count": null,
            "_view_module": "@jupyter-widgets/base",
            "_view_module_version": "1.2.0",
            "_view_name": "LayoutView",
            "align_content": null,
            "align_items": "center",
            "align_self": null,
            "border": null,
            "bottom": null,
            "display": "flex",
            "flex": null,
            "flex_flow": "column",
            "grid_area": null,
            "grid_auto_columns": null,
            "grid_auto_flow": null,
            "grid_auto_rows": null,
            "grid_column": null,
            "grid_gap": null,
            "grid_row": null,
            "grid_template_areas": null,
            "grid_template_columns": null,
            "grid_template_rows": null,
            "height": null,
            "justify_content": null,
            "justify_items": null,
            "left": null,
            "margin": null,
            "max_height": null,
            "max_width": null,
            "min_height": null,
            "min_width": null,
            "object_fit": null,
            "object_position": null,
            "order": null,
            "overflow": null,
            "overflow_x": null,
            "overflow_y": null,
            "padding": null,
            "right": null,
            "top": null,
            "visibility": null,
            "width": "50%"
          }
        },
        "19fdc1446a494a18985d97d57fe22967": {
          "model_module": "@jupyter-widgets/base",
          "model_name": "LayoutModel",
          "model_module_version": "1.2.0",
          "state": {
            "_model_module": "@jupyter-widgets/base",
            "_model_module_version": "1.2.0",
            "_model_name": "LayoutModel",
            "_view_count": null,
            "_view_module": "@jupyter-widgets/base",
            "_view_module_version": "1.2.0",
            "_view_name": "LayoutView",
            "align_content": null,
            "align_items": null,
            "align_self": null,
            "border": null,
            "bottom": null,
            "display": null,
            "flex": null,
            "flex_flow": null,
            "grid_area": null,
            "grid_auto_columns": null,
            "grid_auto_flow": null,
            "grid_auto_rows": null,
            "grid_column": null,
            "grid_gap": null,
            "grid_row": null,
            "grid_template_areas": null,
            "grid_template_columns": null,
            "grid_template_rows": null,
            "height": null,
            "justify_content": null,
            "justify_items": null,
            "left": null,
            "margin": null,
            "max_height": null,
            "max_width": null,
            "min_height": null,
            "min_width": null,
            "object_fit": null,
            "object_position": null,
            "order": null,
            "overflow": null,
            "overflow_x": null,
            "overflow_y": null,
            "padding": null,
            "right": null,
            "top": null,
            "visibility": null,
            "width": null
          }
        },
        "69f8a45590aa4040a1c086501ca1d0b9": {
          "model_module": "@jupyter-widgets/controls",
          "model_name": "DescriptionStyleModel",
          "model_module_version": "1.5.0",
          "state": {
            "_model_module": "@jupyter-widgets/controls",
            "_model_module_version": "1.5.0",
            "_model_name": "DescriptionStyleModel",
            "_view_count": null,
            "_view_module": "@jupyter-widgets/base",
            "_view_module_version": "1.2.0",
            "_view_name": "StyleView",
            "description_width": ""
          }
        },
        "235995add0c24533b8d2be10eeecd217": {
          "model_module": "@jupyter-widgets/base",
          "model_name": "LayoutModel",
          "model_module_version": "1.2.0",
          "state": {
            "_model_module": "@jupyter-widgets/base",
            "_model_module_version": "1.2.0",
            "_model_name": "LayoutModel",
            "_view_count": null,
            "_view_module": "@jupyter-widgets/base",
            "_view_module_version": "1.2.0",
            "_view_name": "LayoutView",
            "align_content": null,
            "align_items": null,
            "align_self": null,
            "border": null,
            "bottom": null,
            "display": null,
            "flex": null,
            "flex_flow": null,
            "grid_area": null,
            "grid_auto_columns": null,
            "grid_auto_flow": null,
            "grid_auto_rows": null,
            "grid_column": null,
            "grid_gap": null,
            "grid_row": null,
            "grid_template_areas": null,
            "grid_template_columns": null,
            "grid_template_rows": null,
            "height": null,
            "justify_content": null,
            "justify_items": null,
            "left": null,
            "margin": null,
            "max_height": null,
            "max_width": null,
            "min_height": null,
            "min_width": null,
            "object_fit": null,
            "object_position": null,
            "order": null,
            "overflow": null,
            "overflow_x": null,
            "overflow_y": null,
            "padding": null,
            "right": null,
            "top": null,
            "visibility": null,
            "width": null
          }
        },
        "2a67b865ea214c56bdcf1e9bb4c08985": {
          "model_module": "@jupyter-widgets/controls",
          "model_name": "DescriptionStyleModel",
          "model_module_version": "1.5.0",
          "state": {
            "_model_module": "@jupyter-widgets/controls",
            "_model_module_version": "1.5.0",
            "_model_name": "DescriptionStyleModel",
            "_view_count": null,
            "_view_module": "@jupyter-widgets/base",
            "_view_module_version": "1.2.0",
            "_view_name": "StyleView",
            "description_width": ""
          }
        },
        "fdd145b50aef4c8aa7d135e68643cdfc": {
          "model_module": "@jupyter-widgets/base",
          "model_name": "LayoutModel",
          "model_module_version": "1.2.0",
          "state": {
            "_model_module": "@jupyter-widgets/base",
            "_model_module_version": "1.2.0",
            "_model_name": "LayoutModel",
            "_view_count": null,
            "_view_module": "@jupyter-widgets/base",
            "_view_module_version": "1.2.0",
            "_view_name": "LayoutView",
            "align_content": null,
            "align_items": null,
            "align_self": null,
            "border": null,
            "bottom": null,
            "display": null,
            "flex": null,
            "flex_flow": null,
            "grid_area": null,
            "grid_auto_columns": null,
            "grid_auto_flow": null,
            "grid_auto_rows": null,
            "grid_column": null,
            "grid_gap": null,
            "grid_row": null,
            "grid_template_areas": null,
            "grid_template_columns": null,
            "grid_template_rows": null,
            "height": null,
            "justify_content": null,
            "justify_items": null,
            "left": null,
            "margin": null,
            "max_height": null,
            "max_width": null,
            "min_height": null,
            "min_width": null,
            "object_fit": null,
            "object_position": null,
            "order": null,
            "overflow": null,
            "overflow_x": null,
            "overflow_y": null,
            "padding": null,
            "right": null,
            "top": null,
            "visibility": null,
            "width": null
          }
        },
        "39594f5297774f31947f248a3b2a2501": {
          "model_module": "@jupyter-widgets/controls",
          "model_name": "DescriptionStyleModel",
          "model_module_version": "1.5.0",
          "state": {
            "_model_module": "@jupyter-widgets/controls",
            "_model_module_version": "1.5.0",
            "_model_name": "DescriptionStyleModel",
            "_view_count": null,
            "_view_module": "@jupyter-widgets/base",
            "_view_module_version": "1.2.0",
            "_view_name": "StyleView",
            "description_width": ""
          }
        },
        "de9f16cdd7204ea5b108fae8571c66cb": {
          "model_module": "@jupyter-widgets/base",
          "model_name": "LayoutModel",
          "model_module_version": "1.2.0",
          "state": {
            "_model_module": "@jupyter-widgets/base",
            "_model_module_version": "1.2.0",
            "_model_name": "LayoutModel",
            "_view_count": null,
            "_view_module": "@jupyter-widgets/base",
            "_view_module_version": "1.2.0",
            "_view_name": "LayoutView",
            "align_content": null,
            "align_items": null,
            "align_self": null,
            "border": null,
            "bottom": null,
            "display": null,
            "flex": null,
            "flex_flow": null,
            "grid_area": null,
            "grid_auto_columns": null,
            "grid_auto_flow": null,
            "grid_auto_rows": null,
            "grid_column": null,
            "grid_gap": null,
            "grid_row": null,
            "grid_template_areas": null,
            "grid_template_columns": null,
            "grid_template_rows": null,
            "height": null,
            "justify_content": null,
            "justify_items": null,
            "left": null,
            "margin": null,
            "max_height": null,
            "max_width": null,
            "min_height": null,
            "min_width": null,
            "object_fit": null,
            "object_position": null,
            "order": null,
            "overflow": null,
            "overflow_x": null,
            "overflow_y": null,
            "padding": null,
            "right": null,
            "top": null,
            "visibility": null,
            "width": null
          }
        },
        "f82c48a94a714b58a3bc06f0e3cd18ae": {
          "model_module": "@jupyter-widgets/controls",
          "model_name": "ButtonStyleModel",
          "model_module_version": "1.5.0",
          "state": {
            "_model_module": "@jupyter-widgets/controls",
            "_model_module_version": "1.5.0",
            "_model_name": "ButtonStyleModel",
            "_view_count": null,
            "_view_module": "@jupyter-widgets/base",
            "_view_module_version": "1.2.0",
            "_view_name": "StyleView",
            "button_color": null,
            "font_weight": ""
          }
        },
        "b88a1d1a573740b2863bb1732c3a5f4b": {
          "model_module": "@jupyter-widgets/base",
          "model_name": "LayoutModel",
          "model_module_version": "1.2.0",
          "state": {
            "_model_module": "@jupyter-widgets/base",
            "_model_module_version": "1.2.0",
            "_model_name": "LayoutModel",
            "_view_count": null,
            "_view_module": "@jupyter-widgets/base",
            "_view_module_version": "1.2.0",
            "_view_name": "LayoutView",
            "align_content": null,
            "align_items": null,
            "align_self": null,
            "border": null,
            "bottom": null,
            "display": null,
            "flex": null,
            "flex_flow": null,
            "grid_area": null,
            "grid_auto_columns": null,
            "grid_auto_flow": null,
            "grid_auto_rows": null,
            "grid_column": null,
            "grid_gap": null,
            "grid_row": null,
            "grid_template_areas": null,
            "grid_template_columns": null,
            "grid_template_rows": null,
            "height": null,
            "justify_content": null,
            "justify_items": null,
            "left": null,
            "margin": null,
            "max_height": null,
            "max_width": null,
            "min_height": null,
            "min_width": null,
            "object_fit": null,
            "object_position": null,
            "order": null,
            "overflow": null,
            "overflow_x": null,
            "overflow_y": null,
            "padding": null,
            "right": null,
            "top": null,
            "visibility": null,
            "width": null
          }
        },
        "d5bf07de574d41e6bfd3506ab02472eb": {
          "model_module": "@jupyter-widgets/controls",
          "model_name": "DescriptionStyleModel",
          "model_module_version": "1.5.0",
          "state": {
            "_model_module": "@jupyter-widgets/controls",
            "_model_module_version": "1.5.0",
            "_model_name": "DescriptionStyleModel",
            "_view_count": null,
            "_view_module": "@jupyter-widgets/base",
            "_view_module_version": "1.2.0",
            "_view_name": "StyleView",
            "description_width": ""
          }
        },
        "76774d14168d4b3e9904da3982c77800": {
          "model_module": "@jupyter-widgets/controls",
          "model_name": "LabelModel",
          "model_module_version": "1.5.0",
          "state": {
            "_dom_classes": [],
            "_model_module": "@jupyter-widgets/controls",
            "_model_module_version": "1.5.0",
            "_model_name": "LabelModel",
            "_view_count": null,
            "_view_module": "@jupyter-widgets/controls",
            "_view_module_version": "1.5.0",
            "_view_name": "LabelView",
            "description": "",
            "description_tooltip": null,
            "layout": "IPY_MODEL_dbd2813d7e964999ab3a2356a26de388",
            "placeholder": "​",
            "style": "IPY_MODEL_bb805396c7204129a32a7f05f5d66921",
            "value": "Connecting..."
          }
        },
        "dbd2813d7e964999ab3a2356a26de388": {
          "model_module": "@jupyter-widgets/base",
          "model_name": "LayoutModel",
          "model_module_version": "1.2.0",
          "state": {
            "_model_module": "@jupyter-widgets/base",
            "_model_module_version": "1.2.0",
            "_model_name": "LayoutModel",
            "_view_count": null,
            "_view_module": "@jupyter-widgets/base",
            "_view_module_version": "1.2.0",
            "_view_name": "LayoutView",
            "align_content": null,
            "align_items": null,
            "align_self": null,
            "border": null,
            "bottom": null,
            "display": null,
            "flex": null,
            "flex_flow": null,
            "grid_area": null,
            "grid_auto_columns": null,
            "grid_auto_flow": null,
            "grid_auto_rows": null,
            "grid_column": null,
            "grid_gap": null,
            "grid_row": null,
            "grid_template_areas": null,
            "grid_template_columns": null,
            "grid_template_rows": null,
            "height": null,
            "justify_content": null,
            "justify_items": null,
            "left": null,
            "margin": null,
            "max_height": null,
            "max_width": null,
            "min_height": null,
            "min_width": null,
            "object_fit": null,
            "object_position": null,
            "order": null,
            "overflow": null,
            "overflow_x": null,
            "overflow_y": null,
            "padding": null,
            "right": null,
            "top": null,
            "visibility": null,
            "width": null
          }
        },
        "bb805396c7204129a32a7f05f5d66921": {
          "model_module": "@jupyter-widgets/controls",
          "model_name": "DescriptionStyleModel",
          "model_module_version": "1.5.0",
          "state": {
            "_model_module": "@jupyter-widgets/controls",
            "_model_module_version": "1.5.0",
            "_model_name": "DescriptionStyleModel",
            "_view_count": null,
            "_view_module": "@jupyter-widgets/base",
            "_view_module_version": "1.2.0",
            "_view_name": "StyleView",
            "description_width": ""
          }
        }
      }
    }
  },
  "nbformat": 4,
  "nbformat_minor": 0
}