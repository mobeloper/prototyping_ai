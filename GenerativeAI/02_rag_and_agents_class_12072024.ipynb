{
  "cells": [
    {
      "cell_type": "markdown",
      "metadata": {
        "id": "view-in-github",
        "colab_type": "text"
      },
      "source": [
        "<a href=\"https://colab.research.google.com/github/mgfrantz/CTME-llm-lecture-resources/blob/main/prototyping_ai/02_rag_and_agents_solution_12072024.ipynb\" target=\"_parent\"><img src=\"https://colab.research.google.com/assets/colab-badge.svg\" alt=\"Open In Colab\"/></a>"
      ]
    },
    {
      "cell_type": "markdown",
      "metadata": {
        "id": "eTnsbyXHSknb"
      },
      "source": [
        "# Retrieval Augmented Generation\n",
        "\n",
        "![](https://www.dailydoseofds.com/content/images/2024/10/rag.gif)\n",
        "Source: [Daily Dose of DS](https://www.dailydoseofds.com/a-crash-course-on-building-rag-systems-part-1-with-implementations/)"
      ]
    },
    {
      "cell_type": "code",
      "execution_count": 1,
      "metadata": {
        "id": "8LukVZNkSknb"
      },
      "outputs": [],
      "source": [
        "%load_ext rich\n",
        "%load_ext autoreload\n",
        "%autoreload 2"
      ]
    },
    {
      "cell_type": "markdown",
      "metadata": {
        "id": "UZ_s5wYLSknc"
      },
      "source": [
        "# Introduction to RAG with LlamaIndex\n",
        "\n",
        "LlamaIndex is a library for working with large language models.\n",
        "One of its main strengths is its ability to ingest documents into a vector index and use them to answer questions.\n",
        "This is known as Retrieval Augmented Generation (RAG).\n",
        "\n",
        "To start, we will use a low-code, high-level abstraction to build a basic PDF question-answering system.\n",
        "We will read in PDFs, split them into chunks, embed them, and store them in a vector database.\n",
        "Then, we will use an abstraction known as a `QueryEngine` that implements RAG to answer questions about the documents."
      ]
    },
    {
      "cell_type": "code",
      "execution_count": 2,
      "metadata": {
        "id": "61Q9189dSknc",
        "outputId": "12e44559-b1a6-46b6-c94e-963d9969fa73",
        "colab": {
          "base_uri": "https://localhost:8080/",
          "height": 1000
        }
      },
      "outputs": [
        {
          "output_type": "display_data",
          "data": {
            "text/plain": [
              "Colab detected - setting up environment\n"
            ],
            "text/html": [
              "<pre style=\"white-space:pre;overflow-x:auto;line-height:normal;font-family:Menlo,'DejaVu Sans Mono',consolas,'Courier New',monospace\">Colab detected - setting up environment\n",
              "</pre>\n"
            ]
          },
          "metadata": {}
        },
        {
          "output_type": "stream",
          "name": "stdout",
          "text": [
            "\u001b[?25l     \u001b[90m━━━━━━━━━━━━━━━━━━━━━━━━━━━━━━━━━━━━━━━━\u001b[0m \u001b[32m0.0/56.5 kB\u001b[0m \u001b[31m?\u001b[0m eta \u001b[36m-:--:--\u001b[0m\r\u001b[2K     \u001b[90m━━━━━━━━━━━━━━━━━━━━━━━━━━━━━━━━━━━━━━━━\u001b[0m \u001b[32m56.5/56.5 kB\u001b[0m \u001b[31m2.8 MB/s\u001b[0m eta \u001b[36m0:00:00\u001b[0m\n",
            "\u001b[?25h  Preparing metadata (setup.py) ... \u001b[?25l\u001b[?25hdone\n",
            "  Preparing metadata (setup.py) ... \u001b[?25l\u001b[?25hdone\n",
            "\u001b[2K     \u001b[90m━━━━━━━━━━━━━━━━━━━━━━━━━━━━━━━━━━━━━━━━\u001b[0m \u001b[32m67.3/67.3 kB\u001b[0m \u001b[31m5.6 MB/s\u001b[0m eta \u001b[36m0:00:00\u001b[0m\n",
            "\u001b[?25h  Installing build dependencies ... \u001b[?25l\u001b[?25hdone\n",
            "  Getting requirements to build wheel ... \u001b[?25l\u001b[?25hdone\n",
            "  Preparing metadata (pyproject.toml) ... \u001b[?25l\u001b[?25hdone\n",
            "\u001b[2K     \u001b[90m━━━━━━━━━━━━━━━━━━━━━━━━━━━━━━━━━━━━━━━━\u001b[0m \u001b[32m149.4/149.4 kB\u001b[0m \u001b[31m6.8 MB/s\u001b[0m eta \u001b[36m0:00:00\u001b[0m\n",
            "\u001b[2K     \u001b[90m━━━━━━━━━━━━━━━━━━━━━━━━━━━━━━━━━━━━━━━━\u001b[0m \u001b[32m48.5/48.5 kB\u001b[0m \u001b[31m3.8 MB/s\u001b[0m eta \u001b[36m0:00:00\u001b[0m\n",
            "\u001b[?25h  Preparing metadata (setup.py) ... \u001b[?25l\u001b[?25hdone\n",
            "\u001b[2K     \u001b[90m━━━━━━━━━━━━━━━━━━━━━━━━━━━━━━━━━━━━━━━━\u001b[0m \u001b[32m7.4/7.4 MB\u001b[0m \u001b[31m81.4 MB/s\u001b[0m eta \u001b[36m0:00:00\u001b[0m\n",
            "\u001b[?25h  Preparing metadata (setup.py) ... \u001b[?25l\u001b[?25hdone\n",
            "  Preparing metadata (setup.py) ... \u001b[?25l\u001b[?25hdone\n",
            "  Preparing metadata (setup.py) ... \u001b[?25l\u001b[?25hdone\n",
            "\u001b[2K   \u001b[90m━━━━━━━━━━━━━━━━━━━━━━━━━━━━━━━━━━━━━━━━\u001b[0m \u001b[32m389.6/389.6 kB\u001b[0m \u001b[31m28.3 MB/s\u001b[0m eta \u001b[36m0:00:00\u001b[0m\n",
            "\u001b[2K   \u001b[90m━━━━━━━━━━━━━━━━━━━━━━━━━━━━━━━━━━━━━━━━\u001b[0m \u001b[32m76.4/76.4 kB\u001b[0m \u001b[31m6.4 MB/s\u001b[0m eta \u001b[36m0:00:00\u001b[0m\n",
            "\u001b[2K   \u001b[90m━━━━━━━━━━━━━━━━━━━━━━━━━━━━━━━━━━━━━━━━\u001b[0m \u001b[32m76.4/76.4 kB\u001b[0m \u001b[31m6.0 MB/s\u001b[0m eta \u001b[36m0:00:00\u001b[0m\n",
            "\u001b[2K   \u001b[90m━━━━━━━━━━━━━━━━━━━━━━━━━━━━━━━━━━━━━━━━\u001b[0m \u001b[32m57.2/57.2 MB\u001b[0m \u001b[31m39.5 MB/s\u001b[0m eta \u001b[36m0:00:00\u001b[0m\n",
            "\u001b[2K   \u001b[90m━━━━━━━━━━━━━━━━━━━━━━━━━━━━━━━━━━━━━━━━\u001b[0m \u001b[32m320.2/320.2 kB\u001b[0m \u001b[31m23.9 MB/s\u001b[0m eta \u001b[36m0:00:00\u001b[0m\n",
            "\u001b[2K   \u001b[90m━━━━━━━━━━━━━━━━━━━━━━━━━━━━━━━━━━━━━━━━\u001b[0m \u001b[32m628.3/628.3 kB\u001b[0m \u001b[31m37.5 MB/s\u001b[0m eta \u001b[36m0:00:00\u001b[0m\n",
            "\u001b[2K   \u001b[90m━━━━━━━━━━━━━━━━━━━━━━━━━━━━━━━━━━━━━━━━\u001b[0m \u001b[32m2.4/2.4 MB\u001b[0m \u001b[31m76.5 MB/s\u001b[0m eta \u001b[36m0:00:00\u001b[0m\n",
            "\u001b[2K   \u001b[90m━━━━━━━━━━━━━━━━━━━━━━━━━━━━━━━━━━━━━━━━\u001b[0m \u001b[32m93.8/93.8 kB\u001b[0m \u001b[31m7.1 MB/s\u001b[0m eta \u001b[36m0:00:00\u001b[0m\n",
            "\u001b[2K   \u001b[90m━━━━━━━━━━━━━━━━━━━━━━━━━━━━━━━━━━━━━━━━\u001b[0m \u001b[32m278.6/278.6 kB\u001b[0m \u001b[31m22.5 MB/s\u001b[0m eta \u001b[36m0:00:00\u001b[0m\n",
            "\u001b[2K   \u001b[90m━━━━━━━━━━━━━━━━━━━━━━━━━━━━━━━━━━━━━━━━\u001b[0m \u001b[32m52.8/52.8 kB\u001b[0m \u001b[31m4.2 MB/s\u001b[0m eta \u001b[36m0:00:00\u001b[0m\n",
            "\u001b[2K   \u001b[90m━━━━━━━━━━━━━━━━━━━━━━━━━━━━━━━━━━━━━━━━\u001b[0m \u001b[32m7.8/7.8 MB\u001b[0m \u001b[31m94.7 MB/s\u001b[0m eta \u001b[36m0:00:00\u001b[0m\n",
            "\u001b[2K   \u001b[90m━━━━━━━━━━━━━━━━━━━━━━━━━━━━━━━━━━━━━━━━\u001b[0m \u001b[32m83.8/83.8 kB\u001b[0m \u001b[31m6.6 MB/s\u001b[0m eta \u001b[36m0:00:00\u001b[0m\n",
            "\u001b[2K   \u001b[90m━━━━━━━━━━━━━━━━━━━━━━━━━━━━━━━━━━━━━━━━\u001b[0m \u001b[32m65.9/65.9 kB\u001b[0m \u001b[31m5.0 MB/s\u001b[0m eta \u001b[36m0:00:00\u001b[0m\n",
            "\u001b[2K   \u001b[90m━━━━━━━━━━━━━━━━━━━━━━━━━━━━━━━━━━━━━━━━\u001b[0m \u001b[32m22.4/22.4 MB\u001b[0m \u001b[31m77.3 MB/s\u001b[0m eta \u001b[36m0:00:00\u001b[0m\n",
            "\u001b[2K   \u001b[90m━━━━━━━━━━━━━━━━━━━━━━━━━━━━━━━━━━━━━━━━\u001b[0m \u001b[32m2.9/2.9 MB\u001b[0m \u001b[31m71.3 MB/s\u001b[0m eta \u001b[36m0:00:00\u001b[0m\n",
            "\u001b[2K   \u001b[90m━━━━━━━━━━━━━━━━━━━━━━━━━━━━━━━━━━━━━━━━\u001b[0m \u001b[32m94.8/94.8 kB\u001b[0m \u001b[31m7.2 MB/s\u001b[0m eta \u001b[36m0:00:00\u001b[0m\n",
            "\u001b[2K   \u001b[90m━━━━━━━━━━━━━━━━━━━━━━━━━━━━━━━━━━━━━━━━\u001b[0m \u001b[32m150.7/150.7 kB\u001b[0m \u001b[31m11.3 MB/s\u001b[0m eta \u001b[36m0:00:00\u001b[0m\n",
            "\u001b[2K   \u001b[90m━━━━━━━━━━━━━━━━━━━━━━━━━━━━━━━━━━━━━━━━\u001b[0m \u001b[32m679.1/679.1 kB\u001b[0m \u001b[31m42.9 MB/s\u001b[0m eta \u001b[36m0:00:00\u001b[0m\n",
            "\u001b[2K   \u001b[90m━━━━━━━━━━━━━━━━━━━━━━━━━━━━━━━━━━━━━━━━\u001b[0m \u001b[32m1.9/1.9 MB\u001b[0m \u001b[31m69.4 MB/s\u001b[0m eta \u001b[36m0:00:00\u001b[0m\n",
            "\u001b[2K   \u001b[90m━━━━━━━━━━━━━━━━━━━━━━━━━━━━━━━━━━━━━━━━\u001b[0m \u001b[32m1.6/1.6 MB\u001b[0m \u001b[31m66.3 MB/s\u001b[0m eta \u001b[36m0:00:00\u001b[0m\n",
            "\u001b[2K   \u001b[90m━━━━━━━━━━━━━━━━━━━━━━━━━━━━━━━━━━━━━━━━\u001b[0m \u001b[32m1.2/1.2 MB\u001b[0m \u001b[31m58.1 MB/s\u001b[0m eta \u001b[36m0:00:00\u001b[0m\n",
            "\u001b[2K   \u001b[90m━━━━━━━━━━━━━━━━━━━━━━━━━━━━━━━━━━━━━━━━\u001b[0m \u001b[32m42.1/42.1 kB\u001b[0m \u001b[31m2.9 MB/s\u001b[0m eta \u001b[36m0:00:00\u001b[0m\n",
            "\u001b[2K   \u001b[90m━━━━━━━━━━━━━━━━━━━━━━━━━━━━━━━━━━━━━━━━\u001b[0m \u001b[32m93.2/93.2 kB\u001b[0m \u001b[31m7.5 MB/s\u001b[0m eta \u001b[36m0:00:00\u001b[0m\n",
            "\u001b[2K   \u001b[90m━━━━━━━━━━━━━━━━━━━━━━━━━━━━━━━━━━━━━━━━\u001b[0m \u001b[32m211.1/211.1 kB\u001b[0m \u001b[31m15.5 MB/s\u001b[0m eta \u001b[36m0:00:00\u001b[0m\n",
            "\u001b[2K   \u001b[90m━━━━━━━━━━━━━━━━━━━━━━━━━━━━━━━━━━━━━━━━\u001b[0m \u001b[32m13.3/13.3 MB\u001b[0m \u001b[31m88.1 MB/s\u001b[0m eta \u001b[36m0:00:00\u001b[0m\n",
            "\u001b[2K   \u001b[90m━━━━━━━━━━━━━━━━━━━━━━━━━━━━━━━━━━━━━━━━\u001b[0m \u001b[32m52.5/52.5 kB\u001b[0m \u001b[31m4.0 MB/s\u001b[0m eta \u001b[36m0:00:00\u001b[0m\n",
            "\u001b[2K   \u001b[90m━━━━━━━━━━━━━━━━━━━━━━━━━━━━━━━━━━━━━━━━\u001b[0m \u001b[32m149.7/149.7 kB\u001b[0m \u001b[31m11.6 MB/s\u001b[0m eta \u001b[36m0:00:00\u001b[0m\n",
            "\u001b[2K   \u001b[90m━━━━━━━━━━━━━━━━━━━━━━━━━━━━━━━━━━━━━━━━\u001b[0m \u001b[32m64.0/64.0 kB\u001b[0m \u001b[31m4.7 MB/s\u001b[0m eta \u001b[36m0:00:00\u001b[0m\n",
            "\u001b[2K   \u001b[90m━━━━━━━━━━━━━━━━━━━━━━━━━━━━━━━━━━━━━━━━\u001b[0m \u001b[32m110.5/110.5 kB\u001b[0m \u001b[31m8.8 MB/s\u001b[0m eta \u001b[36m0:00:00\u001b[0m\n",
            "\u001b[2K   \u001b[90m━━━━━━━━━━━━━━━━━━━━━━━━━━━━━━━━━━━━━━━━\u001b[0m \u001b[32m4.5/4.5 MB\u001b[0m \u001b[31m103.2 MB/s\u001b[0m eta \u001b[36m0:00:00\u001b[0m\n",
            "\u001b[2K   \u001b[90m━━━━━━━━━━━━━━━━━━━━━━━━━━━━━━━━━━━━━━━━\u001b[0m \u001b[32m44.1/44.1 MB\u001b[0m \u001b[31m52.0 MB/s\u001b[0m eta \u001b[36m0:00:00\u001b[0m\n",
            "\u001b[2K   \u001b[90m━━━━━━━━━━━━━━━━━━━━━━━━━━━━━━━━━━━━━━━━\u001b[0m \u001b[32m54.8/54.8 kB\u001b[0m \u001b[31m4.1 MB/s\u001b[0m eta \u001b[36m0:00:00\u001b[0m\n",
            "\u001b[2K   \u001b[90m━━━━━━━━━━━━━━━━━━━━━━━━━━━━━━━━━━━━━━━━\u001b[0m \u001b[32m434.9/434.9 kB\u001b[0m \u001b[31m26.7 MB/s\u001b[0m eta \u001b[36m0:00:00\u001b[0m\n",
            "\u001b[2K   \u001b[90m━━━━━━━━━━━━━━━━━━━━━━━━━━━━━━━━━━━━━━━━\u001b[0m \u001b[32m2.1/2.1 MB\u001b[0m \u001b[31m64.7 MB/s\u001b[0m eta \u001b[36m0:00:00\u001b[0m\n",
            "\u001b[2K   \u001b[90m━━━━━━━━━━━━━━━━━━━━━━━━━━━━━━━━━━━━━━━━\u001b[0m \u001b[32m2.8/2.8 MB\u001b[0m \u001b[31m92.6 MB/s\u001b[0m eta \u001b[36m0:00:00\u001b[0m\n",
            "\u001b[2K   \u001b[90m━━━━━━━━━━━━━━━━━━━━━━━━━━━━━━━━━━━━━━━━\u001b[0m \u001b[32m646.7/646.7 kB\u001b[0m \u001b[31m39.7 MB/s\u001b[0m eta \u001b[36m0:00:00\u001b[0m\n",
            "\u001b[2K   \u001b[90m━━━━━━━━━━━━━━━━━━━━━━━━━━━━━━━━━━━━━━━━\u001b[0m \u001b[32m244.3/244.3 kB\u001b[0m \u001b[31m19.8 MB/s\u001b[0m eta \u001b[36m0:00:00\u001b[0m\n",
            "\u001b[2K   \u001b[90m━━━━━━━━━━━━━━━━━━━━━━━━━━━━━━━━━━━━━━━━\u001b[0m \u001b[32m472.8/472.8 kB\u001b[0m \u001b[31m34.5 MB/s\u001b[0m eta \u001b[36m0:00:00\u001b[0m\n",
            "\u001b[2K   \u001b[90m━━━━━━━━━━━━━━━━━━━━━━━━━━━━━━━━━━━━━━━━\u001b[0m \u001b[32m756.0/756.0 kB\u001b[0m \u001b[31m45.0 MB/s\u001b[0m eta \u001b[36m0:00:00\u001b[0m\n",
            "\u001b[2K   \u001b[90m━━━━━━━━━━━━━━━━━━━━━━━━━━━━━━━━━━━━━━━━\u001b[0m \u001b[32m3.1/3.1 MB\u001b[0m \u001b[31m87.5 MB/s\u001b[0m eta \u001b[36m0:00:00\u001b[0m\n",
            "\u001b[2K   \u001b[90m━━━━━━━━━━━━━━━━━━━━━━━━━━━━━━━━━━━━━━━━\u001b[0m \u001b[32m543.2/543.2 kB\u001b[0m \u001b[31m33.2 MB/s\u001b[0m eta \u001b[36m0:00:00\u001b[0m\n",
            "\u001b[2K   \u001b[90m━━━━━━━━━━━━━━━━━━━━━━━━━━━━━━━━━━━━━━━━\u001b[0m \u001b[32m11.2/11.2 MB\u001b[0m \u001b[31m105.2 MB/s\u001b[0m eta \u001b[36m0:00:00\u001b[0m\n",
            "\u001b[2K   \u001b[90m━━━━━━━━━━━━━━━━━━━━━━━━━━━━━━━━━━━━━━━━\u001b[0m \u001b[32m9.7/9.7 MB\u001b[0m \u001b[31m108.6 MB/s\u001b[0m eta \u001b[36m0:00:00\u001b[0m\n",
            "\u001b[2K   \u001b[90m━━━━━━━━━━━━━━━━━━━━━━━━━━━━━━━━━━━━━━━━\u001b[0m \u001b[32m73.2/73.2 kB\u001b[0m \u001b[31m6.0 MB/s\u001b[0m eta \u001b[36m0:00:00\u001b[0m\n",
            "\u001b[2K   \u001b[90m━━━━━━━━━━━━━━━━━━━━━━━━━━━━━━━━━━━━━━━━\u001b[0m \u001b[32m47.3/47.3 kB\u001b[0m \u001b[31m3.6 MB/s\u001b[0m eta \u001b[36m0:00:00\u001b[0m\n",
            "\u001b[2K   \u001b[90m━━━━━━━━━━━━━━━━━━━━━━━━━━━━━━━━━━━━━━━━\u001b[0m \u001b[32m63.8/63.8 kB\u001b[0m \u001b[31m5.1 MB/s\u001b[0m eta \u001b[36m0:00:00\u001b[0m\n",
            "\u001b[2K   \u001b[90m━━━━━━━━━━━━━━━━━━━━━━━━━━━━━━━━━━━━━━━━\u001b[0m \u001b[32m81.3/81.3 kB\u001b[0m \u001b[31m6.4 MB/s\u001b[0m eta \u001b[36m0:00:00\u001b[0m\n",
            "\u001b[2K   \u001b[90m━━━━━━━━━━━━━━━━━━━━━━━━━━━━━━━━━━━━━━━━\u001b[0m \u001b[32m442.1/442.1 kB\u001b[0m \u001b[31m28.3 MB/s\u001b[0m eta \u001b[36m0:00:00\u001b[0m\n",
            "\u001b[2K   \u001b[90m━━━━━━━━━━━━━━━━━━━━━━━━━━━━━━━━━━━━━━━━\u001b[0m \u001b[32m195.8/195.8 kB\u001b[0m \u001b[31m16.0 MB/s\u001b[0m eta \u001b[36m0:00:00\u001b[0m\n",
            "\u001b[2K   \u001b[90m━━━━━━━━━━━━━━━━━━━━━━━━━━━━━━━━━━━━━━━━\u001b[0m \u001b[32m298.0/298.0 kB\u001b[0m \u001b[31m22.8 MB/s\u001b[0m eta \u001b[36m0:00:00\u001b[0m\n",
            "\u001b[2K   \u001b[90m━━━━━━━━━━━━━━━━━━━━━━━━━━━━━━━━━━━━━━━━\u001b[0m \u001b[32m1.2/1.2 MB\u001b[0m \u001b[31m55.2 MB/s\u001b[0m eta \u001b[36m0:00:00\u001b[0m\n",
            "\u001b[2K   \u001b[90m━━━━━━━━━━━━━━━━━━━━━━━━━━━━━━━━━━━━━━━━\u001b[0m \u001b[32m104.9/104.9 kB\u001b[0m \u001b[31m8.5 MB/s\u001b[0m eta \u001b[36m0:00:00\u001b[0m\n",
            "\u001b[2K   \u001b[90m━━━━━━━━━━━━━━━━━━━━━━━━━━━━━━━━━━━━━━━━\u001b[0m \u001b[32m481.7/481.7 kB\u001b[0m \u001b[31m27.7 MB/s\u001b[0m eta \u001b[36m0:00:00\u001b[0m\n",
            "\u001b[2K   \u001b[90m━━━━━━━━━━━━━━━━━━━━━━━━━━━━━━━━━━━━━━━━\u001b[0m \u001b[32m3.8/3.8 MB\u001b[0m \u001b[31m104.3 MB/s\u001b[0m eta \u001b[36m0:00:00\u001b[0m\n",
            "\u001b[2K   \u001b[90m━━━━━━━━━━━━━━━━━━━━━━━━━━━━━━━━━━━━━━━━\u001b[0m \u001b[32m442.6/442.6 kB\u001b[0m \u001b[31m28.6 MB/s\u001b[0m eta \u001b[36m0:00:00\u001b[0m\n",
            "\u001b[2K   \u001b[90m━━━━━━━━━━━━━━━━━━━━━━━━━━━━━━━━━━━━━━━━\u001b[0m \u001b[32m168.2/168.2 kB\u001b[0m \u001b[31m14.2 MB/s\u001b[0m eta \u001b[36m0:00:00\u001b[0m\n",
            "\u001b[2K   \u001b[90m━━━━━━━━━━━━━━━━━━━━━━━━━━━━━━━━━━━━━━━━\u001b[0m \u001b[32m159.9/159.9 kB\u001b[0m \u001b[31m12.4 MB/s\u001b[0m eta \u001b[36m0:00:00\u001b[0m\n",
            "\u001b[2K   \u001b[90m━━━━━━━━━━━━━━━━━━━━━━━━━━━━━━━━━━━━━━━━\u001b[0m \u001b[32m46.0/46.0 kB\u001b[0m \u001b[31m3.1 MB/s\u001b[0m eta \u001b[36m0:00:00\u001b[0m\n",
            "\u001b[2K   \u001b[90m━━━━━━━━━━━━━━━━━━━━━━━━━━━━━━━━━━━━━━━━\u001b[0m \u001b[32m422.9/422.9 kB\u001b[0m \u001b[31m29.7 MB/s\u001b[0m eta \u001b[36m0:00:00\u001b[0m\n",
            "\u001b[2K   \u001b[90m━━━━━━━━━━━━━━━━━━━━━━━━━━━━━━━━━━━━━━━━\u001b[0m \u001b[32m912.2/912.2 kB\u001b[0m \u001b[31m55.4 MB/s\u001b[0m eta \u001b[36m0:00:00\u001b[0m\n",
            "\u001b[2K   \u001b[90m━━━━━━━━━━━━━━━━━━━━━━━━━━━━━━━━━━━━━━━━\u001b[0m \u001b[32m286.8/286.8 kB\u001b[0m \u001b[31m21.0 MB/s\u001b[0m eta \u001b[36m0:00:00\u001b[0m\n",
            "\u001b[2K   \u001b[90m━━━━━━━━━━━━━━━━━━━━━━━━━━━━━━━━━━━━━━━━\u001b[0m \u001b[32m86.8/86.8 kB\u001b[0m \u001b[31m6.7 MB/s\u001b[0m eta \u001b[36m0:00:00\u001b[0m\n",
            "\u001b[2K   \u001b[90m━━━━━━━━━━━━━━━━━━━━━━━━━━━━━━━━━━━━━━━━\u001b[0m \u001b[32m1.6/1.6 MB\u001b[0m \u001b[31m69.9 MB/s\u001b[0m eta \u001b[36m0:00:00\u001b[0m\n",
            "\u001b[2K   \u001b[90m━━━━━━━━━━━━━━━━━━━━━━━━━━━━━━━━━━━━━━━━\u001b[0m \u001b[32m49.5/49.5 kB\u001b[0m \u001b[31m3.8 MB/s\u001b[0m eta \u001b[36m0:00:00\u001b[0m\n",
            "\u001b[?25h  Building wheel for html2text (setup.py) ... \u001b[?25l\u001b[?25hdone\n",
            "  Building wheel for tinysegmenter (setup.py) ... \u001b[?25l\u001b[?25hdone\n",
            "  Building wheel for pypika (pyproject.toml) ... \u001b[?25l\u001b[?25hdone\n",
            "  Building wheel for spider-client (setup.py) ... \u001b[?25l\u001b[?25hdone\n",
            "  Building wheel for feedfinder2 (setup.py) ... \u001b[?25l\u001b[?25hdone\n",
            "  Building wheel for jieba3k (setup.py) ... \u001b[?25l\u001b[?25hdone\n",
            "  Building wheel for sgmllib3k (setup.py) ... \u001b[?25l\u001b[?25hdone\n"
          ]
        }
      ],
      "source": [
        "# If we're in colab, use userdata to get the OPENAI_API_KEY\n",
        "# In colab, you will need to restart the session after running this cell\n",
        "# or you will get a PIL error when doing LLM inference.\n",
        "import os\n",
        "from rich import print\n",
        "from pathlib import Path\n",
        "\n",
        "try:\n",
        "    from google.colab import userdata\n",
        "    print(\"Colab detected - setting up environment\")\n",
        "    os.environ[\"OPENAI_API_KEY\"] = userdata.get(\"OPENAI_API_KEY\")\n",
        "    %pip install -qqqq llama-index \\\n",
        "        \"openai==1.55.3\" \\\n",
        "        \"httpx==0.27.2\" \\\n",
        "        llama-index-readers-web \\\n",
        "        thefuzz \\\n",
        "        gradio \\\n",
        "        chromadb \\\n",
        "        llama-index-embeddings-huggingface \\\n",
        "        llama-index-vector-stores-chroma \\\n",
        "        llama-index-retrievers-bm25 \\\n",
        "        llama-index-llms-gemini \\\n",
        "        docling \\\n",
        "        llama-index-readers-docling \\\n",
        "        llama-index-node-parser-docling \\\n",
        "        llama-index-utils-workflow \\\n",
        "        llama-index-tools-yahoo-finance \\\n",
        "        llama-index-tools-code-interpreter\n",
        "\n",
        "except:\n",
        "    print(\"Not in colab - using local environment variables.\")\n",
        "    from dotenv import load_dotenv\n",
        "    load_dotenv(\"../.env\")\n"
      ]
    },
    {
      "cell_type": "code",
      "execution_count": 1,
      "metadata": {
        "id": "4NLFvzSBSknc",
        "outputId": "c340752d-3195-4dcc-b7d3-a44ac84310e8",
        "colab": {
          "base_uri": "https://localhost:8080/"
        }
      },
      "outputs": [
        {
          "output_type": "stream",
          "name": "stdout",
          "text": [
            "Colab detected - setting up environment\n",
            "PDF already exists at data/llama3.pdf\n"
          ]
        }
      ],
      "source": [
        "import os\n",
        "import requests\n",
        "\n",
        "try:\n",
        "    from google.colab import userdata\n",
        "    print(\"Colab detected - setting up environment\")\n",
        "    os.environ[\"OPENAI_API_KEY\"] = userdata.get(\"OPENAI_API_KEY\")\n",
        "except:\n",
        "    load_dotenv(\"../.env\")\n",
        "\n",
        "# Create data directory if it doesn't exist\n",
        "data_dir = \"data\"\n",
        "if not os.path.exists(data_dir):\n",
        "    os.makedirs(data_dir)\n",
        "\n",
        "# Download the PDF file\n",
        "llama3_url = \"https://arxiv.org/pdf/2407.21783\"\n",
        "# llama2_url = \"https://arxiv.org/pdf/2307.09288\"\n",
        "llama3_path = os.path.join(data_dir, \"llama3.pdf\")\n",
        "# llama2_path = os.path.join(data_dir, \"llama2.pdf\")\n",
        "\n",
        "if not os.path.exists(llama3_path):\n",
        "    response = requests.get(llama3_url)\n",
        "    with open(llama3_path, \"wb\") as f:\n",
        "        f.write(response.content)\n",
        "    print(f\"Downloaded PDF to {llama3_path}\")\n",
        "else:\n",
        "    print(f\"PDF already exists at {llama3_path}\")\n",
        "\n",
        "# if not os.path.exists(llama2_path):\n",
        "#     response = requests.get(llama2_url)\n",
        "#     with open(llama2_path, \"wb\") as f:\n",
        "#         f.write(response.content)\n",
        "#     print(f\"Downloaded PDF to {llama2_path}\")\n",
        "# else:\n",
        "#     print(f\"PDF already exists at {llama2_path}\")\n"
      ]
    },
    {
      "cell_type": "markdown",
      "metadata": {
        "id": "3gvSKvLoSknc"
      },
      "source": [
        "The first thing we need to do is to load the data.\n",
        "For general documents like PDFs, LlamaIndex provides a nice abstraction known as a `SimpleDirectoryReader` that can load data from a directory.\n",
        "In the cell below, we use it to load the data from the `data` directory."
      ]
    },
    {
      "cell_type": "code",
      "execution_count": 2,
      "metadata": {
        "id": "KVZAcaI6Sknc"
      },
      "outputs": [],
      "source": [
        "from llama_index.core.readers import SimpleDirectoryReader\n",
        "documents = SimpleDirectoryReader(data_dir).load_data()"
      ]
    },
    {
      "cell_type": "markdown",
      "metadata": {
        "id": "XkdP0hMeSknc"
      },
      "source": [
        "Let's take a look at the first document.\n",
        "Most prominently, we get the text of the document.\n",
        "By default, we also get a lot of useful information, like the page number file name, file path, type, size, etc.\n",
        "When we load lots of documents, this type of information becomes important to keep track of."
      ]
    },
    {
      "cell_type": "code",
      "execution_count": 3,
      "metadata": {
        "id": "SO4aJEekSknc",
        "outputId": "7e9aabe0-c69a-4e7b-fac4-2f63e5168cdf",
        "colab": {
          "base_uri": "https://localhost:8080/"
        }
      },
      "outputs": [
        {
          "output_type": "stream",
          "name": "stdout",
          "text": [
            "Doc ID: ce70be30-5c52-43e6-a180-5ed92b4085f2\n",
            "Text: The Llama 3 Herd of Models Llama Team, AI @ Meta 1 1A detailed\n",
            "contributor list can be found in the appendix of this paper. Modern\n",
            "artificial intelligence (AI) systems are powered by foundation models.\n",
            "This paper presents a new set of foundation models, called Llama 3. It\n",
            "is a herd of language models that natively support multilinguality,\n",
            "coding...\n"
          ]
        }
      ],
      "source": [
        "print(documents[0])"
      ]
    },
    {
      "cell_type": "code",
      "source": [
        "documents[0].metadata"
      ],
      "metadata": {
        "id": "T8BETNCk-s6a",
        "outputId": "46657376-7bf0-4a05-fe22-387c5f5afd8a",
        "colab": {
          "base_uri": "https://localhost:8080/"
        }
      },
      "execution_count": 4,
      "outputs": [
        {
          "output_type": "execute_result",
          "data": {
            "text/plain": [
              "{'page_label': '1',\n",
              " 'file_name': 'llama3.pdf',\n",
              " 'file_path': '/content/data/llama3.pdf',\n",
              " 'file_type': 'application/pdf',\n",
              " 'file_size': 9833173,\n",
              " 'creation_date': '2024-12-07',\n",
              " 'last_modified_date': '2024-12-07'}"
            ]
          },
          "metadata": {},
          "execution_count": 4
        }
      ]
    },
    {
      "cell_type": "markdown",
      "metadata": {
        "id": "bBh7G_awSknc"
      },
      "source": [
        "Now that we've loaded the data, we need to vectorize it.\n",
        "We will use a combination of an embedding model and a vector database to store the vectors.\n",
        "In the cell below, we use a HuggingFace embedding model to embed the documents.\n",
        "We also use torch to determine the device to use for the embedding model (`mps` for Mac GPUs, `cuda` for Nvidia GPUs, and `cpu` otherwise)."
      ]
    },
    {
      "cell_type": "code",
      "execution_count": 5,
      "metadata": {
        "id": "9gigBaqxSknc",
        "outputId": "c596a08a-42c7-49f6-8018-9ecd0be2b7e5",
        "colab": {
          "base_uri": "https://localhost:8080/",
          "height": 386,
          "referenced_widgets": [
            "dab0b7fb959a4aeaa99c61111403ebb4",
            "cf24fb8b46d84aecba3915d274647ab0",
            "9f3afdd3e0a54406a3b3e6ed8ed13682",
            "47f2e8908db846b7bd0e49cdb1a555c7",
            "0c34ebf152394b07bdb6e7697f0bf362",
            "db2298fe19d24e69a1f62e2dff2fc51e",
            "4a2bde334f12483ca8ae95474c9f1c10",
            "32ee8aee5b8040d8915d6eb9e1d9deed",
            "12709dba67fd4bcd98c62abaa9278a0e",
            "69a000ad4b9c4544b7a779a18c4848f6",
            "bb3047e583d649c2a47c950d254ff4be",
            "ce010d2a23f04fae9de3a95ab73e0d5d",
            "b8bc4e77c7654e5b8af7f90a3bd299b7",
            "3d4d8504f49847b7b75c897318913327",
            "c70ca22358c9488fb836c4e629ccc48d",
            "b766da51a21f4fe89211d0c916daf720",
            "83bb3ff280ac4f0589e380fcfcaa78a7",
            "48cf9ee8ba4c4a6a9ca544c95e7dce5a",
            "dacf062e0d3f45a283310a8424e61083",
            "3d884aecf45c422db9099dbb02f21051",
            "09c7e7badf2f4493b51824f47cd2ddd3",
            "2a957a72d1aa4647bf1ab9115ec9e9f3",
            "fa48ffcba1af4032a31f9d50553e38b2",
            "c4d58e6e9d9a42f08433009c26f5d4a7",
            "695411d5d57248d98bd52a67b132bc11",
            "76b8ea509cdd44c4a97a99a5feb78cc9",
            "9d869c22711842bf9dc336dec7f6fb6e",
            "377a564ca9884ad7993b49bf35d4e8f3",
            "785498cb13dc4e13903bcbee7120e726",
            "06dd93e033e54ed1b8b9fa47d2d11974",
            "9e09420e364d4b62a92085ebf373d98a",
            "d1bfa86909a24158adcfe82790a8c6e5",
            "b5d3e670fa84423e807a23b848bd305a",
            "2236f16a68cd4b65bc4c7c2954655f22",
            "0c76ee3d268a4e6e80d799be1b3db7ad",
            "d25a5f23dc84451eba72162d31fdcf74",
            "4cf37ba3be394ab79531b60d0342f582",
            "254dc523057e4af8ac8ee6babe86018b",
            "166f2a44ca444d609a87cd387e6e8d87",
            "6edce9a03bfb42fca34c0b89d647375f",
            "cd089b4a03944525a48982cecab153f4",
            "61861d40deed4d91870ddd22c5593f9d",
            "e335711638e04a559bd8233b37762151",
            "95576d7264ee465e92fbd65a7efe3795",
            "33c6c53c6e7a4cd4b02467e671aa0e54",
            "fe071943034840d2bd359c6298e67258",
            "1d0ed2c55d0f4d789b41a8ffa52c32c3",
            "2410174029d047bab184f97048c8b1c8",
            "33070219b6f543968419cfc5c8709986",
            "7cd7574af3ee44baa01d5e0ba55f0658",
            "f8d646b505b44d2985c8a433267f63e7",
            "3d89a06e756d46859ca49515a9b8032f",
            "b5a889411b354a658709fee2d58e5aa0",
            "f2fe99ab9f034fec9c6fed706a26c6cb",
            "3b0242398ce34ffc8227daba249842b3",
            "1a2d70e8b0ea4dc585eeb8fd1302fb3f",
            "689bebfc993f42329c9719b1c12c70a8",
            "464a2812f13c4576bcb681e0fb646a94",
            "b5e0e430d84c477884cba57e7c0c604e",
            "f9144cf8a55343118fff4ac6906167d3",
            "33aad15b74e94fa589713286df7714a1",
            "9a46d3ec66f847c68d8e85dfec1e3ee9",
            "2e6456454e9a4143889525514b3ca740",
            "ef94b9545d054231b0c844bc3195ac08",
            "1d061239827942478aac240ac5e1f255",
            "9d3bee68790444029936363a7762679c",
            "1cb7b7a5422d45dbb131837e3848fff9",
            "c8b365b5585e4829b3cfc99ff92d2a44",
            "55461a732e0f4bc489fe46deb4ee2392",
            "d05f2de8b2784ff6aac7726fcd884eca",
            "223433c2f72e4e7a8d43b82863fb3b1c",
            "4ecb4acf7b8e4ac7bdb673a60691562b",
            "129626841f944e36901048d59c70d0fe",
            "6a67f95d965540efb25f5159e90f7d1d",
            "7d361b0fb08b4e739ee107ef6cf2c3fa",
            "9fb2f8e445dc427bbb07500aaae46916",
            "7fa308a23e094cfea8a1a3005228f654",
            "25117cbe3f1343238ea3f823ba603637",
            "631acfc9f7694ce686c47fcce30e491a",
            "bfbea655d42349d0b2f24cb322cbafb3",
            "6c45411f86104ec98075d9a293c39456",
            "a9c9d2fbde5b4a31b8379ad10f22942f",
            "226c44a3094f4751bfa1d40c20889101",
            "0d76f604dae24490a7a98f739e4bd136",
            "199568986f834e0bbad36f4a79c97fcb",
            "b614d85a364e4e62acf87fbccfca8f7d",
            "48dadd0c8b3e407e861eb7145a4a245a",
            "99d9abb9943f41ee9be9a4dd772f1d17",
            "7a4a2841470f40e49658aaaf8c1620f5",
            "1fbc5090de354ce386daf3b18931a10c",
            "b5e2f5417cc84e16809fd4fb85219498",
            "df955e509e8a4ef983cb6fbe794462ce",
            "f86df43f829345aa871d0b4c050d429f",
            "0923194884774c299543204989b018e4",
            "e8b3a0270df845849de4cc9e33c575dd",
            "d0974f51a5694ecd8f801916458eedf6",
            "53ee4868a0c14f56a1546572fc687153",
            "017b9e8be05447a6bea02b398a76759c",
            "8334dc0a9bd045b8acca7f3d6fac3ad9",
            "5cfbb4ba34e6435e98296fd2a124bdf3",
            "57ab39b493c1412e936a53a9ac02370f",
            "2207b89380c54c1a9dc65caef1332e1a",
            "1573a03fc6804cf19f70662653292bde",
            "d732f36f1ddc48a69462a0bffa24cdf5",
            "1cfa046d8f3c4d148eb095505050ad98",
            "700adea965a04a4cb6cf7f3db1b46e09",
            "fbba6efccb184febb7f6471d01e68b88",
            "58fdfbe722ea406092aa572f40995648",
            "c2ba572d3b75430d98315512054ac995",
            "e14516ef1c2a48a290917c392b5b3c03",
            "0da6246d560f42f4afdb7e1a0aa8c885",
            "58ae1e5cec3e48ff84ce3282974e3cb9",
            "1f9e1063a9254efc9089ba84a3b72bcf",
            "0c797abddd9e4c14b5cab626b04f47ad",
            "2e02aad68aac477e9e0c8afcac114973",
            "b1294c9387b04c5aaf878470d620cf25",
            "e3449824590b41b8b40bfc58a2f5e795",
            "2f74baeed87e4c6ab438c3a3ca3d9855",
            "e2a28757a3094d93871ef865f98ac889",
            "752a170b6cba4cd3b5dbff5dcb31d41b",
            "5b3093e7ea1b40daa98ffb292e871bf1"
          ]
        }
      },
      "outputs": [
        {
          "output_type": "stream",
          "name": "stdout",
          "text": [
            "Using cuda\n"
          ]
        },
        {
          "output_type": "display_data",
          "data": {
            "text/plain": [
              "modules.json:   0%|          | 0.00/349 [00:00<?, ?B/s]"
            ],
            "application/vnd.jupyter.widget-view+json": {
              "version_major": 2,
              "version_minor": 0,
              "model_id": "dab0b7fb959a4aeaa99c61111403ebb4"
            }
          },
          "metadata": {}
        },
        {
          "output_type": "display_data",
          "data": {
            "text/plain": [
              "config_sentence_transformers.json:   0%|          | 0.00/124 [00:00<?, ?B/s]"
            ],
            "application/vnd.jupyter.widget-view+json": {
              "version_major": 2,
              "version_minor": 0,
              "model_id": "ce010d2a23f04fae9de3a95ab73e0d5d"
            }
          },
          "metadata": {}
        },
        {
          "output_type": "display_data",
          "data": {
            "text/plain": [
              "README.md:   0%|          | 0.00/94.6k [00:00<?, ?B/s]"
            ],
            "application/vnd.jupyter.widget-view+json": {
              "version_major": 2,
              "version_minor": 0,
              "model_id": "fa48ffcba1af4032a31f9d50553e38b2"
            }
          },
          "metadata": {}
        },
        {
          "output_type": "display_data",
          "data": {
            "text/plain": [
              "sentence_bert_config.json:   0%|          | 0.00/52.0 [00:00<?, ?B/s]"
            ],
            "application/vnd.jupyter.widget-view+json": {
              "version_major": 2,
              "version_minor": 0,
              "model_id": "2236f16a68cd4b65bc4c7c2954655f22"
            }
          },
          "metadata": {}
        },
        {
          "output_type": "display_data",
          "data": {
            "text/plain": [
              "config.json:   0%|          | 0.00/779 [00:00<?, ?B/s]"
            ],
            "application/vnd.jupyter.widget-view+json": {
              "version_major": 2,
              "version_minor": 0,
              "model_id": "33c6c53c6e7a4cd4b02467e671aa0e54"
            }
          },
          "metadata": {}
        },
        {
          "output_type": "display_data",
          "data": {
            "text/plain": [
              "model.safetensors:   0%|          | 0.00/1.34G [00:00<?, ?B/s]"
            ],
            "application/vnd.jupyter.widget-view+json": {
              "version_major": 2,
              "version_minor": 0,
              "model_id": "1a2d70e8b0ea4dc585eeb8fd1302fb3f"
            }
          },
          "metadata": {}
        },
        {
          "output_type": "display_data",
          "data": {
            "text/plain": [
              "tokenizer_config.json:   0%|          | 0.00/366 [00:00<?, ?B/s]"
            ],
            "application/vnd.jupyter.widget-view+json": {
              "version_major": 2,
              "version_minor": 0,
              "model_id": "1cb7b7a5422d45dbb131837e3848fff9"
            }
          },
          "metadata": {}
        },
        {
          "output_type": "display_data",
          "data": {
            "text/plain": [
              "vocab.txt:   0%|          | 0.00/232k [00:00<?, ?B/s]"
            ],
            "application/vnd.jupyter.widget-view+json": {
              "version_major": 2,
              "version_minor": 0,
              "model_id": "25117cbe3f1343238ea3f823ba603637"
            }
          },
          "metadata": {}
        },
        {
          "output_type": "display_data",
          "data": {
            "text/plain": [
              "tokenizer.json:   0%|          | 0.00/711k [00:00<?, ?B/s]"
            ],
            "application/vnd.jupyter.widget-view+json": {
              "version_major": 2,
              "version_minor": 0,
              "model_id": "7a4a2841470f40e49658aaaf8c1620f5"
            }
          },
          "metadata": {}
        },
        {
          "output_type": "display_data",
          "data": {
            "text/plain": [
              "special_tokens_map.json:   0%|          | 0.00/125 [00:00<?, ?B/s]"
            ],
            "application/vnd.jupyter.widget-view+json": {
              "version_major": 2,
              "version_minor": 0,
              "model_id": "5cfbb4ba34e6435e98296fd2a124bdf3"
            }
          },
          "metadata": {}
        },
        {
          "output_type": "display_data",
          "data": {
            "text/plain": [
              "1_Pooling/config.json:   0%|          | 0.00/191 [00:00<?, ?B/s]"
            ],
            "application/vnd.jupyter.widget-view+json": {
              "version_major": 2,
              "version_minor": 0,
              "model_id": "0da6246d560f42f4afdb7e1a0aa8c885"
            }
          },
          "metadata": {}
        }
      ],
      "source": [
        "from llama_index.core import VectorStoreIndex\n",
        "from llama_index.embeddings.huggingface import HuggingFaceEmbedding\n",
        "from torch.backends.mps import is_available as is_mps_available\n",
        "from torch.cuda import is_available as is_cuda_available\n",
        "\n",
        "if is_mps_available():\n",
        "    device = \"mps\"\n",
        "elif is_cuda_available():\n",
        "    device = \"cuda\"\n",
        "else:\n",
        "    device = \"cpu\"\n",
        "print(f\"Using {device}\")\n",
        "embed_model = HuggingFaceEmbedding(model_name=\"BAAI/bge-large-en-v1.5\", device=device)\n",
        "index = VectorStoreIndex.from_documents(documents, embed_model=embed_model)"
      ]
    },
    {
      "cell_type": "markdown",
      "metadata": {
        "id": "6EsKqIzLSknd"
      },
      "source": [
        "Finally, let's set up our RAG query engine.\n",
        "If we want to perform simple question-answering, we can use the `as_query_engine` method.\n",
        "If we want to perform chat with history, we can use the `as_chat_engine` method.\n",
        "We can see both below 👇.\n"
      ]
    },
    {
      "cell_type": "code",
      "execution_count": 6,
      "metadata": {
        "id": "E92mhz3JSknd"
      },
      "outputs": [],
      "source": [
        "from llama_index.llms.openai import OpenAI\n",
        "# from llama_index.core import Settings\n",
        "llm = OpenAI(model=\"gpt-4o-mini\")\n",
        "# Settings.llm = llm # set gpt-4o-mini as the default llm\n",
        "\n",
        "query_engine = index.as_query_engine(llm=llm)\n",
        "chat_engine = index.as_chat_engine(llm=llm)"
      ]
    },
    {
      "cell_type": "markdown",
      "metadata": {
        "id": "pa2KA1HpSknd"
      },
      "source": [
        "Let's see how the query enine works.\n",
        "We start by passing it a question, then it uses the retriever to find the most relevant documents.\n",
        "Finally, it uses the LLM to answer the question."
      ]
    },
    {
      "cell_type": "code",
      "execution_count": 7,
      "metadata": {
        "id": "h2xkghnLSknd"
      },
      "outputs": [],
      "source": [
        "response = query_engine.query(\"How many new Llama models models are mentioned in the llama3 paper?\")"
      ]
    },
    {
      "cell_type": "markdown",
      "metadata": {
        "id": "-PILhFaISknd"
      },
      "source": [
        "Below we see the response text.\n",
        "But there's also some additional information that we can access, including the source nodes.\n",
        "These are the nodes that the retriever used to answer the question.\n",
        "We can see that the retriever found several nodes that are relevant to the question, then the LLM used at least one of them to answer the question."
      ]
    },
    {
      "cell_type": "code",
      "execution_count": 8,
      "metadata": {
        "id": "TVgOR5n4Sknd",
        "outputId": "d5237b9d-eaec-4f7c-9396-5df3e7c3e992",
        "colab": {
          "base_uri": "https://localhost:8080/"
        }
      },
      "outputs": [
        {
          "output_type": "stream",
          "name": "stdout",
          "text": [
            "The paper mentions three new Llama models: Llama 3 with 8B, 70B, and 405B parameters.\n"
          ]
        }
      ],
      "source": [
        "print(response.response)"
      ]
    },
    {
      "cell_type": "markdown",
      "metadata": {
        "id": "jV5owP0gSknd"
      },
      "source": [
        "Taking a look at the first source node, we can see that it is a node that contains part of the document that is relevant to the question.\n",
        "It also contains the `score`, which is the similarity between the question and the node.\n"
      ]
    },
    {
      "cell_type": "code",
      "execution_count": 9,
      "metadata": {
        "id": "5ltNvoLTSknd",
        "outputId": "7aeb5442-0dcb-4282-da80-9c98807d8bd6",
        "colab": {
          "base_uri": "https://localhost:8080/"
        }
      },
      "outputs": [
        {
          "output_type": "stream",
          "name": "stdout",
          "text": [
            "Node ID: 87d3a95c-0a62-4733-a1ad-cdfbf2456e29\n",
            "Text: The Llama 3 Herd of Models Llama Team, AI @ Meta 1 1A detailed\n",
            "contributor list can be found in the appendix of this paper. Modern\n",
            "artificial intelligence (AI) systems are powered by foundation models.\n",
            "This paper presents a new set of foundation models, called Llama 3. It\n",
            "is a herd of language models that natively support multilinguality,\n",
            "coding...\n",
            "Score:  0.773\n",
            "\n"
          ]
        }
      ],
      "source": [
        "print(response.source_nodes[0])"
      ]
    },
    {
      "cell_type": "code",
      "source": [
        "len(response.source_nodes)"
      ],
      "metadata": {
        "id": "b02JGPpNEvNf",
        "outputId": "a0279f28-afda-49e3-bf7a-9c01363bb650",
        "colab": {
          "base_uri": "https://localhost:8080/"
        }
      },
      "execution_count": 10,
      "outputs": [
        {
          "output_type": "execute_result",
          "data": {
            "text/plain": [
              "2"
            ]
          },
          "metadata": {},
          "execution_count": 10
        }
      ]
    },
    {
      "cell_type": "code",
      "source": [
        "print(query_engine.get_prompts())"
      ],
      "metadata": {
        "id": "f9NmqniQEzED",
        "outputId": "c3d58070-ead0-4163-847b-ce89f8840cae",
        "colab": {
          "base_uri": "https://localhost:8080/"
        }
      },
      "execution_count": 11,
      "outputs": [
        {
          "output_type": "stream",
          "name": "stdout",
          "text": [
            "{'response_synthesizer:text_qa_template': SelectorPromptTemplate(metadata={'prompt_type': <PromptType.QUESTION_ANSWER: 'text_qa'>}, template_vars=['context_str', 'query_str'], kwargs={}, output_parser=None, template_var_mappings={}, function_mappings={}, default_template=PromptTemplate(metadata={'prompt_type': <PromptType.QUESTION_ANSWER: 'text_qa'>}, template_vars=['context_str', 'query_str'], kwargs={}, output_parser=None, template_var_mappings=None, function_mappings=None, template='Context information is below.\\n---------------------\\n{context_str}\\n---------------------\\nGiven the context information and not prior knowledge, answer the query.\\nQuery: {query_str}\\nAnswer: '), conditionals=[(<function is_chat_model at 0x784a45040790>, ChatPromptTemplate(metadata={'prompt_type': <PromptType.CUSTOM: 'custom'>}, template_vars=['context_str', 'query_str'], kwargs={}, output_parser=None, template_var_mappings=None, function_mappings=None, message_templates=[ChatMessage(role=<MessageRole.SYSTEM: 'system'>, additional_kwargs={}, blocks=[TextBlock(block_type='text', text=\"You are an expert Q&A system that is trusted around the world.\\nAlways answer the query using the provided context information, and not prior knowledge.\\nSome rules to follow:\\n1. Never directly reference the given context in your answer.\\n2. Avoid statements like 'Based on the context, ...' or 'The context information ...' or anything along those lines.\")]), ChatMessage(role=<MessageRole.USER: 'user'>, additional_kwargs={}, blocks=[TextBlock(block_type='text', text='Context information is below.\\n---------------------\\n{context_str}\\n---------------------\\nGiven the context information and not prior knowledge, answer the query.\\nQuery: {query_str}\\nAnswer: ')])]))]), 'response_synthesizer:refine_template': SelectorPromptTemplate(metadata={'prompt_type': <PromptType.REFINE: 'refine'>}, template_vars=['query_str', 'existing_answer', 'context_msg'], kwargs={}, output_parser=None, template_var_mappings={}, function_mappings={}, default_template=PromptTemplate(metadata={'prompt_type': <PromptType.REFINE: 'refine'>}, template_vars=['query_str', 'existing_answer', 'context_msg'], kwargs={}, output_parser=None, template_var_mappings=None, function_mappings=None, template=\"The original query is as follows: {query_str}\\nWe have provided an existing answer: {existing_answer}\\nWe have the opportunity to refine the existing answer (only if needed) with some more context below.\\n------------\\n{context_msg}\\n------------\\nGiven the new context, refine the original answer to better answer the query. If the context isn't useful, return the original answer.\\nRefined Answer: \"), conditionals=[(<function is_chat_model at 0x784a45040790>, ChatPromptTemplate(metadata={'prompt_type': <PromptType.CUSTOM: 'custom'>}, template_vars=['context_msg', 'query_str', 'existing_answer'], kwargs={}, output_parser=None, template_var_mappings=None, function_mappings=None, message_templates=[ChatMessage(role=<MessageRole.USER: 'user'>, additional_kwargs={}, blocks=[TextBlock(block_type='text', text=\"You are an expert Q&A system that strictly operates in two modes when refining existing answers:\\n1. **Rewrite** an original answer using the new context.\\n2. **Repeat** the original answer if the new context isn't useful.\\nNever reference the original answer or context directly in your answer.\\nWhen in doubt, just repeat the original answer.\\nNew Context: {context_msg}\\nQuery: {query_str}\\nOriginal Answer: {existing_answer}\\nNew Answer: \")])]))])}\n"
          ]
        }
      ]
    },
    {
      "cell_type": "markdown",
      "metadata": {
        "id": "7hwtCT5xSknd"
      },
      "source": [
        "Now let's see if our chat enigine comes up with the same answer."
      ]
    },
    {
      "cell_type": "code",
      "execution_count": 12,
      "metadata": {
        "id": "Z-r2RDmSSknd",
        "outputId": "96a92f4f-0cce-47a9-ea44-9d85f156eabe",
        "colab": {
          "base_uri": "https://localhost:8080/"
        }
      },
      "outputs": [
        {
          "output_type": "stream",
          "name": "stdout",
          "text": [
            "The Llama 3 paper mentions three new Llama models: Llama 3 8B, Llama 3 70B, and Llama 3 405B.\n",
            "Node ID: d5ae3d00-758c-4bb9-bfc8-b955a25256fc\n",
            "Text: Finetuned Multilingual Long context Tool use Release Llama 3 8B\n",
            "✗ ✗ 1 ✗ ✗ April 2024 Llama 3 8B Instruct ✓ ✗ ✗ ✗ April 2024 Llama 3\n",
            "70B ✗ ✗ 1 ✗ ✗ April 2024 Llama 3 70B Instruct ✓ ✗ ✗ ✗ April 2024 Llama\n",
            "3.1 8B ✗ ✓ ✓ ✗ July 2024 Llama 3.1 8B Instruct ✓ ✓ ✓ ✓ July 2024 Llama\n",
            "3.1 70B ✗ ✓ ✓ ✗ July 2024 Llama 3.1 70B Instruct ✓ ✓ ✓ ✓ July 2024\n",
            "Llama ...\n",
            "Score:  0.781\n",
            "\n"
          ]
        }
      ],
      "source": [
        "chat_response = chat_engine.chat(\"How many new Llama models models are mentioned in the llama3 paper?\")\n",
        "print(chat_response.response)\n",
        "print(chat_response.source_nodes[0])"
      ]
    },
    {
      "cell_type": "code",
      "source": [
        "print(chat_engine.memory)"
      ],
      "metadata": {
        "id": "qNMFRovkFntF",
        "outputId": "a248adb2-1602-4bd7-d16e-f598b84fdfca",
        "colab": {
          "base_uri": "https://localhost:8080/"
        }
      },
      "execution_count": 13,
      "outputs": [
        {
          "output_type": "stream",
          "name": "stdout",
          "text": [
            "chat_store=SimpleChatStore(store={'chat_history': [ChatMessage(role=<MessageRole.USER: 'user'>, additional_kwargs={}, blocks=[TextBlock(block_type='text', text='How many new Llama models models are mentioned in the llama3 paper?')]), ChatMessage(role=<MessageRole.ASSISTANT: 'assistant'>, additional_kwargs={'tool_calls': [ChatCompletionMessageToolCall(id='call_xGbsrSNsV4svA0AIcTRSH1NN', function=Function(arguments='{\"input\":\"How many new Llama models are mentioned in the Llama3 paper?\"}', name='query_engine_tool'), type='function')]}, blocks=[]), ChatMessage(role=<MessageRole.TOOL: 'tool'>, additional_kwargs={'name': 'query_engine_tool', 'tool_call_id': 'call_xGbsrSNsV4svA0AIcTRSH1NN'}, blocks=[TextBlock(block_type='text', text='The Llama 3 paper mentions three new Llama models: Llama 3 8B, Llama 3 70B, and Llama 3 405B.')]), ChatMessage(role=<MessageRole.ASSISTANT: 'assistant'>, additional_kwargs={}, blocks=[TextBlock(block_type='text', text='The Llama 3 paper mentions three new Llama models: Llama 3 8B, Llama 3 70B, and Llama 3 405B.')])]}) chat_store_key='chat_history' token_limit=96000 tokenizer_fn=functools.partial(<bound method Encoding.encode of <Encoding 'cl100k_base'>>, allowed_special='all')\n"
          ]
        }
      ]
    },
    {
      "cell_type": "markdown",
      "metadata": {
        "id": "F2DDP6MVSknd"
      },
      "source": [
        "# Data ingestion\n",
        "\n",
        "Data often comes in many different formats.\n",
        "It may come in the form of a PDF, a web page, a code file, etc.\n",
        "We may need some specific processing pipelines to extract the text from these documents, split them correctly, and vectorize them.\n",
        "\n",
        "Luckily, LlamaIndex (and other libraries) provide lots of built-in and add-on tools to help you ingest almost any data type.\n",
        "Instead of loading a PDF, let's load a web page instead.\n",
        "We will use one of the classes provided by [`llama-index-readers-web`](https://llamahub.ai/l/readers/llama-index-readers-web?from=readers) to load data from a web page.\n",
        "\n",
        "In this section, we will:\n",
        "- Load a web page as Markdown\n",
        "- Split it into chunks following the structured format of the Markdown\n",
        "- Embed the chunks\n",
        "- Store the chunks in a vector database\n",
        "- Create a query engine from the vector database and use it to answer a question\n"
      ]
    },
    {
      "cell_type": "code",
      "execution_count": 14,
      "metadata": {
        "id": "Ki0pXIkESknd"
      },
      "outputs": [],
      "source": [
        "from llama_index.readers.web import SimpleWebPageReader\n",
        "from llama_index.core.node_parser import MarkdownNodeParser\n",
        "from llama_index.core.ingestion import IngestionPipeline\n",
        "from llama_index.vector_stores.chroma import ChromaVectorStore\n",
        "import chromadb\n"
      ]
    },
    {
      "cell_type": "code",
      "execution_count": 15,
      "metadata": {
        "id": "4--fMgbISknd"
      },
      "outputs": [],
      "source": [
        "web_docs = SimpleWebPageReader(html_to_text=True).load_data(['https://en.wikipedia.org/wiki/Wikipedia'])"
      ]
    },
    {
      "cell_type": "code",
      "execution_count": 18,
      "metadata": {
        "id": "eOyCH114Sknd"
      },
      "outputs": [],
      "source": [
        "wikipedia_collection = chromadb.EphemeralClient().create_collection(\"wikipedia\", get_or_create=True)\n",
        "wikipedia_vector_store = ChromaVectorStore(wikipedia_collection)"
      ]
    },
    {
      "cell_type": "code",
      "execution_count": 19,
      "metadata": {
        "id": "X8bK1uM6Sknd"
      },
      "outputs": [],
      "source": [
        "wikipedia_pipeline = IngestionPipeline(\n",
        "    transformations=[\n",
        "        MarkdownNodeParser.from_defaults(),\n",
        "        embed_model,\n",
        "    ],\n",
        "    vector_store=wikipedia_vector_store\n",
        ")"
      ]
    },
    {
      "cell_type": "code",
      "execution_count": 20,
      "metadata": {
        "id": "4h5T-6XvSknd"
      },
      "outputs": [],
      "source": [
        "wikipedia_nodes = wikipedia_pipeline.run(documents=web_docs)"
      ]
    },
    {
      "cell_type": "code",
      "source": [
        "from IPython.display import Markdown, display\n",
        "# display(Markdown(wikipedia_nodes[2].text))"
      ],
      "metadata": {
        "id": "tgKWJXLLcdxS"
      },
      "execution_count": 27,
      "outputs": []
    },
    {
      "cell_type": "code",
      "execution_count": 28,
      "metadata": {
        "id": "84J6VTm7Sknd"
      },
      "outputs": [],
      "source": [
        "wikipedia_index = VectorStoreIndex.from_vector_store(wikipedia_vector_store, embed_model=embed_model)"
      ]
    },
    {
      "cell_type": "code",
      "execution_count": 29,
      "metadata": {
        "id": "dZmbiqRASkne",
        "outputId": "83e37513-6891-4aa2-fffe-60f67435760e",
        "colab": {
          "base_uri": "https://localhost:8080/"
        }
      },
      "outputs": [
        {
          "output_type": "stream",
          "name": "stdout",
          "text": [
            "There are currently 339 language editions of Wikipedia.\n"
          ]
        }
      ],
      "source": [
        "llm = OpenAI(model=\"gpt-4o-mini\")\n",
        "query_engine = wikipedia_index.as_query_engine(llm=llm)\n",
        "response = query_engine.query(\"How many languages there exactly? Quote the exact text as well.\")\n",
        "print(response.response)"
      ]
    },
    {
      "cell_type": "code",
      "execution_count": 30,
      "metadata": {
        "id": "nhmbOFN7Skne",
        "outputId": "18574a48-f792-42c4-e380-7d2d5a42c6ab",
        "colab": {
          "base_uri": "https://localhost:8080/"
        }
      },
      "outputs": [
        {
          "output_type": "stream",
          "name": "stdout",
          "text": [
            "Quote from source: 'There are currently 339 language editions of Wikipedia (also called _language'\n"
          ]
        }
      ],
      "source": [
        "# Use fuzzywuzzy to find the closest match in the source text\n",
        "from thefuzz import fuzz, process\n",
        "# Get the top matching line of text from the source_text_quote\n",
        "top_match, match_score = process.extractOne(response.response, response.source_nodes[0].text.splitlines(), scorer=fuzz.ratio)\n",
        "assert top_match in response.source_nodes[0].text\n",
        "print(f\"Quote from source: '{top_match}'\")"
      ]
    },
    {
      "cell_type": "markdown",
      "metadata": {
        "id": "PHGDGGFlSkne"
      },
      "source": [
        "## OCR\n",
        "\n",
        "There are times where the PDF is not in a format that can be easily read into text.\n",
        "In these cases, we will need to use optical character recognition (OCR) to convert the images to text.\n",
        "There are many libraries and cloud services that can do this, but for this example, we will use the `docling` library since our example document is a PDF.\n",
        "We will then ingest the text into LlamaIndex and use it to answer a question.\n",
        "\n",
        "![](https://ds4sd.github.io/docling/assets/docling_processing.png)"
      ]
    },
    {
      "cell_type": "code",
      "execution_count": 32,
      "metadata": {
        "id": "P68tiprfSkne"
      },
      "outputs": [],
      "source": [
        "from llama_index.readers.docling import DoclingReader\n",
        "from llama_index.node_parser.docling import DoclingNodeParser\n",
        "from llama_index.core.schema import Document\n",
        "from llama_index.core import StorageContext"
      ]
    },
    {
      "cell_type": "code",
      "execution_count": 33,
      "metadata": {
        "id": "eFaWheMaSkne"
      },
      "outputs": [],
      "source": [
        "reader = DoclingReader(export_type=DoclingReader.ExportType.JSON)"
      ]
    },
    {
      "cell_type": "code",
      "execution_count": 34,
      "metadata": {
        "id": "KND4BUZWSkne",
        "outputId": "fc9aea9b-64e4-48a7-afa0-146d09b36c98",
        "colab": {
          "base_uri": "https://localhost:8080/",
          "height": 496,
          "referenced_widgets": [
            "95e623951f4f4886a3d2160e2e59611d",
            "c80150bb71a946a5be7d9d774ea0d795",
            "dfe7f6e9f7514144a01576aa282fef4d",
            "66fb77101d254606a8b54e8df50ae5c0",
            "d810470247b541238e2965b916782e0c",
            "c173f4db2ad24ac5b754f617638c0cc7",
            "17ad6c769ff740e79e77b40e4ea2ade5",
            "9b99cb8512054e2284442fb33f390525",
            "af6bee44377843aa9b8b236b3baf3ff9",
            "4fe53944f52540eea99af5ac44fe32d0",
            "4949e90538064336a2ea16f0e6bffa67",
            "d9eb99b78c60427fb4a738b9cc3826c2",
            "ee1679a9b1eb4e75addaf5f1088e3ac4",
            "2c90644267204ea287b80eb6eeb1237f",
            "31cc579b63b0478d88da3ae4c2fb2534",
            "6f22223c23544593a6fd32556b8e23f6",
            "f8b88937d8814b188b19cac6ade6c192",
            "f09b6166840146f59cedf4a72d00b0f4",
            "2fb203754c4e44ecb348aca26794098a",
            "2e928ccef5a241eab56eb5b3f131c640",
            "8e1796243e1d4808b56e39247b5bc228",
            "1e4574582f7a49c8b53a0599a468dd72",
            "6fc51f3a60e14ecd8912b8d5abccb34a",
            "098406a4cf11424d9df9cd366d0d1e51",
            "9f2237fc49c247799114cb930a295c60",
            "c9972fc7837845ce9befe6a9468eb10d",
            "ab362d41936f4824bc449cd4ff1a67ba",
            "6a5708fb741b4e6788e0293a232e7934",
            "9554d9e67f8541c6aff6bc1222b92d99",
            "65e2f708c73946b895bee5f215d78f47",
            "70195cda7a98446fa440f2eed05bebce",
            "a36a1eb9760542299f7ac9037b5b81fa",
            "4caf7132aaa0464d8056c1fd5899d342",
            "f5363dfd1a6448749373a64d73670e8a",
            "00f52ff7f2e24035b59edab6de4d2677",
            "e07c02d256984e3aae6d8074c6b6d1b3",
            "1031b35b071c443ab2bbf74ee1270939",
            "590b10b8657c43faaffd4b4f320384bf",
            "d1f7e70659cb4cccbd80cb14fb3e6e4d",
            "0247497540e34839bc52c81a3d19d40d",
            "74971a9abaaa4059a7adfe6f3e276a95",
            "8621d36742bf4e85a694472de331c945",
            "845590918db04049b2e3bc0b53726b3f",
            "23187dcdb51642f188801db63c21ed84",
            "91c7c8c83ab04f45a9cabb061920f2b2",
            "9e14ebb25d18400788859940d740326a",
            "d2d8454cc549431880901c9f2328e7a7",
            "0c5c2382be134f7aa53a827dbb8ee520",
            "0a359af32ea14dd48f18f7ca35a6b7be",
            "63946f1ab8484830ae5e7e99e46ace5a",
            "81b7ce3a1a1b43d7b6192a8ebc7e7ffb",
            "0da964c5b97f49e29d30e31896ba9809",
            "f0fd1eeb792e4a4fb7f03035b50b304e",
            "b47ceca8c39342d0b3113fc249346a99",
            "2388f726f3c44b639f8048b6212f3e7e",
            "dc9fd613edf64300a71cbb1bfd88a7a6",
            "e59748bf7b204f718ca3b54018b2ed5a",
            "66c7a872bce9459d87aa9d8bbab2be05",
            "d6a3e5255d86423280744cc3c6c68b57",
            "d91b50cf13e149c9a492b7a6c707da4f",
            "33fdd8e21aa34702a2f5256bc42cf934",
            "9ea7801a2b1f4c05a7ed2841769bc806",
            "b842bb2703c848cba2ec4376f1d2008c",
            "2fffc91fd83f45f78f873c547cd85d2a",
            "77606700c7244df8b96d891b7f65960d",
            "529703206f0b4747a4d4e08ae3736971",
            "b10b651840cf4cf498fefe94beee71d5",
            "d6261bd6988e40e09eb147223f17b5ee",
            "4961ef5c6cd14551a236b6afeed9b3b9",
            "79fa0263ecb3430593efcad85d941cb9",
            "3f3a54de2133413c9296a32911e78bc9",
            "45c29f212a8a4d26ad4bc4a61fb9cb91",
            "3b65f98f04644532a211ec9a4f94c421",
            "4d4749c7fcfa426bac8bee08578a49e0",
            "5d29d46ed6af4ac2923d83cfeeb9b5d9",
            "93c3df4c78c44f8e9a6ab9342bba2d0f",
            "5e28e3462f024bb3a515d7328f3cc361",
            "26c006e38e41466e88fea0ff4dd3017e",
            "b6cc4e6ea6d24a97a1247e558df0fe9b",
            "f38230fb32d04ec3a14b54d8a8e69565",
            "4c6a2265a96845278cd3c4a37bc2227f",
            "3824973b28544f6fb4b8abc4f2b603cc",
            "57fbbb7979e64c5fa02a07baf0641898",
            "30e4d62cc62843d59cef432c1b68d456",
            "f296def0efc24ff496d4d23d66176415",
            "b1276d6ad9ee4b14b9cb997d7ec2382e",
            "3e8052e85f31462fa2f4808498f4b035",
            "0e6a94e7795f448b9ab2c154e97b866e",
            "cd287d8fdc3a4eef95f4c2a1fcd4ee45",
            "0e520700a4ae49a5bcac856d148cca1b",
            "ac0224f2b32940acae667a7a38cca9da",
            "0100177bf50140c5b1d3eb5a6a250322",
            "25fa8f58c966444795d52e35f51242c7",
            "534701d72cf0456cba5532c604143d8d",
            "909409b7f2914d68919e9d043ca8c158",
            "7f028e8144ac4b9cb2844c5db6584695",
            "fbe873ae35144d72aa53c5ebcdaa7a08",
            "a3be86e0a9334eefb3a39f2348103906",
            "c01ab6f2b5ae44c0a286e60ec26a5a14",
            "e5ab8a61f7964d25b7446c8092997954",
            "5708d52e16264a3681fca047b595f41c",
            "2074306519a348c18d383dbbda7feb22",
            "0de70acb395e4b63bdd30bc1a8fbb867",
            "5ea3828ece5c43c0bfed8bff4f6f989e",
            "e9f828d5fd7f48509c62a043b9633933",
            "c7f8c92978f04918af8eb8b2c100e973",
            "7b2e1717e45f4b60a152dbefb12c53b4",
            "c30122e94dad4c93b45fc5e0cbd054e4",
            "5fb7d97b22d04cc4a2ad9685dda07e79",
            "e151ddf0f1894d438ae172559e77c574"
          ]
        }
      },
      "outputs": [
        {
          "output_type": "display_data",
          "data": {
            "text/plain": [
              "Fetching 9 files:   0%|          | 0/9 [00:00<?, ?it/s]"
            ],
            "application/vnd.jupyter.widget-view+json": {
              "version_major": 2,
              "version_minor": 0,
              "model_id": "95e623951f4f4886a3d2160e2e59611d"
            }
          },
          "metadata": {}
        },
        {
          "output_type": "display_data",
          "data": {
            "text/plain": [
              "(…)artifacts/tableformer/fat/tm_config.json:   0%|          | 0.00/7.09k [00:00<?, ?B/s]"
            ],
            "application/vnd.jupyter.widget-view+json": {
              "version_major": 2,
              "version_minor": 0,
              "model_id": "d9eb99b78c60427fb4a738b9cc3826c2"
            }
          },
          "metadata": {}
        },
        {
          "output_type": "display_data",
          "data": {
            "text/plain": [
              "README.md:   0%|          | 0.00/3.49k [00:00<?, ?B/s]"
            ],
            "application/vnd.jupyter.widget-view+json": {
              "version_major": 2,
              "version_minor": 0,
              "model_id": "6fc51f3a60e14ecd8912b8d5abccb34a"
            }
          },
          "metadata": {}
        },
        {
          "output_type": "display_data",
          "data": {
            "text/plain": [
              "otslp_all_standard_094_clean.check:   0%|          | 0.00/213M [00:00<?, ?B/s]"
            ],
            "application/vnd.jupyter.widget-view+json": {
              "version_major": 2,
              "version_minor": 0,
              "model_id": "f5363dfd1a6448749373a64d73670e8a"
            }
          },
          "metadata": {}
        },
        {
          "output_type": "display_data",
          "data": {
            "text/plain": [
              ".gitignore:   0%|          | 0.00/5.18k [00:00<?, ?B/s]"
            ],
            "application/vnd.jupyter.widget-view+json": {
              "version_major": 2,
              "version_minor": 0,
              "model_id": "91c7c8c83ab04f45a9cabb061920f2b2"
            }
          },
          "metadata": {}
        },
        {
          "output_type": "display_data",
          "data": {
            "text/plain": [
              "config.json:   0%|          | 0.00/41.0 [00:00<?, ?B/s]"
            ],
            "application/vnd.jupyter.widget-view+json": {
              "version_major": 2,
              "version_minor": 0,
              "model_id": "dc9fd613edf64300a71cbb1bfd88a7a6"
            }
          },
          "metadata": {}
        },
        {
          "output_type": "display_data",
          "data": {
            "text/plain": [
              ".gitattributes:   0%|          | 0.00/1.71k [00:00<?, ?B/s]"
            ],
            "application/vnd.jupyter.widget-view+json": {
              "version_major": 2,
              "version_minor": 0,
              "model_id": "b10b651840cf4cf498fefe94beee71d5"
            }
          },
          "metadata": {}
        },
        {
          "output_type": "display_data",
          "data": {
            "text/plain": [
              "otslp_all_fast.check:   0%|          | 0.00/146M [00:00<?, ?B/s]"
            ],
            "application/vnd.jupyter.widget-view+json": {
              "version_major": 2,
              "version_minor": 0,
              "model_id": "26c006e38e41466e88fea0ff4dd3017e"
            }
          },
          "metadata": {}
        },
        {
          "output_type": "display_data",
          "data": {
            "text/plain": [
              "model.pt:   0%|          | 0.00/202M [00:00<?, ?B/s]"
            ],
            "application/vnd.jupyter.widget-view+json": {
              "version_major": 2,
              "version_minor": 0,
              "model_id": "cd287d8fdc3a4eef95f4c2a1fcd4ee45"
            }
          },
          "metadata": {}
        },
        {
          "output_type": "display_data",
          "data": {
            "text/plain": [
              "(…)del_artifacts/tableformer/tm_config.json:   0%|          | 0.00/7.09k [00:00<?, ?B/s]"
            ],
            "application/vnd.jupyter.widget-view+json": {
              "version_major": 2,
              "version_minor": 0,
              "model_id": "e5ab8a61f7964d25b7446c8092997954"
            }
          },
          "metadata": {}
        },
        {
          "output_type": "stream",
          "name": "stderr",
          "text": [
            "WARNING:easyocr.easyocr:Downloading detection model, please wait. This may take several minutes depending upon your network connection.\n"
          ]
        },
        {
          "output_type": "stream",
          "name": "stdout",
          "text": [
            "Progress: |██████████████████████████████████████████████████| 100.0% Complete"
          ]
        },
        {
          "output_type": "stream",
          "name": "stderr",
          "text": [
            "WARNING:easyocr.easyocr:Downloading recognition model, please wait. This may take several minutes depending upon your network connection.\n"
          ]
        },
        {
          "output_type": "stream",
          "name": "stdout",
          "text": [
            "Progress: |██████████████████████████████████████████████████| 100.0% Complete\u001b[91m*ERR* --- *ERR*\u001b[0m\n",
            "\u001b[91m*ERR* Table is not square! *ERR*\u001b[0m\n",
            "\u001b[93m*Padding to square...*\u001b[0m\n",
            "\u001b[91m*ERR* --- *ERR*\u001b[0m\n",
            "\u001b[91m*ERR* Table is not square! *ERR*\u001b[0m\n",
            "\u001b[93m*Padding to square...*\u001b[0m\n"
          ]
        }
      ],
      "source": [
        "docling_docs = reader.load_data(llama3_path)"
      ]
    },
    {
      "cell_type": "code",
      "execution_count": 35,
      "metadata": {
        "id": "JrOfzdI5Skne",
        "outputId": "aeec0d23-a5a1-4d54-9266-bcd625dcfe09",
        "colab": {
          "base_uri": "https://localhost:8080/"
        }
      },
      "outputs": [
        {
          "output_type": "execute_result",
          "data": {
            "text/plain": [
              "1"
            ]
          },
          "metadata": {},
          "execution_count": 35
        }
      ],
      "source": [
        "len(docling_docs)"
      ]
    },
    {
      "cell_type": "code",
      "execution_count": 38,
      "metadata": {
        "id": "DeFDyOo-Skne",
        "outputId": "6f8dbb1b-f1df-42fe-b43a-329e310f8d24",
        "colab": {
          "base_uri": "https://localhost:8080/"
        }
      },
      "outputs": [
        {
          "output_type": "stream",
          "name": "stdout",
          "text": [
            "{metadata_str}\n",
            "\n",
            "{content}\n"
          ]
        }
      ],
      "source": [
        "# We need to set the text template to \"{content}\" because the default is \"{metadata}\\n\\n{content}\",\n",
        "# and LlamaIndex will try to embed the metadata as well. The metadata is not useful at serach time.\n",
        "print(docling_docs[0].text_template)\n",
        "docling_docs[0].text_template = \"{content}\""
      ]
    },
    {
      "cell_type": "code",
      "execution_count": 39,
      "metadata": {
        "id": "Tc7dOcD0Skne",
        "outputId": "f2f65dc6-bd72-4fa9-9f0c-124c34a2b083",
        "colab": {
          "base_uri": "https://localhost:8080/"
        }
      },
      "outputs": [
        {
          "output_type": "execute_result",
          "data": {
            "text/plain": [
              "710"
            ]
          },
          "metadata": {},
          "execution_count": 39
        }
      ],
      "source": [
        "docling_node_parser = DoclingNodeParser()\n",
        "docling_nodes = docling_node_parser.get_nodes_from_documents(docling_docs)\n",
        "len(docling_nodes)"
      ]
    },
    {
      "cell_type": "code",
      "execution_count": 41,
      "metadata": {
        "id": "d50bB0DDSkne",
        "outputId": "015a27b7-2b8f-41ae-c951-f0afb3be921b",
        "colab": {
          "base_uri": "https://localhost:8080/"
        }
      },
      "outputs": [
        {
          "output_type": "execute_result",
          "data": {
            "text/plain": [
              "{'schema_name': 'docling_core.transforms.chunker.DocMeta',\n",
              " 'version': '1.0.0',\n",
              " 'doc_items': [{'self_ref': '#/texts/0',\n",
              "   'parent': {'$ref': '#/body'},\n",
              "   'children': [],\n",
              "   'label': 'page_header',\n",
              "   'prov': [{'page_no': 1,\n",
              "     'bbox': {'l': 17.34600257873535,\n",
              "      't': 579.1200561523438,\n",
              "      'r': 36.339778900146484,\n",
              "      'b': 231.99996948242188,\n",
              "      'coord_origin': 'BOTTOMLEFT'},\n",
              "     'charspan': [0, 38]}]}],\n",
              " 'origin': {'mimetype': 'application/pdf',\n",
              "  'binary_hash': 14649221216157814915,\n",
              "  'filename': 'llama3.pdf'}}"
            ]
          },
          "metadata": {},
          "execution_count": 41
        }
      ],
      "source": [
        "docling_nodes[0].metadata"
      ]
    },
    {
      "cell_type": "code",
      "source": [
        "print(docling_nodes[0].text[:500])"
      ],
      "metadata": {
        "id": "_R_d3Xa4hDo7",
        "outputId": "e2042497-ad11-4c24-ffd4-baf0daf71496",
        "colab": {
          "base_uri": "https://localhost:8080/"
        }
      },
      "execution_count": 49,
      "outputs": [
        {
          "output_type": "stream",
          "name": "stdout",
          "text": [
            "arXiv:2407.21783v3 [cs.AI] 23 Nov 2024\n"
          ]
        }
      ]
    },
    {
      "cell_type": "code",
      "execution_count": 44,
      "metadata": {
        "id": "bMDuIrf-Skne"
      },
      "outputs": [],
      "source": [
        "index = VectorStoreIndex(nodes=docling_nodes, embed_model=embed_model)"
      ]
    },
    {
      "cell_type": "code",
      "execution_count": 45,
      "metadata": {
        "id": "z28dKbV5Skne",
        "outputId": "c5a4b856-de54-4e73-dd79-2461a9b0b86d",
        "colab": {
          "base_uri": "https://localhost:8080/"
        }
      },
      "outputs": [
        {
          "output_type": "stream",
          "name": "stdout",
          "text": [
            "The paper mentions a total of four new Llama models: Llama 3.1 8B, Llama 3.1 70B, Llama 3.1 405B, and their respective instruct versions.\n"
          ]
        }
      ],
      "source": [
        "query_engine = index.as_query_engine(llm=llm)\n",
        "response = query_engine.query(\"How many new Llama models are mentioned in the paper?\")\n",
        "print(response.response)"
      ]
    },
    {
      "cell_type": "code",
      "execution_count": 46,
      "metadata": {
        "id": "nGmXNiAJSkne",
        "outputId": "84378bf8-cc2e-4c8e-c8bf-2b2ec1e5364a",
        "colab": {
          "base_uri": "https://localhost:8080/"
        }
      },
      "outputs": [
        {
          "output_type": "stream",
          "name": "stdout",
          "text": [
            "Node ID: c87f1deb-3fae-484a-a9e9-12b1ab545808\n",
            "Text: Llama 3 8B, Finetuned = ✗. Llama 3 8B, Multilingual = ✗ 1. Llama\n",
            "3 8B, Long context = ✗. Llama 3 8B, Tool use = ✗. Llama 3 8B, Release\n",
            "= April 2024. Llama 3 8B Instruct, Finetuned = ✓. Llama 3 8B Instruct,\n",
            "Multilingual = ✗. Llama 3 8B Instruct, Long context = ✗. Llama 3 8B\n",
            "Instruct, Tool use = ✗. Llama 3 8B Instruct, Release = April 2024.\n",
            "Llama ...\n",
            "Score:  0.768\n",
            "\n"
          ]
        }
      ],
      "source": [
        "print(response.source_nodes[1])"
      ]
    },
    {
      "cell_type": "markdown",
      "metadata": {
        "id": "u_CzGwrDSknf"
      },
      "source": [
        "# Data splitting\n",
        "\n",
        "Many times, it's impractical to embed the entire document, and expensive to feed the entire document to the LLM.\n",
        "Instead, we can split the document into chunks, embed the chunks, and use a retrieval method to find the most relevant chunks.\n",
        "There are naïve methods that split texts into chunks of a specific length with some overlap;\n",
        "there are methods that use the structure of the document to split it into sections (e.g. sections, figures, tables);\n",
        "and there are more advanced methods that use semantic similarity to group the text into chunks."
      ]
    },
    {
      "cell_type": "markdown",
      "metadata": {
        "id": "NPuC9cHXSknf"
      },
      "source": [
        "Since the OCR'd text is just one very long Markdown string, we need to split it into chunks.\n",
        "One nice way to do that is use the inherent structure of Markdown to split it into sections.\n",
        "We do that here with LlamaIndex's `MarkdownNodeParser`."
      ]
    },
    {
      "cell_type": "code",
      "execution_count": 48,
      "metadata": {
        "id": "r1el-zVlSknf",
        "outputId": "c86c1bf4-8ab9-4436-d177-e37de316b747",
        "colab": {
          "base_uri": "https://localhost:8080/",
          "height": 153,
          "referenced_widgets": [
            "0be7d69ef01f475f8a57f8ee0fc7050d",
            "9c94a8e435994519abf31f5d6ba5ada9",
            "a962a4b97efa413fbebe6c884e30cb05",
            "a2d5aa0ffa614d28b84176f094f60dd1",
            "dad21711dc784d4eb031af936beef516",
            "4af12a8922e0475fac2f6f6aca9fff03",
            "2311d4411f2f4a3e9444ae939c1b7e9d",
            "09d87a1d357e43aa8e67e26a0d021088",
            "32ed9d9b3d7b49b184f8043022a0eb69",
            "3994e650ec094d00a2e4ceaccaa865dd",
            "3c3a82b670404f8aa45feb2ae322de99"
          ]
        }
      },
      "outputs": [
        {
          "output_type": "display_data",
          "data": {
            "text/plain": [
              "Fetching 9 files:   0%|          | 0/9 [00:00<?, ?it/s]"
            ],
            "application/vnd.jupyter.widget-view+json": {
              "version_major": 2,
              "version_minor": 0,
              "model_id": "0be7d69ef01f475f8a57f8ee0fc7050d"
            }
          },
          "metadata": {}
        },
        {
          "output_type": "stream",
          "name": "stdout",
          "text": [
            "\u001b[91m*ERR* --- *ERR*\u001b[0m\n",
            "\u001b[91m*ERR* Table is not square! *ERR*\u001b[0m\n",
            "\u001b[93m*Padding to square...*\u001b[0m\n",
            "\u001b[91m*ERR* --- *ERR*\u001b[0m\n",
            "\u001b[91m*ERR* Table is not square! *ERR*\u001b[0m\n",
            "\u001b[93m*Padding to square...*\u001b[0m\n"
          ]
        }
      ],
      "source": [
        "docling_md_docs = DoclingReader(export_type=DoclingReader.ExportType.MARKDOWN).load_data(llama3_path)"
      ]
    },
    {
      "cell_type": "code",
      "execution_count": 50,
      "metadata": {
        "id": "aHnNO23NSknf"
      },
      "outputs": [],
      "source": [
        "from llama_index.core.node_parser import MarkdownNodeParser\n",
        "from IPython.display import Markdown, display"
      ]
    },
    {
      "cell_type": "code",
      "execution_count": 51,
      "metadata": {
        "id": "XRIz5vjWSknf"
      },
      "outputs": [],
      "source": [
        "md_nodes = MarkdownNodeParser.from_defaults().get_nodes_from_documents(documents=docling_md_docs)"
      ]
    },
    {
      "cell_type": "code",
      "execution_count": 52,
      "metadata": {
        "id": "6oKS4vKjSknf",
        "outputId": "9d84989f-f451-41dd-a1de-a5275d67fe6e",
        "colab": {
          "base_uri": "https://localhost:8080/"
        }
      },
      "outputs": [
        {
          "output_type": "execute_result",
          "data": {
            "text/plain": [
              "105"
            ]
          },
          "metadata": {},
          "execution_count": 52
        }
      ],
      "source": [
        "len(md_nodes)"
      ]
    },
    {
      "cell_type": "code",
      "execution_count": 53,
      "metadata": {
        "id": "tZ7mX3szSknf",
        "outputId": "46abe5a8-ff05-412d-a802-4919e7ac1d2b",
        "colab": {
          "base_uri": "https://localhost:8080/",
          "height": 638
        }
      },
      "outputs": [
        {
          "output_type": "display_data",
          "data": {
            "text/plain": [
              "<IPython.core.display.Markdown object>"
            ],
            "text/markdown": "## 3.2 Model Architecture\n\nLlama 3 uses a standard, dense Transformer architecture (Vaswani et al., 2017). It does not deviate significantly from Llama and Llama 2 (Touvron et al., 2023a,b) in terms of model architecture; our performance gains are primarily driven by improvements in data quality and diversity as well as by increased training scale.\n\nWe make a few small modifications compared to Llama 2:\n\n- · We use grouped query attention (GQA; Ainslie et al. (2023)) with 8 key-value heads to improve inference speed and to reduce the size of key-value caches during decoding.\n- · We use an attention mask that prevents self-attention between different documents within the same sequence. We find that this change had limited impact during in standard pre-training, but find it to be important in continued pre-training on very long sequences.\n\nTable 3 Overview of the key hyperparameters of Llama 3. We display settings for 8B, 70B, and 405B language models.\n\n|                                                        | 8B             | 70B                   | 405B       |\n|--------------------------------------------------------|----------------|-----------------------|------------|\n| Layers                                                 | 32             | 80                    | 126        |\n| Model Dimension                                        | 4,096          | 8192                  | 16,384     |\n| FFN Dimension                                          | 14,336         | 28,672                | 53,248     |\n| Attention Heads                                        | 32             | 64                    | 128        |\n| Key/Value Heads                                        | 8              | 8                     | 8          |\n| Peak Learning Rate Activation Function Vocabulary Size | 3 × 10 - 4     | 1 . 5 × 10 - 4 SwiGLU | 8 × 10 - 5 |\n| Positional Embeddings                                  | 128,000 RoPE ( | θ = 500 ,             | 000 )      |\n\n- · We use a vocabulary with 128K tokens. Our token vocabulary combines 100K tokens from the tiktoken 3 tokenizer with 28K additional tokens to better support non-English languages. Compared to the Llama 2 tokenizer, our new tokenizer improves compression rates on a sample of English data from 3.17 to 3.94 characters per token. This enables the model to \"read\" more text for the same amount of training compute. We also found that adding 28K tokens from select non-English languages improved both compression ratios and downstream performance, with no impact on English tokenization.\n- · We increase the RoPE base frequency hyperparameter to 500,000. This enables us to better support longer contexts; Xiong et al. (2023) showed this value to be effective for context lengths up to 32,768.\n\nLlama 3 405B uses an architecture with 126 layers, a token representation dimension of 16,384, and 128 attention heads; see Table 3 for details. This leads to a model size that is approximately compute-optimal according to scaling laws on our data for our training budget of 3 . 8 × 10 25 FLOPs."
          },
          "metadata": {}
        }
      ],
      "source": [
        "display(Markdown(md_nodes[9].text))"
      ]
    },
    {
      "cell_type": "code",
      "execution_count": 54,
      "metadata": {
        "id": "CiUS4VUcSknf",
        "outputId": "9f6d51c2-5fe3-4449-9e0c-ffe210b4c285",
        "colab": {
          "base_uri": "https://localhost:8080/"
        }
      },
      "outputs": [
        {
          "output_type": "stream",
          "name": "stdout",
          "text": [
            "There are multiple Llama 3 models, including at least three distinct sizes: 8B, 70B, and 405B.\n",
            "## 9.1 Language\n",
            "\n",
            "Scale. Llama 3 follows the enduring trend of applying straightforward methods at ever increasing scales in foundation models. Improvements are driven by increased compute and improved data, with the 405B model using almost fifty times the pre-training compute budget of Llama 2 70B. Despite containing 405B parameters, our largest Llama 3 in fact contains fewer parameters than earlier and much less performant models such as PALM (Chowdhery et al., 2023), due to better understanding of scaling laws (Kaplan et al., 2020; Hoffmann et al., 2022). Little is publicly known about the size of other frontier models, such as Claude 3 or GPT 4 (OpenAI, 2023a), but overall performance is compareable.\n",
            "\n",
            "Small models. Developments in smaller models have paralleled those in large models. Models with fewer parameters can dramatically improve inference cost and simplify deployment (Mehta et al., 2024; Team et al., 2024). The smaller Llama 3 models achieve this by training far beyond the point of compute optimal training, effectively trading training compute for inference efficiency. An alternative path is to distill larger models into smaller ones, as in Phi (Abdin et al., 2024).\n",
            "\n",
            "Architectures. While Llama 3 makes minimal architectural modifiations to compared to Llama 2, other recent foundation models have explored other designs. Most notably, mixture of experts architectures (Shazeer et al., 2017; Lewis et al., 2021; Fedus et al., 2022; Zhou et al., 2022) can be used as an efficient way to increase the capacity of a models, such as in Mixtral (Jiang et al., 2024) and Arctic (Snowflake, 2024). Llama 3 outperforms these models, suggesting that dense architectures are not the limiting factor, but there remain numerous trade offs in terms of training and inference efficiency, and model stability at scale.\n",
            "\n",
            "Open source. Open weights foundation models have rapidly improved over the last year, with Llama3-405B now competitive with the current closed weight state-of-the-art. Numerous model families have recently been developed, including Mistral (Jiang et al., 2023), Falcon (Almazrouei et al., 2023), MPT (Databricks, 2024), Pythia (Biderman et al., 2023), Arctic (Snowflake, 2024), OpenELM (Mehta et al., 2024), OLMo (Groeneveld et al., 2024), StableLM (Bellagente et al., 2024), OpenLLaMA (Geng and Liu, 2023), Qwen (Bai et al., 2023), Gemma (Team et al., 2024), Grok (XAI, 2024), and Phi (Abdin et al., 2024).\n",
            "\n",
            "Post-training. Post-training Llama 3 follows the established strategy of instruction tuning (Chung et al., 2022; Ouyang et al., 2022) followed by alignment with human feedback (Kaufmann et al., 2023). While some studies have shown the surprising effectiveness of lightweight alignment procedures (Zhou et al., 2024), Llama 3 uses millions of human instructions and preference judgments to improve the pre-trained model, including\n",
            "\n",
            "techniques such as rejection sampling (Bai et al., 2022), supervised finetuning (Sanh et al., 2022), and Direct Preference Optimization (Rafailov et al., 2023). In order to curate these instruction and preference examples, we deploy earlier versions of Llama 3 to filter (Liu et al., 2024c), re-write (Pan et al., 2024), or generate prompts and responses (Liu et al., 2024b) and apply these techniques through multiple rounds of post-training.\n"
          ]
        }
      ],
      "source": [
        "md_index = VectorStoreIndex(nodes=md_nodes, embed_model=embed_model)\n",
        "md_query_engine = md_index.as_query_engine(llm=llm)\n",
        "response = md_query_engine.query(\"How many llama3 models are there?\")\n",
        "print(response.response)\n",
        "print(response.source_nodes[0].text)"
      ]
    },
    {
      "cell_type": "markdown",
      "metadata": {
        "id": "1bqHvJwNSknf"
      },
      "source": [
        "---"
      ]
    },
    {
      "cell_type": "markdown",
      "metadata": {
        "id": "0pYXwOwESknf"
      },
      "source": [
        "# Retrieval"
      ]
    },
    {
      "cell_type": "markdown",
      "metadata": {
        "id": "ScMHQmreSknf"
      },
      "source": [
        "## Starting simple: bm25\n",
        "\n",
        "BM25 is a simple retrieval method that uses the BM25 algorithm to score the relevance of each document to the query.\n",
        "The BM25 algorithm is a probabilistic retrieval model that uses the term frequency and inverse document frequency of the query terms to score the relevance of each document.\n",
        "You should be familiar with the basic idea of tf-idf from your NLP class - you can think of BM25 as a generalization of tf-idf that takes into account more factors."
      ]
    },
    {
      "cell_type": "code",
      "execution_count": 55,
      "metadata": {
        "id": "GsVYpkm7Sknf"
      },
      "outputs": [],
      "source": [
        "from llama_index.retrievers.bm25 import BM25Retriever"
      ]
    },
    {
      "cell_type": "code",
      "execution_count": 56,
      "metadata": {
        "id": "SYVD5yxsSknf",
        "outputId": "41acd4a4-646b-4f3f-b4e1-8d4b7f2161ab",
        "colab": {
          "base_uri": "https://localhost:8080/"
        }
      },
      "outputs": [
        {
          "output_type": "stream",
          "name": "stderr",
          "text": [
            "DEBUG:bm25s:Building index from IDs objects\n"
          ]
        }
      ],
      "source": [
        "bm25 = BM25Retriever.from_defaults(nodes=md_nodes)"
      ]
    },
    {
      "cell_type": "code",
      "execution_count": 57,
      "metadata": {
        "id": "FodffobpSknf",
        "outputId": "a49e197c-348e-4555-fcbc-5e2e86f125ed",
        "colab": {
          "base_uri": "https://localhost:8080/"
        }
      },
      "outputs": [
        {
          "output_type": "stream",
          "name": "stdout",
          "text": [
            "Score: 2.4953\n",
            "Text:\n",
            "## 5.4.4 Safety Results\n",
            "\n",
            "We first highlight Llama 3's general behavior along various axes and then describe results for each specific new capability and our effectiveness at mitigating the safety risks.\n",
            "\n",
            "Overall performance. A comparison of Llama 3's final violation and false refusal rates with similar models can be found in Figures 19 and 20. These results focus on our largest parameter size Llama 3 405B model, compared to relevant competitors. Two of the competitors are end-to-end systems acce...\n",
            "Score: 1.5816\n",
            "Text:\n",
            "## 5.1.4 Contamination Analysis\n",
            "\n",
            "We conduct a contamination analysis to estimate to what extent benchmark scores may be influenced by contamination of the evaluation data in the pre-training corpus. In previous work, several different contamination methods have been used, with various different hyperparameters - we refer to Singh et al. (2024) for an overview. Any of these methods can suffer from false positives and negatives, and how to best run contamination analyses is currently still an open...\n"
          ]
        }
      ],
      "source": [
        "for node in bm25.retrieve(\"How many llama3 models are there?\"):\n",
        "    print(f\"Score: {node.score:.4f}\\nText:\\n{node.node.text[:500]}...\")"
      ]
    },
    {
      "cell_type": "markdown",
      "metadata": {
        "id": "3PfJ0dvASknf"
      },
      "source": [
        "## Dense retrieval (vector search)\n",
        "\n",
        "BM25 is a simple and fast method that depends on word matching.\n",
        "But if we want to do more complex retrieval, we can use dense retrieval.\n",
        "We represent both our query and documents as vectors and use a similarity metric to find the most relevant documents.\n",
        "This is what's been going on under the hood in the previous examples using `VectorStoreIndex`.\n",
        "\n",
        "Since most of the mechanics are taken care for us under the hood, let's examine what goes on under the hood."
      ]
    },
    {
      "cell_type": "code",
      "execution_count": 58,
      "metadata": {
        "id": "oiGBWq0WSknf"
      },
      "outputs": [],
      "source": [
        "from sklearn.metrics.pairwise import cosine_similarity\n",
        "import numpy as np\n",
        "import matplotlib.pyplot as plt\n"
      ]
    },
    {
      "cell_type": "code",
      "execution_count": 59,
      "metadata": {
        "id": "izNn-ogYSknf"
      },
      "outputs": [],
      "source": [
        "sample_documents = [\n",
        "    \"My favorite type of dog is a golden retriever.\",\n",
        "    \"I like to eat pizza with my friends.\",\n",
        "    \"I like to go to the gym in the morning.\",\n",
        "    \"I like to play basketball with my friends.\",\n",
        "]\n",
        "\n",
        "embeddings = np.array(embed_model.get_text_embedding_batch(sample_documents))\n",
        "\n",
        "query = \"What do I like to do with friends?\"\n",
        "query_embedding = np.array(embed_model.get_text_embedding(query))"
      ]
    },
    {
      "cell_type": "code",
      "execution_count": 60,
      "metadata": {
        "id": "uy13YGwTSknf",
        "outputId": "6552d95b-600e-47c9-8fe7-2ec7837253e1",
        "colab": {
          "base_uri": "https://localhost:8080/"
        }
      },
      "outputs": [
        {
          "output_type": "execute_result",
          "data": {
            "text/plain": [
              "array([0.40551491, 0.65599522, 0.45809965, 0.64565539])"
            ]
          },
          "metadata": {},
          "execution_count": 60
        }
      ],
      "source": [
        "cosine_similarity(query_embedding.reshape(1, -1), embeddings).squeeze()"
      ]
    },
    {
      "cell_type": "markdown",
      "metadata": {
        "id": "RgevUYhbSknf"
      },
      "source": [
        "Once we have a `VectorStoreIndex`, we can use the `as_retriever` method to get a retriever object.\n",
        "This uses dense retrieval under the hood, since it already has an embedding model as a part of the class.\n",
        "Here, we use the `similarity_top_k` parameter to limit the number of results to 2 and show the cosine similarity score along with the beginning of the text."
      ]
    },
    {
      "cell_type": "code",
      "execution_count": 61,
      "metadata": {
        "id": "7jqORG2_Skng",
        "outputId": "a7762c8e-ed41-4771-ed52-1567a31cc9a7",
        "colab": {
          "base_uri": "https://localhost:8080/"
        }
      },
      "outputs": [
        {
          "output_type": "stream",
          "name": "stdout",
          "text": [
            "Score: 0.7720\n",
            "Text:\n",
            "## 9.1 Language\n",
            "\n",
            "Scale. Llama 3 follows the enduring trend of applying straightforward methods at ever increasing scales in foundation models. Improvements are driven by increased compute and improved data, with the 405B model using almost fifty times the pre-training compute budget of Llama 2 70B. Despite containing 405B parameters, our largest Llama 3 in fact contains fewer parameters than earlier and much less performant models such as PALM (Chowdhery et al., 2023), due to better understandin...\n",
            "Score: 0.7673\n",
            "Text:\n",
            "## 5.2.5 Math and Reasoning Benchmarks\n",
            "\n",
            "Our math and reasoning benchmark results are presented in Table 2. Llama 3 8B model outperforms other models of similar sizes on GSM8K, MATH, and GPQA. Our 70B model performs significantly better than other models in its class on all the benchmarks. Finally, Llama 3 405B model is the best in its category\n",
            "\n",
            "Table 20 Multilingual benchmarks . For MGSM (Shi et al., 2022), we report 0-shot CoT results for our Llama 3 models. Multilingual MMLU is an internal ben...\n"
          ]
        }
      ],
      "source": [
        "query = \"How many llama3 models are there?\"\n",
        "top_results = md_index.as_retriever(similarity_top_k=2).retrieve(query)\n",
        "for result in top_results:\n",
        "    print(f\"Score: {result.score:.4f}\\nText:\\n{result.node.text[:500]}...\")"
      ]
    },
    {
      "cell_type": "markdown",
      "metadata": {
        "id": "tzc6xqr-Skng"
      },
      "source": [
        "Let's compare bm25 with dense retrieval using %%timeit."
      ]
    },
    {
      "cell_type": "code",
      "execution_count": 62,
      "metadata": {
        "id": "QZ36whtOSkng",
        "outputId": "9a8cb6ec-0183-4afa-ee0f-ab159324218c",
        "colab": {
          "base_uri": "https://localhost:8080/"
        }
      },
      "outputs": [
        {
          "output_type": "stream",
          "name": "stdout",
          "text": [
            "1.43 ms ± 72.1 µs per loop (mean ± std. dev. of 7 runs, 1000 loops each)\n"
          ]
        }
      ],
      "source": [
        "%%timeit\n",
        "bm25.retrieve(query)"
      ]
    },
    {
      "cell_type": "code",
      "execution_count": 63,
      "metadata": {
        "id": "qTx7BTsJSkng",
        "outputId": "062fd423-73dd-48be-ec88-02ab02a8182f",
        "colab": {
          "base_uri": "https://localhost:8080/"
        }
      },
      "outputs": [
        {
          "output_type": "stream",
          "name": "stdout",
          "text": [
            "26.4 ms ± 443 µs per loop (mean ± std. dev. of 7 runs, 10 loops each)\n"
          ]
        }
      ],
      "source": [
        "%%timeit\n",
        "md_index.as_retriever(similarity_top_k=2).retrieve(query)"
      ]
    },
    {
      "cell_type": "markdown",
      "metadata": {
        "id": "_yuOMu1gSkng"
      },
      "source": [
        "We can see that bm25 is much faster!"
      ]
    },
    {
      "cell_type": "markdown",
      "metadata": {
        "id": "dvIyEn7fSkng"
      },
      "source": [
        "## Hybrid search: query rewriting and reciprocal ranking\n",
        "\n",
        "Sometimes, you may want several methods of searching over your data, then combining the results.\n",
        "This is known as hybrid search.\n",
        "\n",
        "Haveing multiple retrievers may not mean having separate objects - we may just have multiple queries.\n",
        "In this example, we'll use an LLM to rewrite our query into multiple queries, then use a dense retriever to find the most relevant documents.\n",
        "Finally, we'll use reciprocal ranking to re-rank the results.\n"
      ]
    },
    {
      "cell_type": "code",
      "execution_count": 64,
      "metadata": {
        "id": "hoart7IgSkng"
      },
      "outputs": [],
      "source": [
        "from llama_index.core.retrievers import QueryFusionRetriever"
      ]
    },
    {
      "cell_type": "code",
      "execution_count": 65,
      "metadata": {
        "id": "M06EPCt6Skng"
      },
      "outputs": [],
      "source": [
        "dense_retriever = md_index.as_retriever(similarity_top_k=5)\n",
        "hybrid_retriever = QueryFusionRetriever(\n",
        "    [dense_retriever],\n",
        "    num_queries=3,\n",
        "    use_async=False,\n",
        "    mode='reciprocal_rerank',\n",
        "    verbose=True\n",
        ")"
      ]
    },
    {
      "cell_type": "code",
      "source": [
        "# Point of improvement: rewrite the prompt in order to give specific instructions on how to rewrite the query.\n",
        "hybrid_retriever.get_prompts()"
      ],
      "metadata": {
        "id": "aHbH0JGkj569",
        "outputId": "003cd52a-07ef-4b9c-e57f-7b7974775f4e",
        "colab": {
          "base_uri": "https://localhost:8080/"
        }
      },
      "execution_count": 67,
      "outputs": [
        {
          "output_type": "execute_result",
          "data": {
            "text/plain": [
              "{'query_gen_prompt': PromptTemplate(metadata={'prompt_type': <PromptType.CUSTOM: 'custom'>}, template_vars=['num_queries', 'query'], kwargs={}, output_parser=None, template_var_mappings=None, function_mappings=None, template='You are a helpful assistant that generates multiple search queries based on a single input query. Generate {num_queries} search queries, one on each line, related to the following input query:\\nQuery: {query}\\nQueries:\\n')}"
            ]
          },
          "metadata": {},
          "execution_count": 67
        }
      ]
    },
    {
      "cell_type": "code",
      "execution_count": 66,
      "metadata": {
        "id": "rkJ7rMEbSkng",
        "outputId": "9ad8f650-cc41-4750-98b0-17ec7eb62013",
        "colab": {
          "base_uri": "https://localhost:8080/"
        }
      },
      "outputs": [
        {
          "output_type": "stream",
          "name": "stdout",
          "text": [
            "Generated queries:\n",
            "1. What are the features of the llama3 model?\n",
            "2. Where can I purchase a llama3 model?\n",
            "Score: 0.0495\n",
            "Text:\n",
            "## 9.1 Language\n",
            "\n",
            "Scale. Llama 3 follows the enduring trend of applying straightforward methods at ever increasing scales in foundation models. Improvements are driven by increased compute and improved data, with the 405B model using almost fifty times the pre-training compute budget of Llama 2 70B. Despite containing 405B parameters, our largest Llama 3 in fact contains fewer parameters than earlier and much less performant models such as PALM (Chowdhery et al., 2023), due to better understandin...\n",
            "Score: 0.0328\n",
            "Text:\n",
            "## 5.2.5 Math and Reasoning Benchmarks\n",
            "\n",
            "Our math and reasoning benchmark results are presented in Table 2. Llama 3 8B model outperforms other models of similar sizes on GSM8K, MATH, and GPQA. Our 70B model performs significantly better than other models in its class on all the benchmarks. Finally, Llama 3 405B model is the best in its category\n",
            "\n",
            "Table 20 Multilingual benchmarks . For MGSM (Shi et al., 2022), we report 0-shot CoT results for our Llama 3 models. Multilingual MMLU is an internal ben...\n"
          ]
        }
      ],
      "source": [
        "results = hybrid_retriever.retrieve(\"How many llama3 models are there?\")\n",
        "for result in results:\n",
        "    print(f\"Score: {result.score:.4f}\\nText:\\n{result.node.text[:500]}...\")"
      ]
    },
    {
      "cell_type": "markdown",
      "metadata": {
        "id": "uy9bwCPISkng"
      },
      "source": [
        "# Reranking\n",
        "\n",
        "Often, retrieval only gives us a good first pass at finding relevant documents.\n",
        "We can use re-ranking to improve the results.\n",
        "There are several re-ranking methods, but in this case we'll use a cross-encoder to re-rank the results.\n",
        "The simplest way to rerank is to use a `node_postprocessor` as we construct our query engine or chat engine.\n",
        "Here, we'll use the `SentenceTransformerRerank` node postprocessor to re-rank the top 20 results from the dense retriever down to 5."
      ]
    },
    {
      "cell_type": "code",
      "execution_count": 69,
      "metadata": {
        "id": "zbF7D_K5Skng"
      },
      "outputs": [],
      "source": [
        "from llama_index.core.postprocessor import SentenceTransformerRerank\n",
        "md_query_engine = md_index.as_query_engine(llm=llm, node_postprocessors=[\n",
        "    SentenceTransformerRerank(top_n=5)\n",
        "], retriever_top_k=20)"
      ]
    },
    {
      "cell_type": "code",
      "execution_count": 70,
      "metadata": {
        "id": "Zs-skomBSkng",
        "outputId": "efdb7ddd-8094-4e0c-8097-63ca655bc1fd",
        "colab": {
          "base_uri": "https://localhost:8080/"
        }
      },
      "outputs": [
        {
          "output_type": "stream",
          "name": "stdout",
          "text": [
            "There are three main Llama 3 models mentioned: the 8B model, the 70B model, and the 405B model.\n"
          ]
        }
      ],
      "source": [
        "response = md_query_engine.query(\"How many llama3 models are there?\")\n",
        "print(response.response)"
      ]
    },
    {
      "cell_type": "markdown",
      "metadata": {
        "id": "tyINIav_Skng"
      },
      "source": [
        "This is also a good opportunity to introduce workflows.\n",
        "Workflows are a lower-level method for organizing tasks that can be chained together.\n",
        "We'll see how to mimic the `md_query_engine` we made above using a workflow."
      ]
    },
    {
      "cell_type": "code",
      "execution_count": 71,
      "metadata": {
        "id": "IK9tKfhvSkng"
      },
      "outputs": [],
      "source": [
        "from llama_index.core.schema import NodeWithScore\n",
        "from llama_index.core.llms import ChatMessage\n",
        "from llama_index.core.workflow import (\n",
        "    Workflow,\n",
        "    Context,\n",
        "    step,\n",
        "    StartEvent,\n",
        "    StopEvent,\n",
        "    Event\n",
        ")\n",
        "from typing import List\n"
      ]
    },
    {
      "cell_type": "markdown",
      "metadata": {
        "id": "WN5IDB10Skng"
      },
      "source": [
        "Let's walk throught the code below step by step.\n",
        "First, we define the events that will be passed between the steps.\n",
        "This includes a retrieval result, a re-ranking result, and a prompt for the LLM.\n",
        "The start and stop are already taken care of for us by `StartEvent` and `StopEvent`.\n",
        "\n",
        "Next, we define our `RAGWithReRank` workflow.\n",
        "We initialize it with an index and LLM, which we will use for retrieval and answering and the cross-encoder for re-ranking.\n",
        "We also define exactly what to do for each step of the workflow.\n",
        "It knows what to do because of the `@step` decorator and the types annotations of each method.\n",
        "\n",
        "Finally, we can run the workflow with a query.\n",
        "The workflow will automatically handle passing the events between the steps, so we don't have to worry about that.\n",
        "We can observe that the results are just what we expect as we saw from the previous examples.\n",
        "One advantage of this method is that it's much more flexible - you can include arbitrary code, loops, conditionals, etc.\n",
        "\n",
        "For more detailed documentation on workflows, see [here](https://docs.llamaindex.ai/en/stable/understanding/workflows/)."
      ]
    },
    {
      "cell_type": "code",
      "execution_count": 72,
      "metadata": {
        "id": "Pqh69BEvSkng"
      },
      "outputs": [],
      "source": [
        "# Define the events that will be passed between the steps\n",
        "class RetrievalResult(Event):\n",
        "    results: List[NodeWithScore]\n",
        "\n",
        "class ReRankResult(Event):\n",
        "    results: List[NodeWithScore]\n",
        "\n",
        "class RagPrompt(Event):\n",
        "    prompt: str\n",
        "\n",
        "# Define the workflow\n",
        "class RAGWithReRank(Workflow):\n",
        "    # Initialize the workflow with an index and LLM\n",
        "    def __init__(self, index: VectorStoreIndex = md_index, llm: OpenAI = OpenAI(model=\"gpt-4o-mini\")):\n",
        "        super().__init__(timeout=10, verbose=False)\n",
        "        self.index = index\n",
        "        self.llm = llm\n",
        "        self.reranker = SentenceTransformerRerank(top_n=5)\n",
        "\n",
        "    # The start method is called when the workflow is run.\n",
        "    # This is the first step of the workflow that takes in a query and returns a retrieval result.\n",
        "    # Since we want to use a course retriever, we use a top k of 20.\n",
        "    @step\n",
        "    async def start(self, ctx: Context, ev: StartEvent) -> RetrievalResult:\n",
        "        query = ev.query\n",
        "        await ctx.set('query', query)\n",
        "        results = self.index.as_retriever(similarity_top_k=20).retrieve(query)\n",
        "        return RetrievalResult(results=results)\n",
        "\n",
        "    # This step takes the retrieval results and re-ranks them.\n",
        "    # Notice that the similarity top k is set to 5, so we only keep the top 5 results.\n",
        "    # This is smaller than the retrieval step since this is about refining a smaller number of results.\n",
        "    @step\n",
        "    async def rerank(self, ctx: Context, ev: RetrievalResult) -> ReRankResult:\n",
        "        results = ev.results\n",
        "        query = await ctx.get('query')\n",
        "        reranked = self.reranker.postprocess_nodes(nodes=results, query_str=query)\n",
        "        return ReRankResult(results=reranked)\n",
        "\n",
        "    # This step creates a prompt for the LLM.\n",
        "    # It does this by joining the re-ranked results into a single string and formatting it with the query.\n",
        "    @step\n",
        "    async def create_prompt(self, ctx: Context, ev: ReRankResult) -> RagPrompt:\n",
        "        reranked_results = ev.results\n",
        "        await ctx.set('reranked_results', reranked_results)\n",
        "        query = await ctx.get('query')\n",
        "        reranked_str = '\\n\\n'.join(i.text for i in reranked_results)\n",
        "        prompt = f\"\"\"\\\n",
        "Here is some relevant context:\n",
        "--------------------------------\n",
        "{reranked_str}\n",
        "--------------------------------\n",
        "Based on the above information and not prior knowledge, please answer the question.\n",
        "Question:\n",
        "{query}\n",
        "\"\"\"\n",
        "        return RagPrompt(prompt=prompt)\n",
        "\n",
        "    # This step takes the prompt and uses the LLM to answer the question.\n",
        "    # It also takes the re-ranked results and attaches them to the response in case we want to see the nodes.\n",
        "    @step\n",
        "    async def answer(self, ctx: Context, ev: RagPrompt) -> StopEvent:\n",
        "        prompt = ev.prompt\n",
        "        ranked_results = await ctx.get('reranked_results')\n",
        "        messages = [\n",
        "            ChatMessage.from_str(prompt)\n",
        "        ]\n",
        "        answer = await self.llm.achat(messages)\n",
        "        result = {\n",
        "            \"response\": answer,\n",
        "            \"source_nodes\": ranked_results\n",
        "        }\n",
        "        return StopEvent(result=result)\n"
      ]
    },
    {
      "cell_type": "code",
      "execution_count": 73,
      "metadata": {
        "id": "J5nY4IRWSkng"
      },
      "outputs": [],
      "source": [
        "rag = RAGWithReRank()"
      ]
    },
    {
      "cell_type": "code",
      "execution_count": 74,
      "metadata": {
        "id": "D2alnqQ4Skng"
      },
      "outputs": [],
      "source": [
        "response = await rag.run(query=\"How many llama3 models are there?\")"
      ]
    },
    {
      "cell_type": "code",
      "execution_count": 75,
      "metadata": {
        "id": "hExIxazpSkng",
        "outputId": "4c99f4e8-e88b-4660-8670-0f93751ec3f1",
        "colab": {
          "base_uri": "https://localhost:8080/"
        }
      },
      "outputs": [
        {
          "output_type": "execute_result",
          "data": {
            "text/plain": [
              "dict_keys(['response', 'source_nodes'])"
            ]
          },
          "metadata": {},
          "execution_count": 75
        }
      ],
      "source": [
        "response.keys()"
      ]
    },
    {
      "cell_type": "code",
      "source": [
        "response.get('response').message.blocks[0].text"
      ],
      "metadata": {
        "id": "-qpK-v4yl16E",
        "outputId": "3ce369aa-e585-497f-890f-985bfa9fdc07",
        "colab": {
          "base_uri": "https://localhost:8080/",
          "height": 88
        }
      },
      "execution_count": 84,
      "outputs": [
        {
          "output_type": "execute_result",
          "data": {
            "text/plain": [
              "'The text mentions that there are multiple variants of Llama 3, specifically referring to the 8B, 70B, and 405B parameter models. Additionally, it indicates that there are pre-trained and post-trained versions of the 405B parameter language model. Therefore, at least three distinct models (8B, 70B, and 405B) exist, along with their respective pre-trained and post-trained versions. However, the exact total number of models is not explicitly stated in the provided context.'"
            ],
            "application/vnd.google.colaboratory.intrinsic+json": {
              "type": "string"
            }
          },
          "metadata": {},
          "execution_count": 84
        }
      ]
    },
    {
      "cell_type": "code",
      "execution_count": 76,
      "metadata": {
        "id": "NShulZTPSkng",
        "outputId": "7e514dd4-518c-4944-a9c9-de84908c28b4",
        "colab": {
          "base_uri": "https://localhost:8080/"
        }
      },
      "outputs": [
        {
          "output_type": "stream",
          "name": "stdout",
          "text": [
            "<class 'NoneType'>\n",
            "<class 'llama_index.core.workflow.events.StopEvent'>\n",
            "<class '__main__.RagPrompt'>\n",
            "<class '__main__.ReRankResult'>\n",
            "<class '__main__.RetrievalResult'>\n",
            "flow.html\n"
          ]
        }
      ],
      "source": [
        "from llama_index.utils.workflow import draw_all_possible_flows\n",
        "from IPython.core.display import HTML, display\n",
        "draw_all_possible_flows(RAGWithReRank, filename=\"flow.html\")"
      ]
    },
    {
      "cell_type": "markdown",
      "metadata": {
        "id": "h3rveXvaSknh"
      },
      "source": [
        "# Exercise: Chat with PDF (30 minutes)\n",
        "\n",
        "Your goal in this exercise is to create a Gradio interface for a question-answering system.\n",
        "Your application should:\n",
        "- Use the query engine created above to answer questions about the uploaded PDF\n",
        "- Display the question and answer in the UI. If using QueryEngine, use a question and answer format. If using ChatEngine, use a chat format.\n",
        "\n",
        "If you need a challenge:\n",
        "- Look at the LlamaIndex docs and add something new to the pipeline, such as [`HyDEQueryTransform`](https://docs.llamaindex.ai/en/stable/examples/query_transformations/HyDEQueryTransformDemo/)\n",
        "- Use the `gr.File` component to allow the user to upload ANY pdf and ask question about it.\n"
      ]
    },
    {
      "cell_type": "code",
      "execution_count": null,
      "metadata": {
        "id": "DU-i_1YlSknh"
      },
      "outputs": [],
      "source": [
        "# Your code here"
      ]
    },
    {
      "cell_type": "code",
      "source": [
        "# Mike's solution\n",
        "import gradio as gr\n",
        "from llama_index.core.node_parser import HTMLNodeParser\n",
        "from llama_index.core.indices.query.query_transform import HyDEQueryTransform\n",
        "from llama_index.core.query_engine import TransformQueryEngine"
      ],
      "metadata": {
        "id": "iPJfrlEQns0k"
      },
      "execution_count": 107,
      "outputs": []
    },
    {
      "cell_type": "code",
      "source": [
        "def build_index_from_website(url):\n",
        "    reader = SimpleWebPageReader(html_to_text=False)\n",
        "    documents = reader.load_data([url])\n",
        "    node_parser = HTMLNodeParser.from_defaults()\n",
        "    nodes = node_parser.get_nodes_from_documents(documents, show_progress=True)\n",
        "    index = VectorStoreIndex(nodes=nodes, embed_model=embed_model)\n",
        "    return index.as_chat_engine(llm=OpenAI('gpt-4o-mini')), [], None\n",
        "\n",
        "def chat(engine, message, history):\n",
        "    history.append({\n",
        "        'role': 'user',\n",
        "        'content': message\n",
        "    })\n",
        "    response = engine.chat(message)\n",
        "    history.append({\n",
        "        'role': 'assistant',\n",
        "        'content': response.response\n",
        "    })\n",
        "    return history, None"
      ],
      "metadata": {
        "id": "qmgWlp5znyQd"
      },
      "execution_count": 122,
      "outputs": []
    },
    {
      "cell_type": "code",
      "source": [
        "with gr.Blocks() as demo:\n",
        "    _engine = gr.State()\n",
        "    with gr.Row():\n",
        "        with gr.Column(scale=1):\n",
        "            url_input = gr.Textbox(placeholder='Enter a URL')\n",
        "            submit_button = gr.Button('Submit')\n",
        "\n",
        "        with gr.Column(scale=4):\n",
        "            chat_history = gr.Chatbot(type=\"messages\")\n",
        "            text_input = gr.Textbox(placeholder=\"Ask me a question!\")\n",
        "\n",
        "\n",
        "    submit_button.click(build_index_from_website, inputs=url_input, outputs=[_engine, chat_history, text_input])\n",
        "    text_input.submit(chat, inputs=[_engine, text_input, chat_history], outputs=[chat_history, text_input])\n",
        "\n",
        "demo.launch(debug=False)"
      ],
      "metadata": {
        "id": "CAnhOjOGoPuo",
        "outputId": "0d57e66e-ddc4-4b33-d44e-299be9a860ef",
        "colab": {
          "base_uri": "https://localhost:8080/",
          "height": 646
        }
      },
      "execution_count": 124,
      "outputs": [
        {
          "output_type": "stream",
          "name": "stdout",
          "text": [
            "Running Gradio in a Colab notebook requires sharing enabled. Automatically setting `share=True` (you can turn this off by setting `share=False` in `launch()` explicitly).\n",
            "\n",
            "Colab notebook detected. To show errors in colab notebook, set debug=True in launch()\n",
            "* Running on public URL: https://ed69c207f62ab145ec.gradio.live\n",
            "\n",
            "This share link expires in 72 hours. For free permanent hosting and GPU upgrades, run `gradio deploy` from the terminal in the working directory to deploy to Hugging Face Spaces (https://huggingface.co/spaces)\n"
          ]
        },
        {
          "output_type": "display_data",
          "data": {
            "text/plain": [
              "<IPython.core.display.HTML object>"
            ],
            "text/html": [
              "<div><iframe src=\"https://ed69c207f62ab145ec.gradio.live\" width=\"100%\" height=\"500\" allow=\"autoplay; camera; microphone; clipboard-read; clipboard-write;\" frameborder=\"0\" allowfullscreen></iframe></div>"
            ]
          },
          "metadata": {}
        },
        {
          "output_type": "execute_result",
          "data": {
            "text/plain": []
          },
          "metadata": {},
          "execution_count": 124
        }
      ]
    },
    {
      "cell_type": "markdown",
      "metadata": {
        "id": "QGIBl3H0Sknh"
      },
      "source": [
        "# Agents\n",
        "\n",
        "LLMs on their own have limited capabilities to perform tasks.\n",
        "One way to augment that is to give them tools they can use.\n",
        "These tools allow them to perform actions in the real world, such as searching the web or updating a database.\n",
        "In this section, we'll build up an understanding for how agents work under the hood and how to use them.\n",
        "\n",
        "**NOTE:** Rodney pointed out that at least internally at Microsoft, they are recommending people use [semantic kernel](https://github.com/microsoft/semantic-kernel) over Autogen."
      ]
    },
    {
      "cell_type": "markdown",
      "metadata": {
        "id": "9EdEb0fPSknh"
      },
      "source": [
        "## Function calling\n",
        "\n",
        "LLMs are fine tuned to call functions with parameters based on the prompt.\n",
        "This means you can provide information about one ore more functions you want to call and have the LLM decide which one to call.\n",
        "This is powerful tool when working with LLMs because it can provide a lot of external data and skills not available to the LLM itself.\n",
        "\n",
        "Let's go through a simple function calling example."
      ]
    },
    {
      "cell_type": "code",
      "execution_count": 125,
      "metadata": {
        "id": "0PgLUzkGSknh"
      },
      "outputs": [],
      "source": [
        "from llama_index.core.tools import FunctionTool\n",
        "from llama_index.llms.openai import OpenAI\n",
        "from llama_index.core.llms import ChatMessage\n",
        "import numpy as np\n",
        "from rich import print\n",
        "import json"
      ]
    },
    {
      "cell_type": "markdown",
      "metadata": {
        "id": "_0TM8z6wSknh"
      },
      "source": [
        "In the cell below, we define a function that rolls a number of dice and returns the results.\n",
        "LlamaIndex provides a `FunctionTool` class that makes it easy to convert a function into a tool."
      ]
    },
    {
      "cell_type": "code",
      "execution_count": 126,
      "metadata": {
        "id": "bsOEF4sYSknh"
      },
      "outputs": [],
      "source": [
        "def roll_dice(num_dice:int) -> str:\n",
        "    \"\"\"\n",
        "    Rolls a number of dice and returns the results.\n",
        "\n",
        "    Args:\n",
        "        num_dice: The number of dice to roll\n",
        "\n",
        "    Returns:\n",
        "        str: The results of the dice roll (comma separated if multiple dice are rolled)\n",
        "    \"\"\"\n",
        "    return ', '.join(str(np.random.randint(1, 6)) for _ in range(num_dice))\n",
        "\n",
        "roll_dice_tool = FunctionTool.from_defaults(fn=roll_dice, description=\"Useful when you need to roll dice.\")"
      ]
    },
    {
      "cell_type": "markdown",
      "metadata": {
        "id": "OkywNXPVSknh"
      },
      "source": [
        "Let's ask our LLM to roll 5 dice and see what happens."
      ]
    },
    {
      "cell_type": "code",
      "execution_count": 127,
      "metadata": {
        "id": "iDzdsUBVSknh"
      },
      "outputs": [],
      "source": [
        "llm = OpenAI(model=\"gpt-4o-mini\")\n",
        "messages = [\n",
        "    ChatMessage.from_str(\"Roll 5 dice\")\n",
        "]\n",
        "response = llm.chat_with_tools(tools=[roll_dice_tool], messages=messages)"
      ]
    },
    {
      "cell_type": "markdown",
      "metadata": {
        "id": "6WIftLQRSknh"
      },
      "source": [
        "It doesn't actually call the function yet - it just says which function to call and which arguments to pass to it."
      ]
    },
    {
      "cell_type": "code",
      "execution_count": 128,
      "metadata": {
        "id": "soZBOHldSknh",
        "outputId": "034baa47-15c8-4386-9cda-70f1adc63481",
        "colab": {
          "base_uri": "https://localhost:8080/",
          "height": 961
        }
      },
      "outputs": [
        {
          "output_type": "display_data",
          "data": {
            "text/plain": [
              "\u001b[1;35mChatResponse\u001b[0m\u001b[1m(\u001b[0m\n",
              "    \u001b[33mmessage\u001b[0m=\u001b[1;35mChatMessage\u001b[0m\u001b[1m(\u001b[0m\n",
              "        \u001b[33mrole\u001b[0m=\u001b[1m<\u001b[0m\u001b[1;95mMessageRole.ASSISTANT:\u001b[0m\u001b[39m \u001b[0m\u001b[32m'assistant'\u001b[0m\u001b[1m>\u001b[0m,\n",
              "        \u001b[33madditional_kwargs\u001b[0m=\u001b[1m{\u001b[0m\n",
              "            \u001b[32m'tool_calls'\u001b[0m: \u001b[1m[\u001b[0m\n",
              "                \u001b[1;35mChatCompletionMessageToolCall\u001b[0m\u001b[1m(\u001b[0m\n",
              "                    \u001b[33mid\u001b[0m=\u001b[32m'call_DOIu5suHGnFnaCpjZQDCGleR'\u001b[0m,\n",
              "                    \u001b[33mfunction\u001b[0m=\u001b[1;35mFunction\u001b[0m\u001b[1m(\u001b[0m\u001b[33marguments\u001b[0m=\u001b[32m'\u001b[0m\u001b[32m{\u001b[0m\u001b[32m\"num_dice\":5\u001b[0m\u001b[32m}\u001b[0m\u001b[32m'\u001b[0m, \u001b[33mname\u001b[0m=\u001b[32m'roll_dice'\u001b[0m\u001b[1m)\u001b[0m,\n",
              "                    \u001b[33mtype\u001b[0m=\u001b[32m'function'\u001b[0m\n",
              "                \u001b[1m)\u001b[0m\n",
              "            \u001b[1m]\u001b[0m\n",
              "        \u001b[1m}\u001b[0m,\n",
              "        \u001b[33mblocks\u001b[0m=\u001b[1m[\u001b[0m\u001b[1m]\u001b[0m\n",
              "    \u001b[1m)\u001b[0m,\n",
              "    \u001b[33mraw\u001b[0m=\u001b[1;35mChatCompletion\u001b[0m\u001b[1m(\u001b[0m\n",
              "        \u001b[33mid\u001b[0m=\u001b[32m'chatcmpl-AbxUbuUMw2jK3RvQFNxi4fgQtylnM'\u001b[0m,\n",
              "        \u001b[33mchoices\u001b[0m=\u001b[1m[\u001b[0m\n",
              "            \u001b[1;35mChoice\u001b[0m\u001b[1m(\u001b[0m\n",
              "                \u001b[33mfinish_reason\u001b[0m=\u001b[32m'tool_calls'\u001b[0m,\n",
              "                \u001b[33mindex\u001b[0m=\u001b[1;36m0\u001b[0m,\n",
              "                \u001b[33mlogprobs\u001b[0m=\u001b[3;35mNone\u001b[0m,\n",
              "                \u001b[33mmessage\u001b[0m=\u001b[1;35mChatCompletionMessage\u001b[0m\u001b[1m(\u001b[0m\n",
              "                    \u001b[33mcontent\u001b[0m=\u001b[3;35mNone\u001b[0m,\n",
              "                    \u001b[33mrefusal\u001b[0m=\u001b[3;35mNone\u001b[0m,\n",
              "                    \u001b[33mrole\u001b[0m=\u001b[32m'assistant'\u001b[0m,\n",
              "                    \u001b[33maudio\u001b[0m=\u001b[3;35mNone\u001b[0m,\n",
              "                    \u001b[33mfunction_call\u001b[0m=\u001b[3;35mNone\u001b[0m,\n",
              "                    \u001b[33mtool_calls\u001b[0m=\u001b[1m[\u001b[0m\n",
              "                        \u001b[1;35mChatCompletionMessageToolCall\u001b[0m\u001b[1m(\u001b[0m\n",
              "                            \u001b[33mid\u001b[0m=\u001b[32m'call_DOIu5suHGnFnaCpjZQDCGleR'\u001b[0m,\n",
              "                            \u001b[33mfunction\u001b[0m=\u001b[1;35mFunction\u001b[0m\u001b[1m(\u001b[0m\u001b[33marguments\u001b[0m=\u001b[32m'\u001b[0m\u001b[32m{\u001b[0m\u001b[32m\"num_dice\":5\u001b[0m\u001b[32m}\u001b[0m\u001b[32m'\u001b[0m, \u001b[33mname\u001b[0m=\u001b[32m'roll_dice'\u001b[0m\u001b[1m)\u001b[0m,\n",
              "                            \u001b[33mtype\u001b[0m=\u001b[32m'function'\u001b[0m\n",
              "                        \u001b[1m)\u001b[0m\n",
              "                    \u001b[1m]\u001b[0m\n",
              "                \u001b[1m)\u001b[0m\n",
              "            \u001b[1m)\u001b[0m\n",
              "        \u001b[1m]\u001b[0m,\n",
              "        \u001b[33mcreated\u001b[0m=\u001b[1;36m1733610189\u001b[0m,\n",
              "        \u001b[33mmodel\u001b[0m=\u001b[32m'gpt-4o-mini-2024-07-18'\u001b[0m,\n",
              "        \u001b[33mobject\u001b[0m=\u001b[32m'chat.completion'\u001b[0m,\n",
              "        \u001b[33mservice_tier\u001b[0m=\u001b[3;35mNone\u001b[0m,\n",
              "        \u001b[33msystem_fingerprint\u001b[0m=\u001b[32m'fp_bba3c8e70b'\u001b[0m,\n",
              "        \u001b[33musage\u001b[0m=\u001b[1;35mCompletionUsage\u001b[0m\u001b[1m(\u001b[0m\n",
              "            \u001b[33mcompletion_tokens\u001b[0m=\u001b[1;36m17\u001b[0m,\n",
              "            \u001b[33mprompt_tokens\u001b[0m=\u001b[1;36m56\u001b[0m,\n",
              "            \u001b[33mtotal_tokens\u001b[0m=\u001b[1;36m73\u001b[0m,\n",
              "            \u001b[33mcompletion_tokens_details\u001b[0m=\u001b[1;35mCompletionTokensDetails\u001b[0m\u001b[1m(\u001b[0m\n",
              "                \u001b[33maccepted_prediction_tokens\u001b[0m=\u001b[1;36m0\u001b[0m,\n",
              "                \u001b[33maudio_tokens\u001b[0m=\u001b[1;36m0\u001b[0m,\n",
              "                \u001b[33mreasoning_tokens\u001b[0m=\u001b[1;36m0\u001b[0m,\n",
              "                \u001b[33mrejected_prediction_tokens\u001b[0m=\u001b[1;36m0\u001b[0m\n",
              "            \u001b[1m)\u001b[0m,\n",
              "            \u001b[33mprompt_tokens_details\u001b[0m=\u001b[1;35mPromptTokensDetails\u001b[0m\u001b[1m(\u001b[0m\u001b[33maudio_tokens\u001b[0m=\u001b[1;36m0\u001b[0m, \u001b[33mcached_tokens\u001b[0m=\u001b[1;36m0\u001b[0m\u001b[1m)\u001b[0m\n",
              "        \u001b[1m)\u001b[0m\n",
              "    \u001b[1m)\u001b[0m,\n",
              "    \u001b[33mdelta\u001b[0m=\u001b[3;35mNone\u001b[0m,\n",
              "    \u001b[33mlogprobs\u001b[0m=\u001b[3;35mNone\u001b[0m,\n",
              "    \u001b[33madditional_kwargs\u001b[0m=\u001b[1m{\u001b[0m\u001b[32m'prompt_tokens'\u001b[0m: \u001b[1;36m56\u001b[0m, \u001b[32m'completion_tokens'\u001b[0m: \u001b[1;36m17\u001b[0m, \u001b[32m'total_tokens'\u001b[0m: \u001b[1;36m73\u001b[0m\u001b[1m}\u001b[0m\n",
              "\u001b[1m)\u001b[0m\n"
            ],
            "text/html": [
              "<pre style=\"white-space:pre;overflow-x:auto;line-height:normal;font-family:Menlo,'DejaVu Sans Mono',consolas,'Courier New',monospace\"><span style=\"color: #800080; text-decoration-color: #800080; font-weight: bold\">ChatResponse</span><span style=\"font-weight: bold\">(</span>\n",
              "    <span style=\"color: #808000; text-decoration-color: #808000\">message</span>=<span style=\"color: #800080; text-decoration-color: #800080; font-weight: bold\">ChatMessage</span><span style=\"font-weight: bold\">(</span>\n",
              "        <span style=\"color: #808000; text-decoration-color: #808000\">role</span>=<span style=\"font-weight: bold\">&lt;</span><span style=\"color: #ff00ff; text-decoration-color: #ff00ff; font-weight: bold\">MessageRole.ASSISTANT:</span><span style=\"color: #000000; text-decoration-color: #000000\"> </span><span style=\"color: #008000; text-decoration-color: #008000\">'assistant'</span><span style=\"font-weight: bold\">&gt;</span>,\n",
              "        <span style=\"color: #808000; text-decoration-color: #808000\">additional_kwargs</span>=<span style=\"font-weight: bold\">{</span>\n",
              "            <span style=\"color: #008000; text-decoration-color: #008000\">'tool_calls'</span>: <span style=\"font-weight: bold\">[</span>\n",
              "                <span style=\"color: #800080; text-decoration-color: #800080; font-weight: bold\">ChatCompletionMessageToolCall</span><span style=\"font-weight: bold\">(</span>\n",
              "                    <span style=\"color: #808000; text-decoration-color: #808000\">id</span>=<span style=\"color: #008000; text-decoration-color: #008000\">'call_DOIu5suHGnFnaCpjZQDCGleR'</span>,\n",
              "                    <span style=\"color: #808000; text-decoration-color: #808000\">function</span>=<span style=\"color: #800080; text-decoration-color: #800080; font-weight: bold\">Function</span><span style=\"font-weight: bold\">(</span><span style=\"color: #808000; text-decoration-color: #808000\">arguments</span>=<span style=\"color: #008000; text-decoration-color: #008000\">'{\"num_dice\":5}'</span>, <span style=\"color: #808000; text-decoration-color: #808000\">name</span>=<span style=\"color: #008000; text-decoration-color: #008000\">'roll_dice'</span><span style=\"font-weight: bold\">)</span>,\n",
              "                    <span style=\"color: #808000; text-decoration-color: #808000\">type</span>=<span style=\"color: #008000; text-decoration-color: #008000\">'function'</span>\n",
              "                <span style=\"font-weight: bold\">)</span>\n",
              "            <span style=\"font-weight: bold\">]</span>\n",
              "        <span style=\"font-weight: bold\">}</span>,\n",
              "        <span style=\"color: #808000; text-decoration-color: #808000\">blocks</span>=<span style=\"font-weight: bold\">[]</span>\n",
              "    <span style=\"font-weight: bold\">)</span>,\n",
              "    <span style=\"color: #808000; text-decoration-color: #808000\">raw</span>=<span style=\"color: #800080; text-decoration-color: #800080; font-weight: bold\">ChatCompletion</span><span style=\"font-weight: bold\">(</span>\n",
              "        <span style=\"color: #808000; text-decoration-color: #808000\">id</span>=<span style=\"color: #008000; text-decoration-color: #008000\">'chatcmpl-AbxUbuUMw2jK3RvQFNxi4fgQtylnM'</span>,\n",
              "        <span style=\"color: #808000; text-decoration-color: #808000\">choices</span>=<span style=\"font-weight: bold\">[</span>\n",
              "            <span style=\"color: #800080; text-decoration-color: #800080; font-weight: bold\">Choice</span><span style=\"font-weight: bold\">(</span>\n",
              "                <span style=\"color: #808000; text-decoration-color: #808000\">finish_reason</span>=<span style=\"color: #008000; text-decoration-color: #008000\">'tool_calls'</span>,\n",
              "                <span style=\"color: #808000; text-decoration-color: #808000\">index</span>=<span style=\"color: #008080; text-decoration-color: #008080; font-weight: bold\">0</span>,\n",
              "                <span style=\"color: #808000; text-decoration-color: #808000\">logprobs</span>=<span style=\"color: #800080; text-decoration-color: #800080; font-style: italic\">None</span>,\n",
              "                <span style=\"color: #808000; text-decoration-color: #808000\">message</span>=<span style=\"color: #800080; text-decoration-color: #800080; font-weight: bold\">ChatCompletionMessage</span><span style=\"font-weight: bold\">(</span>\n",
              "                    <span style=\"color: #808000; text-decoration-color: #808000\">content</span>=<span style=\"color: #800080; text-decoration-color: #800080; font-style: italic\">None</span>,\n",
              "                    <span style=\"color: #808000; text-decoration-color: #808000\">refusal</span>=<span style=\"color: #800080; text-decoration-color: #800080; font-style: italic\">None</span>,\n",
              "                    <span style=\"color: #808000; text-decoration-color: #808000\">role</span>=<span style=\"color: #008000; text-decoration-color: #008000\">'assistant'</span>,\n",
              "                    <span style=\"color: #808000; text-decoration-color: #808000\">audio</span>=<span style=\"color: #800080; text-decoration-color: #800080; font-style: italic\">None</span>,\n",
              "                    <span style=\"color: #808000; text-decoration-color: #808000\">function_call</span>=<span style=\"color: #800080; text-decoration-color: #800080; font-style: italic\">None</span>,\n",
              "                    <span style=\"color: #808000; text-decoration-color: #808000\">tool_calls</span>=<span style=\"font-weight: bold\">[</span>\n",
              "                        <span style=\"color: #800080; text-decoration-color: #800080; font-weight: bold\">ChatCompletionMessageToolCall</span><span style=\"font-weight: bold\">(</span>\n",
              "                            <span style=\"color: #808000; text-decoration-color: #808000\">id</span>=<span style=\"color: #008000; text-decoration-color: #008000\">'call_DOIu5suHGnFnaCpjZQDCGleR'</span>,\n",
              "                            <span style=\"color: #808000; text-decoration-color: #808000\">function</span>=<span style=\"color: #800080; text-decoration-color: #800080; font-weight: bold\">Function</span><span style=\"font-weight: bold\">(</span><span style=\"color: #808000; text-decoration-color: #808000\">arguments</span>=<span style=\"color: #008000; text-decoration-color: #008000\">'{\"num_dice\":5}'</span>, <span style=\"color: #808000; text-decoration-color: #808000\">name</span>=<span style=\"color: #008000; text-decoration-color: #008000\">'roll_dice'</span><span style=\"font-weight: bold\">)</span>,\n",
              "                            <span style=\"color: #808000; text-decoration-color: #808000\">type</span>=<span style=\"color: #008000; text-decoration-color: #008000\">'function'</span>\n",
              "                        <span style=\"font-weight: bold\">)</span>\n",
              "                    <span style=\"font-weight: bold\">]</span>\n",
              "                <span style=\"font-weight: bold\">)</span>\n",
              "            <span style=\"font-weight: bold\">)</span>\n",
              "        <span style=\"font-weight: bold\">]</span>,\n",
              "        <span style=\"color: #808000; text-decoration-color: #808000\">created</span>=<span style=\"color: #008080; text-decoration-color: #008080; font-weight: bold\">1733610189</span>,\n",
              "        <span style=\"color: #808000; text-decoration-color: #808000\">model</span>=<span style=\"color: #008000; text-decoration-color: #008000\">'gpt-4o-mini-2024-07-18'</span>,\n",
              "        <span style=\"color: #808000; text-decoration-color: #808000\">object</span>=<span style=\"color: #008000; text-decoration-color: #008000\">'chat.completion'</span>,\n",
              "        <span style=\"color: #808000; text-decoration-color: #808000\">service_tier</span>=<span style=\"color: #800080; text-decoration-color: #800080; font-style: italic\">None</span>,\n",
              "        <span style=\"color: #808000; text-decoration-color: #808000\">system_fingerprint</span>=<span style=\"color: #008000; text-decoration-color: #008000\">'fp_bba3c8e70b'</span>,\n",
              "        <span style=\"color: #808000; text-decoration-color: #808000\">usage</span>=<span style=\"color: #800080; text-decoration-color: #800080; font-weight: bold\">CompletionUsage</span><span style=\"font-weight: bold\">(</span>\n",
              "            <span style=\"color: #808000; text-decoration-color: #808000\">completion_tokens</span>=<span style=\"color: #008080; text-decoration-color: #008080; font-weight: bold\">17</span>,\n",
              "            <span style=\"color: #808000; text-decoration-color: #808000\">prompt_tokens</span>=<span style=\"color: #008080; text-decoration-color: #008080; font-weight: bold\">56</span>,\n",
              "            <span style=\"color: #808000; text-decoration-color: #808000\">total_tokens</span>=<span style=\"color: #008080; text-decoration-color: #008080; font-weight: bold\">73</span>,\n",
              "            <span style=\"color: #808000; text-decoration-color: #808000\">completion_tokens_details</span>=<span style=\"color: #800080; text-decoration-color: #800080; font-weight: bold\">CompletionTokensDetails</span><span style=\"font-weight: bold\">(</span>\n",
              "                <span style=\"color: #808000; text-decoration-color: #808000\">accepted_prediction_tokens</span>=<span style=\"color: #008080; text-decoration-color: #008080; font-weight: bold\">0</span>,\n",
              "                <span style=\"color: #808000; text-decoration-color: #808000\">audio_tokens</span>=<span style=\"color: #008080; text-decoration-color: #008080; font-weight: bold\">0</span>,\n",
              "                <span style=\"color: #808000; text-decoration-color: #808000\">reasoning_tokens</span>=<span style=\"color: #008080; text-decoration-color: #008080; font-weight: bold\">0</span>,\n",
              "                <span style=\"color: #808000; text-decoration-color: #808000\">rejected_prediction_tokens</span>=<span style=\"color: #008080; text-decoration-color: #008080; font-weight: bold\">0</span>\n",
              "            <span style=\"font-weight: bold\">)</span>,\n",
              "            <span style=\"color: #808000; text-decoration-color: #808000\">prompt_tokens_details</span>=<span style=\"color: #800080; text-decoration-color: #800080; font-weight: bold\">PromptTokensDetails</span><span style=\"font-weight: bold\">(</span><span style=\"color: #808000; text-decoration-color: #808000\">audio_tokens</span>=<span style=\"color: #008080; text-decoration-color: #008080; font-weight: bold\">0</span>, <span style=\"color: #808000; text-decoration-color: #808000\">cached_tokens</span>=<span style=\"color: #008080; text-decoration-color: #008080; font-weight: bold\">0</span><span style=\"font-weight: bold\">)</span>\n",
              "        <span style=\"font-weight: bold\">)</span>\n",
              "    <span style=\"font-weight: bold\">)</span>,\n",
              "    <span style=\"color: #808000; text-decoration-color: #808000\">delta</span>=<span style=\"color: #800080; text-decoration-color: #800080; font-style: italic\">None</span>,\n",
              "    <span style=\"color: #808000; text-decoration-color: #808000\">logprobs</span>=<span style=\"color: #800080; text-decoration-color: #800080; font-style: italic\">None</span>,\n",
              "    <span style=\"color: #808000; text-decoration-color: #808000\">additional_kwargs</span>=<span style=\"font-weight: bold\">{</span><span style=\"color: #008000; text-decoration-color: #008000\">'prompt_tokens'</span>: <span style=\"color: #008080; text-decoration-color: #008080; font-weight: bold\">56</span>, <span style=\"color: #008000; text-decoration-color: #008000\">'completion_tokens'</span>: <span style=\"color: #008080; text-decoration-color: #008080; font-weight: bold\">17</span>, <span style=\"color: #008000; text-decoration-color: #008000\">'total_tokens'</span>: <span style=\"color: #008080; text-decoration-color: #008080; font-weight: bold\">73</span><span style=\"font-weight: bold\">}</span>\n",
              "<span style=\"font-weight: bold\">)</span>\n",
              "</pre>\n"
            ]
          },
          "metadata": {}
        }
      ],
      "source": [
        "print(response)"
      ]
    },
    {
      "cell_type": "markdown",
      "metadata": {
        "id": "0GMn1XbrSknh"
      },
      "source": [
        "Let's parse the response to get the function call and arguments."
      ]
    },
    {
      "cell_type": "code",
      "execution_count": 129,
      "metadata": {
        "id": "ei2UwNidSknh",
        "outputId": "d97df95b-fb17-40fb-a372-bf9ab0e5726d",
        "colab": {
          "base_uri": "https://localhost:8080/",
          "height": 33
        }
      },
      "outputs": [
        {
          "output_type": "display_data",
          "data": {
            "text/plain": [
              "\u001b[1;35mFunction\u001b[0m\u001b[1m(\u001b[0m\u001b[33marguments\u001b[0m=\u001b[32m'\u001b[0m\u001b[32m{\u001b[0m\u001b[32m\"num_dice\":5\u001b[0m\u001b[32m}\u001b[0m\u001b[32m'\u001b[0m, \u001b[33mname\u001b[0m=\u001b[32m'roll_dice'\u001b[0m\u001b[1m)\u001b[0m\n"
            ],
            "text/html": [
              "<pre style=\"white-space:pre;overflow-x:auto;line-height:normal;font-family:Menlo,'DejaVu Sans Mono',consolas,'Courier New',monospace\"><span style=\"color: #800080; text-decoration-color: #800080; font-weight: bold\">Function</span><span style=\"font-weight: bold\">(</span><span style=\"color: #808000; text-decoration-color: #808000\">arguments</span>=<span style=\"color: #008000; text-decoration-color: #008000\">'{\"num_dice\":5}'</span>, <span style=\"color: #808000; text-decoration-color: #808000\">name</span>=<span style=\"color: #008000; text-decoration-color: #008000\">'roll_dice'</span><span style=\"font-weight: bold\">)</span>\n",
              "</pre>\n"
            ]
          },
          "metadata": {}
        }
      ],
      "source": [
        "function_call = response.raw.choices[0].message.tool_calls[0].function\n",
        "print(function_call)"
      ]
    },
    {
      "cell_type": "markdown",
      "metadata": {
        "id": "O6bccAYWSknh"
      },
      "source": [
        "Finally, let's call the function with the arguments."
      ]
    },
    {
      "cell_type": "code",
      "execution_count": 130,
      "metadata": {
        "id": "iij9WPPcSknh",
        "outputId": "659dd723-f6a5-4a90-c7b6-5f0aa5f8a621",
        "colab": {
          "base_uri": "https://localhost:8080/",
          "height": 129
        }
      },
      "outputs": [
        {
          "output_type": "display_data",
          "data": {
            "text/plain": [
              "\u001b[1;35mToolOutput\u001b[0m\u001b[1m(\u001b[0m\n",
              "    \u001b[33mcontent\u001b[0m=\u001b[32m'2, 3, 4, 3, 3'\u001b[0m,\n",
              "    \u001b[33mtool_name\u001b[0m=\u001b[32m'roll_dice'\u001b[0m,\n",
              "    \u001b[33mraw_input\u001b[0m=\u001b[1m{\u001b[0m\u001b[32m'args'\u001b[0m: \u001b[1m(\u001b[0m\u001b[1m)\u001b[0m, \u001b[32m'kwargs'\u001b[0m: \u001b[1m{\u001b[0m\u001b[32m'num_dice'\u001b[0m: \u001b[1;36m5\u001b[0m\u001b[1m}\u001b[0m\u001b[1m}\u001b[0m,\n",
              "    \u001b[33mraw_output\u001b[0m=\u001b[32m'2, 3, 4, 3, 3'\u001b[0m,\n",
              "    \u001b[33mis_error\u001b[0m=\u001b[3;91mFalse\u001b[0m\n",
              "\u001b[1m)\u001b[0m\n"
            ],
            "text/html": [
              "<pre style=\"white-space:pre;overflow-x:auto;line-height:normal;font-family:Menlo,'DejaVu Sans Mono',consolas,'Courier New',monospace\"><span style=\"color: #800080; text-decoration-color: #800080; font-weight: bold\">ToolOutput</span><span style=\"font-weight: bold\">(</span>\n",
              "    <span style=\"color: #808000; text-decoration-color: #808000\">content</span>=<span style=\"color: #008000; text-decoration-color: #008000\">'2, 3, 4, 3, 3'</span>,\n",
              "    <span style=\"color: #808000; text-decoration-color: #808000\">tool_name</span>=<span style=\"color: #008000; text-decoration-color: #008000\">'roll_dice'</span>,\n",
              "    <span style=\"color: #808000; text-decoration-color: #808000\">raw_input</span>=<span style=\"font-weight: bold\">{</span><span style=\"color: #008000; text-decoration-color: #008000\">'args'</span>: <span style=\"font-weight: bold\">()</span>, <span style=\"color: #008000; text-decoration-color: #008000\">'kwargs'</span>: <span style=\"font-weight: bold\">{</span><span style=\"color: #008000; text-decoration-color: #008000\">'num_dice'</span>: <span style=\"color: #008080; text-decoration-color: #008080; font-weight: bold\">5</span><span style=\"font-weight: bold\">}}</span>,\n",
              "    <span style=\"color: #808000; text-decoration-color: #808000\">raw_output</span>=<span style=\"color: #008000; text-decoration-color: #008000\">'2, 3, 4, 3, 3'</span>,\n",
              "    <span style=\"color: #808000; text-decoration-color: #808000\">is_error</span>=<span style=\"color: #ff0000; text-decoration-color: #ff0000; font-style: italic\">False</span>\n",
              "<span style=\"font-weight: bold\">)</span>\n",
              "</pre>\n"
            ]
          },
          "metadata": {}
        }
      ],
      "source": [
        "tool_output = roll_dice_tool.call(**json.loads(function_call.arguments))\n",
        "print(tool_output)"
      ]
    },
    {
      "cell_type": "markdown",
      "metadata": {
        "id": "bBAWQ3DUSknh"
      },
      "source": [
        "Great! Now we have a basic idea of how function calling works under the hood.\n",
        "Agents use function calling to call tools, but generally use them in loops combined with reasoning steps to accomplish complex tasks.\n",
        "Next, we'll see how to use LlamaIndex's implementation of agents."
      ]
    },
    {
      "cell_type": "markdown",
      "metadata": {
        "id": "GOcSDvmcSknh"
      },
      "source": [
        "## Intro to Llama index agents: Financial Data Agent\n",
        "\n",
        "We've seen how to use function calling with an LLM, but it was kind of difficult to go from the LLM response to the function call.\n",
        "We didn't even close the loop and pass the tool call result back to the LLM.\n",
        "LlamaIndex's `FunctionCallingAgent` and `ReActAgent` classes make this easier.\n",
        "Let's go through an example of using the `FunctionCallingAgent` to perform a more complex tasks."
      ]
    },
    {
      "cell_type": "code",
      "execution_count": 133,
      "metadata": {
        "id": "FYfXUgxiSknh"
      },
      "outputs": [],
      "source": [
        "from llama_index.core.agent import ReActAgent, FunctionCallingAgent\n",
        "from llama_index.agent.openai import OpenAIAgent\n",
        "from llama_index.core.tools import FunctionTool\n",
        "from llama_index.tools.yahoo_finance import YahooFinanceToolSpec\n",
        "from llama_index.llms.openai import OpenAI\n",
        "from yfinance import download as yf_download\n",
        "from datetime import datetime"
      ]
    },
    {
      "cell_type": "markdown",
      "metadata": {
        "id": "4n-LPKVhSknh"
      },
      "source": [
        "It's really useful to be able to define your own tools.\n",
        "Luckliy, LlamaIndex makes this easy with the `FunctionTool` class.\n",
        "Here, we'll define a tool that gets stock data from Yahoo Finance and returns it as a markdown table."
      ]
    },
    {
      "cell_type": "code",
      "execution_count": 144,
      "metadata": {
        "id": "QdL7uoUaSkni"
      },
      "outputs": [],
      "source": [
        "def get_stock_data(ticker:str, start_date:str, end_date:str) -> str:\n",
        "    \"\"\"\n",
        "    Gets stock data using yfinance. All dates should be in YYYY-MM-DD format.\n",
        "\n",
        "    Args:\n",
        "        ticker: The ticker symbol of the stock to get data for\n",
        "        start_date: The start date of the data to get\n",
        "        end_date: The end date of the data to get\n",
        "\n",
        "    Returns:\n",
        "        str: A markdown table of the stock data\n",
        "    \"\"\"\n",
        "    df = yf_download(ticker, start=start_date, end=end_date)\n",
        "    return df.to_markdown()\n",
        "\n",
        "get_stock_data_tool = FunctionTool.from_defaults(fn=get_stock_data, description=\"Useful when you want to pull trended data about a stock.\")\n",
        "\n",
        "def get_todays_date() -> str:\n",
        "    \"\"\"\n",
        "    Gets today's date.\n",
        "\n",
        "    Returns:\n",
        "        str: Today's date in YYYY-MM-DD format\n",
        "    \"\"\"\n",
        "    date_str = datetime.today().strftime('%Y-%m-%d')\n",
        "    return f\"Today's date is {date_str}\"\n",
        "\n",
        "today_tool = FunctionTool.from_defaults(fn=get_todays_date, description=\"Useful when you need to get today's date.\")\n"
      ]
    },
    {
      "cell_type": "markdown",
      "metadata": {
        "id": "gdp91kuOSkni"
      },
      "source": [
        "Now, we can pass this tool to an agent to have it answer questions about stocks."
      ]
    },
    {
      "cell_type": "code",
      "execution_count": 145,
      "metadata": {
        "id": "eHbwLURvSkni",
        "outputId": "21256658-de2d-412d-b63e-bfc425d1ca9e",
        "colab": {
          "base_uri": "https://localhost:8080/"
        }
      },
      "outputs": [
        {
          "output_type": "stream",
          "name": "stdout",
          "text": [
            "> Running step c10826b0-825f-419e-ba47-8f572653c896. Step input: What was TSLA's high and low over the last 7 days?\n",
            "Added user message to memory: What was TSLA's high and low over the last 7 days?\n",
            "=== Calling Function ===\n",
            "Calling function: get_todays_date with args: {}\n",
            "=== Function Output ===\n",
            "Today's date is 2024-12-07\n",
            "> Running step 2586bbe0-4fee-473b-ba05-c527f9ac6176. Step input: None\n"
          ]
        },
        {
          "output_type": "stream",
          "name": "stderr",
          "text": [
            "\r[*********************100%***********************]  1 of 1 completed"
          ]
        },
        {
          "output_type": "stream",
          "name": "stdout",
          "text": [
            "=== Calling Function ===\n",
            "Calling function: get_stock_data with args: {\"ticker\": \"TSLA\", \"start_date\": \"2024-11-30\", \"end_date\": \"2024-12-07\"}\n",
            "=== Function Output ===\n",
            "| Date                |   ('Adj Close', 'TSLA') |   ('Close', 'TSLA') |   ('High', 'TSLA') |   ('Low', 'TSLA') |   ('Open', 'TSLA') |   ('Volume', 'TSLA') |\n",
            "|:--------------------|------------------------:|--------------------:|-------------------:|------------------:|-------------------:|---------------------:|\n",
            "| 2024-12-02 00:00:00 |                  357.09 |              357.09 |             360    |            351.15 |             352.38 |          7.79865e+07 |\n",
            "| 2024-12-03 00:00:00 |                  351.42 |              351.42 |             355.69 |            348.2  |             351.8  |          5.82672e+07 |\n",
            "| 2024-12-04 00:00:00 |                  357.93 |              357.93 |             358.1  |            348.6  |             353    |          5.08109e+07 |\n",
            "| 2024-12-05 00:00:00 |                  369.49 |              369.49 |             375.43 |            359.5  |             359.87 |          8.14036e+07 |\n",
            "| 2024-12-06 00:00:00 |                  389.22 |              389.22 |             389.49 |            370.8  |             377.42 |          8.05483e+07 |\n",
            "> Running step 36278078-d0b1-4144-9ba2-84bd63dce3e6. Step input: None\n"
          ]
        },
        {
          "output_type": "stream",
          "name": "stderr",
          "text": [
            "\n"
          ]
        },
        {
          "output_type": "stream",
          "name": "stdout",
          "text": [
            "=== LLM Response ===\n",
            "Over the last 7 days, TSLA's stock data shows the following high and low prices:\n",
            "\n",
            "- **High**: $389.49 (on December 6, 2024)\n",
            "- **Low**: $348.20 (on December 3, 2024)\n"
          ]
        }
      ],
      "source": [
        "agent = FunctionCallingAgent.from_tools(tools=[get_stock_data_tool, today_tool], llm=OpenAI(model=\"gpt-4o-mini\"), verbose=True)\n",
        "response = agent.chat(f\"What was TSLA's high and low over the last 7 days?\")"
      ]
    },
    {
      "cell_type": "code",
      "execution_count": 146,
      "metadata": {
        "id": "7xrOMrJbSkni",
        "outputId": "dbce9912-e57b-4b0b-b4b7-ad8d7eedee34",
        "colab": {
          "base_uri": "https://localhost:8080/",
          "height": 81
        }
      },
      "outputs": [
        {
          "output_type": "display_data",
          "data": {
            "text/plain": [
              "Over the last \u001b[1;36m7\u001b[0m days, TSLA's stock data shows the following high and low prices:\n",
              "\n",
              "- **High**: $\u001b[1;36m389.49\u001b[0m \u001b[1m(\u001b[0mon December \u001b[1;36m6\u001b[0m, \u001b[1;36m2024\u001b[0m\u001b[1m)\u001b[0m\n",
              "- **Low**: $\u001b[1;36m348.20\u001b[0m \u001b[1m(\u001b[0mon December \u001b[1;36m3\u001b[0m, \u001b[1;36m2024\u001b[0m\u001b[1m)\u001b[0m\n"
            ],
            "text/html": [
              "<pre style=\"white-space:pre;overflow-x:auto;line-height:normal;font-family:Menlo,'DejaVu Sans Mono',consolas,'Courier New',monospace\">Over the last <span style=\"color: #008080; text-decoration-color: #008080; font-weight: bold\">7</span> days, TSLA's stock data shows the following high and low prices:\n",
              "\n",
              "- **High**: $<span style=\"color: #008080; text-decoration-color: #008080; font-weight: bold\">389.49</span> <span style=\"font-weight: bold\">(</span>on December <span style=\"color: #008080; text-decoration-color: #008080; font-weight: bold\">6</span>, <span style=\"color: #008080; text-decoration-color: #008080; font-weight: bold\">2024</span><span style=\"font-weight: bold\">)</span>\n",
              "- **Low**: $<span style=\"color: #008080; text-decoration-color: #008080; font-weight: bold\">348.20</span> <span style=\"font-weight: bold\">(</span>on December <span style=\"color: #008080; text-decoration-color: #008080; font-weight: bold\">3</span>, <span style=\"color: #008080; text-decoration-color: #008080; font-weight: bold\">2024</span><span style=\"font-weight: bold\">)</span>\n",
              "</pre>\n"
            ]
          },
          "metadata": {}
        }
      ],
      "source": [
        "print(response.response)"
      ]
    },
    {
      "cell_type": "markdown",
      "metadata": {
        "id": "1duk-GmESkni"
      },
      "source": [
        "### Check for understanding\n",
        "\n",
        "Is there anything strange about the response to this question above?\n",
        "What do you think we could do to fix it?"
      ]
    },
    {
      "cell_type": "markdown",
      "metadata": {
        "id": "D2TkTqNfSkni"
      },
      "source": [
        "## Using pre-packaged tools\n",
        "\n",
        "LlamaIndex has a number of tools that are pre-defined and can be installed.\n",
        "In this case, we will use the `YahooFinanceToolSpec` to get additional information about a stock beyond just the trended data.\n",
        "We will also add our `get_stock_data_tool` to the list of tools, since getting trended data is not a part of the `YahooFinanceToolSpec`."
      ]
    },
    {
      "cell_type": "code",
      "execution_count": 148,
      "metadata": {
        "id": "g2yzZQ8LSkni"
      },
      "outputs": [],
      "source": [
        "yfinance_tools = YahooFinanceToolSpec().to_tool_list()\n",
        "yfinance_tools.append(get_stock_data_tool)\n",
        "yfinance_tools.append(today_tool)"
      ]
    },
    {
      "cell_type": "code",
      "execution_count": 149,
      "metadata": {
        "id": "I5L2x8H1Skni",
        "outputId": "be9a26b8-fb4b-47d8-b866-85ff713a8ef5",
        "colab": {
          "base_uri": "https://localhost:8080/"
        }
      },
      "outputs": [
        {
          "output_type": "stream",
          "name": "stdout",
          "text": [
            "> Running step 2c49ec6d-2046-4661-af54-738729ca96df. Step input: What was TSLA's high and low over the last 7 days?.\n",
            "Added user message to memory: What was TSLA's high and low over the last 7 days?.\n",
            "=== Calling Function ===\n",
            "Calling function: get_todays_date with args: {}\n",
            "=== Function Output ===\n",
            "Today's date is 2024-12-07\n",
            "> Running step ee1441b3-0f3c-453c-bece-47d580ba574d. Step input: None\n"
          ]
        },
        {
          "output_type": "stream",
          "name": "stderr",
          "text": [
            "\r[*********************100%***********************]  1 of 1 completed"
          ]
        },
        {
          "output_type": "stream",
          "name": "stdout",
          "text": [
            "=== Calling Function ===\n",
            "Calling function: get_stock_data with args: {\"ticker\": \"TSLA\", \"start_date\": \"2024-11-30\", \"end_date\": \"2024-12-07\"}\n",
            "=== Function Output ===\n",
            "| Date                |   ('Adj Close', 'TSLA') |   ('Close', 'TSLA') |   ('High', 'TSLA') |   ('Low', 'TSLA') |   ('Open', 'TSLA') |   ('Volume', 'TSLA') |\n",
            "|:--------------------|------------------------:|--------------------:|-------------------:|------------------:|-------------------:|---------------------:|\n",
            "| 2024-12-02 00:00:00 |                  357.09 |              357.09 |             360    |            351.15 |             352.38 |          7.79865e+07 |\n",
            "| 2024-12-03 00:00:00 |                  351.42 |              351.42 |             355.69 |            348.2  |             351.8  |          5.82672e+07 |\n",
            "| 2024-12-04 00:00:00 |                  357.93 |              357.93 |             358.1  |            348.6  |             353    |          5.08109e+07 |\n",
            "| 2024-12-05 00:00:00 |                  369.49 |              369.49 |             375.43 |            359.5  |             359.87 |          8.14036e+07 |\n",
            "| 2024-12-06 00:00:00 |                  389.22 |              389.22 |             389.49 |            370.8  |             377.42 |          8.05483e+07 |\n",
            "> Running step 0fd95dfe-9391-49e1-bf08-c676d16d941f. Step input: None\n"
          ]
        },
        {
          "output_type": "stream",
          "name": "stderr",
          "text": [
            "\n"
          ]
        },
        {
          "output_type": "stream",
          "name": "stdout",
          "text": [
            "=== LLM Response ===\n",
            "Over the last 7 days, Tesla's (TSLA) stock had the following high and low prices:\n",
            "\n",
            "- **High**: $389.49 (on December 6, 2024)\n",
            "- **Low**: $348.20 (on December 3, 2024)\n"
          ]
        }
      ],
      "source": [
        "agent = FunctionCallingAgent.from_tools(tools=yfinance_tools, llm=OpenAI(model=\"gpt-4o-mini\"), verbose=True)\n",
        "response = agent.chat(f\"What was TSLA's high and low over the last 7 days?.\")"
      ]
    },
    {
      "cell_type": "code",
      "execution_count": 150,
      "metadata": {
        "id": "u4xtFE11Skni",
        "outputId": "0368c89d-96f8-4c26-a0f7-97a055242f66",
        "colab": {
          "base_uri": "https://localhost:8080/"
        }
      },
      "outputs": [
        {
          "output_type": "stream",
          "name": "stdout",
          "text": [
            "> Running step 6d583f54-4db3-43e9-a629-f1cacf125fdc. Step input: What does TSLA make?\n",
            "Added user message to memory: What does TSLA make?\n",
            "=== Calling Function ===\n",
            "Calling function: stock_basic_info with args: {\"ticker\": \"TSLA\"}\n",
            "=== Function Output ===\n",
            "Info: \n",
            "{'address1': '1 Tesla Road', 'city': 'Austin', 'state': 'TX', 'zip': '78725', 'country': 'United States', 'phone': '512 516 8177', 'website': 'https://www.tesla.com', 'industry': 'Auto Manufacturers', 'industryKey': 'auto-manufacturers', 'industryDisp': 'Auto Manufacturers', 'sector': 'Consumer Cyclical', 'sectorKey': 'consumer-cyclical', 'sectorDisp': 'Consumer Cyclical', 'longBusinessSummary': 'Tesla, Inc. designs, develops, manufactures, leases, and sells electric vehicles, and energy generation and storage systems in the United States, China, and internationally. The company operates in two segments, Automotive, and Energy Generation and Storage. The Automotive segment offers electric vehicles, as well as sells automotive regulatory credits; and non-warranty after-sales vehicle, used vehicles, body shop and parts, supercharging, retail merchandise, and vehicle insurance services. This segment also provides sedans and sport utility vehicles through direct and used vehicle sales, a network of Tesla Superchargers, and in-app upgrades; purchase financing and leasing services; services for electric vehicles through its company-owned service locations and Tesla mobile service technicians; and vehicle limited warranties and extended service plans. The Energy Generation and Storage segment engages in the design, manufacture, installation, sale, and leasing of solar energy generation and energy storage products, and related services to residential, commercial, and industrial customers and utilities through its website, stores, and galleries, as well as through a network of channel partners; and provision of service and repairs to its energy product customers, including under warranty, as well as various financing options to its solar customers. The company was formerly known as Tesla Motors, Inc. and changed its name to Tesla, Inc. in February 2017. Tesla, Inc. was incorporated in 2003 and is headquartered in Austin, Texas.', 'fullTimeEmployees': 140473, 'companyOfficers': [{'maxAge': 1, 'name': 'Mr. Elon R. Musk', 'age': 51, 'title': 'Co-Founder, Technoking of Tesla, CEO & Director', 'yearBorn': 1972, 'fiscalYear': 2023, 'exercisedValue': 0, 'unexercisedValue': 0}, {'maxAge': 1, 'name': 'Mr. Vaibhav  Taneja', 'age': 45, 'title': 'Chief Financial Officer', 'yearBorn': 1978, 'fiscalYear': 2023, 'totalPay': 278000, 'exercisedValue': 8517957, 'unexercisedValue': 202075632}, {'maxAge': 1, 'name': 'Mr. Xiaotong  Zhu', 'age': 43, 'title': 'Senior Vice President of Automotive', 'yearBorn': 1980, 'fiscalYear': 2023, 'totalPay': 926877, 'exercisedValue': 0, 'unexercisedValue': 344144320}, {'maxAge': 1, 'name': 'Travis  Axelrod', 'title': 'Head of Investor Relations', 'fiscalYear': 2023, 'exercisedValue': 0, 'unexercisedValue': 0}, {'maxAge': 1, 'name': 'Brian  Scelfo', 'title': 'Senior Director of Corporate Development', 'fiscalYear': 2023, 'exercisedValue': 0, 'unexercisedValue': 0}, {'maxAge': 1, 'name': 'Mr. Franz  von Holzhausen', 'title': 'Chief Designer', 'fiscalYear': 2023, 'exercisedValue': 0, 'unexercisedValue': 0}, {'maxAge': 1, 'name': 'Mr. John  Walker', 'age': 60, 'title': 'Vice President of Sales - North America', 'yearBorn': 1963, 'fiscalYear': 2023, 'totalPay': 121550, 'exercisedValue': 0, 'unexercisedValue': 0}, {'maxAge': 1, 'name': 'Mr. Peter  Bannon', 'title': 'Chip Architect', 'fiscalYear': 2023, 'exercisedValue': 0, 'unexercisedValue': 0}, {'maxAge': 1, 'name': 'Mr. Turner  Caldwell', 'title': 'Engineering Manager', 'fiscalYear': 2023, 'exercisedValue': 0, 'unexercisedValue': 0}, {'maxAge': 1, 'name': 'Mr. Rodney D. Westmoreland Jr.', 'title': 'Director of Construction Management', 'fiscalYear': 2023, 'exercisedValue': 0, 'unexercisedValue': 0}], 'auditRisk': 7, 'boardRisk': 9, 'compensationRisk': 10, 'shareHolderRightsRisk': 9, 'overallRisk': 10, 'governanceEpochDate': 1733011200, 'compensationAsOfEpochDate': 1703980800, 'maxAge': 86400, 'priceHint': 2, 'previousClose': 369.49, 'open': 377.27, 'dayLow': 370.8, 'dayHigh': 389.49, 'regularMarketPreviousClose': 369.49, 'regularMarketOpen': 377.27, 'regularMarketDayLow': 370.8, 'regularMarketDayHigh': 389.49, 'beta': 2.295, 'trailingPE': 106.34426, 'forwardPE': 118.947495, 'volume': 78455915, 'regularMarketVolume': 78455915, 'averageVolume': 87095523, 'averageVolume10days': 69140800, 'averageDailyVolume10Day': 69140800, 'bid': 372.0, 'ask': 391.97, 'bidSize': 100, 'askSize': 200, 'marketCap': 1249419591680, 'fiftyTwoWeekLow': 138.8, 'fiftyTwoWeekHigh': 389.49, 'priceToSalesTrailing12Months': 12.860726, 'fiftyDayAverage': 284.0716, 'twoHundredDayAverage': 219.02675, 'currency': 'USD', 'enterpriseValue': 1229333463040, 'profitMargins': 0.13075, 'floatShares': 2793105010, 'sharesOutstanding': 3210060032, 'sharesShort': 76444266, 'sharesShortPriorMonth': 79364249, 'sharesShortPreviousMonthDate': 1728950400, 'dateShortInterest': 1731628800, 'sharesPercentSharesOut': 0.0238, 'heldPercentInsiders': 0.12911999, 'heldPercentInstitutions': 0.47907, 'shortRatio': 0.74, 'shortPercentOfFloat': 0.0273, 'impliedSharesOutstanding': 3210060032, 'bookValue': 21.806, 'priceToBook': 17.849216, 'lastFiscalYearEnd': 1703980800, 'nextFiscalYearEnd': 1735603200, 'mostRecentQuarter': 1727654400, 'earningsQuarterlyGrowth': 0.169, 'netIncomeToCommon': 12743000064, 'trailingEps': 3.66, 'forwardEps': 3.24, 'lastSplitFactor': '3:1', 'lastSplitDate': 1661385600, 'enterpriseToRevenue': 12.654, 'enterpriseToEbitda': 92.822, '52WeekChange': 0.6235088, 'SandP52WeekChange': 0.31754446, 'exchange': 'NMS', 'quoteType': 'EQUITY', 'symbol': 'TSLA', 'underlyingSymbol': 'TSLA', 'shortName': 'Tesla, Inc.', 'longName': 'Tesla, Inc.', 'firstTradeDateEpochUtc': 1277818200, 'timeZoneFullName': 'America/New_York', 'timeZoneShortName': 'EST', 'uuid': 'ec367bc4-f92c-397c-ac81-bf7b43cffaf7', 'messageBoardId': 'finmb_27444752', 'gmtOffSetMilliseconds': -18000000, 'currentPrice': 389.22, 'targetHighPrice': 421.0, 'targetLowPrice': 116.0, 'targetMeanPrice': 249.75786, 'targetMedianPrice': 245.0, 'recommendationMean': 2.77083, 'recommendationKey': 'hold', 'numberOfAnalystOpinions': 42, 'totalCash': 33648001024, 'totalCashPerShare': 10.482, 'ebitda': 13244000256, 'totalDebt': 12782999552, 'quickRatio': 1.214, 'currentRatio': 1.844, 'totalRevenue': 97150001152, 'debtToEquity': 18.078, 'revenuePerShare': 30.457, 'returnOnAssets': 0.04759, 'returnOnEquity': 0.20389, 'freeCashflow': 676625024, 'operatingCashflow': 14478999552, 'earningsGrowth': 0.17, 'revenueGrowth': 0.078, 'grossMargins': 0.18229, 'ebitdaMargins': 0.13633001, 'operatingMargins': 0.107889995, 'financialCurrency': 'USD', 'trailingPegRatio': 10.7914}\n",
            "> Running step 47ff7f13-c4f0-484c-9384-722460fc73c3. Step input: None\n",
            "=== LLM Response ===\n",
            "Tesla, Inc. designs, develops, manufactures, leases, and sells electric vehicles and energy generation and storage systems. The company operates in two main segments:\n",
            "\n",
            "1. **Automotive**: This segment offers electric vehicles, sells automotive regulatory credits, and provides various services including:\n",
            "   - Non-warranty after-sales vehicle services\n",
            "   - Used vehicles sales\n",
            "   - Body shop and parts services\n",
            "   - Supercharging\n",
            "   - Retail merchandise\n",
            "   - Vehicle insurance services\n",
            "   - Financing and leasing services\n",
            "\n",
            "   Tesla's automotive offerings include sedans and sport utility vehicles, supported by a network of Tesla Superchargers and in-app upgrades.\n",
            "\n",
            "2. **Energy Generation and Storage**: This segment focuses on the design, manufacture, installation, sale, and leasing of solar energy generation and energy storage products. It serves residential, commercial, and industrial customers, as well as utilities. The segment also provides service and repairs for energy products and various financing options for solar customers.\n",
            "\n",
            "Tesla was incorporated in 2003 and is headquartered in Austin, Texas. For more information, you can visit their [official website](https://www.tesla.com).\n"
          ]
        }
      ],
      "source": [
        "response = agent.chat(\"What does TSLA make?\")"
      ]
    },
    {
      "cell_type": "markdown",
      "metadata": {
        "id": "JtIYYC7kSkni"
      },
      "source": [
        "## Demo 2: Agentic RAG\n",
        "\n",
        "In the previous examples of RAG, we had a single retriever that retrieved documents from a single index.\n",
        "But what if we have multiple indices we want to use?\n",
        "We can use an agent to decide which index to use and then retrieve from that index.\n",
        "One great way to do this is to turn the indices we made previously into tools.\n",
        "We'll make an agent that can answer questions about the llama3 paper OR the Wikipedia page we ingested earlier."
      ]
    },
    {
      "cell_type": "code",
      "execution_count": 157,
      "metadata": {
        "id": "t6rFDyiASkni"
      },
      "outputs": [],
      "source": [
        "from llama_index.core.tools import RetrieverTool, QueryEngineTool"
      ]
    },
    {
      "cell_type": "markdown",
      "metadata": {
        "id": "mzQK1_e1Skni"
      },
      "source": [
        "Let's create a tool for each of our indices."
      ]
    },
    {
      "cell_type": "code",
      "execution_count": 153,
      "metadata": {
        "id": "0z3jBm-USkni"
      },
      "outputs": [],
      "source": [
        "wikipedia_tool = RetrieverTool.from_defaults(\n",
        "    retriever=wikipedia_index.as_retriever(),\n",
        "    name=\"wikipedia_retriever\",\n",
        "    description=\"Useful when you need information about the Wikipedia organization.\"\n",
        ")\n",
        "llama_tool = RetrieverTool.from_defaults(\n",
        "    retriever=md_index.as_retriever(),\n",
        "    name=\"llama_retriever\",\n",
        "    description=\"Useful when you need information about the llama3 paper.\"\n",
        ")\n",
        "\n",
        "retriever_tools = [wikipedia_tool, llama_tool]"
      ]
    },
    {
      "cell_type": "markdown",
      "metadata": {
        "id": "IPqSwjHMSkni"
      },
      "source": [
        "Now, we can pass these tools to an agent to have it answer questions about the Wikipedia page or the llama3 paper.\n",
        "This time, instead of using the `FunctionCallingAgent`, we'll use the `OpenAIAgent`."
      ]
    },
    {
      "cell_type": "code",
      "execution_count": 154,
      "metadata": {
        "id": "brLrAocHSkni"
      },
      "outputs": [],
      "source": [
        "rag_agent = OpenAIAgent.from_tools(tools=retriever_tools, llm=OpenAI(model=\"gpt-4o-mini\"), verbose=True)"
      ]
    },
    {
      "cell_type": "code",
      "execution_count": 155,
      "metadata": {
        "id": "T7KFHzkKSkni",
        "outputId": "da098ff3-c921-41da-c607-544fece2110e",
        "colab": {
          "base_uri": "https://localhost:8080/"
        }
      },
      "outputs": [
        {
          "output_type": "stream",
          "name": "stdout",
          "text": [
            "Added user message to memory: When was Wikipedia founded?\n",
            "=== Calling Function ===\n",
            "Calling function: wikipedia_retriever with args: {\"input\":\"Wikipedia founding date\"}\n",
            "Got output: header_path = /Wikipedia/History/\n",
            "### Launch and growth\n",
            "\n",
            "Wikipedia was launched on January 15, 2001[20] as a single English-language\n",
            "edition at www.wikipedia.com,[W 6] and was announced by Sanger on the Nupedia\n",
            "mailing list.[22] The name originated from a [blend](/wiki/Blend_word \"Blend\n",
            "word\") of the words _[wiki](/wiki/Wiki \"Wiki\")_ and _encyclopedia_.[23][24]\n",
            "Its integral policy of \"neutral point-of-view\"[W 7] was codified in its first\n",
            "few months. Otherwise, there were initially relatively few rules, and it\n",
            "operated independently of Nupedia.[22] Bomis originally intended for it to be\n",
            "a for-profit business.[25]\n",
            "\n",
            "[![](//upload.wikimedia.org/wikipedia/commons/thumb/b/b8/English_Wikipedia_HomePage_2001-12-20.png/220px-\n",
            "English_Wikipedia_HomePage_2001-12-20.png)](/wiki/File:English_Wikipedia_HomePage_2001-12-20.png)The\n",
            "Wikipedia home page on December 20, 2001[d]\n",
            "\n",
            "Wikipedia gained early contributors from Nupedia, _[Slashdot](/wiki/Slashdot\n",
            "\"Slashdot\")_ postings, and web [search engine](/wiki/Search_engine \"Search\n",
            "engine\") indexing. Language editions were created beginning in March 2001,\n",
            "with a total of 161 in use by the end of 2004.[W 8][W 9] Nupedia and Wikipedia\n",
            "coexisted until the former's servers were taken down permanently in 2003, and\n",
            "its text was incorporated into Wikipedia. The [English\n",
            "Wikipedia](/wiki/English_Wikipedia \"English Wikipedia\") passed the mark of 2\n",
            "million articles on September 9, 2007, making it the largest encyclopedia ever\n",
            "assembled, surpassing the _[Yongle Encyclopedia](/wiki/Yongle_Encyclopedia\n",
            "\"Yongle Encyclopedia\")_ made in China during the [Ming\n",
            "dynasty](/wiki/Ming_dynasty \"Ming dynasty\") in 1408, which had held the record\n",
            "for almost 600 years.[26]\n",
            "\n",
            "Citing fears of commercial advertising and lack of control, users of the\n",
            "[Spanish Wikipedia](/wiki/Spanish_Wikipedia \"Spanish Wikipedia\") forked from\n",
            "Wikipedia to create [Enciclopedia Libre](/wiki/Enciclopedia_Libre\n",
            "\"Enciclopedia Libre\") in February 2002.[W 10] Wales then announced that\n",
            "Wikipedia would not display advertisements, and changed Wikipedia's domain\n",
            "from _wikipedia.com_ to _wikipedia.org_.[27][W 11]\n",
            "\n",
            "After an early period of exponential growth,[28] the growth rate of the\n",
            "English Wikipedia in terms of the numbers of new articles and of editors,\n",
            "appears to have peaked around early 2007.[29] The edition reached 3 million\n",
            "articles in August 2009. Around 1,800 articles were added daily to the\n",
            "encyclopedia in 2006; by 2013 that average was roughly 800.[W 12] A team at\n",
            "the [Palo Alto Research Center](/wiki/Palo_Alto_Research_Center \"Palo Alto\n",
            "Research Center\") attributed this slowing of growth to \"increased coordination\n",
            "and overhead costs, exclusion of newcomers, and resistance to new edits\".[28]\n",
            "Others suggest that the growth is flattening naturally because articles that\n",
            "could be called \"[low-hanging fruit](https://en.wiktionary.org/wiki/low-\n",
            "hanging_fruit \"wikt:low-hanging fruit\")\"—topics that clearly merit an\n",
            "article—have already been created and built up extensively.[30][31][32]\n",
            "\n",
            "In November 2009, a researcher at the [Rey Juan Carlos\n",
            "University](/wiki/Rey_Juan_Carlos_University \"Rey Juan Carlos University\") in\n",
            "Madrid, Spain found that the English Wikipedia had lost 49,000 editors during\n",
            "the first three months of 2009; in comparison, it lost only 4,900 editors\n",
            "during the same period in 2008.[33][34] _[The Wall Street\n",
            "Journal](/wiki/The_Wall_Street_Journal \"The Wall Street Journal\")_ cited the\n",
            "array of rules applied to editing and disputes related to such content among\n",
            "the reasons for this trend.[35] Wales disputed these claims in 2009, denying\n",
            "the decline and questioning the study's methodology.[36] Two years later, in\n",
            "2011, he acknowledged a slight decline, noting a decrease from \"a little more\n",
            "than 36,000 writers\" in June 2010 to 35,800 in June 2011. In the same\n",
            "interview, he also claimed the number of editors was \"stable and\n",
            "sustainable\".[37] A 2013 _[MIT Technology Review](/wiki/MIT_Technology_Review\n",
            "\"MIT Technology Review\")_ article, \"The Decline of Wikipedia\", questioned this\n",
            "claim, reporting that since 2007 Wikipedia had lost a third of its volunteer\n",
            "editors, and suggesting that those remaining had focused increasingly on\n",
            "minutiae.[38] In July 2012, _[The Atlantic](/wiki/The_Atlantic \"The\n",
            "Atlantic\")_ reported that the number of administrators was also in\n",
            "decline.[39] In the November 25, 2013, issue of _[New\n",
            "York](/wiki/New_York_\\(magazine\\) \"New York \\(magazine\\)\")_ magazine,\n",
            "Katherine Ward stated, \"Wikipedia, the sixth-most-used website, is facing an\n",
            "internal crisis.\"[40] The number of active English Wikipedia editors has since\n",
            "remained steady after a long period of decline.[41][42]\n",
            "\n",
            "header_path = /Wikipedia/History/\n",
            "### Nupedia\n",
            "\n",
            "Main article: [Nupedia](/wiki/Nupedia \"Nupedia\")\n",
            "\n",
            "[![](//upload.wikimedia.org/wikipedia/commons/thumb/b/b1/Jimmy_Wales_-\n",
            "_August_2019_%28cropped%29.jpg/100px-Jimmy_Wales_-\n",
            "_August_2019_%28cropped%29.jpg)](/wiki/File:Jimmy_Wales_-\n",
            "_August_2019_\\(cropped\\).jpg)\n",
            "\n",
            "[![](//upload.wikimedia.org/wikipedia/commons/thumb/a/a5/L_Sanger.jpg/116px-\n",
            "L_Sanger.jpg)](/wiki/File:L_Sanger.jpg)\n",
            "\n",
            "Wikipedia founders [Jimmy Wales](/wiki/Jimmy_Wales \"Jimmy Wales\") (left) and\n",
            "[Larry Sanger](/wiki/Larry_Sanger \"Larry Sanger\") (right)\n",
            "\n",
            "Various collaborative online encyclopedias were attempted before the start of\n",
            "Wikipedia, but with limited success.[19] Wikipedia began as a complementary\n",
            "project for Nupedia, a free online English-language encyclopedia project whose\n",
            "articles were written by experts and reviewed under a formal process.[20] It\n",
            "was founded on March 9, 2000, under the ownership of [Bomis](/wiki/Bomis\n",
            "\"Bomis\"), a [web portal](/wiki/Web_portal \"Web portal\") company. Its main\n",
            "figures were Bomis CEO [Jimmy Wales](/wiki/Jimmy_Wales \"Jimmy Wales\") and\n",
            "[Larry Sanger](/wiki/Larry_Sanger \"Larry Sanger\"), editor-in-chief for Nupedia\n",
            "and later Wikipedia.[1][21] Nupedia was initially licensed under its own\n",
            "Nupedia [Open Content](/wiki/Free_content \"Free content\") License, but before\n",
            "Wikipedia was founded, Nupedia switched to the [GNU Free Documentation\n",
            "License](/wiki/GNU_Free_Documentation_License \"GNU Free Documentation\n",
            "License\") at the urging of [Richard Stallman](/wiki/Richard_Stallman \"Richard\n",
            "Stallman\").[W 2] Wales is credited with defining the goal of making a publicly\n",
            "editable encyclopedia,[22][W 3] while Sanger is credited with the strategy of\n",
            "using a [wiki](/wiki/Wiki \"Wiki\") to reach that goal.[W 4] On January 10,\n",
            "2001, Sanger proposed on the Nupedia mailing list to create a wiki as a\n",
            "\"feeder\" project for Nupedia.[W 5]\n",
            "\n",
            "\n",
            "========================\n",
            "\n"
          ]
        },
        {
          "output_type": "execute_result",
          "data": {
            "text/plain": [
              "Response(response='Wikipedia was founded on January 15, 2001.', source_nodes=[], metadata=None)"
            ]
          },
          "metadata": {},
          "execution_count": 155
        }
      ],
      "source": [
        "rag_agent.query(\"When was Wikipedia founded?\")"
      ]
    },
    {
      "cell_type": "code",
      "execution_count": 156,
      "metadata": {
        "id": "bXDhU_f5Skni",
        "outputId": "da739d4c-58a6-4462-ad8f-87ea2499c8e9",
        "colab": {
          "base_uri": "https://localhost:8080/"
        }
      },
      "outputs": [
        {
          "output_type": "stream",
          "name": "stdout",
          "text": [
            "Added user message to memory: How did llama3 8b perform on MMLU?\n",
            "=== Calling Function ===\n",
            "Calling function: llama_retriever with args: {\"input\":\"llama3 8b MMLU performance\"}\n",
            "Got output: header_path = /The Llama 3 Herd of Models/\n",
            "## 5.2.5 Math and Reasoning Benchmarks\n",
            "\n",
            "Our math and reasoning benchmark results are presented in Table 2. Llama 3 8B model outperforms other models of similar sizes on GSM8K, MATH, and GPQA. Our 70B model performs significantly better than other models in its class on all the benchmarks. Finally, Llama 3 405B model is the best in its category\n",
            "\n",
            "Table 20 Multilingual benchmarks . For MGSM (Shi et al., 2022), we report 0-shot CoT results for our Llama 3 models. Multilingual MMLU is an internal benchmark with translated MMLU (Hendrycks et al., 2021a) questions and answers into 7 languages - we report 5-shot results averaged across these languages.\n",
            "\n",
            "| Model             |   MGSM | Multilingual MMLU   |\n",
            "|-------------------|--------|---------------------|\n",
            "| Llama 3 8B        |   68.9 | 58.6                |\n",
            "| Mistral 7B        |   29.9 | 46.8                |\n",
            "| Gemma 2 9B        |   53.2 | -                   |\n",
            "| Llama 3 70B       |   86.9 | 78.2                |\n",
            "| GPT-3.5 Turbo     |   51.4 | 58.8                |\n",
            "| Mixtral 8 × 22B   |   71.1 | 64.3                |\n",
            "| Llama 3 405B      |   91.6 | 83.2                |\n",
            "| GPT-4             |   85.9 | 80.2                |\n",
            "| GPT-4o            |   90.5 | 85.5                |\n",
            "| Claude 3.5 Sonnet |   91.6 | -                   |\n",
            "\n",
            "on GSM8K and ARC-C, while on MATH, it is the second best model. On GPQA, it is competitive with GPT-4 4o, with Claude 3.5 Sonnet being the best model by a significant margin.\n",
            "\n",
            "header_path = /The Llama 3 Herd of Models/\n",
            "## 5.2.1 General Knowledge and Instruction-Following Benchmarks\n",
            "\n",
            "We evaluate Llama 3 on benchmarks for general knowledge and instruction-following in Table 2.\n",
            "\n",
            "General knowledge. We leverage MMLU (Hendrycks et al., 2021a) and MMLU-Pro (Wang et al., 2024b) to evaluate Llama 3's capability on knowledge-based question answering. For MMLU, we report the macro average of subtask accuracy under the 5-shot standard setting without CoT. MMLU-Pro is an extension of MMLU, incorporating more challenging, reasoning-focused questions, eliminating noisy questions, and expanding the choice set from four to ten options. Given its focus on complex reasoning, we report 5-shot CoT for MMLU-Pro. All tasks are formatted as generation tasks, similar to simple-evals (OpenAI, 2024).\n",
            "\n",
            "As shown in Table 2, our 8B and 70B Llama 3 variants outperform other models of similar sizes on both general knowledge tasks. Our 405B model outperforms GPT-4 and Nemotron 4 340B, with Claude 3.5 Sonnet leading among larger models.\n",
            "\n",
            "Instruction following. We assess the ability of Llama 3 and other models to follow natural language instructions on IFEval (Zhou et al., 2023). IFEval comprises approximately 500 \"verifiable instructions\" such as \"write in more than 400 words\", which can be verified by heuristics. We report the average of prompt-level and instruction-level accuracy, under strict and loose constraints in Table 2. Note that all Llama 3 variants outperform comparable models across IFEval.\n",
            "\n",
            "\n",
            "========================\n",
            "\n"
          ]
        },
        {
          "output_type": "execute_result",
          "data": {
            "text/plain": [
              "Response(response='The Llama 3 8B model performed well on the Multilingual MMLU benchmark, achieving a score of 58.6. This score is competitive compared to other models of similar sizes, as shown in the following comparison:\\n\\n| Model             | Multilingual MMLU   |\\n|-------------------|---------------------|\\n| Llama 3 8B        | 58.6                |\\n| Mistral 7B        | 46.8                |\\n| GPT-3.5 Turbo     | 58.8                |\\n| Mixtral 8 × 22B   | 64.3                |\\n\\nIn general knowledge tasks, the Llama 3 8B variant also outperformed other models of similar sizes, indicating its strong performance in knowledge-based question answering.', source_nodes=[], metadata=None)"
            ]
          },
          "metadata": {},
          "execution_count": 156
        }
      ],
      "source": [
        "rag_agent.query(\"How did llama3 8b perform on MMLU?\")"
      ]
    },
    {
      "cell_type": "markdown",
      "metadata": {
        "id": "fGR7GunYSkni"
      },
      "source": [
        "## Demo 3: Code interpreter"
      ]
    },
    {
      "cell_type": "code",
      "execution_count": 158,
      "metadata": {
        "id": "_b1b4S29Skni"
      },
      "outputs": [],
      "source": [
        "from llama_index.tools.code_interpreter import CodeInterpreterToolSpec"
      ]
    },
    {
      "cell_type": "code",
      "execution_count": 160,
      "metadata": {
        "id": "ofxtzTQnSkni",
        "outputId": "2076d361-98e9-48bb-99f0-1bea91e78895",
        "colab": {
          "base_uri": "https://localhost:8080/"
        }
      },
      "outputs": [
        {
          "output_type": "stream",
          "name": "stdout",
          "text": [
            "Added user message to memory: What is the square root of 9936.3981?\n",
            "=== Calling Function ===\n",
            "Calling function: code_interpreter with args: {\"code\":\"import math\\nresult = math.sqrt(9936.3981)\\nprint(result)\"}\n",
            "Got output: StdOut:\n",
            "b'99.6814832353532\\n'\n",
            "StdErr:\n",
            "b''\n",
            "========================\n",
            "\n"
          ]
        },
        {
          "output_type": "execute_result",
          "data": {
            "text/plain": [
              "Response(response='The square root of 9936.3981 is approximately 99.6815.', source_nodes=[], metadata=None)"
            ]
          },
          "metadata": {},
          "execution_count": 160
        }
      ],
      "source": [
        "code_tools = CodeInterpreterToolSpec().to_tool_list()\n",
        "system_prompt = \"\"\"\\\n",
        "You are a helpful assistant that can answer questions by executing python code. \\\n",
        "Always make sure to print the results to StdOut.\n",
        "\"\"\"\n",
        "code_agent = OpenAIAgent.from_tools(tools=code_tools + yfinance_tools, llm=OpenAI(model=\"gpt-4o-mini\"), verbose=True, system_prompt=system_prompt)\n",
        "code_agent.query(\"What is the square root of 9936.3981?\")"
      ]
    },
    {
      "cell_type": "code",
      "source": [
        "code_agent.query(\"Plot the high and low of TSLA over the past week using pyplot. Then save it as tsla.jpg\")"
      ],
      "metadata": {
        "id": "4yGH7QLZUGOD",
        "outputId": "43e13d9a-df3f-403d-9536-c484337b33b8",
        "colab": {
          "base_uri": "https://localhost:8080/"
        }
      },
      "execution_count": 162,
      "outputs": [
        {
          "output_type": "stream",
          "name": "stdout",
          "text": [
            "Added user message to memory: Plot the high and low of TSLA over the past week using pyplot. Then save it as tsla.jpg\n",
            "=== Calling Function ===\n",
            "Calling function: get_todays_date with args: {}\n",
            "Got output: Today's date is 2024-12-07\n",
            "========================\n",
            "\n"
          ]
        },
        {
          "output_type": "stream",
          "name": "stderr",
          "text": [
            "\r[*********************100%***********************]  1 of 1 completed"
          ]
        },
        {
          "output_type": "stream",
          "name": "stdout",
          "text": [
            "=== Calling Function ===\n",
            "Calling function: get_stock_data with args: {\"ticker\":\"TSLA\",\"start_date\":\"2024-12-01\",\"end_date\":\"2024-12-07\"}\n",
            "Got output: | Date                |   ('Adj Close', 'TSLA') |   ('Close', 'TSLA') |   ('High', 'TSLA') |   ('Low', 'TSLA') |   ('Open', 'TSLA') |   ('Volume', 'TSLA') |\n",
            "|:--------------------|------------------------:|--------------------:|-------------------:|------------------:|-------------------:|---------------------:|\n",
            "| 2024-12-02 00:00:00 |                  357.09 |              357.09 |             360    |            351.15 |             352.38 |          7.79865e+07 |\n",
            "| 2024-12-03 00:00:00 |                  351.42 |              351.42 |             355.69 |            348.2  |             351.8  |          5.82672e+07 |\n",
            "| 2024-12-04 00:00:00 |                  357.93 |              357.93 |             358.1  |            348.6  |             353    |          5.08109e+07 |\n",
            "| 2024-12-05 00:00:00 |                  369.49 |              369.49 |             375.43 |            359.5  |             359.87 |          8.14036e+07 |\n",
            "| 2024-12-06 00:00:00 |                  389.22 |              389.22 |             389.49 |            370.8  |             377.42 |          8.05483e+07 |\n",
            "========================\n",
            "\n"
          ]
        },
        {
          "output_type": "stream",
          "name": "stderr",
          "text": [
            "\n"
          ]
        },
        {
          "output_type": "stream",
          "name": "stdout",
          "text": [
            "=== Calling Function ===\n",
            "Calling function: code_interpreter with args: {\"code\":\"import matplotlib.pyplot as plt\\nimport pandas as pd\\n\\n# Data for TSLA High and Low prices over the past week\\ndata = {\\n    'Date': ['2024-12-02', '2024-12-03', '2024-12-04', '2024-12-05', '2024-12-06'],\\n    'High': [360, 355.69, 358.1, 375.43, 389.49],\\n    'Low': [351.15, 348.2, 348.6, 359.5, 370.8]\\n}\\n\\n# Create a DataFrame\\ndf = pd.DataFrame(data)\\n\\n# Convert 'Date' to datetime\\ndf['Date'] = pd.to_datetime(df['Date'])\\n\\n# Plotting\\nplt.figure(figsize=(10, 5))\\nplt.plot(df['Date'], df['High'], marker='o', label='High', color='green')\\nplt.plot(df['Date'], df['Low'], marker='o', label='Low', color='red')\\nplt.title('TSLA High and Low Prices Over the Past Week')\\nplt.xlabel('Date')\\nplt.ylabel('Price (USD)')\\nplt.xticks(rotation=45)\\nplt.legend()\\nplt.grid()\\n\\n# Save the plot as a JPEG file\\nplt.savefig('tsla.jpg')\\nplt.close()\"}\n",
            "Got output: StdOut:\n",
            "b''\n",
            "StdErr:\n",
            "b''\n",
            "========================\n",
            "\n"
          ]
        },
        {
          "output_type": "execute_result",
          "data": {
            "text/plain": [
              "Response(response=\"The plot of TSLA's high and low prices over the past week has been successfully created and saved as `tsla.jpg`.\", source_nodes=[], metadata=None)"
            ]
          },
          "metadata": {},
          "execution_count": 162
        }
      ]
    },
    {
      "cell_type": "markdown",
      "metadata": {
        "id": "L6CVJTPRSkni"
      },
      "source": [
        "### Check for understanding\n",
        "\n",
        "What are some possible downsides and security concerns of using a code interpreter tool?"
      ]
    },
    {
      "cell_type": "markdown",
      "metadata": {
        "id": "Ni2Sh2xiSkni"
      },
      "source": [
        "# Exercise: Build your own agent\n",
        "\n",
        "The goal of this exercise is to build your own agent.\n",
        "\n",
        "\n",
        "## Planning (15 minutes)\n",
        "\n",
        "Your goal over the next 15 minutes is to answer the following questions:\n",
        "- What is the goal of the agent? What task (or tasks) will it accomplish?\n",
        "- What tools will it need to use to accomplish its goal?\n",
        "- How will it use the tools to accomplish its goal?\n",
        "- What is the modality of the agent? (for example, conversational, workflow, code writing, etc.)\n",
        "\n",
        "If you need some inspiration, here are some ideas places you can go to learn about external tools:\n",
        "- [Llam Index tools on LlamaHub](https://llamahub.ai/?tab=tools)\n",
        "- [This repo with free APIs](https://github.com/public-api-lists/public-api-lists) (look for ones w/o auth since we don't have a ton of time for setup)"
      ]
    },
    {
      "cell_type": "markdown",
      "metadata": {
        "id": "L1sOVp_USkni"
      },
      "source": [
        "### Mike's idea:\n",
        "\n",
        "Support ticket handler\n",
        "1. Use ChatGPT to come up with a fictional company and write documentation for how to handle support tickers.\n",
        "1. Support documentation will be available to agent as a guiding principle.\n",
        "1. All the actions including\n",
        "\n"
      ]
    },
    {
      "cell_type": "code",
      "source": [
        "from graphviz import Source\n",
        "dot_code = \"\"\"\\\n",
        "digraph SupportWorkflow {\n",
        "    rankdir=LR;\n",
        "    node [shape=rectangle, style=rounded, fontsize=12];\n",
        "\n",
        "    submit_ticket [label=\"Customer Submits Ticket\"];\n",
        "    assign_ticket [label=\"Ticket Assigned to Agent\"];\n",
        "    review_ticket [label=\"Review Ticket Details\"];\n",
        "    identify_issue [label=\"Identify Issue Type\\n- Known Bug?\\n- User Error?\\n- New Issue?\"];\n",
        "    known_solution [label=\"Known Issue? (Existing Fix)\"];\n",
        "    send_solution [label=\"Send Solution & Confirm Fix\"];\n",
        "    close_ticket [label=\"Close Ticket\\n(User Confirms)\"];\n",
        "    needs_investigation [label=\"Needs Further Investigation\"];\n",
        "    repro_check [label=\"Attempt Repro & Check Logs\\nConsult Knowledge Base\"];\n",
        "    escalate_dev [label=\"Escalate to Development Team\"];\n",
        "    dev_fix [label=\"Dev Provides Fix\"];\n",
        "    deploy_fix [label=\"Deploy Fix & Notify Support\"];\n",
        "    send_update [label=\"Send Update to Customer\"];\n",
        "    confirm_close [label=\"Close Ticket\\n(Confirmed)\"];\n",
        "\n",
        "    submit_ticket -> assign_ticket;\n",
        "    assign_ticket -> review_ticket;\n",
        "    review_ticket -> identify_issue;\n",
        "    identify_issue -> known_solution [label=\"Yes\"];\n",
        "    identify_issue -> needs_investigation [label=\"No\"];\n",
        "    known_solution -> send_solution;\n",
        "    send_solution -> close_ticket;\n",
        "    needs_investigation -> repro_check;\n",
        "    repro_check -> escalate_dev [label=\"Escalate\"];\n",
        "    escalate_dev -> dev_fix;\n",
        "    dev_fix -> deploy_fix;\n",
        "    deploy_fix -> send_update;\n",
        "    send_update -> confirm_close;\n",
        "}\n",
        "\"\"\"\n",
        "Source(dot_code, format=\"png\").render(\"workflow_diagram\", view=True)"
      ],
      "metadata": {
        "id": "RNtV4IQrXEkb",
        "outputId": "2be1a17a-c77b-42f7-aacf-38b058859f91",
        "colab": {
          "base_uri": "https://localhost:8080/",
          "height": 36
        }
      },
      "execution_count": 163,
      "outputs": [
        {
          "output_type": "execute_result",
          "data": {
            "text/plain": [
              "'workflow_diagram.png'"
            ],
            "application/vnd.google.colaboratory.intrinsic+json": {
              "type": "string"
            }
          },
          "metadata": {},
          "execution_count": 163
        }
      ]
    },
    {
      "cell_type": "code",
      "source": [
        "from PIL import Image\n",
        "Image.open(\"workflow_diagram.png\")"
      ],
      "metadata": {
        "id": "E53f9TC2XXI8",
        "outputId": "a9ceaef1-6742-4ad6-ea4e-852e7a77aab2",
        "colab": {
          "base_uri": "https://localhost:8080/",
          "height": 168
        }
      },
      "execution_count": 164,
      "outputs": [
        {
          "output_type": "execute_result",
          "data": {
            "text/plain": [
              "<PIL.PngImagePlugin.PngImageFile image mode=RGBA size=2524x131>"
            ],
            "image/png": "[encoded data removed]"
          },
          "metadata": {},
          "execution_count": 164
        }
      ]
    },
    {
      "cell_type": "markdown",
      "metadata": {
        "id": "98JbAONvSknj"
      },
      "source": [
        "## Backend building (30 minutes)\n",
        "\n",
        "Use LlamaIndex agents to build out your agent.\n",
        "Your goal over the next 30 minutes is to:\n",
        "- Create (or import) any tools you need to accomplish your goal.\n",
        "- Create your agent using one of the agent classes provided by LlamaIndex.\n",
        "- Create 2-3 test cases and check your agent against them to see if it produces the desired output."
      ]
    },
    {
      "cell_type": "code",
      "source": [
        "user_docs = \"\"\"\n",
        "# AerisApp User Documentation\n",
        "\n",
        "Welcome to AerisApp, your cloud-based project management tool. This guide helps you troubleshoot and resolve common issues.\n",
        "\n",
        "---\n",
        "\n",
        "## Table of Contents\n",
        "1. [Unable to Log In](#unable-to-log-in)\n",
        "2. [Missing or Incomplete Data](#missing-or-incomplete-data)\n",
        "3. [Slow Performance](#slow-performance)\n",
        "4. [Notifications Not Sending or Receiving](#notifications-not-sending-or-receiving)\n",
        "5. [Error Messages](#error-messages)\n",
        "\n",
        "---\n",
        "\n",
        "## Unable to Log In\n",
        "\n",
        "### Steps to Resolve:\n",
        "1. **Check Credentials**: Ensure your email and password are correct.\n",
        "2. **Reset Password**: Click the **\"Forgot Password?\"** link on the login page and follow the instructions.\n",
        "3. **Browser Compatibility**: Ensure you are using a supported browser (Chrome, Firefox, Safari, or Edge). If issues persist, switch browsers.\n",
        "\n",
        "---\n",
        "\n",
        "## Missing or Incomplete Data\n",
        "\n",
        "### Steps to Resolve:\n",
        "1. **Refresh Your Page**: Use `Ctrl + F5` (Windows) or `Cmd + Shift + R` (Mac) to perform a hard refresh.\n",
        "2. **Check Filters**: Verify that your filters are not hiding the tasks you’re looking for.\n",
        "3. **Confirm Permissions**: If data is missing, you might not have the right permissions. Contact your workspace administrator.\n",
        "\n",
        "---\n",
        "\n",
        "## Slow Performance\n",
        "\n",
        "### Steps to Resolve:\n",
        "1. **Close Unused Tabs**: Reduce the number of open browser tabs.\n",
        "2. **Clear Cache**: Clear your browser cache to improve speed.\n",
        "3. **Check Network**: Ensure your network is stable. If possible, use a wired connection.\n",
        "\n",
        "---\n",
        "\n",
        "## Notifications Not Sending or Receiving\n",
        "\n",
        "### Steps to Resolve:\n",
        "1. **Check Notification Settings**: Go to **Settings > Notifications** and confirm that notifications are enabled.\n",
        "2. **Email Filters**: Check your spam or promotions folder. Add `noreply@aerisapp.com` to your trusted sender list.\n",
        "3. **Contact Support**: If the problem persists, submit a ticket through the **AerisApp Help Center**.\n",
        "\n",
        "---\n",
        "\n",
        "## Error Messages\n",
        "\n",
        "### Common Error: 500 Internal Server Error\n",
        "1. **Retry Action**: Wait a few seconds and try again.\n",
        "2. **Check Status Page**: Visit [AerisApp Status Page](https://status.aerisapp.com) to see if there are any ongoing outages.\n",
        "3. **Submit a Support Ticket**: If the issue continues, take a screenshot of the error and contact support.\n",
        "\n",
        "---\n",
        "\n",
        "## Need Additional Help?\n",
        "\n",
        "If your issue is not listed here, visit our [Help Center](https://help.aerisapp.com) or contact our support team at `support@aerisapp.com`.\n",
        "\"\"\"\n",
        "\n",
        "customer_service_docs = \"\"\"\\\n",
        "# AerisApp Customer Support Documentation\n",
        "\n",
        "This guide outlines the process for handling customer support tickets to ensure consistent and efficient issue resolution.\n",
        "\n",
        "---\n",
        "\n",
        "## Table of Contents\n",
        "1. [Purpose](#purpose)\n",
        "2. [Ticket Handling Steps](#ticket-handling-steps)\n",
        "    - [1. Ticket Review](#1-ticket-review)\n",
        "    - [2. Initial Response](#2-initial-response)\n",
        "    - [3. Investigation](#3-investigation)\n",
        "    - [4. Resolution](#4-resolution)\n",
        "    - [5. Follow-Up](#5-follow-up)\n",
        "3. [Support Workflow Diagram](#support-workflow-diagram)\n",
        "\n",
        "---\n",
        "\n",
        "## Purpose\n",
        "\n",
        "The purpose of this document is to guide AerisApp support representatives through the workflow of managing inbound tickets to ensure timely and effective resolutions.\n",
        "\n",
        "---\n",
        "\n",
        "## Ticket Handling Steps\n",
        "\n",
        "### 1. Ticket Review\n",
        "- **Verify Details**: Ensure the ticket contains necessary information (e.g., user’s email, account ID, problem description).\n",
        "- **Set Priority**: Confirm or adjust the ticket priority (Low, Medium, High, Critical).\n",
        "\n",
        "---\n",
        "\n",
        "### 2. Initial Response\n",
        "- Respond within the appropriate SLA timeframe.\n",
        "- Greet the customer by name and acknowledge the issue.\n",
        "- Provide known solutions or troubleshooting steps, if applicable.\n",
        "\n",
        "---\n",
        "\n",
        "### 3. Investigation\n",
        "- **Check Knowledge Base**: Review internal documentation for related solutions.\n",
        "- **Test and Reproduce**: Attempt to reproduce the issue in a test environment if necessary.\n",
        "- **Identify Patterns**: Verify if the issue is part of a known bug or outage.\n",
        "\n",
        "---\n",
        "\n",
        "### 4. Resolution\n",
        "- Provide clear, step-by-step instructions if a known solution exists.\n",
        "- If escalated internally, keep the user informed on the progress and estimated resolution time.\n",
        "- Confirm the issue is resolved with the customer before closing the ticket.\n",
        "\n",
        "---\n",
        "\n",
        "### 5. Follow-Up\n",
        "- Send a follow-up survey or invite the customer to rate their experience.\n",
        "- Update internal documentation to include new solutions or workarounds.\n",
        "- Ensure any unresolved issues are appropriately escalated.\n",
        "\n",
        "---\n",
        "\n",
        "## Support Workflow Diagram\n",
        "\n",
        "```mermaid\n",
        "graph LR\n",
        "    A[Customer Submits Ticket] --> B[Ticket Assigned to Agent]\n",
        "    B --> C[Review Ticket Details]\n",
        "    C --> D[Identify Issue Type<br>- Known Bug?<br>- User Error?<br>- New Issue?]\n",
        "    D -->|Yes| E[Known Issue? (Existing Fix)]\n",
        "    D -->|No| F[Needs Further Investigation]\n",
        "    E --> G[Send Solution & Confirm Fix]\n",
        "    G --> H[Close Ticket (User Confirms)]\n",
        "    F --> I[Attempt Repro & Check Logs<br>Consult Knowledge Base]\n",
        "    I --> J[Escalate to Development Team]\n",
        "    J --> K[Dev Provides Fix]\n",
        "    K --> L[Deploy Fix & Notify Support]\n",
        "    L --> M[Send Update to Customer]\n",
        "    M --> N[Close Ticket (Confirmed)]\n",
        "```\n",
        "\"\"\"\n",
        "\n",
        "import os\n",
        "\n",
        "if not os.path.exists('docs'):\n",
        "    os.mkdir('docs')\n",
        "with open('docs/user_docs.md', 'w') as f:\n",
        "    f.write(user_docs)\n",
        "with open('docs/customer_service_docs.md', 'w') as f:\n",
        "    f.write(customer_service_docs)"
      ],
      "metadata": {
        "id": "Ac9gDILoX9Nj"
      },
      "execution_count": 2,
      "outputs": []
    },
    {
      "cell_type": "code",
      "source": [
        "# Create the query engine tool to answer questions\n",
        "from llama_index.core.readers import SimpleDirectoryReader\n",
        "from llama_index.core.node_parser import MarkdownNodeParser\n",
        "from llama_index.embeddings.huggingface import HuggingFaceEmbedding\n",
        "from llama_index.core.tools import FunctionTool, RetrieverTool, QueryEngineTool\n",
        "from llama_index.core import VectorStoreIndex, Settings\n",
        "from llama_index.llms.openai import OpenAI\n",
        "\n",
        "Settings.llm = OpenAI(model=\"gpt-4o-mini\")\n",
        "\n",
        "embed_model = HuggingFaceEmbedding(model_name=\"BAAI/bge-base-en-v1.5\")\n",
        "\n",
        "aeris_docs = SimpleDirectoryReader('docs').load_data()\n",
        "aeris_nodes = MarkdownNodeParser.from_defaults().get_nodes_from_documents(aeris_docs)\n",
        "aeris_index = VectorStoreIndex(aeris_nodes, embed_model=embed_model)\n",
        "aeris_rag_tool = QueryEngineTool.from_defaults(aeris_index.as_query_engine(), name=\"product_documentation\", description=\"Useful when you want to look up product documentation.\")"
      ],
      "metadata": {
        "id": "GDQ0xzKjba3-"
      },
      "execution_count": 8,
      "outputs": []
    },
    {
      "cell_type": "code",
      "source": [
        "# Create new unhandled customer tickets\n",
        "tickets = [\n",
        "    {\n",
        "        \"title\": \"Unable to Log In\",\n",
        "        \"body\": \"The user reports being unable to log into their account. They have attempted a password reset, but the email never arrived. Browser: Chrome 116.\"\n",
        "    },\n",
        "    {\n",
        "        \"title\": \"Task Missing from Dashboard\",\n",
        "        \"body\": \"A task created yesterday is not visible on the user's dashboard. They have confirmed that their filters are set correctly and refreshed the page.\"\n",
        "    },\n",
        "    {\n",
        "        \"title\": \"Slow Performance in Task Loading\",\n",
        "        \"body\": \"The user reported that tasks were taking over 30 seconds to load. The issue was resolved by clearing their browser cache.\"\n",
        "    },\n",
        "    {\n",
        "        \"title\": \"Error 500 on Project Creation\",\n",
        "        \"body\": \"A user encountered a 500 Internal Server Error when attempting to create a new project. The issue could not be reproduced on a test account and has been escalated to the development team.\"\n",
        "    },\n",
        "    {\n",
        "        \"title\": \"Notifications Not Sending\",\n",
        "        \"body\": \"The user reported not receiving email notifications for task updates. Support has confirmed the user's notification settings were incorrect and updated them. Awaiting confirmation from the user.\"\n",
        "    }\n",
        "]"
      ],
      "metadata": {
        "id": "C_PvZs8zdLQv"
      },
      "execution_count": 9,
      "outputs": []
    },
    {
      "cell_type": "code",
      "source": [
        "# Create a database of tickets with statuses (dataframe for now)\n",
        "tickets_db = [\n",
        "    {\n",
        "        \"id\": 1,\n",
        "        \"title\": \"Unable to Log In\",\n",
        "        \"status\": \"New\",\n",
        "        \"body\": \"The user reports being unable to log into their account. They have attempted a password reset, but the email never arrived.\",\n",
        "        \"created_at\": \"2024-12-07T10:15:00\",\n",
        "        \"updated_at\": \"2024-12-07T10:15:00\",\n",
        "        \"priority\": \"High\"\n",
        "    },\n",
        "    {\n",
        "        \"id\": 2,\n",
        "        \"title\": \"Task Missing from Dashboard\",\n",
        "        \"status\": \"In Progress\",\n",
        "        \"body\": \"A task created yesterday is not visible on the user's dashboard. They have confirmed that their filters are set correctly and refreshed the page.\",\n",
        "        \"created_at\": \"2024-12-06T15:30:00\",\n",
        "        \"updated_at\": \"2024-12-07T09:00:00\",\n",
        "        \"priority\": \"Medium\"\n",
        "    },\n",
        "    {\n",
        "        \"id\": 3,\n",
        "        \"title\": \"Slow Performance in Task Loading\",\n",
        "        \"status\": \"Resolved\",\n",
        "        \"body\": \"The user reported that tasks were taking over 30 seconds to load. The issue was resolved by clearing their browser cache.\",\n",
        "        \"created_at\": \"2024-12-05T14:45:00\",\n",
        "        \"updated_at\": \"2024-12-06T10:15:00\",\n",
        "        \"priority\": \"Low\"\n",
        "    },\n",
        "    {\n",
        "        \"id\": 4,\n",
        "        \"title\": \"Error 500 on Project Creation\",\n",
        "        \"status\": \"Resolved\",\n",
        "        \"body\": \"A user encountered a 500 Internal Server Error when attempting to create a new project. The issue could not be reproduced on a test account and has been escalated to the development team.\",\n",
        "        \"created_at\": \"2024-12-04T11:00:00\",\n",
        "        \"updated_at\": \"2024-12-07T08:30:00\",\n",
        "        \"priority\": \"Critical\"\n",
        "    },\n",
        "    {\n",
        "        \"id\": 5,\n",
        "        \"title\": \"Notifications Not Sending\",\n",
        "        \"status\": \"In progress\",\n",
        "        \"body\": \"The user reported not receiving email notifications for task updates. Support has confirmed the user's notification settings were incorrect and updated them. Awaiting confirmation from the user.\",\n",
        "        \"created_at\": \"2024-12-05T09:15:00\",\n",
        "        \"updated_at\": \"2024-12-06T16:45:00\",\n",
        "        \"priority\": \"Medium\"\n",
        "    },\n",
        "    {\n",
        "        \"id\": 6,\n",
        "        \"title\": \"Duplicate Tasks Created\",\n",
        "        \"status\": \"New\",\n",
        "        \"body\": \"A user reports that adding a task occasionally creates duplicate entries in the task list.\",\n",
        "        \"created_at\": \"2024-12-07T11:30:00\",\n",
        "        \"updated_at\": \"2024-12-07T11:30:00\",\n",
        "        \"priority\": \"Low\"\n",
        "    },\n",
        "    {\n",
        "        \"id\": 7,\n",
        "        \"title\": \"Project Sharing Not Working\",\n",
        "        \"status\": \"New\",\n",
        "        \"body\": \"A user reports that shared projects are not visible to other users, even after granting access.\",\n",
        "        \"created_at\": \"2024-12-05T13:00:00\",\n",
        "        \"updated_at\": \"2024-12-06T14:00:00\",\n",
        "        \"priority\": \"High\"\n",
        "    },\n",
        "    {\n",
        "        \"id\": 8,\n",
        "        \"title\": \"Mobile App Crashes on Task Creation\",\n",
        "        \"status\": \"Resolved\",\n",
        "        \"body\": \"A user reported that the mobile app crashed while creating a task. The issue was resolved with the latest app update.\",\n",
        "        \"created_at\": \"2024-12-01T10:00:00\",\n",
        "        \"updated_at\": \"2024-12-03T17:00:00\",\n",
        "        \"priority\": \"Medium\"\n",
        "    },\n",
        "    {\n",
        "        \"id\": 9,\n",
        "        \"title\": \"Search Function Returning Incorrect Results\",\n",
        "        \"status\": \"In Progress\",\n",
        "        \"body\": \"The user reports that searching for tasks by name sometimes returns irrelevant results.\",\n",
        "        \"created_at\": \"2024-12-06T08:45:00\",\n",
        "        \"updated_at\": \"2024-12-07T10:45:00\",\n",
        "        \"priority\": \"Medium\"\n",
        "    },\n",
        "    {\n",
        "        \"id\": 10,\n",
        "        \"title\": \"Unable to Upload Files\",\n",
        "        \"status\": \"New\",\n",
        "        \"body\": \"The user cannot upload files to tasks. Error logs indicate a permissions issue.\",\n",
        "        \"created_at\": \"2024-12-02T09:30:00\",\n",
        "        \"updated_at\": \"2024-12-06T12:30:00\",\n",
        "        \"priority\": \"Critical\"\n",
        "    }\n",
        "]\n",
        "\n",
        "from llama_index.core.schema import Document\n",
        "from datetime import datetime\n",
        "\n",
        "class TicketDB:\n",
        "    def __init__(self, tickets=tickets_db):\n",
        "        self.tickets = tickets_db\n",
        "        self.index = self._build_index()\n",
        "\n",
        "    def _build_index(self):\n",
        "        ticket_docs = [\n",
        "            Document(doc_id=str(t[\"id\"]), text=t[\"body\"], extra_info = {k:v for k, v in t.items() if k not in ['body']}) for t in self.tickets\n",
        "        ]\n",
        "        index = VectorStoreIndex.from_documents(ticket_docs, embed_model=embed_model)\n",
        "        return index\n",
        "\n",
        "\n",
        "    def new_ticket(self, title:str, body:str, priority:str):\n",
        "        \"\"\"\n",
        "        Add a new ticket to the database.\n",
        "\n",
        "        Args:\n",
        "            title (str): The title of the ticket.\n",
        "            body (str): The body of the ticket.\n",
        "            priority (str): The priority of the ticket.\n",
        "        \"\"\"\n",
        "        _ticket = {\n",
        "            \"id\": len(self.tickets) + 1,\n",
        "            \"title\": title,\n",
        "            \"status\": \"New\",\n",
        "            \"body\": body,\n",
        "            \"created_at\": datetime.now().isoformat(),\n",
        "            \"updated_at\": datetime.now().isoformat(),\n",
        "            \"priority\": priority\n",
        "        }\n",
        "        self.tickets.append(_ticket)\n",
        "        self.index = self._build_index()\n",
        "        return \"Ticket created successfully\"\n",
        "\n",
        "    def resolve_ticket(self, id: int) -> str:\n",
        "        \"\"\"\n",
        "        Set the status of a ticket to \"Resolved\".\n",
        "\n",
        "        Args:\n",
        "            id (int): The ID of the ticket to resolve.\n",
        "        \"\"\"\n",
        "        for t in self.tickets:\n",
        "            if t[\"id\"] == id:\n",
        "                t[\"status\"] = \"Resolved\"\n",
        "                t['updated_at'] = datetime.now().isoformat()\n",
        "                break\n",
        "        self.index = self._build_index()\n",
        "        return \"Ticket resolved successfully\"\n",
        "\n",
        "\n",
        "    def set_ticket_in_progress(self, id:int) -> None:\n",
        "        \"\"\"\n",
        "        Set the status of a ticket to \"In Progress\".\n",
        "\n",
        "        Args:\n",
        "            id (int): The ID of the ticket to set to \"In Progress\".\n",
        "        \"\"\"\n",
        "        for t in self.tickets:\n",
        "            if t[\"id\"] == id:\n",
        "                t[\"status\"] = \"In Progress\"\n",
        "                t['updated_at'] = datetime.now().isoformat()\n",
        "                break\n",
        "        self.index = self._build_index()\n",
        "        return \"Ticket set to In Progress successfully\"\n",
        "\n",
        "\n",
        "    @property\n",
        "    def index_tool(self):\n",
        "        return RetrieverTool.from_defaults(self.index.as_retriever(), name='ticket_search_tool', description=\"Useful when you want to look up existing tickets and their statuses.\")\n",
        "\n",
        "    @property\n",
        "    def resolve_ticket_tool(self):\n",
        "        return FunctionTool.from_defaults(fn=self.resolve_ticket, description='Useful when you want to close a ticket')\n",
        "\n",
        "    @property\n",
        "    def new_ticket_tool(self):\n",
        "        return FunctionTool.from_defaults(fn=self.new_ticket, description='Useful when you want to create a new ticket')\n",
        "\n",
        "    def get_tool_list(self):\n",
        "        return [self.index_tool, self.resolve_ticket_tool, self.new_ticket_tool]"
      ],
      "metadata": {
        "id": "NbpHP-V2dBDR"
      },
      "execution_count": 13,
      "outputs": []
    },
    {
      "cell_type": "code",
      "source": [
        "import os\n",
        "from google.colab import userdata\n",
        "os.environ['OPENAI_API_KEY'] = userdata.get(\"OPENAI_API_KEY\")"
      ],
      "metadata": {
        "id": "dkR-R8_-s3Ku"
      },
      "execution_count": 19,
      "outputs": []
    },
    {
      "cell_type": "code",
      "source": [
        "from llama_index.agent.openai import OpenAIAgent\n",
        "\n",
        "db = TicketDB()\n",
        "tools = db.get_tool_list() + [aeris_rag_tool]\n",
        "system_prompt = \"\"\"\\\n",
        "You are an expert at handling customer tickets. \\\n",
        "When you receive a new ticket, first check if a matching issue exists that matches the customer's complaint.\n",
        "If one doesn't exist, create a new ticket.\n",
        "If there's an existing ticket that's in progress for the case, communicate the status of the ticket and assure them that they'll be notified when it's done.\n",
        "If the ticket is resolved, communicate the status to the customer.\n",
        "If product documentation is available, suggest a course of action to the customer.\n",
        "\"\"\"\n",
        "ticket_agent = OpenAIAgent.from_tools(tools, llm=OpenAI('gpt-4o-mini'), verbose=True, system_prompt=system_prompt)"
      ],
      "metadata": {
        "id": "jV9H5z9VfxVi"
      },
      "execution_count": 20,
      "outputs": []
    },
    {
      "cell_type": "code",
      "source": [
        "ticket_agent.chat(str(tickets[0]))"
      ],
      "metadata": {
        "id": "bPaexQeIhMKc",
        "outputId": "eea6cbbf-fae8-4c5f-e595-7300cb4b8dd3",
        "colab": {
          "base_uri": "https://localhost:8080/"
        }
      },
      "execution_count": 21,
      "outputs": [
        {
          "output_type": "stream",
          "name": "stdout",
          "text": [
            "Added user message to memory: {'title': 'Unable to Log In', 'body': 'The user reports being unable to log into their account. They have attempted a password reset, but the email never arrived. Browser: Chrome 116.'}\n",
            "=== Calling Function ===\n",
            "Calling function: ticket_search_tool with args: {\"input\":\"Unable to Log In\"}\n",
            "Got output: id = 1\n",
            "title = Unable to Log In\n",
            "status = New\n",
            "created_at = 2024-12-07T10:15:00\n",
            "updated_at = 2024-12-07T10:15:00\n",
            "priority = High\n",
            "The user reports being unable to log into their account. They have attempted a password reset, but the email never arrived.\n",
            "\n",
            "id = 10\n",
            "title = Unable to Upload Files\n",
            "status = New\n",
            "created_at = 2024-12-02T09:30:00\n",
            "updated_at = 2024-12-06T12:30:00\n",
            "priority = Critical\n",
            "The user cannot upload files to tasks. Error logs indicate a permissions issue.\n",
            "\n",
            "\n",
            "========================\n",
            "\n",
            "=== Calling Function ===\n",
            "Calling function: new_ticket with args: {\"title\":\"Unable to Log In\",\"body\":\"The user reports being unable to log into their account. They have attempted a password reset, but the email never arrived. Browser: Chrome 116.\",\"priority\":\"High\"}\n",
            "Got output: Ticket created successfully\n",
            "========================\n",
            "\n"
          ]
        },
        {
          "output_type": "execute_result",
          "data": {
            "text/plain": [
              "AgentChatResponse(response='A new ticket has been created for the issue titled \"Unable to Log In.\" The user reports being unable to log into their account and has attempted a password reset, but the email never arrived. \\n\\nIf you need further assistance or updates, feel free to ask!', sources=[ToolOutput(content='id = 1\\ntitle = Unable to Log In\\nstatus = New\\ncreated_at = 2024-12-07T10:15:00\\nupdated_at = 2024-12-07T10:15:00\\npriority = High\\nThe user reports being unable to log into their account. They have attempted a password reset, but the email never arrived.\\n\\nid = 10\\ntitle = Unable to Upload Files\\nstatus = New\\ncreated_at = 2024-12-02T09:30:00\\nupdated_at = 2024-12-06T12:30:00\\npriority = Critical\\nThe user cannot upload files to tasks. Error logs indicate a permissions issue.\\n\\n', tool_name='ticket_search_tool', raw_input={'input': '\\ninput is Unable to Log In\\n'}, raw_output=[NodeWithScore(node=TextNode(id_='335db8c0-c894-4638-b324-f2756cc2a5ad', embedding=None, metadata={'id': 1, 'title': 'Unable to Log In', 'status': 'New', 'created_at': '2024-12-07T10:15:00', 'updated_at': '2024-12-07T10:15:00', 'priority': 'High'}, excluded_embed_metadata_keys=[], excluded_llm_metadata_keys=[], relationships={<NodeRelationship.SOURCE: '1'>: RelatedNodeInfo(node_id='1', node_type='4', metadata={'id': 1, 'title': 'Unable to Log In', 'status': 'New', 'created_at': '2024-12-07T10:15:00', 'updated_at': '2024-12-07T10:15:00', 'priority': 'High'}, hash='2f9ec710abf7fe55bb9aea750ca056025f135af31bc80598aeb96df67fa13b3f')}, metadata_template='{key}: {value}', metadata_separator='\\n', text='The user reports being unable to log into their account. They have attempted a password reset, but the email never arrived.', mimetype='text/plain', start_char_idx=0, end_char_idx=123, metadata_seperator='\\n', text_template='{metadata_str}\\n\\n{content}'), score=0.7052467294444567), NodeWithScore(node=TextNode(id_='9c917136-66ae-4f62-a761-947d426e3498', embedding=None, metadata={'id': 10, 'title': 'Unable to Upload Files', 'status': 'New', 'created_at': '2024-12-02T09:30:00', 'updated_at': '2024-12-06T12:30:00', 'priority': 'Critical'}, excluded_embed_metadata_keys=[], excluded_llm_metadata_keys=[], relationships={<NodeRelationship.SOURCE: '1'>: RelatedNodeInfo(node_id='10', node_type='4', metadata={'id': 10, 'title': 'Unable to Upload Files', 'status': 'New', 'created_at': '2024-12-02T09:30:00', 'updated_at': '2024-12-06T12:30:00', 'priority': 'Critical'}, hash='9fde6bbf9891f60a7cd13a4d1d5b83e9675404390e55e01c3a1f5ee8de2f06f0')}, metadata_template='{key}: {value}', metadata_separator='\\n', text='The user cannot upload files to tasks. Error logs indicate a permissions issue.', mimetype='text/plain', start_char_idx=0, end_char_idx=79, metadata_seperator='\\n', text_template='{metadata_str}\\n\\n{content}'), score=0.5860468874530429)], is_error=False), ToolOutput(content='Ticket created successfully', tool_name='new_ticket', raw_input={'args': (), 'kwargs': {'title': 'Unable to Log In', 'body': 'The user reports being unable to log into their account. They have attempted a password reset, but the email never arrived. Browser: Chrome 116.', 'priority': 'High'}}, raw_output='Ticket created successfully', is_error=False)], source_nodes=[], is_dummy_stream=False, metadata=None)"
            ]
          },
          "metadata": {},
          "execution_count": 21
        }
      ]
    },
    {
      "cell_type": "code",
      "source": [
        "len(db.tickets)"
      ],
      "metadata": {
        "id": "hHbhm1p_o1bZ",
        "outputId": "bb7bd9b5-c37a-487d-c601-bb3ce756360d",
        "colab": {
          "base_uri": "https://localhost:8080/"
        }
      },
      "execution_count": 222,
      "outputs": [
        {
          "output_type": "execute_result",
          "data": {
            "text/plain": [
              "11"
            ]
          },
          "metadata": {},
          "execution_count": 222
        }
      ]
    },
    {
      "cell_type": "code",
      "execution_count": 226,
      "metadata": {
        "id": "uncotzkJSknj",
        "outputId": "cb5dce04-d44d-49c2-b64c-2a5570975721",
        "colab": {
          "base_uri": "https://localhost:8080/"
        }
      },
      "outputs": [
        {
          "output_type": "stream",
          "name": "stdout",
          "text": [
            "Added user message to memory: {'title': 'Task Missing from Dashboard', 'body': \"A task created yesterday is not visible on the user's dashboard. They have confirmed that their filters are set correctly and refreshed the page.\"}\n",
            "=== Calling Function ===\n",
            "Calling function: ticket_search_tool with args: {\"input\":\"Task Missing from Dashboard\"}\n",
            "Got output: id = 2\n",
            "title = Task Missing from Dashboard\n",
            "status = In Progress\n",
            "created_at = 2024-12-06T15:30:00\n",
            "updated_at = 2024-12-07T09:00:00\n",
            "priority = Medium\n",
            "A task created yesterday is not visible on the user's dashboard. They have confirmed that their filters are set correctly and refreshed the page.\n",
            "\n",
            "id = 6\n",
            "title = Duplicate Tasks Created\n",
            "status = New\n",
            "created_at = 2024-12-07T11:30:00\n",
            "updated_at = 2024-12-07T11:30:00\n",
            "priority = Low\n",
            "A user reports that adding a task occasionally creates duplicate entries in the task list.\n",
            "\n",
            "\n",
            "========================\n",
            "\n"
          ]
        },
        {
          "output_type": "execute_result",
          "data": {
            "text/plain": [
              "AgentChatResponse(response='There is an existing ticket titled \"Task Missing from Dashboard\" that is currently in progress. The issue involves a task created yesterday that is not visible on the user\\'s dashboard, and they have confirmed that their filters are set correctly and have refreshed the page.\\n\\nRest assured, you will be notified once the issue is resolved. If you have any further questions or need assistance, feel free to ask!', sources=[ToolOutput(content=\"id = 2\\ntitle = Task Missing from Dashboard\\nstatus = In Progress\\ncreated_at = 2024-12-06T15:30:00\\nupdated_at = 2024-12-07T09:00:00\\npriority = Medium\\nA task created yesterday is not visible on the user's dashboard. They have confirmed that their filters are set correctly and refreshed the page.\\n\\nid = 6\\ntitle = Duplicate Tasks Created\\nstatus = New\\ncreated_at = 2024-12-07T11:30:00\\nupdated_at = 2024-12-07T11:30:00\\npriority = Low\\nA user reports that adding a task occasionally creates duplicate entries in the task list.\\n\\n\", tool_name='ticket_search_tool', raw_input={'input': '\\ninput is Task Missing from Dashboard\\n'}, raw_output=[NodeWithScore(node=TextNode(id_='890cafd5-230a-42a5-99ad-7279d16f1ddb', embedding=None, metadata={'id': 2, 'title': 'Task Missing from Dashboard', 'status': 'In Progress', 'created_at': '2024-12-06T15:30:00', 'updated_at': '2024-12-07T09:00:00', 'priority': 'Medium'}, excluded_embed_metadata_keys=[], excluded_llm_metadata_keys=[], relationships={<NodeRelationship.SOURCE: '1'>: RelatedNodeInfo(node_id='2', node_type='4', metadata={'id': 2, 'title': 'Task Missing from Dashboard', 'status': 'In Progress', 'created_at': '2024-12-06T15:30:00', 'updated_at': '2024-12-07T09:00:00', 'priority': 'Medium'}, hash='2114a276ed41d10df85224edcfa8aa86be8f1245f1ce7fe907c99105e368d8ae')}, metadata_template='{key}: {value}', metadata_separator='\\n', text=\"A task created yesterday is not visible on the user's dashboard. They have confirmed that their filters are set correctly and refreshed the page.\", mimetype='text/plain', start_char_idx=0, end_char_idx=145, metadata_seperator='\\n', text_template='{metadata_str}\\n\\n{content}'), score=0.7528411646344191), NodeWithScore(node=TextNode(id_='0f43c961-b34d-44ea-baff-5dfc7f4022d1', embedding=None, metadata={'id': 6, 'title': 'Duplicate Tasks Created', 'status': 'New', 'created_at': '2024-12-07T11:30:00', 'updated_at': '2024-12-07T11:30:00', 'priority': 'Low'}, excluded_embed_metadata_keys=[], excluded_llm_metadata_keys=[], relationships={<NodeRelationship.SOURCE: '1'>: RelatedNodeInfo(node_id='6', node_type='4', metadata={'id': 6, 'title': 'Duplicate Tasks Created', 'status': 'New', 'created_at': '2024-12-07T11:30:00', 'updated_at': '2024-12-07T11:30:00', 'priority': 'Low'}, hash='190b807f9928e9dd59a3c74b0d3126869c28ea343726dccc6195c94a18cbad9f')}, metadata_template='{key}: {value}', metadata_separator='\\n', text='A user reports that adding a task occasionally creates duplicate entries in the task list.', mimetype='text/plain', start_char_idx=0, end_char_idx=90, metadata_seperator='\\n', text_template='{metadata_str}\\n\\n{content}'), score=0.6025415618066519)], is_error=False)], source_nodes=[], is_dummy_stream=False, metadata=None)"
            ]
          },
          "metadata": {},
          "execution_count": 226
        }
      ],
      "source": [
        "ticket_agent.chat(str(tickets[1]))"
      ]
    },
    {
      "cell_type": "markdown",
      "metadata": {
        "id": "88q2aYiZSknj"
      },
      "source": [
        "## Frontend building (15 minutes)\n",
        "\n",
        "Your goal over the next 15 minutes is to:\n",
        "- Use `gradio` to build an interface for your agent.\n",
        "- Test your agent with 2-3 different inputs to ensure it's working as expected.\n",
        "- If you want to use your agent more like an api, check out the [`gradio-client`](https://www.gradio.app/docs/python-client/introduction) library and run your test cases programmatically."
      ]
    },
    {
      "cell_type": "code",
      "execution_count": 22,
      "metadata": {
        "id": "SmaGcDh4Sknj"
      },
      "outputs": [],
      "source": [
        "import gradio as gr"
      ]
    },
    {
      "cell_type": "code",
      "execution_count": 23,
      "metadata": {
        "id": "GU_UBko4Sknj"
      },
      "outputs": [],
      "source": [
        "system_prompt = \"\"\"\\\n",
        "You are an expert at handling customer tickets. \\\n",
        "When you receive a new ticket, first check if a matching issue exists that matches the customer's complaint.\n",
        "If one doesn't exist, create a new ticket.\n",
        "If there's an existing ticket that's in progress for the case, communicate the status of the ticket and assure them that they'll be notified when it's done.\n",
        "If the ticket is resolved, communicate the status to the customer.\n",
        "If product documentation is available, suggest a course of action to the customer.\n",
        "\"\"\"\n",
        "\n",
        "def respond(title, body, db:TicketDB):\n",
        "    db_tools = db.get_tool_list()\n",
        "    tools = db_tools + [aeris_rag_tool]\n",
        "    agent = OpenAIAgent.from_tools(tools, llm='gpt-4o-mini', verbose=False, system_prompt=system_prompt)\n",
        "    return agent.chat(str(dict(title=title, body=body))).response\n"
      ]
    },
    {
      "cell_type": "code",
      "source": [
        "with gr.Blocks() as demo:\n",
        "    _db = gr.State(value=TicketDB())\n",
        "    gr.Markdown(\"## Submit a new ticket\")\n",
        "    title = gr.Textbox(placeholder='Title your ticket', interactive=True)\n",
        "    body = gr.Textbox(placeholder=\"Describe your ticket, including anything you've tried\", interactive=True)\n",
        "    with gr.Row():\n",
        "        submit = gr.Button(\"Submit\")\n",
        "        clear = gr.Button('Clear')\n",
        "    response = gr.TextArea()\n",
        "\n",
        "    submit.click(respond, inputs=[title, body, _db], outputs=[response])\n",
        "    clear.click(lambda: (None, None, None), [title, body, response])\n",
        "\n",
        "demo.launch()"
      ],
      "metadata": {
        "id": "fL0bDhQhqYOU",
        "outputId": "d0281667-a242-4281-8b3b-5313a86ceddf",
        "colab": {
          "base_uri": "https://localhost:8080/",
          "height": 715
        }
      },
      "execution_count": 26,
      "outputs": [
        {
          "output_type": "stream",
          "name": "stderr",
          "text": [
            "/usr/local/lib/python3.10/dist-packages/gradio/utils.py:999: UserWarning: Expected 0 arguments for function <function <lambda> at 0x7b38c862dea0>, received 3.\n",
            "  warnings.warn(\n",
            "/usr/local/lib/python3.10/dist-packages/gradio/utils.py:1007: UserWarning: Expected maximum 0 arguments for function <function <lambda> at 0x7b38c862dea0>, received 3.\n",
            "  warnings.warn(\n"
          ]
        },
        {
          "output_type": "stream",
          "name": "stdout",
          "text": [
            "Running Gradio in a Colab notebook requires sharing enabled. Automatically setting `share=True` (you can turn this off by setting `share=False` in `launch()` explicitly).\n",
            "\n",
            "Colab notebook detected. To show errors in colab notebook, set debug=True in launch()\n",
            "* Running on public URL: https://28df1834e4e9903e96.gradio.live\n",
            "\n",
            "This share link expires in 72 hours. For free permanent hosting and GPU upgrades, run `gradio deploy` from the terminal in the working directory to deploy to Hugging Face Spaces (https://huggingface.co/spaces)\n"
          ]
        },
        {
          "output_type": "display_data",
          "data": {
            "text/plain": [
              "<IPython.core.display.HTML object>"
            ],
            "text/html": [
              "<div><iframe src=\"https://28df1834e4e9903e96.gradio.live\" width=\"100%\" height=\"500\" allow=\"autoplay; camera; microphone; clipboard-read; clipboard-write;\" frameborder=\"0\" allowfullscreen></iframe></div>"
            ]
          },
          "metadata": {}
        },
        {
          "output_type": "execute_result",
          "data": {
            "text/plain": []
          },
          "metadata": {},
          "execution_count": 26
        }
      ]
    },
    {
      "cell_type": "code",
      "source": [
        "tickets[2]"
      ],
      "metadata": {
        "id": "-U5BTTVWry4h",
        "outputId": "55ad5656-1200-455e-ff72-593239f1afb4",
        "colab": {
          "base_uri": "https://localhost:8080/"
        }
      },
      "execution_count": 25,
      "outputs": [
        {
          "output_type": "execute_result",
          "data": {
            "text/plain": [
              "{'title': 'Slow Performance in Task Loading',\n",
              " 'body': 'The user reported that tasks were taking over 30 seconds to load. The issue was resolved by clearing their browser cache.'}"
            ]
          },
          "metadata": {},
          "execution_count": 25
        }
      ]
    },
    {
      "cell_type": "code",
      "source": [
        "import numpy as np\n",
        "np.random.choice([\n",
        "    'LIsa', 'Leena', 'PJ', \"Kseniya\", \"Gustavo\", \"Mukta\", \"Terence\", \"Eric\"\n",
        "])"
      ],
      "metadata": {
        "id": "TOOx3JNvtG0C",
        "outputId": "577d3ba0-18d0-408b-fbbb-263e8d58e169",
        "colab": {
          "base_uri": "https://localhost:8080/",
          "height": 36
        }
      },
      "execution_count": 29,
      "outputs": [
        {
          "output_type": "execute_result",
          "data": {
            "text/plain": [
              "'LIsa'"
            ],
            "application/vnd.google.colaboratory.intrinsic+json": {
              "type": "string"
            }
          },
          "metadata": {},
          "execution_count": 29
        }
      ]
    },
    {
      "cell_type": "code",
      "source": [],
      "metadata": {
        "id": "b8yll75AtlPr"
      },
      "execution_count": null,
      "outputs": []
    }
  ],
  "metadata": {
    "kernelspec": {
      "display_name": "Python 3",
      "name": "python3"
    },
    "language_info": {
      "codemirror_mode": {
        "name": "ipython",
        "version": 3
      },
      "file_extension": ".py",
      "mimetype": "text/x-python",
      "name": "python",
      "nbconvert_exporter": "python",
      "pygments_lexer": "ipython3",
      "version": "3.11.5"
    },
    "colab": {
      "provenance": [],
      "machine_shape": "hm",
      "gpuType": "T4",
      "include_colab_link": true
    },
    "accelerator": "GPU",
    "widgets": {
      "application/vnd.jupyter.widget-state+json": {
        "dab0b7fb959a4aeaa99c61111403ebb4": {
          "model_module": "@jupyter-widgets/controls",
          "model_name": "HBoxModel",
          "model_module_version": "1.5.0",
          "state": {
            "_dom_classes": [],
            "_model_module": "@jupyter-widgets/controls",
            "_model_module_version": "1.5.0",
            "_model_name": "HBoxModel",
            "_view_count": null,
            "_view_module": "@jupyter-widgets/controls",
            "_view_module_version": "1.5.0",
            "_view_name": "HBoxView",
            "box_style": "",
            "children": [
              "IPY_MODEL_cf24fb8b46d84aecba3915d274647ab0",
              "IPY_MODEL_9f3afdd3e0a54406a3b3e6ed8ed13682",
              "IPY_MODEL_47f2e8908db846b7bd0e49cdb1a555c7"
            ],
            "layout": "IPY_MODEL_0c34ebf152394b07bdb6e7697f0bf362"
          }
        },
        "cf24fb8b46d84aecba3915d274647ab0": {
          "model_module": "@jupyter-widgets/controls",
          "model_name": "HTMLModel",
          "model_module_version": "1.5.0",
          "state": {
            "_dom_classes": [],
            "_model_module": "@jupyter-widgets/controls",
            "_model_module_version": "1.5.0",
            "_model_name": "HTMLModel",
            "_view_count": null,
            "_view_module": "@jupyter-widgets/controls",
            "_view_module_version": "1.5.0",
            "_view_name": "HTMLView",
            "description": "",
            "description_tooltip": null,
            "layout": "IPY_MODEL_db2298fe19d24e69a1f62e2dff2fc51e",
            "placeholder": "​",
            "style": "IPY_MODEL_4a2bde334f12483ca8ae95474c9f1c10",
            "value": "modules.json: 100%"
          }
        },
        "9f3afdd3e0a54406a3b3e6ed8ed13682": {
          "model_module": "@jupyter-widgets/controls",
          "model_name": "FloatProgressModel",
          "model_module_version": "1.5.0",
          "state": {
            "_dom_classes": [],
            "_model_module": "@jupyter-widgets/controls",
            "_model_module_version": "1.5.0",
            "_model_name": "FloatProgressModel",
            "_view_count": null,
            "_view_module": "@jupyter-widgets/controls",
            "_view_module_version": "1.5.0",
            "_view_name": "ProgressView",
            "bar_style": "success",
            "description": "",
            "description_tooltip": null,
            "layout": "IPY_MODEL_32ee8aee5b8040d8915d6eb9e1d9deed",
            "max": 349,
            "min": 0,
            "orientation": "horizontal",
            "style": "IPY_MODEL_12709dba67fd4bcd98c62abaa9278a0e",
            "value": 349
          }
        },
        "47f2e8908db846b7bd0e49cdb1a555c7": {
          "model_module": "@jupyter-widgets/controls",
          "model_name": "HTMLModel",
          "model_module_version": "1.5.0",
          "state": {
            "_dom_classes": [],
            "_model_module": "@jupyter-widgets/controls",
            "_model_module_version": "1.5.0",
            "_model_name": "HTMLModel",
            "_view_count": null,
            "_view_module": "@jupyter-widgets/controls",
            "_view_module_version": "1.5.0",
            "_view_name": "HTMLView",
            "description": "",
            "description_tooltip": null,
            "layout": "IPY_MODEL_69a000ad4b9c4544b7a779a18c4848f6",
            "placeholder": "​",
            "style": "IPY_MODEL_bb3047e583d649c2a47c950d254ff4be",
            "value": " 349/349 [00:00&lt;00:00, 26.5kB/s]"
          }
        },
        "0c34ebf152394b07bdb6e7697f0bf362": {
          "model_module": "@jupyter-widgets/base",
          "model_name": "LayoutModel",
          "model_module_version": "1.2.0",
          "state": {
            "_model_module": "@jupyter-widgets/base",
            "_model_module_version": "1.2.0",
            "_model_name": "LayoutModel",
            "_view_count": null,
            "_view_module": "@jupyter-widgets/base",
            "_view_module_version": "1.2.0",
            "_view_name": "LayoutView",
            "align_content": null,
            "align_items": null,
            "align_self": null,
            "border": null,
            "bottom": null,
            "display": null,
            "flex": null,
            "flex_flow": null,
            "grid_area": null,
            "grid_auto_columns": null,
            "grid_auto_flow": null,
            "grid_auto_rows": null,
            "grid_column": null,
            "grid_gap": null,
            "grid_row": null,
            "grid_template_areas": null,
            "grid_template_columns": null,
            "grid_template_rows": null,
            "height": null,
            "justify_content": null,
            "justify_items": null,
            "left": null,
            "margin": null,
            "max_height": null,
            "max_width": null,
            "min_height": null,
            "min_width": null,
            "object_fit": null,
            "object_position": null,
            "order": null,
            "overflow": null,
            "overflow_x": null,
            "overflow_y": null,
            "padding": null,
            "right": null,
            "top": null,
            "visibility": null,
            "width": null
          }
        },
        "db2298fe19d24e69a1f62e2dff2fc51e": {
          "model_module": "@jupyter-widgets/base",
          "model_name": "LayoutModel",
          "model_module_version": "1.2.0",
          "state": {
            "_model_module": "@jupyter-widgets/base",
            "_model_module_version": "1.2.0",
            "_model_name": "LayoutModel",
            "_view_count": null,
            "_view_module": "@jupyter-widgets/base",
            "_view_module_version": "1.2.0",
            "_view_name": "LayoutView",
            "align_content": null,
            "align_items": null,
            "align_self": null,
            "border": null,
            "bottom": null,
            "display": null,
            "flex": null,
            "flex_flow": null,
            "grid_area": null,
            "grid_auto_columns": null,
            "grid_auto_flow": null,
            "grid_auto_rows": null,
            "grid_column": null,
            "grid_gap": null,
            "grid_row": null,
            "grid_template_areas": null,
            "grid_template_columns": null,
            "grid_template_rows": null,
            "height": null,
            "justify_content": null,
            "justify_items": null,
            "left": null,
            "margin": null,
            "max_height": null,
            "max_width": null,
            "min_height": null,
            "min_width": null,
            "object_fit": null,
            "object_position": null,
            "order": null,
            "overflow": null,
            "overflow_x": null,
            "overflow_y": null,
            "padding": null,
            "right": null,
            "top": null,
            "visibility": null,
            "width": null
          }
        },
        "4a2bde334f12483ca8ae95474c9f1c10": {
          "model_module": "@jupyter-widgets/controls",
          "model_name": "DescriptionStyleModel",
          "model_module_version": "1.5.0",
          "state": {
            "_model_module": "@jupyter-widgets/controls",
            "_model_module_version": "1.5.0",
            "_model_name": "DescriptionStyleModel",
            "_view_count": null,
            "_view_module": "@jupyter-widgets/base",
            "_view_module_version": "1.2.0",
            "_view_name": "StyleView",
            "description_width": ""
          }
        },
        "32ee8aee5b8040d8915d6eb9e1d9deed": {
          "model_module": "@jupyter-widgets/base",
          "model_name": "LayoutModel",
          "model_module_version": "1.2.0",
          "state": {
            "_model_module": "@jupyter-widgets/base",
            "_model_module_version": "1.2.0",
            "_model_name": "LayoutModel",
            "_view_count": null,
            "_view_module": "@jupyter-widgets/base",
            "_view_module_version": "1.2.0",
            "_view_name": "LayoutView",
            "align_content": null,
            "align_items": null,
            "align_self": null,
            "border": null,
            "bottom": null,
            "display": null,
            "flex": null,
            "flex_flow": null,
            "grid_area": null,
            "grid_auto_columns": null,
            "grid_auto_flow": null,
            "grid_auto_rows": null,
            "grid_column": null,
            "grid_gap": null,
            "grid_row": null,
            "grid_template_areas": null,
            "grid_template_columns": null,
            "grid_template_rows": null,
            "height": null,
            "justify_content": null,
            "justify_items": null,
            "left": null,
            "margin": null,
            "max_height": null,
            "max_width": null,
            "min_height": null,
            "min_width": null,
            "object_fit": null,
            "object_position": null,
            "order": null,
            "overflow": null,
            "overflow_x": null,
            "overflow_y": null,
            "padding": null,
            "right": null,
            "top": null,
            "visibility": null,
            "width": null
          }
        },
        "12709dba67fd4bcd98c62abaa9278a0e": {
          "model_module": "@jupyter-widgets/controls",
          "model_name": "ProgressStyleModel",
          "model_module_version": "1.5.0",
          "state": {
            "_model_module": "@jupyter-widgets/controls",
            "_model_module_version": "1.5.0",
            "_model_name": "ProgressStyleModel",
            "_view_count": null,
            "_view_module": "@jupyter-widgets/base",
            "_view_module_version": "1.2.0",
            "_view_name": "StyleView",
            "bar_color": null,
            "description_width": ""
          }
        },
        "69a000ad4b9c4544b7a779a18c4848f6": {
          "model_module": "@jupyter-widgets/base",
          "model_name": "LayoutModel",
          "model_module_version": "1.2.0",
          "state": {
            "_model_module": "@jupyter-widgets/base",
            "_model_module_version": "1.2.0",
            "_model_name": "LayoutModel",
            "_view_count": null,
            "_view_module": "@jupyter-widgets/base",
            "_view_module_version": "1.2.0",
            "_view_name": "LayoutView",
            "align_content": null,
            "align_items": null,
            "align_self": null,
            "border": null,
            "bottom": null,
            "display": null,
            "flex": null,
            "flex_flow": null,
            "grid_area": null,
            "grid_auto_columns": null,
            "grid_auto_flow": null,
            "grid_auto_rows": null,
            "grid_column": null,
            "grid_gap": null,
            "grid_row": null,
            "grid_template_areas": null,
            "grid_template_columns": null,
            "grid_template_rows": null,
            "height": null,
            "justify_content": null,
            "justify_items": null,
            "left": null,
            "margin": null,
            "max_height": null,
            "max_width": null,
            "min_height": null,
            "min_width": null,
            "object_fit": null,
            "object_position": null,
            "order": null,
            "overflow": null,
            "overflow_x": null,
            "overflow_y": null,
            "padding": null,
            "right": null,
            "top": null,
            "visibility": null,
            "width": null
          }
        },
        "bb3047e583d649c2a47c950d254ff4be": {
          "model_module": "@jupyter-widgets/controls",
          "model_name": "DescriptionStyleModel",
          "model_module_version": "1.5.0",
          "state": {
            "_model_module": "@jupyter-widgets/controls",
            "_model_module_version": "1.5.0",
            "_model_name": "DescriptionStyleModel",
            "_view_count": null,
            "_view_module": "@jupyter-widgets/base",
            "_view_module_version": "1.2.0",
            "_view_name": "StyleView",
            "description_width": ""
          }
        },
        "ce010d2a23f04fae9de3a95ab73e0d5d": {
          "model_module": "@jupyter-widgets/controls",
          "model_name": "HBoxModel",
          "model_module_version": "1.5.0",
          "state": {
            "_dom_classes": [],
            "_model_module": "@jupyter-widgets/controls",
            "_model_module_version": "1.5.0",
            "_model_name": "HBoxModel",
            "_view_count": null,
            "_view_module": "@jupyter-widgets/controls",
            "_view_module_version": "1.5.0",
            "_view_name": "HBoxView",
            "box_style": "",
            "children": [
              "IPY_MODEL_b8bc4e77c7654e5b8af7f90a3bd299b7",
              "IPY_MODEL_3d4d8504f49847b7b75c897318913327",
              "IPY_MODEL_c70ca22358c9488fb836c4e629ccc48d"
            ],
            "layout": "IPY_MODEL_b766da51a21f4fe89211d0c916daf720"
          }
        },
        "b8bc4e77c7654e5b8af7f90a3bd299b7": {
          "model_module": "@jupyter-widgets/controls",
          "model_name": "HTMLModel",
          "model_module_version": "1.5.0",
          "state": {
            "_dom_classes": [],
            "_model_module": "@jupyter-widgets/controls",
            "_model_module_version": "1.5.0",
            "_model_name": "HTMLModel",
            "_view_count": null,
            "_view_module": "@jupyter-widgets/controls",
            "_view_module_version": "1.5.0",
            "_view_name": "HTMLView",
            "description": "",
            "description_tooltip": null,
            "layout": "IPY_MODEL_83bb3ff280ac4f0589e380fcfcaa78a7",
            "placeholder": "​",
            "style": "IPY_MODEL_48cf9ee8ba4c4a6a9ca544c95e7dce5a",
            "value": "config_sentence_transformers.json: 100%"
          }
        },
        "3d4d8504f49847b7b75c897318913327": {
          "model_module": "@jupyter-widgets/controls",
          "model_name": "FloatProgressModel",
          "model_module_version": "1.5.0",
          "state": {
            "_dom_classes": [],
            "_model_module": "@jupyter-widgets/controls",
            "_model_module_version": "1.5.0",
            "_model_name": "FloatProgressModel",
            "_view_count": null,
            "_view_module": "@jupyter-widgets/controls",
            "_view_module_version": "1.5.0",
            "_view_name": "ProgressView",
            "bar_style": "success",
            "description": "",
            "description_tooltip": null,
            "layout": "IPY_MODEL_dacf062e0d3f45a283310a8424e61083",
            "max": 124,
            "min": 0,
            "orientation": "horizontal",
            "style": "IPY_MODEL_3d884aecf45c422db9099dbb02f21051",
            "value": 124
          }
        },
        "c70ca22358c9488fb836c4e629ccc48d": {
          "model_module": "@jupyter-widgets/controls",
          "model_name": "HTMLModel",
          "model_module_version": "1.5.0",
          "state": {
            "_dom_classes": [],
            "_model_module": "@jupyter-widgets/controls",
            "_model_module_version": "1.5.0",
            "_model_name": "HTMLModel",
            "_view_count": null,
            "_view_module": "@jupyter-widgets/controls",
            "_view_module_version": "1.5.0",
            "_view_name": "HTMLView",
            "description": "",
            "description_tooltip": null,
            "layout": "IPY_MODEL_09c7e7badf2f4493b51824f47cd2ddd3",
            "placeholder": "​",
            "style": "IPY_MODEL_2a957a72d1aa4647bf1ab9115ec9e9f3",
            "value": " 124/124 [00:00&lt;00:00, 9.83kB/s]"
          }
        },
        "b766da51a21f4fe89211d0c916daf720": {
          "model_module": "@jupyter-widgets/base",
          "model_name": "LayoutModel",
          "model_module_version": "1.2.0",
          "state": {
            "_model_module": "@jupyter-widgets/base",
            "_model_module_version": "1.2.0",
            "_model_name": "LayoutModel",
            "_view_count": null,
            "_view_module": "@jupyter-widgets/base",
            "_view_module_version": "1.2.0",
            "_view_name": "LayoutView",
            "align_content": null,
            "align_items": null,
            "align_self": null,
            "border": null,
            "bottom": null,
            "display": null,
            "flex": null,
            "flex_flow": null,
            "grid_area": null,
            "grid_auto_columns": null,
            "grid_auto_flow": null,
            "grid_auto_rows": null,
            "grid_column": null,
            "grid_gap": null,
            "grid_row": null,
            "grid_template_areas": null,
            "grid_template_columns": null,
            "grid_template_rows": null,
            "height": null,
            "justify_content": null,
            "justify_items": null,
            "left": null,
            "margin": null,
            "max_height": null,
            "max_width": null,
            "min_height": null,
            "min_width": null,
            "object_fit": null,
            "object_position": null,
            "order": null,
            "overflow": null,
            "overflow_x": null,
            "overflow_y": null,
            "padding": null,
            "right": null,
            "top": null,
            "visibility": null,
            "width": null
          }
        },
        "83bb3ff280ac4f0589e380fcfcaa78a7": {
          "model_module": "@jupyter-widgets/base",
          "model_name": "LayoutModel",
          "model_module_version": "1.2.0",
          "state": {
            "_model_module": "@jupyter-widgets/base",
            "_model_module_version": "1.2.0",
            "_model_name": "LayoutModel",
            "_view_count": null,
            "_view_module": "@jupyter-widgets/base",
            "_view_module_version": "1.2.0",
            "_view_name": "LayoutView",
            "align_content": null,
            "align_items": null,
            "align_self": null,
            "border": null,
            "bottom": null,
            "display": null,
            "flex": null,
            "flex_flow": null,
            "grid_area": null,
            "grid_auto_columns": null,
            "grid_auto_flow": null,
            "grid_auto_rows": null,
            "grid_column": null,
            "grid_gap": null,
            "grid_row": null,
            "grid_template_areas": null,
            "grid_template_columns": null,
            "grid_template_rows": null,
            "height": null,
            "justify_content": null,
            "justify_items": null,
            "left": null,
            "margin": null,
            "max_height": null,
            "max_width": null,
            "min_height": null,
            "min_width": null,
            "object_fit": null,
            "object_position": null,
            "order": null,
            "overflow": null,
            "overflow_x": null,
            "overflow_y": null,
            "padding": null,
            "right": null,
            "top": null,
            "visibility": null,
            "width": null
          }
        },
        "48cf9ee8ba4c4a6a9ca544c95e7dce5a": {
          "model_module": "@jupyter-widgets/controls",
          "model_name": "DescriptionStyleModel",
          "model_module_version": "1.5.0",
          "state": {
            "_model_module": "@jupyter-widgets/controls",
            "_model_module_version": "1.5.0",
            "_model_name": "DescriptionStyleModel",
            "_view_count": null,
            "_view_module": "@jupyter-widgets/base",
            "_view_module_version": "1.2.0",
            "_view_name": "StyleView",
            "description_width": ""
          }
        },
        "dacf062e0d3f45a283310a8424e61083": {
          "model_module": "@jupyter-widgets/base",
          "model_name": "LayoutModel",
          "model_module_version": "1.2.0",
          "state": {
            "_model_module": "@jupyter-widgets/base",
            "_model_module_version": "1.2.0",
            "_model_name": "LayoutModel",
            "_view_count": null,
            "_view_module": "@jupyter-widgets/base",
            "_view_module_version": "1.2.0",
            "_view_name": "LayoutView",
            "align_content": null,
            "align_items": null,
            "align_self": null,
            "border": null,
            "bottom": null,
            "display": null,
            "flex": null,
            "flex_flow": null,
            "grid_area": null,
            "grid_auto_columns": null,
            "grid_auto_flow": null,
            "grid_auto_rows": null,
            "grid_column": null,
            "grid_gap": null,
            "grid_row": null,
            "grid_template_areas": null,
            "grid_template_columns": null,
            "grid_template_rows": null,
            "height": null,
            "justify_content": null,
            "justify_items": null,
            "left": null,
            "margin": null,
            "max_height": null,
            "max_width": null,
            "min_height": null,
            "min_width": null,
            "object_fit": null,
            "object_position": null,
            "order": null,
            "overflow": null,
            "overflow_x": null,
            "overflow_y": null,
            "padding": null,
            "right": null,
            "top": null,
            "visibility": null,
            "width": null
          }
        },
        "3d884aecf45c422db9099dbb02f21051": {
          "model_module": "@jupyter-widgets/controls",
          "model_name": "ProgressStyleModel",
          "model_module_version": "1.5.0",
          "state": {
            "_model_module": "@jupyter-widgets/controls",
            "_model_module_version": "1.5.0",
            "_model_name": "ProgressStyleModel",
            "_view_count": null,
            "_view_module": "@jupyter-widgets/base",
            "_view_module_version": "1.2.0",
            "_view_name": "StyleView",
            "bar_color": null,
            "description_width": ""
          }
        },
        "09c7e7badf2f4493b51824f47cd2ddd3": {
          "model_module": "@jupyter-widgets/base",
          "model_name": "LayoutModel",
          "model_module_version": "1.2.0",
          "state": {
            "_model_module": "@jupyter-widgets/base",
            "_model_module_version": "1.2.0",
            "_model_name": "LayoutModel",
            "_view_count": null,
            "_view_module": "@jupyter-widgets/base",
            "_view_module_version": "1.2.0",
            "_view_name": "LayoutView",
            "align_content": null,
            "align_items": null,
            "align_self": null,
            "border": null,
            "bottom": null,
            "display": null,
            "flex": null,
            "flex_flow": null,
            "grid_area": null,
            "grid_auto_columns": null,
            "grid_auto_flow": null,
            "grid_auto_rows": null,
            "grid_column": null,
            "grid_gap": null,
            "grid_row": null,
            "grid_template_areas": null,
            "grid_template_columns": null,
            "grid_template_rows": null,
            "height": null,
            "justify_content": null,
            "justify_items": null,
            "left": null,
            "margin": null,
            "max_height": null,
            "max_width": null,
            "min_height": null,
            "min_width": null,
            "object_fit": null,
            "object_position": null,
            "order": null,
            "overflow": null,
            "overflow_x": null,
            "overflow_y": null,
            "padding": null,
            "right": null,
            "top": null,
            "visibility": null,
            "width": null
          }
        },
        "2a957a72d1aa4647bf1ab9115ec9e9f3": {
          "model_module": "@jupyter-widgets/controls",
          "model_name": "DescriptionStyleModel",
          "model_module_version": "1.5.0",
          "state": {
            "_model_module": "@jupyter-widgets/controls",
            "_model_module_version": "1.5.0",
            "_model_name": "DescriptionStyleModel",
            "_view_count": null,
            "_view_module": "@jupyter-widgets/base",
            "_view_module_version": "1.2.0",
            "_view_name": "StyleView",
            "description_width": ""
          }
        },
        "fa48ffcba1af4032a31f9d50553e38b2": {
          "model_module": "@jupyter-widgets/controls",
          "model_name": "HBoxModel",
          "model_module_version": "1.5.0",
          "state": {
            "_dom_classes": [],
            "_model_module": "@jupyter-widgets/controls",
            "_model_module_version": "1.5.0",
            "_model_name": "HBoxModel",
            "_view_count": null,
            "_view_module": "@jupyter-widgets/controls",
            "_view_module_version": "1.5.0",
            "_view_name": "HBoxView",
            "box_style": "",
            "children": [
              "IPY_MODEL_c4d58e6e9d9a42f08433009c26f5d4a7",
              "IPY_MODEL_695411d5d57248d98bd52a67b132bc11",
              "IPY_MODEL_76b8ea509cdd44c4a97a99a5feb78cc9"
            ],
            "layout": "IPY_MODEL_9d869c22711842bf9dc336dec7f6fb6e"
          }
        },
        "c4d58e6e9d9a42f08433009c26f5d4a7": {
          "model_module": "@jupyter-widgets/controls",
          "model_name": "HTMLModel",
          "model_module_version": "1.5.0",
          "state": {
            "_dom_classes": [],
            "_model_module": "@jupyter-widgets/controls",
            "_model_module_version": "1.5.0",
            "_model_name": "HTMLModel",
            "_view_count": null,
            "_view_module": "@jupyter-widgets/controls",
            "_view_module_version": "1.5.0",
            "_view_name": "HTMLView",
            "description": "",
            "description_tooltip": null,
            "layout": "IPY_MODEL_377a564ca9884ad7993b49bf35d4e8f3",
            "placeholder": "​",
            "style": "IPY_MODEL_785498cb13dc4e13903bcbee7120e726",
            "value": "README.md: 100%"
          }
        },
        "695411d5d57248d98bd52a67b132bc11": {
          "model_module": "@jupyter-widgets/controls",
          "model_name": "FloatProgressModel",
          "model_module_version": "1.5.0",
          "state": {
            "_dom_classes": [],
            "_model_module": "@jupyter-widgets/controls",
            "_model_module_version": "1.5.0",
            "_model_name": "FloatProgressModel",
            "_view_count": null,
            "_view_module": "@jupyter-widgets/controls",
            "_view_module_version": "1.5.0",
            "_view_name": "ProgressView",
            "bar_style": "success",
            "description": "",
            "description_tooltip": null,
            "layout": "IPY_MODEL_06dd93e033e54ed1b8b9fa47d2d11974",
            "max": 94607,
            "min": 0,
            "orientation": "horizontal",
            "style": "IPY_MODEL_9e09420e364d4b62a92085ebf373d98a",
            "value": 94607
          }
        },
        "76b8ea509cdd44c4a97a99a5feb78cc9": {
          "model_module": "@jupyter-widgets/controls",
          "model_name": "HTMLModel",
          "model_module_version": "1.5.0",
          "state": {
            "_dom_classes": [],
            "_model_module": "@jupyter-widgets/controls",
            "_model_module_version": "1.5.0",
            "_model_name": "HTMLModel",
            "_view_count": null,
            "_view_module": "@jupyter-widgets/controls",
            "_view_module_version": "1.5.0",
            "_view_name": "HTMLView",
            "description": "",
            "description_tooltip": null,
            "layout": "IPY_MODEL_d1bfa86909a24158adcfe82790a8c6e5",
            "placeholder": "​",
            "style": "IPY_MODEL_b5d3e670fa84423e807a23b848bd305a",
            "value": " 94.6k/94.6k [00:00&lt;00:00, 2.99MB/s]"
          }
        },
        "9d869c22711842bf9dc336dec7f6fb6e": {
          "model_module": "@jupyter-widgets/base",
          "model_name": "LayoutModel",
          "model_module_version": "1.2.0",
          "state": {
            "_model_module": "@jupyter-widgets/base",
            "_model_module_version": "1.2.0",
            "_model_name": "LayoutModel",
            "_view_count": null,
            "_view_module": "@jupyter-widgets/base",
            "_view_module_version": "1.2.0",
            "_view_name": "LayoutView",
            "align_content": null,
            "align_items": null,
            "align_self": null,
            "border": null,
            "bottom": null,
            "display": null,
            "flex": null,
            "flex_flow": null,
            "grid_area": null,
            "grid_auto_columns": null,
            "grid_auto_flow": null,
            "grid_auto_rows": null,
            "grid_column": null,
            "grid_gap": null,
            "grid_row": null,
            "grid_template_areas": null,
            "grid_template_columns": null,
            "grid_template_rows": null,
            "height": null,
            "justify_content": null,
            "justify_items": null,
            "left": null,
            "margin": null,
            "max_height": null,
            "max_width": null,
            "min_height": null,
            "min_width": null,
            "object_fit": null,
            "object_position": null,
            "order": null,
            "overflow": null,
            "overflow_x": null,
            "overflow_y": null,
            "padding": null,
            "right": null,
            "top": null,
            "visibility": null,
            "width": null
          }
        },
        "377a564ca9884ad7993b49bf35d4e8f3": {
          "model_module": "@jupyter-widgets/base",
          "model_name": "LayoutModel",
          "model_module_version": "1.2.0",
          "state": {
            "_model_module": "@jupyter-widgets/base",
            "_model_module_version": "1.2.0",
            "_model_name": "LayoutModel",
            "_view_count": null,
            "_view_module": "@jupyter-widgets/base",
            "_view_module_version": "1.2.0",
            "_view_name": "LayoutView",
            "align_content": null,
            "align_items": null,
            "align_self": null,
            "border": null,
            "bottom": null,
            "display": null,
            "flex": null,
            "flex_flow": null,
            "grid_area": null,
            "grid_auto_columns": null,
            "grid_auto_flow": null,
            "grid_auto_rows": null,
            "grid_column": null,
            "grid_gap": null,
            "grid_row": null,
            "grid_template_areas": null,
            "grid_template_columns": null,
            "grid_template_rows": null,
            "height": null,
            "justify_content": null,
            "justify_items": null,
            "left": null,
            "margin": null,
            "max_height": null,
            "max_width": null,
            "min_height": null,
            "min_width": null,
            "object_fit": null,
            "object_position": null,
            "order": null,
            "overflow": null,
            "overflow_x": null,
            "overflow_y": null,
            "padding": null,
            "right": null,
            "top": null,
            "visibility": null,
            "width": null
          }
        },
        "785498cb13dc4e13903bcbee7120e726": {
          "model_module": "@jupyter-widgets/controls",
          "model_name": "DescriptionStyleModel",
          "model_module_version": "1.5.0",
          "state": {
            "_model_module": "@jupyter-widgets/controls",
            "_model_module_version": "1.5.0",
            "_model_name": "DescriptionStyleModel",
            "_view_count": null,
            "_view_module": "@jupyter-widgets/base",
            "_view_module_version": "1.2.0",
            "_view_name": "StyleView",
            "description_width": ""
          }
        },
        "06dd93e033e54ed1b8b9fa47d2d11974": {
          "model_module": "@jupyter-widgets/base",
          "model_name": "LayoutModel",
          "model_module_version": "1.2.0",
          "state": {
            "_model_module": "@jupyter-widgets/base",
            "_model_module_version": "1.2.0",
            "_model_name": "LayoutModel",
            "_view_count": null,
            "_view_module": "@jupyter-widgets/base",
            "_view_module_version": "1.2.0",
            "_view_name": "LayoutView",
            "align_content": null,
            "align_items": null,
            "align_self": null,
            "border": null,
            "bottom": null,
            "display": null,
            "flex": null,
            "flex_flow": null,
            "grid_area": null,
            "grid_auto_columns": null,
            "grid_auto_flow": null,
            "grid_auto_rows": null,
            "grid_column": null,
            "grid_gap": null,
            "grid_row": null,
            "grid_template_areas": null,
            "grid_template_columns": null,
            "grid_template_rows": null,
            "height": null,
            "justify_content": null,
            "justify_items": null,
            "left": null,
            "margin": null,
            "max_height": null,
            "max_width": null,
            "min_height": null,
            "min_width": null,
            "object_fit": null,
            "object_position": null,
            "order": null,
            "overflow": null,
            "overflow_x": null,
            "overflow_y": null,
            "padding": null,
            "right": null,
            "top": null,
            "visibility": null,
            "width": null
          }
        },
        "9e09420e364d4b62a92085ebf373d98a": {
          "model_module": "@jupyter-widgets/controls",
          "model_name": "ProgressStyleModel",
          "model_module_version": "1.5.0",
          "state": {
            "_model_module": "@jupyter-widgets/controls",
            "_model_module_version": "1.5.0",
            "_model_name": "ProgressStyleModel",
            "_view_count": null,
            "_view_module": "@jupyter-widgets/base",
            "_view_module_version": "1.2.0",
            "_view_name": "StyleView",
            "bar_color": null,
            "description_width": ""
          }
        },
        "d1bfa86909a24158adcfe82790a8c6e5": {
          "model_module": "@jupyter-widgets/base",
          "model_name": "LayoutModel",
          "model_module_version": "1.2.0",
          "state": {
            "_model_module": "@jupyter-widgets/base",
            "_model_module_version": "1.2.0",
            "_model_name": "LayoutModel",
            "_view_count": null,
            "_view_module": "@jupyter-widgets/base",
            "_view_module_version": "1.2.0",
            "_view_name": "LayoutView",
            "align_content": null,
            "align_items": null,
            "align_self": null,
            "border": null,
            "bottom": null,
            "display": null,
            "flex": null,
            "flex_flow": null,
            "grid_area": null,
            "grid_auto_columns": null,
            "grid_auto_flow": null,
            "grid_auto_rows": null,
            "grid_column": null,
            "grid_gap": null,
            "grid_row": null,
            "grid_template_areas": null,
            "grid_template_columns": null,
            "grid_template_rows": null,
            "height": null,
            "justify_content": null,
            "justify_items": null,
            "left": null,
            "margin": null,
            "max_height": null,
            "max_width": null,
            "min_height": null,
            "min_width": null,
            "object_fit": null,
            "object_position": null,
            "order": null,
            "overflow": null,
            "overflow_x": null,
            "overflow_y": null,
            "padding": null,
            "right": null,
            "top": null,
            "visibility": null,
            "width": null
          }
        },
        "b5d3e670fa84423e807a23b848bd305a": {
          "model_module": "@jupyter-widgets/controls",
          "model_name": "DescriptionStyleModel",
          "model_module_version": "1.5.0",
          "state": {
            "_model_module": "@jupyter-widgets/controls",
            "_model_module_version": "1.5.0",
            "_model_name": "DescriptionStyleModel",
            "_view_count": null,
            "_view_module": "@jupyter-widgets/base",
            "_view_module_version": "1.2.0",
            "_view_name": "StyleView",
            "description_width": ""
          }
        },
        "2236f16a68cd4b65bc4c7c2954655f22": {
          "model_module": "@jupyter-widgets/controls",
          "model_name": "HBoxModel",
          "model_module_version": "1.5.0",
          "state": {
            "_dom_classes": [],
            "_model_module": "@jupyter-widgets/controls",
            "_model_module_version": "1.5.0",
            "_model_name": "HBoxModel",
            "_view_count": null,
            "_view_module": "@jupyter-widgets/controls",
            "_view_module_version": "1.5.0",
            "_view_name": "HBoxView",
            "box_style": "",
            "children": [
              "IPY_MODEL_0c76ee3d268a4e6e80d799be1b3db7ad",
              "IPY_MODEL_d25a5f23dc84451eba72162d31fdcf74",
              "IPY_MODEL_4cf37ba3be394ab79531b60d0342f582"
            ],
            "layout": "IPY_MODEL_254dc523057e4af8ac8ee6babe86018b"
          }
        },
        "0c76ee3d268a4e6e80d799be1b3db7ad": {
          "model_module": "@jupyter-widgets/controls",
          "model_name": "HTMLModel",
          "model_module_version": "1.5.0",
          "state": {
            "_dom_classes": [],
            "_model_module": "@jupyter-widgets/controls",
            "_model_module_version": "1.5.0",
            "_model_name": "HTMLModel",
            "_view_count": null,
            "_view_module": "@jupyter-widgets/controls",
            "_view_module_version": "1.5.0",
            "_view_name": "HTMLView",
            "description": "",
            "description_tooltip": null,
            "layout": "IPY_MODEL_166f2a44ca444d609a87cd387e6e8d87",
            "placeholder": "​",
            "style": "IPY_MODEL_6edce9a03bfb42fca34c0b89d647375f",
            "value": "sentence_bert_config.json: 100%"
          }
        },
        "d25a5f23dc84451eba72162d31fdcf74": {
          "model_module": "@jupyter-widgets/controls",
          "model_name": "FloatProgressModel",
          "model_module_version": "1.5.0",
          "state": {
            "_dom_classes": [],
            "_model_module": "@jupyter-widgets/controls",
            "_model_module_version": "1.5.0",
            "_model_name": "FloatProgressModel",
            "_view_count": null,
            "_view_module": "@jupyter-widgets/controls",
            "_view_module_version": "1.5.0",
            "_view_name": "ProgressView",
            "bar_style": "success",
            "description": "",
            "description_tooltip": null,
            "layout": "IPY_MODEL_cd089b4a03944525a48982cecab153f4",
            "max": 52,
            "min": 0,
            "orientation": "horizontal",
            "style": "IPY_MODEL_61861d40deed4d91870ddd22c5593f9d",
            "value": 52
          }
        },
        "4cf37ba3be394ab79531b60d0342f582": {
          "model_module": "@jupyter-widgets/controls",
          "model_name": "HTMLModel",
          "model_module_version": "1.5.0",
          "state": {
            "_dom_classes": [],
            "_model_module": "@jupyter-widgets/controls",
            "_model_module_version": "1.5.0",
            "_model_name": "HTMLModel",
            "_view_count": null,
            "_view_module": "@jupyter-widgets/controls",
            "_view_module_version": "1.5.0",
            "_view_name": "HTMLView",
            "description": "",
            "description_tooltip": null,
            "layout": "IPY_MODEL_e335711638e04a559bd8233b37762151",
            "placeholder": "​",
            "style": "IPY_MODEL_95576d7264ee465e92fbd65a7efe3795",
            "value": " 52.0/52.0 [00:00&lt;00:00, 4.48kB/s]"
          }
        },
        "254dc523057e4af8ac8ee6babe86018b": {
          "model_module": "@jupyter-widgets/base",
          "model_name": "LayoutModel",
          "model_module_version": "1.2.0",
          "state": {
            "_model_module": "@jupyter-widgets/base",
            "_model_module_version": "1.2.0",
            "_model_name": "LayoutModel",
            "_view_count": null,
            "_view_module": "@jupyter-widgets/base",
            "_view_module_version": "1.2.0",
            "_view_name": "LayoutView",
            "align_content": null,
            "align_items": null,
            "align_self": null,
            "border": null,
            "bottom": null,
            "display": null,
            "flex": null,
            "flex_flow": null,
            "grid_area": null,
            "grid_auto_columns": null,
            "grid_auto_flow": null,
            "grid_auto_rows": null,
            "grid_column": null,
            "grid_gap": null,
            "grid_row": null,
            "grid_template_areas": null,
            "grid_template_columns": null,
            "grid_template_rows": null,
            "height": null,
            "justify_content": null,
            "justify_items": null,
            "left": null,
            "margin": null,
            "max_height": null,
            "max_width": null,
            "min_height": null,
            "min_width": null,
            "object_fit": null,
            "object_position": null,
            "order": null,
            "overflow": null,
            "overflow_x": null,
            "overflow_y": null,
            "padding": null,
            "right": null,
            "top": null,
            "visibility": null,
            "width": null
          }
        },
        "166f2a44ca444d609a87cd387e6e8d87": {
          "model_module": "@jupyter-widgets/base",
          "model_name": "LayoutModel",
          "model_module_version": "1.2.0",
          "state": {
            "_model_module": "@jupyter-widgets/base",
            "_model_module_version": "1.2.0",
            "_model_name": "LayoutModel",
            "_view_count": null,
            "_view_module": "@jupyter-widgets/base",
            "_view_module_version": "1.2.0",
            "_view_name": "LayoutView",
            "align_content": null,
            "align_items": null,
            "align_self": null,
            "border": null,
            "bottom": null,
            "display": null,
            "flex": null,
            "flex_flow": null,
            "grid_area": null,
            "grid_auto_columns": null,
            "grid_auto_flow": null,
            "grid_auto_rows": null,
            "grid_column": null,
            "grid_gap": null,
            "grid_row": null,
            "grid_template_areas": null,
            "grid_template_columns": null,
            "grid_template_rows": null,
            "height": null,
            "justify_content": null,
            "justify_items": null,
            "left": null,
            "margin": null,
            "max_height": null,
            "max_width": null,
            "min_height": null,
            "min_width": null,
            "object_fit": null,
            "object_position": null,
            "order": null,
            "overflow": null,
            "overflow_x": null,
            "overflow_y": null,
            "padding": null,
            "right": null,
            "top": null,
            "visibility": null,
            "width": null
          }
        },
        "6edce9a03bfb42fca34c0b89d647375f": {
          "model_module": "@jupyter-widgets/controls",
          "model_name": "DescriptionStyleModel",
          "model_module_version": "1.5.0",
          "state": {
            "_model_module": "@jupyter-widgets/controls",
            "_model_module_version": "1.5.0",
            "_model_name": "DescriptionStyleModel",
            "_view_count": null,
            "_view_module": "@jupyter-widgets/base",
            "_view_module_version": "1.2.0",
            "_view_name": "StyleView",
            "description_width": ""
          }
        },
        "cd089b4a03944525a48982cecab153f4": {
          "model_module": "@jupyter-widgets/base",
          "model_name": "LayoutModel",
          "model_module_version": "1.2.0",
          "state": {
            "_model_module": "@jupyter-widgets/base",
            "_model_module_version": "1.2.0",
            "_model_name": "LayoutModel",
            "_view_count": null,
            "_view_module": "@jupyter-widgets/base",
            "_view_module_version": "1.2.0",
            "_view_name": "LayoutView",
            "align_content": null,
            "align_items": null,
            "align_self": null,
            "border": null,
            "bottom": null,
            "display": null,
            "flex": null,
            "flex_flow": null,
            "grid_area": null,
            "grid_auto_columns": null,
            "grid_auto_flow": null,
            "grid_auto_rows": null,
            "grid_column": null,
            "grid_gap": null,
            "grid_row": null,
            "grid_template_areas": null,
            "grid_template_columns": null,
            "grid_template_rows": null,
            "height": null,
            "justify_content": null,
            "justify_items": null,
            "left": null,
            "margin": null,
            "max_height": null,
            "max_width": null,
            "min_height": null,
            "min_width": null,
            "object_fit": null,
            "object_position": null,
            "order": null,
            "overflow": null,
            "overflow_x": null,
            "overflow_y": null,
            "padding": null,
            "right": null,
            "top": null,
            "visibility": null,
            "width": null
          }
        },
        "61861d40deed4d91870ddd22c5593f9d": {
          "model_module": "@jupyter-widgets/controls",
          "model_name": "ProgressStyleModel",
          "model_module_version": "1.5.0",
          "state": {
            "_model_module": "@jupyter-widgets/controls",
            "_model_module_version": "1.5.0",
            "_model_name": "ProgressStyleModel",
            "_view_count": null,
            "_view_module": "@jupyter-widgets/base",
            "_view_module_version": "1.2.0",
            "_view_name": "StyleView",
            "bar_color": null,
            "description_width": ""
          }
        },
        "e335711638e04a559bd8233b37762151": {
          "model_module": "@jupyter-widgets/base",
          "model_name": "LayoutModel",
          "model_module_version": "1.2.0",
          "state": {
            "_model_module": "@jupyter-widgets/base",
            "_model_module_version": "1.2.0",
            "_model_name": "LayoutModel",
            "_view_count": null,
            "_view_module": "@jupyter-widgets/base",
            "_view_module_version": "1.2.0",
            "_view_name": "LayoutView",
            "align_content": null,
            "align_items": null,
            "align_self": null,
            "border": null,
            "bottom": null,
            "display": null,
            "flex": null,
            "flex_flow": null,
            "grid_area": null,
            "grid_auto_columns": null,
            "grid_auto_flow": null,
            "grid_auto_rows": null,
            "grid_column": null,
            "grid_gap": null,
            "grid_row": null,
            "grid_template_areas": null,
            "grid_template_columns": null,
            "grid_template_rows": null,
            "height": null,
            "justify_content": null,
            "justify_items": null,
            "left": null,
            "margin": null,
            "max_height": null,
            "max_width": null,
            "min_height": null,
            "min_width": null,
            "object_fit": null,
            "object_position": null,
            "order": null,
            "overflow": null,
            "overflow_x": null,
            "overflow_y": null,
            "padding": null,
            "right": null,
            "top": null,
            "visibility": null,
            "width": null
          }
        },
        "95576d7264ee465e92fbd65a7efe3795": {
          "model_module": "@jupyter-widgets/controls",
          "model_name": "DescriptionStyleModel",
          "model_module_version": "1.5.0",
          "state": {
            "_model_module": "@jupyter-widgets/controls",
            "_model_module_version": "1.5.0",
            "_model_name": "DescriptionStyleModel",
            "_view_count": null,
            "_view_module": "@jupyter-widgets/base",
            "_view_module_version": "1.2.0",
            "_view_name": "StyleView",
            "description_width": ""
          }
        },
        "33c6c53c6e7a4cd4b02467e671aa0e54": {
          "model_module": "@jupyter-widgets/controls",
          "model_name": "HBoxModel",
          "model_module_version": "1.5.0",
          "state": {
            "_dom_classes": [],
            "_model_module": "@jupyter-widgets/controls",
            "_model_module_version": "1.5.0",
            "_model_name": "HBoxModel",
            "_view_count": null,
            "_view_module": "@jupyter-widgets/controls",
            "_view_module_version": "1.5.0",
            "_view_name": "HBoxView",
            "box_style": "",
            "children": [
              "IPY_MODEL_fe071943034840d2bd359c6298e67258",
              "IPY_MODEL_1d0ed2c55d0f4d789b41a8ffa52c32c3",
              "IPY_MODEL_2410174029d047bab184f97048c8b1c8"
            ],
            "layout": "IPY_MODEL_33070219b6f543968419cfc5c8709986"
          }
        },
        "fe071943034840d2bd359c6298e67258": {
          "model_module": "@jupyter-widgets/controls",
          "model_name": "HTMLModel",
          "model_module_version": "1.5.0",
          "state": {
            "_dom_classes": [],
            "_model_module": "@jupyter-widgets/controls",
            "_model_module_version": "1.5.0",
            "_model_name": "HTMLModel",
            "_view_count": null,
            "_view_module": "@jupyter-widgets/controls",
            "_view_module_version": "1.5.0",
            "_view_name": "HTMLView",
            "description": "",
            "description_tooltip": null,
            "layout": "IPY_MODEL_7cd7574af3ee44baa01d5e0ba55f0658",
            "placeholder": "​",
            "style": "IPY_MODEL_f8d646b505b44d2985c8a433267f63e7",
            "value": "config.json: 100%"
          }
        },
        "1d0ed2c55d0f4d789b41a8ffa52c32c3": {
          "model_module": "@jupyter-widgets/controls",
          "model_name": "FloatProgressModel",
          "model_module_version": "1.5.0",
          "state": {
            "_dom_classes": [],
            "_model_module": "@jupyter-widgets/controls",
            "_model_module_version": "1.5.0",
            "_model_name": "FloatProgressModel",
            "_view_count": null,
            "_view_module": "@jupyter-widgets/controls",
            "_view_module_version": "1.5.0",
            "_view_name": "ProgressView",
            "bar_style": "success",
            "description": "",
            "description_tooltip": null,
            "layout": "IPY_MODEL_3d89a06e756d46859ca49515a9b8032f",
            "max": 779,
            "min": 0,
            "orientation": "horizontal",
            "style": "IPY_MODEL_b5a889411b354a658709fee2d58e5aa0",
            "value": 779
          }
        },
        "2410174029d047bab184f97048c8b1c8": {
          "model_module": "@jupyter-widgets/controls",
          "model_name": "HTMLModel",
          "model_module_version": "1.5.0",
          "state": {
            "_dom_classes": [],
            "_model_module": "@jupyter-widgets/controls",
            "_model_module_version": "1.5.0",
            "_model_name": "HTMLModel",
            "_view_count": null,
            "_view_module": "@jupyter-widgets/controls",
            "_view_module_version": "1.5.0",
            "_view_name": "HTMLView",
            "description": "",
            "description_tooltip": null,
            "layout": "IPY_MODEL_f2fe99ab9f034fec9c6fed706a26c6cb",
            "placeholder": "​",
            "style": "IPY_MODEL_3b0242398ce34ffc8227daba249842b3",
            "value": " 779/779 [00:00&lt;00:00, 47.4kB/s]"
          }
        },
        "33070219b6f543968419cfc5c8709986": {
          "model_module": "@jupyter-widgets/base",
          "model_name": "LayoutModel",
          "model_module_version": "1.2.0",
          "state": {
            "_model_module": "@jupyter-widgets/base",
            "_model_module_version": "1.2.0",
            "_model_name": "LayoutModel",
            "_view_count": null,
            "_view_module": "@jupyter-widgets/base",
            "_view_module_version": "1.2.0",
            "_view_name": "LayoutView",
            "align_content": null,
            "align_items": null,
            "align_self": null,
            "border": null,
            "bottom": null,
            "display": null,
            "flex": null,
            "flex_flow": null,
            "grid_area": null,
            "grid_auto_columns": null,
            "grid_auto_flow": null,
            "grid_auto_rows": null,
            "grid_column": null,
            "grid_gap": null,
            "grid_row": null,
            "grid_template_areas": null,
            "grid_template_columns": null,
            "grid_template_rows": null,
            "height": null,
            "justify_content": null,
            "justify_items": null,
            "left": null,
            "margin": null,
            "max_height": null,
            "max_width": null,
            "min_height": null,
            "min_width": null,
            "object_fit": null,
            "object_position": null,
            "order": null,
            "overflow": null,
            "overflow_x": null,
            "overflow_y": null,
            "padding": null,
            "right": null,
            "top": null,
            "visibility": null,
            "width": null
          }
        },
        "7cd7574af3ee44baa01d5e0ba55f0658": {
          "model_module": "@jupyter-widgets/base",
          "model_name": "LayoutModel",
          "model_module_version": "1.2.0",
          "state": {
            "_model_module": "@jupyter-widgets/base",
            "_model_module_version": "1.2.0",
            "_model_name": "LayoutModel",
            "_view_count": null,
            "_view_module": "@jupyter-widgets/base",
            "_view_module_version": "1.2.0",
            "_view_name": "LayoutView",
            "align_content": null,
            "align_items": null,
            "align_self": null,
            "border": null,
            "bottom": null,
            "display": null,
            "flex": null,
            "flex_flow": null,
            "grid_area": null,
            "grid_auto_columns": null,
            "grid_auto_flow": null,
            "grid_auto_rows": null,
            "grid_column": null,
            "grid_gap": null,
            "grid_row": null,
            "grid_template_areas": null,
            "grid_template_columns": null,
            "grid_template_rows": null,
            "height": null,
            "justify_content": null,
            "justify_items": null,
            "left": null,
            "margin": null,
            "max_height": null,
            "max_width": null,
            "min_height": null,
            "min_width": null,
            "object_fit": null,
            "object_position": null,
            "order": null,
            "overflow": null,
            "overflow_x": null,
            "overflow_y": null,
            "padding": null,
            "right": null,
            "top": null,
            "visibility": null,
            "width": null
          }
        },
        "f8d646b505b44d2985c8a433267f63e7": {
          "model_module": "@jupyter-widgets/controls",
          "model_name": "DescriptionStyleModel",
          "model_module_version": "1.5.0",
          "state": {
            "_model_module": "@jupyter-widgets/controls",
            "_model_module_version": "1.5.0",
            "_model_name": "DescriptionStyleModel",
            "_view_count": null,
            "_view_module": "@jupyter-widgets/base",
            "_view_module_version": "1.2.0",
            "_view_name": "StyleView",
            "description_width": ""
          }
        },
        "3d89a06e756d46859ca49515a9b8032f": {
          "model_module": "@jupyter-widgets/base",
          "model_name": "LayoutModel",
          "model_module_version": "1.2.0",
          "state": {
            "_model_module": "@jupyter-widgets/base",
            "_model_module_version": "1.2.0",
            "_model_name": "LayoutModel",
            "_view_count": null,
            "_view_module": "@jupyter-widgets/base",
            "_view_module_version": "1.2.0",
            "_view_name": "LayoutView",
            "align_content": null,
            "align_items": null,
            "align_self": null,
            "border": null,
            "bottom": null,
            "display": null,
            "flex": null,
            "flex_flow": null,
            "grid_area": null,
            "grid_auto_columns": null,
            "grid_auto_flow": null,
            "grid_auto_rows": null,
            "grid_column": null,
            "grid_gap": null,
            "grid_row": null,
            "grid_template_areas": null,
            "grid_template_columns": null,
            "grid_template_rows": null,
            "height": null,
            "justify_content": null,
            "justify_items": null,
            "left": null,
            "margin": null,
            "max_height": null,
            "max_width": null,
            "min_height": null,
            "min_width": null,
            "object_fit": null,
            "object_position": null,
            "order": null,
            "overflow": null,
            "overflow_x": null,
            "overflow_y": null,
            "padding": null,
            "right": null,
            "top": null,
            "visibility": null,
            "width": null
          }
        },
        "b5a889411b354a658709fee2d58e5aa0": {
          "model_module": "@jupyter-widgets/controls",
          "model_name": "ProgressStyleModel",
          "model_module_version": "1.5.0",
          "state": {
            "_model_module": "@jupyter-widgets/controls",
            "_model_module_version": "1.5.0",
            "_model_name": "ProgressStyleModel",
            "_view_count": null,
            "_view_module": "@jupyter-widgets/base",
            "_view_module_version": "1.2.0",
            "_view_name": "StyleView",
            "bar_color": null,
            "description_width": ""
          }
        },
        "f2fe99ab9f034fec9c6fed706a26c6cb": {
          "model_module": "@jupyter-widgets/base",
          "model_name": "LayoutModel",
          "model_module_version": "1.2.0",
          "state": {
            "_model_module": "@jupyter-widgets/base",
            "_model_module_version": "1.2.0",
            "_model_name": "LayoutModel",
            "_view_count": null,
            "_view_module": "@jupyter-widgets/base",
            "_view_module_version": "1.2.0",
            "_view_name": "LayoutView",
            "align_content": null,
            "align_items": null,
            "align_self": null,
            "border": null,
            "bottom": null,
            "display": null,
            "flex": null,
            "flex_flow": null,
            "grid_area": null,
            "grid_auto_columns": null,
            "grid_auto_flow": null,
            "grid_auto_rows": null,
            "grid_column": null,
            "grid_gap": null,
            "grid_row": null,
            "grid_template_areas": null,
            "grid_template_columns": null,
            "grid_template_rows": null,
            "height": null,
            "justify_content": null,
            "justify_items": null,
            "left": null,
            "margin": null,
            "max_height": null,
            "max_width": null,
            "min_height": null,
            "min_width": null,
            "object_fit": null,
            "object_position": null,
            "order": null,
            "overflow": null,
            "overflow_x": null,
            "overflow_y": null,
            "padding": null,
            "right": null,
            "top": null,
            "visibility": null,
            "width": null
          }
        },
        "3b0242398ce34ffc8227daba249842b3": {
          "model_module": "@jupyter-widgets/controls",
          "model_name": "DescriptionStyleModel",
          "model_module_version": "1.5.0",
          "state": {
            "_model_module": "@jupyter-widgets/controls",
            "_model_module_version": "1.5.0",
            "_model_name": "DescriptionStyleModel",
            "_view_count": null,
            "_view_module": "@jupyter-widgets/base",
            "_view_module_version": "1.2.0",
            "_view_name": "StyleView",
            "description_width": ""
          }
        },
        "1a2d70e8b0ea4dc585eeb8fd1302fb3f": {
          "model_module": "@jupyter-widgets/controls",
          "model_name": "HBoxModel",
          "model_module_version": "1.5.0",
          "state": {
            "_dom_classes": [],
            "_model_module": "@jupyter-widgets/controls",
            "_model_module_version": "1.5.0",
            "_model_name": "HBoxModel",
            "_view_count": null,
            "_view_module": "@jupyter-widgets/controls",
            "_view_module_version": "1.5.0",
            "_view_name": "HBoxView",
            "box_style": "",
            "children": [
              "IPY_MODEL_689bebfc993f42329c9719b1c12c70a8",
              "IPY_MODEL_464a2812f13c4576bcb681e0fb646a94",
              "IPY_MODEL_b5e0e430d84c477884cba57e7c0c604e"
            ],
            "layout": "IPY_MODEL_f9144cf8a55343118fff4ac6906167d3"
          }
        },
        "689bebfc993f42329c9719b1c12c70a8": {
          "model_module": "@jupyter-widgets/controls",
          "model_name": "HTMLModel",
          "model_module_version": "1.5.0",
          "state": {
            "_dom_classes": [],
            "_model_module": "@jupyter-widgets/controls",
            "_model_module_version": "1.5.0",
            "_model_name": "HTMLModel",
            "_view_count": null,
            "_view_module": "@jupyter-widgets/controls",
            "_view_module_version": "1.5.0",
            "_view_name": "HTMLView",
            "description": "",
            "description_tooltip": null,
            "layout": "IPY_MODEL_33aad15b74e94fa589713286df7714a1",
            "placeholder": "​",
            "style": "IPY_MODEL_9a46d3ec66f847c68d8e85dfec1e3ee9",
            "value": "model.safetensors: 100%"
          }
        },
        "464a2812f13c4576bcb681e0fb646a94": {
          "model_module": "@jupyter-widgets/controls",
          "model_name": "FloatProgressModel",
          "model_module_version": "1.5.0",
          "state": {
            "_dom_classes": [],
            "_model_module": "@jupyter-widgets/controls",
            "_model_module_version": "1.5.0",
            "_model_name": "FloatProgressModel",
            "_view_count": null,
            "_view_module": "@jupyter-widgets/controls",
            "_view_module_version": "1.5.0",
            "_view_name": "ProgressView",
            "bar_style": "success",
            "description": "",
            "description_tooltip": null,
            "layout": "IPY_MODEL_2e6456454e9a4143889525514b3ca740",
            "max": 1340616616,
            "min": 0,
            "orientation": "horizontal",
            "style": "IPY_MODEL_ef94b9545d054231b0c844bc3195ac08",
            "value": 1340616616
          }
        },
        "b5e0e430d84c477884cba57e7c0c604e": {
          "model_module": "@jupyter-widgets/controls",
          "model_name": "HTMLModel",
          "model_module_version": "1.5.0",
          "state": {
            "_dom_classes": [],
            "_model_module": "@jupyter-widgets/controls",
            "_model_module_version": "1.5.0",
            "_model_name": "HTMLModel",
            "_view_count": null,
            "_view_module": "@jupyter-widgets/controls",
            "_view_module_version": "1.5.0",
            "_view_name": "HTMLView",
            "description": "",
            "description_tooltip": null,
            "layout": "IPY_MODEL_1d061239827942478aac240ac5e1f255",
            "placeholder": "​",
            "style": "IPY_MODEL_9d3bee68790444029936363a7762679c",
            "value": " 1.34G/1.34G [00:06&lt;00:00, 233MB/s]"
          }
        },
        "f9144cf8a55343118fff4ac6906167d3": {
          "model_module": "@jupyter-widgets/base",
          "model_name": "LayoutModel",
          "model_module_version": "1.2.0",
          "state": {
            "_model_module": "@jupyter-widgets/base",
            "_model_module_version": "1.2.0",
            "_model_name": "LayoutModel",
            "_view_count": null,
            "_view_module": "@jupyter-widgets/base",
            "_view_module_version": "1.2.0",
            "_view_name": "LayoutView",
            "align_content": null,
            "align_items": null,
            "align_self": null,
            "border": null,
            "bottom": null,
            "display": null,
            "flex": null,
            "flex_flow": null,
            "grid_area": null,
            "grid_auto_columns": null,
            "grid_auto_flow": null,
            "grid_auto_rows": null,
            "grid_column": null,
            "grid_gap": null,
            "grid_row": null,
            "grid_template_areas": null,
            "grid_template_columns": null,
            "grid_template_rows": null,
            "height": null,
            "justify_content": null,
            "justify_items": null,
            "left": null,
            "margin": null,
            "max_height": null,
            "max_width": null,
            "min_height": null,
            "min_width": null,
            "object_fit": null,
            "object_position": null,
            "order": null,
            "overflow": null,
            "overflow_x": null,
            "overflow_y": null,
            "padding": null,
            "right": null,
            "top": null,
            "visibility": null,
            "width": null
          }
        },
        "33aad15b74e94fa589713286df7714a1": {
          "model_module": "@jupyter-widgets/base",
          "model_name": "LayoutModel",
          "model_module_version": "1.2.0",
          "state": {
            "_model_module": "@jupyter-widgets/base",
            "_model_module_version": "1.2.0",
            "_model_name": "LayoutModel",
            "_view_count": null,
            "_view_module": "@jupyter-widgets/base",
            "_view_module_version": "1.2.0",
            "_view_name": "LayoutView",
            "align_content": null,
            "align_items": null,
            "align_self": null,
            "border": null,
            "bottom": null,
            "display": null,
            "flex": null,
            "flex_flow": null,
            "grid_area": null,
            "grid_auto_columns": null,
            "grid_auto_flow": null,
            "grid_auto_rows": null,
            "grid_column": null,
            "grid_gap": null,
            "grid_row": null,
            "grid_template_areas": null,
            "grid_template_columns": null,
            "grid_template_rows": null,
            "height": null,
            "justify_content": null,
            "justify_items": null,
            "left": null,
            "margin": null,
            "max_height": null,
            "max_width": null,
            "min_height": null,
            "min_width": null,
            "object_fit": null,
            "object_position": null,
            "order": null,
            "overflow": null,
            "overflow_x": null,
            "overflow_y": null,
            "padding": null,
            "right": null,
            "top": null,
            "visibility": null,
            "width": null
          }
        },
        "9a46d3ec66f847c68d8e85dfec1e3ee9": {
          "model_module": "@jupyter-widgets/controls",
          "model_name": "DescriptionStyleModel",
          "model_module_version": "1.5.0",
          "state": {
            "_model_module": "@jupyter-widgets/controls",
            "_model_module_version": "1.5.0",
            "_model_name": "DescriptionStyleModel",
            "_view_count": null,
            "_view_module": "@jupyter-widgets/base",
            "_view_module_version": "1.2.0",
            "_view_name": "StyleView",
            "description_width": ""
          }
        },
        "2e6456454e9a4143889525514b3ca740": {
          "model_module": "@jupyter-widgets/base",
          "model_name": "LayoutModel",
          "model_module_version": "1.2.0",
          "state": {
            "_model_module": "@jupyter-widgets/base",
            "_model_module_version": "1.2.0",
            "_model_name": "LayoutModel",
            "_view_count": null,
            "_view_module": "@jupyter-widgets/base",
            "_view_module_version": "1.2.0",
            "_view_name": "LayoutView",
            "align_content": null,
            "align_items": null,
            "align_self": null,
            "border": null,
            "bottom": null,
            "display": null,
            "flex": null,
            "flex_flow": null,
            "grid_area": null,
            "grid_auto_columns": null,
            "grid_auto_flow": null,
            "grid_auto_rows": null,
            "grid_column": null,
            "grid_gap": null,
            "grid_row": null,
            "grid_template_areas": null,
            "grid_template_columns": null,
            "grid_template_rows": null,
            "height": null,
            "justify_content": null,
            "justify_items": null,
            "left": null,
            "margin": null,
            "max_height": null,
            "max_width": null,
            "min_height": null,
            "min_width": null,
            "object_fit": null,
            "object_position": null,
            "order": null,
            "overflow": null,
            "overflow_x": null,
            "overflow_y": null,
            "padding": null,
            "right": null,
            "top": null,
            "visibility": null,
            "width": null
          }
        },
        "ef94b9545d054231b0c844bc3195ac08": {
          "model_module": "@jupyter-widgets/controls",
          "model_name": "ProgressStyleModel",
          "model_module_version": "1.5.0",
          "state": {
            "_model_module": "@jupyter-widgets/controls",
            "_model_module_version": "1.5.0",
            "_model_name": "ProgressStyleModel",
            "_view_count": null,
            "_view_module": "@jupyter-widgets/base",
            "_view_module_version": "1.2.0",
            "_view_name": "StyleView",
            "bar_color": null,
            "description_width": ""
          }
        },
        "1d061239827942478aac240ac5e1f255": {
          "model_module": "@jupyter-widgets/base",
          "model_name": "LayoutModel",
          "model_module_version": "1.2.0",
          "state": {
            "_model_module": "@jupyter-widgets/base",
            "_model_module_version": "1.2.0",
            "_model_name": "LayoutModel",
            "_view_count": null,
            "_view_module": "@jupyter-widgets/base",
            "_view_module_version": "1.2.0",
            "_view_name": "LayoutView",
            "align_content": null,
            "align_items": null,
            "align_self": null,
            "border": null,
            "bottom": null,
            "display": null,
            "flex": null,
            "flex_flow": null,
            "grid_area": null,
            "grid_auto_columns": null,
            "grid_auto_flow": null,
            "grid_auto_rows": null,
            "grid_column": null,
            "grid_gap": null,
            "grid_row": null,
            "grid_template_areas": null,
            "grid_template_columns": null,
            "grid_template_rows": null,
            "height": null,
            "justify_content": null,
            "justify_items": null,
            "left": null,
            "margin": null,
            "max_height": null,
            "max_width": null,
            "min_height": null,
            "min_width": null,
            "object_fit": null,
            "object_position": null,
            "order": null,
            "overflow": null,
            "overflow_x": null,
            "overflow_y": null,
            "padding": null,
            "right": null,
            "top": null,
            "visibility": null,
            "width": null
          }
        },
        "9d3bee68790444029936363a7762679c": {
          "model_module": "@jupyter-widgets/controls",
          "model_name": "DescriptionStyleModel",
          "model_module_version": "1.5.0",
          "state": {
            "_model_module": "@jupyter-widgets/controls",
            "_model_module_version": "1.5.0",
            "_model_name": "DescriptionStyleModel",
            "_view_count": null,
            "_view_module": "@jupyter-widgets/base",
            "_view_module_version": "1.2.0",
            "_view_name": "StyleView",
            "description_width": ""
          }
        },
        "1cb7b7a5422d45dbb131837e3848fff9": {
          "model_module": "@jupyter-widgets/controls",
          "model_name": "HBoxModel",
          "model_module_version": "1.5.0",
          "state": {
            "_dom_classes": [],
            "_model_module": "@jupyter-widgets/controls",
            "_model_module_version": "1.5.0",
            "_model_name": "HBoxModel",
            "_view_count": null,
            "_view_module": "@jupyter-widgets/controls",
            "_view_module_version": "1.5.0",
            "_view_name": "HBoxView",
            "box_style": "",
            "children": [
              "IPY_MODEL_c8b365b5585e4829b3cfc99ff92d2a44",
              "IPY_MODEL_55461a732e0f4bc489fe46deb4ee2392",
              "IPY_MODEL_d05f2de8b2784ff6aac7726fcd884eca"
            ],
            "layout": "IPY_MODEL_223433c2f72e4e7a8d43b82863fb3b1c"
          }
        },
        "c8b365b5585e4829b3cfc99ff92d2a44": {
          "model_module": "@jupyter-widgets/controls",
          "model_name": "HTMLModel",
          "model_module_version": "1.5.0",
          "state": {
            "_dom_classes": [],
            "_model_module": "@jupyter-widgets/controls",
            "_model_module_version": "1.5.0",
            "_model_name": "HTMLModel",
            "_view_count": null,
            "_view_module": "@jupyter-widgets/controls",
            "_view_module_version": "1.5.0",
            "_view_name": "HTMLView",
            "description": "",
            "description_tooltip": null,
            "layout": "IPY_MODEL_4ecb4acf7b8e4ac7bdb673a60691562b",
            "placeholder": "​",
            "style": "IPY_MODEL_129626841f944e36901048d59c70d0fe",
            "value": "tokenizer_config.json: 100%"
          }
        },
        "55461a732e0f4bc489fe46deb4ee2392": {
          "model_module": "@jupyter-widgets/controls",
          "model_name": "FloatProgressModel",
          "model_module_version": "1.5.0",
          "state": {
            "_dom_classes": [],
            "_model_module": "@jupyter-widgets/controls",
            "_model_module_version": "1.5.0",
            "_model_name": "FloatProgressModel",
            "_view_count": null,
            "_view_module": "@jupyter-widgets/controls",
            "_view_module_version": "1.5.0",
            "_view_name": "ProgressView",
            "bar_style": "success",
            "description": "",
            "description_tooltip": null,
            "layout": "IPY_MODEL_6a67f95d965540efb25f5159e90f7d1d",
            "max": 366,
            "min": 0,
            "orientation": "horizontal",
            "style": "IPY_MODEL_7d361b0fb08b4e739ee107ef6cf2c3fa",
            "value": 366
          }
        },
        "d05f2de8b2784ff6aac7726fcd884eca": {
          "model_module": "@jupyter-widgets/controls",
          "model_name": "HTMLModel",
          "model_module_version": "1.5.0",
          "state": {
            "_dom_classes": [],
            "_model_module": "@jupyter-widgets/controls",
            "_model_module_version": "1.5.0",
            "_model_name": "HTMLModel",
            "_view_count": null,
            "_view_module": "@jupyter-widgets/controls",
            "_view_module_version": "1.5.0",
            "_view_name": "HTMLView",
            "description": "",
            "description_tooltip": null,
            "layout": "IPY_MODEL_9fb2f8e445dc427bbb07500aaae46916",
            "placeholder": "​",
            "style": "IPY_MODEL_7fa308a23e094cfea8a1a3005228f654",
            "value": " 366/366 [00:00&lt;00:00, 31.5kB/s]"
          }
        },
        "223433c2f72e4e7a8d43b82863fb3b1c": {
          "model_module": "@jupyter-widgets/base",
          "model_name": "LayoutModel",
          "model_module_version": "1.2.0",
          "state": {
            "_model_module": "@jupyter-widgets/base",
            "_model_module_version": "1.2.0",
            "_model_name": "LayoutModel",
            "_view_count": null,
            "_view_module": "@jupyter-widgets/base",
            "_view_module_version": "1.2.0",
            "_view_name": "LayoutView",
            "align_content": null,
            "align_items": null,
            "align_self": null,
            "border": null,
            "bottom": null,
            "display": null,
            "flex": null,
            "flex_flow": null,
            "grid_area": null,
            "grid_auto_columns": null,
            "grid_auto_flow": null,
            "grid_auto_rows": null,
            "grid_column": null,
            "grid_gap": null,
            "grid_row": null,
            "grid_template_areas": null,
            "grid_template_columns": null,
            "grid_template_rows": null,
            "height": null,
            "justify_content": null,
            "justify_items": null,
            "left": null,
            "margin": null,
            "max_height": null,
            "max_width": null,
            "min_height": null,
            "min_width": null,
            "object_fit": null,
            "object_position": null,
            "order": null,
            "overflow": null,
            "overflow_x": null,
            "overflow_y": null,
            "padding": null,
            "right": null,
            "top": null,
            "visibility": null,
            "width": null
          }
        },
        "4ecb4acf7b8e4ac7bdb673a60691562b": {
          "model_module": "@jupyter-widgets/base",
          "model_name": "LayoutModel",
          "model_module_version": "1.2.0",
          "state": {
            "_model_module": "@jupyter-widgets/base",
            "_model_module_version": "1.2.0",
            "_model_name": "LayoutModel",
            "_view_count": null,
            "_view_module": "@jupyter-widgets/base",
            "_view_module_version": "1.2.0",
            "_view_name": "LayoutView",
            "align_content": null,
            "align_items": null,
            "align_self": null,
            "border": null,
            "bottom": null,
            "display": null,
            "flex": null,
            "flex_flow": null,
            "grid_area": null,
            "grid_auto_columns": null,
            "grid_auto_flow": null,
            "grid_auto_rows": null,
            "grid_column": null,
            "grid_gap": null,
            "grid_row": null,
            "grid_template_areas": null,
            "grid_template_columns": null,
            "grid_template_rows": null,
            "height": null,
            "justify_content": null,
            "justify_items": null,
            "left": null,
            "margin": null,
            "max_height": null,
            "max_width": null,
            "min_height": null,
            "min_width": null,
            "object_fit": null,
            "object_position": null,
            "order": null,
            "overflow": null,
            "overflow_x": null,
            "overflow_y": null,
            "padding": null,
            "right": null,
            "top": null,
            "visibility": null,
            "width": null
          }
        },
        "129626841f944e36901048d59c70d0fe": {
          "model_module": "@jupyter-widgets/controls",
          "model_name": "DescriptionStyleModel",
          "model_module_version": "1.5.0",
          "state": {
            "_model_module": "@jupyter-widgets/controls",
            "_model_module_version": "1.5.0",
            "_model_name": "DescriptionStyleModel",
            "_view_count": null,
            "_view_module": "@jupyter-widgets/base",
            "_view_module_version": "1.2.0",
            "_view_name": "StyleView",
            "description_width": ""
          }
        },
        "6a67f95d965540efb25f5159e90f7d1d": {
          "model_module": "@jupyter-widgets/base",
          "model_name": "LayoutModel",
          "model_module_version": "1.2.0",
          "state": {
            "_model_module": "@jupyter-widgets/base",
            "_model_module_version": "1.2.0",
            "_model_name": "LayoutModel",
            "_view_count": null,
            "_view_module": "@jupyter-widgets/base",
            "_view_module_version": "1.2.0",
            "_view_name": "LayoutView",
            "align_content": null,
            "align_items": null,
            "align_self": null,
            "border": null,
            "bottom": null,
            "display": null,
            "flex": null,
            "flex_flow": null,
            "grid_area": null,
            "grid_auto_columns": null,
            "grid_auto_flow": null,
            "grid_auto_rows": null,
            "grid_column": null,
            "grid_gap": null,
            "grid_row": null,
            "grid_template_areas": null,
            "grid_template_columns": null,
            "grid_template_rows": null,
            "height": null,
            "justify_content": null,
            "justify_items": null,
            "left": null,
            "margin": null,
            "max_height": null,
            "max_width": null,
            "min_height": null,
            "min_width": null,
            "object_fit": null,
            "object_position": null,
            "order": null,
            "overflow": null,
            "overflow_x": null,
            "overflow_y": null,
            "padding": null,
            "right": null,
            "top": null,
            "visibility": null,
            "width": null
          }
        },
        "7d361b0fb08b4e739ee107ef6cf2c3fa": {
          "model_module": "@jupyter-widgets/controls",
          "model_name": "ProgressStyleModel",
          "model_module_version": "1.5.0",
          "state": {
            "_model_module": "@jupyter-widgets/controls",
            "_model_module_version": "1.5.0",
            "_model_name": "ProgressStyleModel",
            "_view_count": null,
            "_view_module": "@jupyter-widgets/base",
            "_view_module_version": "1.2.0",
            "_view_name": "StyleView",
            "bar_color": null,
            "description_width": ""
          }
        },
        "9fb2f8e445dc427bbb07500aaae46916": {
          "model_module": "@jupyter-widgets/base",
          "model_name": "LayoutModel",
          "model_module_version": "1.2.0",
          "state": {
            "_model_module": "@jupyter-widgets/base",
            "_model_module_version": "1.2.0",
            "_model_name": "LayoutModel",
            "_view_count": null,
            "_view_module": "@jupyter-widgets/base",
            "_view_module_version": "1.2.0",
            "_view_name": "LayoutView",
            "align_content": null,
            "align_items": null,
            "align_self": null,
            "border": null,
            "bottom": null,
            "display": null,
            "flex": null,
            "flex_flow": null,
            "grid_area": null,
            "grid_auto_columns": null,
            "grid_auto_flow": null,
            "grid_auto_rows": null,
            "grid_column": null,
            "grid_gap": null,
            "grid_row": null,
            "grid_template_areas": null,
            "grid_template_columns": null,
            "grid_template_rows": null,
            "height": null,
            "justify_content": null,
            "justify_items": null,
            "left": null,
            "margin": null,
            "max_height": null,
            "max_width": null,
            "min_height": null,
            "min_width": null,
            "object_fit": null,
            "object_position": null,
            "order": null,
            "overflow": null,
            "overflow_x": null,
            "overflow_y": null,
            "padding": null,
            "right": null,
            "top": null,
            "visibility": null,
            "width": null
          }
        },
        "7fa308a23e094cfea8a1a3005228f654": {
          "model_module": "@jupyter-widgets/controls",
          "model_name": "DescriptionStyleModel",
          "model_module_version": "1.5.0",
          "state": {
            "_model_module": "@jupyter-widgets/controls",
            "_model_module_version": "1.5.0",
            "_model_name": "DescriptionStyleModel",
            "_view_count": null,
            "_view_module": "@jupyter-widgets/base",
            "_view_module_version": "1.2.0",
            "_view_name": "StyleView",
            "description_width": ""
          }
        },
        "25117cbe3f1343238ea3f823ba603637": {
          "model_module": "@jupyter-widgets/controls",
          "model_name": "HBoxModel",
          "model_module_version": "1.5.0",
          "state": {
            "_dom_classes": [],
            "_model_module": "@jupyter-widgets/controls",
            "_model_module_version": "1.5.0",
            "_model_name": "HBoxModel",
            "_view_count": null,
            "_view_module": "@jupyter-widgets/controls",
            "_view_module_version": "1.5.0",
            "_view_name": "HBoxView",
            "box_style": "",
            "children": [
              "IPY_MODEL_631acfc9f7694ce686c47fcce30e491a",
              "IPY_MODEL_bfbea655d42349d0b2f24cb322cbafb3",
              "IPY_MODEL_6c45411f86104ec98075d9a293c39456"
            ],
            "layout": "IPY_MODEL_a9c9d2fbde5b4a31b8379ad10f22942f"
          }
        },
        "631acfc9f7694ce686c47fcce30e491a": {
          "model_module": "@jupyter-widgets/controls",
          "model_name": "HTMLModel",
          "model_module_version": "1.5.0",
          "state": {
            "_dom_classes": [],
            "_model_module": "@jupyter-widgets/controls",
            "_model_module_version": "1.5.0",
            "_model_name": "HTMLModel",
            "_view_count": null,
            "_view_module": "@jupyter-widgets/controls",
            "_view_module_version": "1.5.0",
            "_view_name": "HTMLView",
            "description": "",
            "description_tooltip": null,
            "layout": "IPY_MODEL_226c44a3094f4751bfa1d40c20889101",
            "placeholder": "​",
            "style": "IPY_MODEL_0d76f604dae24490a7a98f739e4bd136",
            "value": "vocab.txt: 100%"
          }
        },
        "bfbea655d42349d0b2f24cb322cbafb3": {
          "model_module": "@jupyter-widgets/controls",
          "model_name": "FloatProgressModel",
          "model_module_version": "1.5.0",
          "state": {
            "_dom_classes": [],
            "_model_module": "@jupyter-widgets/controls",
            "_model_module_version": "1.5.0",
            "_model_name": "FloatProgressModel",
            "_view_count": null,
            "_view_module": "@jupyter-widgets/controls",
            "_view_module_version": "1.5.0",
            "_view_name": "ProgressView",
            "bar_style": "success",
            "description": "",
            "description_tooltip": null,
            "layout": "IPY_MODEL_199568986f834e0bbad36f4a79c97fcb",
            "max": 231508,
            "min": 0,
            "orientation": "horizontal",
            "style": "IPY_MODEL_b614d85a364e4e62acf87fbccfca8f7d",
            "value": 231508
          }
        },
        "6c45411f86104ec98075d9a293c39456": {
          "model_module": "@jupyter-widgets/controls",
          "model_name": "HTMLModel",
          "model_module_version": "1.5.0",
          "state": {
            "_dom_classes": [],
            "_model_module": "@jupyter-widgets/controls",
            "_model_module_version": "1.5.0",
            "_model_name": "HTMLModel",
            "_view_count": null,
            "_view_module": "@jupyter-widgets/controls",
            "_view_module_version": "1.5.0",
            "_view_name": "HTMLView",
            "description": "",
            "description_tooltip": null,
            "layout": "IPY_MODEL_48dadd0c8b3e407e861eb7145a4a245a",
            "placeholder": "​",
            "style": "IPY_MODEL_99d9abb9943f41ee9be9a4dd772f1d17",
            "value": " 232k/232k [00:00&lt;00:00, 12.3MB/s]"
          }
        },
        "a9c9d2fbde5b4a31b8379ad10f22942f": {
          "model_module": "@jupyter-widgets/base",
          "model_name": "LayoutModel",
          "model_module_version": "1.2.0",
          "state": {
            "_model_module": "@jupyter-widgets/base",
            "_model_module_version": "1.2.0",
            "_model_name": "LayoutModel",
            "_view_count": null,
            "_view_module": "@jupyter-widgets/base",
            "_view_module_version": "1.2.0",
            "_view_name": "LayoutView",
            "align_content": null,
            "align_items": null,
            "align_self": null,
            "border": null,
            "bottom": null,
            "display": null,
            "flex": null,
            "flex_flow": null,
            "grid_area": null,
            "grid_auto_columns": null,
            "grid_auto_flow": null,
            "grid_auto_rows": null,
            "grid_column": null,
            "grid_gap": null,
            "grid_row": null,
            "grid_template_areas": null,
            "grid_template_columns": null,
            "grid_template_rows": null,
            "height": null,
            "justify_content": null,
            "justify_items": null,
            "left": null,
            "margin": null,
            "max_height": null,
            "max_width": null,
            "min_height": null,
            "min_width": null,
            "object_fit": null,
            "object_position": null,
            "order": null,
            "overflow": null,
            "overflow_x": null,
            "overflow_y": null,
            "padding": null,
            "right": null,
            "top": null,
            "visibility": null,
            "width": null
          }
        },
        "226c44a3094f4751bfa1d40c20889101": {
          "model_module": "@jupyter-widgets/base",
          "model_name": "LayoutModel",
          "model_module_version": "1.2.0",
          "state": {
            "_model_module": "@jupyter-widgets/base",
            "_model_module_version": "1.2.0",
            "_model_name": "LayoutModel",
            "_view_count": null,
            "_view_module": "@jupyter-widgets/base",
            "_view_module_version": "1.2.0",
            "_view_name": "LayoutView",
            "align_content": null,
            "align_items": null,
            "align_self": null,
            "border": null,
            "bottom": null,
            "display": null,
            "flex": null,
            "flex_flow": null,
            "grid_area": null,
            "grid_auto_columns": null,
            "grid_auto_flow": null,
            "grid_auto_rows": null,
            "grid_column": null,
            "grid_gap": null,
            "grid_row": null,
            "grid_template_areas": null,
            "grid_template_columns": null,
            "grid_template_rows": null,
            "height": null,
            "justify_content": null,
            "justify_items": null,
            "left": null,
            "margin": null,
            "max_height": null,
            "max_width": null,
            "min_height": null,
            "min_width": null,
            "object_fit": null,
            "object_position": null,
            "order": null,
            "overflow": null,
            "overflow_x": null,
            "overflow_y": null,
            "padding": null,
            "right": null,
            "top": null,
            "visibility": null,
            "width": null
          }
        },
        "0d76f604dae24490a7a98f739e4bd136": {
          "model_module": "@jupyter-widgets/controls",
          "model_name": "DescriptionStyleModel",
          "model_module_version": "1.5.0",
          "state": {
            "_model_module": "@jupyter-widgets/controls",
            "_model_module_version": "1.5.0",
            "_model_name": "DescriptionStyleModel",
            "_view_count": null,
            "_view_module": "@jupyter-widgets/base",
            "_view_module_version": "1.2.0",
            "_view_name": "StyleView",
            "description_width": ""
          }
        },
        "199568986f834e0bbad36f4a79c97fcb": {
          "model_module": "@jupyter-widgets/base",
          "model_name": "LayoutModel",
          "model_module_version": "1.2.0",
          "state": {
            "_model_module": "@jupyter-widgets/base",
            "_model_module_version": "1.2.0",
            "_model_name": "LayoutModel",
            "_view_count": null,
            "_view_module": "@jupyter-widgets/base",
            "_view_module_version": "1.2.0",
            "_view_name": "LayoutView",
            "align_content": null,
            "align_items": null,
            "align_self": null,
            "border": null,
            "bottom": null,
            "display": null,
            "flex": null,
            "flex_flow": null,
            "grid_area": null,
            "grid_auto_columns": null,
            "grid_auto_flow": null,
            "grid_auto_rows": null,
            "grid_column": null,
            "grid_gap": null,
            "grid_row": null,
            "grid_template_areas": null,
            "grid_template_columns": null,
            "grid_template_rows": null,
            "height": null,
            "justify_content": null,
            "justify_items": null,
            "left": null,
            "margin": null,
            "max_height": null,
            "max_width": null,
            "min_height": null,
            "min_width": null,
            "object_fit": null,
            "object_position": null,
            "order": null,
            "overflow": null,
            "overflow_x": null,
            "overflow_y": null,
            "padding": null,
            "right": null,
            "top": null,
            "visibility": null,
            "width": null
          }
        },
        "b614d85a364e4e62acf87fbccfca8f7d": {
          "model_module": "@jupyter-widgets/controls",
          "model_name": "ProgressStyleModel",
          "model_module_version": "1.5.0",
          "state": {
            "_model_module": "@jupyter-widgets/controls",
            "_model_module_version": "1.5.0",
            "_model_name": "ProgressStyleModel",
            "_view_count": null,
            "_view_module": "@jupyter-widgets/base",
            "_view_module_version": "1.2.0",
            "_view_name": "StyleView",
            "bar_color": null,
            "description_width": ""
          }
        },
        "48dadd0c8b3e407e861eb7145a4a245a": {
          "model_module": "@jupyter-widgets/base",
          "model_name": "LayoutModel",
          "model_module_version": "1.2.0",
          "state": {
            "_model_module": "@jupyter-widgets/base",
            "_model_module_version": "1.2.0",
            "_model_name": "LayoutModel",
            "_view_count": null,
            "_view_module": "@jupyter-widgets/base",
            "_view_module_version": "1.2.0",
            "_view_name": "LayoutView",
            "align_content": null,
            "align_items": null,
            "align_self": null,
            "border": null,
            "bottom": null,
            "display": null,
            "flex": null,
            "flex_flow": null,
            "grid_area": null,
            "grid_auto_columns": null,
            "grid_auto_flow": null,
            "grid_auto_rows": null,
            "grid_column": null,
            "grid_gap": null,
            "grid_row": null,
            "grid_template_areas": null,
            "grid_template_columns": null,
            "grid_template_rows": null,
            "height": null,
            "justify_content": null,
            "justify_items": null,
            "left": null,
            "margin": null,
            "max_height": null,
            "max_width": null,
            "min_height": null,
            "min_width": null,
            "object_fit": null,
            "object_position": null,
            "order": null,
            "overflow": null,
            "overflow_x": null,
            "overflow_y": null,
            "padding": null,
            "right": null,
            "top": null,
            "visibility": null,
            "width": null
          }
        },
        "99d9abb9943f41ee9be9a4dd772f1d17": {
          "model_module": "@jupyter-widgets/controls",
          "model_name": "DescriptionStyleModel",
          "model_module_version": "1.5.0",
          "state": {
            "_model_module": "@jupyter-widgets/controls",
            "_model_module_version": "1.5.0",
            "_model_name": "DescriptionStyleModel",
            "_view_count": null,
            "_view_module": "@jupyter-widgets/base",
            "_view_module_version": "1.2.0",
            "_view_name": "StyleView",
            "description_width": ""
          }
        },
        "7a4a2841470f40e49658aaaf8c1620f5": {
          "model_module": "@jupyter-widgets/controls",
          "model_name": "HBoxModel",
          "model_module_version": "1.5.0",
          "state": {
            "_dom_classes": [],
            "_model_module": "@jupyter-widgets/controls",
            "_model_module_version": "1.5.0",
            "_model_name": "HBoxModel",
            "_view_count": null,
            "_view_module": "@jupyter-widgets/controls",
            "_view_module_version": "1.5.0",
            "_view_name": "HBoxView",
            "box_style": "",
            "children": [
              "IPY_MODEL_1fbc5090de354ce386daf3b18931a10c",
              "IPY_MODEL_b5e2f5417cc84e16809fd4fb85219498",
              "IPY_MODEL_df955e509e8a4ef983cb6fbe794462ce"
            ],
            "layout": "IPY_MODEL_f86df43f829345aa871d0b4c050d429f"
          }
        },
        "1fbc5090de354ce386daf3b18931a10c": {
          "model_module": "@jupyter-widgets/controls",
          "model_name": "HTMLModel",
          "model_module_version": "1.5.0",
          "state": {
            "_dom_classes": [],
            "_model_module": "@jupyter-widgets/controls",
            "_model_module_version": "1.5.0",
            "_model_name": "HTMLModel",
            "_view_count": null,
            "_view_module": "@jupyter-widgets/controls",
            "_view_module_version": "1.5.0",
            "_view_name": "HTMLView",
            "description": "",
            "description_tooltip": null,
            "layout": "IPY_MODEL_0923194884774c299543204989b018e4",
            "placeholder": "​",
            "style": "IPY_MODEL_e8b3a0270df845849de4cc9e33c575dd",
            "value": "tokenizer.json: 100%"
          }
        },
        "b5e2f5417cc84e16809fd4fb85219498": {
          "model_module": "@jupyter-widgets/controls",
          "model_name": "FloatProgressModel",
          "model_module_version": "1.5.0",
          "state": {
            "_dom_classes": [],
            "_model_module": "@jupyter-widgets/controls",
            "_model_module_version": "1.5.0",
            "_model_name": "FloatProgressModel",
            "_view_count": null,
            "_view_module": "@jupyter-widgets/controls",
            "_view_module_version": "1.5.0",
            "_view_name": "ProgressView",
            "bar_style": "success",
            "description": "",
            "description_tooltip": null,
            "layout": "IPY_MODEL_d0974f51a5694ecd8f801916458eedf6",
            "max": 711396,
            "min": 0,
            "orientation": "horizontal",
            "style": "IPY_MODEL_53ee4868a0c14f56a1546572fc687153",
            "value": 711396
          }
        },
        "df955e509e8a4ef983cb6fbe794462ce": {
          "model_module": "@jupyter-widgets/controls",
          "model_name": "HTMLModel",
          "model_module_version": "1.5.0",
          "state": {
            "_dom_classes": [],
            "_model_module": "@jupyter-widgets/controls",
            "_model_module_version": "1.5.0",
            "_model_name": "HTMLModel",
            "_view_count": null,
            "_view_module": "@jupyter-widgets/controls",
            "_view_module_version": "1.5.0",
            "_view_name": "HTMLView",
            "description": "",
            "description_tooltip": null,
            "layout": "IPY_MODEL_017b9e8be05447a6bea02b398a76759c",
            "placeholder": "​",
            "style": "IPY_MODEL_8334dc0a9bd045b8acca7f3d6fac3ad9",
            "value": " 711k/711k [00:00&lt;00:00, 30.4MB/s]"
          }
        },
        "f86df43f829345aa871d0b4c050d429f": {
          "model_module": "@jupyter-widgets/base",
          "model_name": "LayoutModel",
          "model_module_version": "1.2.0",
          "state": {
            "_model_module": "@jupyter-widgets/base",
            "_model_module_version": "1.2.0",
            "_model_name": "LayoutModel",
            "_view_count": null,
            "_view_module": "@jupyter-widgets/base",
            "_view_module_version": "1.2.0",
            "_view_name": "LayoutView",
            "align_content": null,
            "align_items": null,
            "align_self": null,
            "border": null,
            "bottom": null,
            "display": null,
            "flex": null,
            "flex_flow": null,
            "grid_area": null,
            "grid_auto_columns": null,
            "grid_auto_flow": null,
            "grid_auto_rows": null,
            "grid_column": null,
            "grid_gap": null,
            "grid_row": null,
            "grid_template_areas": null,
            "grid_template_columns": null,
            "grid_template_rows": null,
            "height": null,
            "justify_content": null,
            "justify_items": null,
            "left": null,
            "margin": null,
            "max_height": null,
            "max_width": null,
            "min_height": null,
            "min_width": null,
            "object_fit": null,
            "object_position": null,
            "order": null,
            "overflow": null,
            "overflow_x": null,
            "overflow_y": null,
            "padding": null,
            "right": null,
            "top": null,
            "visibility": null,
            "width": null
          }
        },
        "0923194884774c299543204989b018e4": {
          "model_module": "@jupyter-widgets/base",
          "model_name": "LayoutModel",
          "model_module_version": "1.2.0",
          "state": {
            "_model_module": "@jupyter-widgets/base",
            "_model_module_version": "1.2.0",
            "_model_name": "LayoutModel",
            "_view_count": null,
            "_view_module": "@jupyter-widgets/base",
            "_view_module_version": "1.2.0",
            "_view_name": "LayoutView",
            "align_content": null,
            "align_items": null,
            "align_self": null,
            "border": null,
            "bottom": null,
            "display": null,
            "flex": null,
            "flex_flow": null,
            "grid_area": null,
            "grid_auto_columns": null,
            "grid_auto_flow": null,
            "grid_auto_rows": null,
            "grid_column": null,
            "grid_gap": null,
            "grid_row": null,
            "grid_template_areas": null,
            "grid_template_columns": null,
            "grid_template_rows": null,
            "height": null,
            "justify_content": null,
            "justify_items": null,
            "left": null,
            "margin": null,
            "max_height": null,
            "max_width": null,
            "min_height": null,
            "min_width": null,
            "object_fit": null,
            "object_position": null,
            "order": null,
            "overflow": null,
            "overflow_x": null,
            "overflow_y": null,
            "padding": null,
            "right": null,
            "top": null,
            "visibility": null,
            "width": null
          }
        },
        "e8b3a0270df845849de4cc9e33c575dd": {
          "model_module": "@jupyter-widgets/controls",
          "model_name": "DescriptionStyleModel",
          "model_module_version": "1.5.0",
          "state": {
            "_model_module": "@jupyter-widgets/controls",
            "_model_module_version": "1.5.0",
            "_model_name": "DescriptionStyleModel",
            "_view_count": null,
            "_view_module": "@jupyter-widgets/base",
            "_view_module_version": "1.2.0",
            "_view_name": "StyleView",
            "description_width": ""
          }
        },
        "d0974f51a5694ecd8f801916458eedf6": {
          "model_module": "@jupyter-widgets/base",
          "model_name": "LayoutModel",
          "model_module_version": "1.2.0",
          "state": {
            "_model_module": "@jupyter-widgets/base",
            "_model_module_version": "1.2.0",
            "_model_name": "LayoutModel",
            "_view_count": null,
            "_view_module": "@jupyter-widgets/base",
            "_view_module_version": "1.2.0",
            "_view_name": "LayoutView",
            "align_content": null,
            "align_items": null,
            "align_self": null,
            "border": null,
            "bottom": null,
            "display": null,
            "flex": null,
            "flex_flow": null,
            "grid_area": null,
            "grid_auto_columns": null,
            "grid_auto_flow": null,
            "grid_auto_rows": null,
            "grid_column": null,
            "grid_gap": null,
            "grid_row": null,
            "grid_template_areas": null,
            "grid_template_columns": null,
            "grid_template_rows": null,
            "height": null,
            "justify_content": null,
            "justify_items": null,
            "left": null,
            "margin": null,
            "max_height": null,
            "max_width": null,
            "min_height": null,
            "min_width": null,
            "object_fit": null,
            "object_position": null,
            "order": null,
            "overflow": null,
            "overflow_x": null,
            "overflow_y": null,
            "padding": null,
            "right": null,
            "top": null,
            "visibility": null,
            "width": null
          }
        },
        "53ee4868a0c14f56a1546572fc687153": {
          "model_module": "@jupyter-widgets/controls",
          "model_name": "ProgressStyleModel",
          "model_module_version": "1.5.0",
          "state": {
            "_model_module": "@jupyter-widgets/controls",
            "_model_module_version": "1.5.0",
            "_model_name": "ProgressStyleModel",
            "_view_count": null,
            "_view_module": "@jupyter-widgets/base",
            "_view_module_version": "1.2.0",
            "_view_name": "StyleView",
            "bar_color": null,
            "description_width": ""
          }
        },
        "017b9e8be05447a6bea02b398a76759c": {
          "model_module": "@jupyter-widgets/base",
          "model_name": "LayoutModel",
          "model_module_version": "1.2.0",
          "state": {
            "_model_module": "@jupyter-widgets/base",
            "_model_module_version": "1.2.0",
            "_model_name": "LayoutModel",
            "_view_count": null,
            "_view_module": "@jupyter-widgets/base",
            "_view_module_version": "1.2.0",
            "_view_name": "LayoutView",
            "align_content": null,
            "align_items": null,
            "align_self": null,
            "border": null,
            "bottom": null,
            "display": null,
            "flex": null,
            "flex_flow": null,
            "grid_area": null,
            "grid_auto_columns": null,
            "grid_auto_flow": null,
            "grid_auto_rows": null,
            "grid_column": null,
            "grid_gap": null,
            "grid_row": null,
            "grid_template_areas": null,
            "grid_template_columns": null,
            "grid_template_rows": null,
            "height": null,
            "justify_content": null,
            "justify_items": null,
            "left": null,
            "margin": null,
            "max_height": null,
            "max_width": null,
            "min_height": null,
            "min_width": null,
            "object_fit": null,
            "object_position": null,
            "order": null,
            "overflow": null,
            "overflow_x": null,
            "overflow_y": null,
            "padding": null,
            "right": null,
            "top": null,
            "visibility": null,
            "width": null
          }
        },
        "8334dc0a9bd045b8acca7f3d6fac3ad9": {
          "model_module": "@jupyter-widgets/controls",
          "model_name": "DescriptionStyleModel",
          "model_module_version": "1.5.0",
          "state": {
            "_model_module": "@jupyter-widgets/controls",
            "_model_module_version": "1.5.0",
            "_model_name": "DescriptionStyleModel",
            "_view_count": null,
            "_view_module": "@jupyter-widgets/base",
            "_view_module_version": "1.2.0",
            "_view_name": "StyleView",
            "description_width": ""
          }
        },
        "5cfbb4ba34e6435e98296fd2a124bdf3": {
          "model_module": "@jupyter-widgets/controls",
          "model_name": "HBoxModel",
          "model_module_version": "1.5.0",
          "state": {
            "_dom_classes": [],
            "_model_module": "@jupyter-widgets/controls",
            "_model_module_version": "1.5.0",
            "_model_name": "HBoxModel",
            "_view_count": null,
            "_view_module": "@jupyter-widgets/controls",
            "_view_module_version": "1.5.0",
            "_view_name": "HBoxView",
            "box_style": "",
            "children": [
              "IPY_MODEL_57ab39b493c1412e936a53a9ac02370f",
              "IPY_MODEL_2207b89380c54c1a9dc65caef1332e1a",
              "IPY_MODEL_1573a03fc6804cf19f70662653292bde"
            ],
            "layout": "IPY_MODEL_d732f36f1ddc48a69462a0bffa24cdf5"
          }
        },
        "57ab39b493c1412e936a53a9ac02370f": {
          "model_module": "@jupyter-widgets/controls",
          "model_name": "HTMLModel",
          "model_module_version": "1.5.0",
          "state": {
            "_dom_classes": [],
            "_model_module": "@jupyter-widgets/controls",
            "_model_module_version": "1.5.0",
            "_model_name": "HTMLModel",
            "_view_count": null,
            "_view_module": "@jupyter-widgets/controls",
            "_view_module_version": "1.5.0",
            "_view_name": "HTMLView",
            "description": "",
            "description_tooltip": null,
            "layout": "IPY_MODEL_1cfa046d8f3c4d148eb095505050ad98",
            "placeholder": "​",
            "style": "IPY_MODEL_700adea965a04a4cb6cf7f3db1b46e09",
            "value": "special_tokens_map.json: 100%"
          }
        },
        "2207b89380c54c1a9dc65caef1332e1a": {
          "model_module": "@jupyter-widgets/controls",
          "model_name": "FloatProgressModel",
          "model_module_version": "1.5.0",
          "state": {
            "_dom_classes": [],
            "_model_module": "@jupyter-widgets/controls",
            "_model_module_version": "1.5.0",
            "_model_name": "FloatProgressModel",
            "_view_count": null,
            "_view_module": "@jupyter-widgets/controls",
            "_view_module_version": "1.5.0",
            "_view_name": "ProgressView",
            "bar_style": "success",
            "description": "",
            "description_tooltip": null,
            "layout": "IPY_MODEL_fbba6efccb184febb7f6471d01e68b88",
            "max": 125,
            "min": 0,
            "orientation": "horizontal",
            "style": "IPY_MODEL_58fdfbe722ea406092aa572f40995648",
            "value": 125
          }
        },
        "1573a03fc6804cf19f70662653292bde": {
          "model_module": "@jupyter-widgets/controls",
          "model_name": "HTMLModel",
          "model_module_version": "1.5.0",
          "state": {
            "_dom_classes": [],
            "_model_module": "@jupyter-widgets/controls",
            "_model_module_version": "1.5.0",
            "_model_name": "HTMLModel",
            "_view_count": null,
            "_view_module": "@jupyter-widgets/controls",
            "_view_module_version": "1.5.0",
            "_view_name": "HTMLView",
            "description": "",
            "description_tooltip": null,
            "layout": "IPY_MODEL_c2ba572d3b75430d98315512054ac995",
            "placeholder": "​",
            "style": "IPY_MODEL_e14516ef1c2a48a290917c392b5b3c03",
            "value": " 125/125 [00:00&lt;00:00, 10.6kB/s]"
          }
        },
        "d732f36f1ddc48a69462a0bffa24cdf5": {
          "model_module": "@jupyter-widgets/base",
          "model_name": "LayoutModel",
          "model_module_version": "1.2.0",
          "state": {
            "_model_module": "@jupyter-widgets/base",
            "_model_module_version": "1.2.0",
            "_model_name": "LayoutModel",
            "_view_count": null,
            "_view_module": "@jupyter-widgets/base",
            "_view_module_version": "1.2.0",
            "_view_name": "LayoutView",
            "align_content": null,
            "align_items": null,
            "align_self": null,
            "border": null,
            "bottom": null,
            "display": null,
            "flex": null,
            "flex_flow": null,
            "grid_area": null,
            "grid_auto_columns": null,
            "grid_auto_flow": null,
            "grid_auto_rows": null,
            "grid_column": null,
            "grid_gap": null,
            "grid_row": null,
            "grid_template_areas": null,
            "grid_template_columns": null,
            "grid_template_rows": null,
            "height": null,
            "justify_content": null,
            "justify_items": null,
            "left": null,
            "margin": null,
            "max_height": null,
            "max_width": null,
            "min_height": null,
            "min_width": null,
            "object_fit": null,
            "object_position": null,
            "order": null,
            "overflow": null,
            "overflow_x": null,
            "overflow_y": null,
            "padding": null,
            "right": null,
            "top": null,
            "visibility": null,
            "width": null
          }
        },
        "1cfa046d8f3c4d148eb095505050ad98": {
          "model_module": "@jupyter-widgets/base",
          "model_name": "LayoutModel",
          "model_module_version": "1.2.0",
          "state": {
            "_model_module": "@jupyter-widgets/base",
            "_model_module_version": "1.2.0",
            "_model_name": "LayoutModel",
            "_view_count": null,
            "_view_module": "@jupyter-widgets/base",
            "_view_module_version": "1.2.0",
            "_view_name": "LayoutView",
            "align_content": null,
            "align_items": null,
            "align_self": null,
            "border": null,
            "bottom": null,
            "display": null,
            "flex": null,
            "flex_flow": null,
            "grid_area": null,
            "grid_auto_columns": null,
            "grid_auto_flow": null,
            "grid_auto_rows": null,
            "grid_column": null,
            "grid_gap": null,
            "grid_row": null,
            "grid_template_areas": null,
            "grid_template_columns": null,
            "grid_template_rows": null,
            "height": null,
            "justify_content": null,
            "justify_items": null,
            "left": null,
            "margin": null,
            "max_height": null,
            "max_width": null,
            "min_height": null,
            "min_width": null,
            "object_fit": null,
            "object_position": null,
            "order": null,
            "overflow": null,
            "overflow_x": null,
            "overflow_y": null,
            "padding": null,
            "right": null,
            "top": null,
            "visibility": null,
            "width": null
          }
        },
        "700adea965a04a4cb6cf7f3db1b46e09": {
          "model_module": "@jupyter-widgets/controls",
          "model_name": "DescriptionStyleModel",
          "model_module_version": "1.5.0",
          "state": {
            "_model_module": "@jupyter-widgets/controls",
            "_model_module_version": "1.5.0",
            "_model_name": "DescriptionStyleModel",
            "_view_count": null,
            "_view_module": "@jupyter-widgets/base",
            "_view_module_version": "1.2.0",
            "_view_name": "StyleView",
            "description_width": ""
          }
        },
        "fbba6efccb184febb7f6471d01e68b88": {
          "model_module": "@jupyter-widgets/base",
          "model_name": "LayoutModel",
          "model_module_version": "1.2.0",
          "state": {
            "_model_module": "@jupyter-widgets/base",
            "_model_module_version": "1.2.0",
            "_model_name": "LayoutModel",
            "_view_count": null,
            "_view_module": "@jupyter-widgets/base",
            "_view_module_version": "1.2.0",
            "_view_name": "LayoutView",
            "align_content": null,
            "align_items": null,
            "align_self": null,
            "border": null,
            "bottom": null,
            "display": null,
            "flex": null,
            "flex_flow": null,
            "grid_area": null,
            "grid_auto_columns": null,
            "grid_auto_flow": null,
            "grid_auto_rows": null,
            "grid_column": null,
            "grid_gap": null,
            "grid_row": null,
            "grid_template_areas": null,
            "grid_template_columns": null,
            "grid_template_rows": null,
            "height": null,
            "justify_content": null,
            "justify_items": null,
            "left": null,
            "margin": null,
            "max_height": null,
            "max_width": null,
            "min_height": null,
            "min_width": null,
            "object_fit": null,
            "object_position": null,
            "order": null,
            "overflow": null,
            "overflow_x": null,
            "overflow_y": null,
            "padding": null,
            "right": null,
            "top": null,
            "visibility": null,
            "width": null
          }
        },
        "58fdfbe722ea406092aa572f40995648": {
          "model_module": "@jupyter-widgets/controls",
          "model_name": "ProgressStyleModel",
          "model_module_version": "1.5.0",
          "state": {
            "_model_module": "@jupyter-widgets/controls",
            "_model_module_version": "1.5.0",
            "_model_name": "ProgressStyleModel",
            "_view_count": null,
            "_view_module": "@jupyter-widgets/base",
            "_view_module_version": "1.2.0",
            "_view_name": "StyleView",
            "bar_color": null,
            "description_width": ""
          }
        },
        "c2ba572d3b75430d98315512054ac995": {
          "model_module": "@jupyter-widgets/base",
          "model_name": "LayoutModel",
          "model_module_version": "1.2.0",
          "state": {
            "_model_module": "@jupyter-widgets/base",
            "_model_module_version": "1.2.0",
            "_model_name": "LayoutModel",
            "_view_count": null,
            "_view_module": "@jupyter-widgets/base",
            "_view_module_version": "1.2.0",
            "_view_name": "LayoutView",
            "align_content": null,
            "align_items": null,
            "align_self": null,
            "border": null,
            "bottom": null,
            "display": null,
            "flex": null,
            "flex_flow": null,
            "grid_area": null,
            "grid_auto_columns": null,
            "grid_auto_flow": null,
            "grid_auto_rows": null,
            "grid_column": null,
            "grid_gap": null,
            "grid_row": null,
            "grid_template_areas": null,
            "grid_template_columns": null,
            "grid_template_rows": null,
            "height": null,
            "justify_content": null,
            "justify_items": null,
            "left": null,
            "margin": null,
            "max_height": null,
            "max_width": null,
            "min_height": null,
            "min_width": null,
            "object_fit": null,
            "object_position": null,
            "order": null,
            "overflow": null,
            "overflow_x": null,
            "overflow_y": null,
            "padding": null,
            "right": null,
            "top": null,
            "visibility": null,
            "width": null
          }
        },
        "e14516ef1c2a48a290917c392b5b3c03": {
          "model_module": "@jupyter-widgets/controls",
          "model_name": "DescriptionStyleModel",
          "model_module_version": "1.5.0",
          "state": {
            "_model_module": "@jupyter-widgets/controls",
            "_model_module_version": "1.5.0",
            "_model_name": "DescriptionStyleModel",
            "_view_count": null,
            "_view_module": "@jupyter-widgets/base",
            "_view_module_version": "1.2.0",
            "_view_name": "StyleView",
            "description_width": ""
          }
        },
        "0da6246d560f42f4afdb7e1a0aa8c885": {
          "model_module": "@jupyter-widgets/controls",
          "model_name": "HBoxModel",
          "model_module_version": "1.5.0",
          "state": {
            "_dom_classes": [],
            "_model_module": "@jupyter-widgets/controls",
            "_model_module_version": "1.5.0",
            "_model_name": "HBoxModel",
            "_view_count": null,
            "_view_module": "@jupyter-widgets/controls",
            "_view_module_version": "1.5.0",
            "_view_name": "HBoxView",
            "box_style": "",
            "children": [
              "IPY_MODEL_58ae1e5cec3e48ff84ce3282974e3cb9",
              "IPY_MODEL_1f9e1063a9254efc9089ba84a3b72bcf",
              "IPY_MODEL_0c797abddd9e4c14b5cab626b04f47ad"
            ],
            "layout": "IPY_MODEL_2e02aad68aac477e9e0c8afcac114973"
          }
        },
        "58ae1e5cec3e48ff84ce3282974e3cb9": {
          "model_module": "@jupyter-widgets/controls",
          "model_name": "HTMLModel",
          "model_module_version": "1.5.0",
          "state": {
            "_dom_classes": [],
            "_model_module": "@jupyter-widgets/controls",
            "_model_module_version": "1.5.0",
            "_model_name": "HTMLModel",
            "_view_count": null,
            "_view_module": "@jupyter-widgets/controls",
            "_view_module_version": "1.5.0",
            "_view_name": "HTMLView",
            "description": "",
            "description_tooltip": null,
            "layout": "IPY_MODEL_b1294c9387b04c5aaf878470d620cf25",
            "placeholder": "​",
            "style": "IPY_MODEL_e3449824590b41b8b40bfc58a2f5e795",
            "value": "1_Pooling/config.json: 100%"
          }
        },
        "1f9e1063a9254efc9089ba84a3b72bcf": {
          "model_module": "@jupyter-widgets/controls",
          "model_name": "FloatProgressModel",
          "model_module_version": "1.5.0",
          "state": {
            "_dom_classes": [],
            "_model_module": "@jupyter-widgets/controls",
            "_model_module_version": "1.5.0",
            "_model_name": "FloatProgressModel",
            "_view_count": null,
            "_view_module": "@jupyter-widgets/controls",
            "_view_module_version": "1.5.0",
            "_view_name": "ProgressView",
            "bar_style": "success",
            "description": "",
            "description_tooltip": null,
            "layout": "IPY_MODEL_2f74baeed87e4c6ab438c3a3ca3d9855",
            "max": 191,
            "min": 0,
            "orientation": "horizontal",
            "style": "IPY_MODEL_e2a28757a3094d93871ef865f98ac889",
            "value": 191
          }
        },
        "0c797abddd9e4c14b5cab626b04f47ad": {
          "model_module": "@jupyter-widgets/controls",
          "model_name": "HTMLModel",
          "model_module_version": "1.5.0",
          "state": {
            "_dom_classes": [],
            "_model_module": "@jupyter-widgets/controls",
            "_model_module_version": "1.5.0",
            "_model_name": "HTMLModel",
            "_view_count": null,
            "_view_module": "@jupyter-widgets/controls",
            "_view_module_version": "1.5.0",
            "_view_name": "HTMLView",
            "description": "",
            "description_tooltip": null,
            "layout": "IPY_MODEL_752a170b6cba4cd3b5dbff5dcb31d41b",
            "placeholder": "​",
            "style": "IPY_MODEL_5b3093e7ea1b40daa98ffb292e871bf1",
            "value": " 191/191 [00:00&lt;00:00, 17.0kB/s]"
          }
        },
        "2e02aad68aac477e9e0c8afcac114973": {
          "model_module": "@jupyter-widgets/base",
          "model_name": "LayoutModel",
          "model_module_version": "1.2.0",
          "state": {
            "_model_module": "@jupyter-widgets/base",
            "_model_module_version": "1.2.0",
            "_model_name": "LayoutModel",
            "_view_count": null,
            "_view_module": "@jupyter-widgets/base",
            "_view_module_version": "1.2.0",
            "_view_name": "LayoutView",
            "align_content": null,
            "align_items": null,
            "align_self": null,
            "border": null,
            "bottom": null,
            "display": null,
            "flex": null,
            "flex_flow": null,
            "grid_area": null,
            "grid_auto_columns": null,
            "grid_auto_flow": null,
            "grid_auto_rows": null,
            "grid_column": null,
            "grid_gap": null,
            "grid_row": null,
            "grid_template_areas": null,
            "grid_template_columns": null,
            "grid_template_rows": null,
            "height": null,
            "justify_content": null,
            "justify_items": null,
            "left": null,
            "margin": null,
            "max_height": null,
            "max_width": null,
            "min_height": null,
            "min_width": null,
            "object_fit": null,
            "object_position": null,
            "order": null,
            "overflow": null,
            "overflow_x": null,
            "overflow_y": null,
            "padding": null,
            "right": null,
            "top": null,
            "visibility": null,
            "width": null
          }
        },
        "b1294c9387b04c5aaf878470d620cf25": {
          "model_module": "@jupyter-widgets/base",
          "model_name": "LayoutModel",
          "model_module_version": "1.2.0",
          "state": {
            "_model_module": "@jupyter-widgets/base",
            "_model_module_version": "1.2.0",
            "_model_name": "LayoutModel",
            "_view_count": null,
            "_view_module": "@jupyter-widgets/base",
            "_view_module_version": "1.2.0",
            "_view_name": "LayoutView",
            "align_content": null,
            "align_items": null,
            "align_self": null,
            "border": null,
            "bottom": null,
            "display": null,
            "flex": null,
            "flex_flow": null,
            "grid_area": null,
            "grid_auto_columns": null,
            "grid_auto_flow": null,
            "grid_auto_rows": null,
            "grid_column": null,
            "grid_gap": null,
            "grid_row": null,
            "grid_template_areas": null,
            "grid_template_columns": null,
            "grid_template_rows": null,
            "height": null,
            "justify_content": null,
            "justify_items": null,
            "left": null,
            "margin": null,
            "max_height": null,
            "max_width": null,
            "min_height": null,
            "min_width": null,
            "object_fit": null,
            "object_position": null,
            "order": null,
            "overflow": null,
            "overflow_x": null,
            "overflow_y": null,
            "padding": null,
            "right": null,
            "top": null,
            "visibility": null,
            "width": null
          }
        },
        "e3449824590b41b8b40bfc58a2f5e795": {
          "model_module": "@jupyter-widgets/controls",
          "model_name": "DescriptionStyleModel",
          "model_module_version": "1.5.0",
          "state": {
            "_model_module": "@jupyter-widgets/controls",
            "_model_module_version": "1.5.0",
            "_model_name": "DescriptionStyleModel",
            "_view_count": null,
            "_view_module": "@jupyter-widgets/base",
            "_view_module_version": "1.2.0",
            "_view_name": "StyleView",
            "description_width": ""
          }
        },
        "2f74baeed87e4c6ab438c3a3ca3d9855": {
          "model_module": "@jupyter-widgets/base",
          "model_name": "LayoutModel",
          "model_module_version": "1.2.0",
          "state": {
            "_model_module": "@jupyter-widgets/base",
            "_model_module_version": "1.2.0",
            "_model_name": "LayoutModel",
            "_view_count": null,
            "_view_module": "@jupyter-widgets/base",
            "_view_module_version": "1.2.0",
            "_view_name": "LayoutView",
            "align_content": null,
            "align_items": null,
            "align_self": null,
            "border": null,
            "bottom": null,
            "display": null,
            "flex": null,
            "flex_flow": null,
            "grid_area": null,
            "grid_auto_columns": null,
            "grid_auto_flow": null,
            "grid_auto_rows": null,
            "grid_column": null,
            "grid_gap": null,
            "grid_row": null,
            "grid_template_areas": null,
            "grid_template_columns": null,
            "grid_template_rows": null,
            "height": null,
            "justify_content": null,
            "justify_items": null,
            "left": null,
            "margin": null,
            "max_height": null,
            "max_width": null,
            "min_height": null,
            "min_width": null,
            "object_fit": null,
            "object_position": null,
            "order": null,
            "overflow": null,
            "overflow_x": null,
            "overflow_y": null,
            "padding": null,
            "right": null,
            "top": null,
            "visibility": null,
            "width": null
          }
        },
        "e2a28757a3094d93871ef865f98ac889": {
          "model_module": "@jupyter-widgets/controls",
          "model_name": "ProgressStyleModel",
          "model_module_version": "1.5.0",
          "state": {
            "_model_module": "@jupyter-widgets/controls",
            "_model_module_version": "1.5.0",
            "_model_name": "ProgressStyleModel",
            "_view_count": null,
            "_view_module": "@jupyter-widgets/base",
            "_view_module_version": "1.2.0",
            "_view_name": "StyleView",
            "bar_color": null,
            "description_width": ""
          }
        },
        "752a170b6cba4cd3b5dbff5dcb31d41b": {
          "model_module": "@jupyter-widgets/base",
          "model_name": "LayoutModel",
          "model_module_version": "1.2.0",
          "state": {
            "_model_module": "@jupyter-widgets/base",
            "_model_module_version": "1.2.0",
            "_model_name": "LayoutModel",
            "_view_count": null,
            "_view_module": "@jupyter-widgets/base",
            "_view_module_version": "1.2.0",
            "_view_name": "LayoutView",
            "align_content": null,
            "align_items": null,
            "align_self": null,
            "border": null,
            "bottom": null,
            "display": null,
            "flex": null,
            "flex_flow": null,
            "grid_area": null,
            "grid_auto_columns": null,
            "grid_auto_flow": null,
            "grid_auto_rows": null,
            "grid_column": null,
            "grid_gap": null,
            "grid_row": null,
            "grid_template_areas": null,
            "grid_template_columns": null,
            "grid_template_rows": null,
            "height": null,
            "justify_content": null,
            "justify_items": null,
            "left": null,
            "margin": null,
            "max_height": null,
            "max_width": null,
            "min_height": null,
            "min_width": null,
            "object_fit": null,
            "object_position": null,
            "order": null,
            "overflow": null,
            "overflow_x": null,
            "overflow_y": null,
            "padding": null,
            "right": null,
            "top": null,
            "visibility": null,
            "width": null
          }
        },
        "5b3093e7ea1b40daa98ffb292e871bf1": {
          "model_module": "@jupyter-widgets/controls",
          "model_name": "DescriptionStyleModel",
          "model_module_version": "1.5.0",
          "state": {
            "_model_module": "@jupyter-widgets/controls",
            "_model_module_version": "1.5.0",
            "_model_name": "DescriptionStyleModel",
            "_view_count": null,
            "_view_module": "@jupyter-widgets/base",
            "_view_module_version": "1.2.0",
            "_view_name": "StyleView",
            "description_width": ""
          }
        },
        "95e623951f4f4886a3d2160e2e59611d": {
          "model_module": "@jupyter-widgets/controls",
          "model_name": "HBoxModel",
          "model_module_version": "1.5.0",
          "state": {
            "_dom_classes": [],
            "_model_module": "@jupyter-widgets/controls",
            "_model_module_version": "1.5.0",
            "_model_name": "HBoxModel",
            "_view_count": null,
            "_view_module": "@jupyter-widgets/controls",
            "_view_module_version": "1.5.0",
            "_view_name": "HBoxView",
            "box_style": "",
            "children": [
              "IPY_MODEL_c80150bb71a946a5be7d9d774ea0d795",
              "IPY_MODEL_dfe7f6e9f7514144a01576aa282fef4d",
              "IPY_MODEL_66fb77101d254606a8b54e8df50ae5c0"
            ],
            "layout": "IPY_MODEL_d810470247b541238e2965b916782e0c"
          }
        },
        "c80150bb71a946a5be7d9d774ea0d795": {
          "model_module": "@jupyter-widgets/controls",
          "model_name": "HTMLModel",
          "model_module_version": "1.5.0",
          "state": {
            "_dom_classes": [],
            "_model_module": "@jupyter-widgets/controls",
            "_model_module_version": "1.5.0",
            "_model_name": "HTMLModel",
            "_view_count": null,
            "_view_module": "@jupyter-widgets/controls",
            "_view_module_version": "1.5.0",
            "_view_name": "HTMLView",
            "description": "",
            "description_tooltip": null,
            "layout": "IPY_MODEL_c173f4db2ad24ac5b754f617638c0cc7",
            "placeholder": "​",
            "style": "IPY_MODEL_17ad6c769ff740e79e77b40e4ea2ade5",
            "value": "Fetching 9 files: 100%"
          }
        },
        "dfe7f6e9f7514144a01576aa282fef4d": {
          "model_module": "@jupyter-widgets/controls",
          "model_name": "FloatProgressModel",
          "model_module_version": "1.5.0",
          "state": {
            "_dom_classes": [],
            "_model_module": "@jupyter-widgets/controls",
            "_model_module_version": "1.5.0",
            "_model_name": "FloatProgressModel",
            "_view_count": null,
            "_view_module": "@jupyter-widgets/controls",
            "_view_module_version": "1.5.0",
            "_view_name": "ProgressView",
            "bar_style": "success",
            "description": "",
            "description_tooltip": null,
            "layout": "IPY_MODEL_9b99cb8512054e2284442fb33f390525",
            "max": 9,
            "min": 0,
            "orientation": "horizontal",
            "style": "IPY_MODEL_af6bee44377843aa9b8b236b3baf3ff9",
            "value": 9
          }
        },
        "66fb77101d254606a8b54e8df50ae5c0": {
          "model_module": "@jupyter-widgets/controls",
          "model_name": "HTMLModel",
          "model_module_version": "1.5.0",
          "state": {
            "_dom_classes": [],
            "_model_module": "@jupyter-widgets/controls",
            "_model_module_version": "1.5.0",
            "_model_name": "HTMLModel",
            "_view_count": null,
            "_view_module": "@jupyter-widgets/controls",
            "_view_module_version": "1.5.0",
            "_view_name": "HTMLView",
            "description": "",
            "description_tooltip": null,
            "layout": "IPY_MODEL_4fe53944f52540eea99af5ac44fe32d0",
            "placeholder": "​",
            "style": "IPY_MODEL_4949e90538064336a2ea16f0e6bffa67",
            "value": " 9/9 [00:05&lt;00:00,  1.13it/s]"
          }
        },
        "d810470247b541238e2965b916782e0c": {
          "model_module": "@jupyter-widgets/base",
          "model_name": "LayoutModel",
          "model_module_version": "1.2.0",
          "state": {
            "_model_module": "@jupyter-widgets/base",
            "_model_module_version": "1.2.0",
            "_model_name": "LayoutModel",
            "_view_count": null,
            "_view_module": "@jupyter-widgets/base",
            "_view_module_version": "1.2.0",
            "_view_name": "LayoutView",
            "align_content": null,
            "align_items": null,
            "align_self": null,
            "border": null,
            "bottom": null,
            "display": null,
            "flex": null,
            "flex_flow": null,
            "grid_area": null,
            "grid_auto_columns": null,
            "grid_auto_flow": null,
            "grid_auto_rows": null,
            "grid_column": null,
            "grid_gap": null,
            "grid_row": null,
            "grid_template_areas": null,
            "grid_template_columns": null,
            "grid_template_rows": null,
            "height": null,
            "justify_content": null,
            "justify_items": null,
            "left": null,
            "margin": null,
            "max_height": null,
            "max_width": null,
            "min_height": null,
            "min_width": null,
            "object_fit": null,
            "object_position": null,
            "order": null,
            "overflow": null,
            "overflow_x": null,
            "overflow_y": null,
            "padding": null,
            "right": null,
            "top": null,
            "visibility": null,
            "width": null
          }
        },
        "c173f4db2ad24ac5b754f617638c0cc7": {
          "model_module": "@jupyter-widgets/base",
          "model_name": "LayoutModel",
          "model_module_version": "1.2.0",
          "state": {
            "_model_module": "@jupyter-widgets/base",
            "_model_module_version": "1.2.0",
            "_model_name": "LayoutModel",
            "_view_count": null,
            "_view_module": "@jupyter-widgets/base",
            "_view_module_version": "1.2.0",
            "_view_name": "LayoutView",
            "align_content": null,
            "align_items": null,
            "align_self": null,
            "border": null,
            "bottom": null,
            "display": null,
            "flex": null,
            "flex_flow": null,
            "grid_area": null,
            "grid_auto_columns": null,
            "grid_auto_flow": null,
            "grid_auto_rows": null,
            "grid_column": null,
            "grid_gap": null,
            "grid_row": null,
            "grid_template_areas": null,
            "grid_template_columns": null,
            "grid_template_rows": null,
            "height": null,
            "justify_content": null,
            "justify_items": null,
            "left": null,
            "margin": null,
            "max_height": null,
            "max_width": null,
            "min_height": null,
            "min_width": null,
            "object_fit": null,
            "object_position": null,
            "order": null,
            "overflow": null,
            "overflow_x": null,
            "overflow_y": null,
            "padding": null,
            "right": null,
            "top": null,
            "visibility": null,
            "width": null
          }
        },
        "17ad6c769ff740e79e77b40e4ea2ade5": {
          "model_module": "@jupyter-widgets/controls",
          "model_name": "DescriptionStyleModel",
          "model_module_version": "1.5.0",
          "state": {
            "_model_module": "@jupyter-widgets/controls",
            "_model_module_version": "1.5.0",
            "_model_name": "DescriptionStyleModel",
            "_view_count": null,
            "_view_module": "@jupyter-widgets/base",
            "_view_module_version": "1.2.0",
            "_view_name": "StyleView",
            "description_width": ""
          }
        },
        "9b99cb8512054e2284442fb33f390525": {
          "model_module": "@jupyter-widgets/base",
          "model_name": "LayoutModel",
          "model_module_version": "1.2.0",
          "state": {
            "_model_module": "@jupyter-widgets/base",
            "_model_module_version": "1.2.0",
            "_model_name": "LayoutModel",
            "_view_count": null,
            "_view_module": "@jupyter-widgets/base",
            "_view_module_version": "1.2.0",
            "_view_name": "LayoutView",
            "align_content": null,
            "align_items": null,
            "align_self": null,
            "border": null,
            "bottom": null,
            "display": null,
            "flex": null,
            "flex_flow": null,
            "grid_area": null,
            "grid_auto_columns": null,
            "grid_auto_flow": null,
            "grid_auto_rows": null,
            "grid_column": null,
            "grid_gap": null,
            "grid_row": null,
            "grid_template_areas": null,
            "grid_template_columns": null,
            "grid_template_rows": null,
            "height": null,
            "justify_content": null,
            "justify_items": null,
            "left": null,
            "margin": null,
            "max_height": null,
            "max_width": null,
            "min_height": null,
            "min_width": null,
            "object_fit": null,
            "object_position": null,
            "order": null,
            "overflow": null,
            "overflow_x": null,
            "overflow_y": null,
            "padding": null,
            "right": null,
            "top": null,
            "visibility": null,
            "width": null
          }
        },
        "af6bee44377843aa9b8b236b3baf3ff9": {
          "model_module": "@jupyter-widgets/controls",
          "model_name": "ProgressStyleModel",
          "model_module_version": "1.5.0",
          "state": {
            "_model_module": "@jupyter-widgets/controls",
            "_model_module_version": "1.5.0",
            "_model_name": "ProgressStyleModel",
            "_view_count": null,
            "_view_module": "@jupyter-widgets/base",
            "_view_module_version": "1.2.0",
            "_view_name": "StyleView",
            "bar_color": null,
            "description_width": ""
          }
        },
        "4fe53944f52540eea99af5ac44fe32d0": {
          "model_module": "@jupyter-widgets/base",
          "model_name": "LayoutModel",
          "model_module_version": "1.2.0",
          "state": {
            "_model_module": "@jupyter-widgets/base",
            "_model_module_version": "1.2.0",
            "_model_name": "LayoutModel",
            "_view_count": null,
            "_view_module": "@jupyter-widgets/base",
            "_view_module_version": "1.2.0",
            "_view_name": "LayoutView",
            "align_content": null,
            "align_items": null,
            "align_self": null,
            "border": null,
            "bottom": null,
            "display": null,
            "flex": null,
            "flex_flow": null,
            "grid_area": null,
            "grid_auto_columns": null,
            "grid_auto_flow": null,
            "grid_auto_rows": null,
            "grid_column": null,
            "grid_gap": null,
            "grid_row": null,
            "grid_template_areas": null,
            "grid_template_columns": null,
            "grid_template_rows": null,
            "height": null,
            "justify_content": null,
            "justify_items": null,
            "left": null,
            "margin": null,
            "max_height": null,
            "max_width": null,
            "min_height": null,
            "min_width": null,
            "object_fit": null,
            "object_position": null,
            "order": null,
            "overflow": null,
            "overflow_x": null,
            "overflow_y": null,
            "padding": null,
            "right": null,
            "top": null,
            "visibility": null,
            "width": null
          }
        },
        "4949e90538064336a2ea16f0e6bffa67": {
          "model_module": "@jupyter-widgets/controls",
          "model_name": "DescriptionStyleModel",
          "model_module_version": "1.5.0",
          "state": {
            "_model_module": "@jupyter-widgets/controls",
            "_model_module_version": "1.5.0",
            "_model_name": "DescriptionStyleModel",
            "_view_count": null,
            "_view_module": "@jupyter-widgets/base",
            "_view_module_version": "1.2.0",
            "_view_name": "StyleView",
            "description_width": ""
          }
        },
        "d9eb99b78c60427fb4a738b9cc3826c2": {
          "model_module": "@jupyter-widgets/controls",
          "model_name": "HBoxModel",
          "model_module_version": "1.5.0",
          "state": {
            "_dom_classes": [],
            "_model_module": "@jupyter-widgets/controls",
            "_model_module_version": "1.5.0",
            "_model_name": "HBoxModel",
            "_view_count": null,
            "_view_module": "@jupyter-widgets/controls",
            "_view_module_version": "1.5.0",
            "_view_name": "HBoxView",
            "box_style": "",
            "children": [
              "IPY_MODEL_ee1679a9b1eb4e75addaf5f1088e3ac4",
              "IPY_MODEL_2c90644267204ea287b80eb6eeb1237f",
              "IPY_MODEL_31cc579b63b0478d88da3ae4c2fb2534"
            ],
            "layout": "IPY_MODEL_6f22223c23544593a6fd32556b8e23f6"
          }
        },
        "ee1679a9b1eb4e75addaf5f1088e3ac4": {
          "model_module": "@jupyter-widgets/controls",
          "model_name": "HTMLModel",
          "model_module_version": "1.5.0",
          "state": {
            "_dom_classes": [],
            "_model_module": "@jupyter-widgets/controls",
            "_model_module_version": "1.5.0",
            "_model_name": "HTMLModel",
            "_view_count": null,
            "_view_module": "@jupyter-widgets/controls",
            "_view_module_version": "1.5.0",
            "_view_name": "HTMLView",
            "description": "",
            "description_tooltip": null,
            "layout": "IPY_MODEL_f8b88937d8814b188b19cac6ade6c192",
            "placeholder": "​",
            "style": "IPY_MODEL_f09b6166840146f59cedf4a72d00b0f4",
            "value": "(…)artifacts/tableformer/fat/tm_config.json: 100%"
          }
        },
        "2c90644267204ea287b80eb6eeb1237f": {
          "model_module": "@jupyter-widgets/controls",
          "model_name": "FloatProgressModel",
          "model_module_version": "1.5.0",
          "state": {
            "_dom_classes": [],
            "_model_module": "@jupyter-widgets/controls",
            "_model_module_version": "1.5.0",
            "_model_name": "FloatProgressModel",
            "_view_count": null,
            "_view_module": "@jupyter-widgets/controls",
            "_view_module_version": "1.5.0",
            "_view_name": "ProgressView",
            "bar_style": "success",
            "description": "",
            "description_tooltip": null,
            "layout": "IPY_MODEL_2fb203754c4e44ecb348aca26794098a",
            "max": 7087,
            "min": 0,
            "orientation": "horizontal",
            "style": "IPY_MODEL_2e928ccef5a241eab56eb5b3f131c640",
            "value": 7087
          }
        },
        "31cc579b63b0478d88da3ae4c2fb2534": {
          "model_module": "@jupyter-widgets/controls",
          "model_name": "HTMLModel",
          "model_module_version": "1.5.0",
          "state": {
            "_dom_classes": [],
            "_model_module": "@jupyter-widgets/controls",
            "_model_module_version": "1.5.0",
            "_model_name": "HTMLModel",
            "_view_count": null,
            "_view_module": "@jupyter-widgets/controls",
            "_view_module_version": "1.5.0",
            "_view_name": "HTMLView",
            "description": "",
            "description_tooltip": null,
            "layout": "IPY_MODEL_8e1796243e1d4808b56e39247b5bc228",
            "placeholder": "​",
            "style": "IPY_MODEL_1e4574582f7a49c8b53a0599a468dd72",
            "value": " 7.09k/7.09k [00:00&lt;00:00, 103kB/s]"
          }
        },
        "6f22223c23544593a6fd32556b8e23f6": {
          "model_module": "@jupyter-widgets/base",
          "model_name": "LayoutModel",
          "model_module_version": "1.2.0",
          "state": {
            "_model_module": "@jupyter-widgets/base",
            "_model_module_version": "1.2.0",
            "_model_name": "LayoutModel",
            "_view_count": null,
            "_view_module": "@jupyter-widgets/base",
            "_view_module_version": "1.2.0",
            "_view_name": "LayoutView",
            "align_content": null,
            "align_items": null,
            "align_self": null,
            "border": null,
            "bottom": null,
            "display": null,
            "flex": null,
            "flex_flow": null,
            "grid_area": null,
            "grid_auto_columns": null,
            "grid_auto_flow": null,
            "grid_auto_rows": null,
            "grid_column": null,
            "grid_gap": null,
            "grid_row": null,
            "grid_template_areas": null,
            "grid_template_columns": null,
            "grid_template_rows": null,
            "height": null,
            "justify_content": null,
            "justify_items": null,
            "left": null,
            "margin": null,
            "max_height": null,
            "max_width": null,
            "min_height": null,
            "min_width": null,
            "object_fit": null,
            "object_position": null,
            "order": null,
            "overflow": null,
            "overflow_x": null,
            "overflow_y": null,
            "padding": null,
            "right": null,
            "top": null,
            "visibility": null,
            "width": null
          }
        },
        "f8b88937d8814b188b19cac6ade6c192": {
          "model_module": "@jupyter-widgets/base",
          "model_name": "LayoutModel",
          "model_module_version": "1.2.0",
          "state": {
            "_model_module": "@jupyter-widgets/base",
            "_model_module_version": "1.2.0",
            "_model_name": "LayoutModel",
            "_view_count": null,
            "_view_module": "@jupyter-widgets/base",
            "_view_module_version": "1.2.0",
            "_view_name": "LayoutView",
            "align_content": null,
            "align_items": null,
            "align_self": null,
            "border": null,
            "bottom": null,
            "display": null,
            "flex": null,
            "flex_flow": null,
            "grid_area": null,
            "grid_auto_columns": null,
            "grid_auto_flow": null,
            "grid_auto_rows": null,
            "grid_column": null,
            "grid_gap": null,
            "grid_row": null,
            "grid_template_areas": null,
            "grid_template_columns": null,
            "grid_template_rows": null,
            "height": null,
            "justify_content": null,
            "justify_items": null,
            "left": null,
            "margin": null,
            "max_height": null,
            "max_width": null,
            "min_height": null,
            "min_width": null,
            "object_fit": null,
            "object_position": null,
            "order": null,
            "overflow": null,
            "overflow_x": null,
            "overflow_y": null,
            "padding": null,
            "right": null,
            "top": null,
            "visibility": null,
            "width": null
          }
        },
        "f09b6166840146f59cedf4a72d00b0f4": {
          "model_module": "@jupyter-widgets/controls",
          "model_name": "DescriptionStyleModel",
          "model_module_version": "1.5.0",
          "state": {
            "_model_module": "@jupyter-widgets/controls",
            "_model_module_version": "1.5.0",
            "_model_name": "DescriptionStyleModel",
            "_view_count": null,
            "_view_module": "@jupyter-widgets/base",
            "_view_module_version": "1.2.0",
            "_view_name": "StyleView",
            "description_width": ""
          }
        },
        "2fb203754c4e44ecb348aca26794098a": {
          "model_module": "@jupyter-widgets/base",
          "model_name": "LayoutModel",
          "model_module_version": "1.2.0",
          "state": {
            "_model_module": "@jupyter-widgets/base",
            "_model_module_version": "1.2.0",
            "_model_name": "LayoutModel",
            "_view_count": null,
            "_view_module": "@jupyter-widgets/base",
            "_view_module_version": "1.2.0",
            "_view_name": "LayoutView",
            "align_content": null,
            "align_items": null,
            "align_self": null,
            "border": null,
            "bottom": null,
            "display": null,
            "flex": null,
            "flex_flow": null,
            "grid_area": null,
            "grid_auto_columns": null,
            "grid_auto_flow": null,
            "grid_auto_rows": null,
            "grid_column": null,
            "grid_gap": null,
            "grid_row": null,
            "grid_template_areas": null,
            "grid_template_columns": null,
            "grid_template_rows": null,
            "height": null,
            "justify_content": null,
            "justify_items": null,
            "left": null,
            "margin": null,
            "max_height": null,
            "max_width": null,
            "min_height": null,
            "min_width": null,
            "object_fit": null,
            "object_position": null,
            "order": null,
            "overflow": null,
            "overflow_x": null,
            "overflow_y": null,
            "padding": null,
            "right": null,
            "top": null,
            "visibility": null,
            "width": null
          }
        },
        "2e928ccef5a241eab56eb5b3f131c640": {
          "model_module": "@jupyter-widgets/controls",
          "model_name": "ProgressStyleModel",
          "model_module_version": "1.5.0",
          "state": {
            "_model_module": "@jupyter-widgets/controls",
            "_model_module_version": "1.5.0",
            "_model_name": "ProgressStyleModel",
            "_view_count": null,
            "_view_module": "@jupyter-widgets/base",
            "_view_module_version": "1.2.0",
            "_view_name": "StyleView",
            "bar_color": null,
            "description_width": ""
          }
        },
        "8e1796243e1d4808b56e39247b5bc228": {
          "model_module": "@jupyter-widgets/base",
          "model_name": "LayoutModel",
          "model_module_version": "1.2.0",
          "state": {
            "_model_module": "@jupyter-widgets/base",
            "_model_module_version": "1.2.0",
            "_model_name": "LayoutModel",
            "_view_count": null,
            "_view_module": "@jupyter-widgets/base",
            "_view_module_version": "1.2.0",
            "_view_name": "LayoutView",
            "align_content": null,
            "align_items": null,
            "align_self": null,
            "border": null,
            "bottom": null,
            "display": null,
            "flex": null,
            "flex_flow": null,
            "grid_area": null,
            "grid_auto_columns": null,
            "grid_auto_flow": null,
            "grid_auto_rows": null,
            "grid_column": null,
            "grid_gap": null,
            "grid_row": null,
            "grid_template_areas": null,
            "grid_template_columns": null,
            "grid_template_rows": null,
            "height": null,
            "justify_content": null,
            "justify_items": null,
            "left": null,
            "margin": null,
            "max_height": null,
            "max_width": null,
            "min_height": null,
            "min_width": null,
            "object_fit": null,
            "object_position": null,
            "order": null,
            "overflow": null,
            "overflow_x": null,
            "overflow_y": null,
            "padding": null,
            "right": null,
            "top": null,
            "visibility": null,
            "width": null
          }
        },
        "1e4574582f7a49c8b53a0599a468dd72": {
          "model_module": "@jupyter-widgets/controls",
          "model_name": "DescriptionStyleModel",
          "model_module_version": "1.5.0",
          "state": {
            "_model_module": "@jupyter-widgets/controls",
            "_model_module_version": "1.5.0",
            "_model_name": "DescriptionStyleModel",
            "_view_count": null,
            "_view_module": "@jupyter-widgets/base",
            "_view_module_version": "1.2.0",
            "_view_name": "StyleView",
            "description_width": ""
          }
        },
        "6fc51f3a60e14ecd8912b8d5abccb34a": {
          "model_module": "@jupyter-widgets/controls",
          "model_name": "HBoxModel",
          "model_module_version": "1.5.0",
          "state": {
            "_dom_classes": [],
            "_model_module": "@jupyter-widgets/controls",
            "_model_module_version": "1.5.0",
            "_model_name": "HBoxModel",
            "_view_count": null,
            "_view_module": "@jupyter-widgets/controls",
            "_view_module_version": "1.5.0",
            "_view_name": "HBoxView",
            "box_style": "",
            "children": [
              "IPY_MODEL_098406a4cf11424d9df9cd366d0d1e51",
              "IPY_MODEL_9f2237fc49c247799114cb930a295c60",
              "IPY_MODEL_c9972fc7837845ce9befe6a9468eb10d"
            ],
            "layout": "IPY_MODEL_ab362d41936f4824bc449cd4ff1a67ba"
          }
        },
        "098406a4cf11424d9df9cd366d0d1e51": {
          "model_module": "@jupyter-widgets/controls",
          "model_name": "HTMLModel",
          "model_module_version": "1.5.0",
          "state": {
            "_dom_classes": [],
            "_model_module": "@jupyter-widgets/controls",
            "_model_module_version": "1.5.0",
            "_model_name": "HTMLModel",
            "_view_count": null,
            "_view_module": "@jupyter-widgets/controls",
            "_view_module_version": "1.5.0",
            "_view_name": "HTMLView",
            "description": "",
            "description_tooltip": null,
            "layout": "IPY_MODEL_6a5708fb741b4e6788e0293a232e7934",
            "placeholder": "​",
            "style": "IPY_MODEL_9554d9e67f8541c6aff6bc1222b92d99",
            "value": "README.md: 100%"
          }
        },
        "9f2237fc49c247799114cb930a295c60": {
          "model_module": "@jupyter-widgets/controls",
          "model_name": "FloatProgressModel",
          "model_module_version": "1.5.0",
          "state": {
            "_dom_classes": [],
            "_model_module": "@jupyter-widgets/controls",
            "_model_module_version": "1.5.0",
            "_model_name": "FloatProgressModel",
            "_view_count": null,
            "_view_module": "@jupyter-widgets/controls",
            "_view_module_version": "1.5.0",
            "_view_name": "ProgressView",
            "bar_style": "success",
            "description": "",
            "description_tooltip": null,
            "layout": "IPY_MODEL_65e2f708c73946b895bee5f215d78f47",
            "max": 3486,
            "min": 0,
            "orientation": "horizontal",
            "style": "IPY_MODEL_70195cda7a98446fa440f2eed05bebce",
            "value": 3486
          }
        },
        "c9972fc7837845ce9befe6a9468eb10d": {
          "model_module": "@jupyter-widgets/controls",
          "model_name": "HTMLModel",
          "model_module_version": "1.5.0",
          "state": {
            "_dom_classes": [],
            "_model_module": "@jupyter-widgets/controls",
            "_model_module_version": "1.5.0",
            "_model_name": "HTMLModel",
            "_view_count": null,
            "_view_module": "@jupyter-widgets/controls",
            "_view_module_version": "1.5.0",
            "_view_name": "HTMLView",
            "description": "",
            "description_tooltip": null,
            "layout": "IPY_MODEL_a36a1eb9760542299f7ac9037b5b81fa",
            "placeholder": "​",
            "style": "IPY_MODEL_4caf7132aaa0464d8056c1fd5899d342",
            "value": " 3.49k/3.49k [00:00&lt;00:00, 64.2kB/s]"
          }
        },
        "ab362d41936f4824bc449cd4ff1a67ba": {
          "model_module": "@jupyter-widgets/base",
          "model_name": "LayoutModel",
          "model_module_version": "1.2.0",
          "state": {
            "_model_module": "@jupyter-widgets/base",
            "_model_module_version": "1.2.0",
            "_model_name": "LayoutModel",
            "_view_count": null,
            "_view_module": "@jupyter-widgets/base",
            "_view_module_version": "1.2.0",
            "_view_name": "LayoutView",
            "align_content": null,
            "align_items": null,
            "align_self": null,
            "border": null,
            "bottom": null,
            "display": null,
            "flex": null,
            "flex_flow": null,
            "grid_area": null,
            "grid_auto_columns": null,
            "grid_auto_flow": null,
            "grid_auto_rows": null,
            "grid_column": null,
            "grid_gap": null,
            "grid_row": null,
            "grid_template_areas": null,
            "grid_template_columns": null,
            "grid_template_rows": null,
            "height": null,
            "justify_content": null,
            "justify_items": null,
            "left": null,
            "margin": null,
            "max_height": null,
            "max_width": null,
            "min_height": null,
            "min_width": null,
            "object_fit": null,
            "object_position": null,
            "order": null,
            "overflow": null,
            "overflow_x": null,
            "overflow_y": null,
            "padding": null,
            "right": null,
            "top": null,
            "visibility": null,
            "width": null
          }
        },
        "6a5708fb741b4e6788e0293a232e7934": {
          "model_module": "@jupyter-widgets/base",
          "model_name": "LayoutModel",
          "model_module_version": "1.2.0",
          "state": {
            "_model_module": "@jupyter-widgets/base",
            "_model_module_version": "1.2.0",
            "_model_name": "LayoutModel",
            "_view_count": null,
            "_view_module": "@jupyter-widgets/base",
            "_view_module_version": "1.2.0",
            "_view_name": "LayoutView",
            "align_content": null,
            "align_items": null,
            "align_self": null,
            "border": null,
            "bottom": null,
            "display": null,
            "flex": null,
            "flex_flow": null,
            "grid_area": null,
            "grid_auto_columns": null,
            "grid_auto_flow": null,
            "grid_auto_rows": null,
            "grid_column": null,
            "grid_gap": null,
            "grid_row": null,
            "grid_template_areas": null,
            "grid_template_columns": null,
            "grid_template_rows": null,
            "height": null,
            "justify_content": null,
            "justify_items": null,
            "left": null,
            "margin": null,
            "max_height": null,
            "max_width": null,
            "min_height": null,
            "min_width": null,
            "object_fit": null,
            "object_position": null,
            "order": null,
            "overflow": null,
            "overflow_x": null,
            "overflow_y": null,
            "padding": null,
            "right": null,
            "top": null,
            "visibility": null,
            "width": null
          }
        },
        "9554d9e67f8541c6aff6bc1222b92d99": {
          "model_module": "@jupyter-widgets/controls",
          "model_name": "DescriptionStyleModel",
          "model_module_version": "1.5.0",
          "state": {
            "_model_module": "@jupyter-widgets/controls",
            "_model_module_version": "1.5.0",
            "_model_name": "DescriptionStyleModel",
            "_view_count": null,
            "_view_module": "@jupyter-widgets/base",
            "_view_module_version": "1.2.0",
            "_view_name": "StyleView",
            "description_width": ""
          }
        },
        "65e2f708c73946b895bee5f215d78f47": {
          "model_module": "@jupyter-widgets/base",
          "model_name": "LayoutModel",
          "model_module_version": "1.2.0",
          "state": {
            "_model_module": "@jupyter-widgets/base",
            "_model_module_version": "1.2.0",
            "_model_name": "LayoutModel",
            "_view_count": null,
            "_view_module": "@jupyter-widgets/base",
            "_view_module_version": "1.2.0",
            "_view_name": "LayoutView",
            "align_content": null,
            "align_items": null,
            "align_self": null,
            "border": null,
            "bottom": null,
            "display": null,
            "flex": null,
            "flex_flow": null,
            "grid_area": null,
            "grid_auto_columns": null,
            "grid_auto_flow": null,
            "grid_auto_rows": null,
            "grid_column": null,
            "grid_gap": null,
            "grid_row": null,
            "grid_template_areas": null,
            "grid_template_columns": null,
            "grid_template_rows": null,
            "height": null,
            "justify_content": null,
            "justify_items": null,
            "left": null,
            "margin": null,
            "max_height": null,
            "max_width": null,
            "min_height": null,
            "min_width": null,
            "object_fit": null,
            "object_position": null,
            "order": null,
            "overflow": null,
            "overflow_x": null,
            "overflow_y": null,
            "padding": null,
            "right": null,
            "top": null,
            "visibility": null,
            "width": null
          }
        },
        "70195cda7a98446fa440f2eed05bebce": {
          "model_module": "@jupyter-widgets/controls",
          "model_name": "ProgressStyleModel",
          "model_module_version": "1.5.0",
          "state": {
            "_model_module": "@jupyter-widgets/controls",
            "_model_module_version": "1.5.0",
            "_model_name": "ProgressStyleModel",
            "_view_count": null,
            "_view_module": "@jupyter-widgets/base",
            "_view_module_version": "1.2.0",
            "_view_name": "StyleView",
            "bar_color": null,
            "description_width": ""
          }
        },
        "a36a1eb9760542299f7ac9037b5b81fa": {
          "model_module": "@jupyter-widgets/base",
          "model_name": "LayoutModel",
          "model_module_version": "1.2.0",
          "state": {
            "_model_module": "@jupyter-widgets/base",
            "_model_module_version": "1.2.0",
            "_model_name": "LayoutModel",
            "_view_count": null,
            "_view_module": "@jupyter-widgets/base",
            "_view_module_version": "1.2.0",
            "_view_name": "LayoutView",
            "align_content": null,
            "align_items": null,
            "align_self": null,
            "border": null,
            "bottom": null,
            "display": null,
            "flex": null,
            "flex_flow": null,
            "grid_area": null,
            "grid_auto_columns": null,
            "grid_auto_flow": null,
            "grid_auto_rows": null,
            "grid_column": null,
            "grid_gap": null,
            "grid_row": null,
            "grid_template_areas": null,
            "grid_template_columns": null,
            "grid_template_rows": null,
            "height": null,
            "justify_content": null,
            "justify_items": null,
            "left": null,
            "margin": null,
            "max_height": null,
            "max_width": null,
            "min_height": null,
            "min_width": null,
            "object_fit": null,
            "object_position": null,
            "order": null,
            "overflow": null,
            "overflow_x": null,
            "overflow_y": null,
            "padding": null,
            "right": null,
            "top": null,
            "visibility": null,
            "width": null
          }
        },
        "4caf7132aaa0464d8056c1fd5899d342": {
          "model_module": "@jupyter-widgets/controls",
          "model_name": "DescriptionStyleModel",
          "model_module_version": "1.5.0",
          "state": {
            "_model_module": "@jupyter-widgets/controls",
            "_model_module_version": "1.5.0",
            "_model_name": "DescriptionStyleModel",
            "_view_count": null,
            "_view_module": "@jupyter-widgets/base",
            "_view_module_version": "1.2.0",
            "_view_name": "StyleView",
            "description_width": ""
          }
        },
        "f5363dfd1a6448749373a64d73670e8a": {
          "model_module": "@jupyter-widgets/controls",
          "model_name": "HBoxModel",
          "model_module_version": "1.5.0",
          "state": {
            "_dom_classes": [],
            "_model_module": "@jupyter-widgets/controls",
            "_model_module_version": "1.5.0",
            "_model_name": "HBoxModel",
            "_view_count": null,
            "_view_module": "@jupyter-widgets/controls",
            "_view_module_version": "1.5.0",
            "_view_name": "HBoxView",
            "box_style": "",
            "children": [
              "IPY_MODEL_00f52ff7f2e24035b59edab6de4d2677",
              "IPY_MODEL_e07c02d256984e3aae6d8074c6b6d1b3",
              "IPY_MODEL_1031b35b071c443ab2bbf74ee1270939"
            ],
            "layout": "IPY_MODEL_590b10b8657c43faaffd4b4f320384bf"
          }
        },
        "00f52ff7f2e24035b59edab6de4d2677": {
          "model_module": "@jupyter-widgets/controls",
          "model_name": "HTMLModel",
          "model_module_version": "1.5.0",
          "state": {
            "_dom_classes": [],
            "_model_module": "@jupyter-widgets/controls",
            "_model_module_version": "1.5.0",
            "_model_name": "HTMLModel",
            "_view_count": null,
            "_view_module": "@jupyter-widgets/controls",
            "_view_module_version": "1.5.0",
            "_view_name": "HTMLView",
            "description": "",
            "description_tooltip": null,
            "layout": "IPY_MODEL_d1f7e70659cb4cccbd80cb14fb3e6e4d",
            "placeholder": "​",
            "style": "IPY_MODEL_0247497540e34839bc52c81a3d19d40d",
            "value": "otslp_all_standard_094_clean.check: 100%"
          }
        },
        "e07c02d256984e3aae6d8074c6b6d1b3": {
          "model_module": "@jupyter-widgets/controls",
          "model_name": "FloatProgressModel",
          "model_module_version": "1.5.0",
          "state": {
            "_dom_classes": [],
            "_model_module": "@jupyter-widgets/controls",
            "_model_module_version": "1.5.0",
            "_model_name": "FloatProgressModel",
            "_view_count": null,
            "_view_module": "@jupyter-widgets/controls",
            "_view_module_version": "1.5.0",
            "_view_name": "ProgressView",
            "bar_style": "success",
            "description": "",
            "description_tooltip": null,
            "layout": "IPY_MODEL_74971a9abaaa4059a7adfe6f3e276a95",
            "max": 212845885,
            "min": 0,
            "orientation": "horizontal",
            "style": "IPY_MODEL_8621d36742bf4e85a694472de331c945",
            "value": 212845885
          }
        },
        "1031b35b071c443ab2bbf74ee1270939": {
          "model_module": "@jupyter-widgets/controls",
          "model_name": "HTMLModel",
          "model_module_version": "1.5.0",
          "state": {
            "_dom_classes": [],
            "_model_module": "@jupyter-widgets/controls",
            "_model_module_version": "1.5.0",
            "_model_name": "HTMLModel",
            "_view_count": null,
            "_view_module": "@jupyter-widgets/controls",
            "_view_module_version": "1.5.0",
            "_view_name": "HTMLView",
            "description": "",
            "description_tooltip": null,
            "layout": "IPY_MODEL_845590918db04049b2e3bc0b53726b3f",
            "placeholder": "​",
            "style": "IPY_MODEL_23187dcdb51642f188801db63c21ed84",
            "value": " 213M/213M [00:05&lt;00:00, 42.2MB/s]"
          }
        },
        "590b10b8657c43faaffd4b4f320384bf": {
          "model_module": "@jupyter-widgets/base",
          "model_name": "LayoutModel",
          "model_module_version": "1.2.0",
          "state": {
            "_model_module": "@jupyter-widgets/base",
            "_model_module_version": "1.2.0",
            "_model_name": "LayoutModel",
            "_view_count": null,
            "_view_module": "@jupyter-widgets/base",
            "_view_module_version": "1.2.0",
            "_view_name": "LayoutView",
            "align_content": null,
            "align_items": null,
            "align_self": null,
            "border": null,
            "bottom": null,
            "display": null,
            "flex": null,
            "flex_flow": null,
            "grid_area": null,
            "grid_auto_columns": null,
            "grid_auto_flow": null,
            "grid_auto_rows": null,
            "grid_column": null,
            "grid_gap": null,
            "grid_row": null,
            "grid_template_areas": null,
            "grid_template_columns": null,
            "grid_template_rows": null,
            "height": null,
            "justify_content": null,
            "justify_items": null,
            "left": null,
            "margin": null,
            "max_height": null,
            "max_width": null,
            "min_height": null,
            "min_width": null,
            "object_fit": null,
            "object_position": null,
            "order": null,
            "overflow": null,
            "overflow_x": null,
            "overflow_y": null,
            "padding": null,
            "right": null,
            "top": null,
            "visibility": null,
            "width": null
          }
        },
        "d1f7e70659cb4cccbd80cb14fb3e6e4d": {
          "model_module": "@jupyter-widgets/base",
          "model_name": "LayoutModel",
          "model_module_version": "1.2.0",
          "state": {
            "_model_module": "@jupyter-widgets/base",
            "_model_module_version": "1.2.0",
            "_model_name": "LayoutModel",
            "_view_count": null,
            "_view_module": "@jupyter-widgets/base",
            "_view_module_version": "1.2.0",
            "_view_name": "LayoutView",
            "align_content": null,
            "align_items": null,
            "align_self": null,
            "border": null,
            "bottom": null,
            "display": null,
            "flex": null,
            "flex_flow": null,
            "grid_area": null,
            "grid_auto_columns": null,
            "grid_auto_flow": null,
            "grid_auto_rows": null,
            "grid_column": null,
            "grid_gap": null,
            "grid_row": null,
            "grid_template_areas": null,
            "grid_template_columns": null,
            "grid_template_rows": null,
            "height": null,
            "justify_content": null,
            "justify_items": null,
            "left": null,
            "margin": null,
            "max_height": null,
            "max_width": null,
            "min_height": null,
            "min_width": null,
            "object_fit": null,
            "object_position": null,
            "order": null,
            "overflow": null,
            "overflow_x": null,
            "overflow_y": null,
            "padding": null,
            "right": null,
            "top": null,
            "visibility": null,
            "width": null
          }
        },
        "0247497540e34839bc52c81a3d19d40d": {
          "model_module": "@jupyter-widgets/controls",
          "model_name": "DescriptionStyleModel",
          "model_module_version": "1.5.0",
          "state": {
            "_model_module": "@jupyter-widgets/controls",
            "_model_module_version": "1.5.0",
            "_model_name": "DescriptionStyleModel",
            "_view_count": null,
            "_view_module": "@jupyter-widgets/base",
            "_view_module_version": "1.2.0",
            "_view_name": "StyleView",
            "description_width": ""
          }
        },
        "74971a9abaaa4059a7adfe6f3e276a95": {
          "model_module": "@jupyter-widgets/base",
          "model_name": "LayoutModel",
          "model_module_version": "1.2.0",
          "state": {
            "_model_module": "@jupyter-widgets/base",
            "_model_module_version": "1.2.0",
            "_model_name": "LayoutModel",
            "_view_count": null,
            "_view_module": "@jupyter-widgets/base",
            "_view_module_version": "1.2.0",
            "_view_name": "LayoutView",
            "align_content": null,
            "align_items": null,
            "align_self": null,
            "border": null,
            "bottom": null,
            "display": null,
            "flex": null,
            "flex_flow": null,
            "grid_area": null,
            "grid_auto_columns": null,
            "grid_auto_flow": null,
            "grid_auto_rows": null,
            "grid_column": null,
            "grid_gap": null,
            "grid_row": null,
            "grid_template_areas": null,
            "grid_template_columns": null,
            "grid_template_rows": null,
            "height": null,
            "justify_content": null,
            "justify_items": null,
            "left": null,
            "margin": null,
            "max_height": null,
            "max_width": null,
            "min_height": null,
            "min_width": null,
            "object_fit": null,
            "object_position": null,
            "order": null,
            "overflow": null,
            "overflow_x": null,
            "overflow_y": null,
            "padding": null,
            "right": null,
            "top": null,
            "visibility": null,
            "width": null
          }
        },
        "8621d36742bf4e85a694472de331c945": {
          "model_module": "@jupyter-widgets/controls",
          "model_name": "ProgressStyleModel",
          "model_module_version": "1.5.0",
          "state": {
            "_model_module": "@jupyter-widgets/controls",
            "_model_module_version": "1.5.0",
            "_model_name": "ProgressStyleModel",
            "_view_count": null,
            "_view_module": "@jupyter-widgets/base",
            "_view_module_version": "1.2.0",
            "_view_name": "StyleView",
            "bar_color": null,
            "description_width": ""
          }
        },
        "845590918db04049b2e3bc0b53726b3f": {
          "model_module": "@jupyter-widgets/base",
          "model_name": "LayoutModel",
          "model_module_version": "1.2.0",
          "state": {
            "_model_module": "@jupyter-widgets/base",
            "_model_module_version": "1.2.0",
            "_model_name": "LayoutModel",
            "_view_count": null,
            "_view_module": "@jupyter-widgets/base",
            "_view_module_version": "1.2.0",
            "_view_name": "LayoutView",
            "align_content": null,
            "align_items": null,
            "align_self": null,
            "border": null,
            "bottom": null,
            "display": null,
            "flex": null,
            "flex_flow": null,
            "grid_area": null,
            "grid_auto_columns": null,
            "grid_auto_flow": null,
            "grid_auto_rows": null,
            "grid_column": null,
            "grid_gap": null,
            "grid_row": null,
            "grid_template_areas": null,
            "grid_template_columns": null,
            "grid_template_rows": null,
            "height": null,
            "justify_content": null,
            "justify_items": null,
            "left": null,
            "margin": null,
            "max_height": null,
            "max_width": null,
            "min_height": null,
            "min_width": null,
            "object_fit": null,
            "object_position": null,
            "order": null,
            "overflow": null,
            "overflow_x": null,
            "overflow_y": null,
            "padding": null,
            "right": null,
            "top": null,
            "visibility": null,
            "width": null
          }
        },
        "23187dcdb51642f188801db63c21ed84": {
          "model_module": "@jupyter-widgets/controls",
          "model_name": "DescriptionStyleModel",
          "model_module_version": "1.5.0",
          "state": {
            "_model_module": "@jupyter-widgets/controls",
            "_model_module_version": "1.5.0",
            "_model_name": "DescriptionStyleModel",
            "_view_count": null,
            "_view_module": "@jupyter-widgets/base",
            "_view_module_version": "1.2.0",
            "_view_name": "StyleView",
            "description_width": ""
          }
        },
        "91c7c8c83ab04f45a9cabb061920f2b2": {
          "model_module": "@jupyter-widgets/controls",
          "model_name": "HBoxModel",
          "model_module_version": "1.5.0",
          "state": {
            "_dom_classes": [],
            "_model_module": "@jupyter-widgets/controls",
            "_model_module_version": "1.5.0",
            "_model_name": "HBoxModel",
            "_view_count": null,
            "_view_module": "@jupyter-widgets/controls",
            "_view_module_version": "1.5.0",
            "_view_name": "HBoxView",
            "box_style": "",
            "children": [
              "IPY_MODEL_9e14ebb25d18400788859940d740326a",
              "IPY_MODEL_d2d8454cc549431880901c9f2328e7a7",
              "IPY_MODEL_0c5c2382be134f7aa53a827dbb8ee520"
            ],
            "layout": "IPY_MODEL_0a359af32ea14dd48f18f7ca35a6b7be"
          }
        },
        "9e14ebb25d18400788859940d740326a": {
          "model_module": "@jupyter-widgets/controls",
          "model_name": "HTMLModel",
          "model_module_version": "1.5.0",
          "state": {
            "_dom_classes": [],
            "_model_module": "@jupyter-widgets/controls",
            "_model_module_version": "1.5.0",
            "_model_name": "HTMLModel",
            "_view_count": null,
            "_view_module": "@jupyter-widgets/controls",
            "_view_module_version": "1.5.0",
            "_view_name": "HTMLView",
            "description": "",
            "description_tooltip": null,
            "layout": "IPY_MODEL_63946f1ab8484830ae5e7e99e46ace5a",
            "placeholder": "​",
            "style": "IPY_MODEL_81b7ce3a1a1b43d7b6192a8ebc7e7ffb",
            "value": ".gitignore: 100%"
          }
        },
        "d2d8454cc549431880901c9f2328e7a7": {
          "model_module": "@jupyter-widgets/controls",
          "model_name": "FloatProgressModel",
          "model_module_version": "1.5.0",
          "state": {
            "_dom_classes": [],
            "_model_module": "@jupyter-widgets/controls",
            "_model_module_version": "1.5.0",
            "_model_name": "FloatProgressModel",
            "_view_count": null,
            "_view_module": "@jupyter-widgets/controls",
            "_view_module_version": "1.5.0",
            "_view_name": "ProgressView",
            "bar_style": "success",
            "description": "",
            "description_tooltip": null,
            "layout": "IPY_MODEL_0da964c5b97f49e29d30e31896ba9809",
            "max": 5180,
            "min": 0,
            "orientation": "horizontal",
            "style": "IPY_MODEL_f0fd1eeb792e4a4fb7f03035b50b304e",
            "value": 5180
          }
        },
        "0c5c2382be134f7aa53a827dbb8ee520": {
          "model_module": "@jupyter-widgets/controls",
          "model_name": "HTMLModel",
          "model_module_version": "1.5.0",
          "state": {
            "_dom_classes": [],
            "_model_module": "@jupyter-widgets/controls",
            "_model_module_version": "1.5.0",
            "_model_name": "HTMLModel",
            "_view_count": null,
            "_view_module": "@jupyter-widgets/controls",
            "_view_module_version": "1.5.0",
            "_view_name": "HTMLView",
            "description": "",
            "description_tooltip": null,
            "layout": "IPY_MODEL_b47ceca8c39342d0b3113fc249346a99",
            "placeholder": "​",
            "style": "IPY_MODEL_2388f726f3c44b639f8048b6212f3e7e",
            "value": " 5.18k/5.18k [00:00&lt;00:00, 124kB/s]"
          }
        },
        "0a359af32ea14dd48f18f7ca35a6b7be": {
          "model_module": "@jupyter-widgets/base",
          "model_name": "LayoutModel",
          "model_module_version": "1.2.0",
          "state": {
            "_model_module": "@jupyter-widgets/base",
            "_model_module_version": "1.2.0",
            "_model_name": "LayoutModel",
            "_view_count": null,
            "_view_module": "@jupyter-widgets/base",
            "_view_module_version": "1.2.0",
            "_view_name": "LayoutView",
            "align_content": null,
            "align_items": null,
            "align_self": null,
            "border": null,
            "bottom": null,
            "display": null,
            "flex": null,
            "flex_flow": null,
            "grid_area": null,
            "grid_auto_columns": null,
            "grid_auto_flow": null,
            "grid_auto_rows": null,
            "grid_column": null,
            "grid_gap": null,
            "grid_row": null,
            "grid_template_areas": null,
            "grid_template_columns": null,
            "grid_template_rows": null,
            "height": null,
            "justify_content": null,
            "justify_items": null,
            "left": null,
            "margin": null,
            "max_height": null,
            "max_width": null,
            "min_height": null,
            "min_width": null,
            "object_fit": null,
            "object_position": null,
            "order": null,
            "overflow": null,
            "overflow_x": null,
            "overflow_y": null,
            "padding": null,
            "right": null,
            "top": null,
            "visibility": null,
            "width": null
          }
        },
        "63946f1ab8484830ae5e7e99e46ace5a": {
          "model_module": "@jupyter-widgets/base",
          "model_name": "LayoutModel",
          "model_module_version": "1.2.0",
          "state": {
            "_model_module": "@jupyter-widgets/base",
            "_model_module_version": "1.2.0",
            "_model_name": "LayoutModel",
            "_view_count": null,
            "_view_module": "@jupyter-widgets/base",
            "_view_module_version": "1.2.0",
            "_view_name": "LayoutView",
            "align_content": null,
            "align_items": null,
            "align_self": null,
            "border": null,
            "bottom": null,
            "display": null,
            "flex": null,
            "flex_flow": null,
            "grid_area": null,
            "grid_auto_columns": null,
            "grid_auto_flow": null,
            "grid_auto_rows": null,
            "grid_column": null,
            "grid_gap": null,
            "grid_row": null,
            "grid_template_areas": null,
            "grid_template_columns": null,
            "grid_template_rows": null,
            "height": null,
            "justify_content": null,
            "justify_items": null,
            "left": null,
            "margin": null,
            "max_height": null,
            "max_width": null,
            "min_height": null,
            "min_width": null,
            "object_fit": null,
            "object_position": null,
            "order": null,
            "overflow": null,
            "overflow_x": null,
            "overflow_y": null,
            "padding": null,
            "right": null,
            "top": null,
            "visibility": null,
            "width": null
          }
        },
        "81b7ce3a1a1b43d7b6192a8ebc7e7ffb": {
          "model_module": "@jupyter-widgets/controls",
          "model_name": "DescriptionStyleModel",
          "model_module_version": "1.5.0",
          "state": {
            "_model_module": "@jupyter-widgets/controls",
            "_model_module_version": "1.5.0",
            "_model_name": "DescriptionStyleModel",
            "_view_count": null,
            "_view_module": "@jupyter-widgets/base",
            "_view_module_version": "1.2.0",
            "_view_name": "StyleView",
            "description_width": ""
          }
        },
        "0da964c5b97f49e29d30e31896ba9809": {
          "model_module": "@jupyter-widgets/base",
          "model_name": "LayoutModel",
          "model_module_version": "1.2.0",
          "state": {
            "_model_module": "@jupyter-widgets/base",
            "_model_module_version": "1.2.0",
            "_model_name": "LayoutModel",
            "_view_count": null,
            "_view_module": "@jupyter-widgets/base",
            "_view_module_version": "1.2.0",
            "_view_name": "LayoutView",
            "align_content": null,
            "align_items": null,
            "align_self": null,
            "border": null,
            "bottom": null,
            "display": null,
            "flex": null,
            "flex_flow": null,
            "grid_area": null,
            "grid_auto_columns": null,
            "grid_auto_flow": null,
            "grid_auto_rows": null,
            "grid_column": null,
            "grid_gap": null,
            "grid_row": null,
            "grid_template_areas": null,
            "grid_template_columns": null,
            "grid_template_rows": null,
            "height": null,
            "justify_content": null,
            "justify_items": null,
            "left": null,
            "margin": null,
            "max_height": null,
            "max_width": null,
            "min_height": null,
            "min_width": null,
            "object_fit": null,
            "object_position": null,
            "order": null,
            "overflow": null,
            "overflow_x": null,
            "overflow_y": null,
            "padding": null,
            "right": null,
            "top": null,
            "visibility": null,
            "width": null
          }
        },
        "f0fd1eeb792e4a4fb7f03035b50b304e": {
          "model_module": "@jupyter-widgets/controls",
          "model_name": "ProgressStyleModel",
          "model_module_version": "1.5.0",
          "state": {
            "_model_module": "@jupyter-widgets/controls",
            "_model_module_version": "1.5.0",
            "_model_name": "ProgressStyleModel",
            "_view_count": null,
            "_view_module": "@jupyter-widgets/base",
            "_view_module_version": "1.2.0",
            "_view_name": "StyleView",
            "bar_color": null,
            "description_width": ""
          }
        },
        "b47ceca8c39342d0b3113fc249346a99": {
          "model_module": "@jupyter-widgets/base",
          "model_name": "LayoutModel",
          "model_module_version": "1.2.0",
          "state": {
            "_model_module": "@jupyter-widgets/base",
            "_model_module_version": "1.2.0",
            "_model_name": "LayoutModel",
            "_view_count": null,
            "_view_module": "@jupyter-widgets/base",
            "_view_module_version": "1.2.0",
            "_view_name": "LayoutView",
            "align_content": null,
            "align_items": null,
            "align_self": null,
            "border": null,
            "bottom": null,
            "display": null,
            "flex": null,
            "flex_flow": null,
            "grid_area": null,
            "grid_auto_columns": null,
            "grid_auto_flow": null,
            "grid_auto_rows": null,
            "grid_column": null,
            "grid_gap": null,
            "grid_row": null,
            "grid_template_areas": null,
            "grid_template_columns": null,
            "grid_template_rows": null,
            "height": null,
            "justify_content": null,
            "justify_items": null,
            "left": null,
            "margin": null,
            "max_height": null,
            "max_width": null,
            "min_height": null,
            "min_width": null,
            "object_fit": null,
            "object_position": null,
            "order": null,
            "overflow": null,
            "overflow_x": null,
            "overflow_y": null,
            "padding": null,
            "right": null,
            "top": null,
            "visibility": null,
            "width": null
          }
        },
        "2388f726f3c44b639f8048b6212f3e7e": {
          "model_module": "@jupyter-widgets/controls",
          "model_name": "DescriptionStyleModel",
          "model_module_version": "1.5.0",
          "state": {
            "_model_module": "@jupyter-widgets/controls",
            "_model_module_version": "1.5.0",
            "_model_name": "DescriptionStyleModel",
            "_view_count": null,
            "_view_module": "@jupyter-widgets/base",
            "_view_module_version": "1.2.0",
            "_view_name": "StyleView",
            "description_width": ""
          }
        },
        "dc9fd613edf64300a71cbb1bfd88a7a6": {
          "model_module": "@jupyter-widgets/controls",
          "model_name": "HBoxModel",
          "model_module_version": "1.5.0",
          "state": {
            "_dom_classes": [],
            "_model_module": "@jupyter-widgets/controls",
            "_model_module_version": "1.5.0",
            "_model_name": "HBoxModel",
            "_view_count": null,
            "_view_module": "@jupyter-widgets/controls",
            "_view_module_version": "1.5.0",
            "_view_name": "HBoxView",
            "box_style": "",
            "children": [
              "IPY_MODEL_e59748bf7b204f718ca3b54018b2ed5a",
              "IPY_MODEL_66c7a872bce9459d87aa9d8bbab2be05",
              "IPY_MODEL_d6a3e5255d86423280744cc3c6c68b57"
            ],
            "layout": "IPY_MODEL_d91b50cf13e149c9a492b7a6c707da4f"
          }
        },
        "e59748bf7b204f718ca3b54018b2ed5a": {
          "model_module": "@jupyter-widgets/controls",
          "model_name": "HTMLModel",
          "model_module_version": "1.5.0",
          "state": {
            "_dom_classes": [],
            "_model_module": "@jupyter-widgets/controls",
            "_model_module_version": "1.5.0",
            "_model_name": "HTMLModel",
            "_view_count": null,
            "_view_module": "@jupyter-widgets/controls",
            "_view_module_version": "1.5.0",
            "_view_name": "HTMLView",
            "description": "",
            "description_tooltip": null,
            "layout": "IPY_MODEL_33fdd8e21aa34702a2f5256bc42cf934",
            "placeholder": "​",
            "style": "IPY_MODEL_9ea7801a2b1f4c05a7ed2841769bc806",
            "value": "config.json: 100%"
          }
        },
        "66c7a872bce9459d87aa9d8bbab2be05": {
          "model_module": "@jupyter-widgets/controls",
          "model_name": "FloatProgressModel",
          "model_module_version": "1.5.0",
          "state": {
            "_dom_classes": [],
            "_model_module": "@jupyter-widgets/controls",
            "_model_module_version": "1.5.0",
            "_model_name": "FloatProgressModel",
            "_view_count": null,
            "_view_module": "@jupyter-widgets/controls",
            "_view_module_version": "1.5.0",
            "_view_name": "ProgressView",
            "bar_style": "success",
            "description": "",
            "description_tooltip": null,
            "layout": "IPY_MODEL_b842bb2703c848cba2ec4376f1d2008c",
            "max": 41,
            "min": 0,
            "orientation": "horizontal",
            "style": "IPY_MODEL_2fffc91fd83f45f78f873c547cd85d2a",
            "value": 41
          }
        },
        "d6a3e5255d86423280744cc3c6c68b57": {
          "model_module": "@jupyter-widgets/controls",
          "model_name": "HTMLModel",
          "model_module_version": "1.5.0",
          "state": {
            "_dom_classes": [],
            "_model_module": "@jupyter-widgets/controls",
            "_model_module_version": "1.5.0",
            "_model_name": "HTMLModel",
            "_view_count": null,
            "_view_module": "@jupyter-widgets/controls",
            "_view_module_version": "1.5.0",
            "_view_name": "HTMLView",
            "description": "",
            "description_tooltip": null,
            "layout": "IPY_MODEL_77606700c7244df8b96d891b7f65960d",
            "placeholder": "​",
            "style": "IPY_MODEL_529703206f0b4747a4d4e08ae3736971",
            "value": " 41.0/41.0 [00:00&lt;00:00, 790B/s]"
          }
        },
        "d91b50cf13e149c9a492b7a6c707da4f": {
          "model_module": "@jupyter-widgets/base",
          "model_name": "LayoutModel",
          "model_module_version": "1.2.0",
          "state": {
            "_model_module": "@jupyter-widgets/base",
            "_model_module_version": "1.2.0",
            "_model_name": "LayoutModel",
            "_view_count": null,
            "_view_module": "@jupyter-widgets/base",
            "_view_module_version": "1.2.0",
            "_view_name": "LayoutView",
            "align_content": null,
            "align_items": null,
            "align_self": null,
            "border": null,
            "bottom": null,
            "display": null,
            "flex": null,
            "flex_flow": null,
            "grid_area": null,
            "grid_auto_columns": null,
            "grid_auto_flow": null,
            "grid_auto_rows": null,
            "grid_column": null,
            "grid_gap": null,
            "grid_row": null,
            "grid_template_areas": null,
            "grid_template_columns": null,
            "grid_template_rows": null,
            "height": null,
            "justify_content": null,
            "justify_items": null,
            "left": null,
            "margin": null,
            "max_height": null,
            "max_width": null,
            "min_height": null,
            "min_width": null,
            "object_fit": null,
            "object_position": null,
            "order": null,
            "overflow": null,
            "overflow_x": null,
            "overflow_y": null,
            "padding": null,
            "right": null,
            "top": null,
            "visibility": null,
            "width": null
          }
        },
        "33fdd8e21aa34702a2f5256bc42cf934": {
          "model_module": "@jupyter-widgets/base",
          "model_name": "LayoutModel",
          "model_module_version": "1.2.0",
          "state": {
            "_model_module": "@jupyter-widgets/base",
            "_model_module_version": "1.2.0",
            "_model_name": "LayoutModel",
            "_view_count": null,
            "_view_module": "@jupyter-widgets/base",
            "_view_module_version": "1.2.0",
            "_view_name": "LayoutView",
            "align_content": null,
            "align_items": null,
            "align_self": null,
            "border": null,
            "bottom": null,
            "display": null,
            "flex": null,
            "flex_flow": null,
            "grid_area": null,
            "grid_auto_columns": null,
            "grid_auto_flow": null,
            "grid_auto_rows": null,
            "grid_column": null,
            "grid_gap": null,
            "grid_row": null,
            "grid_template_areas": null,
            "grid_template_columns": null,
            "grid_template_rows": null,
            "height": null,
            "justify_content": null,
            "justify_items": null,
            "left": null,
            "margin": null,
            "max_height": null,
            "max_width": null,
            "min_height": null,
            "min_width": null,
            "object_fit": null,
            "object_position": null,
            "order": null,
            "overflow": null,
            "overflow_x": null,
            "overflow_y": null,
            "padding": null,
            "right": null,
            "top": null,
            "visibility": null,
            "width": null
          }
        },
        "9ea7801a2b1f4c05a7ed2841769bc806": {
          "model_module": "@jupyter-widgets/controls",
          "model_name": "DescriptionStyleModel",
          "model_module_version": "1.5.0",
          "state": {
            "_model_module": "@jupyter-widgets/controls",
            "_model_module_version": "1.5.0",
            "_model_name": "DescriptionStyleModel",
            "_view_count": null,
            "_view_module": "@jupyter-widgets/base",
            "_view_module_version": "1.2.0",
            "_view_name": "StyleView",
            "description_width": ""
          }
        },
        "b842bb2703c848cba2ec4376f1d2008c": {
          "model_module": "@jupyter-widgets/base",
          "model_name": "LayoutModel",
          "model_module_version": "1.2.0",
          "state": {
            "_model_module": "@jupyter-widgets/base",
            "_model_module_version": "1.2.0",
            "_model_name": "LayoutModel",
            "_view_count": null,
            "_view_module": "@jupyter-widgets/base",
            "_view_module_version": "1.2.0",
            "_view_name": "LayoutView",
            "align_content": null,
            "align_items": null,
            "align_self": null,
            "border": null,
            "bottom": null,
            "display": null,
            "flex": null,
            "flex_flow": null,
            "grid_area": null,
            "grid_auto_columns": null,
            "grid_auto_flow": null,
            "grid_auto_rows": null,
            "grid_column": null,
            "grid_gap": null,
            "grid_row": null,
            "grid_template_areas": null,
            "grid_template_columns": null,
            "grid_template_rows": null,
            "height": null,
            "justify_content": null,
            "justify_items": null,
            "left": null,
            "margin": null,
            "max_height": null,
            "max_width": null,
            "min_height": null,
            "min_width": null,
            "object_fit": null,
            "object_position": null,
            "order": null,
            "overflow": null,
            "overflow_x": null,
            "overflow_y": null,
            "padding": null,
            "right": null,
            "top": null,
            "visibility": null,
            "width": null
          }
        },
        "2fffc91fd83f45f78f873c547cd85d2a": {
          "model_module": "@jupyter-widgets/controls",
          "model_name": "ProgressStyleModel",
          "model_module_version": "1.5.0",
          "state": {
            "_model_module": "@jupyter-widgets/controls",
            "_model_module_version": "1.5.0",
            "_model_name": "ProgressStyleModel",
            "_view_count": null,
            "_view_module": "@jupyter-widgets/base",
            "_view_module_version": "1.2.0",
            "_view_name": "StyleView",
            "bar_color": null,
            "description_width": ""
          }
        },
        "77606700c7244df8b96d891b7f65960d": {
          "model_module": "@jupyter-widgets/base",
          "model_name": "LayoutModel",
          "model_module_version": "1.2.0",
          "state": {
            "_model_module": "@jupyter-widgets/base",
            "_model_module_version": "1.2.0",
            "_model_name": "LayoutModel",
            "_view_count": null,
            "_view_module": "@jupyter-widgets/base",
            "_view_module_version": "1.2.0",
            "_view_name": "LayoutView",
            "align_content": null,
            "align_items": null,
            "align_self": null,
            "border": null,
            "bottom": null,
            "display": null,
            "flex": null,
            "flex_flow": null,
            "grid_area": null,
            "grid_auto_columns": null,
            "grid_auto_flow": null,
            "grid_auto_rows": null,
            "grid_column": null,
            "grid_gap": null,
            "grid_row": null,
            "grid_template_areas": null,
            "grid_template_columns": null,
            "grid_template_rows": null,
            "height": null,
            "justify_content": null,
            "justify_items": null,
            "left": null,
            "margin": null,
            "max_height": null,
            "max_width": null,
            "min_height": null,
            "min_width": null,
            "object_fit": null,
            "object_position": null,
            "order": null,
            "overflow": null,
            "overflow_x": null,
            "overflow_y": null,
            "padding": null,
            "right": null,
            "top": null,
            "visibility": null,
            "width": null
          }
        },
        "529703206f0b4747a4d4e08ae3736971": {
          "model_module": "@jupyter-widgets/controls",
          "model_name": "DescriptionStyleModel",
          "model_module_version": "1.5.0",
          "state": {
            "_model_module": "@jupyter-widgets/controls",
            "_model_module_version": "1.5.0",
            "_model_name": "DescriptionStyleModel",
            "_view_count": null,
            "_view_module": "@jupyter-widgets/base",
            "_view_module_version": "1.2.0",
            "_view_name": "StyleView",
            "description_width": ""
          }
        },
        "b10b651840cf4cf498fefe94beee71d5": {
          "model_module": "@jupyter-widgets/controls",
          "model_name": "HBoxModel",
          "model_module_version": "1.5.0",
          "state": {
            "_dom_classes": [],
            "_model_module": "@jupyter-widgets/controls",
            "_model_module_version": "1.5.0",
            "_model_name": "HBoxModel",
            "_view_count": null,
            "_view_module": "@jupyter-widgets/controls",
            "_view_module_version": "1.5.0",
            "_view_name": "HBoxView",
            "box_style": "",
            "children": [
              "IPY_MODEL_d6261bd6988e40e09eb147223f17b5ee",
              "IPY_MODEL_4961ef5c6cd14551a236b6afeed9b3b9",
              "IPY_MODEL_79fa0263ecb3430593efcad85d941cb9"
            ],
            "layout": "IPY_MODEL_3f3a54de2133413c9296a32911e78bc9"
          }
        },
        "d6261bd6988e40e09eb147223f17b5ee": {
          "model_module": "@jupyter-widgets/controls",
          "model_name": "HTMLModel",
          "model_module_version": "1.5.0",
          "state": {
            "_dom_classes": [],
            "_model_module": "@jupyter-widgets/controls",
            "_model_module_version": "1.5.0",
            "_model_name": "HTMLModel",
            "_view_count": null,
            "_view_module": "@jupyter-widgets/controls",
            "_view_module_version": "1.5.0",
            "_view_name": "HTMLView",
            "description": "",
            "description_tooltip": null,
            "layout": "IPY_MODEL_45c29f212a8a4d26ad4bc4a61fb9cb91",
            "placeholder": "​",
            "style": "IPY_MODEL_3b65f98f04644532a211ec9a4f94c421",
            "value": ".gitattributes: 100%"
          }
        },
        "4961ef5c6cd14551a236b6afeed9b3b9": {
          "model_module": "@jupyter-widgets/controls",
          "model_name": "FloatProgressModel",
          "model_module_version": "1.5.0",
          "state": {
            "_dom_classes": [],
            "_model_module": "@jupyter-widgets/controls",
            "_model_module_version": "1.5.0",
            "_model_name": "FloatProgressModel",
            "_view_count": null,
            "_view_module": "@jupyter-widgets/controls",
            "_view_module_version": "1.5.0",
            "_view_name": "ProgressView",
            "bar_style": "success",
            "description": "",
            "description_tooltip": null,
            "layout": "IPY_MODEL_4d4749c7fcfa426bac8bee08578a49e0",
            "max": 1707,
            "min": 0,
            "orientation": "horizontal",
            "style": "IPY_MODEL_5d29d46ed6af4ac2923d83cfeeb9b5d9",
            "value": 1707
          }
        },
        "79fa0263ecb3430593efcad85d941cb9": {
          "model_module": "@jupyter-widgets/controls",
          "model_name": "HTMLModel",
          "model_module_version": "1.5.0",
          "state": {
            "_dom_classes": [],
            "_model_module": "@jupyter-widgets/controls",
            "_model_module_version": "1.5.0",
            "_model_name": "HTMLModel",
            "_view_count": null,
            "_view_module": "@jupyter-widgets/controls",
            "_view_module_version": "1.5.0",
            "_view_name": "HTMLView",
            "description": "",
            "description_tooltip": null,
            "layout": "IPY_MODEL_93c3df4c78c44f8e9a6ab9342bba2d0f",
            "placeholder": "​",
            "style": "IPY_MODEL_5e28e3462f024bb3a515d7328f3cc361",
            "value": " 1.71k/1.71k [00:00&lt;00:00, 29.9kB/s]"
          }
        },
        "3f3a54de2133413c9296a32911e78bc9": {
          "model_module": "@jupyter-widgets/base",
          "model_name": "LayoutModel",
          "model_module_version": "1.2.0",
          "state": {
            "_model_module": "@jupyter-widgets/base",
            "_model_module_version": "1.2.0",
            "_model_name": "LayoutModel",
            "_view_count": null,
            "_view_module": "@jupyter-widgets/base",
            "_view_module_version": "1.2.0",
            "_view_name": "LayoutView",
            "align_content": null,
            "align_items": null,
            "align_self": null,
            "border": null,
            "bottom": null,
            "display": null,
            "flex": null,
            "flex_flow": null,
            "grid_area": null,
            "grid_auto_columns": null,
            "grid_auto_flow": null,
            "grid_auto_rows": null,
            "grid_column": null,
            "grid_gap": null,
            "grid_row": null,
            "grid_template_areas": null,
            "grid_template_columns": null,
            "grid_template_rows": null,
            "height": null,
            "justify_content": null,
            "justify_items": null,
            "left": null,
            "margin": null,
            "max_height": null,
            "max_width": null,
            "min_height": null,
            "min_width": null,
            "object_fit": null,
            "object_position": null,
            "order": null,
            "overflow": null,
            "overflow_x": null,
            "overflow_y": null,
            "padding": null,
            "right": null,
            "top": null,
            "visibility": null,
            "width": null
          }
        },
        "45c29f212a8a4d26ad4bc4a61fb9cb91": {
          "model_module": "@jupyter-widgets/base",
          "model_name": "LayoutModel",
          "model_module_version": "1.2.0",
          "state": {
            "_model_module": "@jupyter-widgets/base",
            "_model_module_version": "1.2.0",
            "_model_name": "LayoutModel",
            "_view_count": null,
            "_view_module": "@jupyter-widgets/base",
            "_view_module_version": "1.2.0",
            "_view_name": "LayoutView",
            "align_content": null,
            "align_items": null,
            "align_self": null,
            "border": null,
            "bottom": null,
            "display": null,
            "flex": null,
            "flex_flow": null,
            "grid_area": null,
            "grid_auto_columns": null,
            "grid_auto_flow": null,
            "grid_auto_rows": null,
            "grid_column": null,
            "grid_gap": null,
            "grid_row": null,
            "grid_template_areas": null,
            "grid_template_columns": null,
            "grid_template_rows": null,
            "height": null,
            "justify_content": null,
            "justify_items": null,
            "left": null,
            "margin": null,
            "max_height": null,
            "max_width": null,
            "min_height": null,
            "min_width": null,
            "object_fit": null,
            "object_position": null,
            "order": null,
            "overflow": null,
            "overflow_x": null,
            "overflow_y": null,
            "padding": null,
            "right": null,
            "top": null,
            "visibility": null,
            "width": null
          }
        },
        "3b65f98f04644532a211ec9a4f94c421": {
          "model_module": "@jupyter-widgets/controls",
          "model_name": "DescriptionStyleModel",
          "model_module_version": "1.5.0",
          "state": {
            "_model_module": "@jupyter-widgets/controls",
            "_model_module_version": "1.5.0",
            "_model_name": "DescriptionStyleModel",
            "_view_count": null,
            "_view_module": "@jupyter-widgets/base",
            "_view_module_version": "1.2.0",
            "_view_name": "StyleView",
            "description_width": ""
          }
        },
        "4d4749c7fcfa426bac8bee08578a49e0": {
          "model_module": "@jupyter-widgets/base",
          "model_name": "LayoutModel",
          "model_module_version": "1.2.0",
          "state": {
            "_model_module": "@jupyter-widgets/base",
            "_model_module_version": "1.2.0",
            "_model_name": "LayoutModel",
            "_view_count": null,
            "_view_module": "@jupyter-widgets/base",
            "_view_module_version": "1.2.0",
            "_view_name": "LayoutView",
            "align_content": null,
            "align_items": null,
            "align_self": null,
            "border": null,
            "bottom": null,
            "display": null,
            "flex": null,
            "flex_flow": null,
            "grid_area": null,
            "grid_auto_columns": null,
            "grid_auto_flow": null,
            "grid_auto_rows": null,
            "grid_column": null,
            "grid_gap": null,
            "grid_row": null,
            "grid_template_areas": null,
            "grid_template_columns": null,
            "grid_template_rows": null,
            "height": null,
            "justify_content": null,
            "justify_items": null,
            "left": null,
            "margin": null,
            "max_height": null,
            "max_width": null,
            "min_height": null,
            "min_width": null,
            "object_fit": null,
            "object_position": null,
            "order": null,
            "overflow": null,
            "overflow_x": null,
            "overflow_y": null,
            "padding": null,
            "right": null,
            "top": null,
            "visibility": null,
            "width": null
          }
        },
        "5d29d46ed6af4ac2923d83cfeeb9b5d9": {
          "model_module": "@jupyter-widgets/controls",
          "model_name": "ProgressStyleModel",
          "model_module_version": "1.5.0",
          "state": {
            "_model_module": "@jupyter-widgets/controls",
            "_model_module_version": "1.5.0",
            "_model_name": "ProgressStyleModel",
            "_view_count": null,
            "_view_module": "@jupyter-widgets/base",
            "_view_module_version": "1.2.0",
            "_view_name": "StyleView",
            "bar_color": null,
            "description_width": ""
          }
        },
        "93c3df4c78c44f8e9a6ab9342bba2d0f": {
          "model_module": "@jupyter-widgets/base",
          "model_name": "LayoutModel",
          "model_module_version": "1.2.0",
          "state": {
            "_model_module": "@jupyter-widgets/base",
            "_model_module_version": "1.2.0",
            "_model_name": "LayoutModel",
            "_view_count": null,
            "_view_module": "@jupyter-widgets/base",
            "_view_module_version": "1.2.0",
            "_view_name": "LayoutView",
            "align_content": null,
            "align_items": null,
            "align_self": null,
            "border": null,
            "bottom": null,
            "display": null,
            "flex": null,
            "flex_flow": null,
            "grid_area": null,
            "grid_auto_columns": null,
            "grid_auto_flow": null,
            "grid_auto_rows": null,
            "grid_column": null,
            "grid_gap": null,
            "grid_row": null,
            "grid_template_areas": null,
            "grid_template_columns": null,
            "grid_template_rows": null,
            "height": null,
            "justify_content": null,
            "justify_items": null,
            "left": null,
            "margin": null,
            "max_height": null,
            "max_width": null,
            "min_height": null,
            "min_width": null,
            "object_fit": null,
            "object_position": null,
            "order": null,
            "overflow": null,
            "overflow_x": null,
            "overflow_y": null,
            "padding": null,
            "right": null,
            "top": null,
            "visibility": null,
            "width": null
          }
        },
        "5e28e3462f024bb3a515d7328f3cc361": {
          "model_module": "@jupyter-widgets/controls",
          "model_name": "DescriptionStyleModel",
          "model_module_version": "1.5.0",
          "state": {
            "_model_module": "@jupyter-widgets/controls",
            "_model_module_version": "1.5.0",
            "_model_name": "DescriptionStyleModel",
            "_view_count": null,
            "_view_module": "@jupyter-widgets/base",
            "_view_module_version": "1.2.0",
            "_view_name": "StyleView",
            "description_width": ""
          }
        },
        "26c006e38e41466e88fea0ff4dd3017e": {
          "model_module": "@jupyter-widgets/controls",
          "model_name": "HBoxModel",
          "model_module_version": "1.5.0",
          "state": {
            "_dom_classes": [],
            "_model_module": "@jupyter-widgets/controls",
            "_model_module_version": "1.5.0",
            "_model_name": "HBoxModel",
            "_view_count": null,
            "_view_module": "@jupyter-widgets/controls",
            "_view_module_version": "1.5.0",
            "_view_name": "HBoxView",
            "box_style": "",
            "children": [
              "IPY_MODEL_b6cc4e6ea6d24a97a1247e558df0fe9b",
              "IPY_MODEL_f38230fb32d04ec3a14b54d8a8e69565",
              "IPY_MODEL_4c6a2265a96845278cd3c4a37bc2227f"
            ],
            "layout": "IPY_MODEL_3824973b28544f6fb4b8abc4f2b603cc"
          }
        },
        "b6cc4e6ea6d24a97a1247e558df0fe9b": {
          "model_module": "@jupyter-widgets/controls",
          "model_name": "HTMLModel",
          "model_module_version": "1.5.0",
          "state": {
            "_dom_classes": [],
            "_model_module": "@jupyter-widgets/controls",
            "_model_module_version": "1.5.0",
            "_model_name": "HTMLModel",
            "_view_count": null,
            "_view_module": "@jupyter-widgets/controls",
            "_view_module_version": "1.5.0",
            "_view_name": "HTMLView",
            "description": "",
            "description_tooltip": null,
            "layout": "IPY_MODEL_57fbbb7979e64c5fa02a07baf0641898",
            "placeholder": "​",
            "style": "IPY_MODEL_30e4d62cc62843d59cef432c1b68d456",
            "value": "otslp_all_fast.check: 100%"
          }
        },
        "f38230fb32d04ec3a14b54d8a8e69565": {
          "model_module": "@jupyter-widgets/controls",
          "model_name": "FloatProgressModel",
          "model_module_version": "1.5.0",
          "state": {
            "_dom_classes": [],
            "_model_module": "@jupyter-widgets/controls",
            "_model_module_version": "1.5.0",
            "_model_name": "FloatProgressModel",
            "_view_count": null,
            "_view_module": "@jupyter-widgets/controls",
            "_view_module_version": "1.5.0",
            "_view_name": "ProgressView",
            "bar_style": "success",
            "description": "",
            "description_tooltip": null,
            "layout": "IPY_MODEL_f296def0efc24ff496d4d23d66176415",
            "max": 145516093,
            "min": 0,
            "orientation": "horizontal",
            "style": "IPY_MODEL_b1276d6ad9ee4b14b9cb997d7ec2382e",
            "value": 145516093
          }
        },
        "4c6a2265a96845278cd3c4a37bc2227f": {
          "model_module": "@jupyter-widgets/controls",
          "model_name": "HTMLModel",
          "model_module_version": "1.5.0",
          "state": {
            "_dom_classes": [],
            "_model_module": "@jupyter-widgets/controls",
            "_model_module_version": "1.5.0",
            "_model_name": "HTMLModel",
            "_view_count": null,
            "_view_module": "@jupyter-widgets/controls",
            "_view_module_version": "1.5.0",
            "_view_name": "HTMLView",
            "description": "",
            "description_tooltip": null,
            "layout": "IPY_MODEL_3e8052e85f31462fa2f4808498f4b035",
            "placeholder": "​",
            "style": "IPY_MODEL_0e6a94e7795f448b9ab2c154e97b866e",
            "value": " 146M/146M [00:03&lt;00:00, 41.8MB/s]"
          }
        },
        "3824973b28544f6fb4b8abc4f2b603cc": {
          "model_module": "@jupyter-widgets/base",
          "model_name": "LayoutModel",
          "model_module_version": "1.2.0",
          "state": {
            "_model_module": "@jupyter-widgets/base",
            "_model_module_version": "1.2.0",
            "_model_name": "LayoutModel",
            "_view_count": null,
            "_view_module": "@jupyter-widgets/base",
            "_view_module_version": "1.2.0",
            "_view_name": "LayoutView",
            "align_content": null,
            "align_items": null,
            "align_self": null,
            "border": null,
            "bottom": null,
            "display": null,
            "flex": null,
            "flex_flow": null,
            "grid_area": null,
            "grid_auto_columns": null,
            "grid_auto_flow": null,
            "grid_auto_rows": null,
            "grid_column": null,
            "grid_gap": null,
            "grid_row": null,
            "grid_template_areas": null,
            "grid_template_columns": null,
            "grid_template_rows": null,
            "height": null,
            "justify_content": null,
            "justify_items": null,
            "left": null,
            "margin": null,
            "max_height": null,
            "max_width": null,
            "min_height": null,
            "min_width": null,
            "object_fit": null,
            "object_position": null,
            "order": null,
            "overflow": null,
            "overflow_x": null,
            "overflow_y": null,
            "padding": null,
            "right": null,
            "top": null,
            "visibility": null,
            "width": null
          }
        },
        "57fbbb7979e64c5fa02a07baf0641898": {
          "model_module": "@jupyter-widgets/base",
          "model_name": "LayoutModel",
          "model_module_version": "1.2.0",
          "state": {
            "_model_module": "@jupyter-widgets/base",
            "_model_module_version": "1.2.0",
            "_model_name": "LayoutModel",
            "_view_count": null,
            "_view_module": "@jupyter-widgets/base",
            "_view_module_version": "1.2.0",
            "_view_name": "LayoutView",
            "align_content": null,
            "align_items": null,
            "align_self": null,
            "border": null,
            "bottom": null,
            "display": null,
            "flex": null,
            "flex_flow": null,
            "grid_area": null,
            "grid_auto_columns": null,
            "grid_auto_flow": null,
            "grid_auto_rows": null,
            "grid_column": null,
            "grid_gap": null,
            "grid_row": null,
            "grid_template_areas": null,
            "grid_template_columns": null,
            "grid_template_rows": null,
            "height": null,
            "justify_content": null,
            "justify_items": null,
            "left": null,
            "margin": null,
            "max_height": null,
            "max_width": null,
            "min_height": null,
            "min_width": null,
            "object_fit": null,
            "object_position": null,
            "order": null,
            "overflow": null,
            "overflow_x": null,
            "overflow_y": null,
            "padding": null,
            "right": null,
            "top": null,
            "visibility": null,
            "width": null
          }
        },
        "30e4d62cc62843d59cef432c1b68d456": {
          "model_module": "@jupyter-widgets/controls",
          "model_name": "DescriptionStyleModel",
          "model_module_version": "1.5.0",
          "state": {
            "_model_module": "@jupyter-widgets/controls",
            "_model_module_version": "1.5.0",
            "_model_name": "DescriptionStyleModel",
            "_view_count": null,
            "_view_module": "@jupyter-widgets/base",
            "_view_module_version": "1.2.0",
            "_view_name": "StyleView",
            "description_width": ""
          }
        },
        "f296def0efc24ff496d4d23d66176415": {
          "model_module": "@jupyter-widgets/base",
          "model_name": "LayoutModel",
          "model_module_version": "1.2.0",
          "state": {
            "_model_module": "@jupyter-widgets/base",
            "_model_module_version": "1.2.0",
            "_model_name": "LayoutModel",
            "_view_count": null,
            "_view_module": "@jupyter-widgets/base",
            "_view_module_version": "1.2.0",
            "_view_name": "LayoutView",
            "align_content": null,
            "align_items": null,
            "align_self": null,
            "border": null,
            "bottom": null,
            "display": null,
            "flex": null,
            "flex_flow": null,
            "grid_area": null,
            "grid_auto_columns": null,
            "grid_auto_flow": null,
            "grid_auto_rows": null,
            "grid_column": null,
            "grid_gap": null,
            "grid_row": null,
            "grid_template_areas": null,
            "grid_template_columns": null,
            "grid_template_rows": null,
            "height": null,
            "justify_content": null,
            "justify_items": null,
            "left": null,
            "margin": null,
            "max_height": null,
            "max_width": null,
            "min_height": null,
            "min_width": null,
            "object_fit": null,
            "object_position": null,
            "order": null,
            "overflow": null,
            "overflow_x": null,
            "overflow_y": null,
            "padding": null,
            "right": null,
            "top": null,
            "visibility": null,
            "width": null
          }
        },
        "b1276d6ad9ee4b14b9cb997d7ec2382e": {
          "model_module": "@jupyter-widgets/controls",
          "model_name": "ProgressStyleModel",
          "model_module_version": "1.5.0",
          "state": {
            "_model_module": "@jupyter-widgets/controls",
            "_model_module_version": "1.5.0",
            "_model_name": "ProgressStyleModel",
            "_view_count": null,
            "_view_module": "@jupyter-widgets/base",
            "_view_module_version": "1.2.0",
            "_view_name": "StyleView",
            "bar_color": null,
            "description_width": ""
          }
        },
        "3e8052e85f31462fa2f4808498f4b035": {
          "model_module": "@jupyter-widgets/base",
          "model_name": "LayoutModel",
          "model_module_version": "1.2.0",
          "state": {
            "_model_module": "@jupyter-widgets/base",
            "_model_module_version": "1.2.0",
            "_model_name": "LayoutModel",
            "_view_count": null,
            "_view_module": "@jupyter-widgets/base",
            "_view_module_version": "1.2.0",
            "_view_name": "LayoutView",
            "align_content": null,
            "align_items": null,
            "align_self": null,
            "border": null,
            "bottom": null,
            "display": null,
            "flex": null,
            "flex_flow": null,
            "grid_area": null,
            "grid_auto_columns": null,
            "grid_auto_flow": null,
            "grid_auto_rows": null,
            "grid_column": null,
            "grid_gap": null,
            "grid_row": null,
            "grid_template_areas": null,
            "grid_template_columns": null,
            "grid_template_rows": null,
            "height": null,
            "justify_content": null,
            "justify_items": null,
            "left": null,
            "margin": null,
            "max_height": null,
            "max_width": null,
            "min_height": null,
            "min_width": null,
            "object_fit": null,
            "object_position": null,
            "order": null,
            "overflow": null,
            "overflow_x": null,
            "overflow_y": null,
            "padding": null,
            "right": null,
            "top": null,
            "visibility": null,
            "width": null
          }
        },
        "0e6a94e7795f448b9ab2c154e97b866e": {
          "model_module": "@jupyter-widgets/controls",
          "model_name": "DescriptionStyleModel",
          "model_module_version": "1.5.0",
          "state": {
            "_model_module": "@jupyter-widgets/controls",
            "_model_module_version": "1.5.0",
            "_model_name": "DescriptionStyleModel",
            "_view_count": null,
            "_view_module": "@jupyter-widgets/base",
            "_view_module_version": "1.2.0",
            "_view_name": "StyleView",
            "description_width": ""
          }
        },
        "cd287d8fdc3a4eef95f4c2a1fcd4ee45": {
          "model_module": "@jupyter-widgets/controls",
          "model_name": "HBoxModel",
          "model_module_version": "1.5.0",
          "state": {
            "_dom_classes": [],
            "_model_module": "@jupyter-widgets/controls",
            "_model_module_version": "1.5.0",
            "_model_name": "HBoxModel",
            "_view_count": null,
            "_view_module": "@jupyter-widgets/controls",
            "_view_module_version": "1.5.0",
            "_view_name": "HBoxView",
            "box_style": "",
            "children": [
              "IPY_MODEL_0e520700a4ae49a5bcac856d148cca1b",
              "IPY_MODEL_ac0224f2b32940acae667a7a38cca9da",
              "IPY_MODEL_0100177bf50140c5b1d3eb5a6a250322"
            ],
            "layout": "IPY_MODEL_25fa8f58c966444795d52e35f51242c7"
          }
        },
        "0e520700a4ae49a5bcac856d148cca1b": {
          "model_module": "@jupyter-widgets/controls",
          "model_name": "HTMLModel",
          "model_module_version": "1.5.0",
          "state": {
            "_dom_classes": [],
            "_model_module": "@jupyter-widgets/controls",
            "_model_module_version": "1.5.0",
            "_model_name": "HTMLModel",
            "_view_count": null,
            "_view_module": "@jupyter-widgets/controls",
            "_view_module_version": "1.5.0",
            "_view_name": "HTMLView",
            "description": "",
            "description_tooltip": null,
            "layout": "IPY_MODEL_534701d72cf0456cba5532c604143d8d",
            "placeholder": "​",
            "style": "IPY_MODEL_909409b7f2914d68919e9d043ca8c158",
            "value": "model.pt: 100%"
          }
        },
        "ac0224f2b32940acae667a7a38cca9da": {
          "model_module": "@jupyter-widgets/controls",
          "model_name": "FloatProgressModel",
          "model_module_version": "1.5.0",
          "state": {
            "_dom_classes": [],
            "_model_module": "@jupyter-widgets/controls",
            "_model_module_version": "1.5.0",
            "_model_name": "FloatProgressModel",
            "_view_count": null,
            "_view_module": "@jupyter-widgets/controls",
            "_view_module_version": "1.5.0",
            "_view_name": "ProgressView",
            "bar_style": "success",
            "description": "",
            "description_tooltip": null,
            "layout": "IPY_MODEL_7f028e8144ac4b9cb2844c5db6584695",
            "max": 201557903,
            "min": 0,
            "orientation": "horizontal",
            "style": "IPY_MODEL_fbe873ae35144d72aa53c5ebcdaa7a08",
            "value": 201557903
          }
        },
        "0100177bf50140c5b1d3eb5a6a250322": {
          "model_module": "@jupyter-widgets/controls",
          "model_name": "HTMLModel",
          "model_module_version": "1.5.0",
          "state": {
            "_dom_classes": [],
            "_model_module": "@jupyter-widgets/controls",
            "_model_module_version": "1.5.0",
            "_model_name": "HTMLModel",
            "_view_count": null,
            "_view_module": "@jupyter-widgets/controls",
            "_view_module_version": "1.5.0",
            "_view_name": "HTMLView",
            "description": "",
            "description_tooltip": null,
            "layout": "IPY_MODEL_a3be86e0a9334eefb3a39f2348103906",
            "placeholder": "​",
            "style": "IPY_MODEL_c01ab6f2b5ae44c0a286e60ec26a5a14",
            "value": " 202M/202M [00:04&lt;00:00, 42.5MB/s]"
          }
        },
        "25fa8f58c966444795d52e35f51242c7": {
          "model_module": "@jupyter-widgets/base",
          "model_name": "LayoutModel",
          "model_module_version": "1.2.0",
          "state": {
            "_model_module": "@jupyter-widgets/base",
            "_model_module_version": "1.2.0",
            "_model_name": "LayoutModel",
            "_view_count": null,
            "_view_module": "@jupyter-widgets/base",
            "_view_module_version": "1.2.0",
            "_view_name": "LayoutView",
            "align_content": null,
            "align_items": null,
            "align_self": null,
            "border": null,
            "bottom": null,
            "display": null,
            "flex": null,
            "flex_flow": null,
            "grid_area": null,
            "grid_auto_columns": null,
            "grid_auto_flow": null,
            "grid_auto_rows": null,
            "grid_column": null,
            "grid_gap": null,
            "grid_row": null,
            "grid_template_areas": null,
            "grid_template_columns": null,
            "grid_template_rows": null,
            "height": null,
            "justify_content": null,
            "justify_items": null,
            "left": null,
            "margin": null,
            "max_height": null,
            "max_width": null,
            "min_height": null,
            "min_width": null,
            "object_fit": null,
            "object_position": null,
            "order": null,
            "overflow": null,
            "overflow_x": null,
            "overflow_y": null,
            "padding": null,
            "right": null,
            "top": null,
            "visibility": null,
            "width": null
          }
        },
        "534701d72cf0456cba5532c604143d8d": {
          "model_module": "@jupyter-widgets/base",
          "model_name": "LayoutModel",
          "model_module_version": "1.2.0",
          "state": {
            "_model_module": "@jupyter-widgets/base",
            "_model_module_version": "1.2.0",
            "_model_name": "LayoutModel",
            "_view_count": null,
            "_view_module": "@jupyter-widgets/base",
            "_view_module_version": "1.2.0",
            "_view_name": "LayoutView",
            "align_content": null,
            "align_items": null,
            "align_self": null,
            "border": null,
            "bottom": null,
            "display": null,
            "flex": null,
            "flex_flow": null,
            "grid_area": null,
            "grid_auto_columns": null,
            "grid_auto_flow": null,
            "grid_auto_rows": null,
            "grid_column": null,
            "grid_gap": null,
            "grid_row": null,
            "grid_template_areas": null,
            "grid_template_columns": null,
            "grid_template_rows": null,
            "height": null,
            "justify_content": null,
            "justify_items": null,
            "left": null,
            "margin": null,
            "max_height": null,
            "max_width": null,
            "min_height": null,
            "min_width": null,
            "object_fit": null,
            "object_position": null,
            "order": null,
            "overflow": null,
            "overflow_x": null,
            "overflow_y": null,
            "padding": null,
            "right": null,
            "top": null,
            "visibility": null,
            "width": null
          }
        },
        "909409b7f2914d68919e9d043ca8c158": {
          "model_module": "@jupyter-widgets/controls",
          "model_name": "DescriptionStyleModel",
          "model_module_version": "1.5.0",
          "state": {
            "_model_module": "@jupyter-widgets/controls",
            "_model_module_version": "1.5.0",
            "_model_name": "DescriptionStyleModel",
            "_view_count": null,
            "_view_module": "@jupyter-widgets/base",
            "_view_module_version": "1.2.0",
            "_view_name": "StyleView",
            "description_width": ""
          }
        },
        "7f028e8144ac4b9cb2844c5db6584695": {
          "model_module": "@jupyter-widgets/base",
          "model_name": "LayoutModel",
          "model_module_version": "1.2.0",
          "state": {
            "_model_module": "@jupyter-widgets/base",
            "_model_module_version": "1.2.0",
            "_model_name": "LayoutModel",
            "_view_count": null,
            "_view_module": "@jupyter-widgets/base",
            "_view_module_version": "1.2.0",
            "_view_name": "LayoutView",
            "align_content": null,
            "align_items": null,
            "align_self": null,
            "border": null,
            "bottom": null,
            "display": null,
            "flex": null,
            "flex_flow": null,
            "grid_area": null,
            "grid_auto_columns": null,
            "grid_auto_flow": null,
            "grid_auto_rows": null,
            "grid_column": null,
            "grid_gap": null,
            "grid_row": null,
            "grid_template_areas": null,
            "grid_template_columns": null,
            "grid_template_rows": null,
            "height": null,
            "justify_content": null,
            "justify_items": null,
            "left": null,
            "margin": null,
            "max_height": null,
            "max_width": null,
            "min_height": null,
            "min_width": null,
            "object_fit": null,
            "object_position": null,
            "order": null,
            "overflow": null,
            "overflow_x": null,
            "overflow_y": null,
            "padding": null,
            "right": null,
            "top": null,
            "visibility": null,
            "width": null
          }
        },
        "fbe873ae35144d72aa53c5ebcdaa7a08": {
          "model_module": "@jupyter-widgets/controls",
          "model_name": "ProgressStyleModel",
          "model_module_version": "1.5.0",
          "state": {
            "_model_module": "@jupyter-widgets/controls",
            "_model_module_version": "1.5.0",
            "_model_name": "ProgressStyleModel",
            "_view_count": null,
            "_view_module": "@jupyter-widgets/base",
            "_view_module_version": "1.2.0",
            "_view_name": "StyleView",
            "bar_color": null,
            "description_width": ""
          }
        },
        "a3be86e0a9334eefb3a39f2348103906": {
          "model_module": "@jupyter-widgets/base",
          "model_name": "LayoutModel",
          "model_module_version": "1.2.0",
          "state": {
            "_model_module": "@jupyter-widgets/base",
            "_model_module_version": "1.2.0",
            "_model_name": "LayoutModel",
            "_view_count": null,
            "_view_module": "@jupyter-widgets/base",
            "_view_module_version": "1.2.0",
            "_view_name": "LayoutView",
            "align_content": null,
            "align_items": null,
            "align_self": null,
            "border": null,
            "bottom": null,
            "display": null,
            "flex": null,
            "flex_flow": null,
            "grid_area": null,
            "grid_auto_columns": null,
            "grid_auto_flow": null,
            "grid_auto_rows": null,
            "grid_column": null,
            "grid_gap": null,
            "grid_row": null,
            "grid_template_areas": null,
            "grid_template_columns": null,
            "grid_template_rows": null,
            "height": null,
            "justify_content": null,
            "justify_items": null,
            "left": null,
            "margin": null,
            "max_height": null,
            "max_width": null,
            "min_height": null,
            "min_width": null,
            "object_fit": null,
            "object_position": null,
            "order": null,
            "overflow": null,
            "overflow_x": null,
            "overflow_y": null,
            "padding": null,
            "right": null,
            "top": null,
            "visibility": null,
            "width": null
          }
        },
        "c01ab6f2b5ae44c0a286e60ec26a5a14": {
          "model_module": "@jupyter-widgets/controls",
          "model_name": "DescriptionStyleModel",
          "model_module_version": "1.5.0",
          "state": {
            "_model_module": "@jupyter-widgets/controls",
            "_model_module_version": "1.5.0",
            "_model_name": "DescriptionStyleModel",
            "_view_count": null,
            "_view_module": "@jupyter-widgets/base",
            "_view_module_version": "1.2.0",
            "_view_name": "StyleView",
            "description_width": ""
          }
        },
        "e5ab8a61f7964d25b7446c8092997954": {
          "model_module": "@jupyter-widgets/controls",
          "model_name": "HBoxModel",
          "model_module_version": "1.5.0",
          "state": {
            "_dom_classes": [],
            "_model_module": "@jupyter-widgets/controls",
            "_model_module_version": "1.5.0",
            "_model_name": "HBoxModel",
            "_view_count": null,
            "_view_module": "@jupyter-widgets/controls",
            "_view_module_version": "1.5.0",
            "_view_name": "HBoxView",
            "box_style": "",
            "children": [
              "IPY_MODEL_5708d52e16264a3681fca047b595f41c",
              "IPY_MODEL_2074306519a348c18d383dbbda7feb22",
              "IPY_MODEL_0de70acb395e4b63bdd30bc1a8fbb867"
            ],
            "layout": "IPY_MODEL_5ea3828ece5c43c0bfed8bff4f6f989e"
          }
        },
        "5708d52e16264a3681fca047b595f41c": {
          "model_module": "@jupyter-widgets/controls",
          "model_name": "HTMLModel",
          "model_module_version": "1.5.0",
          "state": {
            "_dom_classes": [],
            "_model_module": "@jupyter-widgets/controls",
            "_model_module_version": "1.5.0",
            "_model_name": "HTMLModel",
            "_view_count": null,
            "_view_module": "@jupyter-widgets/controls",
            "_view_module_version": "1.5.0",
            "_view_name": "HTMLView",
            "description": "",
            "description_tooltip": null,
            "layout": "IPY_MODEL_e9f828d5fd7f48509c62a043b9633933",
            "placeholder": "​",
            "style": "IPY_MODEL_c7f8c92978f04918af8eb8b2c100e973",
            "value": "(…)del_artifacts/tableformer/tm_config.json: 100%"
          }
        },
        "2074306519a348c18d383dbbda7feb22": {
          "model_module": "@jupyter-widgets/controls",
          "model_name": "FloatProgressModel",
          "model_module_version": "1.5.0",
          "state": {
            "_dom_classes": [],
            "_model_module": "@jupyter-widgets/controls",
            "_model_module_version": "1.5.0",
            "_model_name": "FloatProgressModel",
            "_view_count": null,
            "_view_module": "@jupyter-widgets/controls",
            "_view_module_version": "1.5.0",
            "_view_name": "ProgressView",
            "bar_style": "success",
            "description": "",
            "description_tooltip": null,
            "layout": "IPY_MODEL_7b2e1717e45f4b60a152dbefb12c53b4",
            "max": 7087,
            "min": 0,
            "orientation": "horizontal",
            "style": "IPY_MODEL_c30122e94dad4c93b45fc5e0cbd054e4",
            "value": 7087
          }
        },
        "0de70acb395e4b63bdd30bc1a8fbb867": {
          "model_module": "@jupyter-widgets/controls",
          "model_name": "HTMLModel",
          "model_module_version": "1.5.0",
          "state": {
            "_dom_classes": [],
            "_model_module": "@jupyter-widgets/controls",
            "_model_module_version": "1.5.0",
            "_model_name": "HTMLModel",
            "_view_count": null,
            "_view_module": "@jupyter-widgets/controls",
            "_view_module_version": "1.5.0",
            "_view_name": "HTMLView",
            "description": "",
            "description_tooltip": null,
            "layout": "IPY_MODEL_5fb7d97b22d04cc4a2ad9685dda07e79",
            "placeholder": "​",
            "style": "IPY_MODEL_e151ddf0f1894d438ae172559e77c574",
            "value": " 7.09k/7.09k [00:00&lt;00:00, 522kB/s]"
          }
        },
        "5ea3828ece5c43c0bfed8bff4f6f989e": {
          "model_module": "@jupyter-widgets/base",
          "model_name": "LayoutModel",
          "model_module_version": "1.2.0",
          "state": {
            "_model_module": "@jupyter-widgets/base",
            "_model_module_version": "1.2.0",
            "_model_name": "LayoutModel",
            "_view_count": null,
            "_view_module": "@jupyter-widgets/base",
            "_view_module_version": "1.2.0",
            "_view_name": "LayoutView",
            "align_content": null,
            "align_items": null,
            "align_self": null,
            "border": null,
            "bottom": null,
            "display": null,
            "flex": null,
            "flex_flow": null,
            "grid_area": null,
            "grid_auto_columns": null,
            "grid_auto_flow": null,
            "grid_auto_rows": null,
            "grid_column": null,
            "grid_gap": null,
            "grid_row": null,
            "grid_template_areas": null,
            "grid_template_columns": null,
            "grid_template_rows": null,
            "height": null,
            "justify_content": null,
            "justify_items": null,
            "left": null,
            "margin": null,
            "max_height": null,
            "max_width": null,
            "min_height": null,
            "min_width": null,
            "object_fit": null,
            "object_position": null,
            "order": null,
            "overflow": null,
            "overflow_x": null,
            "overflow_y": null,
            "padding": null,
            "right": null,
            "top": null,
            "visibility": null,
            "width": null
          }
        },
        "e9f828d5fd7f48509c62a043b9633933": {
          "model_module": "@jupyter-widgets/base",
          "model_name": "LayoutModel",
          "model_module_version": "1.2.0",
          "state": {
            "_model_module": "@jupyter-widgets/base",
            "_model_module_version": "1.2.0",
            "_model_name": "LayoutModel",
            "_view_count": null,
            "_view_module": "@jupyter-widgets/base",
            "_view_module_version": "1.2.0",
            "_view_name": "LayoutView",
            "align_content": null,
            "align_items": null,
            "align_self": null,
            "border": null,
            "bottom": null,
            "display": null,
            "flex": null,
            "flex_flow": null,
            "grid_area": null,
            "grid_auto_columns": null,
            "grid_auto_flow": null,
            "grid_auto_rows": null,
            "grid_column": null,
            "grid_gap": null,
            "grid_row": null,
            "grid_template_areas": null,
            "grid_template_columns": null,
            "grid_template_rows": null,
            "height": null,
            "justify_content": null,
            "justify_items": null,
            "left": null,
            "margin": null,
            "max_height": null,
            "max_width": null,
            "min_height": null,
            "min_width": null,
            "object_fit": null,
            "object_position": null,
            "order": null,
            "overflow": null,
            "overflow_x": null,
            "overflow_y": null,
            "padding": null,
            "right": null,
            "top": null,
            "visibility": null,
            "width": null
          }
        },
        "c7f8c92978f04918af8eb8b2c100e973": {
          "model_module": "@jupyter-widgets/controls",
          "model_name": "DescriptionStyleModel",
          "model_module_version": "1.5.0",
          "state": {
            "_model_module": "@jupyter-widgets/controls",
            "_model_module_version": "1.5.0",
            "_model_name": "DescriptionStyleModel",
            "_view_count": null,
            "_view_module": "@jupyter-widgets/base",
            "_view_module_version": "1.2.0",
            "_view_name": "StyleView",
            "description_width": ""
          }
        },
        "7b2e1717e45f4b60a152dbefb12c53b4": {
          "model_module": "@jupyter-widgets/base",
          "model_name": "LayoutModel",
          "model_module_version": "1.2.0",
          "state": {
            "_model_module": "@jupyter-widgets/base",
            "_model_module_version": "1.2.0",
            "_model_name": "LayoutModel",
            "_view_count": null,
            "_view_module": "@jupyter-widgets/base",
            "_view_module_version": "1.2.0",
            "_view_name": "LayoutView",
            "align_content": null,
            "align_items": null,
            "align_self": null,
            "border": null,
            "bottom": null,
            "display": null,
            "flex": null,
            "flex_flow": null,
            "grid_area": null,
            "grid_auto_columns": null,
            "grid_auto_flow": null,
            "grid_auto_rows": null,
            "grid_column": null,
            "grid_gap": null,
            "grid_row": null,
            "grid_template_areas": null,
            "grid_template_columns": null,
            "grid_template_rows": null,
            "height": null,
            "justify_content": null,
            "justify_items": null,
            "left": null,
            "margin": null,
            "max_height": null,
            "max_width": null,
            "min_height": null,
            "min_width": null,
            "object_fit": null,
            "object_position": null,
            "order": null,
            "overflow": null,
            "overflow_x": null,
            "overflow_y": null,
            "padding": null,
            "right": null,
            "top": null,
            "visibility": null,
            "width": null
          }
        },
        "c30122e94dad4c93b45fc5e0cbd054e4": {
          "model_module": "@jupyter-widgets/controls",
          "model_name": "ProgressStyleModel",
          "model_module_version": "1.5.0",
          "state": {
            "_model_module": "@jupyter-widgets/controls",
            "_model_module_version": "1.5.0",
            "_model_name": "ProgressStyleModel",
            "_view_count": null,
            "_view_module": "@jupyter-widgets/base",
            "_view_module_version": "1.2.0",
            "_view_name": "StyleView",
            "bar_color": null,
            "description_width": ""
          }
        },
        "5fb7d97b22d04cc4a2ad9685dda07e79": {
          "model_module": "@jupyter-widgets/base",
          "model_name": "LayoutModel",
          "model_module_version": "1.2.0",
          "state": {
            "_model_module": "@jupyter-widgets/base",
            "_model_module_version": "1.2.0",
            "_model_name": "LayoutModel",
            "_view_count": null,
            "_view_module": "@jupyter-widgets/base",
            "_view_module_version": "1.2.0",
            "_view_name": "LayoutView",
            "align_content": null,
            "align_items": null,
            "align_self": null,
            "border": null,
            "bottom": null,
            "display": null,
            "flex": null,
            "flex_flow": null,
            "grid_area": null,
            "grid_auto_columns": null,
            "grid_auto_flow": null,
            "grid_auto_rows": null,
            "grid_column": null,
            "grid_gap": null,
            "grid_row": null,
            "grid_template_areas": null,
            "grid_template_columns": null,
            "grid_template_rows": null,
            "height": null,
            "justify_content": null,
            "justify_items": null,
            "left": null,
            "margin": null,
            "max_height": null,
            "max_width": null,
            "min_height": null,
            "min_width": null,
            "object_fit": null,
            "object_position": null,
            "order": null,
            "overflow": null,
            "overflow_x": null,
            "overflow_y": null,
            "padding": null,
            "right": null,
            "top": null,
            "visibility": null,
            "width": null
          }
        },
        "e151ddf0f1894d438ae172559e77c574": {
          "model_module": "@jupyter-widgets/controls",
          "model_name": "DescriptionStyleModel",
          "model_module_version": "1.5.0",
          "state": {
            "_model_module": "@jupyter-widgets/controls",
            "_model_module_version": "1.5.0",
            "_model_name": "DescriptionStyleModel",
            "_view_count": null,
            "_view_module": "@jupyter-widgets/base",
            "_view_module_version": "1.2.0",
            "_view_name": "StyleView",
            "description_width": ""
          }
        },
        "0be7d69ef01f475f8a57f8ee0fc7050d": {
          "model_module": "@jupyter-widgets/controls",
          "model_name": "HBoxModel",
          "model_module_version": "1.5.0",
          "state": {
            "_dom_classes": [],
            "_model_module": "@jupyter-widgets/controls",
            "_model_module_version": "1.5.0",
            "_model_name": "HBoxModel",
            "_view_count": null,
            "_view_module": "@jupyter-widgets/controls",
            "_view_module_version": "1.5.0",
            "_view_name": "HBoxView",
            "box_style": "",
            "children": [
              "IPY_MODEL_9c94a8e435994519abf31f5d6ba5ada9",
              "IPY_MODEL_a962a4b97efa413fbebe6c884e30cb05",
              "IPY_MODEL_a2d5aa0ffa614d28b84176f094f60dd1"
            ],
            "layout": "IPY_MODEL_dad21711dc784d4eb031af936beef516"
          }
        },
        "9c94a8e435994519abf31f5d6ba5ada9": {
          "model_module": "@jupyter-widgets/controls",
          "model_name": "HTMLModel",
          "model_module_version": "1.5.0",
          "state": {
            "_dom_classes": [],
            "_model_module": "@jupyter-widgets/controls",
            "_model_module_version": "1.5.0",
            "_model_name": "HTMLModel",
            "_view_count": null,
            "_view_module": "@jupyter-widgets/controls",
            "_view_module_version": "1.5.0",
            "_view_name": "HTMLView",
            "description": "",
            "description_tooltip": null,
            "layout": "IPY_MODEL_4af12a8922e0475fac2f6f6aca9fff03",
            "placeholder": "​",
            "style": "IPY_MODEL_2311d4411f2f4a3e9444ae939c1b7e9d",
            "value": "Fetching 9 files: 100%"
          }
        },
        "a962a4b97efa413fbebe6c884e30cb05": {
          "model_module": "@jupyter-widgets/controls",
          "model_name": "FloatProgressModel",
          "model_module_version": "1.5.0",
          "state": {
            "_dom_classes": [],
            "_model_module": "@jupyter-widgets/controls",
            "_model_module_version": "1.5.0",
            "_model_name": "FloatProgressModel",
            "_view_count": null,
            "_view_module": "@jupyter-widgets/controls",
            "_view_module_version": "1.5.0",
            "_view_name": "ProgressView",
            "bar_style": "success",
            "description": "",
            "description_tooltip": null,
            "layout": "IPY_MODEL_09d87a1d357e43aa8e67e26a0d021088",
            "max": 9,
            "min": 0,
            "orientation": "horizontal",
            "style": "IPY_MODEL_32ed9d9b3d7b49b184f8043022a0eb69",
            "value": 9
          }
        },
        "a2d5aa0ffa614d28b84176f094f60dd1": {
          "model_module": "@jupyter-widgets/controls",
          "model_name": "HTMLModel",
          "model_module_version": "1.5.0",
          "state": {
            "_dom_classes": [],
            "_model_module": "@jupyter-widgets/controls",
            "_model_module_version": "1.5.0",
            "_model_name": "HTMLModel",
            "_view_count": null,
            "_view_module": "@jupyter-widgets/controls",
            "_view_module_version": "1.5.0",
            "_view_name": "HTMLView",
            "description": "",
            "description_tooltip": null,
            "layout": "IPY_MODEL_3994e650ec094d00a2e4ceaccaa865dd",
            "placeholder": "​",
            "style": "IPY_MODEL_3c3a82b670404f8aa45feb2ae322de99",
            "value": " 9/9 [00:00&lt;00:00, 479.34it/s]"
          }
        },
        "dad21711dc784d4eb031af936beef516": {
          "model_module": "@jupyter-widgets/base",
          "model_name": "LayoutModel",
          "model_module_version": "1.2.0",
          "state": {
            "_model_module": "@jupyter-widgets/base",
            "_model_module_version": "1.2.0",
            "_model_name": "LayoutModel",
            "_view_count": null,
            "_view_module": "@jupyter-widgets/base",
            "_view_module_version": "1.2.0",
            "_view_name": "LayoutView",
            "align_content": null,
            "align_items": null,
            "align_self": null,
            "border": null,
            "bottom": null,
            "display": null,
            "flex": null,
            "flex_flow": null,
            "grid_area": null,
            "grid_auto_columns": null,
            "grid_auto_flow": null,
            "grid_auto_rows": null,
            "grid_column": null,
            "grid_gap": null,
            "grid_row": null,
            "grid_template_areas": null,
            "grid_template_columns": null,
            "grid_template_rows": null,
            "height": null,
            "justify_content": null,
            "justify_items": null,
            "left": null,
            "margin": null,
            "max_height": null,
            "max_width": null,
            "min_height": null,
            "min_width": null,
            "object_fit": null,
            "object_position": null,
            "order": null,
            "overflow": null,
            "overflow_x": null,
            "overflow_y": null,
            "padding": null,
            "right": null,
            "top": null,
            "visibility": null,
            "width": null
          }
        },
        "4af12a8922e0475fac2f6f6aca9fff03": {
          "model_module": "@jupyter-widgets/base",
          "model_name": "LayoutModel",
          "model_module_version": "1.2.0",
          "state": {
            "_model_module": "@jupyter-widgets/base",
            "_model_module_version": "1.2.0",
            "_model_name": "LayoutModel",
            "_view_count": null,
            "_view_module": "@jupyter-widgets/base",
            "_view_module_version": "1.2.0",
            "_view_name": "LayoutView",
            "align_content": null,
            "align_items": null,
            "align_self": null,
            "border": null,
            "bottom": null,
            "display": null,
            "flex": null,
            "flex_flow": null,
            "grid_area": null,
            "grid_auto_columns": null,
            "grid_auto_flow": null,
            "grid_auto_rows": null,
            "grid_column": null,
            "grid_gap": null,
            "grid_row": null,
            "grid_template_areas": null,
            "grid_template_columns": null,
            "grid_template_rows": null,
            "height": null,
            "justify_content": null,
            "justify_items": null,
            "left": null,
            "margin": null,
            "max_height": null,
            "max_width": null,
            "min_height": null,
            "min_width": null,
            "object_fit": null,
            "object_position": null,
            "order": null,
            "overflow": null,
            "overflow_x": null,
            "overflow_y": null,
            "padding": null,
            "right": null,
            "top": null,
            "visibility": null,
            "width": null
          }
        },
        "2311d4411f2f4a3e9444ae939c1b7e9d": {
          "model_module": "@jupyter-widgets/controls",
          "model_name": "DescriptionStyleModel",
          "model_module_version": "1.5.0",
          "state": {
            "_model_module": "@jupyter-widgets/controls",
            "_model_module_version": "1.5.0",
            "_model_name": "DescriptionStyleModel",
            "_view_count": null,
            "_view_module": "@jupyter-widgets/base",
            "_view_module_version": "1.2.0",
            "_view_name": "StyleView",
            "description_width": ""
          }
        },
        "09d87a1d357e43aa8e67e26a0d021088": {
          "model_module": "@jupyter-widgets/base",
          "model_name": "LayoutModel",
          "model_module_version": "1.2.0",
          "state": {
            "_model_module": "@jupyter-widgets/base",
            "_model_module_version": "1.2.0",
            "_model_name": "LayoutModel",
            "_view_count": null,
            "_view_module": "@jupyter-widgets/base",
            "_view_module_version": "1.2.0",
            "_view_name": "LayoutView",
            "align_content": null,
            "align_items": null,
            "align_self": null,
            "border": null,
            "bottom": null,
            "display": null,
            "flex": null,
            "flex_flow": null,
            "grid_area": null,
            "grid_auto_columns": null,
            "grid_auto_flow": null,
            "grid_auto_rows": null,
            "grid_column": null,
            "grid_gap": null,
            "grid_row": null,
            "grid_template_areas": null,
            "grid_template_columns": null,
            "grid_template_rows": null,
            "height": null,
            "justify_content": null,
            "justify_items": null,
            "left": null,
            "margin": null,
            "max_height": null,
            "max_width": null,
            "min_height": null,
            "min_width": null,
            "object_fit": null,
            "object_position": null,
            "order": null,
            "overflow": null,
            "overflow_x": null,
            "overflow_y": null,
            "padding": null,
            "right": null,
            "top": null,
            "visibility": null,
            "width": null
          }
        },
        "32ed9d9b3d7b49b184f8043022a0eb69": {
          "model_module": "@jupyter-widgets/controls",
          "model_name": "ProgressStyleModel",
          "model_module_version": "1.5.0",
          "state": {
            "_model_module": "@jupyter-widgets/controls",
            "_model_module_version": "1.5.0",
            "_model_name": "ProgressStyleModel",
            "_view_count": null,
            "_view_module": "@jupyter-widgets/base",
            "_view_module_version": "1.2.0",
            "_view_name": "StyleView",
            "bar_color": null,
            "description_width": ""
          }
        },
        "3994e650ec094d00a2e4ceaccaa865dd": {
          "model_module": "@jupyter-widgets/base",
          "model_name": "LayoutModel",
          "model_module_version": "1.2.0",
          "state": {
            "_model_module": "@jupyter-widgets/base",
            "_model_module_version": "1.2.0",
            "_model_name": "LayoutModel",
            "_view_count": null,
            "_view_module": "@jupyter-widgets/base",
            "_view_module_version": "1.2.0",
            "_view_name": "LayoutView",
            "align_content": null,
            "align_items": null,
            "align_self": null,
            "border": null,
            "bottom": null,
            "display": null,
            "flex": null,
            "flex_flow": null,
            "grid_area": null,
            "grid_auto_columns": null,
            "grid_auto_flow": null,
            "grid_auto_rows": null,
            "grid_column": null,
            "grid_gap": null,
            "grid_row": null,
            "grid_template_areas": null,
            "grid_template_columns": null,
            "grid_template_rows": null,
            "height": null,
            "justify_content": null,
            "justify_items": null,
            "left": null,
            "margin": null,
            "max_height": null,
            "max_width": null,
            "min_height": null,
            "min_width": null,
            "object_fit": null,
            "object_position": null,
            "order": null,
            "overflow": null,
            "overflow_x": null,
            "overflow_y": null,
            "padding": null,
            "right": null,
            "top": null,
            "visibility": null,
            "width": null
          }
        },
        "3c3a82b670404f8aa45feb2ae322de99": {
          "model_module": "@jupyter-widgets/controls",
          "model_name": "DescriptionStyleModel",
          "model_module_version": "1.5.0",
          "state": {
            "_model_module": "@jupyter-widgets/controls",
            "_model_module_version": "1.5.0",
            "_model_name": "DescriptionStyleModel",
            "_view_count": null,
            "_view_module": "@jupyter-widgets/base",
            "_view_module_version": "1.2.0",
            "_view_name": "StyleView",
            "description_width": ""
          }
        }
      }
    }
  },
  "nbformat": 4,
  "nbformat_minor": 0
}