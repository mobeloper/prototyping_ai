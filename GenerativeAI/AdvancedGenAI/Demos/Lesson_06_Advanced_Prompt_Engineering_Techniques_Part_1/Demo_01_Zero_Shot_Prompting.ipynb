{
 "cells": [
  {
   "cell_type": "markdown",
   "id": "JjVaYKA3E4Sh",
   "metadata": {
    "id": "JjVaYKA3E4Sh"
   },
   "source": [
    "# __Demo: Zero-Shot Prompting with LangChain and OpenAI__"
   ]
  },
  {
   "cell_type": "markdown",
   "id": "L5xEJAD-FWkJ",
   "metadata": {
    "id": "L5xEJAD-FWkJ"
   },
   "source": [
    "## __Steps to Perform:__\n",
    "Step 1: Set up the OpenAI API Key\n",
    "\n",
    "Step 2: Define a Function to Get Completion\n",
    "\n",
    "Step 3: Define Your Prompt"
   ]
  },
  {
   "cell_type": "markdown",
   "id": "oejbW3zZlqXB",
   "metadata": {
    "id": "oejbW3zZlqXB"
   },
   "source": [
    "### __Step 1: Set up the OpenAI API Key__\n",
    "- The code imports the necessary libraries.\n",
    "- The **os** is used for interacting with the operating system, and __openai__ is the library required to work with OpenAI's API."
   ]
  },
  {
   "cell_type": "code",
   "execution_count": 3,
   "id": "422ae32f",
   "metadata": {},
   "outputs": [],
   "source": [
    "# !pip install langchain-community"
   ]
  },
  {
   "cell_type": "code",
   "execution_count": 4,
   "id": "172a828d-22d6-486b-be55-62c9258add5b",
   "metadata": {
    "id": "172a828d-22d6-486b-be55-62c9258add5b"
   },
   "outputs": [],
   "source": [
    "import os\n",
    "import openai\n",
    "# from langchain.llms import OpenAI\n",
    "from langchain.llms import OpenAIChat\n",
    "from langchain.chat_models import ChatOpenAI\n",
    "\n",
    "from langchain.prompts import PromptTemplate\n",
    "from langchain.chains import LLMChain\n",
    "\n",
    "from dotenv import load_dotenv, find_dotenv\n",
    "\n",
    "_ = load_dotenv(find_dotenv()) # read local .env file\n",
    "openai.api_key = os.getenv('OPENAI_API_KEY')\n",
    "# openai.api_key = \"RRRRRRR\""
   ]
  },
  {
   "cell_type": "markdown",
   "id": "yI8QQCxCl-LQ",
   "metadata": {
    "id": "yI8QQCxCl-LQ"
   },
   "source": [
    "### __Step 2: Initialize the LangChain OpenAI LLM__\n"
   ]
  },
  {
   "cell_type": "code",
   "execution_count": 5,
   "id": "ef2f893e-62a2-4bb9-9af8-fbe111a377da",
   "metadata": {},
   "outputs": [
    {
     "name": "stderr",
     "output_type": "stream",
     "text": [
      "/opt/anaconda3/lib/python3.11/site-packages/langchain_core/_api/deprecation.py:117: LangChainDeprecationWarning: The class `langchain_community.chat_models.openai.ChatOpenAI` was deprecated in langchain-community 0.1.0 and will be removed in 0.2.0. Use langchain_openai.ChatOpenAI instead.\n",
      "  warn_deprecated(\n"
     ]
    }
   ],
   "source": [
    "# Initialize the LLM\n",
    "# llm = OpenAI(model_name=\"gpt-3.5-turbo\", temperature=0)\n",
    "# llm = OpenAI(api_key=os.environ.get(\"OPENAI_API_KEY\"))\n",
    "\n",
    "# llm = OpenAIChat(model_name=\"gpt-3.5-turbo\", temperature=0)\n",
    "llm = ChatOpenAI(model_name=\"gpt-3.5-turbo\", temperature=0)\n"
   ]
  },
  {
   "cell_type": "markdown",
   "id": "XJS0DNh0nonO",
   "metadata": {
    "id": "XJS0DNh0nonO"
   },
   "source": [
    "### __Step 3: Define Your Prompt__\n",
    "- The prompt variable is defined with a simple translation task."
   ]
  },
  {
   "cell_type": "code",
   "execution_count": 6,
   "id": "3ef6aa68-a8aa-45c6-b70b-3060e9253b90",
   "metadata": {
    "id": "3ef6aa68-a8aa-45c6-b70b-3060e9253b90",
    "outputId": "8d98a6c9-99b7-48e7-a2ea-fcf68b053879"
   },
   "outputs": [],
   "source": [
    "# Define a prompt template\n",
    "template = \"\"\"\n",
    "Translate the following English sentence to French:\n",
    "\n",
    "'{sentence}'\n",
    "\"\"\"\n",
    "prompt = PromptTemplate(template=template, input_variables=[\"sentence\"])\n"
   ]
  },
  {
   "cell_type": "code",
   "execution_count": 9,
   "id": "8df2acdd-73d6-4e3c-a2c5-25e2e92df99f",
   "metadata": {},
   "outputs": [
    {
     "name": "stderr",
     "output_type": "stream",
     "text": [
      "/opt/anaconda3/lib/python3.11/site-packages/langchain_core/_api/deprecation.py:117: LangChainDeprecationWarning: The function `predict` was deprecated in LangChain 0.1.7 and will be removed in 0.2.0. Use invoke instead.\n",
      "  warn_deprecated(\n"
     ]
    },
    {
     "name": "stdout",
     "output_type": "stream",
     "text": [
      "Translated Sentence: 'Bonjour, monde!'\n"
     ]
    }
   ],
   "source": [
    "def translate_with_langchain(sentence):\n",
    "    # Format the prompt and run the LLM\n",
    "    formatted_prompt = prompt.format(sentence=sentence)\n",
    "    \n",
    "    # return llm(formatted_prompt)\n",
    "    return llm.predict(formatted_prompt)\n",
    "\n",
    "    # # Initialize an LLMChain to combine the LLM and the prompt template\n",
    "    # llm_chain = LLMChain(prompt=formatted_prompt, llm=llm)\n",
    "    # return llm_chain.run(sentence)\n",
    "\n",
    "\n",
    "# Test the LangChain-based translation\n",
    "response = translate_with_langchain(\"Hello, world!\")\n",
    "print(\"Translated Sentence:\", response)\n"
   ]
  },
  {
   "cell_type": "markdown",
   "id": "a5595bc0-b86d-439e-94d9-f623fb051077",
   "metadata": {},
   "source": [
    "#### Dynamic prompt inputs with user interaction\n",
    "\n",
    "This allow users to input their own text for translation, summarization, or analysis."
   ]
  },
  {
   "cell_type": "code",
   "execution_count": 10,
   "id": "ba0955ad-d427-4b50-a7f8-e50828fbcfaa",
   "metadata": {},
   "outputs": [
    {
     "name": "stdout",
     "output_type": "stream",
     "text": [
      "Response: Passez une bonne nuit\n"
     ]
    }
   ],
   "source": [
    "task = input(\"Choose a task (translate/summarize/classify): \").strip()\n",
    "user_input = input(\"Enter your text: \")\n",
    "\n",
    "if task == \"translate\":\n",
    "    prompt = f\"Translate the following English sentence to French: '{user_input}'\"\n",
    "elif task == \"summarize\":\n",
    "    prompt = f\"Summarize the following text: '{user_input}'\"\n",
    "elif task == \"classify\":\n",
    "    prompt = f\"Classify this text into categories (Positive, Negative, Neutral): '{user_input}'\"\n",
    "else:\n",
    "    print(\"Invalid task selected.\")\n",
    "    exit()\n",
    "\n",
    "response = translate_with_langchain(prompt)\n",
    "print(\"Response:\", response)\n"
   ]
  },
  {
   "cell_type": "code",
   "execution_count": null,
   "id": "2ebd91ff-8863-4124-a759-100f666dd93f",
   "metadata": {},
   "outputs": [],
   "source": []
  }
 ],
 "metadata": {
  "colab": {
   "provenance": []
  },
  "kernelspec": {
   "display_name": "base",
   "language": "python",
   "name": "python3"
  },
  "language_info": {
   "codemirror_mode": {
    "name": "ipython",
    "version": 3
   },
   "file_extension": ".py",
   "mimetype": "text/x-python",
   "name": "python",
   "nbconvert_exporter": "python",
   "pygments_lexer": "ipython3",
   "version": "3.11.7"
  }
 },
 "nbformat": 4,
 "nbformat_minor": 5
}
