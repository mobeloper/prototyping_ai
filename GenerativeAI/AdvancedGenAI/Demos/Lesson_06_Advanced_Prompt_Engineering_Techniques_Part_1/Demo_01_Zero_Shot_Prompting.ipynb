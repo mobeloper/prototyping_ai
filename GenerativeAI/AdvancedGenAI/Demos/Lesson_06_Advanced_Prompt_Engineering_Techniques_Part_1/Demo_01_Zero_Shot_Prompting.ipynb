{
 "cells": [
  {
   "cell_type": "markdown",
   "id": "JjVaYKA3E4Sh",
   "metadata": {
    "id": "JjVaYKA3E4Sh"
   },
   "source": [
    "# __Demo: Zero-Shot Prompting with LangChain and OpenAI__"
   ]
  },
  {
   "cell_type": "markdown",
   "id": "L5xEJAD-FWkJ",
   "metadata": {
    "id": "L5xEJAD-FWkJ"
   },
   "source": [
    "## __Steps to Perform:__\n",
    "Step 1: Set up the OpenAI API Key\n",
    "\n",
    "Step 2: Define a Function to Get Completion\n",
    "\n",
    "Step 3: Define Your Prompt"
   ]
  },
  {
   "cell_type": "markdown",
   "id": "oejbW3zZlqXB",
   "metadata": {
    "id": "oejbW3zZlqXB"
   },
   "source": [
    "### __Step 1: Set up the OpenAI API Key__\n",
    "- The code imports the necessary libraries.\n",
    "- The **os** is used for interacting with the operating system, and __openai__ is the library required to work with OpenAI's API."
   ]
  },
  {
   "cell_type": "code",
   "execution_count": null,
   "id": "422ae32f",
   "metadata": {},
   "outputs": [],
   "source": [
    "# !pip install langchain-community"
   ]
  },
  {
   "cell_type": "code",
   "execution_count": 9,
   "id": "172a828d-22d6-486b-be55-62c9258add5b",
   "metadata": {
    "id": "172a828d-22d6-486b-be55-62c9258add5b"
   },
   "outputs": [],
   "source": [
    "import os\n",
    "import openai\n",
    "# from langchain.llms import OpenAI\n",
    "from langchain.llms import OpenAIChat\n",
    "from langchain.chat_models import ChatOpenAI\n",
    "\n",
    "from langchain.prompts import PromptTemplate\n",
    "from langchain.chains import LLMChain\n",
    "\n",
    "from dotenv import load_dotenv, find_dotenv\n",
    "\n",
    "_ = load_dotenv(find_dotenv()) # read local .env file\n",
    "openai.api_key = os.getenv('OPENAI_API_KEY')\n",
    "# openai.api_key = \"RRRRRRR\""
   ]
  },
  {
   "cell_type": "markdown",
   "id": "yI8QQCxCl-LQ",
   "metadata": {
    "id": "yI8QQCxCl-LQ"
   },
   "source": [
    "### __Step 2: Initialize the LangChain OpenAI LLM__\n"
   ]
  },
  {
   "cell_type": "code",
   "execution_count": 10,
   "id": "ef2f893e-62a2-4bb9-9af8-fbe111a377da",
   "metadata": {},
   "outputs": [],
   "source": [
    "# Initialize the LLM\n",
    "# llm = OpenAI(model_name=\"gpt-3.5-turbo\", temperature=0)\n",
    "# llm = OpenAI(api_key=os.environ.get(\"OPENAI_API_KEY\"))\n",
    "\n",
    "# llm = OpenAIChat(model_name=\"gpt-3.5-turbo\", temperature=0)\n",
    "llm = ChatOpenAI(model_name=\"gpt-3.5-turbo\", temperature=0)\n"
   ]
  },
  {
   "cell_type": "markdown",
   "id": "XJS0DNh0nonO",
   "metadata": {
    "id": "XJS0DNh0nonO"
   },
   "source": [
    "### __Step 3: Define Your Prompt__\n",
    "- The prompt variable is defined with a simple translation task."
   ]
  },
  {
   "cell_type": "code",
   "execution_count": 11,
   "id": "3ef6aa68-a8aa-45c6-b70b-3060e9253b90",
   "metadata": {
    "id": "3ef6aa68-a8aa-45c6-b70b-3060e9253b90",
    "outputId": "8d98a6c9-99b7-48e7-a2ea-fcf68b053879"
   },
   "outputs": [],
   "source": [
    "# Define a prompt template\n",
    "template = \"\"\"\n",
    "Translate the following English sentence to French:\n",
    "\n",
    "'{sentence}'\n",
    "\"\"\"\n",
    "prompt = PromptTemplate(template=template, input_variables=[\"sentence\"])\n"
   ]
  },
  {
   "cell_type": "code",
   "execution_count": 14,
   "id": "8df2acdd-73d6-4e3c-a2c5-25e2e92df99f",
   "metadata": {},
   "outputs": [
    {
     "ename": "ValidationError",
     "evalue": "2 validation errors for LLMChain\nprompt\n  field required (type=value_error.missing)\nprompte\n  extra fields not permitted (type=value_error.extra)",
     "output_type": "error",
     "traceback": [
      "\u001b[0;31m---------------------------------------------------------------------------\u001b[0m",
      "\u001b[0;31mValidationError\u001b[0m                           Traceback (most recent call last)",
      "Cell \u001b[0;32mIn[14], line 14\u001b[0m\n\u001b[1;32m     10\u001b[0m     \u001b[38;5;28;01mreturn\u001b[39;00m llm_chain\u001b[38;5;241m.\u001b[39mrun(sentence)\n\u001b[1;32m     13\u001b[0m \u001b[38;5;66;03m# Test the LangChain-based translation\u001b[39;00m\n\u001b[0;32m---> 14\u001b[0m response \u001b[38;5;241m=\u001b[39m \u001b[43mtranslate_with_langchain\u001b[49m\u001b[43m(\u001b[49m\u001b[38;5;124;43m\"\u001b[39;49m\u001b[38;5;124;43mHello, world!\u001b[39;49m\u001b[38;5;124;43m\"\u001b[39;49m\u001b[43m)\u001b[49m\n\u001b[1;32m     15\u001b[0m \u001b[38;5;28mprint\u001b[39m(\u001b[38;5;124m\"\u001b[39m\u001b[38;5;124mTranslated Sentence:\u001b[39m\u001b[38;5;124m\"\u001b[39m, response)\n",
      "Cell \u001b[0;32mIn[14], line 9\u001b[0m, in \u001b[0;36mtranslate_with_langchain\u001b[0;34m(sentence)\u001b[0m\n\u001b[1;32m      3\u001b[0m formatted_prompt \u001b[38;5;241m=\u001b[39m prompt\u001b[38;5;241m.\u001b[39mformat(sentence\u001b[38;5;241m=\u001b[39msentence)\n\u001b[1;32m      5\u001b[0m \u001b[38;5;66;03m# # return llm(formatted_prompt)\u001b[39;00m\n\u001b[1;32m      6\u001b[0m \u001b[38;5;66;03m# return llm.predict(formatted_prompt)\u001b[39;00m\n\u001b[1;32m      7\u001b[0m \n\u001b[1;32m      8\u001b[0m \u001b[38;5;66;03m# linking together the prompt template and llm\u001b[39;00m\n\u001b[0;32m----> 9\u001b[0m llm_chain \u001b[38;5;241m=\u001b[39m \u001b[43mLLMChain\u001b[49m\u001b[43m(\u001b[49m\u001b[43mllm\u001b[49m\u001b[38;5;241;43m=\u001b[39;49m\u001b[43mllm\u001b[49m\u001b[43m,\u001b[49m\u001b[43m \u001b[49m\u001b[43mprompte\u001b[49m\u001b[38;5;241;43m=\u001b[39;49m\u001b[43mformatted_prompt\u001b[49m\u001b[43m)\u001b[49m \n\u001b[1;32m     10\u001b[0m \u001b[38;5;28;01mreturn\u001b[39;00m llm_chain\u001b[38;5;241m.\u001b[39mrun(sentence)\n",
      "File \u001b[0;32m/opt/anaconda3/lib/python3.11/site-packages/langchain_core/load/serializable.py:107\u001b[0m, in \u001b[0;36mSerializable.__init__\u001b[0;34m(self, **kwargs)\u001b[0m\n\u001b[1;32m    106\u001b[0m \u001b[38;5;28;01mdef\u001b[39;00m \u001b[38;5;21m__init__\u001b[39m(\u001b[38;5;28mself\u001b[39m, \u001b[38;5;241m*\u001b[39m\u001b[38;5;241m*\u001b[39mkwargs: Any) \u001b[38;5;241m-\u001b[39m\u001b[38;5;241m>\u001b[39m \u001b[38;5;28;01mNone\u001b[39;00m:\n\u001b[0;32m--> 107\u001b[0m     \u001b[38;5;28;43msuper\u001b[39;49m\u001b[43m(\u001b[49m\u001b[43m)\u001b[49m\u001b[38;5;241;43m.\u001b[39;49m\u001b[38;5;21;43m__init__\u001b[39;49m\u001b[43m(\u001b[49m\u001b[38;5;241;43m*\u001b[39;49m\u001b[38;5;241;43m*\u001b[39;49m\u001b[43mkwargs\u001b[49m\u001b[43m)\u001b[49m\n\u001b[1;32m    108\u001b[0m     \u001b[38;5;28mself\u001b[39m\u001b[38;5;241m.\u001b[39m_lc_kwargs \u001b[38;5;241m=\u001b[39m kwargs\n",
      "File \u001b[0;32m/opt/anaconda3/lib/python3.11/site-packages/pydantic/v1/main.py:341\u001b[0m, in \u001b[0;36mBaseModel.__init__\u001b[0;34m(__pydantic_self__, **data)\u001b[0m\n\u001b[1;32m    339\u001b[0m values, fields_set, validation_error \u001b[38;5;241m=\u001b[39m validate_model(__pydantic_self__\u001b[38;5;241m.\u001b[39m\u001b[38;5;18m__class__\u001b[39m, data)\n\u001b[1;32m    340\u001b[0m \u001b[38;5;28;01mif\u001b[39;00m validation_error:\n\u001b[0;32m--> 341\u001b[0m     \u001b[38;5;28;01mraise\u001b[39;00m validation_error\n\u001b[1;32m    342\u001b[0m \u001b[38;5;28;01mtry\u001b[39;00m:\n\u001b[1;32m    343\u001b[0m     object_setattr(__pydantic_self__, \u001b[38;5;124m'\u001b[39m\u001b[38;5;124m__dict__\u001b[39m\u001b[38;5;124m'\u001b[39m, values)\n",
      "\u001b[0;31mValidationError\u001b[0m: 2 validation errors for LLMChain\nprompt\n  field required (type=value_error.missing)\nprompte\n  extra fields not permitted (type=value_error.extra)"
     ]
    }
   ],
   "source": [
    "def translate_with_langchain(sentence):\n",
    "    # Format the prompt and run the LLM\n",
    "    formatted_prompt = prompt.format(sentence=sentence)\n",
    "    \n",
    "    # # return llm(formatted_prompt)\n",
    "    # return llm.predict(formatted_prompt)\n",
    "\n",
    "    # linking together the prompt template and llm\n",
    "    llm_chain = LLMChain(llm=llm, prompte=formatted_prompt) \n",
    "    return llm_chain.run(sentence)\n",
    "\n",
    "\n",
    "# Test the LangChain-based translation\n",
    "response = translate_with_langchain(\"Hello, world!\")\n",
    "print(\"Translated Sentence:\", response)\n"
   ]
  },
  {
   "cell_type": "markdown",
   "id": "a5595bc0-b86d-439e-94d9-f623fb051077",
   "metadata": {},
   "source": [
    "#### Dynamic prompt inputs with user interaction\n",
    "\n",
    "This allow users to input their own text for translation, summarization, or analysis."
   ]
  },
  {
   "cell_type": "code",
   "execution_count": 5,
   "id": "ba0955ad-d427-4b50-a7f8-e50828fbcfaa",
   "metadata": {},
   "outputs": [
    {
     "name": "stdout",
     "output_type": "stream",
     "text": [
      "Choose a task (translate/summarize/classify):  translate\n",
      "Enter your text:  why are you late\n"
     ]
    },
    {
     "name": "stdout",
     "output_type": "stream",
     "text": [
      "Response: Pourquoi es-tu en retard ?\n"
     ]
    }
   ],
   "source": [
    "task = input(\"Choose a task (translate/summarize/classify): \").strip()\n",
    "user_input = input(\"Enter your text: \")\n",
    "\n",
    "if task == \"translate\":\n",
    "    prompt = f\"Translate the following English sentence to French: '{user_input}'\"\n",
    "elif task == \"summarize\":\n",
    "    prompt = f\"Summarize the following text: '{user_input}'\"\n",
    "elif task == \"classify\":\n",
    "    prompt = f\"Classify this text into categories (Positive, Negative, Neutral): '{user_input}'\"\n",
    "else:\n",
    "    print(\"Invalid task selected.\")\n",
    "    exit()\n",
    "\n",
    "response = translate_with_langchain(prompt)\n",
    "print(\"Response:\", response)\n"
   ]
  },
  {
   "cell_type": "code",
   "execution_count": null,
   "id": "2ebd91ff-8863-4124-a759-100f666dd93f",
   "metadata": {},
   "outputs": [],
   "source": []
  }
 ],
 "metadata": {
  "colab": {
   "provenance": []
  },
  "kernelspec": {
   "display_name": "base",
   "language": "python",
   "name": "python3"
  },
  "language_info": {
   "codemirror_mode": {
    "name": "ipython",
    "version": 3
   },
   "file_extension": ".py",
   "mimetype": "text/x-python",
   "name": "python",
   "nbconvert_exporter": "python",
   "pygments_lexer": "ipython3",
   "version": "3.11.7"
  }
 },
 "nbformat": 4,
 "nbformat_minor": 5
}
