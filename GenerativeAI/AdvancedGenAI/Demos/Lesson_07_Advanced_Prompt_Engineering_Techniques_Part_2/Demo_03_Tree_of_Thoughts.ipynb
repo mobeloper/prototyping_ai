{
 "cells": [
  {
   "cell_type": "markdown",
   "id": "briPFNp1Fzpv",
   "metadata": {
    "id": "briPFNp1Fzpv"
   },
   "source": [
    "# __Demo: Tree of Thought Prompting with LangChain and OpenAI__\n",
    "\n",
    "\n",
    "## __Steps to Perform:__\n",
    "Step 1: Set up the OpenAI API Key\n",
    "\n",
    "Step 2: Define the Tree of Thought Prompt Template\n",
    "\n",
    "Step 3: Define Your Prompts\n",
    "\n"
   ]
  },
  {
   "cell_type": "markdown",
   "id": "eAM5-YP-GFdY",
   "metadata": {
    "id": "eAM5-YP-GFdY"
   },
   "source": [
    "### __Step 1: Set Up OpenAI API Key and LangChain__"
   ]
  },
  {
   "cell_type": "code",
   "execution_count": 2,
   "id": "edd589c7-3089-4387-801d-443eae67a201",
   "metadata": {
    "id": "edd589c7-3089-4387-801d-443eae67a201"
   },
   "outputs": [
    {
     "name": "stderr",
     "output_type": "stream",
     "text": [
      "/voc/work/.local/lib/python3.10/site-packages/langchain/llms/openai.py:241: UserWarning: You are trying to use a chat model. This way of initializing it is no longer supported. Instead, please use: `from langchain.chat_models import ChatOpenAI`\n",
      "  warnings.warn(\n",
      "/voc/work/.local/lib/python3.10/site-packages/langchain/llms/openai.py:898: UserWarning: You are trying to use a chat model. This way of initializing it is no longer supported. Instead, please use: `from langchain.chat_models import ChatOpenAI`\n",
      "  warnings.warn(\n"
     ]
    }
   ],
   "source": [
    "import os\n",
    "from langchain.llms import OpenAI\n",
    "from langchain.prompts import PromptTemplate\n",
    "from langchain.chains import LLMChain\n",
    "\n",
    "# Set up OpenAI API Key\n",
    "#os.environ[\"OPENAI_API_KEY\"] = \"your_openai_api_key\"\n",
    "\n",
    "# Initialize LangChain OpenAI LLM with temperature set for deterministic output\n",
    "llm = OpenAI(model_name=\"gpt-3.5-turbo\", temperature=0)\n"
   ]
  },
  {
   "cell_type": "markdown",
   "id": "kfeoI7zTGTCY",
   "metadata": {
    "id": "kfeoI7zTGTCY"
   },
   "source": [
    "### __Step 2: Define the Tree of Thought Prompt Template__\n",
    "\n",
    "The tree of thought involves exploring multiple approaches (branches) to solve a problem. The PromptTemplate structures this exploration."
   ]
  },
  {
   "cell_type": "code",
   "execution_count": 3,
   "id": "629a2fcb-cffc-4e05-bfc8-429802da7925",
   "metadata": {
    "id": "629a2fcb-cffc-4e05-bfc8-429802da7925"
   },
   "outputs": [],
   "source": [
    "# Define the Tree of Thought prompt template\n",
    "template = \"\"\"\n",
    "Problem: {problem}\n",
    "\n",
    "Let's solve this step-by-step by exploring multiple approaches:\n",
    "\n",
    "1. First branch of thought:\n",
    "{branch_1}\n",
    "\n",
    "2. Second branch of thought:\n",
    "{branch_2}\n",
    "\n",
    "3. Third branch of thought:\n",
    "{branch_3}\n",
    "\n",
    "Considering these approaches, the best solution is:\n",
    "\"\"\"\n",
    "\n",
    "# Create a LangChain PromptTemplate\n",
    "prompt = PromptTemplate(\n",
    "    template=template,\n",
    "    input_variables=[\"problem\", \"branch_1\", \"branch_2\", \"branch_3\"]\n",
    ")\n"
   ]
  },
  {
   "cell_type": "markdown",
   "id": "7sMtUV5hGhjR",
   "metadata": {
    "id": "7sMtUV5hGhjR"
   },
   "source": [
    "### __Step 3: Create and Run the Tree of Thought Chain__\n",
    "Use LangChain's LLMChain to execute the tree of thought prompting logic."
   ]
  },
  {
   "cell_type": "code",
   "execution_count": 4,
   "id": "22ef5cdd-bf0f-4dc3-850b-9ec6fd9f03b7",
   "metadata": {
    "id": "22ef5cdd-bf0f-4dc3-850b-9ec6fd9f03b7",
    "outputId": "34dd8c18-2340-4020-a6cd-5970277c46db"
   },
   "outputs": [
    {
     "name": "stdout",
     "output_type": "stream",
     "text": [
      "Tree of Thought Response:\n",
      " The farmer should enclose a square field with each side measuring 25 meters. This would result in the maximum area of 625 square meters.\n"
     ]
    }
   ],
   "source": [
    "# Define the problem and thought branches\n",
    "problem = \"A farmer has 100 meters of fencing and wants to enclose the maximum area for a rectangular field. What should the dimensions be?\"\n",
    "\n",
    "branch_1 = \"If the field is a square, each side would be 100 / 4 = 25 meters. The area would be 25 * 25 = 625 square meters.\"\n",
    "branch_2 = \"If the field has a 2:1 ratio, the lengths would be 40 and 20 meters. The area would be 40 * 20 = 800 square meters.\"\n",
    "branch_3 = \"Consider the field as an open-ended rectangle. Testing various ratios, a 50:25 ratio gives an area of 1250 square meters if it were possible. However, for a closed field with 100 meters, a square or 2:1 ratio may be optimal.\"\n",
    "\n",
    "# Initialize the LangChain chain\n",
    "llm_chain = LLMChain(prompt=prompt, llm=llm)\n",
    "\n",
    "# Run the chain\n",
    "response = llm_chain.run(problem=problem, branch_1=branch_1, branch_2=branch_2, branch_3=branch_3)\n",
    "print(\"Tree of Thought Response:\\n\", response)\n"
   ]
  },
  {
   "cell_type": "markdown",
   "id": "f1ffIbSSFx-S",
   "metadata": {
    "id": "f1ffIbSSFx-S"
   },
   "source": [
    "\n",
    "Analyze the output of the model. If the output is not satisfactory, you can refine the prompts and repeat the process."
   ]
  }
 ],
 "metadata": {
  "colab": {
   "provenance": []
  },
  "kernelspec": {
   "display_name": "Python 3 [3.10]",
   "language": "python",
   "name": "python3"
  },
  "language_info": {
   "codemirror_mode": {
    "name": "ipython",
    "version": 3
   },
   "file_extension": ".py",
   "mimetype": "text/x-python",
   "name": "python",
   "nbconvert_exporter": "python",
   "pygments_lexer": "ipython3",
   "version": "3.10.2"
  }
 },
 "nbformat": 4,
 "nbformat_minor": 5
}
