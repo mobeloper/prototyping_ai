{
 "cells": [
  {
   "cell_type": "markdown",
   "metadata": {
    "id": "elAmecKCU9Bx"
   },
   "source": [
    "# __Demo: Using f-string Template Format__"
   ]
  },
  {
   "cell_type": "markdown",
   "metadata": {
    "id": "wLmsal6JUe6L"
   },
   "source": [
    "## __Steps to Perform:__\n",
    "Step 1: Define a Template Using the f-string Format\n",
    "\n",
    "Step 2: Create a Prompt Using the f-string Template\n",
    "\n",
    "Step 3: Use the Prompt to Generate a Question\n",
    "\n",
    "Step 4: Output the Summary"
   ]
  },
  {
   "cell_type": "markdown",
   "metadata": {
    "id": "3764M8jdTida"
   },
   "source": [
    "### __Step 1: Define a Template Using f-string Format__\n",
    "- Define a template string using the f-string formatting in Python.\n",
    "- Use placeholders __{book_title}__ to dynamically insert different book titles into the prompt."
   ]
  },
  {
   "cell_type": "code",
   "execution_count": null,
   "metadata": {
    "id": "fSecM8KpTrWe"
   },
   "outputs": [],
   "source": [
    "from langchain.prompts import PromptTemplate\n",
    "\n",
    "fstring_template = \"Here is a brief summary for the book titled '{book_title}':\""
   ]
  },
  {
   "cell_type": "markdown",
   "metadata": {
    "id": "IMheNBp6VoFf"
   },
   "source": [
    "### __Step 2: Create a Prompt Using the f-string Template__\n",
    "- Instantiate the template with a specific book title to create a custom prompt for summarizing that book."
   ]
  },
  {
   "cell_type": "code",
   "execution_count": null,
   "metadata": {
    "id": "jg40MlcCVfUP"
   },
   "outputs": [],
   "source": [
    "book_title = \"The Great Gatsby\"\n",
    "\n",
    "prompt = fstring_template.format(book_title=book_title)"
   ]
  },
  {
   "cell_type": "markdown",
   "metadata": {
    "id": "bNWD5OzHVozU"
   },
   "source": [
    "### __Step 3: Use the Prompt to Request a Summary from an AI Model__\n",
    "- Pass the generated prompt to an AI model to obtain a summary.\n",
    "- This can be done by calling the model's API or using a local function that generates the summary.\n"
   ]
  },
  {
   "cell_type": "code",
   "execution_count": null,
   "metadata": {
    "id": "fOfkumuuVivA",
    "outputId": "6d70855f-ec27-48cb-a0f9-6eafc72a99dc"
   },
   "outputs": [
    {
     "name": "stdout",
     "output_type": "stream",
     "text": [
      "It's a novel about love, wealth, and aspiration, set in the Roaring '20s.\n"
     ]
    }
   ],
   "source": [
    "def get_book_summary(prompt):\n",
    "\n",
    "    return \"It's a novel about love, wealth, and aspiration, set in the Roaring '20s.\"\n",
    "\n",
    "summary = get_book_summary(prompt)\n",
    "print(summary)\n"
   ]
  },
  {
   "cell_type": "markdown",
   "metadata": {
    "id": "bGd75HkvWp11"
   },
   "source": [
    "### __Step 4: Output the Summary__\n",
    "- Output the generated summary to the user or save it to a file or database as required.\n"
   ]
  },
  {
   "cell_type": "code",
   "execution_count": null,
   "metadata": {
    "id": "gRSv6_miW0kC",
    "outputId": "d19b412c-d01f-48a5-a23e-8706703aeacc"
   },
   "outputs": [
    {
     "name": "stdout",
     "output_type": "stream",
     "text": [
      "Summary for 'The Great Gatsby': It's a novel about love, wealth, and aspiration, set in the Roaring '20s.\n"
     ]
    }
   ],
   "source": [
    "print(f\"Summary for '{book_title}': {summary}\")"
   ]
  },
  {
   "cell_type": "code",
   "execution_count": null,
   "metadata": {
    "id": "Gnv-3-9f3x7b"
   },
   "outputs": [],
   "source": []
  }
 ],
 "metadata": {
  "colab": {
   "provenance": []
  },
  "kernelspec": {
   "display_name": "Python 3 (ipykernel)",
   "language": "python",
   "name": "python3"
  },
  "language_info": {
   "codemirror_mode": {
    "name": "ipython",
    "version": 3
   },
   "file_extension": ".py",
   "mimetype": "text/x-python",
   "name": "python",
   "nbconvert_exporter": "python",
   "pygments_lexer": "ipython3",
   "version": "3.12.7"
  }
 },
 "nbformat": 4,
 "nbformat_minor": 4
}
