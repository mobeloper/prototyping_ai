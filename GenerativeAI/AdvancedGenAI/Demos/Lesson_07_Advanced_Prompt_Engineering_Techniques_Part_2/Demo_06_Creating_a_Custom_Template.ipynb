{
 "cells": [
  {
   "cell_type": "markdown",
   "metadata": {
    "id": "4roy4qsj1HhJ"
   },
   "source": [
    "# __Demo: Creating a Custom Template__\n",
    "\n"
   ]
  },
  {
   "cell_type": "markdown",
   "metadata": {
    "id": "A0r26RT81sh-"
   },
   "source": [
    "## __Steps to Perform__\n",
    "Step 1: Set up the Environment\n",
    "\n",
    "Step 2: Define the Prompt Template\n",
    "\n",
    "Step 3: Create a Custom Prompt Template Class\n",
    "\n"
   ]
  },
  {
   "cell_type": "markdown",
   "metadata": {
    "id": "GUqdXgBuMhqD"
   },
   "source": [
    "### __Step 1: Set up the Environment__\n",
    "\n",
    "- Import required modules such as StringPromptTemplate from the langchain.prompts library and BaseModel and validator from Pydantic library.\n",
    "\n"
   ]
  },
  {
   "cell_type": "code",
   "execution_count": null,
   "metadata": {
    "id": "6oww_cmmMdB8"
   },
   "outputs": [],
   "source": [
    "from langchain.prompts import StringPromptTemplate\n",
    "from pydantic import BaseModel, validator"
   ]
  },
  {
   "cell_type": "markdown",
   "metadata": {
    "id": "1zzdTeHqMMH6"
   },
   "source": [
    "### __Step 2: Define the Prompt Template__\n",
    "- Define a constant string PROMPT that outlines the structure of the prompt to be used for generating book summaries.\n",
    "- Include placeholders for dynamic content like the book title."
   ]
  },
  {
   "cell_type": "code",
   "execution_count": null,
   "metadata": {
    "id": "XkljrGLl1FNB"
   },
   "outputs": [],
   "source": [
    "PROMPT = \"\"\"\\\n",
    "Given the book title, generate a brief summary of the book.\n",
    "Book Title: {book_title}\n",
    "Summary:\n",
    "\"\"\"\n"
   ]
  },
  {
   "cell_type": "markdown",
   "metadata": {
    "id": "eeWElOXZNCpI"
   },
   "source": [
    "### __Step 3: Create a Custom Prompt Template Class__\n",
    "\n",
    "- The custom class BookSummarizerPrompt is created, which does not inherit from __StringPromptTemplate__ as initially described.\n",
    "- It has a template field of type __StringPromptTemplate__. This class is responsible for integrating the prompt template with dynamic content (the book title) and is built on BaseModel from Pydantic to enable input validation.\n",
    "- The Config class within __BookSummarizerPrompt__ sets __arbitrary_types_allowed = True__, allowing for the inclusion of custom types like __StringPromptTemplate__ as a field in the Pydantic model.\n",
    "- A __create_prompt__ method is implemented to dynamically insert the book title into the prompt template."
   ]
  },
  {
   "cell_type": "code",
   "execution_count": null,
   "metadata": {
    "id": "PyXjBvyseNJG",
    "outputId": "cb83d157-411d-4657-ead3-70bb2db088f3"
   },
   "outputs": [
    {
     "name": "stdout",
     "output_type": "stream",
     "text": [
      "Given the book title, generate a brief summary of the book.\n",
      "Book Title: The Great Gatsby\n",
      "Summary:\n",
      "\n"
     ]
    }
   ],
   "source": [
    "from pydantic import BaseModel, validator\n",
    "\n",
    "class StringPromptTemplate:\n",
    "    def __init__(self, template):\n",
    "        self.template = template\n",
    "\n",
    "    def format(self, **kwargs):\n",
    "        return self.template.format(**kwargs)\n",
    "\n",
    "class BookSummarizerPrompt(BaseModel):\n",
    "    book_title: str\n",
    "    template: StringPromptTemplate\n",
    "\n",
    "    class Config:\n",
    "        arbitrary_types_allowed = True\n",
    "\n",
    "    def create_prompt(self):\n",
    "        return self.template.format(book_title=self.book_title)\n",
    "\n",
    "# Assuming an instance of StringPromptTemplate is created elsewhere\n",
    "template = StringPromptTemplate(\n",
    "    \"\"\"\\\n",
    "Given the book title, generate a brief summary of the book.\n",
    "Book Title: {book_title}\n",
    "Summary:\n",
    "\"\"\"\n",
    ")\n",
    "\n",
    "# Usage\n",
    "book_summarizer_prompt = BookSummarizerPrompt(book_title=\"The Great Gatsby\", template=template)\n",
    "print(book_summarizer_prompt.create_prompt())\n"
   ]
  },
  {
   "cell_type": "markdown",
   "metadata": {
    "id": "ZEodx3syeNJH"
   },
   "source": [
    "## __Conclusion__\n",
    "This demo is designed to dynamically generate book summaries by inserting book titles into a structured prompt template.\n",
    "\n",
    "It achieves this through a custom implementation involving a template class for formatting and a Pydantic model for data validation and dynamic content integration, ensuring the output is tailored and accurate."
   ]
  }
 ],
 "metadata": {
  "colab": {
   "provenance": []
  },
  "kernelspec": {
   "display_name": "Python 3 (ipykernel)",
   "language": "python",
   "name": "python3"
  },
  "language_info": {
   "codemirror_mode": {
    "name": "ipython",
    "version": 3
   },
   "file_extension": ".py",
   "mimetype": "text/x-python",
   "name": "python",
   "nbconvert_exporter": "python",
   "pygments_lexer": "ipython3",
   "version": "3.12.7"
  }
 },
 "nbformat": 4,
 "nbformat_minor": 4
}
