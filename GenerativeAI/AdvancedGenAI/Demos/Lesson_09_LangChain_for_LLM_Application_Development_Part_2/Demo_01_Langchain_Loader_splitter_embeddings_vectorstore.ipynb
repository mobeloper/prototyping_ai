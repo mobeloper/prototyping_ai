{
  "cells": [
    {
      "cell_type": "markdown",
      "id": "IY1MDblAlyIG",
      "metadata": {
        "id": "IY1MDblAlyIG"
      },
      "source": [
        "# **Demo: LangChain Loader, Splitter, Embeddings, and VectorStore**"
      ]
    },
    {
      "cell_type": "markdown",
      "id": "kGVt_ry_Mwyj",
      "metadata": {
        "id": "kGVt_ry_Mwyj"
      },
      "source": [
        "# __Description:__\n",
        "In this activity, you will implement the functionalities of LangChain’s loaders, splitters, embeddings, and VectorStores.\n",
        "The two files in the tutorial serve as practical examples of real-world data that one might encounter in natural language processing tasks. They are:\n",
        "\n",
        "•\tThe **state_of_union.txt** file, which contains transcripts of the United States’ State of the Union Addresses, represents a large text document that can be loaded and processed.\n",
        "\n",
        "•\tThe **michael_resume.pdf** file, an open source resume, represents a common type of document that one might analyze for tasks such as resume screening or information extraction.\n",
        "\n",
        "\n"
      ]
    },
    {
      "cell_type": "markdown",
      "id": "TIxRkrn-l5qc",
      "metadata": {
        "id": "TIxRkrn-l5qc"
      },
      "source": [
        "# **Steps to Perform:**\n",
        "\n",
        "\n",
        "1.   Import the Necessary Modules\n",
        "2.   Load Text Data from a File Using TextLoader\n",
        "3.   Load PDFs from the Internet Using PyPDFLoader\n",
        "4.   Split the Documents Using RecursiveCharacterTextSplitter\n",
        "5.   Embed the Documents Using HuggingFaceEmbeddings and Print the Length of the Embedding\n",
        "6.   Embed the Documents Using OpenAIEmbeddings and Print the Length of the Embedding\n",
        "7.   Create a FAISS Instance\n",
        "8.   Perform a Similarity Search on the FAISS Instance\n",
        "9.   Persist the FAISS Instance\n",
        "10.  Load the Persisted FAISS Instance\n",
        "\n",
        "\n"
      ]
    },
    {
      "cell_type": "markdown",
      "id": "6xcPQbtUNQU6",
      "metadata": {
        "id": "6xcPQbtUNQU6"
      },
      "source": [
        "# **Step 1: Import the Necessary Modules**\n",
        "\n",
        "\n",
        "\n",
        "\n",
        "\n"
      ]
    },
    {
      "cell_type": "code",
      "execution_count": null,
      "id": "b6940571-b490-4a34-9586-f8f2de73d967",
      "metadata": {
        "id": "b6940571-b490-4a34-9586-f8f2de73d967",
        "outputId": "2bbf7cd5-625f-49d4-ddc5-416e50694d8f"
      },
      "outputs": [],
      "source": [
        "# !pip install pysqlite3\n",
        "# !pip install pysqlite3-binary\n",
        "# !pip install pypdf"
      ]
    },
    {
      "cell_type": "code",
      "execution_count": 4,
      "id": "fc5eb3a8-7af7-4ef6-a610-55b3ea88eb6b",
      "metadata": {
        "id": "fc5eb3a8-7af7-4ef6-a610-55b3ea88eb6b"
      },
      "outputs": [],
      "source": [
        "from langchain.document_loaders import TextLoader, PyPDFLoader\n",
        "from langchain.text_splitter import RecursiveCharacterTextSplitter\n",
        "from langchain.embeddings import HuggingFaceEmbeddings, OpenAIEmbeddings\n",
        "from langchain.vectorstores import FAISS\n",
        "import faiss\n",
        "import pysqlite3\n",
        "import sys\n",
        "sys.modules[\"sqlite3\"] = sys.modules.pop(\"pysqlite3\")"
      ]
    },
    {
      "cell_type": "markdown",
      "id": "YeSU0ZxxNiuM",
      "metadata": {
        "id": "YeSU0ZxxNiuM"
      },
      "source": [
        "#**Step 2: Load Text Data from a File Using TextLoader**\n",
        "\n",
        "\n",
        "\n",
        "*   Print the first 100 characters from the loaded text.\n",
        "\n"
      ]
    },
    {
      "cell_type": "code",
      "execution_count": 5,
      "id": "a2ca979f-04fd-4c58-8798-034292d94377",
      "metadata": {
        "id": "a2ca979f-04fd-4c58-8798-034292d94377",
        "outputId": "b13cdbd8-40a8-428b-dd34-3d88d59abf93"
      },
      "outputs": [
        {
          "name": "stdout",
          "output_type": "stream",
          "text": [
            "[Document(page_content='Madam Speaker, Madam Vice President, our First Lady and Second Gentleman. Members of Congress and the Cabinet. Justices of the Supreme Court. My fellow Americans.  \\n\\nLast year COVID-19 kept us apart. This year we are finally together again. \\n\\nTonight, we meet as Democrats Republicans and Independents. But most importantly as Americans. \\n\\nWith a duty to one another to the American people to the Constitution. \\n\\nAnd with an unwavering resolve that freedom will always triumph over tyranny. \\n\\nSix days ago, Russia’s Vladimir Putin sought to shake the foundations of the free world thinking he could make it bend to his menacing ways. But he badly miscalculated. \\n\\nHe thought he could roll into Ukraine and the world would roll over. Instead he met a wall of strength he never imagined. \\n\\nHe met the Ukrainian people. \\n\\nFrom President Zelenskyy to every Ukrainian, their fearlessness, their courage, their determination, inspires the world. \\n\\nGroups of citizens blocking tanks with their bodies. Everyone from students to retirees teachers turned soldiers defending their homeland. \\n\\nIn this struggle as President Zelenskyy said in his speech to the European Parliament Light will win over darkness. The Ukrainian Ambassador to the United States is here tonight. \\n\\nLet each of us here tonight in this Chamber send an unmistakable signal to Ukraine and to the world. \\n\\nPlease rise if you are able and show that, Yes, we the United States of America stand with the Ukrainian people. \\n\\nThroughout our history we’ve learned this lesson when dictators do not pay a price for their aggression they cause more chaos.   \\n\\nThey keep moving.   \\n\\nAnd the costs and the threats to America and the world keep rising.   \\n\\nThat’s why the NATO Alliance was created to secure peace and stability in Europe after World War 2. \\n\\nThe United States is a member along with 29 other nations. \\n\\nIt matters. American diplomacy matters. American resolve matters. \\n\\nPutin’s latest attack on Ukraine was premeditated and unprovoked. \\n\\nHe rejected repeated efforts at diplomacy. \\n\\nHe thought the West and NATO wouldn’t respond. And he thought he could divide us at home. Putin was wrong. We were ready.  Here is what we did.   \\n\\nWe prepared extensively and carefully. \\n\\nWe spent months building a coalition of other freedom-loving nations from Europe and the Americas to Asia and Africa to confront Putin. \\n\\nI spent countless hours unifying our European allies. We shared with the world in advance what we knew Putin was planning and precisely how he would try to falsely justify his aggression.  \\n\\nWe countered Russia’s lies with truth.   \\n\\nAnd now that he has acted the free world is holding him accountable. \\n\\nAlong with twenty-seven members of the European Union including France, Germany, Italy, as well as countries like the United Kingdom, Canada, Japan, Korea, Australia, New Zealand, and many others, even Switzerland. \\n\\nWe are inflicting pain on Russia and supporting the people of Ukraine. Putin is now isolated from the world more than ever. \\n\\nTogether with our allies –we are right now enforcing powerful economic sanctions. \\n\\nWe are cutting off Russia’s largest banks from the international financial system.  \\n\\nPreventing Russia’s central bank from defending the Russian Ruble making Putin’s $630 Billion war fund worthless.   \\n\\nWe are choking off Russia’s access to technology that will sap its economic strength and weaken its military for years to come.  \\n\\nTonight I say to the Russian oligarchs and corrupt leaders who have bilked billions of dollars off this violent regime no more. \\n\\nThe U.S. Department of Justice is assembling a dedicated task force to go after the crimes of Russian oligarchs.  \\n\\nWe are joining with our European allies to find and seize your yachts your luxury apartments your private jets. We are coming for your ill-begotten gains. \\n\\nAnd tonight I am announcing that we will join our allies in closing off American air space to all Russian flights – further isolating Russia – and adding an additional squeeze –on their economy. The Ruble has lost 30% of its value. \\n\\nThe Russian stock market has lost 40% of its value and trading remains suspended. Russia’s economy is reeling and Putin alone is to blame. \\n\\nTogether with our allies we are providing support to the Ukrainians in their fight for freedom. Military assistance. Economic assistance. Humanitarian assistance. \\n\\nWe are giving more than $1 Billion in direct assistance to Ukraine. \\n\\nAnd we will continue to aid the Ukrainian people as they defend their country and to help ease their suffering.  \\n\\nLet me be clear, our forces are not engaged and will not engage in conflict with Russian forces in Ukraine.  \\n\\nOur forces are not going to Europe to fight in Ukraine, but to defend our NATO Allies – in the event that Putin decides to keep moving west.  \\n\\nFor that purpose we’ve mobilized American ground forces, air squadrons, and ship deployments to protect NATO countries including Poland, Romania, Latvia, Lithuania, and Estonia. \\n\\nAs I have made crystal clear the United States and our Allies will defend every inch of territory of NATO countries with the full force of our collective power.  \\n\\nAnd we remain clear-eyed. The Ukrainians are fighting back with pure courage. But the next few days weeks, months, will be hard on them.  \\n\\nPutin has unleashed violence and chaos.  But while he may make gains on the battlefield – he will pay a continuing high price over the long run. \\n\\nAnd a proud Ukrainian people, who have known 30 years  of independence, have repeatedly shown that they will not tolerate anyone who tries to take their country backwards.  \\n\\nTo all Americans, I will be honest with you, as I’ve always promised. A Russian dictator, invading a foreign country, has costs around the world. \\n\\nAnd I’m taking robust action to make sure the pain of our sanctions  is targeted at Russia’s economy. And I will use every tool at our disposal to protect American businesses and consumers. \\n\\nTonight, I can announce that the United States has worked with 30 other countries to release 60 Million barrels of oil from reserves around the world.  \\n\\nAmerica will lead that effort, releasing 30 Million barrels from our own Strategic Petroleum Reserve. And we stand ready to do more if necessary, unified with our allies.  \\n\\nThese steps will help blunt gas prices here at home. And I know the news about what’s happening can seem alarming. \\n\\nBut I want you to know that we are going to be okay. \\n\\nWhen the history of this era is written Putin’s war on Ukraine will have left Russia weaker and the rest of the world stronger. \\n\\nWhile it shouldn’t have taken something so terrible for people around the world to see what’s at stake now everyone sees it clearly. \\n\\nWe see the unity among leaders of nations and a more unified Europe a more unified West. And we see unity among the people who are gathering in cities in large crowds around the world even in Russia to demonstrate their support for Ukraine.  \\n\\nIn the battle between democracy and autocracy, democracies are rising to the moment, and the world is clearly choosing the side of peace and security. \\n\\nThis is a real test. It’s going to take time. So let us continue to draw inspiration from the iron will of the Ukrainian people. \\n\\nTo our fellow Ukrainian Americans who forge a deep bond that connects our two nations we stand with you. \\n\\nPutin may circle Kyiv with tanks, but he will never gain the hearts and souls of the Ukrainian people. \\n\\nHe will never extinguish their love of freedom. He will never weaken the resolve of the free world. \\n\\nWe meet tonight in an America that has lived through two of the hardest years this nation has ever faced. \\n\\nThe pandemic has been punishing. \\n\\nAnd so many families are living paycheck to paycheck, struggling to keep up with the rising cost of food, gas, housing, and so much more. \\n\\nI understand. \\n\\nI remember when my Dad had to leave our home in Scranton, Pennsylvania to find work. I grew up in a family where if the price of food went up, you felt it. \\n\\nThat’s why one of the first things I did as President was fight to pass the American Rescue Plan.  \\n\\nBecause people were hurting. We needed to act, and we did. \\n\\nFew pieces of legislation have done more in a critical moment in our history to lift us out of crisis. \\n\\nIt fueled our efforts to vaccinate the nation and combat COVID-19. It delivered immediate economic relief for tens of millions of Americans.  \\n\\nHelped put food on their table, keep a roof over their heads, and cut the cost of health insurance. \\n\\nAnd as my Dad used to say, it gave people a little breathing room. \\n\\nAnd unlike the $2 Trillion tax cut passed in the previous administration that benefitted the top 1% of Americans, the American Rescue Plan helped working people—and left no one behind. \\n\\nAnd it worked. It created jobs. Lots of jobs. \\n\\nIn fact—our economy created over 6.5 Million new jobs just last year, more jobs created in one year  \\nthan ever before in the history of America. \\n\\nOur economy grew at a rate of 5.7% last year, the strongest growth in nearly 40 years, the first step in bringing fundamental change to an economy that hasn’t worked for the working people of this nation for too long.  \\n\\nFor the past 40 years we were told that if we gave tax breaks to those at the very top, the benefits would trickle down to everyone else. \\n\\nBut that trickle-down theory led to weaker economic growth, lower wages, bigger deficits, and the widest gap between those at the top and everyone else in nearly a century. \\n\\nVice President Harris and I ran for office with a new economic vision for America. \\n\\nInvest in America. Educate Americans. Grow the workforce. Build the economy from the bottom up  \\nand the middle out, not from the top down.  \\n\\nBecause we know that when the middle class grows, the poor have a ladder up and the wealthy do very well. \\n\\nAmerica used to have the best roads, bridges, and airports on Earth. \\n\\nNow our infrastructure is ranked 13th in the world. \\n\\nWe won’t be able to compete for the jobs of the 21st Century if we don’t fix that. \\n\\nThat’s why it was so important to pass the Bipartisan Infrastructure Law—the most sweeping investment to rebuild America in history. \\n\\nThis was a bipartisan effort, and I want to thank the members of both parties who worked to make it happen. \\n\\nWe’re done talking about infrastructure weeks. \\n\\nWe’re going to have an infrastructure decade. \\n\\nIt is going to transform America and put us on a path to win the economic competition of the 21st Century that we face with the rest of the world—particularly with China.  \\n\\nAs I’ve told Xi Jinping, it is never a good bet to bet against the American people. \\n\\nWe’ll create good jobs for millions of Americans, modernizing roads, airports, ports, and waterways all across America. \\n\\nAnd we’ll do it all to withstand the devastating effects of the climate crisis and promote environmental justice. \\n\\nWe’ll build a national network of 500,000 electric vehicle charging stations, begin to replace poisonous lead pipes—so every child—and every American—has clean water to drink at home and at school, provide affordable high-speed internet for every American—urban, suburban, rural, and tribal communities. \\n\\n4,000 projects have already been announced. \\n\\nAnd tonight, I’m announcing that this year we will start fixing over 65,000 miles of highway and 1,500 bridges in disrepair. \\n\\nWhen we use taxpayer dollars to rebuild America – we are going to Buy American: buy American products to support American jobs. \\n\\nThe federal government spends about $600 Billion a year to keep the country safe and secure. \\n\\nThere’s been a law on the books for almost a century \\nto make sure taxpayers’ dollars support American jobs and businesses. \\n\\nEvery Administration says they’ll do it, but we are actually doing it. \\n\\nWe will buy American to make sure everything from the deck of an aircraft carrier to the steel on highway guardrails are made in America. \\n\\nBut to compete for the best jobs of the future, we also need to level the playing field with China and other competitors. \\n\\nThat’s why it is so important to pass the Bipartisan Innovation Act sitting in Congress that will make record investments in emerging technologies and American manufacturing. \\n\\nLet me give you one example of why it’s so important to pass it. \\n\\nIf you travel 20 miles east of Columbus, Ohio, you’ll find 1,000 empty acres of land. \\n\\nIt won’t look like much, but if you stop and look closely, you’ll see a Field of dreams, the ground on which America’s future will be built. \\n\\nThis is where Intel, the American company that helped build Silicon Valley, is going to build its $20 billion semiconductor mega site. \\n\\nUp to eight state-of-the-art factories in one place. 10,000 new good-paying jobs. \\n\\nSome of the most sophisticated manufacturing in the world to make computer chips the size of a fingertip that power the world and our everyday lives. \\n\\nSmartphones. The Internet. Technology we have yet to invent. \\n\\nBut that’s just the beginning. \\n\\nIntel’s CEO, Pat Gelsinger, who is here tonight, told me they are ready to increase their investment from  \\n$20 billion to $100 billion. \\n\\nThat would be one of the biggest investments in manufacturing in American history. \\n\\nAnd all they’re waiting for is for you to pass this bill. \\n\\nSo let’s not wait any longer. Send it to my desk. I’ll sign it.  \\n\\nAnd we will really take off. \\n\\nAnd Intel is not alone. \\n\\nThere’s something happening in America. \\n\\nJust look around and you’ll see an amazing story. \\n\\nThe rebirth of the pride that comes from stamping products Made In America. The revitalization of American manufacturing.   \\n\\nCompanies are choosing to build new factories here, when just a few years ago, they would have built them overseas. \\n\\nThat’s what is happening. Ford is investing $11 billion to build electric vehicles, creating 11,000 jobs across the country. \\n\\nGM is making the largest investment in its history—$7 billion to build electric vehicles, creating 4,000 jobs in Michigan. \\n\\nAll told, we created 369,000 new manufacturing jobs in America just last year. \\n\\nPowered by people I’ve met like JoJo Burgess, from generations of union steelworkers from Pittsburgh, who’s here with us tonight. \\n\\nAs Ohio Senator Sherrod Brown says, It’s time to bury the label Rust Belt.\\n\\nIt’s time. \\n\\nBut with all the bright spots in our economy, record job growth and higher wages, too many families are struggling to keep up with the bills.  \\n\\nInflation is robbing them of the gains they might otherwise feel. \\n\\nI get it. That’s why my top priority is getting prices under control. \\n\\nLook, our economy roared back faster than most predicted, but the pandemic meant that businesses had a hard time hiring enough workers to keep up production in their factories. \\n\\nThe pandemic also disrupted global supply chains. \\n\\nWhen factories close, it takes longer to make goods and get them from the warehouse to the store, and prices go up. \\n\\nLook at cars. \\n\\nLast year, there weren’t enough semiconductors to make all the cars that people wanted to buy. \\n\\nAnd guess what, prices of automobiles went up. \\n\\nSo—we have a choice. \\n\\nOne way to fight inflation is to drive down wages and make Americans poorer.  \\n\\nI have a better plan to fight inflation. \\n\\nLower your costs, not your wages. \\n\\nMake more cars and semiconductors in America. \\n\\nMore infrastructure and innovation in America. \\n\\nMore goods moving faster and cheaper in America. \\n\\nMore jobs where you can earn a good living in America. \\n\\nAnd instead of relying on foreign supply chains, let’s make it in America. \\n\\nEconomists call it increasing the productive capacity of our economy.\\n\\nI call it building a better America. \\n\\nMy plan to fight inflation will lower your costs and lower the deficit. \\n\\n17 Nobel laureates in economics say my plan will ease long-term inflationary pressures. Top business leaders and most Americans support my plan. And here’s the plan: \\n\\nFirst – cut the cost of prescription drugs. Just look at insulin. One in ten Americans has diabetes. In Virginia, I met a 13-year-old boy named Joshua Davis.  \\n\\nHe and his Dad both have Type 1 diabetes, which means they need insulin every day. Insulin costs about $10 a vial to make.  \\n\\nBut drug companies charge families like Joshua and his Dad up to 30 times more. I spoke with Joshua’s mom. \\n\\nImagine what it’s like to look at your child who needs insulin and have no idea how you’re going to pay for it.  \\n\\nWhat it does to your dignity, your ability to look your child in the eye, to be the parent you expect to be. \\n\\nJoshua is here with us tonight. Yesterday was his birthday. Happy birthday, buddy.  \\n\\nFor Joshua, and for the 200,000 other young people with Type 1 diabetes, let’s cap the cost of insulin at $35 a month so everyone can afford it.  \\n\\nDrug companies will still do very well. And while we’re at it let Medicare negotiate lower prices for prescription drugs, like the VA already does. \\n\\nLook, the American Rescue Plan is helping millions of families on Affordable Care Act plans save $2,400 a year on their health care premiums. Let’s close the coverage gap and make those savings permanent. \\n\\nSecond – cut energy costs for families an average of $500 a year by combatting climate change.  \\n\\nLet’s provide investments and tax credits to weatherize your homes and businesses to be energy efficient and you get a tax credit; double America’s clean energy production in solar, wind, and so much more;  lower the price of electric vehicles, saving you another $80 a month because you’ll never have to pay at the gas pump again. \\n\\nThird – cut the cost of child care. Many families pay up to $14,000 a year for child care per child.  \\n\\nMiddle-class and working families shouldn’t have to pay more than 7% of their income for care of young children.  \\n\\nMy plan will cut the cost in half for most families and help parents, including millions of women, who left the workforce during the pandemic because they couldn’t afford child care, to be able to get back to work. \\n\\nMy plan doesn’t stop there. It also includes home and long-term care. More affordable housing. And Pre-K for every 3- and 4-year-old.  \\n\\nAll of these will lower costs. \\n\\nAnd under my plan, nobody earning less than $400,000 a year will pay an additional penny in new taxes. Nobody.  \\n\\nThe one thing all Americans agree on is that the tax system is not fair. We have to fix it.  \\n\\nI’m not looking to punish anyone. But let’s make sure corporations and the wealthiest Americans start paying their fair share. \\n\\nJust last year, 55 Fortune 500 corporations earned $40 billion in profits and paid zero dollars in federal income tax.  \\n\\nThat’s simply not fair. That’s why I’ve proposed a 15% minimum tax rate for corporations. \\n\\nWe got more than 130 countries to agree on a global minimum tax rate so companies can’t get out of paying their taxes at home by shipping jobs and factories overseas. \\n\\nThat’s why I’ve proposed closing loopholes so the very wealthy don’t pay a lower tax rate than a teacher or a firefighter.  \\n\\nSo that’s my plan. It will grow the economy and lower costs for families. \\n\\nSo what are we waiting for? Let’s get this done. And while you’re at it, confirm my nominees to the Federal Reserve, which plays a critical role in fighting inflation.  \\n\\nMy plan will not only lower costs to give families a fair shot, it will lower the deficit. \\n\\nThe previous Administration not only ballooned the deficit with tax cuts for the very wealthy and corporations, it undermined the watchdogs whose job was to keep pandemic relief funds from being wasted. \\n\\nBut in my administration, the watchdogs have been welcomed back. \\n\\nWe’re going after the criminals who stole billions in relief money meant for small businesses and millions of Americans.  \\n\\nAnd tonight, I’m announcing that the Justice Department will name a chief prosecutor for pandemic fraud. \\n\\nBy the end of this year, the deficit will be down to less than half what it was before I took office.  \\n\\nThe only president ever to cut the deficit by more than one trillion dollars in a single year. \\n\\nLowering your costs also means demanding more competition. \\n\\nI’m a capitalist, but capitalism without competition isn’t capitalism. \\n\\nIt’s exploitation—and it drives up prices. \\n\\nWhen corporations don’t have to compete, their profits go up, your prices go up, and small businesses and family farmers and ranchers go under. \\n\\nWe see it happening with ocean carriers moving goods in and out of America. \\n\\nDuring the pandemic, these foreign-owned companies raised prices by as much as 1,000% and made record profits. \\n\\nTonight, I’m announcing a crackdown on these companies overcharging American businesses and consumers. \\n\\nAnd as Wall Street firms take over more nursing homes, quality in those homes has gone down and costs have gone up.  \\n\\nThat ends on my watch. \\n\\nMedicare is going to set higher standards for nursing homes and make sure your loved ones get the care they deserve and expect. \\n\\nWe’ll also cut costs and keep the economy going strong by giving workers a fair shot, provide more training and apprenticeships, hire them based on their skills not degrees. \\n\\nLet’s pass the Paycheck Fairness Act and paid leave.  \\n\\nRaise the minimum wage to $15 an hour and extend the Child Tax Credit, so no one has to raise a family in poverty. \\n\\nLet’s increase Pell Grants and increase our historic support of HBCUs, and invest in what Jill—our First Lady who teaches full-time—calls America’s best-kept secret: community colleges. \\n\\nAnd let’s pass the PRO Act when a majority of workers want to form a union—they shouldn’t be stopped.  \\n\\nWhen we invest in our workers, when we build the economy from the bottom up and the middle out together, we can do something we haven’t done in a long time: build a better America. \\n\\nFor more than two years, COVID-19 has impacted every decision in our lives and the life of the nation. \\n\\nAnd I know you’re tired, frustrated, and exhausted. \\n\\nBut I also know this. \\n\\nBecause of the progress we’ve made, because of your resilience and the tools we have, tonight I can say  \\nwe are moving forward safely, back to more normal routines.  \\n\\nWe’ve reached a new moment in the fight against COVID-19, with severe cases down to a level not seen since last July.  \\n\\nJust a few days ago, the Centers for Disease Control and Prevention—the CDC—issued new mask guidelines. \\n\\nUnder these new guidelines, most Americans in most of the country can now be mask free.   \\n\\nAnd based on the projections, more of the country will reach that point across the next couple of weeks. \\n\\nThanks to the progress we have made this past year, COVID-19 need no longer control our lives.  \\n\\nI know some are talking about living with COVID-19. Tonight – I say that we will never just accept living with COVID-19. \\n\\n', metadata={'source': '../../Datasets/state_of_union.txt'})]\n"
          ]
        }
      ],
      "source": [
        "text_loader = TextLoader(\"../../Datasets/state_of_union.txt\")\n",
        "text_document = text_loader.load()\n",
        "print(text_document[:100])  # Prints the first 100 characters of the text document"
      ]
    },
    {
      "cell_type": "markdown",
      "id": "p2SsnXrbNzD5",
      "metadata": {
        "id": "p2SsnXrbNzD5"
      },
      "source": [
        "# **Step 3: Load PDFs from the Internet Using PyPDFLoader**\n",
        "\n",
        "\n",
        "\n",
        "\n"
      ]
    },
    {
      "cell_type": "code",
      "execution_count": 6,
      "id": "63ba6b83-4196-4673-829e-d6874bd742a8",
      "metadata": {
        "id": "63ba6b83-4196-4673-829e-d6874bd742a8",
        "outputId": "02ee8210-e2fc-4dd2-af90-a43c7f54acb2"
      },
      "outputs": [
        {
          "name": "stdout",
          "output_type": "stream",
          "text": [
            "page_content='CURRICULUM VITAE :  \\nM ichael M . Scott OBE, B.Sc., Dip.Ed  \\n \\nHome address:  Strome House     Date of Birth: 10.5.51 \\n   North Strome     Place of Birth: Edinburgh \\n   Lochcarron     Married to Sue Scott; 2 stepchildren \\n   Ross-shire, IV54 8YJ \\nTelephone (work): 01520 722901     Website: www.mmscott.co.uk \\nTelephone (home):  01520 722588    E-mail:  MSStrome@aol.com \\n \\nAwarded OBE in Queen’s Birthday Honours, June 2005, “for services to biodiversity conservation in \\nScotland”. \\nAwarded Planta Europa ‘Silver Lead’ Award in September 2007, “for excellent work in European wild plant \\nconservation”. \\n \\nEducation \\nPrimary education: George Heriots School, Edinburgh (1956-1962) \\nSecondary education:  Madras College, St Andrews (1962-69). \\nFurther education: University of Aberdeen (1969-1974): \\n    Bachelor of Science (Honours; upper second) in Botany, 1973 \\n    Diploma of Education, 1974 \\n   Aberdeen College of Education (1973 - 1974): \\n    Certificate of Education in secondary education (botany, zoology and general\\n     science), 1974 \\n \\nEmployment history \\n1974 - 1976: Assistant Education Officer, Royal Zoological Society of Scotland (Edinburgh Zoo). \\n1976 - 1980:  Scottish Field Officer, Wildlife Youth Service, World Wildlife Fund (including schools \\n  lecturing and running adventure holidays and field courses for young people). \\n1990 – 2004: Scottish Co-ordinator of Plantlife – the Wild Plant Conservation Charity (approx ¼-time post). \\n1999 – 2005: Deputy Chairman of Scottish Natural Heritage (part-time) \\n1980 – present:  Self-employed as writer, consultant, broadcaster, lecturer and conservationist. \\n \\nDirectorships \\n1998 – 2005: Director, Highland Birchwoods (representing Scottish Natural Heritage) \\n \\nConservation experience \\nApril 2005 – April 2008: Chair of Marine Biodiversity Working Group and member of Scottish Biodiversity \\n Committee (under an ongoing small contract from the Scottish Government) \\n2004 – date: Member of Advisory Council, Plantlife International \\nNovember 1999 – March 2005: Deputy Chairman of Scottish Natural Heritage \\nApril 1999 – March 2005: Member, Main Board of Scottish Natural Heritage' metadata={'source': '../../Datasets/michael_resume.pdf', 'page': 0}\n"
          ]
        }
      ],
      "source": [
        "from langchain.document_loaders import PyPDFLoader\n",
        "\n",
        "pdf_loader = PyPDFLoader(\"../../Datasets/michael_resume.pdf\")\n",
        "pdf_pages = pdf_loader.load_and_split()\n",
        "print(pdf_pages[0])  # Prints the first 100 characters of the first page of the PDF\n"
      ]
    },
    {
      "cell_type": "markdown",
      "id": "2IzUICifOBqd",
      "metadata": {
        "id": "2IzUICifOBqd"
      },
      "source": [
        "# **Step 4: Split the Documents Using RecursiveCharacterTextSplitter**\n",
        "\n",
        "\n",
        "*   Split the PDF pages into smaller chunks and print the number of chunks.\n",
        "\n"
      ]
    },
    {
      "cell_type": "code",
      "execution_count": 7,
      "id": "12653170-35dd-4a70-a997-380006660a23",
      "metadata": {
        "id": "12653170-35dd-4a70-a997-380006660a23",
        "outputId": "74f5cad8-0c2b-415c-fe5e-2d024dcd347a"
      },
      "outputs": [
        {
          "name": "stdout",
          "output_type": "stream",
          "text": [
            "15\n"
          ]
        }
      ],
      "source": [
        "doc_splitter = RecursiveCharacterTextSplitter(chunk_size=1024, chunk_overlap=64)\n",
        "split_texts = doc_splitter.split_documents(pdf_pages)\n",
        "print(len(split_texts))  # Prints the number of chunks the PDF has been split into\n"
      ]
    },
    {
      "cell_type": "markdown",
      "id": "rawkX5UeOe8e",
      "metadata": {
        "id": "rawkX5UeOe8e"
      },
      "source": [
        "# **Step 5: Embed the Documents Using HuggingFaceEmbeddings and Print the Length of the Embedding**\n",
        "\n",
        "\n",
        "\n",
        "\n"
      ]
    },
    {
      "cell_type": "code",
      "execution_count": 10,
      "id": "54e6ffdc-3c5e-468f-9ed7-f703cb9ddad8",
      "metadata": {
        "colab": {
          "referenced_widgets": [
            "d64a277a50c74195bc764148604e9a99",
            "4c7c32e3807b43178685892a533c5571",
            "9ec53712abde4c6ab8f6f33aecf4d7bc",
            "50597f9d2d594efda364be18cf17a180",
            "fdcab798b77f45739885570f45132267",
            "151f77060c5a407a9dc523aaf4888221",
            "ddcbbb0397604f5686c8d783a63a29f2",
            "54abd02225434d17bc00568232ada7e0",
            "7f85963918f34167b09fdaf07e907249",
            "d604d2e0d6734b2faaef3e65c8ab06b7",
            "93c4c9fe19e94f1493bc31e66ddaede5",
            "b33005a189c64bb4a430753253ebb9c8",
            "7274d1c1caa64b1f9be31585ecd67430",
            "49d10e1d64004d469bc94847dd1d1037",
            "46f7a294befb41b595619596f168657a"
          ]
        },
        "id": "54e6ffdc-3c5e-468f-9ed7-f703cb9ddad8",
        "outputId": "6883936f-1343-4b7b-f336-4bc0ef7bd236"
      },
      "outputs": [
        {
          "ename": "",
          "evalue": "",
          "output_type": "error",
          "traceback": [
            "\u001b[1;31mThe Kernel crashed while executing code in the current cell or a previous cell. \n",
            "\u001b[1;31mPlease review the code in the cell(s) to identify a possible cause of the failure. \n",
            "\u001b[1;31mClick <a href='https://aka.ms/vscodeJupyterKernelCrash'>here</a> for more info. \n",
            "\u001b[1;31mView Jupyter <a href='command:jupyter.viewOutput'>log</a> for further details."
          ]
        }
      ],
      "source": [
        "MODEL_NAME = \"sentence-transformers/all-mpnet-base-v2\"\n",
        "hf_embed = HuggingFaceEmbeddings(model_name=MODEL_NAME)\n",
        "text = split_texts[0].page_content\n",
        "hf_embed_result = hf_embed.embed_documents([text])\n",
        "print(len(hf_embed_result[0]))  # Prints the length of the first embedded document"
      ]
    },
    {
      "cell_type": "markdown",
      "id": "3x-PVKuQO6sh",
      "metadata": {
        "id": "3x-PVKuQO6sh"
      },
      "source": [
        "# **Step 6: Embed the Documents Using OpenAIEmbeddings and Print the Length of the Embedding**\n",
        "\n",
        "\n"
      ]
    },
    {
      "cell_type": "code",
      "execution_count": null,
      "id": "ff51eb44-7891-4625-b69a-2071ed81fdef",
      "metadata": {
        "id": "ff51eb44-7891-4625-b69a-2071ed81fdef",
        "outputId": "fa0fa7a4-a1e4-45b0-d4d8-cb911e191dfa"
      },
      "outputs": [],
      "source": [
        "openai_embed = OpenAIEmbeddings()\n",
        "openai_embed_result = openai_embed.embed_documents([text])\n",
        "print(len(openai_embed_result[0]))  # Prints the length of the first embedded document\n"
      ]
    },
    {
      "cell_type": "markdown",
      "id": "MEtwmKkJPII8",
      "metadata": {
        "id": "MEtwmKkJPII8"
      },
      "source": [
        "# **Step 7: Create a FAISS Instance**\n",
        "\n",
        "*   Create a FAISS instance using the split texts and the OpenAIEmbeddings."
      ]
    },
    {
      "cell_type": "code",
      "execution_count": null,
      "id": "f90478cb-1356-4a0d-8250-e055c9dcf511",
      "metadata": {
        "id": "f90478cb-1356-4a0d-8250-e055c9dcf511"
      },
      "outputs": [],
      "source": [
        "# From META Inc.\n",
        "\n",
        "# Create FAISS instance from documents and embeddings\n",
        "faiss_index = FAISS.from_documents(split_texts, openai_embed)\n",
        "\n",
        "#reference:\n",
        "# https://engineering.fb.com/2017/03/29/data-infrastructure/faiss-a-library-for-efficient-similarity-search/ \n",
        "\n"
      ]
    },
    {
      "cell_type": "markdown",
      "id": "XTWZ3kgJPT5J",
      "metadata": {
        "id": "XTWZ3kgJPT5J"
      },
      "source": [
        "# **Step 8: Perform a Similarity Search on the FAISS Instance**\n",
        "\n",
        "\n",
        "*   Print the top two most similar documents."
      ]
    },
    {
      "cell_type": "code",
      "execution_count": null,
      "id": "5f78e000-488a-47e2-9b0d-9bfa215703b8",
      "metadata": {
        "id": "5f78e000-488a-47e2-9b0d-9bfa215703b8",
        "outputId": "6da6683d-f734-4d61-9a23-7c50a507a9b3"
      },
      "outputs": [
        {
          "name": "stdout",
          "output_type": "stream",
          "text": [
            "[(Document(page_content='spring 2005, I went fully digital, and all photographs can be supplied in electronic format. \\n \\nComputer knowledge  \\nI am reasonably fluent in basic PC computer skills, using Windows XP, Word, WordPro, Excel, PowerPoint, \\nAdobe Photoshop Elements, e-mail, internet etc.  I have full computer and broadband facilities at home. \\n \\nOther interests  \\nBotanising (especially mountain flowers), travel, walking, Scottish islands, gardening, photography, \\ncomputers, rugby supporter, cinema, good wine, Runrig concerts (!). \\n \\n[updated, 26.03.08]', metadata={'source': 'michael_resume.pdf', 'page': 3}), 0.45546138), (Document(page_content='CURRICULUM VITAE :  \\nM ichael M . Scott OBE, B.Sc., Dip.Ed  \\n \\nHome address :  Strome House     Date of Birth : 10.5.51 \\n   North Strome     Place of Birth : Edinburgh \\n   Lochcarron     Married to Sue Scott; 2 stepchildren \\n   Ross-shire, IV54 8YJ \\nTelephone (work) : 01520 722901     Website : www.mmscott.co.uk  \\nTelephone (home) :  01520 722588    E-mail :  MSStrome@aol.com  \\n \\nAwarded OBE in Queen’s Birthday Honours, June 2005, “for services to biodiversity conservation in \\nScotland”. \\nAwarded Planta Europa ‘Silver Lead’ Award in September 2007, “for excellent work in European wild plant \\nconservation”. \\n \\nEducation  \\nPrimary education: George Heriots School, Edinburgh (1956-1962) \\nSecondary education:  Madras College, St Andrews (1962-69). \\nFurther education: University of Aberdeen (1969-1974): \\n    Bachelor of Science (Honours; upper second) in Botany, 1973 \\n    Diploma of Education, 1974 \\n   Aberdeen College of Education (1973 - 1974):', metadata={'source': 'michael_resume.pdf', 'page': 0}), 0.48398066)]\n"
          ]
        }
      ],
      "source": [
        "# Perform a similarity search and print the top two most similar documents\n",
        "search_result = faiss_index.similarity_search_with_score(\"What is the candidate's skill sets?\", k=2)\n",
        "print(search_result)  # Prints the top 2 most similar documents to the query\n"
      ]
    },
    {
      "cell_type": "markdown",
      "id": "J1ffr9-DPeTG",
      "metadata": {
        "id": "J1ffr9-DPeTG"
      },
      "source": [
        "# **Step 9: Persist the FAISS Instance**\n",
        "\n",
        "\n",
        "*   Create a folder in the current working directory that persists the FAISS instance."
      ]
    },
    {
      "cell_type": "code",
      "execution_count": null,
      "id": "1c1584d4-a90f-45f6-b013-af11b3882ccb",
      "metadata": {
        "id": "1c1584d4-a90f-45f6-b013-af11b3882ccb"
      },
      "outputs": [],
      "source": [
        "# Save the FAISS index to a file\n",
        "faiss_index.save_local(\"faiss_index\")\n"
      ]
    },
    {
      "cell_type": "markdown",
      "id": "OUDWU3cAPx5a",
      "metadata": {
        "id": "OUDWU3cAPx5a"
      },
      "source": [
        "# **Step 10: Load the Persisted FAISS Instance**\n",
        "\n",
        "\n"
      ]
    },
    {
      "cell_type": "code",
      "execution_count": null,
      "id": "6464917a-7fc6-4d24-851d-7edadce413b8",
      "metadata": {
        "id": "6464917a-7fc6-4d24-851d-7edadce413b8",
        "outputId": "96b04425-ec0e-4fdc-9e5f-0631ddf12550"
      },
      "outputs": [
        {
          "name": "stdout",
          "output_type": "stream",
          "text": [
            "[(Document(page_content='spring 2005, I went fully digital, and all photographs can be supplied in electronic format. \\n \\nComputer knowledge  \\nI am reasonably fluent in basic PC computer skills, using Windows XP, Word, WordPro, Excel, PowerPoint, \\nAdobe Photoshop Elements, e-mail, internet etc.  I have full computer and broadband facilities at home. \\n \\nOther interests  \\nBotanising (especially mountain flowers), travel, walking, Scottish islands, gardening, photography, \\ncomputers, rugby supporter, cinema, good wine, Runrig concerts (!). \\n \\n[updated, 26.03.08]', metadata={'source': 'michael_resume.pdf', 'page': 3}), 0.45546138), (Document(page_content='CURRICULUM VITAE :  \\nM ichael M . Scott OBE, B.Sc., Dip.Ed  \\n \\nHome address :  Strome House     Date of Birth : 10.5.51 \\n   North Strome     Place of Birth : Edinburgh \\n   Lochcarron     Married to Sue Scott; 2 stepchildren \\n   Ross-shire, IV54 8YJ \\nTelephone (work) : 01520 722901     Website : www.mmscott.co.uk  \\nTelephone (home) :  01520 722588    E-mail :  MSStrome@aol.com  \\n \\nAwarded OBE in Queen’s Birthday Honours, June 2005, “for services to biodiversity conservation in \\nScotland”. \\nAwarded Planta Europa ‘Silver Lead’ Award in September 2007, “for excellent work in European wild plant \\nconservation”. \\n \\nEducation  \\nPrimary education: George Heriots School, Edinburgh (1956-1962) \\nSecondary education:  Madras College, St Andrews (1962-69). \\nFurther education: University of Aberdeen (1969-1974): \\n    Bachelor of Science (Honours; upper second) in Botany, 1973 \\n    Diploma of Education, 1974 \\n   Aberdeen College of Education (1973 - 1974):', metadata={'source': 'michael_resume.pdf', 'page': 0}), 0.48398066)]\n"
          ]
        }
      ],
      "source": [
        "# Load the persisted FAISS index from the file\n",
        "faiss_index_loaded = FAISS.load_local(\"faiss_index\", openai_embed)\n",
        "\n",
        "# Perform a similarity search with the loaded FAISS index\n",
        "vector_search_result = faiss_index_loaded.similarity_search_with_score(\"What is the candidate's skill sets?\", k=2)\n",
        "print(vector_search_result)  # Prints the top 2 most similar documents to the query from the loaded FAISS instance\n"
      ]
    },
    {
      "cell_type": "markdown",
      "id": "RqaeWpZkQCRc",
      "metadata": {
        "id": "RqaeWpZkQCRc"
      },
      "source": [
        "# **Conclusion**\n",
        "\n",
        "This activity provided a step-by-step guide on how to use LangChain’s loaders, splitters, embeddings, and vector stores. You now know how to load documents, split them into manageable chunks, embed them into a numerical space, and store these embeddings for efficient similarity searches."
      ]
    },
    {
      "cell_type": "code",
      "execution_count": null,
      "id": "RTtfnPcyQDIM",
      "metadata": {
        "id": "RTtfnPcyQDIM"
      },
      "outputs": [],
      "source": []
    },
    {
      "cell_type": "markdown",
      "id": "YDnnJ0Ta6AS_",
      "metadata": {
        "id": "YDnnJ0Ta6AS_"
      },
      "source": []
    }
  ],
  "metadata": {
    "colab": {
      "provenance": []
    },
    "kernelspec": {
      "display_name": "base",
      "language": "python",
      "name": "python3"
    },
    "language_info": {
      "codemirror_mode": {
        "name": "ipython",
        "version": 3
      },
      "file_extension": ".py",
      "mimetype": "text/x-python",
      "name": "python",
      "nbconvert_exporter": "python",
      "pygments_lexer": "ipython3",
      "version": "3.11.7"
    }
  },
  "nbformat": 4,
  "nbformat_minor": 5
}
