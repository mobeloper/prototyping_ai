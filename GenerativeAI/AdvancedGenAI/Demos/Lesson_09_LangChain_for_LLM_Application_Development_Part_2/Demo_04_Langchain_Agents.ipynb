{
 "cells": [
  {
   "cell_type": "markdown",
   "id": "pf5KKjH8omcU",
   "metadata": {
    "id": "pf5KKjH8omcU"
   },
   "source": [
    "# **Demo: Langchain Agents**"
   ]
  },
  {
   "cell_type": "markdown",
   "id": "olGHNznfVRjO",
   "metadata": {
    "id": "olGHNznfVRjO"
   },
   "source": [
    "# **Description:**\n",
    "In this activity, you will learn how to utilize LangChain agents. You will grasp the process of creating and initializing an agent, loading tools, and employing the agent to pose questions and obtain answers.\n"
   ]
  },
  {
   "cell_type": "markdown",
   "id": "JbJGoJNnosUM",
   "metadata": {
    "id": "JbJGoJNnosUM"
   },
   "source": [
    "# **Steps to Perform:**\n",
    "\n",
    "1. Import the Necessary Modules\n",
    "2. Initialize the Chat Model\n",
    "3. Load the Tools\n",
    "4. Initialize Agent\n",
    "5. Use Agent to Ask Questions\n",
    "6. Use Agent to Ask Another Question\n"
   ]
  },
  {
   "cell_type": "markdown",
   "id": "a2hHxVaPVfmz",
   "metadata": {
    "id": "a2hHxVaPVfmz"
   },
   "source": [
    "# **Step 1: Import the Necessary Modules**\n",
    "\n"
   ]
  },
  {
   "cell_type": "code",
   "execution_count": 1,
   "id": "d9b76cd5-16e2-4c0c-8872-aaa4855b5bdf",
   "metadata": {
    "id": "d9b76cd5-16e2-4c0c-8872-aaa4855b5bdf"
   },
   "outputs": [],
   "source": [
    "from langchain.agents import load_tools, initialize_agent\n",
    "from langchain.agents import AgentType\n",
    "from langchain.chat_models import ChatOpenAI"
   ]
  },
  {
   "cell_type": "markdown",
   "id": "Gm_WS41tVq4A",
   "metadata": {
    "id": "Gm_WS41tVq4A"
   },
   "source": [
    "# **Step 2: Initialize the Chat Model**\n",
    "\n",
    "\n",
    "\n"
   ]
  },
  {
   "cell_type": "code",
   "execution_count": 2,
   "id": "54bca19b-ef4b-4ea1-a61d-21788dfb3db4",
   "metadata": {
    "id": "54bca19b-ef4b-4ea1-a61d-21788dfb3db4"
   },
   "outputs": [],
   "source": [
    "llm_model = ChatOpenAI(temperature=0.0)"
   ]
  },
  {
   "cell_type": "markdown",
   "id": "H-6O-EmJVweb",
   "metadata": {
    "id": "H-6O-EmJVweb"
   },
   "source": [
    "# **Step 3: Load the Tools**\n",
    "\n",
    "\n",
    "*   Load **llm-math** for math operations and **wikipedia** for accessing Wikipedia data\n",
    "\n",
    "\n",
    "\n"
   ]
  },
  {
   "cell_type": "code",
   "execution_count": 3,
   "id": "3ab99081-3df3-42af-adec-51a770c959be",
   "metadata": {
    "id": "3ab99081-3df3-42af-adec-51a770c959be"
   },
   "outputs": [],
   "source": [
    "tools = load_tools([\"llm-math\",\"wikipedia\"], llm=llm_model)"
   ]
  },
  {
   "cell_type": "markdown",
   "id": "Rf37LLxoV2-5",
   "metadata": {
    "id": "Rf37LLxoV2-5"
   },
   "source": [
    "# **Step 4: Initialize Agent**\n",
    "\n",
    "\n",
    "*   Initialize the agent with the tools loaded, the chat model, and specify the agent type as **CHAT_ZERO_SHOT_REACT_DESCRIPTION**\n"
   ]
  },
  {
   "cell_type": "code",
   "execution_count": 4,
   "id": "76acced2-8058-447f-b28e-d27842bd14b4",
   "metadata": {
    "id": "76acced2-8058-447f-b28e-d27842bd14b4"
   },
   "outputs": [],
   "source": [
    "agent= initialize_agent(\n",
    "    tools,\n",
    "    llm_model,\n",
    "    agent=AgentType.CHAT_ZERO_SHOT_REACT_DESCRIPTION,\n",
    "    handle_parsing_errors=True,\n",
    "    verbose = True)"
   ]
  },
  {
   "cell_type": "markdown",
   "id": "7GPb4P2GV8kc",
   "metadata": {
    "id": "7GPb4P2GV8kc"
   },
   "source": [
    "# **Step 5: Use Agent to Ask Questions**\n",
    "\n",
    "\n"
   ]
  },
  {
   "cell_type": "code",
   "execution_count": 5,
   "id": "55257b94-7502-4a6c-b091-244155166d30",
   "metadata": {
    "id": "55257b94-7502-4a6c-b091-244155166d30",
    "outputId": "e80c8078-1b42-44f5-b77d-11b99d7ad2e5"
   },
   "outputs": [
    {
     "name": "stdout",
     "output_type": "stream",
     "text": [
      "\n",
      "\n",
      "\u001b[1m> Entering new AgentExecutor chain...\u001b[0m\n",
      "\u001b[32;1m\u001b[1;3mThought: We can use the Calculator tool to find the square root of 16.\n",
      "Action:\n",
      "```\n",
      "{\n",
      "  \"action\": \"Calculator\",\n",
      "  \"action_input\": \"sqrt(16)\"\n",
      "}\n",
      "```\u001b[0m\n",
      "Observation: \u001b[36;1m\u001b[1;3mAnswer: 4.0\u001b[0m\n",
      "Thought:\u001b[32;1m\u001b[1;3mI now know the final answer\n",
      "\n",
      "Final Answer: The square root of 16 is 4.\u001b[0m\n",
      "\n",
      "\u001b[1m> Finished chain.\u001b[0m\n"
     ]
    },
    {
     "data": {
      "text/plain": [
       "{'input': 'What is the square root of 16?',\n",
       " 'output': 'The square root of 16 is 4.'}"
      ]
     },
     "execution_count": 5,
     "metadata": {},
     "output_type": "execute_result"
    }
   ],
   "source": [
    "agent(\"What is the square root of 16?\")"
   ]
  },
  {
   "cell_type": "markdown",
   "id": "6L90rCVGWEN0",
   "metadata": {
    "id": "6L90rCVGWEN0"
   },
   "source": [
    "# **Step 6: Use Agent to Ask Another Question**\n",
    "\n",
    "\n",
    "\n"
   ]
  },
  {
   "cell_type": "code",
   "execution_count": 6,
   "id": "3deb286e-cfe6-46ee-ad0d-534e238b6859",
   "metadata": {
    "colab": {
     "base_uri": "https://localhost:8080/",
     "height": 193
    },
    "id": "3deb286e-cfe6-46ee-ad0d-534e238b6859",
    "outputId": "ff9ce793-63fb-42f1-80ad-1bd61aaf30f9"
   },
   "outputs": [
    {
     "name": "stdout",
     "output_type": "stream",
     "text": [
      "\n",
      "\n",
      "\u001b[1m> Entering new AgentExecutor chain...\u001b[0m\n",
      "\u001b[32;1m\u001b[1;3mThought: I should use Wikipedia to find out what Alan Turing is famous for.\n",
      "\n",
      "Action:\n",
      "```\n",
      "{\n",
      "  \"action\": \"Wikipedia\",\n",
      "  \"action_input\": \"Alan Turing\"\n",
      "}\n",
      "```\u001b[0m\n",
      "Observation: \u001b[33;1m\u001b[1;3mPage: Alan Turing\n",
      "Summary: Alan Mathison Turing (; 23 June 1912 – 7 June 1954) was an English mathematician, computer scientist, logician, cryptanalyst, philosopher and theoretical biologist. He was highly influential in the development of theoretical computer science, providing a formalisation of the concepts of algorithm and computation with the Turing machine, which can be considered a model of a general-purpose computer. Turing is widely considered to be the father of theoretical computer science.\n",
      "Born in London, Turing was raised in southern England. He graduated from King's College, Cambridge, and in 1938, earned a doctorate degree from Princeton University. During World War II, Turing worked for the Government Code and Cypher School at Bletchley Park, Britain's codebreaking centre that produced Ultra intelligence. He led Hut 8, the section responsible for German naval cryptanalysis. Turing devised techniques for speeding the breaking of German ciphers, including improvements to the pre-war Polish bomba method, an electromechanical machine that could find settings for the Enigma machine. He played a crucial role in cracking intercepted messages that enabled the Allies to defeat the Axis powers in many engagements, including the Battle of the Atlantic.\n",
      "After the war, Turing worked at the National Physical Laboratory, where he designed the Automatic Computing Engine, one of the first designs for a stored-program computer. In 1948, Turing joined Max Newman's Computing Machine Laboratory at the Victoria University of Manchester, where he helped develop the Manchester computers and became interested in mathematical biology. Turing wrote on the chemical basis of morphogenesis and predicted oscillating chemical reactions such as the Belousov–Zhabotinsky reaction, first observed in the 1960s. Despite these accomplishments, he was never fully recognised during his lifetime because much of his work was covered by the Official Secrets Act.\n",
      "In 1952, Turing was prosecuted for homosexual acts. He accepted hormone treatment, a procedure commonly referred to as chemical castration, as an alternative to prison. Turing died on 7 June 1954, aged 41, from cyanide poisoning. An inquest determined his death as suicide, but the evidence is also consistent with accidental poisoning. \n",
      "Following a campaign in 2009, British prime minister Gordon Brown made an official public apology for \"the appalling way [Turing] was treated\". Queen Elizabeth II granted a pardon in 2013. The term \"Alan Turing law\" is used informally to refer to a 2017 law in the UK that retroactively pardoned men cautioned or convicted under historical legislation that outlawed homosexual acts.\n",
      "Turing left an extensive legacy in mathematics and computing which today is recognised more widely, with statues and many things named after him, including an annual award for computing innovation. His portrait appears on the Bank of England £50 note, first released on 23 June 2021 to coincide with his birthday. The audience vote in a 2019 BBC series named Turing the greatest person of the 20th century.\n",
      "\n",
      "\n",
      "\n",
      "Page: Alan Turing: The Enigma\n",
      "Summary: Alan Turing: The Enigma (1983) is a biography of the British mathematician, codebreaker, and early computer scientist, Alan Turing (1912–1954) by Andrew Hodges. The book covers Alan Turing's life and work. The 2014 film The Imitation Game is loosely based on the book, with dramatization.\n",
      "\n",
      "Page: Turing Award\n",
      "Summary: The ACM A. M. Turing Award is an annual prize given by the Association for Computing Machinery (ACM) for contributions of lasting and major technical importance to computer science. It is generally recognized as the highest distinction in  the field of computer science and is often referred to as the \"Nobel Prize of Computing\".\n",
      "The award is named after Alan Turing, who was a British mathematician and reader in mathematics at the University of Manchester. Turing is often credited as being the founder of theoretical computer science and ar\u001b[0m\n",
      "Thought:\u001b[32;1m\u001b[1;3mI have gathered information about Alan Turing's accomplishments and contributions to the field of computer science. \n",
      "\n",
      "Final Answer: Alan Turing is famous for his foundational work in theoretical computer science, including the formalization of the concepts of algorithm and computation with the Turing machine, which is considered a model of a general-purpose computer. He is widely regarded as the father of theoretical computer science.\u001b[0m\n",
      "\n",
      "\u001b[1m> Finished chain.\u001b[0m\n"
     ]
    }
   ],
   "source": [
    "question = \"Alan Turing was a British mathematician and computer scientist, what is he famous for?\"\n",
    "result = agent(question)"
   ]
  },
  {
   "cell_type": "markdown",
   "id": "JLUHYdnGWLps",
   "metadata": {
    "id": "JLUHYdnGWLps"
   },
   "source": [
    "# **Conclusion**\n",
    "By the end of this activity, you have a clear understanding of how to use LangChain agents. You’ve learned how to create and initialize an agent, load tools, and use the agent to ask questions and get answers.\n"
   ]
  },
  {
   "cell_type": "code",
   "execution_count": null,
   "id": "fd436bef-6e15-4d95-a8b8-0a62a3880a62",
   "metadata": {
    "id": "fd436bef-6e15-4d95-a8b8-0a62a3880a62"
   },
   "outputs": [],
   "source": []
  }
 ],
 "metadata": {
  "colab": {
   "provenance": []
  },
  "kernelspec": {
   "display_name": "Python 3 [3.10]",
   "language": "python",
   "name": "python3"
  },
  "language_info": {
   "codemirror_mode": {
    "name": "ipython",
    "version": 3
   },
   "file_extension": ".py",
   "mimetype": "text/x-python",
   "name": "python",
   "nbconvert_exporter": "python",
   "pygments_lexer": "ipython3",
   "version": "3.10.2"
  }
 },
 "nbformat": 4,
 "nbformat_minor": 5
}
