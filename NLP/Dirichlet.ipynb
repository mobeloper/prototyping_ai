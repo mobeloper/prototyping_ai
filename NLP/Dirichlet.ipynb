{
  "nbformat": 4,
  "nbformat_minor": 0,
  "metadata": {
    "colab": {
      "provenance": []
    },
    "kernelspec": {
      "name": "python3",
      "display_name": "Python 3"
    },
    "language_info": {
      "name": "python"
    }
  },
  "cells": [
    {
      "cell_type": "markdown",
      "source": [
        "# Dirichlet Distributions\n",
        "\n",
        "To understand dirichlet distributions, it is essential to understand categorical distributions.\n",
        "\n",
        "## Categorical Distributions\n",
        "\n",
        "Let's dive deeper into the example of favorite sports team.\n",
        "\n",
        "**Problem statement:**\n",
        "\n",
        "Suppose you're a sports enthusiast and you want to analyze the preferences of a group of people regarding their favorite sports team. You have a dataset of 100 people, and each person has answered the question \"What is your favorite sports team?\" with one of the following options:\n",
        "\n",
        "* New York Yankees (NY)\n",
        "* Boston Red Sox (BOS)\n",
        "* Los Angeles Dodgers (LAD)\n",
        "* Chicago Cubs (CHC)\n",
        "* Other (OTH)\n",
        "\n",
        "You want to model the probability distribution of favorite sports teams among this group of people.\n",
        "\n",
        "**Categorical distribution:**\n",
        "\n",
        "In this case, we can model the favorite sports team as a categorical distribution. The categorical distribution is a probability distribution that models the probability of a categorical variable taking on a particular value.\n",
        "\n",
        "In this example, the categorical variable is the favorite sports team, and the possible values are:\n",
        "\n",
        "* NY (New York Yankees)\n",
        "* BOS (Boston Red Sox)\n",
        "* LAD (Los Angeles Dodgers)\n",
        "* CHC (Chicago Cubs)\n",
        "* OTH (Other)\n",
        "\n",
        "The probability distribution of the categorical variable is defined by the probabilities of each possible value. For example, if 30 people in the dataset prefer the New York Yankees, the probability of NY is 0.3 (30/100).\n",
        "\n",
        "**Estimating the probabilities:**\n",
        "\n",
        "To estimate the probabilities of each favorite sports team, you can use the dataset of 100 people. For example, you can count the number of people who prefer each team and divide by the total number of people:\n",
        "\n",
        "* NY: 30/100 = 0.3\n",
        "* BOS: 20/100 = 0.2\n",
        "* LAD: 15/100 = 0.15\n",
        "* CHC: 10/100 = 0.1\n",
        "* OTH: 25/100 = 0.25\n",
        "\n",
        "These probabilities can be used to model the categorical distribution of favorite sports teams.\n",
        "\n",
        "**Using the categorical distribution:**\n",
        "\n",
        "Once you have estimated the probabilities, you can use the categorical distribution to make predictions or inferences about the dataset. For example:\n",
        "\n",
        "* You can use the categorical distribution to predict the favorite sports team of a new person who is not in the dataset.\n",
        "* You can use the categorical distribution to estimate the probability that a person prefers a particular team.\n",
        "* You can use the categorical distribution to compare the popularity of different teams.\n",
        "\n",
        "We shall now define possible values of the categorical variable (favorite sports teams), the probabilities of each value, and create a categorical distribution using the `categorical` function from SciPy.\n",
        "\n",
        "We will then generates a random sample of 100 people from the distribution using the `rvs` method. The resulting sample is a NumPy array with 100 elements, where each element is one of the five possible teams."
      ],
      "metadata": {
        "id": "WT_my938lwC8"
      }
    },
    {
      "cell_type": "code",
      "source": [
        "import numpy as np\n",
        "\n",
        "# Define the possible values of the categorical variable\n",
        "teams = ['NY', 'BOS', 'LAD', 'CHC', 'OTH']\n",
        "\n",
        "# Define the probabilities of each value\n",
        "probabilities = [0.3, 0.2, 0.15, 0.1, 0.25]\n"
      ],
      "metadata": {
        "id": "7OIgOx_-rqeV"
      },
      "execution_count": 2,
      "outputs": []
    },
    {
      "cell_type": "markdown",
      "source": [
        "\n",
        "# Generate a Random Sample from the Distribution\n"
      ],
      "metadata": {
        "id": "ki16qEmOrzR7"
      }
    },
    {
      "cell_type": "code",
      "source": [
        "dist = np.random.choice(teams, size=100, p=probabilities)\n",
        "print(dist)"
      ],
      "metadata": {
        "colab": {
          "base_uri": "https://localhost:8080/"
        },
        "id": "FUv5fc_Tryk9",
        "outputId": "4af8b04b-5026-4c49-d310-9475e12a50f3"
      },
      "execution_count": 5,
      "outputs": [
        {
          "output_type": "stream",
          "name": "stdout",
          "text": [
            "['BOS' 'BOS' 'CHC' 'NY' 'BOS' 'OTH' 'OTH' 'OTH' 'OTH' 'OTH' 'BOS' 'CHC'\n",
            " 'NY' 'BOS' 'OTH' 'BOS' 'OTH' 'LAD' 'BOS' 'OTH' 'LAD' 'LAD' 'BOS' 'OTH'\n",
            " 'LAD' 'NY' 'BOS' 'OTH' 'NY' 'NY' 'NY' 'NY' 'LAD' 'NY' 'LAD' 'OTH' 'NY'\n",
            " 'LAD' 'OTH' 'LAD' 'LAD' 'NY' 'BOS' 'NY' 'NY' 'BOS' 'LAD' 'LAD' 'OTH' 'NY'\n",
            " 'LAD' 'LAD' 'BOS' 'OTH' 'OTH' 'OTH' 'NY' 'OTH' 'CHC' 'OTH' 'NY' 'LAD'\n",
            " 'NY' 'BOS' 'NY' 'BOS' 'BOS' 'NY' 'BOS' 'OTH' 'NY' 'OTH' 'OTH' 'OTH' 'CHC'\n",
            " 'OTH' 'OTH' 'NY' 'NY' 'NY' 'CHC' 'LAD' 'CHC' 'LAD' 'NY' 'BOS' 'BOS' 'NY'\n",
            " 'OTH' 'BOS' 'BOS' 'NY' 'LAD' 'OTH' 'NY' 'OTH' 'OTH' 'OTH' 'LAD' 'CHC']\n"
          ]
        }
      ]
    },
    {
      "cell_type": "markdown",
      "source": [
        "The data generated is a random sample when is in large size will be in proportion to the probabilities of each team."
      ],
      "metadata": {
        "id": "u8M0RLTWry8c"
      }
    },
    {
      "cell_type": "markdown",
      "source": [
        "## Conjugate Distributions\n",
        "\n",
        "In Bayesian statistics, a conjugate distribution is a probability distribution that is used to update the prior distribution of a parameter or a set of parameters, given new data. In other words, a conjugate distribution is a distribution that is \"conjugate\" to the prior distribution, meaning that it has the same functional form as the prior distribution.\n",
        "\n",
        "Dirichlet distributions can update the categorical distributions given new data."
      ],
      "metadata": {
        "id": "GHtZhxMPw4SJ"
      }
    }
  ]
}