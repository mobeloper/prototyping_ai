{
  "cells": [
    {
      "cell_type": "markdown",
      "metadata": {},
      "source": [
        "# Exercises: Hands-on Practice\n",
        "\n",
        "1. **Visualize Top TF-IDF Terms**:\n",
        "   Modify the DataFrame to display the top 3 terms with the highest TF-IDF values for each document.\n",
        "\n",
        "2. **Add New Documents**:\n",
        "   Add new documents to the corpus and observe how the IDF values change.\n",
        "\n",
        "3. **Explain Multiple Terms**:\n",
        "   Extend the `explain_tfidf` function to display calculations for multiple terms at once.\n",
        "\n",
        "4. **Custom Preprocessing**:\n",
        "   Modify the `TfidfVectorizer` to include custom preprocessing, such as lowercasing, removing stopwords, or stemming.\n",
        "\n",
        "5. **Analyze the Impact of Parameters**:\n",
        "   Experiment with the `TfidfVectorizer` parameters, such as `max_df`, `min_df`, and `ngram_range`. Observe their effect on the TF-IDF matrix.\n",
        "\n",
        "6. **Compare with Raw Term Frequencies**:\n",
        "   Use `CountVectorizer` to calculate raw term frequencies and compare them with the TF-IDF values.\n",
        "\n",
        "7. **Real Dataset**:\n",
        "   Apply TF-IDF to a real-world dataset, such as movie reviews or news articles. Visualize the most important terms in each document.\n"
      ]
    },
    {
      "cell_type": "markdown",
      "metadata": {
        "id": "eUBHO7vAcoi1"
      },
      "source": [
        "# Ex 1"
      ]
    },
    {
      "cell_type": "code",
      "execution_count": 1,
      "metadata": {
        "colab": {
          "base_uri": "https://localhost:8080/"
        },
        "id": "706ojxl6cnlA",
        "outputId": "8192cc7d-8d3d-4c86-8403-3df12ac9ad1c"
      },
      "outputs": [
        {
          "name": "stdout",
          "output_type": "stream",
          "text": [
            "\n",
            "Top 3 terms for Document 1:\n",
            "  the: 0.5812\n",
            "  sat: 0.4920\n",
            "  cat: 0.3742\n",
            "\n",
            "Top 3 terms for Document 2:\n",
            "  the: 0.5926\n",
            "  chased: 0.5017\n",
            "  dog: 0.5017\n",
            "\n",
            "Top 3 terms for Document 3:\n",
            "  the: 0.5536\n",
            "  floor: 0.4687\n",
            "  was: 0.4687\n"
          ]
        }
      ],
      "source": [
        "from sklearn.feature_extraction.text import TfidfVectorizer\n",
        "import pandas as pd\n",
        "\n",
        "# Sample documents\n",
        "documents = [\n",
        "    \"The cat sat on the mat.\",\n",
        "    \"The dog chased the cat.\",\n",
        "    \"The mat was on the floor.\"\n",
        "]\n",
        "\n",
        "# Compute TF-IDF\n",
        "vectorizer = TfidfVectorizer()\n",
        "tfidf_matrix = vectorizer.fit_transform(documents)\n",
        "feature_names = vectorizer.get_feature_names_out()\n",
        "\n",
        "# Convert to DataFrame for visualization\n",
        "df = pd.DataFrame(\n",
        "    tfidf_matrix.toarray(),\n",
        "    columns=feature_names,\n",
        "    index=[f'Doc {i+1}' for i in range(len(documents))]\n",
        ")\n",
        "\n",
        "# Extract top 3 terms for each document\n",
        "for doc_id in range(len(documents)):\n",
        "    print(f\"\\nTop 3 terms for Document {doc_id + 1}:\")\n",
        "    top_terms = df.iloc[doc_id].sort_values(ascending=False).head(3)\n",
        "    for term, score in top_terms.items():\n",
        "        print(f\"  {term}: {score:.4f}\")\n"
      ]
    },
    {
      "cell_type": "markdown",
      "metadata": {
        "id": "YDkBxvyPcvdu"
      },
      "source": [
        "# Ex 2"
      ]
    },
    {
      "cell_type": "code",
      "execution_count": 2,
      "metadata": {
        "colab": {
          "base_uri": "https://localhost:8080/"
        },
        "id": "VjNTyqVtcrHf",
        "outputId": "a633d987-326f-437b-d85c-5b03d8445a30"
      },
      "outputs": [
        {
          "name": "stdout",
          "output_type": "stream",
          "text": [
            "\n",
            "Updated IDF Values:\n",
            "      Term       IDF\n",
            "0      and  2.252763\n",
            "9    jumps  2.252763\n",
            "18   shiny  2.252763\n",
            "17     sat  2.252763\n",
            "16    room  2.252763\n",
            "15   quick  2.252763\n",
            "14    over  2.252763\n",
            "11  living  2.252763\n",
            "1    brown  2.252763\n",
            "10    lazy  2.252763\n"
          ]
        }
      ],
      "source": [
        "# Extend the corpus\n",
        "new_documents = documents + [\n",
        "    \"The quick brown fox jumps over the lazy dog.\",\n",
        "    \"The mat was in the living room.\",\n",
        "    \"The floor was clean and shiny.\"\n",
        "]\n",
        "\n",
        "# Recompute TF-IDF\n",
        "new_vectorizer = TfidfVectorizer()\n",
        "new_tfidf_matrix = new_vectorizer.fit_transform(new_documents)\n",
        "new_feature_names = new_vectorizer.get_feature_names_out()\n",
        "\n",
        "# Display updated IDF values\n",
        "idf_values = new_vectorizer.idf_\n",
        "idf_df = pd.DataFrame(\n",
        "    {'Term': new_feature_names, 'IDF': idf_values}\n",
        ").sort_values(by='IDF', ascending=False)\n",
        "\n",
        "print(\"\\nUpdated IDF Values:\")\n",
        "print(idf_df.head(10))\n"
      ]
    },
    {
      "cell_type": "markdown",
      "metadata": {
        "id": "ZHdqHXF7dGMi"
      },
      "source": [
        "# Ex 3"
      ]
    },
    {
      "cell_type": "markdown",
      "metadata": {},
      "source": [
        "explian for multiple terms in a document"
      ]
    },
    {
      "cell_type": "code",
      "execution_count": 3,
      "metadata": {
        "colab": {
          "base_uri": "https://localhost:8080/"
        },
        "id": "pPOcnf0fcxmu",
        "outputId": "cb5a72fc-4a7f-4973-f2e7-7462c88a3d68"
      },
      "outputs": [
        {
          "name": "stdout",
          "output_type": "stream",
          "text": [
            "\n",
            "Explanation for term 'cat' in Document 1:\n",
            "TF (Term Frequency): 0.37420725915942793\n",
            "IDF (Inverse Document Frequency): 1.2877\n",
            "TF-IDF: 0.4819\n",
            "\n",
            "Explanation for term 'dog' in Document 1:\n",
            "TF (Term Frequency): 0.0\n",
            "IDF (Inverse Document Frequency): 1.6931\n",
            "TF-IDF: 0.0000\n",
            "\n",
            "Explanation for term 'mat' in Document 1:\n",
            "TF (Term Frequency): 0.37420725915942793\n",
            "IDF (Inverse Document Frequency): 1.2877\n",
            "TF-IDF: 0.4819\n"
          ]
        }
      ],
      "source": [
        "# def explain_multiple_tfidf(terms, doc_index):\n",
        "#     for term in terms:\n",
        "#         if term in feature_names:\n",
        "#             term_index = list(feature_names).index(term)\n",
        "#             tf = tfidf_matrix[doc_index, term_index]\n",
        "#             idf = vectorizer.idf_[term_index]\n",
        "#             tfidf = tf * idf\n",
        "#             print(f\"\\nExplanation for term '{term}' in Document {doc_index + 1}:\")\n",
        "#             print(f\"  TF (Term Frequency): {tf}\")\n",
        "#             print(f\"  IDF (Inverse Document Frequency): {idf:.4f}\")\n",
        "#             print(f\"  TF-IDF: {tfidf:.4f}\")\n",
        "#         else:\n",
        "#             print(f\"\\nTerm '{term}' not found in the vocabulary.\")\n",
        "\n",
        "# # Example explanation for multiple terms\n",
        "# explain_multiple_tfidf([\"cat\", \"mat\", \"dog\"], 0)\n",
        "\n",
        "\n",
        "def explain_tfidf_multiple(terms, doc_index):\n",
        "\n",
        "    for term in terms:\n",
        "\n",
        "        # Find the index of the term\n",
        "\n",
        "        term_index = list(feature_names).index(term)\n",
        "\n",
        "        # Calculate TF (Term Frequency)\n",
        "\n",
        "        tf = vectorizer.transform([documents[doc_index]]).toarray()[0][term_index]\n",
        "\n",
        "        # Get IDF (Inverse Document Frequency)\n",
        "\n",
        "        idf = vectorizer.idf_[term_index]\n",
        "\n",
        "        # Calculate TF-IDF\n",
        "\n",
        "        tfidf = tf * idf\n",
        "\n",
        "        # Display results\n",
        "\n",
        "        print(f\"\\nExplanation for term '{term}' in Document {doc_index + 1}:\")\n",
        "\n",
        "        print(f\"TF (Term Frequency): {tf}\")\n",
        "\n",
        "        print(f\"IDF (Inverse Document Frequency): {idf:.4f}\")\n",
        "\n",
        "        print(f\"TF-IDF: {tfidf:.4f}\")\n",
        "\n",
        "explain_tfidf_multiple([\"cat\", \"dog\", \"mat\"], 0)\n"
      ]
    },
    {
      "cell_type": "markdown",
      "metadata": {
        "id": "NMi0XjL1dgGt"
      },
      "source": [
        "# Ex 4"
      ]
    },
    {
      "cell_type": "code",
      "execution_count": 4,
      "metadata": {
        "colab": {
          "base_uri": "https://localhost:8080/"
        },
        "id": "tP_xk1kHdLbE",
        "outputId": "a8babf6d-a1d8-48dd-a2e8-43269e3d979c"
      },
      "outputs": [
        {
          "name": "stdout",
          "output_type": "stream",
          "text": [
            "\n",
            "TF-IDF Matrix:\n",
            "            cat     chase       dog     floor       mat        on       sat  \\\n",
            "Doc 1  0.374207  0.000000  0.000000  0.000000  0.374207  0.374207  0.492038   \n",
            "Doc 2  0.381519  0.501651  0.501651  0.000000  0.000000  0.000000  0.000000   \n",
            "Doc 3  0.000000  0.000000  0.000000  0.468699  0.356457  0.356457  0.000000   \n",
            "\n",
            "            the        wa  \n",
            "Doc 1  0.581211  0.000000  \n",
            "Doc 2  0.592567  0.000000  \n",
            "Doc 3  0.553642  0.468699  \n"
          ]
        },
        {
          "name": "stderr",
          "output_type": "stream",
          "text": [
            "[nltk_data] Downloading package punkt_tab to\n",
            "[nltk_data]     /Users/oysterable/nltk_data...\n",
            "[nltk_data]   Package punkt_tab is already up-to-date!\n"
          ]
        }
      ],
      "source": [
        "import nltk\n",
        "nltk.download('punkt_tab')\n",
        "\n",
        "from nltk.stem import PorterStemmer\n",
        "from sklearn.feature_extraction.text import CountVectorizer\n",
        "from nltk.tokenize import word_tokenize\n",
        "\n",
        "\n",
        "# Preprocess using PorterStemmer\n",
        "stemmer = PorterStemmer()\n",
        "\n",
        "def new_preprocessor(text):\n",
        "    tokens = word_tokenize(text.lower())\n",
        "    stemmed_tokens = [stemmer.stem(token) for token in tokens if token.isalpha()]\n",
        "    return ' '.join(stemmed_tokens)\n",
        "\n",
        "# Apply custom preprocessing to TF-IDF\n",
        "custom_vectorizer = TfidfVectorizer(preprocessor=new_preprocessor)\n",
        "custom_tfidf_matrix = custom_vectorizer.fit_transform(documents)\n",
        "custom_feature_names = custom_vectorizer.get_feature_names_out()\n",
        "\n",
        "# Convert to DataFrame for visualization\n",
        "custom_df = pd.DataFrame(\n",
        "    custom_tfidf_matrix.toarray(),\n",
        "    columns=custom_feature_names,\n",
        "    index=[f'Doc {i+1}' for i in range(len(documents))]\n",
        ")\n",
        "\n",
        "print(\"\\nTF-IDF Matrix:\")\n",
        "print(custom_df)\n"
      ]
    },
    {
      "cell_type": "markdown",
      "metadata": {
        "id": "0X33QzH6fmWF"
      },
      "source": [
        "# Ex 5"
      ]
    },
    {
      "cell_type": "code",
      "execution_count": 5,
      "metadata": {
        "colab": {
          "base_uri": "https://localhost:8080/"
        },
        "id": "DX8kWjl_d0Qs",
        "outputId": "ef9f9945-d8ca-4e2a-c91c-7893ba40582b"
      },
      "outputs": [
        {
          "name": "stdout",
          "output_type": "stream",
          "text": [
            "\n",
            "TF-IDF Matrix:\n",
            "            cat       mat        on    on the   the cat   the mat\n",
            "Doc 1  0.408248  0.408248  0.408248  0.408248  0.408248  0.408248\n",
            "Doc 2  0.707107  0.000000  0.000000  0.000000  0.707107  0.000000\n",
            "Doc 3  0.000000  0.500000  0.500000  0.500000  0.000000  0.500000\n"
          ]
        }
      ],
      "source": [
        "# Experiment with some new parameters\n",
        "param_vectorizer = TfidfVectorizer(max_df=0.8, min_df=2, ngram_range=(1, 2))\n",
        "param_tfidf_matrix = param_vectorizer.fit_transform(documents)\n",
        "param_feature_names = param_vectorizer.get_feature_names_out()\n",
        "\n",
        "# Convert to DataFrame\n",
        "param_df = pd.DataFrame(\n",
        "    param_tfidf_matrix.toarray(),\n",
        "    columns=param_feature_names,\n",
        "    index=[f'Doc {i+1}' for i in range(len(documents))]\n",
        ")\n",
        "\n",
        "print(\"\\nTF-IDF Matrix:\")\n",
        "print(param_df)\n"
      ]
    },
    {
      "cell_type": "markdown",
      "metadata": {
        "id": "_7Ur_D6Vfz1V"
      },
      "source": [
        "# Ex 6"
      ]
    },
    {
      "cell_type": "code",
      "execution_count": 6,
      "metadata": {
        "colab": {
          "base_uri": "https://localhost:8080/"
        },
        "id": "ZH6WWfaPfvTE",
        "outputId": "4a9f95ba-6a04-42b5-a305-2d7f04da7d39"
      },
      "outputs": [
        {
          "name": "stdout",
          "output_type": "stream",
          "text": [
            "\n",
            "Raw Term Frequencies:\n",
            "       cat  chased  dog  floor  mat  on  sat  the  was\n",
            "Doc 1    1       0    0      0    1   1    1    2    0\n",
            "Doc 2    1       1    1      0    0   0    0    2    0\n",
            "Doc 3    0       0    0      1    1   1    0    2    1\n",
            "\n",
            "TF-IDF Values:\n",
            "            cat    chased       dog     floor       mat        on       sat  \\\n",
            "Doc 1  0.374207  0.000000  0.000000  0.000000  0.374207  0.374207  0.492038   \n",
            "Doc 2  0.381519  0.501651  0.501651  0.000000  0.000000  0.000000  0.000000   \n",
            "Doc 3  0.000000  0.000000  0.000000  0.468699  0.356457  0.356457  0.000000   \n",
            "\n",
            "            the       was  \n",
            "Doc 1  0.581211  0.000000  \n",
            "Doc 2  0.592567  0.000000  \n",
            "Doc 3  0.553642  0.468699  \n"
          ]
        }
      ],
      "source": [
        "from sklearn.feature_extraction.text import CountVectorizer\n",
        "\n",
        "# Compute raw term frequencies\n",
        "count_vectorizer = CountVectorizer()\n",
        "count_matrix = count_vectorizer.fit_transform(documents)\n",
        "count_feature_names = count_vectorizer.get_feature_names_out()\n",
        "\n",
        "# Convert raw counts to DataFrame\n",
        "count_df = pd.DataFrame(\n",
        "    count_matrix.toarray(),\n",
        "    columns=count_feature_names,\n",
        "    index=[f'Doc {i+1}' for i in range(len(documents))]\n",
        ")\n",
        "\n",
        "print(\"\\nRaw Term Frequencies:\")\n",
        "print(count_df)\n",
        "\n",
        "print(\"\\nTF-IDF Values:\")\n",
        "print(df)\n"
      ]
    },
    {
      "cell_type": "markdown",
      "metadata": {
        "id": "6FUBq_cSgTtn"
      },
      "source": [
        "# Ex 7"
      ]
    },
    {
      "cell_type": "markdown",
      "metadata": {},
      "source": [
        "References:\n",
        "\n",
        "https://scikit-learn.org/1.5/datasets/real_world.html#the-20-newsgroups-text-dataset "
      ]
    },
    {
      "cell_type": "code",
      "execution_count": 3,
      "metadata": {
        "colab": {
          "base_uri": "https://localhost:8080/"
        },
        "id": "nf4C3ihjgQEn",
        "outputId": "d4c6dcda-43c7-4a3f-f210-77441d220a7a"
      },
      "outputs": [
        {
          "data": {
            "text/plain": [
              "['rec.sport.baseball', 'sci.space']"
            ]
          },
          "execution_count": 3,
          "metadata": {},
          "output_type": "execute_result"
        }
      ],
      "source": [
        "from sklearn.datasets import fetch_20newsgroups\n",
        "\n",
        "# Load a small subset of the 20 Newsgroups dataset from scikit-learn\n",
        "newsgroups = fetch_20newsgroups(subset='train', categories=['sci.space', 'rec.sport.baseball'], remove=('headers', 'footers', 'quotes'))\n",
        "\n",
        "list(newsgroups.target_names)"
      ]
    },
    {
      "cell_type": "code",
      "execution_count": null,
      "metadata": {},
      "outputs": [],
      "source": [
        "\n",
        "real_documents = newsgroups.data[:10]  # Limit to 10 documents for simplicity\n",
        "real_documents"
      ]
    },
    {
      "cell_type": "code",
      "execution_count": null,
      "metadata": {},
      "outputs": [],
      "source": [
        "\n",
        "# Compute TF-IDF\n",
        "real_vectorizer = TfidfVectorizer()\n",
        "real_tfidf_matrix = real_vectorizer.fit_transform(real_documents)\n",
        "real_feature_names = real_vectorizer.get_feature_names_out()\n",
        "\n",
        "# Load into dataframe\n",
        "real_df = pd.DataFrame(\n",
        "    real_tfidf_matrix.toarray(),\n",
        "    columns=real_feature_names,\n",
        "    index=[f'Doc {i+1}' for i in range(len(real_documents))]\n",
        ")\n",
        "\n",
        "print(\"\\nTF-IDF Matrix for Real Dataset:\")\n",
        "print(real_df.head())\n"
      ]
    },
    {
      "cell_type": "code",
      "execution_count": null,
      "metadata": {
        "id": "pc7UM0U6gU4a"
      },
      "outputs": [],
      "source": []
    }
  ],
  "metadata": {
    "colab": {
      "provenance": []
    },
    "kernelspec": {
      "display_name": "Python 3",
      "name": "python3"
    },
    "language_info": {
      "codemirror_mode": {
        "name": "ipython",
        "version": 3
      },
      "file_extension": ".py",
      "mimetype": "text/x-python",
      "name": "python",
      "nbconvert_exporter": "python",
      "pygments_lexer": "ipython3",
      "version": "3.11.7"
    }
  },
  "nbformat": 4,
  "nbformat_minor": 0
}
