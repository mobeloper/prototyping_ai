{
  "cells": [
    {
      "cell_type": "markdown",
      "metadata": {},
      "source": [
        "References:\n",
        "\n",
        "You may use this to create Regex and create the code (including Python):\n",
        "\n",
        "https://regex101.com/\n"
      ]
    },
    {
      "cell_type": "markdown",
      "metadata": {
        "id": "WGh7o29Z9MA7"
      },
      "source": [
        "# Regular Expressions in Python - Regex\n",
        "\n",
        "Regex (Regular Expressions) is a powerful tool in Python for matching and manipulating text patterns. It allows you to search, validate, and extract data from strings using a specific syntax.\n",
        "\n",
        "In Python, you can use the `re` (regular expression) module to work with regex. Here's a brief overview:\n",
        "\n",
        "**Why use regex in Python?**\n",
        "\n",
        "1. **Text processing**: Regex is ideal for tasks like data cleaning, data extraction, and data validation.\n",
        "2. **Pattern matching**: Regex can match complex patterns in text, such as phone numbers, email addresses, or credit card numbers.\n",
        "3. **String manipulation**: Regex can be used to replace, split, or join strings based on specific patterns.\n",
        "\n",
        "**Basic regex concepts in Python**\n",
        "\n",
        "1. **Patterns**: Regex patterns are used to match text. They consist of characters, special characters, and metacharacters.\n",
        "2. **Metacharacters**: Special characters that have special meanings in regex, such as `.`, `^`, `$`, `*`, `+`, `?`, `{`, `}`, `[`, `]`, `(`, `)`, `|`, `\\`.\n",
        "3. **Character classes**: A set of characters enclosed in square brackets `[]` that match any single character within the set.\n",
        "4. **Quantifiers**: Special characters that specify the number of times a pattern should be matched, such as `*`, `+`, `?`, `{n,m}`.\n",
        "5. **Groups**: Parentheses `()` that group patterns together, allowing you to capture and reference parts of the match.\n",
        "\n",
        "**Common regex patterns in Python**\n",
        "\n",
        "1. **Matching a string**: `re.match(pattern, string)` matches the pattern at the beginning of the string.\n",
        "2. **Searching for a pattern**: `re.search(pattern, string)` searches for the pattern anywhere in the string.\n",
        "3. **Replacing a pattern**: `re.sub(pattern, replacement, string)` replaces the pattern with a replacement string.\n",
        "4. **Splitting a string**: `re.split(pattern, string)` splits the string into substrings based on the pattern.\n",
        "\n"
      ]
    },
    {
      "cell_type": "code",
      "execution_count": 28,
      "metadata": {
        "colab": {
          "base_uri": "https://localhost:8080/"
        },
        "id": "SJ5X8Flw8_dT",
        "outputId": "329bde87-ed2a-4ab5-e644-83549ba8fe94"
      },
      "outputs": [
        {
          "name": "stdout",
          "output_type": "stream",
          "text": [
            "Valid email address\n"
          ]
        }
      ],
      "source": [
        "import re\n",
        "\n",
        "email = \"john.doe@example.com\"\n",
        "pattern = r\"^[a-zA-Z0-9._%+-]+@[a-zA-Z0-9.-]+\\.[a-zA-Z]{2,}$\"\n",
        "\n",
        "if re.match(pattern, email):\n",
        "    print(\"Valid email address\")\n",
        "else:\n",
        "    print(\"Invalid email address\")\n"
      ]
    },
    {
      "cell_type": "markdown",
      "metadata": {
        "id": "y9QEOHCw86Yg"
      },
      "source": [
        "\n",
        "This code uses the `re.match` function to match the email address against a pattern that checks for the following:\n",
        "\n",
        "* The email address starts with one or more alphanumeric characters, dots, underscores, percent signs, plus signs, or hyphens (`^[a-zA-Z0-9._%+-]+`).\n",
        "* The email address contains an `@` symbol followed by one or more alphanumeric characters, dots, or hyphens (`@[a-zA-Z0-9.-]+`).\n",
        "* The email address ends with a dot followed by two or more letters (`\\.[a-zA-Z]{2,}$`).\n",
        "\n",
        "If the email address matches the pattern, the code prints \"Valid email address\". Otherwise, it prints \"Invalid email address\".\n",
        "\n",
        "## Validating a Phone Number\n",
        "\n",
        "Regex pattern: `\\(?([0-9]{3})\\)?[-. ]?([0-9]{3})[-. ]?([0-9]{4})`\n",
        "Description: This pattern matches a phone number in the format `(123) 456-7890` or `123-456-7890` or `123.456.7890`."
      ]
    },
    {
      "cell_type": "code",
      "execution_count": 29,
      "metadata": {
        "colab": {
          "base_uri": "https://localhost:8080/"
        },
        "id": "hVEbSuur9uK4",
        "outputId": "24e9f18d-6607-40db-c76f-347b3031f91c"
      },
      "outputs": [
        {
          "name": "stdout",
          "output_type": "stream",
          "text": [
            "Valid phone number\n"
          ]
        }
      ],
      "source": [
        "import re\n",
        "\n",
        "phone_number = \"123-456-7890\"\n",
        "pattern = r\"\\(?([0-9]{3})\\)?[-. ]?([0-9]{3})[-. ]?([0-9]{4})$\"  #the $ specify the ending pattern\n",
        "if re.match(pattern, phone_number):\n",
        "    print(\"Valid phone number\")\n",
        "else:\n",
        "    print(\"Invalid phone number\")"
      ]
    },
    {
      "cell_type": "markdown",
      "metadata": {
        "id": "KdhrOcqo9yI1"
      },
      "source": [
        "## Extracting URLs from text\n",
        "\n",
        "Regex pattern: `https?://[^\\s]+`\n",
        "Description: This pattern matches URLs in the format `http://example.com` or `https://example.com`."
      ]
    },
    {
      "cell_type": "code",
      "execution_count": 30,
      "metadata": {
        "colab": {
          "base_uri": "https://localhost:8080/"
        },
        "id": "KuZ8V3zP94De",
        "outputId": "55369c11-4122-4540-907c-b6832a9568c4"
      },
      "outputs": [
        {
          "name": "stdout",
          "output_type": "stream",
          "text": [
            "['http://example.com', 'https://example.com']\n"
          ]
        }
      ],
      "source": [
        "import re\n",
        "\n",
        "text = \"Visit our website at http://example.com or https://example.com\"\n",
        "urls = re.findall(r\"https?://[^\\s]+\", text)\n",
        "print(urls)  # Output: [\"http://example.com\", \"https://example.com\"]"
      ]
    },
    {
      "cell_type": "markdown",
      "metadata": {
        "id": "5IVW5usa-CUK"
      },
      "source": [
        "## Validating a Credit Card Number\n",
        "\n",
        "Regex pattern: `^(?:4[0-9]{12}(?:[0-9]{3})?|5[1-5][0-9]{14}|6(?:011|5[0-9][0-9])[0-9]{12}|3[47][0-9]{13}|3(?:0[0-5]|[68][0-9])[0-9]{11})$\n",
        "Description: This pattern matches credit card numbers in the formats `4111-1111-1111-1111` or `5105-1051-0510-5105`."
      ]
    },
    {
      "cell_type": "code",
      "execution_count": 31,
      "metadata": {
        "colab": {
          "base_uri": "https://localhost:8080/"
        },
        "id": "LXk9xuBU-F09",
        "outputId": "9fcb9e65-8cff-443c-9184-2691a983f188"
      },
      "outputs": [
        {
          "name": "stdout",
          "output_type": "stream",
          "text": [
            "Invalid credit card number\n"
          ]
        }
      ],
      "source": [
        "import re\n",
        "\n",
        "credit_card = \"4111-1111-1111-1111\"\n",
        "pattern = r\"^(?:4[0-9]{12}(?:[0-9]{3})?|5[1-5][0-9]{14}|6(?:011|5[0-9][0-9])[0-9]{12}|3[47][0-9]{13}|3(?:0[0-5]|[68][0-9])[0-9]{11})$\"\n",
        "if re.match(pattern, credit_card):\n",
        "    print(\"Valid credit card number\")\n",
        "else:\n",
        "    print(\"Invalid credit card number\")"
      ]
    },
    {
      "cell_type": "markdown",
      "metadata": {
        "id": "rBKraeTy-JcJ"
      },
      "source": [
        "## Extracting Dates from Text\n",
        "\n",
        "Regex pattern: `\\b(?:[1-9]|[12][0-9]|3[01])[-/.](?:[0-9]{2}|[0-9]{4})\\b`\n",
        "Description: This pattern matches dates in the formats `01-01-2020` or `01/01/2020` or `2020-01-01`."
      ]
    },
    {
      "cell_type": "code",
      "execution_count": 32,
      "metadata": {
        "colab": {
          "base_uri": "https://localhost:8080/"
        },
        "id": "YbP_2Pod-OmH",
        "outputId": "c42e2466-7b08-4398-baaa-5f896325287c"
      },
      "outputs": [
        {
          "name": "stdout",
          "output_type": "stream",
          "text": [
            "['01-01-2020', '01/01/2020']\n"
          ]
        }
      ],
      "source": [
        "import re\n",
        "\n",
        "text = \"The meeting is scheduled for 01-01-2020 or 01/01/2020.\"\n",
        "dates = re.findall(r\"\\b\\d{2}[-/.]\\d{2}[-/.]\\d{4}\\b\", text)\n",
        "print(dates)  # Output: [\"01-01-2020\", \"01/01/2020\"]\n"
      ]
    },
    {
      "cell_type": "markdown",
      "metadata": {
        "id": "wWzqmmd4-fUc"
      },
      "source": [
        "## Validating an IP address\n",
        "\n",
        "Regex pattern: `^(?:[0-9]{1,3}\\.){3}[0-9]{1,3}$\n",
        "Description: This pattern matches IP addresses in the format `192.168.1.1`."
      ]
    },
    {
      "cell_type": "code",
      "execution_count": 33,
      "metadata": {
        "colab": {
          "base_uri": "https://localhost:8080/"
        },
        "id": "GvgFiG30-lCT",
        "outputId": "1053cfbc-bd6a-4723-f241-2ebc00fd8080"
      },
      "outputs": [
        {
          "name": "stdout",
          "output_type": "stream",
          "text": [
            "Valid IP address\n"
          ]
        }
      ],
      "source": [
        "import re\n",
        "\n",
        "ip_address = \"192.168.1.1\"\n",
        "pattern = r\"^(?:[0-9]{1,3}\\.){3}[0-9]{1,3}$\"\n",
        "if re.match(pattern, ip_address):\n",
        "    print(\"Valid IP address\")\n",
        "else:\n",
        "    print(\"Invalid IP address\")"
      ]
    },
    {
      "cell_type": "markdown",
      "metadata": {
        "id": "IugbzK0T-oPI"
      },
      "source": [
        "## Extracting Email Addresses from Text\n",
        "\n",
        "Regex pattern: `\\b[A-Za-z0-9._%+-]+@[A-Za-z0-9.-]+\\.[A-Z|a-z]{2,}\\b`\n",
        "Description: This pattern matches email addresses in the format `john.doe@example.com`."
      ]
    },
    {
      "cell_type": "code",
      "execution_count": 44,
      "metadata": {
        "colab": {
          "base_uri": "https://localhost:8080/"
        },
        "id": "YgtmY_eX-vbu",
        "outputId": "72670f3e-d8af-4be9-9066-b7fe2c1bb480"
      },
      "outputs": [
        {
          "name": "stdout",
          "output_type": "stream",
          "text": [
            "['john.doe@example.com', 'jane.smith@example.com']\n"
          ]
        }
      ],
      "source": [
        "import re\n",
        "\n",
        "text = \"Contact us at john.doe@example.com or jane.smith@example.com\"\n",
        "emails = re.findall(r\"\\b[A-Za-z0-9._%+-]+@[A-Za-z0-9.-]+\\.[A-Z|a-z]{2,}\\b\", text)\n",
        "print(emails)  # Output: [\"john.doe@example.com\", \"jane.smith@example.com\"]"
      ]
    },
    {
      "cell_type": "markdown",
      "metadata": {
        "id": "Y_gM8iqu86Oi"
      },
      "source": [
        "\n",
        "**Conclusion**\n",
        "\n",
        "Regex is a powerful tool in Python for working with text patterns. By understanding the basics of regex and using the `re` module, you can perform complex text processing tasks, validate data, and extract valuable information from strings."
      ]
    },
    {
      "cell_type": "markdown",
      "metadata": {},
      "source": [
        "## Exercise"
      ]
    },
    {
      "cell_type": "markdown",
      "metadata": {},
      "source": [
        "Extract only those emails which have .com or .ai endings"
      ]
    },
    {
      "cell_type": "code",
      "execution_count": 45,
      "metadata": {},
      "outputs": [
        {
          "name": "stdout",
          "output_type": "stream",
          "text": [
            "['john.doe@example.com', 'jane.smith@example.com']\n"
          ]
        }
      ],
      "source": [
        "import re\n",
        "\n",
        "text = \"Contact us at john.doe@example.com or jane.smith@example.com or test@email.AI\"\n",
        "emails = re.findall(r\"\\b[A-Za-z0-9._%+-]+@[A-Za-z0-9.-]+\\.[com|ai]{2,}\\b\", text) # \\b means not a blank space\n",
        "# emails = re.findall(r\"[a-zA-Z0-9._%+-]+@[a-zA-Z0-9.-]+\\.(?:com|ai)\\b\", text)\n",
        "print(emails)  # Output: [\"john.doe@example.com\", \"jane.smith@example.com\"]"
      ]
    },
    {
      "cell_type": "code",
      "execution_count": null,
      "metadata": {},
      "outputs": [],
      "source": []
    }
  ],
  "metadata": {
    "colab": {
      "provenance": []
    },
    "kernelspec": {
      "display_name": "Python 3",
      "name": "python3"
    },
    "language_info": {
      "codemirror_mode": {
        "name": "ipython",
        "version": 3
      },
      "file_extension": ".py",
      "mimetype": "text/x-python",
      "name": "python",
      "nbconvert_exporter": "python",
      "pygments_lexer": "ipython3",
      "version": "3.11.7"
    }
  },
  "nbformat": 4,
  "nbformat_minor": 0
}
