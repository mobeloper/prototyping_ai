{
  "cells": [
    {
      "cell_type": "markdown",
      "metadata": {
        "id": "izu3V7g5Rtp-"
      },
      "source": [
        "# Streamlit\n",
        "\n",
        "Streamlit is an open-source Python library that allows you to create web applications for data science and machine learning. It provides a simple and intuitive way to build interactive web applications that can be used to visualize and explore data, train and deploy machine learning models, and more.\n",
        "\n",
        "Streamlit is designed to be easy to use, even for those without extensive web development experience. It provides a range of features and tools that make it easy to create web applications, including:\n",
        "\n",
        "1. **Simple API**: Streamlit provides a simple API that allows you to create web applications by writing Python code.\n",
        "2. **Interactive widgets**: Streamlit provides a range of interactive widgets, such as sliders, dropdowns, and text inputs, that can be used to create interactive web applications.\n",
        "3. **Data visualization**: Streamlit provides a range of data visualization tools, including plots, charts, and tables, that can be used to visualize data.\n",
        "4. **Machine learning integration**: Streamlit provides integration with popular machine learning libraries, such as scikit-learn and TensorFlow, making it easy to train and deploy machine learning models.\n",
        "5. **Deployment**: Streamlit provides a range of deployment options, including hosting on Streamlit's own servers, deploying to cloud platforms such as AWS or Google Cloud, and more.\n",
        "\n",
        "Some examples of what you can build with Streamlit include:\n",
        "\n",
        "1. **Data exploration dashboards**: Create interactive dashboards that allow users to explore and visualize data.\n",
        "2. **Machine learning model deployment**: Deploy machine learning models as web applications that can be used to make predictions or classify data.\n",
        "3. **Data visualization tools**: Create interactive data visualization tools that allow users to explore and visualize data.\n",
        "4. **Web applications for data science**: Build web applications that allow data scientists to perform tasks such as data cleaning, feature engineering, and model training.\n",
        "\n",
        "Overall, Streamlit is a powerful tool that can help you build interactive web applications for data science and machine learning, without requiring extensive web development experience.\n",
        "\n",
        "We shall build a streamlit application with the politics and sports corpus.\n",
        "\n",
        "```\n",
        "corpus = [\n",
        "    \"The New England Patriots won the Super Bowl last night.\",\n",
        "    \"The Democratic Party is expected to win the presidential election.\",\n",
        "    \"LeBron James is considered one of the greatest basketball players of all time.\",\n",
        "    \"The Republican Party is pushing for tax reform.\",\n",
        "    \"The Boston Red Sox are heading to the World Series.\",\n",
        "    \"The Democratic nominee for president is a strong advocate for healthcare reform.\",\n",
        "    \"Tom Brady is a legendary quarterback in the NFL.\",\n",
        "    \"The Republican candidate for president is a vocal supporter of gun rights.\",\n",
        "    \"The Chicago Cubs won the World Series in 2016.\",\n",
        "    \"The Democratic Party is divided on the issue of immigration reform.\",\n",
        "    \"The Golden State Warriors are a dominant force in the NBA.\",\n",
        "    \"The Republican Party is expected to maintain control of the Senate.\",\n",
        "    \"The New York Yankees are a storied franchise in Major League Baseball.\",\n",
        "    \"The Democratic nominee for president is a strong supporter of LGBTQ+ rights.\",\n",
        "    \"The Green Bay Packers are a beloved team in the NFL.\",\n",
        "    \"The Republican candidate for president is a vocal critic of the Affordable Care Act.\",\n",
        "    \"The Los Angeles Lakers are a storied franchise in the NBA.\",\n",
        "    \"The Democratic Party is pushing for climate change legislation.\",\n",
        "    \"The New York Mets are a struggling team in Major League Baseball.\",\n",
        "    \"The Republican Party is expected to maintain control of the House of Representatives.\",\n",
        "    \"The Boston Celtics are a storied franchise in the NBA.\",\n",
        "    \"The Democratic nominee for president is a strong advocate for education reform.\",\n",
        "    \"The Chicago Bears are a storied franchise in the NFL.\",\n",
        "    \"The Republican candidate for president is a vocal supporter of the military.\",\n",
        "    \"The Golden State Warriors are a dominant force in the NBA.\",\n",
        "    \"The Democratic Party is divided on the issue of gun control.\",\n",
        "    \"The New England Patriots are a dominant force in the NFL.\",\n",
        "    \"The Republican Party is expected to maintain control of the presidency.\",\n",
        "    \"The Los Angeles Dodgers are a storied franchise in Major League Baseball.\",\n",
        "    \"The Democratic nominee for president is a strong supporter of women's rights.\",\n",
        "    \"The Green Bay Packers are a beloved team in the NFL.\",\n",
        "    \"The Republican candidate for president is a vocal critic of the Iran nuclear deal.\",\n",
        "    \"The Boston Red Sox are a storied franchise in Major League Baseball.\",\n",
        "    \"The Democratic Party is pushing for healthcare reform.\",\n",
        "    \"The Republican Party is expected to maintain control of the Senate.\",\n",
        "    \"The New York Yankees are a storied franchise in Major League Baseball.\",\n",
        "    \"The Democratic nominee for president is a strong advocate for environmental protection.\",\n",
        "    \"The Chicago Cubs are a storied franchise in Major League Baseball.\",\n",
        "    \"The Republican candidate for president is a vocal supporter of the death penalty.\",\n",
        "    \"The Los Angeles Lakers are a storied franchise in the NBA.\",\n",
        "    \"The Democratic Party is divided on the issue of immigration reform.\",\n",
        "    \"The Green Bay Packers are a beloved team in the NFL.\",\n",
        "    \"The Republican Party is expected to maintain control of the House of Representatives.\",\n",
        "    \"The Boston Celtics are a storied franchise in the NBA.\",\n",
        "    \"The Democratic nominee for president is a strong advocate for education reform.\",\n",
        "    \"The Chicago Bears are a storied franchise in the NFL.\",\n",
        "    \"The Republican candidate for president is a vocal supporter of the military.\",\n",
        "    \"The Golden State Warriors are a dominant force in the NBA.\",\n",
        "    \"The Democratic Party is divided on the issue of gun control.\",\n",
        "    \"The New England Patriots are a dominant force in the NFL.\",\n",
        "    \"The Republican Party is expected to maintain control of the presidency.\",\n",
        "    \"The Los Angeles Dodgers are a storied franchise in Major League Baseball.\",\n",
        "    \"The Democratic nominee for president is a strong supporter of women's rights.\",\n",
        "    \"The Green Bay Packers are a beloved team in the NFL.\",\n",
        "    \"The Republican candidate for president is a vocal critic of the Iran nuclear deal.\",\n",
        "    \"The Boston Red Sox are a storied franchise in Major League Baseball.\",\n",
        "    \"The Democratic Party is pushing for healthcare reform.\",\n",
        "    \"The Republican Party is expected to maintain control of the Senate.\",\n",
        "    \"The New York Yankees are a storied franchise in Major League Baseball.\",\n",
        "    \"The Democratic nominee for president is a strong advocate for environmental protection.\",\n",
        "    \"The Chicago Cubs are a storied franchise in Major League Baseball.\",\n",
        "    \"The Republican candidate for president is a vocal supporter of the death penalty.\",\n",
        "    \"The Los Angeles Lakers are a storied franchise in the NBA.\",\n",
        "    \"The Democratic Party is divided on the issue of immigration reform.\",\n",
        "    \"The Green Bay Packers are a beloved team in the NFL.\",\n",
        "    \"The Republican Party is expected to maintain control of the House of Representatives.\",\n",
        "    \"The Boston Celtics are a storied franchise in the NBA.\",\n",
        "    \"The Democratic nominee for president is a strong advocate for education reform.\",\n",
        "    \"The Chicago Bears are a storied franchise in the NFL.\",\n",
        "    \"The Republican candidate for president is a vocal supporter of the military.\",\n",
        "    \"The Golden State Warriors are a dominant force in the NBA.\",\n",
        "    \"The Democratic Party is divided on the issue of gun control.\",\n",
        "    \"The New England Patriots are a dominant force in the NFL.\",\n",
        "    \"The Republican Party is expected to maintain control of the presidency.\",\n",
        "    \"The Los Angeles Dodgers are a storied franchise in Major League Baseball.\",\n",
        "    \"The Democratic nominee for president is a strong supporter of women's rights.\",\n",
        "    \"The Green Bay Packers are a beloved team in the NFL.\",\n",
        "    \"The Republican candidate for president is a vocal critic of the Iran nuclear deal.\",\n",
        "    \"The Boston Red Sox are a storied franchise in Major League Baseball.\",\n",
        "    \"The Democratic Party is pushing for healthcare reform.\",\n",
        "    \"The Republican Party is expected to maintain control of the Senate.\",\n",
        "    \"The New York Yankees are a storied franchise in Major League Baseball.\",\n",
        "    \"The Democratic nominee for president is a strong advocate for environmental protection.\",\n",
        "    \"The Chicago Cubs are a storied franchise in Major League Baseball.\",\n",
        "    \"The Republican candidate for president is a vocal supporter of the death penalty.\",\n",
        "    \"The Los Angeles Lakers are a storied franchise in the NBA.\",\n",
        "    \"The Democratic Party is divided on the issue of immigration reform.\",\n",
        "    \"The Green Bay Packers are a beloved team in the NFL.\",\n",
        "    \"The Republican Party is expected to maintain control of the House of Representatives.\",\n",
        "    \"The Boston Celtics are a storied franchise in the NBA.\",\n",
        "    \"The Democratic nominee for president is a strong advocate for education reform.\",\n",
        "    \"The Chicago Bears are a storied franchise in the NFL.\",\n",
        "    \"The Republican candidate for president is a vocal supporter of the military.\",\n",
        "    \"The Golden State Warriors are a dominant force in the NBA.\",\n",
        "    \"The Democratic Party is divided on the issue of gun control.\",\n",
        "    \"The New England Patriots are a dominant force in the NFL.\",\n",
        "    \"The Republican Party is expected to maintain control of the presidency.\",\n",
        "    \"The Los Angeles Dodgers are a storied franchise in Major League Baseball.\",\n",
        "    \"The Democratic nominee for president is a strong supporter of women's rights.\",\n",
        "    \"The Green Bay Packers are a beloved team in the NFL.\",\n",
        "    \"The Republican candidate for president is a vocal critic of the Iran nuclear deal.\",\n",
        "    \"The Boston Red Sox are a storied franchise in Major League Baseball.\",\n",
        "    \"The Democratic Party is pushing for healthcare reform.\",\n",
        "    \"The Republican Party is expected to maintain control of the Senate.\",\n",
        "    \"The New York Yankees are a storied franchise in Major League Baseball.\",\n",
        "    \"The Democratic nominee for president is a strong advocate for environmental protection.\",\n",
        "    \"The Chicago Cubs are a storied franchise in Major League Baseball.\",\n",
        "    \"The Republican candidate for president is a vocal supporter of the death penalty.\",\n",
        "    \"The Los Angeles Lakers are a storied franchise in the NBA.\",\n",
        "    \"The Democratic Party is divided on the issue of immigration reform.\",\n",
        "    \"The Green Bay Packers are a beloved team in the NFL.\",\n",
        "    \"The Republican Party is expected to maintain control of the House of Representatives.\",\n",
        "    \"The Boston Celtics are a storied franchise in the NBA.\",\n",
        "    \"The Democratic nominee for president is a strong advocate for education reform.\",\n",
        "    \"The Chicago Bears are a storied franchise in the NFL.\",\n",
        "    \"The Republican candidate for president is a vocal supporter of the military.\",\n",
        "    \"The Golden State Warriors are a dominant force in the NBA.\",\n",
        "    \"The Democratic Party is divided on the issue of gun control.\",\n",
        "    \"The New England Patriots are a dominant force in the NFL.\",\n",
        "    \"The Republican Party is expected to maintain control of the presidency.\",\n",
        "    \"The Los Angeles Dodgers are a storied franchise in Major League Baseball.\",\n",
        "    \"The Democratic nominee for president is a strong supporter of women's rights.\",\n",
        "    \"The Green Bay Packers are a beloved team in the NFL.\",\n",
        "    \"The Republican candidate for president is a vocal critic of the Iran nuclear deal.\",\n",
        "    \"The Boston Red Sox are a storied franchise in Major League Baseball.\",\n",
        "    \"The Democratic Party is pushing for healthcare reform.\",\n",
        "    \"The Republican Party is expected to maintain control of the Senate.\",\n",
        "    \"The New York Yankees are a storied franchise in Major League Baseball.\",\n",
        "    \"The Democratic nominee for president is a strong advocate for environmental protection.\",\n",
        "    \"The Chicago Cubs are a storied franchise in Major League Baseball.\",\n",
        "    \"The Republican candidate for president is a vocal supporter of the death penalty.\",\n",
        "    \"The Los Angeles Lakers are a storied franchise in the NBA.\",\n",
        "    \"The Democratic Party is divided on the issue of immigration reform.\",\n",
        "    \"The Green Bay Packers are a beloved team in the NFL.\",\n",
        "    \"The Republican Party is expected to maintain control of the House of Representatives.\",\n",
        "    \"The Boston Celtics are a storied franchise in the NBA.\",\n",
        "    \"The Democratic nominee for president is a strong advocate for education reform.\",\n",
        "    \"The Chicago Bears are a storied franchise in the NFL.\"]\n",
        "```\n",
        "\n",
        "## Install streamlit"
      ]
    },
    {
      "cell_type": "code",
      "execution_count": 8,
      "metadata": {
        "colab": {
          "base_uri": "https://localhost:8080/"
        },
        "id": "y_vb_88T4W6X",
        "outputId": "e283e99d-29da-484d-d04b-de670fe0e324"
      },
      "outputs": [],
      "source": [
        "\n",
        "# !pip install streamlit\n",
        "# !pip install WordCloud"
      ]
    },
    {
      "cell_type": "markdown",
      "metadata": {
        "id": "DBeUVoyZRwLQ"
      },
      "source": [
        "## Word Cloud Generator"
      ]
    },
    {
      "cell_type": "code",
      "execution_count": 9,
      "metadata": {
        "colab": {
          "base_uri": "https://localhost:8080/"
        },
        "id": "VevlpsyfSkOc",
        "outputId": "d504d3a3-5361-4b40-de71-95c49f26a8a7"
      },
      "outputs": [],
      "source": [
        "import streamlit as st\n",
        "from wordcloud import WordCloud\n",
        "import matplotlib.pyplot as plt\n",
        "\n",
        "# Title of the app\n",
        "st.title(\"Word Cloud Generator\")\n",
        "\n",
        "# Input text\n",
        "st.sidebar.header(\"Word Cloud Settings\")\n",
        "input_text = st.sidebar.text_area(\n",
        "    \"Enter text to generate the word cloud:\",\n",
        "    \"Streamlit is an awesome tool for building data apps quickly!\"\n",
        ")\n"
      ]
    },
    {
      "cell_type": "markdown",
      "metadata": {
        "id": "iKb-uSReUty8"
      },
      "source": [
        "## Set a Background color\n",
        "\n",
        "st refers to the streamlit instance. You can set the background color."
      ]
    },
    {
      "cell_type": "code",
      "execution_count": 10,
      "metadata": {
        "id": "iNMMe1tvUuX6"
      },
      "outputs": [],
      "source": [
        "background_color = st.sidebar.color_picker(\"Pick a background color:\", \"#ffffff\")"
      ]
    },
    {
      "cell_type": "markdown",
      "metadata": {
        "id": "CHv7WTnRU9f_"
      },
      "source": [
        "## Create a Slider"
      ]
    },
    {
      "cell_type": "code",
      "execution_count": 11,
      "metadata": {
        "id": "pZ2WYyHkU_aL"
      },
      "outputs": [],
      "source": [
        "max_words = st.sidebar.slider(\"Maximum number of words:\", min_value=10, max_value=200, value=100, step=10)"
      ]
    },
    {
      "cell_type": "markdown",
      "metadata": {
        "id": "qw7Z4bILVFHk"
      },
      "source": [
        "## Generate Word Cloud"
      ]
    },
    {
      "cell_type": "code",
      "execution_count": 12,
      "metadata": {
        "colab": {
          "base_uri": "https://localhost:8080/"
        },
        "id": "bqYdW9szVCxI",
        "outputId": "008141ce-71b8-4e14-fe1f-831ca83dcb6d"
      },
      "outputs": [],
      "source": [
        "if st.sidebar.button(\"Generate Word Cloud\"):\n",
        "    wordcloud = WordCloud(\n",
        "        background_color=background_color,\n",
        "        max_words=max_words,\n",
        "        width=800,\n",
        "        height=400\n",
        "    ).generate(input_text)\n",
        "\n",
        "    # Display the Word Cloud\n",
        "    fig, ax = plt.subplots()\n",
        "    ax.imshow(wordcloud, interpolation='bilinear')\n",
        "    ax.axis(\"off\")\n",
        "    st.pyplot(fig)\n",
        "else:\n",
        "    st.write(\"Use the sidebar to configure and generate your word cloud!\")"
      ]
    },
    {
      "cell_type": "markdown",
      "metadata": {
        "id": "WPNx2OYwVP1P"
      },
      "source": [
        "## Overwrite the App File which Streamlit Uses"
      ]
    },
    {
      "cell_type": "code",
      "execution_count": 13,
      "metadata": {
        "colab": {
          "base_uri": "https://localhost:8080/"
        },
        "id": "TuqD4R_RVTW0",
        "outputId": "76b8ef72-59d5-443e-901b-d3fc1497aeb9"
      },
      "outputs": [
        {
          "name": "stdout",
          "output_type": "stream",
          "text": [
            "Writing app.py\n"
          ]
        }
      ],
      "source": [
        "%%writefile app.py\n",
        "import streamlit as st\n",
        "from wordcloud import WordCloud\n",
        "import matplotlib.pyplot as plt\n",
        "\n",
        "# Title of the app\n",
        "st.title(\"Word Cloud Generator\")\n",
        "\n",
        "# Input text\n",
        "st.sidebar.header(\"Word Cloud Settings\")\n",
        "input_text = st.sidebar.text_area(\n",
        "    \"Enter text to generate the word cloud:\",\n",
        "    \"Streamlit is an awesome tool for building data apps quickly!\"\n",
        ")\n",
        "\n",
        "background_color = st.sidebar.color_picker(\"Pick a background color:\", \"#ffffff\")\n",
        "max_words = st.sidebar.slider(\"Maximum number of words:\", min_value=10, max_value=200, value=100, step=10)\n",
        "\n",
        "if st.sidebar.button(\"Generate Word Cloud\"):\n",
        "    wordcloud = WordCloud(\n",
        "        background_color=background_color,\n",
        "        max_words=max_words,\n",
        "        width=800,\n",
        "        height=400\n",
        "    ).generate(input_text)\n",
        "\n",
        "    # Display the Word Cloud\n",
        "    fig, ax = plt.subplots()\n",
        "    ax.imshow(wordcloud, interpolation='bilinear')\n",
        "    ax.axis(\"off\")\n",
        "    st.pyplot(fig)\n",
        "else:\n",
        "    st.write(\"Use the sidebar to configure and generate your word cloud!\")"
      ]
    },
    {
      "cell_type": "markdown",
      "metadata": {
        "id": "S-tskEqXVjjG"
      },
      "source": [
        "## Running on Colab\n",
        "\n",
        "Running on local is easy but we need to create a hosting address. This can be done with localtunnel and npx module."
      ]
    },
    {
      "cell_type": "code",
      "execution_count": 14,
      "metadata": {
        "colab": {
          "base_uri": "https://localhost:8080/"
        },
        "id": "NPSAmlyFTHMS",
        "outputId": "01ed88e7-8c5b-4d30-8942-b2a56f391343"
      },
      "outputs": [
        {
          "name": "stdout",
          "output_type": "stream",
          "text": [
            "Prepended http:// to 'ipv4.icanhazip.com'\n",
            "172.58.210.204\n"
          ]
        }
      ],
      "source": [
        "!wget -q -O - ipv4.icanhazip.com"
      ]
    },
    {
      "cell_type": "code",
      "execution_count": 15,
      "metadata": {
        "colab": {
          "base_uri": "https://localhost:8080/"
        },
        "id": "mE7u51XeSu4l",
        "outputId": "49acdf97-aac7-459e-87ca-e68f641a827c"
      },
      "outputs": [
        {
          "name": "stdout",
          "output_type": "stream",
          "text": [
            "your url is: https://light-geese-walk.loca.lt\n",
            "\u001b[0m\n",
            "\u001b[34m\u001b[1m  You can now view your Streamlit app in your browser.\u001b[0m\n",
            "\u001b[0m\n",
            "\u001b[34m  Local URL: \u001b[0m\u001b[1mhttp://localhost:8501\u001b[0m\n",
            "\u001b[34m  Network URL: \u001b[0m\u001b[1mhttp://192.168.12.64:8501\u001b[0m\n",
            "\u001b[0m\n",
            "^C\n",
            "\u001b[34m  Stopping...\u001b[0m\n"
          ]
        }
      ],
      "source": [
        "!streamlit run app.py & npx localtunnel --port 8501\n"
      ]
    },
    {
      "cell_type": "markdown",
      "metadata": {
        "id": "7-Owp36iV1iV"
      },
      "source": [
        "## Exercise\n",
        "\n",
        "Change the width and height of the word cloud with side bars."
      ]
    }
  ],
  "metadata": {
    "colab": {
      "provenance": []
    },
    "kernelspec": {
      "display_name": "Python 3",
      "name": "python3"
    },
    "language_info": {
      "codemirror_mode": {
        "name": "ipython",
        "version": 3
      },
      "file_extension": ".py",
      "mimetype": "text/x-python",
      "name": "python",
      "nbconvert_exporter": "python",
      "pygments_lexer": "ipython3",
      "version": "3.11.7"
    }
  },
  "nbformat": 4,
  "nbformat_minor": 0
}
